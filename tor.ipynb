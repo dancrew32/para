{
 "cells": [
  {
   "cell_type": "code",
   "execution_count": 1,
   "metadata": {},
   "outputs": [],
   "source": [
    "import requests\n",
    "import para\n",
    "\n",
    "# sudo apt-get install tor\n",
    "# sudo service tor start\n",
    "\n",
    "def handle(url):\n",
    "    if url.startswith('//'):\n",
    "        url = f'https{url}'\n",
    "    if url.startswith('/'):\n",
    "        return []\n",
    "    session = requests.session()\n",
    "    session.cookies.clear()\n",
    "    session.proxies = {}\n",
    "    headers = {'user-agent': 'HotJava/1.1.2 FCS'}\n",
    "    session.proxies['http'] = 'socks5h://localhost:9050'\n",
    "    session.proxies['https'] = 'socks5h://localhost:9050'\n",
    "    print(url)\n",
    "    r = session.get(url, headers=headers, verify=False, timeout=5, allow_redirects=False)\n",
    "    import re\n",
    "    urls = re.findall(r'href=\"(.*?)\"', r.content.decode('utf-8'))\n",
    "    return urls"
   ]
  },
  {
   "cell_type": "code",
   "execution_count": 3,
   "metadata": {},
   "outputs": [
    {
     "name": "stdout",
     "output_type": "stream",
     "text": [
      "https://nextdoor.com\n",
      "https://nextdoor.com\n",
      "https://nextdoor.com\n",
      "https://nextdoor.com\n",
      "https://nextdoor.com\n",
      "https://nextdoor.com\n",
      "https://nextdoor.com\n",
      "https://nextdoor.com\n",
      "https://nextdoor.comhttps://nextdoor.com\n",
      "\n",
      "https://nextdoor.com\n",
      "https://nextdoor.com\n",
      "https://nextdoor.com\n",
      "https://nextdoor.com\n",
      "https://nextdoor.comhttps://nextdoor.com\n",
      "https://nextdoor.com\n",
      "\n",
      "https://nextdoor.comhttps://nextdoor.com\n",
      "https://nextdoor.comhttps://nextdoor.com\n",
      "\n",
      "https://nextdoor.com\n",
      "https://nextdoor.com\n",
      "\n",
      "https://nextdoor.com\n",
      "https://nextdoor.com\n"
     ]
    },
    {
     "name": "stderr",
     "output_type": "stream",
     "text": [
      "/home/dan/src/para/venv/lib/python3.6/site-packages/urllib3/connectionpool.py:1004: InsecureRequestWarning: Unverified HTTPS request is being made. Adding certificate verification is strongly advised. See: https://urllib3.readthedocs.io/en/latest/advanced-usage.html#ssl-warnings\n",
      "  InsecureRequestWarning,\n",
      "/home/dan/src/para/venv/lib/python3.6/site-packages/urllib3/connectionpool.py:1004: InsecureRequestWarning: Unverified HTTPS request is being made. Adding certificate verification is strongly advised. See: https://urllib3.readthedocs.io/en/latest/advanced-usage.html#ssl-warnings\n",
      "  InsecureRequestWarning,\n",
      "/home/dan/src/para/venv/lib/python3.6/site-packages/urllib3/connectionpool.py:1004: InsecureRequestWarning: Unverified HTTPS request is being made. Adding certificate verification is strongly advised. See: https://urllib3.readthedocs.io/en/latest/advanced-usage.html#ssl-warnings\n",
      "  InsecureRequestWarning,\n",
      "/home/dan/src/para/venv/lib/python3.6/site-packages/urllib3/connectionpool.py:1004: InsecureRequestWarning: Unverified HTTPS request is being made. Adding certificate verification is strongly advised. See: https://urllib3.readthedocs.io/en/latest/advanced-usage.html#ssl-warnings\n",
      "  InsecureRequestWarning,\n",
      "/home/dan/src/para/venv/lib/python3.6/site-packages/urllib3/connectionpool.py:1004: InsecureRequestWarning: Unverified HTTPS request is being made. Adding certificate verification is strongly advised. See: https://urllib3.readthedocs.io/en/latest/advanced-usage.html#ssl-warnings\n",
      "  InsecureRequestWarning,\n",
      "/home/dan/src/para/venv/lib/python3.6/site-packages/urllib3/connectionpool.py:1004: InsecureRequestWarning: Unverified HTTPS request is being made. Adding certificate verification is strongly advised. See: https://urllib3.readthedocs.io/en/latest/advanced-usage.html#ssl-warnings\n",
      "  InsecureRequestWarning,\n",
      "/home/dan/src/para/venv/lib/python3.6/site-packages/urllib3/connectionpool.py:1004: InsecureRequestWarning: Unverified HTTPS request is being made. Adding certificate verification is strongly advised. See: https://urllib3.readthedocs.io/en/latest/advanced-usage.html#ssl-warnings\n",
      "  InsecureRequestWarning,\n",
      "/home/dan/src/para/venv/lib/python3.6/site-packages/urllib3/connectionpool.py:1004: InsecureRequestWarning: Unverified HTTPS request is being made. Adding certificate verification is strongly advised. See: https://urllib3.readthedocs.io/en/latest/advanced-usage.html#ssl-warnings\n",
      "  InsecureRequestWarning,\n",
      "/home/dan/src/para/venv/lib/python3.6/site-packages/urllib3/connectionpool.py:1004: InsecureRequestWarning: Unverified HTTPS request is being made. Adding certificate verification is strongly advised. See: https://urllib3.readthedocs.io/en/latest/advanced-usage.html#ssl-warnings\n",
      "  InsecureRequestWarning,\n",
      "/home/dan/src/para/venv/lib/python3.6/site-packages/urllib3/connectionpool.py:1004: InsecureRequestWarning: Unverified HTTPS request is being made. Adding certificate verification is strongly advised. See: https://urllib3.readthedocs.io/en/latest/advanced-usage.html#ssl-warnings\n",
      "  InsecureRequestWarning,\n",
      "/home/dan/src/para/venv/lib/python3.6/site-packages/urllib3/connectionpool.py:1004: InsecureRequestWarning: Unverified HTTPS request is being made. Adding certificate verification is strongly advised. See: https://urllib3.readthedocs.io/en/latest/advanced-usage.html#ssl-warnings\n",
      "  InsecureRequestWarning,\n",
      "/home/dan/src/para/venv/lib/python3.6/site-packages/urllib3/connectionpool.py:1004: InsecureRequestWarning: Unverified HTTPS request is being made. Adding certificate verification is strongly advised. See: https://urllib3.readthedocs.io/en/latest/advanced-usage.html#ssl-warnings\n",
      "  InsecureRequestWarning,\n",
      "/home/dan/src/para/venv/lib/python3.6/site-packages/urllib3/connectionpool.py:1004: InsecureRequestWarning: Unverified HTTPS request is being made. Adding certificate verification is strongly advised. See: https://urllib3.readthedocs.io/en/latest/advanced-usage.html#ssl-warnings\n",
      "  InsecureRequestWarning,\n",
      "/home/dan/src/para/venv/lib/python3.6/site-packages/urllib3/connectionpool.py:1004: InsecureRequestWarning: Unverified HTTPS request is being made. Adding certificate verification is strongly advised. See: https://urllib3.readthedocs.io/en/latest/advanced-usage.html#ssl-warnings\n",
      "  InsecureRequestWarning,\n",
      "/home/dan/src/para/venv/lib/python3.6/site-packages/urllib3/connectionpool.py:1004: InsecureRequestWarning: Unverified HTTPS request is being made. Adding certificate verification is strongly advised. See: https://urllib3.readthedocs.io/en/latest/advanced-usage.html#ssl-warnings\n",
      "  InsecureRequestWarning,\n",
      "/home/dan/src/para/venv/lib/python3.6/site-packages/urllib3/connectionpool.py:1004: InsecureRequestWarning: Unverified HTTPS request is being made. Adding certificate verification is strongly advised. See: https://urllib3.readthedocs.io/en/latest/advanced-usage.html#ssl-warnings\n",
      "  InsecureRequestWarning,\n",
      "/home/dan/src/para/venv/lib/python3.6/site-packages/urllib3/connectionpool.py:1004: InsecureRequestWarning: Unverified HTTPS request is being made. Adding certificate verification is strongly advised. See: https://urllib3.readthedocs.io/en/latest/advanced-usage.html#ssl-warnings\n",
      "  InsecureRequestWarning,\n",
      "/home/dan/src/para/venv/lib/python3.6/site-packages/urllib3/connectionpool.py:1004: InsecureRequestWarning: Unverified HTTPS request is being made. Adding certificate verification is strongly advised. See: https://urllib3.readthedocs.io/en/latest/advanced-usage.html#ssl-warnings\n",
      "  InsecureRequestWarning,\n",
      "/home/dan/src/para/venv/lib/python3.6/site-packages/urllib3/connectionpool.py:1004: InsecureRequestWarning: Unverified HTTPS request is being made. Adding certificate verification is strongly advised. See: https://urllib3.readthedocs.io/en/latest/advanced-usage.html#ssl-warnings\n",
      "  InsecureRequestWarning,\n",
      "/home/dan/src/para/venv/lib/python3.6/site-packages/urllib3/connectionpool.py:1004: InsecureRequestWarning: Unverified HTTPS request is being made. Adding certificate verification is strongly advised. See: https://urllib3.readthedocs.io/en/latest/advanced-usage.html#ssl-warnings\n",
      "  InsecureRequestWarning,\n",
      "/home/dan/src/para/venv/lib/python3.6/site-packages/urllib3/connectionpool.py:1004: InsecureRequestWarning: Unverified HTTPS request is being made. Adding certificate verification is strongly advised. See: https://urllib3.readthedocs.io/en/latest/advanced-usage.html#ssl-warnings\n",
      "  InsecureRequestWarning,\n",
      "/home/dan/src/para/venv/lib/python3.6/site-packages/urllib3/connectionpool.py:1004: InsecureRequestWarning: Unverified HTTPS request is being made. Adding certificate verification is strongly advised. See: https://urllib3.readthedocs.io/en/latest/advanced-usage.html#ssl-warnings\n",
      "  InsecureRequestWarning,\n",
      "/home/dan/src/para/venv/lib/python3.6/site-packages/urllib3/connectionpool.py:1004: InsecureRequestWarning: Unverified HTTPS request is being made. Adding certificate verification is strongly advised. See: https://urllib3.readthedocs.io/en/latest/advanced-usage.html#ssl-warnings\n",
      "  InsecureRequestWarning,\n",
      "/home/dan/src/para/venv/lib/python3.6/site-packages/urllib3/connectionpool.py:1004: InsecureRequestWarning: Unverified HTTPS request is being made. Adding certificate verification is strongly advised. See: https://urllib3.readthedocs.io/en/latest/advanced-usage.html#ssl-warnings\n",
      "  InsecureRequestWarning,\n",
      "/home/dan/src/para/venv/lib/python3.6/site-packages/urllib3/connectionpool.py:1004: InsecureRequestWarning: Unverified HTTPS request is being made. Adding certificate verification is strongly advised. See: https://urllib3.readthedocs.io/en/latest/advanced-usage.html#ssl-warnings\n",
      "  InsecureRequestWarning,\n"
     ]
    },
    {
     "name": "stdout",
     "output_type": "stream",
     "text": [
      "https://nextdoor.com['https://nextdoor.com/', 'https://nextdoor.com/', 'https://nextdoor.nl/', 'https://nextdoor.co.uk/', 'https://nextdoor.de/', 'https://fr.nextdoor.com/', 'https://it.nextdoor.com/', 'https://es.nextdoor.com/', 'https://au.nextdoor.com/', 'https://dk.nextdoor.com/', 'https://se.nextdoor.com/', 'https://ca.nextdoor.com/', 'https://ca.nextdoor.com/', 'https://d19rpgkrjeba2z.cloudfront.net/b9b651cc0b575574/static/nextdoorv2/images/favicons/favicon-v2.ico']\n",
      "\n",
      "https://nextdoor.com['https://nextdoor.com/', 'https://nextdoor.com/', 'https://nextdoor.nl/', 'https://nextdoor.co.uk/', 'https://nextdoor.de/', 'https://fr.nextdoor.com/', 'https://it.nextdoor.com/', 'https://es.nextdoor.com/', 'https://au.nextdoor.com/', 'https://dk.nextdoor.com/', 'https://se.nextdoor.com/', 'https://ca.nextdoor.com/', 'https://ca.nextdoor.com/', 'https://d19rpgkrjeba2z.cloudfront.net/b9b651cc0b575574/static/nextdoorv2/images/favicons/favicon-v2.ico']\n",
      "\n",
      "https://nextdoor.com\n",
      "['https://nextdoor.com/', 'https://nextdoor.com/', 'https://nextdoor.nl/', 'https://nextdoor.co.uk/', 'https://nextdoor.de/', 'https://fr.nextdoor.com/', 'https://it.nextdoor.com/', 'https://es.nextdoor.com/', 'https://au.nextdoor.com/', 'https://dk.nextdoor.com/', 'https://se.nextdoor.com/', 'https://ca.nextdoor.com/', 'https://ca.nextdoor.com/', 'https://d19rpgkrjeba2z.cloudfront.net/b9b651cc0b575574/static/nextdoorv2/images/favicons/favicon-v2.ico']https://nextdoor.com\n",
      "\n",
      "['https://nextdoor.com/', 'https://nextdoor.com/', 'https://nextdoor.nl/', 'https://nextdoor.co.uk/', 'https://nextdoor.de/', 'https://fr.nextdoor.com/', 'https://it.nextdoor.com/', 'https://es.nextdoor.com/', 'https://au.nextdoor.com/', 'https://dk.nextdoor.com/', 'https://se.nextdoor.com/', 'https://ca.nextdoor.com/', 'https://ca.nextdoor.com/', 'https://d19rpgkrjeba2z.cloudfront.net/b9b651cc0b575574/static/nextdoorv2/images/favicons/favicon-v2.ico']\n",
      "https://nextdoor.com['https://nextdoor.com/', 'https://nextdoor.com/', 'https://nextdoor.nl/', 'https://nextdoor.co.uk/', 'https://nextdoor.de/', 'https://fr.nextdoor.com/', 'https://it.nextdoor.com/', 'https://es.nextdoor.com/', 'https://au.nextdoor.com/', 'https://dk.nextdoor.com/', 'https://se.nextdoor.com/', 'https://ca.nextdoor.com/', 'https://ca.nextdoor.com/', 'https://d19rpgkrjeba2z.cloudfront.net/b9b651cc0b575574/static/nextdoorv2/images/favicons/favicon-v2.ico']\n",
      "\n",
      "https://nextdoor.com\n",
      "['https://nextdoor.com/', 'https://nextdoor.com/', 'https://nextdoor.nl/', 'https://nextdoor.co.uk/', 'https://nextdoor.de/', 'https://fr.nextdoor.com/', 'https://it.nextdoor.com/', 'https://es.nextdoor.com/', 'https://au.nextdoor.com/', 'https://dk.nextdoor.com/', 'https://se.nextdoor.com/', 'https://ca.nextdoor.com/', 'https://ca.nextdoor.com/', 'https://d19rpgkrjeba2z.cloudfront.net/b9b651cc0b575574/static/nextdoorv2/images/favicons/favicon-v2.ico']\n",
      "https://nextdoor.com['https://nextdoor.com/', 'https://nextdoor.com/', 'https://nextdoor.nl/', 'https://nextdoor.co.uk/', 'https://nextdoor.de/', 'https://fr.nextdoor.com/', 'https://it.nextdoor.com/', 'https://es.nextdoor.com/', 'https://au.nextdoor.com/', 'https://dk.nextdoor.com/', 'https://se.nextdoor.com/', 'https://ca.nextdoor.com/', 'https://ca.nextdoor.com/', 'https://d19rpgkrjeba2z.cloudfront.net/b9b651cc0b575574/static/nextdoorv2/images/favicons/favicon-v2.ico']\n",
      "\n",
      "https://nextdoor.com['https://nextdoor.com/', 'https://nextdoor.com/', 'https://nextdoor.nl/', 'https://nextdoor.co.uk/', 'https://nextdoor.de/', 'https://fr.nextdoor.com/', 'https://it.nextdoor.com/', 'https://es.nextdoor.com/', 'https://au.nextdoor.com/', 'https://dk.nextdoor.com/', 'https://se.nextdoor.com/', 'https://ca.nextdoor.com/', 'https://ca.nextdoor.com/', 'https://d19rpgkrjeba2z.cloudfront.net/b9b651cc0b575574/static/nextdoorv2/images/favicons/favicon-v2.ico']\n",
      "\n",
      "https://nextdoor.com['https://nextdoor.com/', 'https://nextdoor.com/', 'https://nextdoor.nl/', 'https://nextdoor.co.uk/', 'https://nextdoor.de/', 'https://fr.nextdoor.com/', 'https://it.nextdoor.com/', 'https://es.nextdoor.com/', 'https://au.nextdoor.com/', 'https://dk.nextdoor.com/', 'https://se.nextdoor.com/', 'https://ca.nextdoor.com/', 'https://ca.nextdoor.com/', 'https://d19rpgkrjeba2z.cloudfront.net/b9b651cc0b575574/static/nextdoorv2/images/favicons/favicon-v2.ico']\n",
      "\n",
      "https://nextdoor.com\n",
      "['https://nextdoor.com/', 'https://nextdoor.com/', 'https://nextdoor.nl/', 'https://nextdoor.co.uk/', 'https://nextdoor.de/', 'https://fr.nextdoor.com/', 'https://it.nextdoor.com/', 'https://es.nextdoor.com/', 'https://au.nextdoor.com/', 'https://dk.nextdoor.com/', 'https://se.nextdoor.com/', 'https://ca.nextdoor.com/', 'https://ca.nextdoor.com/', 'https://d19rpgkrjeba2z.cloudfront.net/b9b651cc0b575574/static/nextdoorv2/images/favicons/favicon-v2.ico']\n",
      "https://nextdoor.com['https://nextdoor.com/', 'https://nextdoor.com/', 'https://nextdoor.nl/', 'https://nextdoor.co.uk/', 'https://nextdoor.de/', 'https://fr.nextdoor.com/', 'https://it.nextdoor.com/', 'https://es.nextdoor.com/', 'https://au.nextdoor.com/', 'https://dk.nextdoor.com/', 'https://se.nextdoor.com/', 'https://ca.nextdoor.com/', 'https://ca.nextdoor.com/', 'https://d19rpgkrjeba2z.cloudfront.net/b9b651cc0b575574/static/nextdoorv2/images/favicons/favicon-v2.ico']\n",
      "\n",
      "https://nextdoor.com\n",
      "['https://nextdoor.com/', 'https://nextdoor.com/', 'https://nextdoor.nl/', 'https://nextdoor.co.uk/', 'https://nextdoor.de/', 'https://fr.nextdoor.com/', 'https://it.nextdoor.com/', 'https://es.nextdoor.com/', 'https://au.nextdoor.com/', 'https://dk.nextdoor.com/', 'https://se.nextdoor.com/', 'https://ca.nextdoor.com/', 'https://ca.nextdoor.com/', 'https://d19rpgkrjeba2z.cloudfront.net/b9b651cc0b575574/static/nextdoorv2/images/favicons/favicon-v2.ico']\n",
      "https://nextdoor.com\n",
      "['https://nextdoor.com/', 'https://nextdoor.com/', 'https://nextdoor.nl/', 'https://nextdoor.co.uk/', 'https://nextdoor.de/', 'https://fr.nextdoor.com/', 'https://it.nextdoor.com/', 'https://es.nextdoor.com/', 'https://au.nextdoor.com/', 'https://dk.nextdoor.com/', 'https://se.nextdoor.com/', 'https://ca.nextdoor.com/', 'https://ca.nextdoor.com/', 'https://d19rpgkrjeba2z.cloudfront.net/b9b651cc0b575574/static/nextdoorv2/images/favicons/favicon-v2.ico']https://nextdoor.com\n",
      "\n",
      "['https://nextdoor.com/', 'https://nextdoor.com/', 'https://nextdoor.nl/', 'https://nextdoor.co.uk/', 'https://nextdoor.de/', 'https://fr.nextdoor.com/', 'https://it.nextdoor.com/', 'https://es.nextdoor.com/', 'https://au.nextdoor.com/', 'https://dk.nextdoor.com/', 'https://se.nextdoor.com/', 'https://ca.nextdoor.com/', 'https://ca.nextdoor.com/', 'https://d19rpgkrjeba2z.cloudfront.net/b9b651cc0b575574/static/nextdoorv2/images/favicons/favicon-v2.ico']\n",
      "https://nextdoor.com['https://nextdoor.com/', 'https://nextdoor.com/', 'https://nextdoor.nl/', 'https://nextdoor.co.uk/', 'https://nextdoor.de/', 'https://fr.nextdoor.com/', 'https://it.nextdoor.com/', 'https://es.nextdoor.com/', 'https://au.nextdoor.com/', 'https://dk.nextdoor.com/', 'https://se.nextdoor.com/', 'https://ca.nextdoor.com/', 'https://ca.nextdoor.com/', 'https://d19rpgkrjeba2z.cloudfront.net/b9b651cc0b575574/static/nextdoorv2/images/favicons/favicon-v2.ico']\n",
      "\n",
      "https://nextdoor.com\n",
      "['https://nextdoor.com/', 'https://nextdoor.com/', 'https://nextdoor.nl/', 'https://nextdoor.co.uk/', 'https://nextdoor.de/', 'https://fr.nextdoor.com/', 'https://it.nextdoor.com/', 'https://es.nextdoor.com/', 'https://au.nextdoor.com/', 'https://dk.nextdoor.com/', 'https://se.nextdoor.com/', 'https://ca.nextdoor.com/', 'https://ca.nextdoor.com/', 'https://d19rpgkrjeba2z.cloudfront.net/b9b651cc0b575574/static/nextdoorv2/images/favicons/favicon-v2.ico']\n",
      "https://nextdoor.com['https://nextdoor.com/', 'https://nextdoor.com/', 'https://nextdoor.nl/', 'https://nextdoor.co.uk/', 'https://nextdoor.de/', 'https://fr.nextdoor.com/', 'https://it.nextdoor.com/', 'https://es.nextdoor.com/', 'https://au.nextdoor.com/', 'https://dk.nextdoor.com/', 'https://se.nextdoor.com/', 'https://ca.nextdoor.com/', 'https://ca.nextdoor.com/', 'https://d19rpgkrjeba2z.cloudfront.net/b9b651cc0b575574/static/nextdoorv2/images/favicons/favicon-v2.ico']\n",
      "\n",
      "https://nextdoor.com['https://nextdoor.com/', 'https://nextdoor.com/', 'https://nextdoor.nl/', 'https://nextdoor.co.uk/', 'https://nextdoor.de/', 'https://fr.nextdoor.com/', 'https://it.nextdoor.com/', 'https://es.nextdoor.com/', 'https://au.nextdoor.com/', 'https://dk.nextdoor.com/', 'https://se.nextdoor.com/', 'https://ca.nextdoor.com/', 'https://ca.nextdoor.com/', 'https://d19rpgkrjeba2z.cloudfront.net/b9b651cc0b575574/static/nextdoorv2/images/favicons/favicon-v2.ico']\n",
      "\n",
      "https://nextdoor.com['https://nextdoor.com/', 'https://nextdoor.com/', 'https://nextdoor.nl/', 'https://nextdoor.co.uk/', 'https://nextdoor.de/', 'https://fr.nextdoor.com/', 'https://it.nextdoor.com/', 'https://es.nextdoor.com/', 'https://au.nextdoor.com/', 'https://dk.nextdoor.com/', 'https://se.nextdoor.com/', 'https://ca.nextdoor.com/', 'https://ca.nextdoor.com/', 'https://d19rpgkrjeba2z.cloudfront.net/b9b651cc0b575574/static/nextdoorv2/images/favicons/favicon-v2.ico']\n",
      "\n",
      "https://nextdoor.com\n",
      "['https://nextdoor.com/', 'https://nextdoor.com/', 'https://nextdoor.nl/', 'https://nextdoor.co.uk/', 'https://nextdoor.de/', 'https://fr.nextdoor.com/', 'https://it.nextdoor.com/', 'https://es.nextdoor.com/', 'https://au.nextdoor.com/', 'https://dk.nextdoor.com/', 'https://se.nextdoor.com/', 'https://ca.nextdoor.com/', 'https://ca.nextdoor.com/', 'https://d19rpgkrjeba2z.cloudfront.net/b9b651cc0b575574/static/nextdoorv2/images/favicons/favicon-v2.ico']\n",
      "https://nextdoor.com['https://nextdoor.com/', 'https://nextdoor.com/', 'https://nextdoor.nl/', 'https://nextdoor.co.uk/', 'https://nextdoor.de/', 'https://fr.nextdoor.com/', 'https://it.nextdoor.com/', 'https://es.nextdoor.com/', 'https://au.nextdoor.com/', 'https://dk.nextdoor.com/', 'https://se.nextdoor.com/', 'https://ca.nextdoor.com/', 'https://ca.nextdoor.com/', 'https://d19rpgkrjeba2z.cloudfront.net/b9b651cc0b575574/static/nextdoorv2/images/favicons/favicon-v2.ico']\n",
      "\n",
      "https://nextdoor.com\n",
      "['https://nextdoor.com/', 'https://nextdoor.com/', 'https://nextdoor.nl/', 'https://nextdoor.co.uk/', 'https://nextdoor.de/', 'https://fr.nextdoor.com/', 'https://it.nextdoor.com/', 'https://es.nextdoor.com/', 'https://au.nextdoor.com/', 'https://dk.nextdoor.com/', 'https://se.nextdoor.com/', 'https://ca.nextdoor.com/', 'https://ca.nextdoor.com/', 'https://d19rpgkrjeba2z.cloudfront.net/b9b651cc0b575574/static/nextdoorv2/images/favicons/favicon-v2.ico']\n",
      "https://nextdoor.com['https://nextdoor.com/', 'https://nextdoor.com/', 'https://nextdoor.nl/', 'https://nextdoor.co.uk/', 'https://nextdoor.de/', 'https://fr.nextdoor.com/', 'https://it.nextdoor.com/', 'https://es.nextdoor.com/', 'https://au.nextdoor.com/', 'https://dk.nextdoor.com/', 'https://se.nextdoor.com/', 'https://ca.nextdoor.com/', 'https://ca.nextdoor.com/', 'https://d19rpgkrjeba2z.cloudfront.net/b9b651cc0b575574/static/nextdoorv2/images/favicons/favicon-v2.ico']\n",
      "\n",
      "https://nextdoor.com['https://nextdoor.com/', 'https://nextdoor.com/', 'https://nextdoor.nl/', 'https://nextdoor.co.uk/', 'https://nextdoor.de/', 'https://fr.nextdoor.com/', 'https://it.nextdoor.com/', 'https://es.nextdoor.com/', 'https://au.nextdoor.com/', 'https://dk.nextdoor.com/', 'https://se.nextdoor.com/', 'https://ca.nextdoor.com/', 'https://ca.nextdoor.com/', 'https://d19rpgkrjeba2z.cloudfront.net/b9b651cc0b575574/static/nextdoorv2/images/favicons/favicon-v2.ico']\n",
      "\n",
      "https://nextdoor.com['https://nextdoor.com/', 'https://nextdoor.com/', 'https://nextdoor.nl/', 'https://nextdoor.co.uk/', 'https://nextdoor.de/', 'https://fr.nextdoor.com/', 'https://it.nextdoor.com/', 'https://es.nextdoor.com/', 'https://au.nextdoor.com/', 'https://dk.nextdoor.com/', 'https://se.nextdoor.com/', 'https://ca.nextdoor.com/', 'https://ca.nextdoor.com/', 'https://d19rpgkrjeba2z.cloudfront.net/b9b651cc0b575574/static/nextdoorv2/images/favicons/favicon-v2.ico']\n",
      "\n"
     ]
    },
    {
     "name": "stderr",
     "output_type": "stream",
     "text": [
      "/home/dan/src/para/venv/lib/python3.6/site-packages/urllib3/connectionpool.py:1004: InsecureRequestWarning: Unverified HTTPS request is being made. Adding certificate verification is strongly advised. See: https://urllib3.readthedocs.io/en/latest/advanced-usage.html#ssl-warnings\n",
      "  InsecureRequestWarning,\n",
      "/home/dan/src/para/venv/lib/python3.6/site-packages/urllib3/connectionpool.py:1004: InsecureRequestWarning: Unverified HTTPS request is being made. Adding certificate verification is strongly advised. See: https://urllib3.readthedocs.io/en/latest/advanced-usage.html#ssl-warnings\n",
      "  InsecureRequestWarning,\n",
      "/home/dan/src/para/venv/lib/python3.6/site-packages/urllib3/connectionpool.py:1004: InsecureRequestWarning: Unverified HTTPS request is being made. Adding certificate verification is strongly advised. See: https://urllib3.readthedocs.io/en/latest/advanced-usage.html#ssl-warnings\n",
      "  InsecureRequestWarning,\n",
      "/home/dan/src/para/venv/lib/python3.6/site-packages/urllib3/connectionpool.py:1004: InsecureRequestWarning: Unverified HTTPS request is being made. Adding certificate verification is strongly advised. See: https://urllib3.readthedocs.io/en/latest/advanced-usage.html#ssl-warnings\n",
      "  InsecureRequestWarning,\n",
      "/home/dan/src/para/venv/lib/python3.6/site-packages/urllib3/connectionpool.py:1004: InsecureRequestWarning: Unverified HTTPS request is being made. Adding certificate verification is strongly advised. See: https://urllib3.readthedocs.io/en/latest/advanced-usage.html#ssl-warnings\n",
      "  InsecureRequestWarning,\n",
      "/home/dan/src/para/venv/lib/python3.6/site-packages/urllib3/connectionpool.py:1004: InsecureRequestWarning: Unverified HTTPS request is being made. Adding certificate verification is strongly advised. See: https://urllib3.readthedocs.io/en/latest/advanced-usage.html#ssl-warnings\n",
      "  InsecureRequestWarning,\n",
      "/home/dan/src/para/venv/lib/python3.6/site-packages/urllib3/connectionpool.py:1004: InsecureRequestWarning: Unverified HTTPS request is being made. Adding certificate verification is strongly advised. See: https://urllib3.readthedocs.io/en/latest/advanced-usage.html#ssl-warnings\n",
      "  InsecureRequestWarning,\n",
      "/home/dan/src/para/venv/lib/python3.6/site-packages/urllib3/connectionpool.py:1004: InsecureRequestWarning: Unverified HTTPS request is being made. Adding certificate verification is strongly advised. See: https://urllib3.readthedocs.io/en/latest/advanced-usage.html#ssl-warnings\n",
      "  InsecureRequestWarning,\n",
      "/home/dan/src/para/venv/lib/python3.6/site-packages/urllib3/connectionpool.py:1004: InsecureRequestWarning: Unverified HTTPS request is being made. Adding certificate verification is strongly advised. See: https://urllib3.readthedocs.io/en/latest/advanced-usage.html#ssl-warnings\n",
      "  InsecureRequestWarning,\n",
      "/home/dan/src/para/venv/lib/python3.6/site-packages/urllib3/connectionpool.py:1004: InsecureRequestWarning: Unverified HTTPS request is being made. Adding certificate verification is strongly advised. See: https://urllib3.readthedocs.io/en/latest/advanced-usage.html#ssl-warnings\n",
      "  InsecureRequestWarning,\n",
      "/home/dan/src/para/venv/lib/python3.6/site-packages/urllib3/connectionpool.py:1004: InsecureRequestWarning: Unverified HTTPS request is being made. Adding certificate verification is strongly advised. See: https://urllib3.readthedocs.io/en/latest/advanced-usage.html#ssl-warnings\n",
      "  InsecureRequestWarning,\n",
      "/home/dan/src/para/venv/lib/python3.6/site-packages/urllib3/connectionpool.py:1004: InsecureRequestWarning: Unverified HTTPS request is being made. Adding certificate verification is strongly advised. See: https://urllib3.readthedocs.io/en/latest/advanced-usage.html#ssl-warnings\n",
      "  InsecureRequestWarning,\n",
      "/home/dan/src/para/venv/lib/python3.6/site-packages/urllib3/connectionpool.py:1004: InsecureRequestWarning: Unverified HTTPS request is being made. Adding certificate verification is strongly advised. See: https://urllib3.readthedocs.io/en/latest/advanced-usage.html#ssl-warnings\n",
      "  InsecureRequestWarning,\n",
      "/home/dan/src/para/venv/lib/python3.6/site-packages/urllib3/connectionpool.py:1004: InsecureRequestWarning: Unverified HTTPS request is being made. Adding certificate verification is strongly advised. See: https://urllib3.readthedocs.io/en/latest/advanced-usage.html#ssl-warnings\n",
      "  InsecureRequestWarning,\n",
      "/home/dan/src/para/venv/lib/python3.6/site-packages/urllib3/connectionpool.py:1004: InsecureRequestWarning: Unverified HTTPS request is being made. Adding certificate verification is strongly advised. See: https://urllib3.readthedocs.io/en/latest/advanced-usage.html#ssl-warnings\n",
      "  InsecureRequestWarning,\n",
      "/home/dan/src/para/venv/lib/python3.6/site-packages/urllib3/connectionpool.py:1004: InsecureRequestWarning: Unverified HTTPS request is being made. Adding certificate verification is strongly advised. See: https://urllib3.readthedocs.io/en/latest/advanced-usage.html#ssl-warnings\n",
      "  InsecureRequestWarning,\n",
      "/home/dan/src/para/venv/lib/python3.6/site-packages/urllib3/connectionpool.py:1004: InsecureRequestWarning: Unverified HTTPS request is being made. Adding certificate verification is strongly advised. See: https://urllib3.readthedocs.io/en/latest/advanced-usage.html#ssl-warnings\n",
      "  InsecureRequestWarning,\n",
      "/home/dan/src/para/venv/lib/python3.6/site-packages/urllib3/connectionpool.py:1004: InsecureRequestWarning: Unverified HTTPS request is being made. Adding certificate verification is strongly advised. See: https://urllib3.readthedocs.io/en/latest/advanced-usage.html#ssl-warnings\n",
      "  InsecureRequestWarning,\n",
      "/home/dan/src/para/venv/lib/python3.6/site-packages/urllib3/connectionpool.py:1004: InsecureRequestWarning: Unverified HTTPS request is being made. Adding certificate verification is strongly advised. See: https://urllib3.readthedocs.io/en/latest/advanced-usage.html#ssl-warnings\n",
      "  InsecureRequestWarning,\n",
      "/home/dan/src/para/venv/lib/python3.6/site-packages/urllib3/connectionpool.py:1004: InsecureRequestWarning: Unverified HTTPS request is being made. Adding certificate verification is strongly advised. See: https://urllib3.readthedocs.io/en/latest/advanced-usage.html#ssl-warnings\n",
      "  InsecureRequestWarning,\n",
      "/home/dan/src/para/venv/lib/python3.6/site-packages/urllib3/connectionpool.py:1004: InsecureRequestWarning: Unverified HTTPS request is being made. Adding certificate verification is strongly advised. See: https://urllib3.readthedocs.io/en/latest/advanced-usage.html#ssl-warnings\n",
      "  InsecureRequestWarning,\n",
      "/home/dan/src/para/venv/lib/python3.6/site-packages/urllib3/connectionpool.py:1004: InsecureRequestWarning: Unverified HTTPS request is being made. Adding certificate verification is strongly advised. See: https://urllib3.readthedocs.io/en/latest/advanced-usage.html#ssl-warnings\n",
      "  InsecureRequestWarning,\n",
      "/home/dan/src/para/venv/lib/python3.6/site-packages/urllib3/connectionpool.py:1004: InsecureRequestWarning: Unverified HTTPS request is being made. Adding certificate verification is strongly advised. See: https://urllib3.readthedocs.io/en/latest/advanced-usage.html#ssl-warnings\n",
      "  InsecureRequestWarning,\n"
     ]
    },
    {
     "name": "stdout",
     "output_type": "stream",
     "text": [
      "https://nextdoor.com['https://nextdoor.com/', 'https://nextdoor.com/', 'https://nextdoor.nl/', 'https://nextdoor.co.uk/', 'https://nextdoor.de/', 'https://fr.nextdoor.com/', 'https://it.nextdoor.com/', 'https://es.nextdoor.com/', 'https://au.nextdoor.com/', 'https://dk.nextdoor.com/', 'https://se.nextdoor.com/', 'https://ca.nextdoor.com/', 'https://ca.nextdoor.com/', 'https://d19rpgkrjeba2z.cloudfront.net/b9b651cc0b575574/static/nextdoorv2/images/favicons/favicon-v2.ico']\n",
      "\n",
      "https://nextdoor.com\n",
      "['https://nextdoor.com/', 'https://nextdoor.com/', 'https://nextdoor.nl/', 'https://nextdoor.co.uk/', 'https://nextdoor.de/', 'https://fr.nextdoor.com/', 'https://it.nextdoor.com/', 'https://es.nextdoor.com/', 'https://au.nextdoor.com/', 'https://dk.nextdoor.com/', 'https://se.nextdoor.com/', 'https://ca.nextdoor.com/', 'https://ca.nextdoor.com/', 'https://d19rpgkrjeba2z.cloudfront.net/b9b651cc0b575574/static/nextdoorv2/images/favicons/favicon-v2.ico']\n",
      "https://nextdoor.com['https://nextdoor.com/', 'https://nextdoor.com/', 'https://nextdoor.nl/', 'https://nextdoor.co.uk/', 'https://nextdoor.de/', 'https://fr.nextdoor.com/', 'https://it.nextdoor.com/', 'https://es.nextdoor.com/', 'https://au.nextdoor.com/', 'https://dk.nextdoor.com/', 'https://se.nextdoor.com/', 'https://ca.nextdoor.com/', 'https://ca.nextdoor.com/', 'https://d19rpgkrjeba2z.cloudfront.net/b9b651cc0b575574/static/nextdoorv2/images/favicons/favicon-v2.ico']\n",
      "\n",
      "https://nextdoor.com\n",
      "['https://nextdoor.com/', 'https://nextdoor.com/', 'https://nextdoor.nl/', 'https://nextdoor.co.uk/', 'https://nextdoor.de/', 'https://fr.nextdoor.com/', 'https://it.nextdoor.com/', 'https://es.nextdoor.com/', 'https://au.nextdoor.com/', 'https://dk.nextdoor.com/', 'https://se.nextdoor.com/', 'https://ca.nextdoor.com/', 'https://ca.nextdoor.com/', 'https://d19rpgkrjeba2z.cloudfront.net/b9b651cc0b575574/static/nextdoorv2/images/favicons/favicon-v2.ico']\n"
     ]
    },
    {
     "name": "stderr",
     "output_type": "stream",
     "text": [
      "/home/dan/src/para/venv/lib/python3.6/site-packages/urllib3/connectionpool.py:1004: InsecureRequestWarning: Unverified HTTPS request is being made. Adding certificate verification is strongly advised. See: https://urllib3.readthedocs.io/en/latest/advanced-usage.html#ssl-warnings\n",
      "  InsecureRequestWarning,\n",
      "/home/dan/src/para/venv/lib/python3.6/site-packages/urllib3/connectionpool.py:1004: InsecureRequestWarning: Unverified HTTPS request is being made. Adding certificate verification is strongly advised. See: https://urllib3.readthedocs.io/en/latest/advanced-usage.html#ssl-warnings\n",
      "  InsecureRequestWarning,\n"
     ]
    },
    {
     "name": "stdout",
     "output_type": "stream",
     "text": [
      "https://nextdoor.com['https://nextdoor.com/', 'https://nextdoor.com/', 'https://nextdoor.nl/', 'https://nextdoor.co.uk/', 'https://nextdoor.de/', 'https://fr.nextdoor.com/', 'https://it.nextdoor.com/', 'https://es.nextdoor.com/', 'https://au.nextdoor.com/', 'https://dk.nextdoor.com/', 'https://se.nextdoor.com/', 'https://ca.nextdoor.com/', 'https://ca.nextdoor.com/', 'https://d19rpgkrjeba2z.cloudfront.net/b9b651cc0b575574/static/nextdoorv2/images/favicons/favicon-v2.ico']\n",
      "\n",
      "https://nextdoor.com\n",
      "['https://nextdoor.com/', 'https://nextdoor.com/', 'https://nextdoor.nl/', 'https://nextdoor.co.uk/', 'https://nextdoor.de/', 'https://fr.nextdoor.com/', 'https://it.nextdoor.com/', 'https://es.nextdoor.com/', 'https://au.nextdoor.com/', 'https://dk.nextdoor.com/', 'https://se.nextdoor.com/', 'https://ca.nextdoor.com/', 'https://ca.nextdoor.com/', 'https://d19rpgkrjeba2z.cloudfront.net/b9b651cc0b575574/static/nextdoorv2/images/favicons/favicon-v2.ico']\n",
      "https://nextdoor.com['https://nextdoor.com/', 'https://nextdoor.com/', 'https://nextdoor.nl/', 'https://nextdoor.co.uk/', 'https://nextdoor.de/', 'https://fr.nextdoor.com/', 'https://it.nextdoor.com/', 'https://es.nextdoor.com/', 'https://au.nextdoor.com/', 'https://dk.nextdoor.com/', 'https://se.nextdoor.com/', 'https://ca.nextdoor.com/', 'https://ca.nextdoor.com/', 'https://d19rpgkrjeba2z.cloudfront.net/b9b651cc0b575574/static/nextdoorv2/images/favicons/favicon-v2.ico']\n",
      "\n",
      "https://nextdoor.com\n",
      "['https://nextdoor.com/', 'https://nextdoor.com/', 'https://nextdoor.nl/', 'https://nextdoor.co.uk/', 'https://nextdoor.de/', 'https://fr.nextdoor.com/', 'https://it.nextdoor.com/', 'https://es.nextdoor.com/', 'https://au.nextdoor.com/', 'https://dk.nextdoor.com/', 'https://se.nextdoor.com/', 'https://ca.nextdoor.com/', 'https://ca.nextdoor.com/', 'https://d19rpgkrjeba2z.cloudfront.net/b9b651cc0b575574/static/nextdoorv2/images/favicons/favicon-v2.ico']\n",
      "https://nextdoor.com['https://nextdoor.com/', 'https://nextdoor.com/', 'https://nextdoor.nl/', 'https://nextdoor.co.uk/', 'https://nextdoor.de/', 'https://fr.nextdoor.com/', 'https://it.nextdoor.com/', 'https://es.nextdoor.com/', 'https://au.nextdoor.com/', 'https://dk.nextdoor.com/', 'https://se.nextdoor.com/', 'https://ca.nextdoor.com/', 'https://ca.nextdoor.com/', 'https://d19rpgkrjeba2z.cloudfront.net/b9b651cc0b575574/static/nextdoorv2/images/favicons/favicon-v2.ico']\n",
      "\n",
      "https://nextdoor.com['https://nextdoor.com/', 'https://nextdoor.com/', 'https://nextdoor.nl/', 'https://nextdoor.co.uk/', 'https://nextdoor.de/', 'https://fr.nextdoor.com/', 'https://it.nextdoor.com/', 'https://es.nextdoor.com/', 'https://au.nextdoor.com/', 'https://dk.nextdoor.com/', 'https://se.nextdoor.com/', 'https://ca.nextdoor.com/', 'https://ca.nextdoor.com/', 'https://d19rpgkrjeba2z.cloudfront.net/b9b651cc0b575574/static/nextdoorv2/images/favicons/favicon-v2.ico']\n",
      "\n",
      "https://nextdoor.com\n",
      "['https://nextdoor.com/', 'https://nextdoor.com/', 'https://nextdoor.nl/', 'https://nextdoor.co.uk/', 'https://nextdoor.de/', 'https://fr.nextdoor.com/', 'https://it.nextdoor.com/', 'https://es.nextdoor.com/', 'https://au.nextdoor.com/', 'https://dk.nextdoor.com/', 'https://se.nextdoor.com/', 'https://ca.nextdoor.com/', 'https://ca.nextdoor.com/', 'https://d19rpgkrjeba2z.cloudfront.net/b9b651cc0b575574/static/nextdoorv2/images/favicons/favicon-v2.ico']\n",
      "https://nextdoor.com['https://nextdoor.com/', 'https://nextdoor.com/', 'https://nextdoor.nl/', 'https://nextdoor.co.uk/', 'https://nextdoor.de/', 'https://fr.nextdoor.com/', 'https://it.nextdoor.com/', 'https://es.nextdoor.com/', 'https://au.nextdoor.com/', 'https://dk.nextdoor.com/', 'https://se.nextdoor.com/', 'https://ca.nextdoor.com/', 'https://ca.nextdoor.com/', 'https://d19rpgkrjeba2z.cloudfront.net/b9b651cc0b575574/static/nextdoorv2/images/favicons/favicon-v2.ico']\n",
      "\n",
      "https://nextdoor.com['https://nextdoor.com/', 'https://nextdoor.com/', 'https://nextdoor.nl/', 'https://nextdoor.co.uk/', 'https://nextdoor.de/', 'https://fr.nextdoor.com/', 'https://it.nextdoor.com/', 'https://es.nextdoor.com/', 'https://au.nextdoor.com/', 'https://dk.nextdoor.com/', 'https://se.nextdoor.com/', 'https://ca.nextdoor.com/', 'https://ca.nextdoor.com/', 'https://d19rpgkrjeba2z.cloudfront.net/b9b651cc0b575574/static/nextdoorv2/images/favicons/favicon-v2.ico']\n",
      "\n",
      "https://nextdoor.com['https://nextdoor.com/', 'https://nextdoor.com/', 'https://nextdoor.nl/', 'https://nextdoor.co.uk/', 'https://nextdoor.de/', 'https://fr.nextdoor.com/', 'https://it.nextdoor.com/', 'https://es.nextdoor.com/', 'https://au.nextdoor.com/', 'https://dk.nextdoor.com/', 'https://se.nextdoor.com/', 'https://ca.nextdoor.com/', 'https://ca.nextdoor.com/', 'https://d19rpgkrjeba2z.cloudfront.net/b9b651cc0b575574/static/nextdoorv2/images/favicons/favicon-v2.ico']\n",
      "\n",
      "https://nextdoor.com['https://nextdoor.com/', 'https://nextdoor.com/', 'https://nextdoor.nl/', 'https://nextdoor.co.uk/', 'https://nextdoor.de/', 'https://fr.nextdoor.com/', 'https://it.nextdoor.com/', 'https://es.nextdoor.com/', 'https://au.nextdoor.com/', 'https://dk.nextdoor.com/', 'https://se.nextdoor.com/', 'https://ca.nextdoor.com/', 'https://ca.nextdoor.com/', 'https://d19rpgkrjeba2z.cloudfront.net/b9b651cc0b575574/static/nextdoorv2/images/favicons/favicon-v2.ico']\n",
      "\n",
      "https://nextdoor.com['https://nextdoor.com/', 'https://nextdoor.com/', 'https://nextdoor.nl/', 'https://nextdoor.co.uk/', 'https://nextdoor.de/', 'https://fr.nextdoor.com/', 'https://it.nextdoor.com/', 'https://es.nextdoor.com/', 'https://au.nextdoor.com/', 'https://dk.nextdoor.com/', 'https://se.nextdoor.com/', 'https://ca.nextdoor.com/', 'https://ca.nextdoor.com/', 'https://d19rpgkrjeba2z.cloudfront.net/b9b651cc0b575574/static/nextdoorv2/images/favicons/favicon-v2.ico']\n",
      "\n",
      "https://nextdoor.com['https://nextdoor.com/', 'https://nextdoor.com/', 'https://nextdoor.nl/', 'https://nextdoor.co.uk/', 'https://nextdoor.de/', 'https://fr.nextdoor.com/', 'https://it.nextdoor.com/', 'https://es.nextdoor.com/', 'https://au.nextdoor.com/', 'https://dk.nextdoor.com/', 'https://se.nextdoor.com/', 'https://ca.nextdoor.com/', 'https://ca.nextdoor.com/', 'https://d19rpgkrjeba2z.cloudfront.net/b9b651cc0b575574/static/nextdoorv2/images/favicons/favicon-v2.ico']\n",
      "\n",
      "https://nextdoor.com['https://nextdoor.com/', 'https://nextdoor.com/', 'https://nextdoor.nl/', 'https://nextdoor.co.uk/', 'https://nextdoor.de/', 'https://fr.nextdoor.com/', 'https://it.nextdoor.com/', 'https://es.nextdoor.com/', 'https://au.nextdoor.com/', 'https://dk.nextdoor.com/', 'https://se.nextdoor.com/', 'https://ca.nextdoor.com/', 'https://ca.nextdoor.com/', 'https://d19rpgkrjeba2z.cloudfront.net/b9b651cc0b575574/static/nextdoorv2/images/favicons/favicon-v2.ico']\n",
      "\n",
      "https://nextdoor.com['https://nextdoor.com/', 'https://nextdoor.com/', 'https://nextdoor.nl/', 'https://nextdoor.co.uk/', 'https://nextdoor.de/', 'https://fr.nextdoor.com/', 'https://it.nextdoor.com/', 'https://es.nextdoor.com/', 'https://au.nextdoor.com/', 'https://dk.nextdoor.com/', 'https://se.nextdoor.com/', 'https://ca.nextdoor.com/', 'https://ca.nextdoor.com/', 'https://d19rpgkrjeba2z.cloudfront.net/b9b651cc0b575574/static/nextdoorv2/images/favicons/favicon-v2.ico']\n",
      "\n",
      "https://nextdoor.com\n",
      "['https://nextdoor.com/', 'https://nextdoor.com/', 'https://nextdoor.nl/', 'https://nextdoor.co.uk/', 'https://nextdoor.de/', 'https://fr.nextdoor.com/', 'https://it.nextdoor.com/', 'https://es.nextdoor.com/', 'https://au.nextdoor.com/', 'https://dk.nextdoor.com/', 'https://se.nextdoor.com/', 'https://ca.nextdoor.com/', 'https://ca.nextdoor.com/', 'https://d19rpgkrjeba2z.cloudfront.net/b9b651cc0b575574/static/nextdoorv2/images/favicons/favicon-v2.ico']\n",
      "https://nextdoor.com['https://nextdoor.com/', 'https://nextdoor.com/', 'https://nextdoor.nl/', 'https://nextdoor.co.uk/', 'https://nextdoor.de/', 'https://fr.nextdoor.com/', 'https://it.nextdoor.com/', 'https://es.nextdoor.com/', 'https://au.nextdoor.com/', 'https://dk.nextdoor.com/', 'https://se.nextdoor.com/', 'https://ca.nextdoor.com/', 'https://ca.nextdoor.com/', 'https://d19rpgkrjeba2z.cloudfront.net/b9b651cc0b575574/static/nextdoorv2/images/favicons/favicon-v2.ico']\n",
      "\n",
      "https://nextdoor.com['https://nextdoor.com/', 'https://nextdoor.com/', 'https://nextdoor.nl/', 'https://nextdoor.co.uk/', 'https://nextdoor.de/', 'https://fr.nextdoor.com/', 'https://it.nextdoor.com/', 'https://es.nextdoor.com/', 'https://au.nextdoor.com/', 'https://dk.nextdoor.com/', 'https://se.nextdoor.com/', 'https://ca.nextdoor.com/', 'https://ca.nextdoor.com/', 'https://d19rpgkrjeba2z.cloudfront.net/b9b651cc0b575574/static/nextdoorv2/images/favicons/favicon-v2.ico']\n",
      "\n",
      "https://nextdoor.com['https://nextdoor.com/', 'https://nextdoor.com/', 'https://nextdoor.nl/', 'https://nextdoor.co.uk/', 'https://nextdoor.de/', 'https://fr.nextdoor.com/', 'https://it.nextdoor.com/', 'https://es.nextdoor.com/', 'https://au.nextdoor.com/', 'https://dk.nextdoor.com/', 'https://se.nextdoor.com/', 'https://ca.nextdoor.com/', 'https://ca.nextdoor.com/', 'https://d19rpgkrjeba2z.cloudfront.net/b9b651cc0b575574/static/nextdoorv2/images/favicons/favicon-v2.ico']\n",
      "\n"
     ]
    },
    {
     "name": "stderr",
     "output_type": "stream",
     "text": [
      "/home/dan/src/para/venv/lib/python3.6/site-packages/urllib3/connectionpool.py:1004: InsecureRequestWarning: Unverified HTTPS request is being made. Adding certificate verification is strongly advised. See: https://urllib3.readthedocs.io/en/latest/advanced-usage.html#ssl-warnings\n",
      "  InsecureRequestWarning,\n",
      "/home/dan/src/para/venv/lib/python3.6/site-packages/urllib3/connectionpool.py:1004: InsecureRequestWarning: Unverified HTTPS request is being made. Adding certificate verification is strongly advised. See: https://urllib3.readthedocs.io/en/latest/advanced-usage.html#ssl-warnings\n",
      "  InsecureRequestWarning,\n",
      "/home/dan/src/para/venv/lib/python3.6/site-packages/urllib3/connectionpool.py:1004: InsecureRequestWarning: Unverified HTTPS request is being made. Adding certificate verification is strongly advised. See: https://urllib3.readthedocs.io/en/latest/advanced-usage.html#ssl-warnings\n",
      "  InsecureRequestWarning,\n",
      "/home/dan/src/para/venv/lib/python3.6/site-packages/urllib3/connectionpool.py:1004: InsecureRequestWarning: Unverified HTTPS request is being made. Adding certificate verification is strongly advised. See: https://urllib3.readthedocs.io/en/latest/advanced-usage.html#ssl-warnings\n",
      "  InsecureRequestWarning,\n",
      "/home/dan/src/para/venv/lib/python3.6/site-packages/urllib3/connectionpool.py:1004: InsecureRequestWarning: Unverified HTTPS request is being made. Adding certificate verification is strongly advised. See: https://urllib3.readthedocs.io/en/latest/advanced-usage.html#ssl-warnings\n",
      "  InsecureRequestWarning,\n",
      "/home/dan/src/para/venv/lib/python3.6/site-packages/urllib3/connectionpool.py:1004: InsecureRequestWarning: Unverified HTTPS request is being made. Adding certificate verification is strongly advised. See: https://urllib3.readthedocs.io/en/latest/advanced-usage.html#ssl-warnings\n",
      "  InsecureRequestWarning,\n",
      "/home/dan/src/para/venv/lib/python3.6/site-packages/urllib3/connectionpool.py:1004: InsecureRequestWarning: Unverified HTTPS request is being made. Adding certificate verification is strongly advised. See: https://urllib3.readthedocs.io/en/latest/advanced-usage.html#ssl-warnings\n",
      "  InsecureRequestWarning,\n",
      "/home/dan/src/para/venv/lib/python3.6/site-packages/urllib3/connectionpool.py:1004: InsecureRequestWarning: Unverified HTTPS request is being made. Adding certificate verification is strongly advised. See: https://urllib3.readthedocs.io/en/latest/advanced-usage.html#ssl-warnings\n",
      "  InsecureRequestWarning,\n",
      "/home/dan/src/para/venv/lib/python3.6/site-packages/urllib3/connectionpool.py:1004: InsecureRequestWarning: Unverified HTTPS request is being made. Adding certificate verification is strongly advised. See: https://urllib3.readthedocs.io/en/latest/advanced-usage.html#ssl-warnings\n",
      "  InsecureRequestWarning,\n",
      "/home/dan/src/para/venv/lib/python3.6/site-packages/urllib3/connectionpool.py:1004: InsecureRequestWarning: Unverified HTTPS request is being made. Adding certificate verification is strongly advised. See: https://urllib3.readthedocs.io/en/latest/advanced-usage.html#ssl-warnings\n",
      "  InsecureRequestWarning,\n",
      "/home/dan/src/para/venv/lib/python3.6/site-packages/urllib3/connectionpool.py:1004: InsecureRequestWarning: Unverified HTTPS request is being made. Adding certificate verification is strongly advised. See: https://urllib3.readthedocs.io/en/latest/advanced-usage.html#ssl-warnings\n",
      "  InsecureRequestWarning,\n"
     ]
    },
    {
     "name": "stdout",
     "output_type": "stream",
     "text": [
      "https://nextdoor.com\n",
      "['https://nextdoor.com/', 'https://nextdoor.com/', 'https://nextdoor.nl/', 'https://nextdoor.co.uk/', 'https://nextdoor.de/', 'https://fr.nextdoor.com/', 'https://it.nextdoor.com/', 'https://es.nextdoor.com/', 'https://au.nextdoor.com/', 'https://dk.nextdoor.com/', 'https://se.nextdoor.com/', 'https://ca.nextdoor.com/', 'https://ca.nextdoor.com/', 'https://d19rpgkrjeba2z.cloudfront.net/b9b651cc0b575574/static/nextdoorv2/images/favicons/favicon-v2.ico']\n"
     ]
    },
    {
     "name": "stderr",
     "output_type": "stream",
     "text": [
      "/home/dan/src/para/venv/lib/python3.6/site-packages/urllib3/connectionpool.py:1004: InsecureRequestWarning: Unverified HTTPS request is being made. Adding certificate verification is strongly advised. See: https://urllib3.readthedocs.io/en/latest/advanced-usage.html#ssl-warnings\n",
      "  InsecureRequestWarning,\n",
      "/home/dan/src/para/venv/lib/python3.6/site-packages/urllib3/connectionpool.py:1004: InsecureRequestWarning: Unverified HTTPS request is being made. Adding certificate verification is strongly advised. See: https://urllib3.readthedocs.io/en/latest/advanced-usage.html#ssl-warnings\n",
      "  InsecureRequestWarning,\n",
      "/home/dan/src/para/venv/lib/python3.6/site-packages/urllib3/connectionpool.py:1004: InsecureRequestWarning: Unverified HTTPS request is being made. Adding certificate verification is strongly advised. See: https://urllib3.readthedocs.io/en/latest/advanced-usage.html#ssl-warnings\n",
      "  InsecureRequestWarning,\n",
      "/home/dan/src/para/venv/lib/python3.6/site-packages/urllib3/connectionpool.py:1004: InsecureRequestWarning: Unverified HTTPS request is being made. Adding certificate verification is strongly advised. See: https://urllib3.readthedocs.io/en/latest/advanced-usage.html#ssl-warnings\n",
      "  InsecureRequestWarning,\n"
     ]
    },
    {
     "name": "stdout",
     "output_type": "stream",
     "text": [
      "https://nextdoor.com\n",
      "['https://nextdoor.com/', 'https://nextdoor.com/', 'https://nextdoor.nl/', 'https://nextdoor.co.uk/', 'https://nextdoor.de/', 'https://fr.nextdoor.com/', 'https://it.nextdoor.com/', 'https://es.nextdoor.com/', 'https://au.nextdoor.com/', 'https://dk.nextdoor.com/', 'https://se.nextdoor.com/', 'https://ca.nextdoor.com/', 'https://ca.nextdoor.com/', 'https://d19rpgkrjeba2z.cloudfront.net/b9b651cc0b575574/static/nextdoorv2/images/favicons/favicon-v2.ico']\n",
      "https://nextdoor.com\n",
      "https://nextdoor.com\n",
      "['https://nextdoor.com/', 'https://nextdoor.com/', 'https://nextdoor.nl/', 'https://nextdoor.co.uk/', 'https://nextdoor.de/', 'https://fr.nextdoor.com/', 'https://it.nextdoor.com/', 'https://es.nextdoor.com/', 'https://au.nextdoor.com/', 'https://dk.nextdoor.com/', 'https://se.nextdoor.com/', 'https://ca.nextdoor.com/', 'https://ca.nextdoor.com/', 'https://d19rpgkrjeba2z.cloudfront.net/b9b651cc0b575574/static/nextdoorv2/images/favicons/favicon-v2.ico']\n",
      "['https://nextdoor.com/', 'https://nextdoor.com/', 'https://nextdoor.nl/', 'https://nextdoor.co.uk/', 'https://nextdoor.de/', 'https://fr.nextdoor.com/', 'https://it.nextdoor.com/', 'https://es.nextdoor.com/', 'https://au.nextdoor.com/', 'https://dk.nextdoor.com/', 'https://se.nextdoor.com/', 'https://ca.nextdoor.com/', 'https://ca.nextdoor.com/', 'https://d19rpgkrjeba2z.cloudfront.net/b9b651cc0b575574/static/nextdoorv2/images/favicons/favicon-v2.ico']\n"
     ]
    },
    {
     "name": "stderr",
     "output_type": "stream",
     "text": [
      "/home/dan/src/para/venv/lib/python3.6/site-packages/urllib3/connectionpool.py:1004: InsecureRequestWarning: Unverified HTTPS request is being made. Adding certificate verification is strongly advised. See: https://urllib3.readthedocs.io/en/latest/advanced-usage.html#ssl-warnings\n",
      "  InsecureRequestWarning,\n",
      "/home/dan/src/para/venv/lib/python3.6/site-packages/urllib3/connectionpool.py:1004: InsecureRequestWarning: Unverified HTTPS request is being made. Adding certificate verification is strongly advised. See: https://urllib3.readthedocs.io/en/latest/advanced-usage.html#ssl-warnings\n",
      "  InsecureRequestWarning,\n",
      "/home/dan/src/para/venv/lib/python3.6/site-packages/urllib3/connectionpool.py:1004: InsecureRequestWarning: Unverified HTTPS request is being made. Adding certificate verification is strongly advised. See: https://urllib3.readthedocs.io/en/latest/advanced-usage.html#ssl-warnings\n",
      "  InsecureRequestWarning,\n",
      "/home/dan/src/para/venv/lib/python3.6/site-packages/urllib3/connectionpool.py:1004: InsecureRequestWarning: Unverified HTTPS request is being made. Adding certificate verification is strongly advised. See: https://urllib3.readthedocs.io/en/latest/advanced-usage.html#ssl-warnings\n",
      "  InsecureRequestWarning,\n",
      "/home/dan/src/para/venv/lib/python3.6/site-packages/urllib3/connectionpool.py:1004: InsecureRequestWarning: Unverified HTTPS request is being made. Adding certificate verification is strongly advised. See: https://urllib3.readthedocs.io/en/latest/advanced-usage.html#ssl-warnings\n",
      "  InsecureRequestWarning,\n"
     ]
    },
    {
     "name": "stdout",
     "output_type": "stream",
     "text": [
      "https://nextdoor.com['https://nextdoor.com/', 'https://nextdoor.com/', 'https://nextdoor.nl/', 'https://nextdoor.co.uk/', 'https://nextdoor.de/', 'https://fr.nextdoor.com/', 'https://it.nextdoor.com/', 'https://es.nextdoor.com/', 'https://au.nextdoor.com/', 'https://dk.nextdoor.com/', 'https://se.nextdoor.com/', 'https://ca.nextdoor.com/', 'https://ca.nextdoor.com/', 'https://d19rpgkrjeba2z.cloudfront.net/b9b651cc0b575574/static/nextdoorv2/images/favicons/favicon-v2.ico']\n",
      "\n",
      "https://nextdoor.com['https://nextdoor.com/', 'https://nextdoor.com/', 'https://nextdoor.nl/', 'https://nextdoor.co.uk/', 'https://nextdoor.de/', 'https://fr.nextdoor.com/', 'https://it.nextdoor.com/', 'https://es.nextdoor.com/', 'https://au.nextdoor.com/', 'https://dk.nextdoor.com/', 'https://se.nextdoor.com/', 'https://ca.nextdoor.com/', 'https://ca.nextdoor.com/', 'https://d19rpgkrjeba2z.cloudfront.net/b9b651cc0b575574/static/nextdoorv2/images/favicons/favicon-v2.ico']\n",
      "\n",
      "https://nextdoor.com['https://nextdoor.com/', 'https://nextdoor.com/', 'https://nextdoor.nl/', 'https://nextdoor.co.uk/', 'https://nextdoor.de/', 'https://fr.nextdoor.com/', 'https://it.nextdoor.com/', 'https://es.nextdoor.com/', 'https://au.nextdoor.com/', 'https://dk.nextdoor.com/', 'https://se.nextdoor.com/', 'https://ca.nextdoor.com/', 'https://ca.nextdoor.com/', 'https://d19rpgkrjeba2z.cloudfront.net/b9b651cc0b575574/static/nextdoorv2/images/favicons/favicon-v2.ico']\n",
      "\n",
      "https://nextdoor.com['https://nextdoor.com/', 'https://nextdoor.com/', 'https://nextdoor.nl/', 'https://nextdoor.co.uk/', 'https://nextdoor.de/', 'https://fr.nextdoor.com/', 'https://it.nextdoor.com/', 'https://es.nextdoor.com/', 'https://au.nextdoor.com/', 'https://dk.nextdoor.com/', 'https://se.nextdoor.com/', 'https://ca.nextdoor.com/', 'https://ca.nextdoor.com/', 'https://d19rpgkrjeba2z.cloudfront.net/b9b651cc0b575574/static/nextdoorv2/images/favicons/favicon-v2.ico']\n",
      "\n",
      "https://nextdoor.com['https://nextdoor.com/', 'https://nextdoor.com/', 'https://nextdoor.nl/', 'https://nextdoor.co.uk/', 'https://nextdoor.de/', 'https://fr.nextdoor.com/', 'https://it.nextdoor.com/', 'https://es.nextdoor.com/', 'https://au.nextdoor.com/', 'https://dk.nextdoor.com/', 'https://se.nextdoor.com/', 'https://ca.nextdoor.com/', 'https://ca.nextdoor.com/', 'https://d19rpgkrjeba2z.cloudfront.net/b9b651cc0b575574/static/nextdoorv2/images/favicons/favicon-v2.ico']\n",
      "\n",
      "https://nextdoor.com['https://nextdoor.com/', 'https://nextdoor.com/', 'https://nextdoor.nl/', 'https://nextdoor.co.uk/', 'https://nextdoor.de/', 'https://fr.nextdoor.com/', 'https://it.nextdoor.com/', 'https://es.nextdoor.com/', 'https://au.nextdoor.com/', 'https://dk.nextdoor.com/', 'https://se.nextdoor.com/', 'https://ca.nextdoor.com/', 'https://ca.nextdoor.com/', 'https://d19rpgkrjeba2z.cloudfront.net/b9b651cc0b575574/static/nextdoorv2/images/favicons/favicon-v2.ico']\n",
      "\n",
      "https://nextdoor.com['https://nextdoor.com/', 'https://nextdoor.com/', 'https://nextdoor.nl/', 'https://nextdoor.co.uk/', 'https://nextdoor.de/', 'https://fr.nextdoor.com/', 'https://it.nextdoor.com/', 'https://es.nextdoor.com/', 'https://au.nextdoor.com/', 'https://dk.nextdoor.com/', 'https://se.nextdoor.com/', 'https://ca.nextdoor.com/', 'https://ca.nextdoor.com/', 'https://d19rpgkrjeba2z.cloudfront.net/b9b651cc0b575574/static/nextdoorv2/images/favicons/favicon-v2.ico']\n",
      "\n",
      "https://nextdoor.com['https://nextdoor.com/', 'https://nextdoor.com/', 'https://nextdoor.nl/', 'https://nextdoor.co.uk/', 'https://nextdoor.de/', 'https://fr.nextdoor.com/', 'https://it.nextdoor.com/', 'https://es.nextdoor.com/', 'https://au.nextdoor.com/', 'https://dk.nextdoor.com/', 'https://se.nextdoor.com/', 'https://ca.nextdoor.com/', 'https://ca.nextdoor.com/', 'https://d19rpgkrjeba2z.cloudfront.net/b9b651cc0b575574/static/nextdoorv2/images/favicons/favicon-v2.ico']\n",
      "\n",
      "https://nextdoor.com['https://nextdoor.com/', 'https://nextdoor.com/', 'https://nextdoor.nl/', 'https://nextdoor.co.uk/', 'https://nextdoor.de/', 'https://fr.nextdoor.com/', 'https://it.nextdoor.com/', 'https://es.nextdoor.com/', 'https://au.nextdoor.com/', 'https://dk.nextdoor.com/', 'https://se.nextdoor.com/', 'https://ca.nextdoor.com/', 'https://ca.nextdoor.com/', 'https://d19rpgkrjeba2z.cloudfront.net/b9b651cc0b575574/static/nextdoorv2/images/favicons/favicon-v2.ico']\n",
      "\n"
     ]
    },
    {
     "name": "stderr",
     "output_type": "stream",
     "text": [
      "/home/dan/src/para/venv/lib/python3.6/site-packages/urllib3/connectionpool.py:1004: InsecureRequestWarning: Unverified HTTPS request is being made. Adding certificate verification is strongly advised. See: https://urllib3.readthedocs.io/en/latest/advanced-usage.html#ssl-warnings\n",
      "  InsecureRequestWarning,\n",
      "/home/dan/src/para/venv/lib/python3.6/site-packages/urllib3/connectionpool.py:1004: InsecureRequestWarning: Unverified HTTPS request is being made. Adding certificate verification is strongly advised. See: https://urllib3.readthedocs.io/en/latest/advanced-usage.html#ssl-warnings\n",
      "  InsecureRequestWarning,\n",
      "/home/dan/src/para/venv/lib/python3.6/site-packages/urllib3/connectionpool.py:1004: InsecureRequestWarning: Unverified HTTPS request is being made. Adding certificate verification is strongly advised. See: https://urllib3.readthedocs.io/en/latest/advanced-usage.html#ssl-warnings\n",
      "  InsecureRequestWarning,\n"
     ]
    },
    {
     "name": "stdout",
     "output_type": "stream",
     "text": [
      "https://nextdoor.com['https://nextdoor.com/', 'https://nextdoor.com/', 'https://nextdoor.nl/', 'https://nextdoor.co.uk/', 'https://nextdoor.de/', 'https://fr.nextdoor.com/', 'https://it.nextdoor.com/', 'https://es.nextdoor.com/', 'https://au.nextdoor.com/', 'https://dk.nextdoor.com/', 'https://se.nextdoor.com/', 'https://ca.nextdoor.com/', 'https://ca.nextdoor.com/', 'https://d19rpgkrjeba2z.cloudfront.net/b9b651cc0b575574/static/nextdoorv2/images/favicons/favicon-v2.ico']\n",
      "\n",
      "https://nextdoor.com['https://nextdoor.com/', 'https://nextdoor.com/', 'https://nextdoor.nl/', 'https://nextdoor.co.uk/', 'https://nextdoor.de/', 'https://fr.nextdoor.com/', 'https://it.nextdoor.com/', 'https://es.nextdoor.com/', 'https://au.nextdoor.com/', 'https://dk.nextdoor.com/', 'https://se.nextdoor.com/', 'https://ca.nextdoor.com/', 'https://ca.nextdoor.com/', 'https://d19rpgkrjeba2z.cloudfront.net/b9b651cc0b575574/static/nextdoorv2/images/favicons/favicon-v2.ico']\n",
      "\n",
      "https://nextdoor.com['https://nextdoor.com/', 'https://nextdoor.com/', 'https://nextdoor.nl/', 'https://nextdoor.co.uk/', 'https://nextdoor.de/', 'https://fr.nextdoor.com/', 'https://it.nextdoor.com/', 'https://es.nextdoor.com/', 'https://au.nextdoor.com/', 'https://dk.nextdoor.com/', 'https://se.nextdoor.com/', 'https://ca.nextdoor.com/', 'https://ca.nextdoor.com/', 'https://d19rpgkrjeba2z.cloudfront.net/b9b651cc0b575574/static/nextdoorv2/images/favicons/favicon-v2.ico']\n",
      "\n",
      "https://nextdoor.com['https://nextdoor.com/', 'https://nextdoor.com/', 'https://nextdoor.nl/', 'https://nextdoor.co.uk/', 'https://nextdoor.de/', 'https://fr.nextdoor.com/', 'https://it.nextdoor.com/', 'https://es.nextdoor.com/', 'https://au.nextdoor.com/', 'https://dk.nextdoor.com/', 'https://se.nextdoor.com/', 'https://ca.nextdoor.com/', 'https://ca.nextdoor.com/', 'https://d19rpgkrjeba2z.cloudfront.net/b9b651cc0b575574/static/nextdoorv2/images/favicons/favicon-v2.ico']https://nextdoor.com\n",
      "\n",
      "\n",
      "['https://nextdoor.com/', 'https://nextdoor.com/', 'https://nextdoor.nl/', 'https://nextdoor.co.uk/', 'https://nextdoor.de/', 'https://fr.nextdoor.com/', 'https://it.nextdoor.com/', 'https://es.nextdoor.com/', 'https://au.nextdoor.com/', 'https://dk.nextdoor.com/', 'https://se.nextdoor.com/', 'https://ca.nextdoor.com/', 'https://ca.nextdoor.com/', 'https://d19rpgkrjeba2z.cloudfront.net/b9b651cc0b575574/static/nextdoorv2/images/favicons/favicon-v2.ico']\n",
      "https://nextdoor.com['https://nextdoor.com/', 'https://nextdoor.com/', 'https://nextdoor.nl/', 'https://nextdoor.co.uk/', 'https://nextdoor.de/', 'https://fr.nextdoor.com/', 'https://it.nextdoor.com/', 'https://es.nextdoor.com/', 'https://au.nextdoor.com/', 'https://dk.nextdoor.com/', 'https://se.nextdoor.com/', 'https://ca.nextdoor.com/', 'https://ca.nextdoor.com/', 'https://d19rpgkrjeba2z.cloudfront.net/b9b651cc0b575574/static/nextdoorv2/images/favicons/favicon-v2.ico']\n",
      "\n"
     ]
    },
    {
     "name": "stderr",
     "output_type": "stream",
     "text": [
      "/home/dan/src/para/venv/lib/python3.6/site-packages/urllib3/connectionpool.py:1004: InsecureRequestWarning: Unverified HTTPS request is being made. Adding certificate verification is strongly advised. See: https://urllib3.readthedocs.io/en/latest/advanced-usage.html#ssl-warnings\n",
      "  InsecureRequestWarning,\n",
      "/home/dan/src/para/venv/lib/python3.6/site-packages/urllib3/connectionpool.py:1004: InsecureRequestWarning: Unverified HTTPS request is being made. Adding certificate verification is strongly advised. See: https://urllib3.readthedocs.io/en/latest/advanced-usage.html#ssl-warnings\n",
      "  InsecureRequestWarning,\n",
      "/home/dan/src/para/venv/lib/python3.6/site-packages/urllib3/connectionpool.py:1004: InsecureRequestWarning: Unverified HTTPS request is being made. Adding certificate verification is strongly advised. See: https://urllib3.readthedocs.io/en/latest/advanced-usage.html#ssl-warnings\n",
      "  InsecureRequestWarning,\n",
      "/home/dan/src/para/venv/lib/python3.6/site-packages/urllib3/connectionpool.py:1004: InsecureRequestWarning: Unverified HTTPS request is being made. Adding certificate verification is strongly advised. See: https://urllib3.readthedocs.io/en/latest/advanced-usage.html#ssl-warnings\n",
      "  InsecureRequestWarning,\n",
      "/home/dan/src/para/venv/lib/python3.6/site-packages/urllib3/connectionpool.py:1004: InsecureRequestWarning: Unverified HTTPS request is being made. Adding certificate verification is strongly advised. See: https://urllib3.readthedocs.io/en/latest/advanced-usage.html#ssl-warnings\n",
      "  InsecureRequestWarning,\n"
     ]
    },
    {
     "name": "stdout",
     "output_type": "stream",
     "text": [
      "https://nextdoor.com['https://nextdoor.com/', 'https://nextdoor.com/', 'https://nextdoor.nl/', 'https://nextdoor.co.uk/', 'https://nextdoor.de/', 'https://fr.nextdoor.com/', 'https://it.nextdoor.com/', 'https://es.nextdoor.com/', 'https://au.nextdoor.com/', 'https://dk.nextdoor.com/', 'https://se.nextdoor.com/', 'https://ca.nextdoor.com/', 'https://ca.nextdoor.com/', 'https://d19rpgkrjeba2z.cloudfront.net/b9b651cc0b575574/static/nextdoorv2/images/favicons/favicon-v2.ico']\n",
      "\n",
      "https://nextdoor.com\n",
      "['https://nextdoor.com/', 'https://nextdoor.com/', 'https://nextdoor.nl/', 'https://nextdoor.co.uk/', 'https://nextdoor.de/', 'https://fr.nextdoor.com/', 'https://it.nextdoor.com/', 'https://es.nextdoor.com/', 'https://au.nextdoor.com/', 'https://dk.nextdoor.com/', 'https://se.nextdoor.com/', 'https://ca.nextdoor.com/', 'https://ca.nextdoor.com/', 'https://d19rpgkrjeba2z.cloudfront.net/b9b651cc0b575574/static/nextdoorv2/images/favicons/favicon-v2.ico']\n",
      "https://nextdoor.com['https://nextdoor.com/', 'https://nextdoor.com/', 'https://nextdoor.nl/', 'https://nextdoor.co.uk/', 'https://nextdoor.de/', 'https://fr.nextdoor.com/', 'https://it.nextdoor.com/', 'https://es.nextdoor.com/', 'https://au.nextdoor.com/', 'https://dk.nextdoor.com/', 'https://se.nextdoor.com/', 'https://ca.nextdoor.com/', 'https://ca.nextdoor.com/', 'https://d19rpgkrjeba2z.cloudfront.net/b9b651cc0b575574/static/nextdoorv2/images/favicons/favicon-v2.ico']\n",
      "\n",
      "https://nextdoor.com['https://nextdoor.com/', 'https://nextdoor.com/', 'https://nextdoor.nl/', 'https://nextdoor.co.uk/', 'https://nextdoor.de/', 'https://fr.nextdoor.com/', 'https://it.nextdoor.com/', 'https://es.nextdoor.com/', 'https://au.nextdoor.com/', 'https://dk.nextdoor.com/', 'https://se.nextdoor.com/', 'https://ca.nextdoor.com/', 'https://ca.nextdoor.com/', 'https://d19rpgkrjeba2z.cloudfront.net/b9b651cc0b575574/static/nextdoorv2/images/favicons/favicon-v2.ico']\n",
      "\n",
      "https://nextdoor.com['https://nextdoor.com/', 'https://nextdoor.com/', 'https://nextdoor.nl/', 'https://nextdoor.co.uk/', 'https://nextdoor.de/', 'https://fr.nextdoor.com/', 'https://it.nextdoor.com/', 'https://es.nextdoor.com/', 'https://au.nextdoor.com/', 'https://dk.nextdoor.com/', 'https://se.nextdoor.com/', 'https://ca.nextdoor.com/', 'https://ca.nextdoor.com/', 'https://d19rpgkrjeba2z.cloudfront.net/b9b651cc0b575574/static/nextdoorv2/images/favicons/favicon-v2.ico']\n",
      "\n"
     ]
    },
    {
     "name": "stderr",
     "output_type": "stream",
     "text": [
      "/home/dan/src/para/venv/lib/python3.6/site-packages/urllib3/connectionpool.py:1004: InsecureRequestWarning: Unverified HTTPS request is being made. Adding certificate verification is strongly advised. See: https://urllib3.readthedocs.io/en/latest/advanced-usage.html#ssl-warnings\n",
      "  InsecureRequestWarning,\n",
      "/home/dan/src/para/venv/lib/python3.6/site-packages/urllib3/connectionpool.py:1004: InsecureRequestWarning: Unverified HTTPS request is being made. Adding certificate verification is strongly advised. See: https://urllib3.readthedocs.io/en/latest/advanced-usage.html#ssl-warnings\n",
      "  InsecureRequestWarning,\n",
      "/home/dan/src/para/venv/lib/python3.6/site-packages/urllib3/connectionpool.py:1004: InsecureRequestWarning: Unverified HTTPS request is being made. Adding certificate verification is strongly advised. See: https://urllib3.readthedocs.io/en/latest/advanced-usage.html#ssl-warnings\n",
      "  InsecureRequestWarning,\n",
      "/home/dan/src/para/venv/lib/python3.6/site-packages/urllib3/connectionpool.py:1004: InsecureRequestWarning: Unverified HTTPS request is being made. Adding certificate verification is strongly advised. See: https://urllib3.readthedocs.io/en/latest/advanced-usage.html#ssl-warnings\n",
      "  InsecureRequestWarning,\n",
      "/home/dan/src/para/venv/lib/python3.6/site-packages/urllib3/connectionpool.py:1004: InsecureRequestWarning: Unverified HTTPS request is being made. Adding certificate verification is strongly advised. See: https://urllib3.readthedocs.io/en/latest/advanced-usage.html#ssl-warnings\n",
      "  InsecureRequestWarning,\n"
     ]
    },
    {
     "name": "stdout",
     "output_type": "stream",
     "text": [
      "https://nextdoor.com['https://nextdoor.com/', 'https://nextdoor.com/', 'https://nextdoor.nl/', 'https://nextdoor.co.uk/', 'https://nextdoor.de/', 'https://fr.nextdoor.com/', 'https://it.nextdoor.com/', 'https://es.nextdoor.com/', 'https://au.nextdoor.com/', 'https://dk.nextdoor.com/', 'https://se.nextdoor.com/', 'https://ca.nextdoor.com/', 'https://ca.nextdoor.com/', 'https://d19rpgkrjeba2z.cloudfront.net/b9b651cc0b575574/static/nextdoorv2/images/favicons/favicon-v2.ico']\n",
      "\n",
      "https://nextdoor.com['https://nextdoor.com/', 'https://nextdoor.com/', 'https://nextdoor.nl/', 'https://nextdoor.co.uk/', 'https://nextdoor.de/', 'https://fr.nextdoor.com/', 'https://it.nextdoor.com/', 'https://es.nextdoor.com/', 'https://au.nextdoor.com/', 'https://dk.nextdoor.com/', 'https://se.nextdoor.com/', 'https://ca.nextdoor.com/', 'https://ca.nextdoor.com/', 'https://d19rpgkrjeba2z.cloudfront.net/b9b651cc0b575574/static/nextdoorv2/images/favicons/favicon-v2.ico']\n",
      "\n",
      "https://nextdoor.com['https://nextdoor.com/', 'https://nextdoor.com/', 'https://nextdoor.nl/', 'https://nextdoor.co.uk/', 'https://nextdoor.de/', 'https://fr.nextdoor.com/', 'https://it.nextdoor.com/', 'https://es.nextdoor.com/', 'https://au.nextdoor.com/', 'https://dk.nextdoor.com/', 'https://se.nextdoor.com/', 'https://ca.nextdoor.com/', 'https://ca.nextdoor.com/', 'https://d19rpgkrjeba2z.cloudfront.net/b9b651cc0b575574/static/nextdoorv2/images/favicons/favicon-v2.ico']\n",
      "\n"
     ]
    },
    {
     "name": "stderr",
     "output_type": "stream",
     "text": [
      "/home/dan/src/para/venv/lib/python3.6/site-packages/urllib3/connectionpool.py:1004: InsecureRequestWarning: Unverified HTTPS request is being made. Adding certificate verification is strongly advised. See: https://urllib3.readthedocs.io/en/latest/advanced-usage.html#ssl-warnings\n",
      "  InsecureRequestWarning,\n",
      "/home/dan/src/para/venv/lib/python3.6/site-packages/urllib3/connectionpool.py:1004: InsecureRequestWarning: Unverified HTTPS request is being made. Adding certificate verification is strongly advised. See: https://urllib3.readthedocs.io/en/latest/advanced-usage.html#ssl-warnings\n",
      "  InsecureRequestWarning,\n",
      "/home/dan/src/para/venv/lib/python3.6/site-packages/urllib3/connectionpool.py:1004: InsecureRequestWarning: Unverified HTTPS request is being made. Adding certificate verification is strongly advised. See: https://urllib3.readthedocs.io/en/latest/advanced-usage.html#ssl-warnings\n",
      "  InsecureRequestWarning,\n"
     ]
    },
    {
     "name": "stdout",
     "output_type": "stream",
     "text": [
      "https://nextdoor.com['https://nextdoor.com/', 'https://nextdoor.com/', 'https://nextdoor.nl/', 'https://nextdoor.co.uk/', 'https://nextdoor.de/', 'https://fr.nextdoor.com/', 'https://it.nextdoor.com/', 'https://es.nextdoor.com/', 'https://au.nextdoor.com/', 'https://dk.nextdoor.com/', 'https://se.nextdoor.com/', 'https://ca.nextdoor.com/', 'https://ca.nextdoor.com/', 'https://d19rpgkrjeba2z.cloudfront.net/b9b651cc0b575574/static/nextdoorv2/images/favicons/favicon-v2.ico']\n",
      "\n",
      "https://nextdoor.com\n",
      "['https://nextdoor.com/', 'https://nextdoor.com/', 'https://nextdoor.nl/', 'https://nextdoor.co.uk/', 'https://nextdoor.de/', 'https://fr.nextdoor.com/', 'https://it.nextdoor.com/', 'https://es.nextdoor.com/', 'https://au.nextdoor.com/', 'https://dk.nextdoor.com/', 'https://se.nextdoor.com/', 'https://ca.nextdoor.com/', 'https://ca.nextdoor.com/', 'https://d19rpgkrjeba2z.cloudfront.net/b9b651cc0b575574/static/nextdoorv2/images/favicons/favicon-v2.ico']\n",
      "https://nextdoor.com['https://nextdoor.com/', 'https://nextdoor.com/', 'https://nextdoor.nl/', 'https://nextdoor.co.uk/', 'https://nextdoor.de/', 'https://fr.nextdoor.com/', 'https://it.nextdoor.com/', 'https://es.nextdoor.com/', 'https://au.nextdoor.com/', 'https://dk.nextdoor.com/', 'https://se.nextdoor.com/', 'https://ca.nextdoor.com/', 'https://ca.nextdoor.com/', 'https://d19rpgkrjeba2z.cloudfront.net/b9b651cc0b575574/static/nextdoorv2/images/favicons/favicon-v2.ico']\n",
      "\n"
     ]
    },
    {
     "name": "stderr",
     "output_type": "stream",
     "text": [
      "/home/dan/src/para/venv/lib/python3.6/site-packages/urllib3/connectionpool.py:1004: InsecureRequestWarning: Unverified HTTPS request is being made. Adding certificate verification is strongly advised. See: https://urllib3.readthedocs.io/en/latest/advanced-usage.html#ssl-warnings\n",
      "  InsecureRequestWarning,\n",
      "/home/dan/src/para/venv/lib/python3.6/site-packages/urllib3/connectionpool.py:1004: InsecureRequestWarning: Unverified HTTPS request is being made. Adding certificate verification is strongly advised. See: https://urllib3.readthedocs.io/en/latest/advanced-usage.html#ssl-warnings\n",
      "  InsecureRequestWarning,\n",
      "/home/dan/src/para/venv/lib/python3.6/site-packages/urllib3/connectionpool.py:1004: InsecureRequestWarning: Unverified HTTPS request is being made. Adding certificate verification is strongly advised. See: https://urllib3.readthedocs.io/en/latest/advanced-usage.html#ssl-warnings\n",
      "  InsecureRequestWarning,\n",
      "/home/dan/src/para/venv/lib/python3.6/site-packages/urllib3/connectionpool.py:1004: InsecureRequestWarning: Unverified HTTPS request is being made. Adding certificate verification is strongly advised. See: https://urllib3.readthedocs.io/en/latest/advanced-usage.html#ssl-warnings\n",
      "  InsecureRequestWarning,\n",
      "/home/dan/src/para/venv/lib/python3.6/site-packages/urllib3/connectionpool.py:1004: InsecureRequestWarning: Unverified HTTPS request is being made. Adding certificate verification is strongly advised. See: https://urllib3.readthedocs.io/en/latest/advanced-usage.html#ssl-warnings\n",
      "  InsecureRequestWarning,\n",
      "/home/dan/src/para/venv/lib/python3.6/site-packages/urllib3/connectionpool.py:1004: InsecureRequestWarning: Unverified HTTPS request is being made. Adding certificate verification is strongly advised. See: https://urllib3.readthedocs.io/en/latest/advanced-usage.html#ssl-warnings\n",
      "  InsecureRequestWarning,\n"
     ]
    },
    {
     "name": "stdout",
     "output_type": "stream",
     "text": [
      "https://nextdoor.com\n",
      "['https://nextdoor.com/', 'https://nextdoor.com/', 'https://nextdoor.nl/', 'https://nextdoor.co.uk/', 'https://nextdoor.de/', 'https://fr.nextdoor.com/', 'https://it.nextdoor.com/', 'https://es.nextdoor.com/', 'https://au.nextdoor.com/', 'https://dk.nextdoor.com/', 'https://se.nextdoor.com/', 'https://ca.nextdoor.com/', 'https://ca.nextdoor.com/', 'https://d19rpgkrjeba2z.cloudfront.net/b9b651cc0b575574/static/nextdoorv2/images/favicons/favicon-v2.ico']\n",
      "https://nextdoor.com\n",
      "['https://nextdoor.com/', 'https://nextdoor.com/', 'https://nextdoor.nl/', 'https://nextdoor.co.uk/', 'https://nextdoor.de/', 'https://fr.nextdoor.com/', 'https://it.nextdoor.com/', 'https://es.nextdoor.com/', 'https://au.nextdoor.com/', 'https://dk.nextdoor.com/', 'https://se.nextdoor.com/', 'https://ca.nextdoor.com/', 'https://ca.nextdoor.com/', 'https://d19rpgkrjeba2z.cloudfront.net/b9b651cc0b575574/static/nextdoorv2/images/favicons/favicon-v2.ico']\n",
      "https://nextdoor.com\n",
      "['https://nextdoor.com/', 'https://nextdoor.com/', 'https://nextdoor.nl/', 'https://nextdoor.co.uk/', 'https://nextdoor.de/', 'https://fr.nextdoor.com/', 'https://it.nextdoor.com/', 'https://es.nextdoor.com/', 'https://au.nextdoor.com/', 'https://dk.nextdoor.com/', 'https://se.nextdoor.com/', 'https://ca.nextdoor.com/', 'https://ca.nextdoor.com/', 'https://d19rpgkrjeba2z.cloudfront.net/b9b651cc0b575574/static/nextdoorv2/images/favicons/favicon-v2.ico']\n",
      "https://nextdoor.com\n",
      "['https://nextdoor.com/', 'https://nextdoor.com/', 'https://nextdoor.nl/', 'https://nextdoor.co.uk/', 'https://nextdoor.de/', 'https://fr.nextdoor.com/', 'https://it.nextdoor.com/', 'https://es.nextdoor.com/', 'https://au.nextdoor.com/', 'https://dk.nextdoor.com/', 'https://se.nextdoor.com/', 'https://ca.nextdoor.com/', 'https://ca.nextdoor.com/', 'https://d19rpgkrjeba2z.cloudfront.net/b9b651cc0b575574/static/nextdoorv2/images/favicons/favicon-v2.ico']\n",
      "https://nextdoor.com['https://nextdoor.com/', 'https://nextdoor.com/', 'https://nextdoor.nl/', 'https://nextdoor.co.uk/', 'https://nextdoor.de/', 'https://fr.nextdoor.com/', 'https://it.nextdoor.com/', 'https://es.nextdoor.com/', 'https://au.nextdoor.com/', 'https://dk.nextdoor.com/', 'https://se.nextdoor.com/', 'https://ca.nextdoor.com/', 'https://ca.nextdoor.com/', 'https://d19rpgkrjeba2z.cloudfront.net/b9b651cc0b575574/static/nextdoorv2/images/favicons/favicon-v2.ico']\n",
      "\n",
      "https://nextdoor.com['https://nextdoor.com/', 'https://nextdoor.com/', 'https://nextdoor.nl/', 'https://nextdoor.co.uk/', 'https://nextdoor.de/', 'https://fr.nextdoor.com/', 'https://it.nextdoor.com/', 'https://es.nextdoor.com/', 'https://au.nextdoor.com/', 'https://dk.nextdoor.com/', 'https://se.nextdoor.com/', 'https://ca.nextdoor.com/', 'https://ca.nextdoor.com/', 'https://d19rpgkrjeba2z.cloudfront.net/b9b651cc0b575574/static/nextdoorv2/images/favicons/favicon-v2.ico']\n",
      "\n"
     ]
    },
    {
     "name": "stderr",
     "output_type": "stream",
     "text": [
      "/home/dan/src/para/venv/lib/python3.6/site-packages/urllib3/connectionpool.py:1004: InsecureRequestWarning: Unverified HTTPS request is being made. Adding certificate verification is strongly advised. See: https://urllib3.readthedocs.io/en/latest/advanced-usage.html#ssl-warnings\n",
      "  InsecureRequestWarning,\n",
      "/home/dan/src/para/venv/lib/python3.6/site-packages/urllib3/connectionpool.py:1004: InsecureRequestWarning: Unverified HTTPS request is being made. Adding certificate verification is strongly advised. See: https://urllib3.readthedocs.io/en/latest/advanced-usage.html#ssl-warnings\n",
      "  InsecureRequestWarning,\n",
      "/home/dan/src/para/venv/lib/python3.6/site-packages/urllib3/connectionpool.py:1004: InsecureRequestWarning: Unverified HTTPS request is being made. Adding certificate verification is strongly advised. See: https://urllib3.readthedocs.io/en/latest/advanced-usage.html#ssl-warnings\n",
      "  InsecureRequestWarning,\n",
      "/home/dan/src/para/venv/lib/python3.6/site-packages/urllib3/connectionpool.py:1004: InsecureRequestWarning: Unverified HTTPS request is being made. Adding certificate verification is strongly advised. See: https://urllib3.readthedocs.io/en/latest/advanced-usage.html#ssl-warnings\n",
      "  InsecureRequestWarning,\n"
     ]
    },
    {
     "name": "stdout",
     "output_type": "stream",
     "text": [
      "https://nextdoor.comhttps://nextdoor.com['https://nextdoor.com/', 'https://nextdoor.com/', 'https://nextdoor.nl/', 'https://nextdoor.co.uk/', 'https://nextdoor.de/', 'https://fr.nextdoor.com/', 'https://it.nextdoor.com/', 'https://es.nextdoor.com/', 'https://au.nextdoor.com/', 'https://dk.nextdoor.com/', 'https://se.nextdoor.com/', 'https://ca.nextdoor.com/', 'https://ca.nextdoor.com/', 'https://d19rpgkrjeba2z.cloudfront.net/b9b651cc0b575574/static/nextdoorv2/images/favicons/favicon-v2.ico']\n",
      "['https://nextdoor.com/', 'https://nextdoor.com/', 'https://nextdoor.nl/', 'https://nextdoor.co.uk/', 'https://nextdoor.de/', 'https://fr.nextdoor.com/', 'https://it.nextdoor.com/', 'https://es.nextdoor.com/', 'https://au.nextdoor.com/', 'https://dk.nextdoor.com/', 'https://se.nextdoor.com/', 'https://ca.nextdoor.com/', 'https://ca.nextdoor.com/', 'https://d19rpgkrjeba2z.cloudfront.net/b9b651cc0b575574/static/nextdoorv2/images/favicons/favicon-v2.ico']\n",
      "\n",
      "\n",
      "https://nextdoor.comhttps://nextdoor.com\n",
      "\n",
      "['https://nextdoor.com/', 'https://nextdoor.com/', 'https://nextdoor.nl/', 'https://nextdoor.co.uk/', 'https://nextdoor.de/', 'https://fr.nextdoor.com/', 'https://it.nextdoor.com/', 'https://es.nextdoor.com/', 'https://au.nextdoor.com/', 'https://dk.nextdoor.com/', 'https://se.nextdoor.com/', 'https://ca.nextdoor.com/', 'https://ca.nextdoor.com/', 'https://d19rpgkrjeba2z.cloudfront.net/b9b651cc0b575574/static/nextdoorv2/images/favicons/favicon-v2.ico']\n",
      "['https://nextdoor.com/', 'https://nextdoor.com/', 'https://nextdoor.nl/', 'https://nextdoor.co.uk/', 'https://nextdoor.de/', 'https://fr.nextdoor.com/', 'https://it.nextdoor.com/', 'https://es.nextdoor.com/', 'https://au.nextdoor.com/', 'https://dk.nextdoor.com/', 'https://se.nextdoor.com/', 'https://ca.nextdoor.com/', 'https://ca.nextdoor.com/', 'https://d19rpgkrjeba2z.cloudfront.net/b9b651cc0b575574/static/nextdoorv2/images/favicons/favicon-v2.ico']\n",
      "https://nextdoor.com['https://nextdoor.com/', 'https://nextdoor.com/', 'https://nextdoor.nl/', 'https://nextdoor.co.uk/', 'https://nextdoor.de/', 'https://fr.nextdoor.com/', 'https://it.nextdoor.com/', 'https://es.nextdoor.com/', 'https://au.nextdoor.com/', 'https://dk.nextdoor.com/', 'https://se.nextdoor.com/', 'https://ca.nextdoor.com/', 'https://ca.nextdoor.com/', 'https://d19rpgkrjeba2z.cloudfront.net/b9b651cc0b575574/static/nextdoorv2/images/favicons/favicon-v2.ico']\n",
      "https://nextdoor.com\n",
      "['https://nextdoor.com/', 'https://nextdoor.com/', 'https://nextdoor.nl/', 'https://nextdoor.co.uk/', 'https://nextdoor.de/', 'https://fr.nextdoor.com/', 'https://it.nextdoor.com/', 'https://es.nextdoor.com/', 'https://au.nextdoor.com/', 'https://dk.nextdoor.com/', 'https://se.nextdoor.com/', 'https://ca.nextdoor.com/', 'https://ca.nextdoor.com/', 'https://d19rpgkrjeba2z.cloudfront.net/b9b651cc0b575574/static/nextdoorv2/images/favicons/favicon-v2.ico']\n",
      "\n",
      "https://nextdoor.com['https://nextdoor.com/', 'https://nextdoor.com/', 'https://nextdoor.nl/', 'https://nextdoor.co.uk/', 'https://nextdoor.de/', 'https://fr.nextdoor.com/', 'https://it.nextdoor.com/', 'https://es.nextdoor.com/', 'https://au.nextdoor.com/', 'https://dk.nextdoor.com/', 'https://se.nextdoor.com/', 'https://ca.nextdoor.com/', 'https://ca.nextdoor.com/', 'https://d19rpgkrjeba2z.cloudfront.net/b9b651cc0b575574/static/nextdoorv2/images/favicons/favicon-v2.ico']\n",
      "\n",
      "https://nextdoor.com['https://nextdoor.com/', 'https://nextdoor.com/', 'https://nextdoor.nl/', 'https://nextdoor.co.uk/', 'https://nextdoor.de/', 'https://fr.nextdoor.com/', 'https://it.nextdoor.com/', 'https://es.nextdoor.com/', 'https://au.nextdoor.com/', 'https://dk.nextdoor.com/', 'https://se.nextdoor.com/', 'https://ca.nextdoor.com/', 'https://ca.nextdoor.com/', 'https://d19rpgkrjeba2z.cloudfront.net/b9b651cc0b575574/static/nextdoorv2/images/favicons/favicon-v2.ico']\n",
      "\n"
     ]
    },
    {
     "name": "stderr",
     "output_type": "stream",
     "text": [
      "/home/dan/src/para/venv/lib/python3.6/site-packages/urllib3/connectionpool.py:1004: InsecureRequestWarning: Unverified HTTPS request is being made. Adding certificate verification is strongly advised. See: https://urllib3.readthedocs.io/en/latest/advanced-usage.html#ssl-warnings\n",
      "  InsecureRequestWarning,\n",
      "/home/dan/src/para/venv/lib/python3.6/site-packages/urllib3/connectionpool.py:1004: InsecureRequestWarning: Unverified HTTPS request is being made. Adding certificate verification is strongly advised. See: https://urllib3.readthedocs.io/en/latest/advanced-usage.html#ssl-warnings\n",
      "  InsecureRequestWarning,\n",
      "/home/dan/src/para/venv/lib/python3.6/site-packages/urllib3/connectionpool.py:1004: InsecureRequestWarning: Unverified HTTPS request is being made. Adding certificate verification is strongly advised. See: https://urllib3.readthedocs.io/en/latest/advanced-usage.html#ssl-warnings\n",
      "  InsecureRequestWarning,\n"
     ]
    },
    {
     "name": "stdout",
     "output_type": "stream",
     "text": [
      "https://nextdoor.com['https://nextdoor.com/', 'https://nextdoor.com/', 'https://nextdoor.nl/', 'https://nextdoor.co.uk/', 'https://nextdoor.de/', 'https://fr.nextdoor.com/', 'https://it.nextdoor.com/', 'https://es.nextdoor.com/', 'https://au.nextdoor.com/', 'https://dk.nextdoor.com/', 'https://se.nextdoor.com/', 'https://ca.nextdoor.com/', 'https://ca.nextdoor.com/', 'https://d19rpgkrjeba2z.cloudfront.net/b9b651cc0b575574/static/nextdoorv2/images/favicons/favicon-v2.ico']\n",
      "\n",
      "https://nextdoor.com['https://nextdoor.com/', 'https://nextdoor.com/', 'https://nextdoor.nl/', 'https://nextdoor.co.uk/', 'https://nextdoor.de/', 'https://fr.nextdoor.com/', 'https://it.nextdoor.com/', 'https://es.nextdoor.com/', 'https://au.nextdoor.com/', 'https://dk.nextdoor.com/', 'https://se.nextdoor.com/', 'https://ca.nextdoor.com/', 'https://ca.nextdoor.com/', 'https://d19rpgkrjeba2z.cloudfront.net/b9b651cc0b575574/static/nextdoorv2/images/favicons/favicon-v2.ico']\n",
      "\n",
      "https://nextdoor.com['https://nextdoor.com/', 'https://nextdoor.com/', 'https://nextdoor.nl/', 'https://nextdoor.co.uk/', 'https://nextdoor.de/', 'https://fr.nextdoor.com/', 'https://it.nextdoor.com/', 'https://es.nextdoor.com/', 'https://au.nextdoor.com/', 'https://dk.nextdoor.com/', 'https://se.nextdoor.com/', 'https://ca.nextdoor.com/', 'https://ca.nextdoor.com/', 'https://d19rpgkrjeba2z.cloudfront.net/b9b651cc0b575574/static/nextdoorv2/images/favicons/favicon-v2.ico']\n",
      "\n"
     ]
    },
    {
     "name": "stderr",
     "output_type": "stream",
     "text": [
      "/home/dan/src/para/venv/lib/python3.6/site-packages/urllib3/connectionpool.py:1004: InsecureRequestWarning: Unverified HTTPS request is being made. Adding certificate verification is strongly advised. See: https://urllib3.readthedocs.io/en/latest/advanced-usage.html#ssl-warnings\n",
      "  InsecureRequestWarning,\n",
      "/home/dan/src/para/venv/lib/python3.6/site-packages/urllib3/connectionpool.py:1004: InsecureRequestWarning: Unverified HTTPS request is being made. Adding certificate verification is strongly advised. See: https://urllib3.readthedocs.io/en/latest/advanced-usage.html#ssl-warnings\n",
      "  InsecureRequestWarning,\n",
      "/home/dan/src/para/venv/lib/python3.6/site-packages/urllib3/connectionpool.py:1004: InsecureRequestWarning: Unverified HTTPS request is being made. Adding certificate verification is strongly advised. See: https://urllib3.readthedocs.io/en/latest/advanced-usage.html#ssl-warnings\n",
      "  InsecureRequestWarning,\n",
      "/home/dan/src/para/venv/lib/python3.6/site-packages/urllib3/connectionpool.py:1004: InsecureRequestWarning: Unverified HTTPS request is being made. Adding certificate verification is strongly advised. See: https://urllib3.readthedocs.io/en/latest/advanced-usage.html#ssl-warnings\n",
      "  InsecureRequestWarning,\n",
      "/home/dan/src/para/venv/lib/python3.6/site-packages/urllib3/connectionpool.py:1004: InsecureRequestWarning: Unverified HTTPS request is being made. Adding certificate verification is strongly advised. See: https://urllib3.readthedocs.io/en/latest/advanced-usage.html#ssl-warnings\n",
      "  InsecureRequestWarning,\n",
      "/home/dan/src/para/venv/lib/python3.6/site-packages/urllib3/connectionpool.py:1004: InsecureRequestWarning: Unverified HTTPS request is being made. Adding certificate verification is strongly advised. See: https://urllib3.readthedocs.io/en/latest/advanced-usage.html#ssl-warnings\n",
      "  InsecureRequestWarning,\n",
      "/home/dan/src/para/venv/lib/python3.6/site-packages/urllib3/connectionpool.py:1004: InsecureRequestWarning: Unverified HTTPS request is being made. Adding certificate verification is strongly advised. See: https://urllib3.readthedocs.io/en/latest/advanced-usage.html#ssl-warnings\n",
      "  InsecureRequestWarning,\n",
      "/home/dan/src/para/venv/lib/python3.6/site-packages/urllib3/connectionpool.py:1004: InsecureRequestWarning: Unverified HTTPS request is being made. Adding certificate verification is strongly advised. See: https://urllib3.readthedocs.io/en/latest/advanced-usage.html#ssl-warnings\n",
      "  InsecureRequestWarning,\n"
     ]
    },
    {
     "name": "stdout",
     "output_type": "stream",
     "text": [
      "https://nextdoor.com['https://nextdoor.com/', 'https://nextdoor.com/', 'https://nextdoor.nl/', 'https://nextdoor.co.uk/', 'https://nextdoor.de/', 'https://fr.nextdoor.com/', 'https://it.nextdoor.com/', 'https://es.nextdoor.com/', 'https://au.nextdoor.com/', 'https://dk.nextdoor.com/', 'https://se.nextdoor.com/', 'https://ca.nextdoor.com/', 'https://ca.nextdoor.com/', 'https://d19rpgkrjeba2z.cloudfront.net/b9b651cc0b575574/static/nextdoorv2/images/favicons/favicon-v2.ico']\n",
      "\n",
      "https://nextdoor.com\n",
      "['https://nextdoor.com/', 'https://nextdoor.com/', 'https://nextdoor.nl/', 'https://nextdoor.co.uk/', 'https://nextdoor.de/', 'https://fr.nextdoor.com/', 'https://it.nextdoor.com/', 'https://es.nextdoor.com/', 'https://au.nextdoor.com/', 'https://dk.nextdoor.com/', 'https://se.nextdoor.com/', 'https://ca.nextdoor.com/', 'https://ca.nextdoor.com/', 'https://d19rpgkrjeba2z.cloudfront.net/b9b651cc0b575574/static/nextdoorv2/images/favicons/favicon-v2.ico']\n",
      "https://nextdoor.com['https://nextdoor.com/', 'https://nextdoor.com/', 'https://nextdoor.nl/', 'https://nextdoor.co.uk/', 'https://nextdoor.de/', 'https://fr.nextdoor.com/', 'https://it.nextdoor.com/', 'https://es.nextdoor.com/', 'https://au.nextdoor.com/', 'https://dk.nextdoor.com/', 'https://se.nextdoor.com/', 'https://ca.nextdoor.com/', 'https://ca.nextdoor.com/', 'https://d19rpgkrjeba2z.cloudfront.net/b9b651cc0b575574/static/nextdoorv2/images/favicons/favicon-v2.ico']\n",
      "\n"
     ]
    },
    {
     "name": "stderr",
     "output_type": "stream",
     "text": [
      "/home/dan/src/para/venv/lib/python3.6/site-packages/urllib3/connectionpool.py:1004: InsecureRequestWarning: Unverified HTTPS request is being made. Adding certificate verification is strongly advised. See: https://urllib3.readthedocs.io/en/latest/advanced-usage.html#ssl-warnings\n",
      "  InsecureRequestWarning,\n",
      "/home/dan/src/para/venv/lib/python3.6/site-packages/urllib3/connectionpool.py:1004: InsecureRequestWarning: Unverified HTTPS request is being made. Adding certificate verification is strongly advised. See: https://urllib3.readthedocs.io/en/latest/advanced-usage.html#ssl-warnings\n",
      "  InsecureRequestWarning,\n",
      "/home/dan/src/para/venv/lib/python3.6/site-packages/urllib3/connectionpool.py:1004: InsecureRequestWarning: Unverified HTTPS request is being made. Adding certificate verification is strongly advised. See: https://urllib3.readthedocs.io/en/latest/advanced-usage.html#ssl-warnings\n",
      "  InsecureRequestWarning,\n",
      "/home/dan/src/para/venv/lib/python3.6/site-packages/urllib3/connectionpool.py:1004: InsecureRequestWarning: Unverified HTTPS request is being made. Adding certificate verification is strongly advised. See: https://urllib3.readthedocs.io/en/latest/advanced-usage.html#ssl-warnings\n",
      "  InsecureRequestWarning,\n",
      "/home/dan/src/para/venv/lib/python3.6/site-packages/urllib3/connectionpool.py:1004: InsecureRequestWarning: Unverified HTTPS request is being made. Adding certificate verification is strongly advised. See: https://urllib3.readthedocs.io/en/latest/advanced-usage.html#ssl-warnings\n",
      "  InsecureRequestWarning,\n",
      "/home/dan/src/para/venv/lib/python3.6/site-packages/urllib3/connectionpool.py:1004: InsecureRequestWarning: Unverified HTTPS request is being made. Adding certificate verification is strongly advised. See: https://urllib3.readthedocs.io/en/latest/advanced-usage.html#ssl-warnings\n",
      "  InsecureRequestWarning,\n"
     ]
    },
    {
     "name": "stdout",
     "output_type": "stream",
     "text": [
      "https://nextdoor.com['https://nextdoor.com/', 'https://nextdoor.com/', 'https://nextdoor.nl/', 'https://nextdoor.co.uk/', 'https://nextdoor.de/', 'https://fr.nextdoor.com/', 'https://it.nextdoor.com/', 'https://es.nextdoor.com/', 'https://au.nextdoor.com/', 'https://dk.nextdoor.com/', 'https://se.nextdoor.com/', 'https://ca.nextdoor.com/', 'https://ca.nextdoor.com/', 'https://d19rpgkrjeba2z.cloudfront.net/b9b651cc0b575574/static/nextdoorv2/images/favicons/favicon-v2.ico']\n",
      "\n",
      "https://nextdoor.com['https://nextdoor.com/', 'https://nextdoor.com/', 'https://nextdoor.nl/', 'https://nextdoor.co.uk/', 'https://nextdoor.de/', 'https://fr.nextdoor.com/', 'https://it.nextdoor.com/', 'https://es.nextdoor.com/', 'https://au.nextdoor.com/', 'https://dk.nextdoor.com/', 'https://se.nextdoor.com/', 'https://ca.nextdoor.com/', 'https://ca.nextdoor.com/', 'https://d19rpgkrjeba2z.cloudfront.net/b9b651cc0b575574/static/nextdoorv2/images/favicons/favicon-v2.ico']\n",
      "\n",
      "https://nextdoor.com['https://nextdoor.com/', 'https://nextdoor.com/', 'https://nextdoor.nl/', 'https://nextdoor.co.uk/', 'https://nextdoor.de/', 'https://fr.nextdoor.com/', 'https://it.nextdoor.com/', 'https://es.nextdoor.com/', 'https://au.nextdoor.com/', 'https://dk.nextdoor.com/', 'https://se.nextdoor.com/', 'https://ca.nextdoor.com/', 'https://ca.nextdoor.com/', 'https://d19rpgkrjeba2z.cloudfront.net/b9b651cc0b575574/static/nextdoorv2/images/favicons/favicon-v2.ico']\n",
      "\n",
      "https://nextdoor.com['https://nextdoor.com/', 'https://nextdoor.com/', 'https://nextdoor.nl/', 'https://nextdoor.co.uk/', 'https://nextdoor.de/', 'https://fr.nextdoor.com/', 'https://it.nextdoor.com/', 'https://es.nextdoor.com/', 'https://au.nextdoor.com/', 'https://dk.nextdoor.com/', 'https://se.nextdoor.com/', 'https://ca.nextdoor.com/', 'https://ca.nextdoor.com/', 'https://d19rpgkrjeba2z.cloudfront.net/b9b651cc0b575574/static/nextdoorv2/images/favicons/favicon-v2.ico']\n",
      "\n",
      "https://nextdoor.com['https://nextdoor.com/', 'https://nextdoor.com/', 'https://nextdoor.nl/', 'https://nextdoor.co.uk/', 'https://nextdoor.de/', 'https://fr.nextdoor.com/', 'https://it.nextdoor.com/', 'https://es.nextdoor.com/', 'https://au.nextdoor.com/', 'https://dk.nextdoor.com/', 'https://se.nextdoor.com/', 'https://ca.nextdoor.com/', 'https://ca.nextdoor.com/', 'https://d19rpgkrjeba2z.cloudfront.net/b9b651cc0b575574/static/nextdoorv2/images/favicons/favicon-v2.ico']\n",
      "\n"
     ]
    },
    {
     "name": "stderr",
     "output_type": "stream",
     "text": [
      "/home/dan/src/para/venv/lib/python3.6/site-packages/urllib3/connectionpool.py:1004: InsecureRequestWarning: Unverified HTTPS request is being made. Adding certificate verification is strongly advised. See: https://urllib3.readthedocs.io/en/latest/advanced-usage.html#ssl-warnings\n",
      "  InsecureRequestWarning,\n",
      "/home/dan/src/para/venv/lib/python3.6/site-packages/urllib3/connectionpool.py:1004: InsecureRequestWarning: Unverified HTTPS request is being made. Adding certificate verification is strongly advised. See: https://urllib3.readthedocs.io/en/latest/advanced-usage.html#ssl-warnings\n",
      "  InsecureRequestWarning,\n",
      "/home/dan/src/para/venv/lib/python3.6/site-packages/urllib3/connectionpool.py:1004: InsecureRequestWarning: Unverified HTTPS request is being made. Adding certificate verification is strongly advised. See: https://urllib3.readthedocs.io/en/latest/advanced-usage.html#ssl-warnings\n",
      "  InsecureRequestWarning,\n",
      "/home/dan/src/para/venv/lib/python3.6/site-packages/urllib3/connectionpool.py:1004: InsecureRequestWarning: Unverified HTTPS request is being made. Adding certificate verification is strongly advised. See: https://urllib3.readthedocs.io/en/latest/advanced-usage.html#ssl-warnings\n",
      "  InsecureRequestWarning,\n"
     ]
    },
    {
     "name": "stdout",
     "output_type": "stream",
     "text": [
      "https://nextdoor.comhttps://nextdoor.com['https://nextdoor.com/', 'https://nextdoor.com/', 'https://nextdoor.nl/', 'https://nextdoor.co.uk/', 'https://nextdoor.de/', 'https://fr.nextdoor.com/', 'https://it.nextdoor.com/', 'https://es.nextdoor.com/', 'https://au.nextdoor.com/', 'https://dk.nextdoor.com/', 'https://se.nextdoor.com/', 'https://ca.nextdoor.com/', 'https://ca.nextdoor.com/', 'https://d19rpgkrjeba2z.cloudfront.net/b9b651cc0b575574/static/nextdoorv2/images/favicons/favicon-v2.ico']\n",
      "['https://nextdoor.com/', 'https://nextdoor.com/', 'https://nextdoor.nl/', 'https://nextdoor.co.uk/', 'https://nextdoor.de/', 'https://fr.nextdoor.com/', 'https://it.nextdoor.com/', 'https://es.nextdoor.com/', 'https://au.nextdoor.com/', 'https://dk.nextdoor.com/', 'https://se.nextdoor.com/', 'https://ca.nextdoor.com/', 'https://ca.nextdoor.com/', 'https://d19rpgkrjeba2z.cloudfront.net/b9b651cc0b575574/static/nextdoorv2/images/favicons/favicon-v2.ico']\n",
      "\n",
      "\n",
      "https://nextdoor.com['https://nextdoor.com/', 'https://nextdoor.com/', 'https://nextdoor.nl/', 'https://nextdoor.co.uk/', 'https://nextdoor.de/', 'https://fr.nextdoor.com/', 'https://it.nextdoor.com/', 'https://es.nextdoor.com/', 'https://au.nextdoor.com/', 'https://dk.nextdoor.com/', 'https://se.nextdoor.com/', 'https://ca.nextdoor.com/', 'https://ca.nextdoor.com/', 'https://d19rpgkrjeba2z.cloudfront.net/b9b651cc0b575574/static/nextdoorv2/images/favicons/favicon-v2.ico']\n",
      "\n",
      "https://nextdoor.com['https://nextdoor.com/', 'https://nextdoor.com/', 'https://nextdoor.nl/', 'https://nextdoor.co.uk/', 'https://nextdoor.de/', 'https://fr.nextdoor.com/', 'https://it.nextdoor.com/', 'https://es.nextdoor.com/', 'https://au.nextdoor.com/', 'https://dk.nextdoor.com/', 'https://se.nextdoor.com/', 'https://ca.nextdoor.com/', 'https://ca.nextdoor.com/', 'https://d19rpgkrjeba2z.cloudfront.net/b9b651cc0b575574/static/nextdoorv2/images/favicons/favicon-v2.ico']\n",
      "\n",
      "https://nextdoor.com['https://nextdoor.com/', 'https://nextdoor.com/', 'https://nextdoor.nl/', 'https://nextdoor.co.uk/', 'https://nextdoor.de/', 'https://fr.nextdoor.com/', 'https://it.nextdoor.com/', 'https://es.nextdoor.com/', 'https://au.nextdoor.com/', 'https://dk.nextdoor.com/', 'https://se.nextdoor.com/', 'https://ca.nextdoor.com/', 'https://ca.nextdoor.com/', 'https://d19rpgkrjeba2z.cloudfront.net/b9b651cc0b575574/static/nextdoorv2/images/favicons/favicon-v2.ico']\n",
      "\n",
      "https://nextdoor.com\n",
      "['https://nextdoor.com/', 'https://nextdoor.com/', 'https://nextdoor.nl/', 'https://nextdoor.co.uk/', 'https://nextdoor.de/', 'https://fr.nextdoor.com/', 'https://it.nextdoor.com/', 'https://es.nextdoor.com/', 'https://au.nextdoor.com/', 'https://dk.nextdoor.com/', 'https://se.nextdoor.com/', 'https://ca.nextdoor.com/', 'https://ca.nextdoor.com/', 'https://d19rpgkrjeba2z.cloudfront.net/b9b651cc0b575574/static/nextdoorv2/images/favicons/favicon-v2.ico']\n"
     ]
    },
    {
     "name": "stderr",
     "output_type": "stream",
     "text": [
      "/home/dan/src/para/venv/lib/python3.6/site-packages/urllib3/connectionpool.py:1004: InsecureRequestWarning: Unverified HTTPS request is being made. Adding certificate verification is strongly advised. See: https://urllib3.readthedocs.io/en/latest/advanced-usage.html#ssl-warnings\n",
      "  InsecureRequestWarning,\n",
      "/home/dan/src/para/venv/lib/python3.6/site-packages/urllib3/connectionpool.py:1004: InsecureRequestWarning: Unverified HTTPS request is being made. Adding certificate verification is strongly advised. See: https://urllib3.readthedocs.io/en/latest/advanced-usage.html#ssl-warnings\n",
      "  InsecureRequestWarning,\n",
      "/home/dan/src/para/venv/lib/python3.6/site-packages/urllib3/connectionpool.py:1004: InsecureRequestWarning: Unverified HTTPS request is being made. Adding certificate verification is strongly advised. See: https://urllib3.readthedocs.io/en/latest/advanced-usage.html#ssl-warnings\n",
      "  InsecureRequestWarning,\n",
      "/home/dan/src/para/venv/lib/python3.6/site-packages/urllib3/connectionpool.py:1004: InsecureRequestWarning: Unverified HTTPS request is being made. Adding certificate verification is strongly advised. See: https://urllib3.readthedocs.io/en/latest/advanced-usage.html#ssl-warnings\n",
      "  InsecureRequestWarning,\n"
     ]
    },
    {
     "name": "stdout",
     "output_type": "stream",
     "text": [
      "https://nextdoor.com['https://nextdoor.com/', 'https://nextdoor.com/', 'https://nextdoor.nl/', 'https://nextdoor.co.uk/', 'https://nextdoor.de/', 'https://fr.nextdoor.com/', 'https://it.nextdoor.com/', 'https://es.nextdoor.com/', 'https://au.nextdoor.com/', 'https://dk.nextdoor.com/', 'https://se.nextdoor.com/', 'https://ca.nextdoor.com/', 'https://ca.nextdoor.com/', 'https://d19rpgkrjeba2z.cloudfront.net/b9b651cc0b575574/static/nextdoorv2/images/favicons/favicon-v2.ico']\n",
      "\n",
      "https://nextdoor.comhttps://nextdoor.com['https://nextdoor.com/', 'https://nextdoor.com/', 'https://nextdoor.nl/', 'https://nextdoor.co.uk/', 'https://nextdoor.de/', 'https://fr.nextdoor.com/', 'https://it.nextdoor.com/', 'https://es.nextdoor.com/', 'https://au.nextdoor.com/', 'https://dk.nextdoor.com/', 'https://se.nextdoor.com/', 'https://ca.nextdoor.com/', 'https://ca.nextdoor.com/', 'https://d19rpgkrjeba2z.cloudfront.net/b9b651cc0b575574/static/nextdoorv2/images/favicons/favicon-v2.ico']\n",
      "['https://nextdoor.com/', 'https://nextdoor.com/', 'https://nextdoor.nl/', 'https://nextdoor.co.uk/', 'https://nextdoor.de/', 'https://fr.nextdoor.com/', 'https://it.nextdoor.com/', 'https://es.nextdoor.com/', 'https://au.nextdoor.com/', 'https://dk.nextdoor.com/', 'https://se.nextdoor.com/', 'https://ca.nextdoor.com/', 'https://ca.nextdoor.com/', 'https://d19rpgkrjeba2z.cloudfront.net/b9b651cc0b575574/static/nextdoorv2/images/favicons/favicon-v2.ico']\n",
      "\n",
      "\n",
      "https://nextdoor.com\n",
      "['https://nextdoor.com/', 'https://nextdoor.com/', 'https://nextdoor.nl/', 'https://nextdoor.co.uk/', 'https://nextdoor.de/', 'https://fr.nextdoor.com/', 'https://it.nextdoor.com/', 'https://es.nextdoor.com/', 'https://au.nextdoor.com/', 'https://dk.nextdoor.com/', 'https://se.nextdoor.com/', 'https://ca.nextdoor.com/', 'https://ca.nextdoor.com/', 'https://d19rpgkrjeba2z.cloudfront.net/b9b651cc0b575574/static/nextdoorv2/images/favicons/favicon-v2.ico']\n",
      "https://nextdoor.com['https://nextdoor.com/', 'https://nextdoor.com/', 'https://nextdoor.nl/', 'https://nextdoor.co.uk/', 'https://nextdoor.de/', 'https://fr.nextdoor.com/', 'https://it.nextdoor.com/', 'https://es.nextdoor.com/', 'https://au.nextdoor.com/', 'https://dk.nextdoor.com/', 'https://se.nextdoor.com/', 'https://ca.nextdoor.com/', 'https://ca.nextdoor.com/', 'https://d19rpgkrjeba2z.cloudfront.net/b9b651cc0b575574/static/nextdoorv2/images/favicons/favicon-v2.ico']\n",
      "\n",
      "https://nextdoor.com['https://nextdoor.com/', 'https://nextdoor.com/', 'https://nextdoor.nl/', 'https://nextdoor.co.uk/', 'https://nextdoor.de/', 'https://fr.nextdoor.com/', 'https://it.nextdoor.com/', 'https://es.nextdoor.com/', 'https://au.nextdoor.com/', 'https://dk.nextdoor.com/', 'https://se.nextdoor.com/', 'https://ca.nextdoor.com/', 'https://ca.nextdoor.com/', 'https://d19rpgkrjeba2z.cloudfront.net/b9b651cc0b575574/static/nextdoorv2/images/favicons/favicon-v2.ico']\n",
      "\n"
     ]
    },
    {
     "name": "stderr",
     "output_type": "stream",
     "text": [
      "/home/dan/src/para/venv/lib/python3.6/site-packages/urllib3/connectionpool.py:1004: InsecureRequestWarning: Unverified HTTPS request is being made. Adding certificate verification is strongly advised. See: https://urllib3.readthedocs.io/en/latest/advanced-usage.html#ssl-warnings\n",
      "  InsecureRequestWarning,\n",
      "/home/dan/src/para/venv/lib/python3.6/site-packages/urllib3/connectionpool.py:1004: InsecureRequestWarning: Unverified HTTPS request is being made. Adding certificate verification is strongly advised. See: https://urllib3.readthedocs.io/en/latest/advanced-usage.html#ssl-warnings\n",
      "  InsecureRequestWarning,\n",
      "/home/dan/src/para/venv/lib/python3.6/site-packages/urllib3/connectionpool.py:1004: InsecureRequestWarning: Unverified HTTPS request is being made. Adding certificate verification is strongly advised. See: https://urllib3.readthedocs.io/en/latest/advanced-usage.html#ssl-warnings\n",
      "  InsecureRequestWarning,\n",
      "/home/dan/src/para/venv/lib/python3.6/site-packages/urllib3/connectionpool.py:1004: InsecureRequestWarning: Unverified HTTPS request is being made. Adding certificate verification is strongly advised. See: https://urllib3.readthedocs.io/en/latest/advanced-usage.html#ssl-warnings\n",
      "  InsecureRequestWarning,\n",
      "/home/dan/src/para/venv/lib/python3.6/site-packages/urllib3/connectionpool.py:1004: InsecureRequestWarning: Unverified HTTPS request is being made. Adding certificate verification is strongly advised. See: https://urllib3.readthedocs.io/en/latest/advanced-usage.html#ssl-warnings\n",
      "  InsecureRequestWarning,\n",
      "/home/dan/src/para/venv/lib/python3.6/site-packages/urllib3/connectionpool.py:1004: InsecureRequestWarning: Unverified HTTPS request is being made. Adding certificate verification is strongly advised. See: https://urllib3.readthedocs.io/en/latest/advanced-usage.html#ssl-warnings\n",
      "  InsecureRequestWarning,\n",
      "/home/dan/src/para/venv/lib/python3.6/site-packages/urllib3/connectionpool.py:1004: InsecureRequestWarning: Unverified HTTPS request is being made. Adding certificate verification is strongly advised. See: https://urllib3.readthedocs.io/en/latest/advanced-usage.html#ssl-warnings\n",
      "  InsecureRequestWarning,\n"
     ]
    },
    {
     "name": "stdout",
     "output_type": "stream",
     "text": [
      "https://nextdoor.comhttps://nextdoor.com\n",
      "\n",
      "['https://nextdoor.com/', 'https://nextdoor.com/', 'https://nextdoor.nl/', 'https://nextdoor.co.uk/', 'https://nextdoor.de/', 'https://fr.nextdoor.com/', 'https://it.nextdoor.com/', 'https://es.nextdoor.com/', 'https://au.nextdoor.com/', 'https://dk.nextdoor.com/', 'https://se.nextdoor.com/', 'https://ca.nextdoor.com/', 'https://ca.nextdoor.com/', 'https://d19rpgkrjeba2z.cloudfront.net/b9b651cc0b575574/static/nextdoorv2/images/favicons/favicon-v2.ico']\n",
      "['https://nextdoor.com/', 'https://nextdoor.com/', 'https://nextdoor.nl/', 'https://nextdoor.co.uk/', 'https://nextdoor.de/', 'https://fr.nextdoor.com/', 'https://it.nextdoor.com/', 'https://es.nextdoor.com/', 'https://au.nextdoor.com/', 'https://dk.nextdoor.com/', 'https://se.nextdoor.com/', 'https://ca.nextdoor.com/', 'https://ca.nextdoor.com/', 'https://d19rpgkrjeba2z.cloudfront.net/b9b651cc0b575574/static/nextdoorv2/images/favicons/favicon-v2.ico']\n",
      "https://nextdoor.com['https://nextdoor.com/', 'https://nextdoor.com/', 'https://nextdoor.nl/', 'https://nextdoor.co.uk/', 'https://nextdoor.de/', 'https://fr.nextdoor.com/', 'https://it.nextdoor.com/', 'https://es.nextdoor.com/', 'https://au.nextdoor.com/', 'https://dk.nextdoor.com/', 'https://se.nextdoor.com/', 'https://ca.nextdoor.com/', 'https://ca.nextdoor.com/', 'https://d19rpgkrjeba2z.cloudfront.net/b9b651cc0b575574/static/nextdoorv2/images/favicons/favicon-v2.ico']\n",
      "\n",
      "https://nextdoor.com['https://nextdoor.com/', 'https://nextdoor.com/', 'https://nextdoor.nl/', 'https://nextdoor.co.uk/', 'https://nextdoor.de/', 'https://fr.nextdoor.com/', 'https://it.nextdoor.com/', 'https://es.nextdoor.com/', 'https://au.nextdoor.com/', 'https://dk.nextdoor.com/', 'https://se.nextdoor.com/', 'https://ca.nextdoor.com/', 'https://ca.nextdoor.com/', 'https://d19rpgkrjeba2z.cloudfront.net/b9b651cc0b575574/static/nextdoorv2/images/favicons/favicon-v2.ico']\n",
      "\n",
      "https://nextdoor.comhttps://nextdoor.com['https://nextdoor.com/', 'https://nextdoor.com/', 'https://nextdoor.nl/', 'https://nextdoor.co.uk/', 'https://nextdoor.de/', 'https://fr.nextdoor.com/', 'https://it.nextdoor.com/', 'https://es.nextdoor.com/', 'https://au.nextdoor.com/', 'https://dk.nextdoor.com/', 'https://se.nextdoor.com/', 'https://ca.nextdoor.com/', 'https://ca.nextdoor.com/', 'https://d19rpgkrjeba2z.cloudfront.net/b9b651cc0b575574/static/nextdoorv2/images/favicons/favicon-v2.ico']\n",
      "\n",
      "['https://nextdoor.com/', 'https://nextdoor.com/', 'https://nextdoor.nl/', 'https://nextdoor.co.uk/', 'https://nextdoor.de/', 'https://fr.nextdoor.com/', 'https://it.nextdoor.com/', 'https://es.nextdoor.com/', 'https://au.nextdoor.com/', 'https://dk.nextdoor.com/', 'https://se.nextdoor.com/', 'https://ca.nextdoor.com/', 'https://ca.nextdoor.com/', 'https://d19rpgkrjeba2z.cloudfront.net/b9b651cc0b575574/static/nextdoorv2/images/favicons/favicon-v2.ico']\n",
      "\n"
     ]
    },
    {
     "name": "stderr",
     "output_type": "stream",
     "text": [
      "/home/dan/src/para/venv/lib/python3.6/site-packages/urllib3/connectionpool.py:1004: InsecureRequestWarning: Unverified HTTPS request is being made. Adding certificate verification is strongly advised. See: https://urllib3.readthedocs.io/en/latest/advanced-usage.html#ssl-warnings\n",
      "  InsecureRequestWarning,\n",
      "/home/dan/src/para/venv/lib/python3.6/site-packages/urllib3/connectionpool.py:1004: InsecureRequestWarning: Unverified HTTPS request is being made. Adding certificate verification is strongly advised. See: https://urllib3.readthedocs.io/en/latest/advanced-usage.html#ssl-warnings\n",
      "  InsecureRequestWarning,\n",
      "/home/dan/src/para/venv/lib/python3.6/site-packages/urllib3/connectionpool.py:1004: InsecureRequestWarning: Unverified HTTPS request is being made. Adding certificate verification is strongly advised. See: https://urllib3.readthedocs.io/en/latest/advanced-usage.html#ssl-warnings\n",
      "  InsecureRequestWarning,\n",
      "/home/dan/src/para/venv/lib/python3.6/site-packages/urllib3/connectionpool.py:1004: InsecureRequestWarning: Unverified HTTPS request is being made. Adding certificate verification is strongly advised. See: https://urllib3.readthedocs.io/en/latest/advanced-usage.html#ssl-warnings\n",
      "  InsecureRequestWarning,\n"
     ]
    },
    {
     "name": "stdout",
     "output_type": "stream",
     "text": [
      "https://nextdoor.com['https://nextdoor.com/', 'https://nextdoor.com/', 'https://nextdoor.nl/', 'https://nextdoor.co.uk/', 'https://nextdoor.de/', 'https://fr.nextdoor.com/', 'https://it.nextdoor.com/', 'https://es.nextdoor.com/', 'https://au.nextdoor.com/', 'https://dk.nextdoor.com/', 'https://se.nextdoor.com/', 'https://ca.nextdoor.com/', 'https://ca.nextdoor.com/', 'https://d19rpgkrjeba2z.cloudfront.net/b9b651cc0b575574/static/nextdoorv2/images/favicons/favicon-v2.ico']\n",
      "\n",
      "https://nextdoor.com['https://nextdoor.com/', 'https://nextdoor.com/', 'https://nextdoor.nl/', 'https://nextdoor.co.uk/', 'https://nextdoor.de/', 'https://fr.nextdoor.com/', 'https://it.nextdoor.com/', 'https://es.nextdoor.com/', 'https://au.nextdoor.com/', 'https://dk.nextdoor.com/', 'https://se.nextdoor.com/', 'https://ca.nextdoor.com/', 'https://ca.nextdoor.com/', 'https://d19rpgkrjeba2z.cloudfront.net/b9b651cc0b575574/static/nextdoorv2/images/favicons/favicon-v2.ico']\n",
      "\n"
     ]
    },
    {
     "name": "stderr",
     "output_type": "stream",
     "text": [
      "/home/dan/src/para/venv/lib/python3.6/site-packages/urllib3/connectionpool.py:1004: InsecureRequestWarning: Unverified HTTPS request is being made. Adding certificate verification is strongly advised. See: https://urllib3.readthedocs.io/en/latest/advanced-usage.html#ssl-warnings\n",
      "  InsecureRequestWarning,\n",
      "/home/dan/src/para/venv/lib/python3.6/site-packages/urllib3/connectionpool.py:1004: InsecureRequestWarning: Unverified HTTPS request is being made. Adding certificate verification is strongly advised. See: https://urllib3.readthedocs.io/en/latest/advanced-usage.html#ssl-warnings\n",
      "  InsecureRequestWarning,\n",
      "/home/dan/src/para/venv/lib/python3.6/site-packages/urllib3/connectionpool.py:1004: InsecureRequestWarning: Unverified HTTPS request is being made. Adding certificate verification is strongly advised. See: https://urllib3.readthedocs.io/en/latest/advanced-usage.html#ssl-warnings\n",
      "  InsecureRequestWarning,\n",
      "/home/dan/src/para/venv/lib/python3.6/site-packages/urllib3/connectionpool.py:1004: InsecureRequestWarning: Unverified HTTPS request is being made. Adding certificate verification is strongly advised. See: https://urllib3.readthedocs.io/en/latest/advanced-usage.html#ssl-warnings\n",
      "  InsecureRequestWarning,\n",
      "/home/dan/src/para/venv/lib/python3.6/site-packages/urllib3/connectionpool.py:1004: InsecureRequestWarning: Unverified HTTPS request is being made. Adding certificate verification is strongly advised. See: https://urllib3.readthedocs.io/en/latest/advanced-usage.html#ssl-warnings\n",
      "  InsecureRequestWarning,\n",
      "/home/dan/src/para/venv/lib/python3.6/site-packages/urllib3/connectionpool.py:1004: InsecureRequestWarning: Unverified HTTPS request is being made. Adding certificate verification is strongly advised. See: https://urllib3.readthedocs.io/en/latest/advanced-usage.html#ssl-warnings\n",
      "  InsecureRequestWarning,\n",
      "/home/dan/src/para/venv/lib/python3.6/site-packages/urllib3/connectionpool.py:1004: InsecureRequestWarning: Unverified HTTPS request is being made. Adding certificate verification is strongly advised. See: https://urllib3.readthedocs.io/en/latest/advanced-usage.html#ssl-warnings\n",
      "  InsecureRequestWarning,\n"
     ]
    },
    {
     "name": "stdout",
     "output_type": "stream",
     "text": [
      "https://nextdoor.com['https://nextdoor.com/', 'https://nextdoor.com/', 'https://nextdoor.nl/', 'https://nextdoor.co.uk/', 'https://nextdoor.de/', 'https://fr.nextdoor.com/', 'https://it.nextdoor.com/', 'https://es.nextdoor.com/', 'https://au.nextdoor.com/', 'https://dk.nextdoor.com/', 'https://se.nextdoor.com/', 'https://ca.nextdoor.com/', 'https://ca.nextdoor.com/', 'https://d19rpgkrjeba2z.cloudfront.net/b9b651cc0b575574/static/nextdoorv2/images/favicons/favicon-v2.ico']\n",
      "\n",
      "https://nextdoor.com['https://nextdoor.com/', 'https://nextdoor.com/', 'https://nextdoor.nl/', 'https://nextdoor.co.uk/', 'https://nextdoor.de/', 'https://fr.nextdoor.com/', 'https://it.nextdoor.com/', 'https://es.nextdoor.com/', 'https://au.nextdoor.com/', 'https://dk.nextdoor.com/', 'https://se.nextdoor.com/', 'https://ca.nextdoor.com/', 'https://ca.nextdoor.com/', 'https://d19rpgkrjeba2z.cloudfront.net/b9b651cc0b575574/static/nextdoorv2/images/favicons/favicon-v2.ico']\n",
      "\n",
      "https://nextdoor.com['https://nextdoor.com/', 'https://nextdoor.com/', 'https://nextdoor.nl/', 'https://nextdoor.co.uk/', 'https://nextdoor.de/', 'https://fr.nextdoor.com/', 'https://it.nextdoor.com/', 'https://es.nextdoor.com/', 'https://au.nextdoor.com/', 'https://dk.nextdoor.com/', 'https://se.nextdoor.com/', 'https://ca.nextdoor.com/', 'https://ca.nextdoor.com/', 'https://d19rpgkrjeba2z.cloudfront.net/b9b651cc0b575574/static/nextdoorv2/images/favicons/favicon-v2.ico']\n",
      "\n",
      "https://nextdoor.com['https://nextdoor.com/', 'https://nextdoor.com/', 'https://nextdoor.nl/', 'https://nextdoor.co.uk/', 'https://nextdoor.de/', 'https://fr.nextdoor.com/', 'https://it.nextdoor.com/', 'https://es.nextdoor.com/', 'https://au.nextdoor.com/', 'https://dk.nextdoor.com/', 'https://se.nextdoor.com/', 'https://ca.nextdoor.com/', 'https://ca.nextdoor.com/', 'https://d19rpgkrjeba2z.cloudfront.net/b9b651cc0b575574/static/nextdoorv2/images/favicons/favicon-v2.ico']\n",
      "\n",
      "https://nextdoor.com\n",
      "['https://nextdoor.com/', 'https://nextdoor.com/', 'https://nextdoor.nl/', 'https://nextdoor.co.uk/', 'https://nextdoor.de/', 'https://fr.nextdoor.com/', 'https://it.nextdoor.com/', 'https://es.nextdoor.com/', 'https://au.nextdoor.com/', 'https://dk.nextdoor.com/', 'https://se.nextdoor.com/', 'https://ca.nextdoor.com/', 'https://ca.nextdoor.com/', 'https://d19rpgkrjeba2z.cloudfront.net/b9b651cc0b575574/static/nextdoorv2/images/favicons/favicon-v2.ico']\n",
      "https://nextdoor.com\n",
      "['https://nextdoor.com/', 'https://nextdoor.com/', 'https://nextdoor.nl/', 'https://nextdoor.co.uk/', 'https://nextdoor.de/', 'https://fr.nextdoor.com/', 'https://it.nextdoor.com/', 'https://es.nextdoor.com/', 'https://au.nextdoor.com/', 'https://dk.nextdoor.com/', 'https://se.nextdoor.com/', 'https://ca.nextdoor.com/', 'https://ca.nextdoor.com/', 'https://d19rpgkrjeba2z.cloudfront.net/b9b651cc0b575574/static/nextdoorv2/images/favicons/favicon-v2.ico']\n",
      "https://nextdoor.com['https://nextdoor.com/', 'https://nextdoor.com/', 'https://nextdoor.nl/', 'https://nextdoor.co.uk/', 'https://nextdoor.de/', 'https://fr.nextdoor.com/', 'https://it.nextdoor.com/', 'https://es.nextdoor.com/', 'https://au.nextdoor.com/', 'https://dk.nextdoor.com/', 'https://se.nextdoor.com/', 'https://ca.nextdoor.com/', 'https://ca.nextdoor.com/', 'https://d19rpgkrjeba2z.cloudfront.net/b9b651cc0b575574/static/nextdoorv2/images/favicons/favicon-v2.ico']\n",
      "\n"
     ]
    },
    {
     "name": "stderr",
     "output_type": "stream",
     "text": [
      "/home/dan/src/para/venv/lib/python3.6/site-packages/urllib3/connectionpool.py:1004: InsecureRequestWarning: Unverified HTTPS request is being made. Adding certificate verification is strongly advised. See: https://urllib3.readthedocs.io/en/latest/advanced-usage.html#ssl-warnings\n",
      "  InsecureRequestWarning,\n",
      "/home/dan/src/para/venv/lib/python3.6/site-packages/urllib3/connectionpool.py:1004: InsecureRequestWarning: Unverified HTTPS request is being made. Adding certificate verification is strongly advised. See: https://urllib3.readthedocs.io/en/latest/advanced-usage.html#ssl-warnings\n",
      "  InsecureRequestWarning,\n",
      "/home/dan/src/para/venv/lib/python3.6/site-packages/urllib3/connectionpool.py:1004: InsecureRequestWarning: Unverified HTTPS request is being made. Adding certificate verification is strongly advised. See: https://urllib3.readthedocs.io/en/latest/advanced-usage.html#ssl-warnings\n",
      "  InsecureRequestWarning,\n",
      "/home/dan/src/para/venv/lib/python3.6/site-packages/urllib3/connectionpool.py:1004: InsecureRequestWarning: Unverified HTTPS request is being made. Adding certificate verification is strongly advised. See: https://urllib3.readthedocs.io/en/latest/advanced-usage.html#ssl-warnings\n",
      "  InsecureRequestWarning,\n",
      "/home/dan/src/para/venv/lib/python3.6/site-packages/urllib3/connectionpool.py:1004: InsecureRequestWarning: Unverified HTTPS request is being made. Adding certificate verification is strongly advised. See: https://urllib3.readthedocs.io/en/latest/advanced-usage.html#ssl-warnings\n",
      "  InsecureRequestWarning,\n"
     ]
    },
    {
     "name": "stdout",
     "output_type": "stream",
     "text": [
      "https://nextdoor.com['https://nextdoor.com/', 'https://nextdoor.com/', 'https://nextdoor.nl/', 'https://nextdoor.co.uk/', 'https://nextdoor.de/', 'https://fr.nextdoor.com/', 'https://it.nextdoor.com/', 'https://es.nextdoor.com/', 'https://au.nextdoor.com/', 'https://dk.nextdoor.com/', 'https://se.nextdoor.com/', 'https://ca.nextdoor.com/', 'https://ca.nextdoor.com/', 'https://d19rpgkrjeba2z.cloudfront.net/b9b651cc0b575574/static/nextdoorv2/images/favicons/favicon-v2.ico']\n",
      "\n",
      "https://nextdoor.com['https://nextdoor.com/', 'https://nextdoor.com/', 'https://nextdoor.nl/', 'https://nextdoor.co.uk/', 'https://nextdoor.de/', 'https://fr.nextdoor.com/', 'https://it.nextdoor.com/', 'https://es.nextdoor.com/', 'https://au.nextdoor.com/', 'https://dk.nextdoor.com/', 'https://se.nextdoor.com/', 'https://ca.nextdoor.com/', 'https://ca.nextdoor.com/', 'https://d19rpgkrjeba2z.cloudfront.net/b9b651cc0b575574/static/nextdoorv2/images/favicons/favicon-v2.ico']\n",
      "\n",
      "https://nextdoor.com['https://nextdoor.com/', 'https://nextdoor.com/', 'https://nextdoor.nl/', 'https://nextdoor.co.uk/', 'https://nextdoor.de/', 'https://fr.nextdoor.com/', 'https://it.nextdoor.com/', 'https://es.nextdoor.com/', 'https://au.nextdoor.com/', 'https://dk.nextdoor.com/', 'https://se.nextdoor.com/', 'https://ca.nextdoor.com/', 'https://ca.nextdoor.com/', 'https://d19rpgkrjeba2z.cloudfront.net/b9b651cc0b575574/static/nextdoorv2/images/favicons/favicon-v2.ico']\n",
      "\n",
      "https://nextdoor.com['https://nextdoor.com/', 'https://nextdoor.com/', 'https://nextdoor.nl/', 'https://nextdoor.co.uk/', 'https://nextdoor.de/', 'https://fr.nextdoor.com/', 'https://it.nextdoor.com/', 'https://es.nextdoor.com/', 'https://au.nextdoor.com/', 'https://dk.nextdoor.com/', 'https://se.nextdoor.com/', 'https://ca.nextdoor.com/', 'https://ca.nextdoor.com/', 'https://d19rpgkrjeba2z.cloudfront.net/b9b651cc0b575574/static/nextdoorv2/images/favicons/favicon-v2.ico']\n",
      "\n",
      "https://nextdoor.com\n",
      "['https://nextdoor.com/', 'https://nextdoor.com/', 'https://nextdoor.nl/', 'https://nextdoor.co.uk/', 'https://nextdoor.de/', 'https://fr.nextdoor.com/', 'https://it.nextdoor.com/', 'https://es.nextdoor.com/', 'https://au.nextdoor.com/', 'https://dk.nextdoor.com/', 'https://se.nextdoor.com/', 'https://ca.nextdoor.com/', 'https://ca.nextdoor.com/', 'https://d19rpgkrjeba2z.cloudfront.net/b9b651cc0b575574/static/nextdoorv2/images/favicons/favicon-v2.ico']\n",
      "https://nextdoor.com['https://nextdoor.com/', 'https://nextdoor.com/', 'https://nextdoor.nl/', 'https://nextdoor.co.uk/', 'https://nextdoor.de/', 'https://fr.nextdoor.com/', 'https://it.nextdoor.com/', 'https://es.nextdoor.com/', 'https://au.nextdoor.com/', 'https://dk.nextdoor.com/', 'https://se.nextdoor.com/', 'https://ca.nextdoor.com/', 'https://ca.nextdoor.com/', 'https://d19rpgkrjeba2z.cloudfront.net/b9b651cc0b575574/static/nextdoorv2/images/favicons/favicon-v2.ico']\n",
      "\n",
      "https://nextdoor.com\n",
      "['https://nextdoor.com/', 'https://nextdoor.com/', 'https://nextdoor.nl/', 'https://nextdoor.co.uk/', 'https://nextdoor.de/', 'https://fr.nextdoor.com/', 'https://it.nextdoor.com/', 'https://es.nextdoor.com/', 'https://au.nextdoor.com/', 'https://dk.nextdoor.com/', 'https://se.nextdoor.com/', 'https://ca.nextdoor.com/', 'https://ca.nextdoor.com/', 'https://d19rpgkrjeba2z.cloudfront.net/b9b651cc0b575574/static/nextdoorv2/images/favicons/favicon-v2.ico']\n",
      "https://nextdoor.com['https://nextdoor.com/', 'https://nextdoor.com/', 'https://nextdoor.nl/', 'https://nextdoor.co.uk/', 'https://nextdoor.de/', 'https://fr.nextdoor.com/', 'https://it.nextdoor.com/', 'https://es.nextdoor.com/', 'https://au.nextdoor.com/', 'https://dk.nextdoor.com/', 'https://se.nextdoor.com/', 'https://ca.nextdoor.com/', 'https://ca.nextdoor.com/', 'https://d19rpgkrjeba2z.cloudfront.net/b9b651cc0b575574/static/nextdoorv2/images/favicons/favicon-v2.ico']\n",
      "\n",
      "https://nextdoor.com['https://nextdoor.com/', 'https://nextdoor.com/', 'https://nextdoor.nl/', 'https://nextdoor.co.uk/', 'https://nextdoor.de/', 'https://fr.nextdoor.com/', 'https://it.nextdoor.com/', 'https://es.nextdoor.com/', 'https://au.nextdoor.com/', 'https://dk.nextdoor.com/', 'https://se.nextdoor.com/', 'https://ca.nextdoor.com/', 'https://ca.nextdoor.com/', 'https://d19rpgkrjeba2z.cloudfront.net/b9b651cc0b575574/static/nextdoorv2/images/favicons/favicon-v2.ico']\n",
      "\n"
     ]
    },
    {
     "name": "stderr",
     "output_type": "stream",
     "text": [
      "/home/dan/src/para/venv/lib/python3.6/site-packages/urllib3/connectionpool.py:1004: InsecureRequestWarning: Unverified HTTPS request is being made. Adding certificate verification is strongly advised. See: https://urllib3.readthedocs.io/en/latest/advanced-usage.html#ssl-warnings\n",
      "  InsecureRequestWarning,\n",
      "/home/dan/src/para/venv/lib/python3.6/site-packages/urllib3/connectionpool.py:1004: InsecureRequestWarning: Unverified HTTPS request is being made. Adding certificate verification is strongly advised. See: https://urllib3.readthedocs.io/en/latest/advanced-usage.html#ssl-warnings\n",
      "  InsecureRequestWarning,\n",
      "/home/dan/src/para/venv/lib/python3.6/site-packages/urllib3/connectionpool.py:1004: InsecureRequestWarning: Unverified HTTPS request is being made. Adding certificate verification is strongly advised. See: https://urllib3.readthedocs.io/en/latest/advanced-usage.html#ssl-warnings\n",
      "  InsecureRequestWarning,\n",
      "/home/dan/src/para/venv/lib/python3.6/site-packages/urllib3/connectionpool.py:1004: InsecureRequestWarning: Unverified HTTPS request is being made. Adding certificate verification is strongly advised. See: https://urllib3.readthedocs.io/en/latest/advanced-usage.html#ssl-warnings\n",
      "  InsecureRequestWarning,\n"
     ]
    },
    {
     "name": "stdout",
     "output_type": "stream",
     "text": [
      "https://nextdoor.com['https://nextdoor.com/', 'https://nextdoor.com/', 'https://nextdoor.nl/', 'https://nextdoor.co.uk/', 'https://nextdoor.de/', 'https://fr.nextdoor.com/', 'https://it.nextdoor.com/', 'https://es.nextdoor.com/', 'https://au.nextdoor.com/', 'https://dk.nextdoor.com/', 'https://se.nextdoor.com/', 'https://ca.nextdoor.com/', 'https://ca.nextdoor.com/', 'https://d19rpgkrjeba2z.cloudfront.net/b9b651cc0b575574/static/nextdoorv2/images/favicons/favicon-v2.ico']\n",
      "\n",
      "https://nextdoor.com['https://nextdoor.com/', 'https://nextdoor.com/', 'https://nextdoor.nl/', 'https://nextdoor.co.uk/', 'https://nextdoor.de/', 'https://fr.nextdoor.com/', 'https://it.nextdoor.com/', 'https://es.nextdoor.com/', 'https://au.nextdoor.com/', 'https://dk.nextdoor.com/', 'https://se.nextdoor.com/', 'https://ca.nextdoor.com/', 'https://ca.nextdoor.com/', 'https://d19rpgkrjeba2z.cloudfront.net/b9b651cc0b575574/static/nextdoorv2/images/favicons/favicon-v2.ico']\n",
      "\n",
      "https://nextdoor.com['https://nextdoor.com/', 'https://nextdoor.com/', 'https://nextdoor.nl/', 'https://nextdoor.co.uk/', 'https://nextdoor.de/', 'https://fr.nextdoor.com/', 'https://it.nextdoor.com/', 'https://es.nextdoor.com/', 'https://au.nextdoor.com/', 'https://dk.nextdoor.com/', 'https://se.nextdoor.com/', 'https://ca.nextdoor.com/', 'https://ca.nextdoor.com/', 'https://d19rpgkrjeba2z.cloudfront.net/b9b651cc0b575574/static/nextdoorv2/images/favicons/favicon-v2.ico']\n",
      "\n",
      "https://nextdoor.com['https://nextdoor.com/', 'https://nextdoor.com/', 'https://nextdoor.nl/', 'https://nextdoor.co.uk/', 'https://nextdoor.de/', 'https://fr.nextdoor.com/', 'https://it.nextdoor.com/', 'https://es.nextdoor.com/', 'https://au.nextdoor.com/', 'https://dk.nextdoor.com/', 'https://se.nextdoor.com/', 'https://ca.nextdoor.com/', 'https://ca.nextdoor.com/', 'https://d19rpgkrjeba2z.cloudfront.net/b9b651cc0b575574/static/nextdoorv2/images/favicons/favicon-v2.ico']\n",
      "\n",
      "https://nextdoor.com['https://nextdoor.com/', 'https://nextdoor.com/', 'https://nextdoor.nl/', 'https://nextdoor.co.uk/', 'https://nextdoor.de/', 'https://fr.nextdoor.com/', 'https://it.nextdoor.com/', 'https://es.nextdoor.com/', 'https://au.nextdoor.com/', 'https://dk.nextdoor.com/', 'https://se.nextdoor.com/', 'https://ca.nextdoor.com/', 'https://ca.nextdoor.com/', 'https://d19rpgkrjeba2z.cloudfront.net/b9b651cc0b575574/static/nextdoorv2/images/favicons/favicon-v2.ico']\n",
      "\n"
     ]
    },
    {
     "name": "stderr",
     "output_type": "stream",
     "text": [
      "/home/dan/src/para/venv/lib/python3.6/site-packages/urllib3/connectionpool.py:1004: InsecureRequestWarning: Unverified HTTPS request is being made. Adding certificate verification is strongly advised. See: https://urllib3.readthedocs.io/en/latest/advanced-usage.html#ssl-warnings\n",
      "  InsecureRequestWarning,\n",
      "/home/dan/src/para/venv/lib/python3.6/site-packages/urllib3/connectionpool.py:1004: InsecureRequestWarning: Unverified HTTPS request is being made. Adding certificate verification is strongly advised. See: https://urllib3.readthedocs.io/en/latest/advanced-usage.html#ssl-warnings\n",
      "  InsecureRequestWarning,\n",
      "/home/dan/src/para/venv/lib/python3.6/site-packages/urllib3/connectionpool.py:1004: InsecureRequestWarning: Unverified HTTPS request is being made. Adding certificate verification is strongly advised. See: https://urllib3.readthedocs.io/en/latest/advanced-usage.html#ssl-warnings\n",
      "  InsecureRequestWarning,\n",
      "/home/dan/src/para/venv/lib/python3.6/site-packages/urllib3/connectionpool.py:1004: InsecureRequestWarning: Unverified HTTPS request is being made. Adding certificate verification is strongly advised. See: https://urllib3.readthedocs.io/en/latest/advanced-usage.html#ssl-warnings\n",
      "  InsecureRequestWarning,\n",
      "/home/dan/src/para/venv/lib/python3.6/site-packages/urllib3/connectionpool.py:1004: InsecureRequestWarning: Unverified HTTPS request is being made. Adding certificate verification is strongly advised. See: https://urllib3.readthedocs.io/en/latest/advanced-usage.html#ssl-warnings\n",
      "  InsecureRequestWarning,\n"
     ]
    },
    {
     "name": "stdout",
     "output_type": "stream",
     "text": [
      "https://nextdoor.com['https://nextdoor.com/', 'https://nextdoor.com/', 'https://nextdoor.nl/', 'https://nextdoor.co.uk/', 'https://nextdoor.de/', 'https://fr.nextdoor.com/', 'https://it.nextdoor.com/', 'https://es.nextdoor.com/', 'https://au.nextdoor.com/', 'https://dk.nextdoor.com/', 'https://se.nextdoor.com/', 'https://ca.nextdoor.com/', 'https://ca.nextdoor.com/', 'https://d19rpgkrjeba2z.cloudfront.net/b9b651cc0b575574/static/nextdoorv2/images/favicons/favicon-v2.ico']\n",
      "\n",
      "https://nextdoor.comhttps://nextdoor.com['https://nextdoor.com/', 'https://nextdoor.com/', 'https://nextdoor.nl/', 'https://nextdoor.co.uk/', 'https://nextdoor.de/', 'https://fr.nextdoor.com/', 'https://it.nextdoor.com/', 'https://es.nextdoor.com/', 'https://au.nextdoor.com/', 'https://dk.nextdoor.com/', 'https://se.nextdoor.com/', 'https://ca.nextdoor.com/', 'https://ca.nextdoor.com/', 'https://d19rpgkrjeba2z.cloudfront.net/b9b651cc0b575574/static/nextdoorv2/images/favicons/favicon-v2.ico']\n",
      "\n",
      "\n",
      "['https://nextdoor.com/', 'https://nextdoor.com/', 'https://nextdoor.nl/', 'https://nextdoor.co.uk/', 'https://nextdoor.de/', 'https://fr.nextdoor.com/', 'https://it.nextdoor.com/', 'https://es.nextdoor.com/', 'https://au.nextdoor.com/', 'https://dk.nextdoor.com/', 'https://se.nextdoor.com/', 'https://ca.nextdoor.com/', 'https://ca.nextdoor.com/', 'https://d19rpgkrjeba2z.cloudfront.net/b9b651cc0b575574/static/nextdoorv2/images/favicons/favicon-v2.ico']\n",
      "https://nextdoor.com['https://nextdoor.com/', 'https://nextdoor.com/', 'https://nextdoor.nl/', 'https://nextdoor.co.uk/', 'https://nextdoor.de/', 'https://fr.nextdoor.com/', 'https://it.nextdoor.com/', 'https://es.nextdoor.com/', 'https://au.nextdoor.com/', 'https://dk.nextdoor.com/', 'https://se.nextdoor.com/', 'https://ca.nextdoor.com/', 'https://ca.nextdoor.com/', 'https://d19rpgkrjeba2z.cloudfront.net/b9b651cc0b575574/static/nextdoorv2/images/favicons/favicon-v2.ico']\n",
      "\n"
     ]
    },
    {
     "name": "stderr",
     "output_type": "stream",
     "text": [
      "/home/dan/src/para/venv/lib/python3.6/site-packages/urllib3/connectionpool.py:1004: InsecureRequestWarning: Unverified HTTPS request is being made. Adding certificate verification is strongly advised. See: https://urllib3.readthedocs.io/en/latest/advanced-usage.html#ssl-warnings\n",
      "  InsecureRequestWarning,\n",
      "/home/dan/src/para/venv/lib/python3.6/site-packages/urllib3/connectionpool.py:1004: InsecureRequestWarning: Unverified HTTPS request is being made. Adding certificate verification is strongly advised. See: https://urllib3.readthedocs.io/en/latest/advanced-usage.html#ssl-warnings\n",
      "  InsecureRequestWarning,\n",
      "/home/dan/src/para/venv/lib/python3.6/site-packages/urllib3/connectionpool.py:1004: InsecureRequestWarning: Unverified HTTPS request is being made. Adding certificate verification is strongly advised. See: https://urllib3.readthedocs.io/en/latest/advanced-usage.html#ssl-warnings\n",
      "  InsecureRequestWarning,\n",
      "/home/dan/src/para/venv/lib/python3.6/site-packages/urllib3/connectionpool.py:1004: InsecureRequestWarning: Unverified HTTPS request is being made. Adding certificate verification is strongly advised. See: https://urllib3.readthedocs.io/en/latest/advanced-usage.html#ssl-warnings\n",
      "  InsecureRequestWarning,\n",
      "/home/dan/src/para/venv/lib/python3.6/site-packages/urllib3/connectionpool.py:1004: InsecureRequestWarning: Unverified HTTPS request is being made. Adding certificate verification is strongly advised. See: https://urllib3.readthedocs.io/en/latest/advanced-usage.html#ssl-warnings\n",
      "  InsecureRequestWarning,\n",
      "/home/dan/src/para/venv/lib/python3.6/site-packages/urllib3/connectionpool.py:1004: InsecureRequestWarning: Unverified HTTPS request is being made. Adding certificate verification is strongly advised. See: https://urllib3.readthedocs.io/en/latest/advanced-usage.html#ssl-warnings\n",
      "  InsecureRequestWarning,\n",
      "/home/dan/src/para/venv/lib/python3.6/site-packages/urllib3/connectionpool.py:1004: InsecureRequestWarning: Unverified HTTPS request is being made. Adding certificate verification is strongly advised. See: https://urllib3.readthedocs.io/en/latest/advanced-usage.html#ssl-warnings\n",
      "  InsecureRequestWarning,\n",
      "/home/dan/src/para/venv/lib/python3.6/site-packages/urllib3/connectionpool.py:1004: InsecureRequestWarning: Unverified HTTPS request is being made. Adding certificate verification is strongly advised. See: https://urllib3.readthedocs.io/en/latest/advanced-usage.html#ssl-warnings\n",
      "  InsecureRequestWarning,\n",
      "/home/dan/src/para/venv/lib/python3.6/site-packages/urllib3/connectionpool.py:1004: InsecureRequestWarning: Unverified HTTPS request is being made. Adding certificate verification is strongly advised. See: https://urllib3.readthedocs.io/en/latest/advanced-usage.html#ssl-warnings\n",
      "  InsecureRequestWarning,\n",
      "/home/dan/src/para/venv/lib/python3.6/site-packages/urllib3/connectionpool.py:1004: InsecureRequestWarning: Unverified HTTPS request is being made. Adding certificate verification is strongly advised. See: https://urllib3.readthedocs.io/en/latest/advanced-usage.html#ssl-warnings\n",
      "  InsecureRequestWarning,\n"
     ]
    },
    {
     "name": "stdout",
     "output_type": "stream",
     "text": [
      "https://nextdoor.com['https://nextdoor.com/', 'https://nextdoor.com/', 'https://nextdoor.nl/', 'https://nextdoor.co.uk/', 'https://nextdoor.de/', 'https://fr.nextdoor.com/', 'https://it.nextdoor.com/', 'https://es.nextdoor.com/', 'https://au.nextdoor.com/', 'https://dk.nextdoor.com/', 'https://se.nextdoor.com/', 'https://ca.nextdoor.com/', 'https://ca.nextdoor.com/', 'https://d19rpgkrjeba2z.cloudfront.net/b9b651cc0b575574/static/nextdoorv2/images/favicons/favicon-v2.ico']\n",
      "\n",
      "https://nextdoor.com\n",
      "https://nextdoor.com\n",
      "['https://nextdoor.com/', 'https://nextdoor.com/', 'https://nextdoor.nl/', 'https://nextdoor.co.uk/', 'https://nextdoor.de/', 'https://fr.nextdoor.com/', 'https://it.nextdoor.com/', 'https://es.nextdoor.com/', 'https://au.nextdoor.com/', 'https://dk.nextdoor.com/', 'https://se.nextdoor.com/', 'https://ca.nextdoor.com/', 'https://ca.nextdoor.com/', 'https://d19rpgkrjeba2z.cloudfront.net/b9b651cc0b575574/static/nextdoorv2/images/favicons/favicon-v2.ico']\n",
      "['https://nextdoor.com/', 'https://nextdoor.com/', 'https://nextdoor.nl/', 'https://nextdoor.co.uk/', 'https://nextdoor.de/', 'https://fr.nextdoor.com/', 'https://it.nextdoor.com/', 'https://es.nextdoor.com/', 'https://au.nextdoor.com/', 'https://dk.nextdoor.com/', 'https://se.nextdoor.com/', 'https://ca.nextdoor.com/', 'https://ca.nextdoor.com/', 'https://d19rpgkrjeba2z.cloudfront.net/b9b651cc0b575574/static/nextdoorv2/images/favicons/favicon-v2.ico']\n",
      "https://nextdoor.com['https://nextdoor.com/', 'https://nextdoor.com/', 'https://nextdoor.nl/', 'https://nextdoor.co.uk/', 'https://nextdoor.de/', 'https://fr.nextdoor.com/', 'https://it.nextdoor.com/', 'https://es.nextdoor.com/', 'https://au.nextdoor.com/', 'https://dk.nextdoor.com/', 'https://se.nextdoor.com/', 'https://ca.nextdoor.com/', 'https://ca.nextdoor.com/', 'https://d19rpgkrjeba2z.cloudfront.net/b9b651cc0b575574/static/nextdoorv2/images/favicons/favicon-v2.ico']https://nextdoor.com\n",
      "['https://nextdoor.com/', 'https://nextdoor.com/', 'https://nextdoor.nl/', 'https://nextdoor.co.uk/', 'https://nextdoor.de/', 'https://fr.nextdoor.com/', 'https://it.nextdoor.com/', 'https://es.nextdoor.com/', 'https://au.nextdoor.com/', 'https://dk.nextdoor.com/', 'https://se.nextdoor.com/', 'https://ca.nextdoor.com/', 'https://ca.nextdoor.com/', 'https://d19rpgkrjeba2z.cloudfront.net/b9b651cc0b575574/static/nextdoorv2/images/favicons/favicon-v2.ico']\n",
      "\n",
      "\n",
      "https://nextdoor.com['https://nextdoor.com/', 'https://nextdoor.com/', 'https://nextdoor.nl/', 'https://nextdoor.co.uk/', 'https://nextdoor.de/', 'https://fr.nextdoor.com/', 'https://it.nextdoor.com/', 'https://es.nextdoor.com/', 'https://au.nextdoor.com/', 'https://dk.nextdoor.com/', 'https://se.nextdoor.com/', 'https://ca.nextdoor.com/', 'https://ca.nextdoor.com/', 'https://d19rpgkrjeba2z.cloudfront.net/b9b651cc0b575574/static/nextdoorv2/images/favicons/favicon-v2.ico']\n",
      "\n",
      "https://nextdoor.com\n",
      "['https://nextdoor.com/', 'https://nextdoor.com/', 'https://nextdoor.nl/', 'https://nextdoor.co.uk/', 'https://nextdoor.de/', 'https://fr.nextdoor.com/', 'https://it.nextdoor.com/', 'https://es.nextdoor.com/', 'https://au.nextdoor.com/', 'https://dk.nextdoor.com/', 'https://se.nextdoor.com/', 'https://ca.nextdoor.com/', 'https://ca.nextdoor.com/', 'https://d19rpgkrjeba2z.cloudfront.net/b9b651cc0b575574/static/nextdoorv2/images/favicons/favicon-v2.ico']\n",
      "https://nextdoor.com\n",
      "['https://nextdoor.com/', 'https://nextdoor.com/', 'https://nextdoor.nl/', 'https://nextdoor.co.uk/', 'https://nextdoor.de/', 'https://fr.nextdoor.com/', 'https://it.nextdoor.com/', 'https://es.nextdoor.com/', 'https://au.nextdoor.com/', 'https://dk.nextdoor.com/', 'https://se.nextdoor.com/', 'https://ca.nextdoor.com/', 'https://ca.nextdoor.com/', 'https://d19rpgkrjeba2z.cloudfront.net/b9b651cc0b575574/static/nextdoorv2/images/favicons/favicon-v2.ico']\n"
     ]
    },
    {
     "name": "stderr",
     "output_type": "stream",
     "text": [
      "/home/dan/src/para/venv/lib/python3.6/site-packages/urllib3/connectionpool.py:1004: InsecureRequestWarning: Unverified HTTPS request is being made. Adding certificate verification is strongly advised. See: https://urllib3.readthedocs.io/en/latest/advanced-usage.html#ssl-warnings\n",
      "  InsecureRequestWarning,\n",
      "/home/dan/src/para/venv/lib/python3.6/site-packages/urllib3/connectionpool.py:1004: InsecureRequestWarning: Unverified HTTPS request is being made. Adding certificate verification is strongly advised. See: https://urllib3.readthedocs.io/en/latest/advanced-usage.html#ssl-warnings\n",
      "  InsecureRequestWarning,\n",
      "/home/dan/src/para/venv/lib/python3.6/site-packages/urllib3/connectionpool.py:1004: InsecureRequestWarning: Unverified HTTPS request is being made. Adding certificate verification is strongly advised. See: https://urllib3.readthedocs.io/en/latest/advanced-usage.html#ssl-warnings\n",
      "  InsecureRequestWarning,\n",
      "/home/dan/src/para/venv/lib/python3.6/site-packages/urllib3/connectionpool.py:1004: InsecureRequestWarning: Unverified HTTPS request is being made. Adding certificate verification is strongly advised. See: https://urllib3.readthedocs.io/en/latest/advanced-usage.html#ssl-warnings\n",
      "  InsecureRequestWarning,\n",
      "/home/dan/src/para/venv/lib/python3.6/site-packages/urllib3/connectionpool.py:1004: InsecureRequestWarning: Unverified HTTPS request is being made. Adding certificate verification is strongly advised. See: https://urllib3.readthedocs.io/en/latest/advanced-usage.html#ssl-warnings\n",
      "  InsecureRequestWarning,\n"
     ]
    },
    {
     "name": "stdout",
     "output_type": "stream",
     "text": [
      "https://nextdoor.com['https://nextdoor.com/', 'https://nextdoor.com/', 'https://nextdoor.nl/', 'https://nextdoor.co.uk/', 'https://nextdoor.de/', 'https://fr.nextdoor.com/', 'https://it.nextdoor.com/', 'https://es.nextdoor.com/', 'https://au.nextdoor.com/', 'https://dk.nextdoor.com/', 'https://se.nextdoor.com/', 'https://ca.nextdoor.com/', 'https://ca.nextdoor.com/', 'https://d19rpgkrjeba2z.cloudfront.net/b9b651cc0b575574/static/nextdoorv2/images/favicons/favicon-v2.ico']\n",
      "\n",
      "https://nextdoor.com\n",
      "['https://nextdoor.com/', 'https://nextdoor.com/', 'https://nextdoor.nl/', 'https://nextdoor.co.uk/', 'https://nextdoor.de/', 'https://fr.nextdoor.com/', 'https://it.nextdoor.com/', 'https://es.nextdoor.com/', 'https://au.nextdoor.com/', 'https://dk.nextdoor.com/', 'https://se.nextdoor.com/', 'https://ca.nextdoor.com/', 'https://ca.nextdoor.com/', 'https://d19rpgkrjeba2z.cloudfront.net/b9b651cc0b575574/static/nextdoorv2/images/favicons/favicon-v2.ico']https://nextdoor.com\n",
      "['https://nextdoor.com/', 'https://nextdoor.com/', 'https://nextdoor.nl/', 'https://nextdoor.co.uk/', 'https://nextdoor.de/', 'https://fr.nextdoor.com/', 'https://it.nextdoor.com/', 'https://es.nextdoor.com/', 'https://au.nextdoor.com/', 'https://dk.nextdoor.com/', 'https://se.nextdoor.com/', 'https://ca.nextdoor.com/', 'https://ca.nextdoor.com/', 'https://d19rpgkrjeba2z.cloudfront.net/b9b651cc0b575574/static/nextdoorv2/images/favicons/favicon-v2.ico']\n",
      "\n"
     ]
    },
    {
     "name": "stderr",
     "output_type": "stream",
     "text": [
      "/home/dan/src/para/venv/lib/python3.6/site-packages/urllib3/connectionpool.py:1004: InsecureRequestWarning: Unverified HTTPS request is being made. Adding certificate verification is strongly advised. See: https://urllib3.readthedocs.io/en/latest/advanced-usage.html#ssl-warnings\n",
      "  InsecureRequestWarning,\n"
     ]
    },
    {
     "name": "stdout",
     "output_type": "stream",
     "text": [
      "https://nextdoor.com['https://nextdoor.com/', 'https://nextdoor.com/', 'https://nextdoor.nl/', 'https://nextdoor.co.uk/', 'https://nextdoor.de/', 'https://fr.nextdoor.com/', 'https://it.nextdoor.com/', 'https://es.nextdoor.com/', 'https://au.nextdoor.com/', 'https://dk.nextdoor.com/', 'https://se.nextdoor.com/', 'https://ca.nextdoor.com/', 'https://ca.nextdoor.com/', 'https://d19rpgkrjeba2z.cloudfront.net/b9b651cc0b575574/static/nextdoorv2/images/favicons/favicon-v2.ico']\n",
      "\n",
      "https://nextdoor.com['https://nextdoor.com/', 'https://nextdoor.com/', 'https://nextdoor.nl/', 'https://nextdoor.co.uk/', 'https://nextdoor.de/', 'https://fr.nextdoor.com/', 'https://it.nextdoor.com/', 'https://es.nextdoor.com/', 'https://au.nextdoor.com/', 'https://dk.nextdoor.com/', 'https://se.nextdoor.com/', 'https://ca.nextdoor.com/', 'https://ca.nextdoor.com/', 'https://d19rpgkrjeba2z.cloudfront.net/b9b651cc0b575574/static/nextdoorv2/images/favicons/favicon-v2.ico']\n",
      "\n",
      "https://nextdoor.com['https://nextdoor.com/', 'https://nextdoor.com/', 'https://nextdoor.nl/', 'https://nextdoor.co.uk/', 'https://nextdoor.de/', 'https://fr.nextdoor.com/', 'https://it.nextdoor.com/', 'https://es.nextdoor.com/', 'https://au.nextdoor.com/', 'https://dk.nextdoor.com/', 'https://se.nextdoor.com/', 'https://ca.nextdoor.com/', 'https://ca.nextdoor.com/', 'https://d19rpgkrjeba2z.cloudfront.net/b9b651cc0b575574/static/nextdoorv2/images/favicons/favicon-v2.ico']\n",
      "\n",
      "https://nextdoor.com['https://nextdoor.com/', 'https://nextdoor.com/', 'https://nextdoor.nl/', 'https://nextdoor.co.uk/', 'https://nextdoor.de/', 'https://fr.nextdoor.com/', 'https://it.nextdoor.com/', 'https://es.nextdoor.com/', 'https://au.nextdoor.com/', 'https://dk.nextdoor.com/', 'https://se.nextdoor.com/', 'https://ca.nextdoor.com/', 'https://ca.nextdoor.com/', 'https://d19rpgkrjeba2z.cloudfront.net/b9b651cc0b575574/static/nextdoorv2/images/favicons/favicon-v2.ico']\n",
      "\n",
      "https://nextdoor.comhttps://nextdoor.com\n",
      "\n",
      "['https://nextdoor.com/', 'https://nextdoor.com/', 'https://nextdoor.nl/', 'https://nextdoor.co.uk/', 'https://nextdoor.de/', 'https://fr.nextdoor.com/', 'https://it.nextdoor.com/', 'https://es.nextdoor.com/', 'https://au.nextdoor.com/', 'https://dk.nextdoor.com/', 'https://se.nextdoor.com/', 'https://ca.nextdoor.com/', 'https://ca.nextdoor.com/', 'https://d19rpgkrjeba2z.cloudfront.net/b9b651cc0b575574/static/nextdoorv2/images/favicons/favicon-v2.ico']\n",
      "['https://nextdoor.com/', 'https://nextdoor.com/', 'https://nextdoor.nl/', 'https://nextdoor.co.uk/', 'https://nextdoor.de/', 'https://fr.nextdoor.com/', 'https://it.nextdoor.com/', 'https://es.nextdoor.com/', 'https://au.nextdoor.com/', 'https://dk.nextdoor.com/', 'https://se.nextdoor.com/', 'https://ca.nextdoor.com/', 'https://ca.nextdoor.com/', 'https://d19rpgkrjeba2z.cloudfront.net/b9b651cc0b575574/static/nextdoorv2/images/favicons/favicon-v2.ico']\n",
      "https://nextdoor.com\n",
      "['https://nextdoor.com/', 'https://nextdoor.com/', 'https://nextdoor.nl/', 'https://nextdoor.co.uk/', 'https://nextdoor.de/', 'https://fr.nextdoor.com/', 'https://it.nextdoor.com/', 'https://es.nextdoor.com/', 'https://au.nextdoor.com/', 'https://dk.nextdoor.com/', 'https://se.nextdoor.com/', 'https://ca.nextdoor.com/', 'https://ca.nextdoor.com/', 'https://d19rpgkrjeba2z.cloudfront.net/b9b651cc0b575574/static/nextdoorv2/images/favicons/favicon-v2.ico']"
     ]
    },
    {
     "name": "stderr",
     "output_type": "stream",
     "text": [
      "/home/dan/src/para/venv/lib/python3.6/site-packages/urllib3/connectionpool.py:1004: InsecureRequestWarning: Unverified HTTPS request is being made. Adding certificate verification is strongly advised. See: https://urllib3.readthedocs.io/en/latest/advanced-usage.html#ssl-warnings\n",
      "  InsecureRequestWarning,\n",
      "/home/dan/src/para/venv/lib/python3.6/site-packages/urllib3/connectionpool.py:1004: InsecureRequestWarning: Unverified HTTPS request is being made. Adding certificate verification is strongly advised. See: https://urllib3.readthedocs.io/en/latest/advanced-usage.html#ssl-warnings\n",
      "  InsecureRequestWarning,\n",
      "/home/dan/src/para/venv/lib/python3.6/site-packages/urllib3/connectionpool.py:1004: InsecureRequestWarning: Unverified HTTPS request is being made. Adding certificate verification is strongly advised. See: https://urllib3.readthedocs.io/en/latest/advanced-usage.html#ssl-warnings\n",
      "  InsecureRequestWarning,\n"
     ]
    },
    {
     "name": "stdout",
     "output_type": "stream",
     "text": [
      "\n",
      "https://nextdoor.com\n",
      "['https://nextdoor.com/', 'https://nextdoor.com/', 'https://nextdoor.nl/', 'https://nextdoor.co.uk/', 'https://nextdoor.de/', 'https://fr.nextdoor.com/', 'https://it.nextdoor.com/', 'https://es.nextdoor.com/', 'https://au.nextdoor.com/', 'https://dk.nextdoor.com/', 'https://se.nextdoor.com/', 'https://ca.nextdoor.com/', 'https://ca.nextdoor.com/', 'https://d19rpgkrjeba2z.cloudfront.net/b9b651cc0b575574/static/nextdoorv2/images/favicons/favicon-v2.ico']\n",
      "https://nextdoor.com['https://nextdoor.com/', 'https://nextdoor.com/', 'https://nextdoor.nl/', 'https://nextdoor.co.uk/', 'https://nextdoor.de/', 'https://fr.nextdoor.com/', 'https://it.nextdoor.com/', 'https://es.nextdoor.com/', 'https://au.nextdoor.com/', 'https://dk.nextdoor.com/', 'https://se.nextdoor.com/', 'https://ca.nextdoor.com/', 'https://ca.nextdoor.com/', 'https://d19rpgkrjeba2z.cloudfront.net/b9b651cc0b575574/static/nextdoorv2/images/favicons/favicon-v2.ico']\n",
      "\n"
     ]
    },
    {
     "name": "stderr",
     "output_type": "stream",
     "text": [
      "/home/dan/src/para/venv/lib/python3.6/site-packages/urllib3/connectionpool.py:1004: InsecureRequestWarning: Unverified HTTPS request is being made. Adding certificate verification is strongly advised. See: https://urllib3.readthedocs.io/en/latest/advanced-usage.html#ssl-warnings\n",
      "  InsecureRequestWarning,\n",
      "/home/dan/src/para/venv/lib/python3.6/site-packages/urllib3/connectionpool.py:1004: InsecureRequestWarning: Unverified HTTPS request is being made. Adding certificate verification is strongly advised. See: https://urllib3.readthedocs.io/en/latest/advanced-usage.html#ssl-warnings\n",
      "  InsecureRequestWarning,\n",
      "/home/dan/src/para/venv/lib/python3.6/site-packages/urllib3/connectionpool.py:1004: InsecureRequestWarning: Unverified HTTPS request is being made. Adding certificate verification is strongly advised. See: https://urllib3.readthedocs.io/en/latest/advanced-usage.html#ssl-warnings\n",
      "  InsecureRequestWarning,\n",
      "/home/dan/src/para/venv/lib/python3.6/site-packages/urllib3/connectionpool.py:1004: InsecureRequestWarning: Unverified HTTPS request is being made. Adding certificate verification is strongly advised. See: https://urllib3.readthedocs.io/en/latest/advanced-usage.html#ssl-warnings\n",
      "  InsecureRequestWarning,\n",
      "/home/dan/src/para/venv/lib/python3.6/site-packages/urllib3/connectionpool.py:1004: InsecureRequestWarning: Unverified HTTPS request is being made. Adding certificate verification is strongly advised. See: https://urllib3.readthedocs.io/en/latest/advanced-usage.html#ssl-warnings\n",
      "  InsecureRequestWarning,\n",
      "/home/dan/src/para/venv/lib/python3.6/site-packages/urllib3/connectionpool.py:1004: InsecureRequestWarning: Unverified HTTPS request is being made. Adding certificate verification is strongly advised. See: https://urllib3.readthedocs.io/en/latest/advanced-usage.html#ssl-warnings\n",
      "  InsecureRequestWarning,\n",
      "/home/dan/src/para/venv/lib/python3.6/site-packages/urllib3/connectionpool.py:1004: InsecureRequestWarning: Unverified HTTPS request is being made. Adding certificate verification is strongly advised. See: https://urllib3.readthedocs.io/en/latest/advanced-usage.html#ssl-warnings\n",
      "  InsecureRequestWarning,\n",
      "/home/dan/src/para/venv/lib/python3.6/site-packages/urllib3/connectionpool.py:1004: InsecureRequestWarning: Unverified HTTPS request is being made. Adding certificate verification is strongly advised. See: https://urllib3.readthedocs.io/en/latest/advanced-usage.html#ssl-warnings\n",
      "  InsecureRequestWarning,\n"
     ]
    },
    {
     "name": "stdout",
     "output_type": "stream",
     "text": [
      "https://nextdoor.com['https://nextdoor.com/', 'https://nextdoor.com/', 'https://nextdoor.nl/', 'https://nextdoor.co.uk/', 'https://nextdoor.de/', 'https://fr.nextdoor.com/', 'https://it.nextdoor.com/', 'https://es.nextdoor.com/', 'https://au.nextdoor.com/', 'https://dk.nextdoor.com/', 'https://se.nextdoor.com/', 'https://ca.nextdoor.com/', 'https://ca.nextdoor.com/', 'https://d19rpgkrjeba2z.cloudfront.net/b9b651cc0b575574/static/nextdoorv2/images/favicons/favicon-v2.ico']\n",
      "\n",
      "https://nextdoor.com['https://nextdoor.com/', 'https://nextdoor.com/', 'https://nextdoor.nl/', 'https://nextdoor.co.uk/', 'https://nextdoor.de/', 'https://fr.nextdoor.com/', 'https://it.nextdoor.com/', 'https://es.nextdoor.com/', 'https://au.nextdoor.com/', 'https://dk.nextdoor.com/', 'https://se.nextdoor.com/', 'https://ca.nextdoor.com/', 'https://ca.nextdoor.com/', 'https://d19rpgkrjeba2z.cloudfront.net/b9b651cc0b575574/static/nextdoorv2/images/favicons/favicon-v2.ico']\n",
      "\n"
     ]
    },
    {
     "name": "stderr",
     "output_type": "stream",
     "text": [
      "/home/dan/src/para/venv/lib/python3.6/site-packages/urllib3/connectionpool.py:1004: InsecureRequestWarning: Unverified HTTPS request is being made. Adding certificate verification is strongly advised. See: https://urllib3.readthedocs.io/en/latest/advanced-usage.html#ssl-warnings\n",
      "  InsecureRequestWarning,\n",
      "/home/dan/src/para/venv/lib/python3.6/site-packages/urllib3/connectionpool.py:1004: InsecureRequestWarning: Unverified HTTPS request is being made. Adding certificate verification is strongly advised. See: https://urllib3.readthedocs.io/en/latest/advanced-usage.html#ssl-warnings\n",
      "  InsecureRequestWarning,\n",
      "/home/dan/src/para/venv/lib/python3.6/site-packages/urllib3/connectionpool.py:1004: InsecureRequestWarning: Unverified HTTPS request is being made. Adding certificate verification is strongly advised. See: https://urllib3.readthedocs.io/en/latest/advanced-usage.html#ssl-warnings\n",
      "  InsecureRequestWarning,\n",
      "/home/dan/src/para/venv/lib/python3.6/site-packages/urllib3/connectionpool.py:1004: InsecureRequestWarning: Unverified HTTPS request is being made. Adding certificate verification is strongly advised. See: https://urllib3.readthedocs.io/en/latest/advanced-usage.html#ssl-warnings\n",
      "  InsecureRequestWarning,\n",
      "/home/dan/src/para/venv/lib/python3.6/site-packages/urllib3/connectionpool.py:1004: InsecureRequestWarning: Unverified HTTPS request is being made. Adding certificate verification is strongly advised. See: https://urllib3.readthedocs.io/en/latest/advanced-usage.html#ssl-warnings\n",
      "  InsecureRequestWarning,\n"
     ]
    },
    {
     "name": "stdout",
     "output_type": "stream",
     "text": [
      "https://nextdoor.com['https://nextdoor.com/', 'https://nextdoor.com/', 'https://nextdoor.nl/', 'https://nextdoor.co.uk/', 'https://nextdoor.de/', 'https://fr.nextdoor.com/', 'https://it.nextdoor.com/', 'https://es.nextdoor.com/', 'https://au.nextdoor.com/', 'https://dk.nextdoor.com/', 'https://se.nextdoor.com/', 'https://ca.nextdoor.com/', 'https://ca.nextdoor.com/', 'https://d19rpgkrjeba2z.cloudfront.net/b9b651cc0b575574/static/nextdoorv2/images/favicons/favicon-v2.ico']\n",
      "\n",
      "https://nextdoor.com['https://nextdoor.com/', 'https://nextdoor.com/', 'https://nextdoor.nl/', 'https://nextdoor.co.uk/', 'https://nextdoor.de/', 'https://fr.nextdoor.com/', 'https://it.nextdoor.com/', 'https://es.nextdoor.com/', 'https://au.nextdoor.com/', 'https://dk.nextdoor.com/', 'https://se.nextdoor.com/', 'https://ca.nextdoor.com/', 'https://ca.nextdoor.com/', 'https://d19rpgkrjeba2z.cloudfront.net/b9b651cc0b575574/static/nextdoorv2/images/favicons/favicon-v2.ico']\n",
      "\n",
      "https://nextdoor.com\n",
      "['https://nextdoor.com/', 'https://nextdoor.com/', 'https://nextdoor.nl/', 'https://nextdoor.co.uk/', 'https://nextdoor.de/', 'https://fr.nextdoor.com/', 'https://it.nextdoor.com/', 'https://es.nextdoor.com/', 'https://au.nextdoor.com/', 'https://dk.nextdoor.com/', 'https://se.nextdoor.com/', 'https://ca.nextdoor.com/', 'https://ca.nextdoor.com/', 'https://d19rpgkrjeba2z.cloudfront.net/b9b651cc0b575574/static/nextdoorv2/images/favicons/favicon-v2.ico']\n",
      "https://nextdoor.com\n",
      "['https://nextdoor.com/', 'https://nextdoor.com/', 'https://nextdoor.nl/', 'https://nextdoor.co.uk/', 'https://nextdoor.de/', 'https://fr.nextdoor.com/', 'https://it.nextdoor.com/', 'https://es.nextdoor.com/', 'https://au.nextdoor.com/', 'https://dk.nextdoor.com/', 'https://se.nextdoor.com/', 'https://ca.nextdoor.com/', 'https://ca.nextdoor.com/', 'https://d19rpgkrjeba2z.cloudfront.net/b9b651cc0b575574/static/nextdoorv2/images/favicons/favicon-v2.ico']\n",
      "https://nextdoor.com['https://nextdoor.com/', 'https://nextdoor.com/', 'https://nextdoor.nl/', 'https://nextdoor.co.uk/', 'https://nextdoor.de/', 'https://fr.nextdoor.com/', 'https://it.nextdoor.com/', 'https://es.nextdoor.com/', 'https://au.nextdoor.com/', 'https://dk.nextdoor.com/', 'https://se.nextdoor.com/', 'https://ca.nextdoor.com/', 'https://ca.nextdoor.com/', 'https://d19rpgkrjeba2z.cloudfront.net/b9b651cc0b575574/static/nextdoorv2/images/favicons/favicon-v2.ico']\n",
      "\n",
      "https://nextdoor.com\n",
      "['https://nextdoor.com/', 'https://nextdoor.com/', 'https://nextdoor.nl/', 'https://nextdoor.co.uk/', 'https://nextdoor.de/', 'https://fr.nextdoor.com/', 'https://it.nextdoor.com/', 'https://es.nextdoor.com/', 'https://au.nextdoor.com/', 'https://dk.nextdoor.com/', 'https://se.nextdoor.com/', 'https://ca.nextdoor.com/', 'https://ca.nextdoor.com/', 'https://d19rpgkrjeba2z.cloudfront.net/b9b651cc0b575574/static/nextdoorv2/images/favicons/favicon-v2.ico']\n",
      "https://nextdoor.com['https://nextdoor.com/', 'https://nextdoor.com/', 'https://nextdoor.nl/', 'https://nextdoor.co.uk/', 'https://nextdoor.de/', 'https://fr.nextdoor.com/', 'https://it.nextdoor.com/', 'https://es.nextdoor.com/', 'https://au.nextdoor.com/', 'https://dk.nextdoor.com/', 'https://se.nextdoor.com/', 'https://ca.nextdoor.com/', 'https://ca.nextdoor.com/', 'https://d19rpgkrjeba2z.cloudfront.net/b9b651cc0b575574/static/nextdoorv2/images/favicons/favicon-v2.ico']\n",
      "https://nextdoor.com\n",
      "['https://nextdoor.com/', 'https://nextdoor.com/', 'https://nextdoor.nl/', 'https://nextdoor.co.uk/', 'https://nextdoor.de/', 'https://fr.nextdoor.com/', 'https://it.nextdoor.com/', 'https://es.nextdoor.com/', 'https://au.nextdoor.com/', 'https://dk.nextdoor.com/', 'https://se.nextdoor.com/', 'https://ca.nextdoor.com/', 'https://ca.nextdoor.com/', 'https://d19rpgkrjeba2z.cloudfront.net/b9b651cc0b575574/static/nextdoorv2/images/favicons/favicon-v2.ico']\n",
      "\n"
     ]
    },
    {
     "name": "stderr",
     "output_type": "stream",
     "text": [
      "/home/dan/src/para/venv/lib/python3.6/site-packages/urllib3/connectionpool.py:1004: InsecureRequestWarning: Unverified HTTPS request is being made. Adding certificate verification is strongly advised. See: https://urllib3.readthedocs.io/en/latest/advanced-usage.html#ssl-warnings\n",
      "  InsecureRequestWarning,\n",
      "/home/dan/src/para/venv/lib/python3.6/site-packages/urllib3/connectionpool.py:1004: InsecureRequestWarning: Unverified HTTPS request is being made. Adding certificate verification is strongly advised. See: https://urllib3.readthedocs.io/en/latest/advanced-usage.html#ssl-warnings\n",
      "  InsecureRequestWarning,\n",
      "/home/dan/src/para/venv/lib/python3.6/site-packages/urllib3/connectionpool.py:1004: InsecureRequestWarning: Unverified HTTPS request is being made. Adding certificate verification is strongly advised. See: https://urllib3.readthedocs.io/en/latest/advanced-usage.html#ssl-warnings\n",
      "  InsecureRequestWarning,\n",
      "/home/dan/src/para/venv/lib/python3.6/site-packages/urllib3/connectionpool.py:1004: InsecureRequestWarning: Unverified HTTPS request is being made. Adding certificate verification is strongly advised. See: https://urllib3.readthedocs.io/en/latest/advanced-usage.html#ssl-warnings\n",
      "  InsecureRequestWarning,\n",
      "/home/dan/src/para/venv/lib/python3.6/site-packages/urllib3/connectionpool.py:1004: InsecureRequestWarning: Unverified HTTPS request is being made. Adding certificate verification is strongly advised. See: https://urllib3.readthedocs.io/en/latest/advanced-usage.html#ssl-warnings\n",
      "  InsecureRequestWarning,\n",
      "/home/dan/src/para/venv/lib/python3.6/site-packages/urllib3/connectionpool.py:1004: InsecureRequestWarning: Unverified HTTPS request is being made. Adding certificate verification is strongly advised. See: https://urllib3.readthedocs.io/en/latest/advanced-usage.html#ssl-warnings\n",
      "  InsecureRequestWarning,\n"
     ]
    },
    {
     "name": "stdout",
     "output_type": "stream",
     "text": [
      "https://nextdoor.com['https://nextdoor.com/', 'https://nextdoor.com/', 'https://nextdoor.nl/', 'https://nextdoor.co.uk/', 'https://nextdoor.de/', 'https://fr.nextdoor.com/', 'https://it.nextdoor.com/', 'https://es.nextdoor.com/', 'https://au.nextdoor.com/', 'https://dk.nextdoor.com/', 'https://se.nextdoor.com/', 'https://ca.nextdoor.com/', 'https://ca.nextdoor.com/', 'https://d19rpgkrjeba2z.cloudfront.net/b9b651cc0b575574/static/nextdoorv2/images/favicons/favicon-v2.ico']\n",
      "\n",
      "https://nextdoor.com\n",
      "['https://nextdoor.com/', 'https://nextdoor.com/', 'https://nextdoor.nl/', 'https://nextdoor.co.uk/', 'https://nextdoor.de/', 'https://fr.nextdoor.com/', 'https://it.nextdoor.com/', 'https://es.nextdoor.com/', 'https://au.nextdoor.com/', 'https://dk.nextdoor.com/', 'https://se.nextdoor.com/', 'https://ca.nextdoor.com/', 'https://ca.nextdoor.com/', 'https://d19rpgkrjeba2z.cloudfront.net/b9b651cc0b575574/static/nextdoorv2/images/favicons/favicon-v2.ico']\n",
      "https://nextdoor.com['https://nextdoor.com/', 'https://nextdoor.com/', 'https://nextdoor.nl/', 'https://nextdoor.co.uk/', 'https://nextdoor.de/', 'https://fr.nextdoor.com/', 'https://it.nextdoor.com/', 'https://es.nextdoor.com/', 'https://au.nextdoor.com/', 'https://dk.nextdoor.com/', 'https://se.nextdoor.com/', 'https://ca.nextdoor.com/', 'https://ca.nextdoor.com/', 'https://d19rpgkrjeba2z.cloudfront.net/b9b651cc0b575574/static/nextdoorv2/images/favicons/favicon-v2.ico']\n",
      "\n",
      "https://nextdoor.com['https://nextdoor.com/', 'https://nextdoor.com/', 'https://nextdoor.nl/', 'https://nextdoor.co.uk/', 'https://nextdoor.de/', 'https://fr.nextdoor.com/', 'https://it.nextdoor.com/', 'https://es.nextdoor.com/', 'https://au.nextdoor.com/', 'https://dk.nextdoor.com/', 'https://se.nextdoor.com/', 'https://ca.nextdoor.com/', 'https://ca.nextdoor.com/', 'https://d19rpgkrjeba2z.cloudfront.net/b9b651cc0b575574/static/nextdoorv2/images/favicons/favicon-v2.ico']\n",
      "\n",
      "https://nextdoor.com\n",
      "['https://nextdoor.com/', 'https://nextdoor.com/', 'https://nextdoor.nl/', 'https://nextdoor.co.uk/', 'https://nextdoor.de/', 'https://fr.nextdoor.com/', 'https://it.nextdoor.com/', 'https://es.nextdoor.com/', 'https://au.nextdoor.com/', 'https://dk.nextdoor.com/', 'https://se.nextdoor.com/', 'https://ca.nextdoor.com/', 'https://ca.nextdoor.com/', 'https://d19rpgkrjeba2z.cloudfront.net/b9b651cc0b575574/static/nextdoorv2/images/favicons/favicon-v2.ico']\n"
     ]
    },
    {
     "name": "stderr",
     "output_type": "stream",
     "text": [
      "/home/dan/src/para/venv/lib/python3.6/site-packages/urllib3/connectionpool.py:1004: InsecureRequestWarning: Unverified HTTPS request is being made. Adding certificate verification is strongly advised. See: https://urllib3.readthedocs.io/en/latest/advanced-usage.html#ssl-warnings\n",
      "  InsecureRequestWarning,\n",
      "/home/dan/src/para/venv/lib/python3.6/site-packages/urllib3/connectionpool.py:1004: InsecureRequestWarning: Unverified HTTPS request is being made. Adding certificate verification is strongly advised. See: https://urllib3.readthedocs.io/en/latest/advanced-usage.html#ssl-warnings\n",
      "  InsecureRequestWarning,\n"
     ]
    },
    {
     "name": "stdout",
     "output_type": "stream",
     "text": [
      "https://nextdoor.com\n",
      "['https://nextdoor.com/', 'https://nextdoor.com/', 'https://nextdoor.nl/', 'https://nextdoor.co.uk/', 'https://nextdoor.de/', 'https://fr.nextdoor.com/', 'https://it.nextdoor.com/', 'https://es.nextdoor.com/', 'https://au.nextdoor.com/', 'https://dk.nextdoor.com/', 'https://se.nextdoor.com/', 'https://ca.nextdoor.com/', 'https://ca.nextdoor.com/', 'https://d19rpgkrjeba2z.cloudfront.net/b9b651cc0b575574/static/nextdoorv2/images/favicons/favicon-v2.ico']\n",
      "https://nextdoor.com\n",
      "['https://nextdoor.com/', 'https://nextdoor.com/', 'https://nextdoor.nl/', 'https://nextdoor.co.uk/', 'https://nextdoor.de/', 'https://fr.nextdoor.com/', 'https://it.nextdoor.com/', 'https://es.nextdoor.com/', 'https://au.nextdoor.com/', 'https://dk.nextdoor.com/', 'https://se.nextdoor.com/', 'https://ca.nextdoor.com/', 'https://ca.nextdoor.com/', 'https://d19rpgkrjeba2z.cloudfront.net/b9b651cc0b575574/static/nextdoorv2/images/favicons/favicon-v2.ico']\n"
     ]
    },
    {
     "name": "stderr",
     "output_type": "stream",
     "text": [
      "/home/dan/src/para/venv/lib/python3.6/site-packages/urllib3/connectionpool.py:1004: InsecureRequestWarning: Unverified HTTPS request is being made. Adding certificate verification is strongly advised. See: https://urllib3.readthedocs.io/en/latest/advanced-usage.html#ssl-warnings\n",
      "  InsecureRequestWarning,\n",
      "/home/dan/src/para/venv/lib/python3.6/site-packages/urllib3/connectionpool.py:1004: InsecureRequestWarning: Unverified HTTPS request is being made. Adding certificate verification is strongly advised. See: https://urllib3.readthedocs.io/en/latest/advanced-usage.html#ssl-warnings\n",
      "  InsecureRequestWarning,\n"
     ]
    },
    {
     "name": "stdout",
     "output_type": "stream",
     "text": [
      "https://nextdoor.com['https://nextdoor.com/', 'https://nextdoor.com/', 'https://nextdoor.nl/', 'https://nextdoor.co.uk/', 'https://nextdoor.de/', 'https://fr.nextdoor.com/', 'https://it.nextdoor.com/', 'https://es.nextdoor.com/', 'https://au.nextdoor.com/', 'https://dk.nextdoor.com/', 'https://se.nextdoor.com/', 'https://ca.nextdoor.com/', 'https://ca.nextdoor.com/', 'https://d19rpgkrjeba2z.cloudfront.net/b9b651cc0b575574/static/nextdoorv2/images/favicons/favicon-v2.ico']\n",
      "\n",
      "https://nextdoor.com\n",
      "['https://nextdoor.com/', 'https://nextdoor.com/', 'https://nextdoor.nl/', 'https://nextdoor.co.uk/', 'https://nextdoor.de/', 'https://fr.nextdoor.com/', 'https://it.nextdoor.com/', 'https://es.nextdoor.com/', 'https://au.nextdoor.com/', 'https://dk.nextdoor.com/', 'https://se.nextdoor.com/', 'https://ca.nextdoor.com/', 'https://ca.nextdoor.com/', 'https://d19rpgkrjeba2z.cloudfront.net/b9b651cc0b575574/static/nextdoorv2/images/favicons/favicon-v2.ico']\n",
      "https://nextdoor.com\n",
      "['https://nextdoor.com/', 'https://nextdoor.com/', 'https://nextdoor.nl/', 'https://nextdoor.co.uk/', 'https://nextdoor.de/', 'https://fr.nextdoor.com/', 'https://it.nextdoor.com/', 'https://es.nextdoor.com/', 'https://au.nextdoor.com/', 'https://dk.nextdoor.com/', 'https://se.nextdoor.com/', 'https://ca.nextdoor.com/', 'https://ca.nextdoor.com/', 'https://d19rpgkrjeba2z.cloudfront.net/b9b651cc0b575574/static/nextdoorv2/images/favicons/favicon-v2.ico']\n",
      "https://nextdoor.comhttps://nextdoor.com['https://nextdoor.com/', 'https://nextdoor.com/', 'https://nextdoor.nl/', 'https://nextdoor.co.uk/', 'https://nextdoor.de/', 'https://fr.nextdoor.com/', 'https://it.nextdoor.com/', 'https://es.nextdoor.com/', 'https://au.nextdoor.com/', 'https://dk.nextdoor.com/', 'https://se.nextdoor.com/', 'https://ca.nextdoor.com/', 'https://ca.nextdoor.com/', 'https://d19rpgkrjeba2z.cloudfront.net/b9b651cc0b575574/static/nextdoorv2/images/favicons/favicon-v2.ico']\n",
      "\n",
      "\n",
      "['https://nextdoor.com/', 'https://nextdoor.com/', 'https://nextdoor.nl/', 'https://nextdoor.co.uk/', 'https://nextdoor.de/', 'https://fr.nextdoor.com/', 'https://it.nextdoor.com/', 'https://es.nextdoor.com/', 'https://au.nextdoor.com/', 'https://dk.nextdoor.com/', 'https://se.nextdoor.com/', 'https://ca.nextdoor.com/', 'https://ca.nextdoor.com/', 'https://d19rpgkrjeba2z.cloudfront.net/b9b651cc0b575574/static/nextdoorv2/images/favicons/favicon-v2.ico']\n",
      "https://nextdoor.comhttps://nextdoor.com\n",
      "\n",
      "['https://nextdoor.com/', 'https://nextdoor.com/', 'https://nextdoor.nl/', 'https://nextdoor.co.uk/', 'https://nextdoor.de/', 'https://fr.nextdoor.com/', 'https://it.nextdoor.com/', 'https://es.nextdoor.com/', 'https://au.nextdoor.com/', 'https://dk.nextdoor.com/', 'https://se.nextdoor.com/', 'https://ca.nextdoor.com/', 'https://ca.nextdoor.com/', 'https://d19rpgkrjeba2z.cloudfront.net/b9b651cc0b575574/static/nextdoorv2/images/favicons/favicon-v2.ico']\n",
      "['https://nextdoor.com/', 'https://nextdoor.com/', 'https://nextdoor.nl/', 'https://nextdoor.co.uk/', 'https://nextdoor.de/', 'https://fr.nextdoor.com/', 'https://it.nextdoor.com/', 'https://es.nextdoor.com/', 'https://au.nextdoor.com/', 'https://dk.nextdoor.com/', 'https://se.nextdoor.com/', 'https://ca.nextdoor.com/', 'https://ca.nextdoor.com/', 'https://d19rpgkrjeba2z.cloudfront.net/b9b651cc0b575574/static/nextdoorv2/images/favicons/favicon-v2.ico']\n"
     ]
    },
    {
     "name": "stderr",
     "output_type": "stream",
     "text": [
      "/home/dan/src/para/venv/lib/python3.6/site-packages/urllib3/connectionpool.py:1004: InsecureRequestWarning: Unverified HTTPS request is being made. Adding certificate verification is strongly advised. See: https://urllib3.readthedocs.io/en/latest/advanced-usage.html#ssl-warnings\n",
      "  InsecureRequestWarning,\n",
      "/home/dan/src/para/venv/lib/python3.6/site-packages/urllib3/connectionpool.py:1004: InsecureRequestWarning: Unverified HTTPS request is being made. Adding certificate verification is strongly advised. See: https://urllib3.readthedocs.io/en/latest/advanced-usage.html#ssl-warnings\n",
      "  InsecureRequestWarning,\n",
      "/home/dan/src/para/venv/lib/python3.6/site-packages/urllib3/connectionpool.py:1004: InsecureRequestWarning: Unverified HTTPS request is being made. Adding certificate verification is strongly advised. See: https://urllib3.readthedocs.io/en/latest/advanced-usage.html#ssl-warnings\n",
      "  InsecureRequestWarning,\n",
      "/home/dan/src/para/venv/lib/python3.6/site-packages/urllib3/connectionpool.py:1004: InsecureRequestWarning: Unverified HTTPS request is being made. Adding certificate verification is strongly advised. See: https://urllib3.readthedocs.io/en/latest/advanced-usage.html#ssl-warnings\n",
      "  InsecureRequestWarning,\n",
      "/home/dan/src/para/venv/lib/python3.6/site-packages/urllib3/connectionpool.py:1004: InsecureRequestWarning: Unverified HTTPS request is being made. Adding certificate verification is strongly advised. See: https://urllib3.readthedocs.io/en/latest/advanced-usage.html#ssl-warnings\n",
      "  InsecureRequestWarning,\n",
      "/home/dan/src/para/venv/lib/python3.6/site-packages/urllib3/connectionpool.py:1004: InsecureRequestWarning: Unverified HTTPS request is being made. Adding certificate verification is strongly advised. See: https://urllib3.readthedocs.io/en/latest/advanced-usage.html#ssl-warnings\n",
      "  InsecureRequestWarning,\n"
     ]
    },
    {
     "name": "stdout",
     "output_type": "stream",
     "text": [
      "https://nextdoor.com['https://nextdoor.com/', 'https://nextdoor.com/', 'https://nextdoor.nl/', 'https://nextdoor.co.uk/', 'https://nextdoor.de/', 'https://fr.nextdoor.com/', 'https://it.nextdoor.com/', 'https://es.nextdoor.com/', 'https://au.nextdoor.com/', 'https://dk.nextdoor.com/', 'https://se.nextdoor.com/', 'https://ca.nextdoor.com/', 'https://ca.nextdoor.com/', 'https://d19rpgkrjeba2z.cloudfront.net/b9b651cc0b575574/static/nextdoorv2/images/favicons/favicon-v2.ico']\n",
      "\n",
      "https://nextdoor.com\n",
      "['https://nextdoor.com/', 'https://nextdoor.com/', 'https://nextdoor.nl/', 'https://nextdoor.co.uk/', 'https://nextdoor.de/', 'https://fr.nextdoor.com/', 'https://it.nextdoor.com/', 'https://es.nextdoor.com/', 'https://au.nextdoor.com/', 'https://dk.nextdoor.com/', 'https://se.nextdoor.com/', 'https://ca.nextdoor.com/', 'https://ca.nextdoor.com/', 'https://d19rpgkrjeba2z.cloudfront.net/b9b651cc0b575574/static/nextdoorv2/images/favicons/favicon-v2.ico']\n",
      "https://nextdoor.com['https://nextdoor.com/', 'https://nextdoor.com/', 'https://nextdoor.nl/', 'https://nextdoor.co.uk/', 'https://nextdoor.de/', 'https://fr.nextdoor.com/', 'https://it.nextdoor.com/', 'https://es.nextdoor.com/', 'https://au.nextdoor.com/', 'https://dk.nextdoor.com/', 'https://se.nextdoor.com/', 'https://ca.nextdoor.com/', 'https://ca.nextdoor.com/', 'https://d19rpgkrjeba2z.cloudfront.net/b9b651cc0b575574/static/nextdoorv2/images/favicons/favicon-v2.ico']\n",
      "\n"
     ]
    },
    {
     "name": "stderr",
     "output_type": "stream",
     "text": [
      "/home/dan/src/para/venv/lib/python3.6/site-packages/urllib3/connectionpool.py:1004: InsecureRequestWarning: Unverified HTTPS request is being made. Adding certificate verification is strongly advised. See: https://urllib3.readthedocs.io/en/latest/advanced-usage.html#ssl-warnings\n",
      "  InsecureRequestWarning,\n",
      "/home/dan/src/para/venv/lib/python3.6/site-packages/urllib3/connectionpool.py:1004: InsecureRequestWarning: Unverified HTTPS request is being made. Adding certificate verification is strongly advised. See: https://urllib3.readthedocs.io/en/latest/advanced-usage.html#ssl-warnings\n",
      "  InsecureRequestWarning,\n",
      "/home/dan/src/para/venv/lib/python3.6/site-packages/urllib3/connectionpool.py:1004: InsecureRequestWarning: Unverified HTTPS request is being made. Adding certificate verification is strongly advised. See: https://urllib3.readthedocs.io/en/latest/advanced-usage.html#ssl-warnings\n",
      "  InsecureRequestWarning,\n",
      "/home/dan/src/para/venv/lib/python3.6/site-packages/urllib3/connectionpool.py:1004: InsecureRequestWarning: Unverified HTTPS request is being made. Adding certificate verification is strongly advised. See: https://urllib3.readthedocs.io/en/latest/advanced-usage.html#ssl-warnings\n",
      "  InsecureRequestWarning,\n",
      "/home/dan/src/para/venv/lib/python3.6/site-packages/urllib3/connectionpool.py:1004: InsecureRequestWarning: Unverified HTTPS request is being made. Adding certificate verification is strongly advised. See: https://urllib3.readthedocs.io/en/latest/advanced-usage.html#ssl-warnings\n",
      "  InsecureRequestWarning,\n",
      "/home/dan/src/para/venv/lib/python3.6/site-packages/urllib3/connectionpool.py:1004: InsecureRequestWarning: Unverified HTTPS request is being made. Adding certificate verification is strongly advised. See: https://urllib3.readthedocs.io/en/latest/advanced-usage.html#ssl-warnings\n",
      "  InsecureRequestWarning,\n",
      "/home/dan/src/para/venv/lib/python3.6/site-packages/urllib3/connectionpool.py:1004: InsecureRequestWarning: Unverified HTTPS request is being made. Adding certificate verification is strongly advised. See: https://urllib3.readthedocs.io/en/latest/advanced-usage.html#ssl-warnings\n",
      "  InsecureRequestWarning,\n",
      "/home/dan/src/para/venv/lib/python3.6/site-packages/urllib3/connectionpool.py:1004: InsecureRequestWarning: Unverified HTTPS request is being made. Adding certificate verification is strongly advised. See: https://urllib3.readthedocs.io/en/latest/advanced-usage.html#ssl-warnings\n",
      "  InsecureRequestWarning,\n"
     ]
    },
    {
     "name": "stdout",
     "output_type": "stream",
     "text": [
      "https://nextdoor.com['https://nextdoor.com/', 'https://nextdoor.com/', 'https://nextdoor.nl/', 'https://nextdoor.co.uk/', 'https://nextdoor.de/', 'https://fr.nextdoor.com/', 'https://it.nextdoor.com/', 'https://es.nextdoor.com/', 'https://au.nextdoor.com/', 'https://dk.nextdoor.com/', 'https://se.nextdoor.com/', 'https://ca.nextdoor.com/', 'https://ca.nextdoor.com/', 'https://d19rpgkrjeba2z.cloudfront.net/b9b651cc0b575574/static/nextdoorv2/images/favicons/favicon-v2.ico']\n",
      "\n",
      "https://nextdoor.com\n",
      "['https://nextdoor.com/', 'https://nextdoor.com/', 'https://nextdoor.nl/', 'https://nextdoor.co.uk/', 'https://nextdoor.de/', 'https://fr.nextdoor.com/', 'https://it.nextdoor.com/', 'https://es.nextdoor.com/', 'https://au.nextdoor.com/', 'https://dk.nextdoor.com/', 'https://se.nextdoor.com/', 'https://ca.nextdoor.com/', 'https://ca.nextdoor.com/', 'https://d19rpgkrjeba2z.cloudfront.net/b9b651cc0b575574/static/nextdoorv2/images/favicons/favicon-v2.ico']\n",
      "https://nextdoor.com['https://nextdoor.com/', 'https://nextdoor.com/', 'https://nextdoor.nl/', 'https://nextdoor.co.uk/', 'https://nextdoor.de/', 'https://fr.nextdoor.com/', 'https://it.nextdoor.com/', 'https://es.nextdoor.com/', 'https://au.nextdoor.com/', 'https://dk.nextdoor.com/', 'https://se.nextdoor.com/', 'https://ca.nextdoor.com/', 'https://ca.nextdoor.com/', 'https://d19rpgkrjeba2z.cloudfront.net/b9b651cc0b575574/static/nextdoorv2/images/favicons/favicon-v2.ico']\n",
      "\n",
      "https://nextdoor.com\n",
      "['https://nextdoor.com/', 'https://nextdoor.com/', 'https://nextdoor.nl/', 'https://nextdoor.co.uk/', 'https://nextdoor.de/', 'https://fr.nextdoor.com/', 'https://it.nextdoor.com/', 'https://es.nextdoor.com/', 'https://au.nextdoor.com/', 'https://dk.nextdoor.com/', 'https://se.nextdoor.com/', 'https://ca.nextdoor.com/', 'https://ca.nextdoor.com/', 'https://d19rpgkrjeba2z.cloudfront.net/b9b651cc0b575574/static/nextdoorv2/images/favicons/favicon-v2.ico']\n",
      "https://nextdoor.com\n",
      "['https://nextdoor.com/', 'https://nextdoor.com/', 'https://nextdoor.nl/', 'https://nextdoor.co.uk/', 'https://nextdoor.de/', 'https://fr.nextdoor.com/', 'https://it.nextdoor.com/', 'https://es.nextdoor.com/', 'https://au.nextdoor.com/', 'https://dk.nextdoor.com/', 'https://se.nextdoor.com/', 'https://ca.nextdoor.com/', 'https://ca.nextdoor.com/', 'https://d19rpgkrjeba2z.cloudfront.net/b9b651cc0b575574/static/nextdoorv2/images/favicons/favicon-v2.ico']\n",
      "https://nextdoor.com['https://nextdoor.com/', 'https://nextdoor.com/', 'https://nextdoor.nl/', 'https://nextdoor.co.uk/', 'https://nextdoor.de/', 'https://fr.nextdoor.com/', 'https://it.nextdoor.com/', 'https://es.nextdoor.com/', 'https://au.nextdoor.com/', 'https://dk.nextdoor.com/', 'https://se.nextdoor.com/', 'https://ca.nextdoor.com/', 'https://ca.nextdoor.com/', 'https://d19rpgkrjeba2z.cloudfront.net/b9b651cc0b575574/static/nextdoorv2/images/favicons/favicon-v2.ico']\n",
      "\n"
     ]
    },
    {
     "name": "stderr",
     "output_type": "stream",
     "text": [
      "/home/dan/src/para/venv/lib/python3.6/site-packages/urllib3/connectionpool.py:1004: InsecureRequestWarning: Unverified HTTPS request is being made. Adding certificate verification is strongly advised. See: https://urllib3.readthedocs.io/en/latest/advanced-usage.html#ssl-warnings\n",
      "  InsecureRequestWarning,\n",
      "/home/dan/src/para/venv/lib/python3.6/site-packages/urllib3/connectionpool.py:1004: InsecureRequestWarning: Unverified HTTPS request is being made. Adding certificate verification is strongly advised. See: https://urllib3.readthedocs.io/en/latest/advanced-usage.html#ssl-warnings\n",
      "  InsecureRequestWarning,\n",
      "/home/dan/src/para/venv/lib/python3.6/site-packages/urllib3/connectionpool.py:1004: InsecureRequestWarning: Unverified HTTPS request is being made. Adding certificate verification is strongly advised. See: https://urllib3.readthedocs.io/en/latest/advanced-usage.html#ssl-warnings\n",
      "  InsecureRequestWarning,\n"
     ]
    },
    {
     "name": "stdout",
     "output_type": "stream",
     "text": [
      "https://nextdoor.com['https://nextdoor.com/', 'https://nextdoor.com/', 'https://nextdoor.nl/', 'https://nextdoor.co.uk/', 'https://nextdoor.de/', 'https://fr.nextdoor.com/', 'https://it.nextdoor.com/', 'https://es.nextdoor.com/', 'https://au.nextdoor.com/', 'https://dk.nextdoor.com/', 'https://se.nextdoor.com/', 'https://ca.nextdoor.com/', 'https://ca.nextdoor.com/', 'https://d19rpgkrjeba2z.cloudfront.net/b9b651cc0b575574/static/nextdoorv2/images/favicons/favicon-v2.ico']\n",
      "\n",
      "https://nextdoor.com\n",
      "['https://nextdoor.com/', 'https://nextdoor.com/', 'https://nextdoor.nl/', 'https://nextdoor.co.uk/', 'https://nextdoor.de/', 'https://fr.nextdoor.com/', 'https://it.nextdoor.com/', 'https://es.nextdoor.com/', 'https://au.nextdoor.com/', 'https://dk.nextdoor.com/', 'https://se.nextdoor.com/', 'https://ca.nextdoor.com/', 'https://ca.nextdoor.com/', 'https://d19rpgkrjeba2z.cloudfront.net/b9b651cc0b575574/static/nextdoorv2/images/favicons/favicon-v2.ico']\n",
      "https://nextdoor.com\n",
      "['https://nextdoor.com/', 'https://nextdoor.com/', 'https://nextdoor.nl/', 'https://nextdoor.co.uk/', 'https://nextdoor.de/', 'https://fr.nextdoor.com/', 'https://it.nextdoor.com/', 'https://es.nextdoor.com/', 'https://au.nextdoor.com/', 'https://dk.nextdoor.com/', 'https://se.nextdoor.com/', 'https://ca.nextdoor.com/', 'https://ca.nextdoor.com/', 'https://d19rpgkrjeba2z.cloudfront.net/b9b651cc0b575574/static/nextdoorv2/images/favicons/favicon-v2.ico']\n",
      "https://nextdoor.com['https://nextdoor.com/', 'https://nextdoor.com/', 'https://nextdoor.nl/', 'https://nextdoor.co.uk/', 'https://nextdoor.de/', 'https://fr.nextdoor.com/', 'https://it.nextdoor.com/', 'https://es.nextdoor.com/', 'https://au.nextdoor.com/', 'https://dk.nextdoor.com/', 'https://se.nextdoor.com/', 'https://ca.nextdoor.com/', 'https://ca.nextdoor.com/', 'https://d19rpgkrjeba2z.cloudfront.net/b9b651cc0b575574/static/nextdoorv2/images/favicons/favicon-v2.ico']\n",
      "\n",
      "https://nextdoor.com\n",
      "['https://nextdoor.com/', 'https://nextdoor.com/', 'https://nextdoor.nl/', 'https://nextdoor.co.uk/', 'https://nextdoor.de/', 'https://fr.nextdoor.com/', 'https://it.nextdoor.com/', 'https://es.nextdoor.com/', 'https://au.nextdoor.com/', 'https://dk.nextdoor.com/', 'https://se.nextdoor.com/', 'https://ca.nextdoor.com/', 'https://ca.nextdoor.com/', 'https://d19rpgkrjeba2z.cloudfront.net/b9b651cc0b575574/static/nextdoorv2/images/favicons/favicon-v2.ico']\n"
     ]
    },
    {
     "name": "stderr",
     "output_type": "stream",
     "text": [
      "/home/dan/src/para/venv/lib/python3.6/site-packages/urllib3/connectionpool.py:1004: InsecureRequestWarning: Unverified HTTPS request is being made. Adding certificate verification is strongly advised. See: https://urllib3.readthedocs.io/en/latest/advanced-usage.html#ssl-warnings\n",
      "  InsecureRequestWarning,\n",
      "/home/dan/src/para/venv/lib/python3.6/site-packages/urllib3/connectionpool.py:1004: InsecureRequestWarning: Unverified HTTPS request is being made. Adding certificate verification is strongly advised. See: https://urllib3.readthedocs.io/en/latest/advanced-usage.html#ssl-warnings\n",
      "  InsecureRequestWarning,\n",
      "/home/dan/src/para/venv/lib/python3.6/site-packages/urllib3/connectionpool.py:1004: InsecureRequestWarning: Unverified HTTPS request is being made. Adding certificate verification is strongly advised. See: https://urllib3.readthedocs.io/en/latest/advanced-usage.html#ssl-warnings\n",
      "  InsecureRequestWarning,\n",
      "/home/dan/src/para/venv/lib/python3.6/site-packages/urllib3/connectionpool.py:1004: InsecureRequestWarning: Unverified HTTPS request is being made. Adding certificate verification is strongly advised. See: https://urllib3.readthedocs.io/en/latest/advanced-usage.html#ssl-warnings\n",
      "  InsecureRequestWarning,\n",
      "/home/dan/src/para/venv/lib/python3.6/site-packages/urllib3/connectionpool.py:1004: InsecureRequestWarning: Unverified HTTPS request is being made. Adding certificate verification is strongly advised. See: https://urllib3.readthedocs.io/en/latest/advanced-usage.html#ssl-warnings\n",
      "  InsecureRequestWarning,\n"
     ]
    },
    {
     "name": "stdout",
     "output_type": "stream",
     "text": [
      "https://nextdoor.com['https://nextdoor.com/', 'https://nextdoor.com/', 'https://nextdoor.nl/', 'https://nextdoor.co.uk/', 'https://nextdoor.de/', 'https://fr.nextdoor.com/', 'https://it.nextdoor.com/', 'https://es.nextdoor.com/', 'https://au.nextdoor.com/', 'https://dk.nextdoor.com/', 'https://se.nextdoor.com/', 'https://ca.nextdoor.com/', 'https://ca.nextdoor.com/', 'https://d19rpgkrjeba2z.cloudfront.net/b9b651cc0b575574/static/nextdoorv2/images/favicons/favicon-v2.ico']\n",
      "\n",
      "https://nextdoor.com['https://nextdoor.com/', 'https://nextdoor.com/', 'https://nextdoor.nl/', 'https://nextdoor.co.uk/', 'https://nextdoor.de/', 'https://fr.nextdoor.com/', 'https://it.nextdoor.com/', 'https://es.nextdoor.com/', 'https://au.nextdoor.com/', 'https://dk.nextdoor.com/', 'https://se.nextdoor.com/', 'https://ca.nextdoor.com/', 'https://ca.nextdoor.com/', 'https://d19rpgkrjeba2z.cloudfront.net/b9b651cc0b575574/static/nextdoorv2/images/favicons/favicon-v2.ico']\n",
      "\n"
     ]
    },
    {
     "name": "stderr",
     "output_type": "stream",
     "text": [
      "/home/dan/src/para/venv/lib/python3.6/site-packages/urllib3/connectionpool.py:1004: InsecureRequestWarning: Unverified HTTPS request is being made. Adding certificate verification is strongly advised. See: https://urllib3.readthedocs.io/en/latest/advanced-usage.html#ssl-warnings\n",
      "  InsecureRequestWarning,\n",
      "/home/dan/src/para/venv/lib/python3.6/site-packages/urllib3/connectionpool.py:1004: InsecureRequestWarning: Unverified HTTPS request is being made. Adding certificate verification is strongly advised. See: https://urllib3.readthedocs.io/en/latest/advanced-usage.html#ssl-warnings\n",
      "  InsecureRequestWarning,\n",
      "/home/dan/src/para/venv/lib/python3.6/site-packages/urllib3/connectionpool.py:1004: InsecureRequestWarning: Unverified HTTPS request is being made. Adding certificate verification is strongly advised. See: https://urllib3.readthedocs.io/en/latest/advanced-usage.html#ssl-warnings\n",
      "  InsecureRequestWarning,\n"
     ]
    },
    {
     "name": "stdout",
     "output_type": "stream",
     "text": [
      "https://nextdoor.com\n",
      "['https://nextdoor.com/', 'https://nextdoor.com/', 'https://nextdoor.nl/', 'https://nextdoor.co.uk/', 'https://nextdoor.de/', 'https://fr.nextdoor.com/', 'https://it.nextdoor.com/', 'https://es.nextdoor.com/', 'https://au.nextdoor.com/', 'https://dk.nextdoor.com/', 'https://se.nextdoor.com/', 'https://ca.nextdoor.com/', 'https://ca.nextdoor.com/', 'https://d19rpgkrjeba2z.cloudfront.net/b9b651cc0b575574/static/nextdoorv2/images/favicons/favicon-v2.ico']\n",
      "https://nextdoor.com\n",
      "['https://nextdoor.com/', 'https://nextdoor.com/', 'https://nextdoor.nl/', 'https://nextdoor.co.uk/', 'https://nextdoor.de/', 'https://fr.nextdoor.com/', 'https://it.nextdoor.com/', 'https://es.nextdoor.com/', 'https://au.nextdoor.com/', 'https://dk.nextdoor.com/', 'https://se.nextdoor.com/', 'https://ca.nextdoor.com/', 'https://ca.nextdoor.com/', 'https://d19rpgkrjeba2z.cloudfront.net/b9b651cc0b575574/static/nextdoorv2/images/favicons/favicon-v2.ico']\n",
      "https://nextdoor.com\n",
      "['https://nextdoor.com/', 'https://nextdoor.com/', 'https://nextdoor.nl/', 'https://nextdoor.co.uk/', 'https://nextdoor.de/', 'https://fr.nextdoor.com/', 'https://it.nextdoor.com/', 'https://es.nextdoor.com/', 'https://au.nextdoor.com/', 'https://dk.nextdoor.com/', 'https://se.nextdoor.com/', 'https://ca.nextdoor.com/', 'https://ca.nextdoor.com/', 'https://d19rpgkrjeba2z.cloudfront.net/b9b651cc0b575574/static/nextdoorv2/images/favicons/favicon-v2.ico']\n",
      "https://nextdoor.com\n",
      "['https://nextdoor.com/', 'https://nextdoor.com/', 'https://nextdoor.nl/', 'https://nextdoor.co.uk/', 'https://nextdoor.de/', 'https://fr.nextdoor.com/', 'https://it.nextdoor.com/', 'https://es.nextdoor.com/', 'https://au.nextdoor.com/', 'https://dk.nextdoor.com/', 'https://se.nextdoor.com/', 'https://ca.nextdoor.com/', 'https://ca.nextdoor.com/', 'https://d19rpgkrjeba2z.cloudfront.net/b9b651cc0b575574/static/nextdoorv2/images/favicons/favicon-v2.ico']\n",
      "https://nextdoor.com\n",
      "https://nextdoor.com\n",
      "https://nextdoor.com['https://nextdoor.com/', 'https://nextdoor.com/', 'https://nextdoor.nl/', 'https://nextdoor.co.uk/', 'https://nextdoor.de/', 'https://fr.nextdoor.com/', 'https://it.nextdoor.com/', 'https://es.nextdoor.com/', 'https://au.nextdoor.com/', 'https://dk.nextdoor.com/', 'https://se.nextdoor.com/', 'https://ca.nextdoor.com/', 'https://ca.nextdoor.com/', 'https://d19rpgkrjeba2z.cloudfront.net/b9b651cc0b575574/static/nextdoorv2/images/favicons/favicon-v2.ico']\n",
      "['https://nextdoor.com/', 'https://nextdoor.com/', 'https://nextdoor.nl/', 'https://nextdoor.co.uk/', 'https://nextdoor.de/', 'https://fr.nextdoor.com/', 'https://it.nextdoor.com/', 'https://es.nextdoor.com/', 'https://au.nextdoor.com/', 'https://dk.nextdoor.com/', 'https://se.nextdoor.com/', 'https://ca.nextdoor.com/', 'https://ca.nextdoor.com/', 'https://d19rpgkrjeba2z.cloudfront.net/b9b651cc0b575574/static/nextdoorv2/images/favicons/favicon-v2.ico']\n",
      "['https://nextdoor.com/', 'https://nextdoor.com/', 'https://nextdoor.nl/', 'https://nextdoor.co.uk/', 'https://nextdoor.de/', 'https://fr.nextdoor.com/', 'https://it.nextdoor.com/', 'https://es.nextdoor.com/', 'https://au.nextdoor.com/', 'https://dk.nextdoor.com/', 'https://se.nextdoor.com/', 'https://ca.nextdoor.com/', 'https://ca.nextdoor.com/', 'https://d19rpgkrjeba2z.cloudfront.net/b9b651cc0b575574/static/nextdoorv2/images/favicons/favicon-v2.ico']\n",
      "\n",
      "https://nextdoor.com\n",
      "['https://nextdoor.com/', 'https://nextdoor.com/', 'https://nextdoor.nl/', 'https://nextdoor.co.uk/', 'https://nextdoor.de/', 'https://fr.nextdoor.com/', 'https://it.nextdoor.com/', 'https://es.nextdoor.com/', 'https://au.nextdoor.com/', 'https://dk.nextdoor.com/', 'https://se.nextdoor.com/', 'https://ca.nextdoor.com/', 'https://ca.nextdoor.com/', 'https://d19rpgkrjeba2z.cloudfront.net/b9b651cc0b575574/static/nextdoorv2/images/favicons/favicon-v2.ico']\n",
      "https://nextdoor.com['https://nextdoor.com/', 'https://nextdoor.com/', 'https://nextdoor.nl/', 'https://nextdoor.co.uk/', 'https://nextdoor.de/', 'https://fr.nextdoor.com/', 'https://it.nextdoor.com/', 'https://es.nextdoor.com/', 'https://au.nextdoor.com/', 'https://dk.nextdoor.com/', 'https://se.nextdoor.com/', 'https://ca.nextdoor.com/', 'https://ca.nextdoor.com/', 'https://d19rpgkrjeba2z.cloudfront.net/b9b651cc0b575574/static/nextdoorv2/images/favicons/favicon-v2.ico']\n",
      "\n"
     ]
    },
    {
     "name": "stderr",
     "output_type": "stream",
     "text": [
      "/home/dan/src/para/venv/lib/python3.6/site-packages/urllib3/connectionpool.py:1004: InsecureRequestWarning: Unverified HTTPS request is being made. Adding certificate verification is strongly advised. See: https://urllib3.readthedocs.io/en/latest/advanced-usage.html#ssl-warnings\n",
      "  InsecureRequestWarning,\n",
      "/home/dan/src/para/venv/lib/python3.6/site-packages/urllib3/connectionpool.py:1004: InsecureRequestWarning: Unverified HTTPS request is being made. Adding certificate verification is strongly advised. See: https://urllib3.readthedocs.io/en/latest/advanced-usage.html#ssl-warnings\n",
      "  InsecureRequestWarning,\n",
      "/home/dan/src/para/venv/lib/python3.6/site-packages/urllib3/connectionpool.py:1004: InsecureRequestWarning: Unverified HTTPS request is being made. Adding certificate verification is strongly advised. See: https://urllib3.readthedocs.io/en/latest/advanced-usage.html#ssl-warnings\n",
      "  InsecureRequestWarning,\n"
     ]
    },
    {
     "name": "stdout",
     "output_type": "stream",
     "text": [
      "https://nextdoor.com['https://nextdoor.com/', 'https://nextdoor.com/', 'https://nextdoor.nl/', 'https://nextdoor.co.uk/', 'https://nextdoor.de/', 'https://fr.nextdoor.com/', 'https://it.nextdoor.com/', 'https://es.nextdoor.com/', 'https://au.nextdoor.com/', 'https://dk.nextdoor.com/', 'https://se.nextdoor.com/', 'https://ca.nextdoor.com/', 'https://ca.nextdoor.com/', 'https://d19rpgkrjeba2z.cloudfront.net/b9b651cc0b575574/static/nextdoorv2/images/favicons/favicon-v2.ico']\n",
      "\n",
      "https://nextdoor.com['https://nextdoor.com/', 'https://nextdoor.com/', 'https://nextdoor.nl/', 'https://nextdoor.co.uk/', 'https://nextdoor.de/', 'https://fr.nextdoor.com/', 'https://it.nextdoor.com/', 'https://es.nextdoor.com/', 'https://au.nextdoor.com/', 'https://dk.nextdoor.com/', 'https://se.nextdoor.com/', 'https://ca.nextdoor.com/', 'https://ca.nextdoor.com/', 'https://d19rpgkrjeba2z.cloudfront.net/b9b651cc0b575574/static/nextdoorv2/images/favicons/favicon-v2.ico']\n",
      "\n"
     ]
    },
    {
     "name": "stderr",
     "output_type": "stream",
     "text": [
      "/home/dan/src/para/venv/lib/python3.6/site-packages/urllib3/connectionpool.py:1004: InsecureRequestWarning: Unverified HTTPS request is being made. Adding certificate verification is strongly advised. See: https://urllib3.readthedocs.io/en/latest/advanced-usage.html#ssl-warnings\n",
      "  InsecureRequestWarning,\n",
      "/home/dan/src/para/venv/lib/python3.6/site-packages/urllib3/connectionpool.py:1004: InsecureRequestWarning: Unverified HTTPS request is being made. Adding certificate verification is strongly advised. See: https://urllib3.readthedocs.io/en/latest/advanced-usage.html#ssl-warnings\n",
      "  InsecureRequestWarning,\n",
      "/home/dan/src/para/venv/lib/python3.6/site-packages/urllib3/connectionpool.py:1004: InsecureRequestWarning: Unverified HTTPS request is being made. Adding certificate verification is strongly advised. See: https://urllib3.readthedocs.io/en/latest/advanced-usage.html#ssl-warnings\n",
      "  InsecureRequestWarning,\n",
      "/home/dan/src/para/venv/lib/python3.6/site-packages/urllib3/connectionpool.py:1004: InsecureRequestWarning: Unverified HTTPS request is being made. Adding certificate verification is strongly advised. See: https://urllib3.readthedocs.io/en/latest/advanced-usage.html#ssl-warnings\n",
      "  InsecureRequestWarning,\n",
      "/home/dan/src/para/venv/lib/python3.6/site-packages/urllib3/connectionpool.py:1004: InsecureRequestWarning: Unverified HTTPS request is being made. Adding certificate verification is strongly advised. See: https://urllib3.readthedocs.io/en/latest/advanced-usage.html#ssl-warnings\n",
      "  InsecureRequestWarning,\n",
      "/home/dan/src/para/venv/lib/python3.6/site-packages/urllib3/connectionpool.py:1004: InsecureRequestWarning: Unverified HTTPS request is being made. Adding certificate verification is strongly advised. See: https://urllib3.readthedocs.io/en/latest/advanced-usage.html#ssl-warnings\n",
      "  InsecureRequestWarning,\n",
      "/home/dan/src/para/venv/lib/python3.6/site-packages/urllib3/connectionpool.py:1004: InsecureRequestWarning: Unverified HTTPS request is being made. Adding certificate verification is strongly advised. See: https://urllib3.readthedocs.io/en/latest/advanced-usage.html#ssl-warnings\n",
      "  InsecureRequestWarning,\n"
     ]
    },
    {
     "name": "stdout",
     "output_type": "stream",
     "text": [
      "https://nextdoor.com\n",
      "['https://nextdoor.com/', 'https://nextdoor.com/', 'https://nextdoor.nl/', 'https://nextdoor.co.uk/', 'https://nextdoor.de/', 'https://fr.nextdoor.com/', 'https://it.nextdoor.com/', 'https://es.nextdoor.com/', 'https://au.nextdoor.com/', 'https://dk.nextdoor.com/', 'https://se.nextdoor.com/', 'https://ca.nextdoor.com/', 'https://ca.nextdoor.com/', 'https://d19rpgkrjeba2z.cloudfront.net/b9b651cc0b575574/static/nextdoorv2/images/favicons/favicon-v2.ico']\n",
      "https://nextdoor.com\n",
      "['https://nextdoor.com/', 'https://nextdoor.com/', 'https://nextdoor.nl/', 'https://nextdoor.co.uk/', 'https://nextdoor.de/', 'https://fr.nextdoor.com/', 'https://it.nextdoor.com/', 'https://es.nextdoor.com/', 'https://au.nextdoor.com/', 'https://dk.nextdoor.com/', 'https://se.nextdoor.com/', 'https://ca.nextdoor.com/', 'https://ca.nextdoor.com/', 'https://d19rpgkrjeba2z.cloudfront.net/b9b651cc0b575574/static/nextdoorv2/images/favicons/favicon-v2.ico']\n"
     ]
    },
    {
     "name": "stderr",
     "output_type": "stream",
     "text": [
      "/home/dan/src/para/venv/lib/python3.6/site-packages/urllib3/connectionpool.py:1004: InsecureRequestWarning: Unverified HTTPS request is being made. Adding certificate verification is strongly advised. See: https://urllib3.readthedocs.io/en/latest/advanced-usage.html#ssl-warnings\n",
      "  InsecureRequestWarning,\n",
      "/home/dan/src/para/venv/lib/python3.6/site-packages/urllib3/connectionpool.py:1004: InsecureRequestWarning: Unverified HTTPS request is being made. Adding certificate verification is strongly advised. See: https://urllib3.readthedocs.io/en/latest/advanced-usage.html#ssl-warnings\n",
      "  InsecureRequestWarning,\n"
     ]
    },
    {
     "name": "stdout",
     "output_type": "stream",
     "text": [
      "https://nextdoor.com['https://nextdoor.com/', 'https://nextdoor.com/', 'https://nextdoor.nl/', 'https://nextdoor.co.uk/', 'https://nextdoor.de/', 'https://fr.nextdoor.com/', 'https://it.nextdoor.com/', 'https://es.nextdoor.com/', 'https://au.nextdoor.com/', 'https://dk.nextdoor.com/', 'https://se.nextdoor.com/', 'https://ca.nextdoor.com/', 'https://ca.nextdoor.com/', 'https://d19rpgkrjeba2z.cloudfront.net/b9b651cc0b575574/static/nextdoorv2/images/favicons/favicon-v2.ico']\n",
      "\n",
      "https://nextdoor.com\n",
      "['https://nextdoor.com/', 'https://nextdoor.com/', 'https://nextdoor.nl/', 'https://nextdoor.co.uk/', 'https://nextdoor.de/', 'https://fr.nextdoor.com/', 'https://it.nextdoor.com/', 'https://es.nextdoor.com/', 'https://au.nextdoor.com/', 'https://dk.nextdoor.com/', 'https://se.nextdoor.com/', 'https://ca.nextdoor.com/', 'https://ca.nextdoor.com/', 'https://d19rpgkrjeba2z.cloudfront.net/b9b651cc0b575574/static/nextdoorv2/images/favicons/favicon-v2.ico']\n",
      "https://nextdoor.com['https://nextdoor.com/', 'https://nextdoor.com/', 'https://nextdoor.nl/', 'https://nextdoor.co.uk/', 'https://nextdoor.de/', 'https://fr.nextdoor.com/', 'https://it.nextdoor.com/', 'https://es.nextdoor.com/', 'https://au.nextdoor.com/', 'https://dk.nextdoor.com/', 'https://se.nextdoor.com/', 'https://ca.nextdoor.com/', 'https://ca.nextdoor.com/', 'https://d19rpgkrjeba2z.cloudfront.net/b9b651cc0b575574/static/nextdoorv2/images/favicons/favicon-v2.ico']\n",
      "\n",
      "https://nextdoor.com['https://nextdoor.com/', 'https://nextdoor.com/', 'https://nextdoor.nl/', 'https://nextdoor.co.uk/', 'https://nextdoor.de/', 'https://fr.nextdoor.com/', 'https://it.nextdoor.com/', 'https://es.nextdoor.com/', 'https://au.nextdoor.com/', 'https://dk.nextdoor.com/', 'https://se.nextdoor.com/', 'https://ca.nextdoor.com/', 'https://ca.nextdoor.com/', 'https://d19rpgkrjeba2z.cloudfront.net/b9b651cc0b575574/static/nextdoorv2/images/favicons/favicon-v2.ico']\n",
      "\n",
      "https://nextdoor.com['https://nextdoor.com/', 'https://nextdoor.com/', 'https://nextdoor.nl/', 'https://nextdoor.co.uk/', 'https://nextdoor.de/', 'https://fr.nextdoor.com/', 'https://it.nextdoor.com/', 'https://es.nextdoor.com/', 'https://au.nextdoor.com/', 'https://dk.nextdoor.com/', 'https://se.nextdoor.com/', 'https://ca.nextdoor.com/', 'https://ca.nextdoor.com/', 'https://d19rpgkrjeba2z.cloudfront.net/b9b651cc0b575574/static/nextdoorv2/images/favicons/favicon-v2.ico']\n",
      "\n"
     ]
    },
    {
     "name": "stderr",
     "output_type": "stream",
     "text": [
      "/home/dan/src/para/venv/lib/python3.6/site-packages/urllib3/connectionpool.py:1004: InsecureRequestWarning: Unverified HTTPS request is being made. Adding certificate verification is strongly advised. See: https://urllib3.readthedocs.io/en/latest/advanced-usage.html#ssl-warnings\n",
      "  InsecureRequestWarning,\n",
      "/home/dan/src/para/venv/lib/python3.6/site-packages/urllib3/connectionpool.py:1004: InsecureRequestWarning: Unverified HTTPS request is being made. Adding certificate verification is strongly advised. See: https://urllib3.readthedocs.io/en/latest/advanced-usage.html#ssl-warnings\n",
      "  InsecureRequestWarning,\n",
      "/home/dan/src/para/venv/lib/python3.6/site-packages/urllib3/connectionpool.py:1004: InsecureRequestWarning: Unverified HTTPS request is being made. Adding certificate verification is strongly advised. See: https://urllib3.readthedocs.io/en/latest/advanced-usage.html#ssl-warnings\n",
      "  InsecureRequestWarning,\n"
     ]
    },
    {
     "name": "stdout",
     "output_type": "stream",
     "text": [
      "https://nextdoor.comhttps://nextdoor.com['https://nextdoor.com/', 'https://nextdoor.com/', 'https://nextdoor.nl/', 'https://nextdoor.co.uk/', 'https://nextdoor.de/', 'https://fr.nextdoor.com/', 'https://it.nextdoor.com/', 'https://es.nextdoor.com/', 'https://au.nextdoor.com/', 'https://dk.nextdoor.com/', 'https://se.nextdoor.com/', 'https://ca.nextdoor.com/', 'https://ca.nextdoor.com/', 'https://d19rpgkrjeba2z.cloudfront.net/b9b651cc0b575574/static/nextdoorv2/images/favicons/favicon-v2.ico']\n",
      "['https://nextdoor.com/', 'https://nextdoor.com/', 'https://nextdoor.nl/', 'https://nextdoor.co.uk/', 'https://nextdoor.de/', 'https://fr.nextdoor.com/', 'https://it.nextdoor.com/', 'https://es.nextdoor.com/', 'https://au.nextdoor.com/', 'https://dk.nextdoor.com/', 'https://se.nextdoor.com/', 'https://ca.nextdoor.com/', 'https://ca.nextdoor.com/', 'https://d19rpgkrjeba2z.cloudfront.net/b9b651cc0b575574/static/nextdoorv2/images/favicons/favicon-v2.ico']\n",
      "\n",
      "\n",
      "https://nextdoor.com\n",
      "['https://nextdoor.com/', 'https://nextdoor.com/', 'https://nextdoor.nl/', 'https://nextdoor.co.uk/', 'https://nextdoor.de/', 'https://fr.nextdoor.com/', 'https://it.nextdoor.com/', 'https://es.nextdoor.com/', 'https://au.nextdoor.com/', 'https://dk.nextdoor.com/', 'https://se.nextdoor.com/', 'https://ca.nextdoor.com/', 'https://ca.nextdoor.com/', 'https://d19rpgkrjeba2z.cloudfront.net/b9b651cc0b575574/static/nextdoorv2/images/favicons/favicon-v2.ico']\n"
     ]
    },
    {
     "name": "stderr",
     "output_type": "stream",
     "text": [
      "/home/dan/src/para/venv/lib/python3.6/site-packages/urllib3/connectionpool.py:1004: InsecureRequestWarning: Unverified HTTPS request is being made. Adding certificate verification is strongly advised. See: https://urllib3.readthedocs.io/en/latest/advanced-usage.html#ssl-warnings\n",
      "  InsecureRequestWarning,\n",
      "/home/dan/src/para/venv/lib/python3.6/site-packages/urllib3/connectionpool.py:1004: InsecureRequestWarning: Unverified HTTPS request is being made. Adding certificate verification is strongly advised. See: https://urllib3.readthedocs.io/en/latest/advanced-usage.html#ssl-warnings\n",
      "  InsecureRequestWarning,\n",
      "/home/dan/src/para/venv/lib/python3.6/site-packages/urllib3/connectionpool.py:1004: InsecureRequestWarning: Unverified HTTPS request is being made. Adding certificate verification is strongly advised. See: https://urllib3.readthedocs.io/en/latest/advanced-usage.html#ssl-warnings\n",
      "  InsecureRequestWarning,\n",
      "/home/dan/src/para/venv/lib/python3.6/site-packages/urllib3/connectionpool.py:1004: InsecureRequestWarning: Unverified HTTPS request is being made. Adding certificate verification is strongly advised. See: https://urllib3.readthedocs.io/en/latest/advanced-usage.html#ssl-warnings\n",
      "  InsecureRequestWarning,\n",
      "/home/dan/src/para/venv/lib/python3.6/site-packages/urllib3/connectionpool.py:1004: InsecureRequestWarning: Unverified HTTPS request is being made. Adding certificate verification is strongly advised. See: https://urllib3.readthedocs.io/en/latest/advanced-usage.html#ssl-warnings\n",
      "  InsecureRequestWarning,\n",
      "/home/dan/src/para/venv/lib/python3.6/site-packages/urllib3/connectionpool.py:1004: InsecureRequestWarning: Unverified HTTPS request is being made. Adding certificate verification is strongly advised. See: https://urllib3.readthedocs.io/en/latest/advanced-usage.html#ssl-warnings\n",
      "  InsecureRequestWarning,\n",
      "/home/dan/src/para/venv/lib/python3.6/site-packages/urllib3/connectionpool.py:1004: InsecureRequestWarning: Unverified HTTPS request is being made. Adding certificate verification is strongly advised. See: https://urllib3.readthedocs.io/en/latest/advanced-usage.html#ssl-warnings\n",
      "  InsecureRequestWarning,\n"
     ]
    },
    {
     "name": "stdout",
     "output_type": "stream",
     "text": [
      "https://nextdoor.com['https://nextdoor.com/', 'https://nextdoor.com/', 'https://nextdoor.nl/', 'https://nextdoor.co.uk/', 'https://nextdoor.de/', 'https://fr.nextdoor.com/', 'https://it.nextdoor.com/', 'https://es.nextdoor.com/', 'https://au.nextdoor.com/', 'https://dk.nextdoor.com/', 'https://se.nextdoor.com/', 'https://ca.nextdoor.com/', 'https://ca.nextdoor.com/', 'https://d19rpgkrjeba2z.cloudfront.net/b9b651cc0b575574/static/nextdoorv2/images/favicons/favicon-v2.ico']\n",
      "\n",
      "https://nextdoor.com\n",
      "['https://nextdoor.com/', 'https://nextdoor.com/', 'https://nextdoor.nl/', 'https://nextdoor.co.uk/', 'https://nextdoor.de/', 'https://fr.nextdoor.com/', 'https://it.nextdoor.com/', 'https://es.nextdoor.com/', 'https://au.nextdoor.com/', 'https://dk.nextdoor.com/', 'https://se.nextdoor.com/', 'https://ca.nextdoor.com/', 'https://ca.nextdoor.com/', 'https://d19rpgkrjeba2z.cloudfront.net/b9b651cc0b575574/static/nextdoorv2/images/favicons/favicon-v2.ico']\n",
      "https://nextdoor.com['https://nextdoor.com/', 'https://nextdoor.com/', 'https://nextdoor.nl/', 'https://nextdoor.co.uk/', 'https://nextdoor.de/', 'https://fr.nextdoor.com/', 'https://it.nextdoor.com/', 'https://es.nextdoor.com/', 'https://au.nextdoor.com/', 'https://dk.nextdoor.com/', 'https://se.nextdoor.com/', 'https://ca.nextdoor.com/', 'https://ca.nextdoor.com/', 'https://d19rpgkrjeba2z.cloudfront.net/b9b651cc0b575574/static/nextdoorv2/images/favicons/favicon-v2.ico']\n",
      "\n",
      "https://nextdoor.com['https://nextdoor.com/', 'https://nextdoor.com/', 'https://nextdoor.nl/', 'https://nextdoor.co.uk/', 'https://nextdoor.de/', 'https://fr.nextdoor.com/', 'https://it.nextdoor.com/', 'https://es.nextdoor.com/', 'https://au.nextdoor.com/', 'https://dk.nextdoor.com/', 'https://se.nextdoor.com/', 'https://ca.nextdoor.com/', 'https://ca.nextdoor.com/', 'https://d19rpgkrjeba2z.cloudfront.net/b9b651cc0b575574/static/nextdoorv2/images/favicons/favicon-v2.ico']\n",
      "\n"
     ]
    },
    {
     "name": "stderr",
     "output_type": "stream",
     "text": [
      "/home/dan/src/para/venv/lib/python3.6/site-packages/urllib3/connectionpool.py:1004: InsecureRequestWarning: Unverified HTTPS request is being made. Adding certificate verification is strongly advised. See: https://urllib3.readthedocs.io/en/latest/advanced-usage.html#ssl-warnings\n",
      "  InsecureRequestWarning,\n",
      "/home/dan/src/para/venv/lib/python3.6/site-packages/urllib3/connectionpool.py:1004: InsecureRequestWarning: Unverified HTTPS request is being made. Adding certificate verification is strongly advised. See: https://urllib3.readthedocs.io/en/latest/advanced-usage.html#ssl-warnings\n",
      "  InsecureRequestWarning,\n",
      "/home/dan/src/para/venv/lib/python3.6/site-packages/urllib3/connectionpool.py:1004: InsecureRequestWarning: Unverified HTTPS request is being made. Adding certificate verification is strongly advised. See: https://urllib3.readthedocs.io/en/latest/advanced-usage.html#ssl-warnings\n",
      "  InsecureRequestWarning,\n",
      "/home/dan/src/para/venv/lib/python3.6/site-packages/urllib3/connectionpool.py:1004: InsecureRequestWarning: Unverified HTTPS request is being made. Adding certificate verification is strongly advised. See: https://urllib3.readthedocs.io/en/latest/advanced-usage.html#ssl-warnings\n",
      "  InsecureRequestWarning,\n"
     ]
    },
    {
     "name": "stdout",
     "output_type": "stream",
     "text": [
      "https://nextdoor.com['https://nextdoor.com/', 'https://nextdoor.com/', 'https://nextdoor.nl/', 'https://nextdoor.co.uk/', 'https://nextdoor.de/', 'https://fr.nextdoor.com/', 'https://it.nextdoor.com/', 'https://es.nextdoor.com/', 'https://au.nextdoor.com/', 'https://dk.nextdoor.com/', 'https://se.nextdoor.com/', 'https://ca.nextdoor.com/', 'https://ca.nextdoor.com/', 'https://d19rpgkrjeba2z.cloudfront.net/b9b651cc0b575574/static/nextdoorv2/images/favicons/favicon-v2.ico']\n",
      "\n",
      "https://nextdoor.com\n",
      "['https://nextdoor.com/', 'https://nextdoor.com/', 'https://nextdoor.nl/', 'https://nextdoor.co.uk/', 'https://nextdoor.de/', 'https://fr.nextdoor.com/', 'https://it.nextdoor.com/', 'https://es.nextdoor.com/', 'https://au.nextdoor.com/', 'https://dk.nextdoor.com/', 'https://se.nextdoor.com/', 'https://ca.nextdoor.com/', 'https://ca.nextdoor.com/', 'https://d19rpgkrjeba2z.cloudfront.net/b9b651cc0b575574/static/nextdoorv2/images/favicons/favicon-v2.ico']\n",
      "https://nextdoor.com\n",
      "['https://nextdoor.com/', 'https://nextdoor.com/', 'https://nextdoor.nl/', 'https://nextdoor.co.uk/', 'https://nextdoor.de/', 'https://fr.nextdoor.com/', 'https://it.nextdoor.com/', 'https://es.nextdoor.com/', 'https://au.nextdoor.com/', 'https://dk.nextdoor.com/', 'https://se.nextdoor.com/', 'https://ca.nextdoor.com/', 'https://ca.nextdoor.com/', 'https://d19rpgkrjeba2z.cloudfront.net/b9b651cc0b575574/static/nextdoorv2/images/favicons/favicon-v2.ico']\n",
      "https://nextdoor.com\n",
      "['https://nextdoor.com/', 'https://nextdoor.com/', 'https://nextdoor.nl/', 'https://nextdoor.co.uk/', 'https://nextdoor.de/', 'https://fr.nextdoor.com/', 'https://it.nextdoor.com/', 'https://es.nextdoor.com/', 'https://au.nextdoor.com/', 'https://dk.nextdoor.com/', 'https://se.nextdoor.com/', 'https://ca.nextdoor.com/', 'https://ca.nextdoor.com/', 'https://d19rpgkrjeba2z.cloudfront.net/b9b651cc0b575574/static/nextdoorv2/images/favicons/favicon-v2.ico']\n",
      "https://nextdoor.com['https://nextdoor.com/', 'https://nextdoor.com/', 'https://nextdoor.nl/', 'https://nextdoor.co.uk/', 'https://nextdoor.de/', 'https://fr.nextdoor.com/', 'https://it.nextdoor.com/', 'https://es.nextdoor.com/', 'https://au.nextdoor.com/', 'https://dk.nextdoor.com/', 'https://se.nextdoor.com/', 'https://ca.nextdoor.com/', 'https://ca.nextdoor.com/', 'https://d19rpgkrjeba2z.cloudfront.net/b9b651cc0b575574/static/nextdoorv2/images/favicons/favicon-v2.ico']\n",
      "\n",
      "https://nextdoor.comhttps://nextdoor.com\n",
      "\n",
      "['https://nextdoor.com/', 'https://nextdoor.com/', 'https://nextdoor.nl/', 'https://nextdoor.co.uk/', 'https://nextdoor.de/', 'https://fr.nextdoor.com/', 'https://it.nextdoor.com/', 'https://es.nextdoor.com/', 'https://au.nextdoor.com/', 'https://dk.nextdoor.com/', 'https://se.nextdoor.com/', 'https://ca.nextdoor.com/', 'https://ca.nextdoor.com/', 'https://d19rpgkrjeba2z.cloudfront.net/b9b651cc0b575574/static/nextdoorv2/images/favicons/favicon-v2.ico']\n",
      "['https://nextdoor.com/', 'https://nextdoor.com/', 'https://nextdoor.nl/', 'https://nextdoor.co.uk/', 'https://nextdoor.de/', 'https://fr.nextdoor.com/', 'https://it.nextdoor.com/', 'https://es.nextdoor.com/', 'https://au.nextdoor.com/', 'https://dk.nextdoor.com/', 'https://se.nextdoor.com/', 'https://ca.nextdoor.com/', 'https://ca.nextdoor.com/', 'https://d19rpgkrjeba2z.cloudfront.net/b9b651cc0b575574/static/nextdoorv2/images/favicons/favicon-v2.ico']\n",
      "https://nextdoor.com['https://nextdoor.com/', 'https://nextdoor.com/', 'https://nextdoor.nl/', 'https://nextdoor.co.uk/', 'https://nextdoor.de/', 'https://fr.nextdoor.com/', 'https://it.nextdoor.com/', 'https://es.nextdoor.com/', 'https://au.nextdoor.com/', 'https://dk.nextdoor.com/', 'https://se.nextdoor.com/', 'https://ca.nextdoor.com/', 'https://ca.nextdoor.com/', 'https://d19rpgkrjeba2z.cloudfront.net/b9b651cc0b575574/static/nextdoorv2/images/favicons/favicon-v2.ico']\n",
      "\n",
      "https://nextdoor.com\n",
      "['https://nextdoor.com/', 'https://nextdoor.com/', 'https://nextdoor.nl/', 'https://nextdoor.co.uk/', 'https://nextdoor.de/', 'https://fr.nextdoor.com/', 'https://it.nextdoor.com/', 'https://es.nextdoor.com/', 'https://au.nextdoor.com/', 'https://dk.nextdoor.com/', 'https://se.nextdoor.com/', 'https://ca.nextdoor.com/', 'https://ca.nextdoor.com/', 'https://d19rpgkrjeba2z.cloudfront.net/b9b651cc0b575574/static/nextdoorv2/images/favicons/favicon-v2.ico']\n"
     ]
    },
    {
     "name": "stderr",
     "output_type": "stream",
     "text": [
      "/home/dan/src/para/venv/lib/python3.6/site-packages/urllib3/connectionpool.py:1004: InsecureRequestWarning: Unverified HTTPS request is being made. Adding certificate verification is strongly advised. See: https://urllib3.readthedocs.io/en/latest/advanced-usage.html#ssl-warnings\n",
      "  InsecureRequestWarning,\n",
      "/home/dan/src/para/venv/lib/python3.6/site-packages/urllib3/connectionpool.py:1004: InsecureRequestWarning: Unverified HTTPS request is being made. Adding certificate verification is strongly advised. See: https://urllib3.readthedocs.io/en/latest/advanced-usage.html#ssl-warnings\n",
      "  InsecureRequestWarning,\n",
      "/home/dan/src/para/venv/lib/python3.6/site-packages/urllib3/connectionpool.py:1004: InsecureRequestWarning: Unverified HTTPS request is being made. Adding certificate verification is strongly advised. See: https://urllib3.readthedocs.io/en/latest/advanced-usage.html#ssl-warnings\n",
      "  InsecureRequestWarning,\n",
      "/home/dan/src/para/venv/lib/python3.6/site-packages/urllib3/connectionpool.py:1004: InsecureRequestWarning: Unverified HTTPS request is being made. Adding certificate verification is strongly advised. See: https://urllib3.readthedocs.io/en/latest/advanced-usage.html#ssl-warnings\n",
      "  InsecureRequestWarning,\n",
      "/home/dan/src/para/venv/lib/python3.6/site-packages/urllib3/connectionpool.py:1004: InsecureRequestWarning: Unverified HTTPS request is being made. Adding certificate verification is strongly advised. See: https://urllib3.readthedocs.io/en/latest/advanced-usage.html#ssl-warnings\n",
      "  InsecureRequestWarning,\n"
     ]
    },
    {
     "name": "stdout",
     "output_type": "stream",
     "text": [
      "https://nextdoor.com['https://nextdoor.com/', 'https://nextdoor.com/', 'https://nextdoor.nl/', 'https://nextdoor.co.uk/', 'https://nextdoor.de/', 'https://fr.nextdoor.com/', 'https://it.nextdoor.com/', 'https://es.nextdoor.com/', 'https://au.nextdoor.com/', 'https://dk.nextdoor.com/', 'https://se.nextdoor.com/', 'https://ca.nextdoor.com/', 'https://ca.nextdoor.com/', 'https://d19rpgkrjeba2z.cloudfront.net/b9b651cc0b575574/static/nextdoorv2/images/favicons/favicon-v2.ico']\n",
      "\n",
      "https://nextdoor.com\n",
      "['https://nextdoor.com/', 'https://nextdoor.com/', 'https://nextdoor.nl/', 'https://nextdoor.co.uk/', 'https://nextdoor.de/', 'https://fr.nextdoor.com/', 'https://it.nextdoor.com/', 'https://es.nextdoor.com/', 'https://au.nextdoor.com/', 'https://dk.nextdoor.com/', 'https://se.nextdoor.com/', 'https://ca.nextdoor.com/', 'https://ca.nextdoor.com/', 'https://d19rpgkrjeba2z.cloudfront.net/b9b651cc0b575574/static/nextdoorv2/images/favicons/favicon-v2.ico']\n",
      "https://nextdoor.com\n",
      "['https://nextdoor.com/', 'https://nextdoor.com/', 'https://nextdoor.nl/', 'https://nextdoor.co.uk/', 'https://nextdoor.de/', 'https://fr.nextdoor.com/', 'https://it.nextdoor.com/', 'https://es.nextdoor.com/', 'https://au.nextdoor.com/', 'https://dk.nextdoor.com/', 'https://se.nextdoor.com/', 'https://ca.nextdoor.com/', 'https://ca.nextdoor.com/', 'https://d19rpgkrjeba2z.cloudfront.net/b9b651cc0b575574/static/nextdoorv2/images/favicons/favicon-v2.ico']\n",
      "https://nextdoor.com\n",
      "['https://nextdoor.com/', 'https://nextdoor.com/', 'https://nextdoor.nl/', 'https://nextdoor.co.uk/', 'https://nextdoor.de/', 'https://fr.nextdoor.com/', 'https://it.nextdoor.com/', 'https://es.nextdoor.com/', 'https://au.nextdoor.com/', 'https://dk.nextdoor.com/', 'https://se.nextdoor.com/', 'https://ca.nextdoor.com/', 'https://ca.nextdoor.com/', 'https://d19rpgkrjeba2z.cloudfront.net/b9b651cc0b575574/static/nextdoorv2/images/favicons/favicon-v2.ico']\n"
     ]
    },
    {
     "name": "stderr",
     "output_type": "stream",
     "text": [
      "/home/dan/src/para/venv/lib/python3.6/site-packages/urllib3/connectionpool.py:1004: InsecureRequestWarning: Unverified HTTPS request is being made. Adding certificate verification is strongly advised. See: https://urllib3.readthedocs.io/en/latest/advanced-usage.html#ssl-warnings\n",
      "  InsecureRequestWarning,\n",
      "/home/dan/src/para/venv/lib/python3.6/site-packages/urllib3/connectionpool.py:1004: InsecureRequestWarning: Unverified HTTPS request is being made. Adding certificate verification is strongly advised. See: https://urllib3.readthedocs.io/en/latest/advanced-usage.html#ssl-warnings\n",
      "  InsecureRequestWarning,\n",
      "/home/dan/src/para/venv/lib/python3.6/site-packages/urllib3/connectionpool.py:1004: InsecureRequestWarning: Unverified HTTPS request is being made. Adding certificate verification is strongly advised. See: https://urllib3.readthedocs.io/en/latest/advanced-usage.html#ssl-warnings\n",
      "  InsecureRequestWarning,\n"
     ]
    },
    {
     "name": "stdout",
     "output_type": "stream",
     "text": [
      "https://nextdoor.com['https://nextdoor.com/', 'https://nextdoor.com/', 'https://nextdoor.nl/', 'https://nextdoor.co.uk/', 'https://nextdoor.de/', 'https://fr.nextdoor.com/', 'https://it.nextdoor.com/', 'https://es.nextdoor.com/', 'https://au.nextdoor.com/', 'https://dk.nextdoor.com/', 'https://se.nextdoor.com/', 'https://ca.nextdoor.com/', 'https://ca.nextdoor.com/', 'https://d19rpgkrjeba2z.cloudfront.net/b9b651cc0b575574/static/nextdoorv2/images/favicons/favicon-v2.ico']\n",
      "\n"
     ]
    },
    {
     "name": "stderr",
     "output_type": "stream",
     "text": [
      "/home/dan/src/para/venv/lib/python3.6/site-packages/urllib3/connectionpool.py:1004: InsecureRequestWarning: Unverified HTTPS request is being made. Adding certificate verification is strongly advised. See: https://urllib3.readthedocs.io/en/latest/advanced-usage.html#ssl-warnings\n",
      "  InsecureRequestWarning,\n",
      "/home/dan/src/para/venv/lib/python3.6/site-packages/urllib3/connectionpool.py:1004: InsecureRequestWarning: Unverified HTTPS request is being made. Adding certificate verification is strongly advised. See: https://urllib3.readthedocs.io/en/latest/advanced-usage.html#ssl-warnings\n",
      "  InsecureRequestWarning,\n",
      "/home/dan/src/para/venv/lib/python3.6/site-packages/urllib3/connectionpool.py:1004: InsecureRequestWarning: Unverified HTTPS request is being made. Adding certificate verification is strongly advised. See: https://urllib3.readthedocs.io/en/latest/advanced-usage.html#ssl-warnings\n",
      "  InsecureRequestWarning,\n"
     ]
    },
    {
     "name": "stdout",
     "output_type": "stream",
     "text": [
      "https://nextdoor.com['https://nextdoor.com/', 'https://nextdoor.com/', 'https://nextdoor.nl/', 'https://nextdoor.co.uk/', 'https://nextdoor.de/', 'https://fr.nextdoor.com/', 'https://it.nextdoor.com/', 'https://es.nextdoor.com/', 'https://au.nextdoor.com/', 'https://dk.nextdoor.com/', 'https://se.nextdoor.com/', 'https://ca.nextdoor.com/', 'https://ca.nextdoor.com/', 'https://d19rpgkrjeba2z.cloudfront.net/b9b651cc0b575574/static/nextdoorv2/images/favicons/favicon-v2.ico']\n",
      "\n",
      "https://nextdoor.com\n",
      "https://nextdoor.com['https://nextdoor.com/', 'https://nextdoor.com/', 'https://nextdoor.nl/', 'https://nextdoor.co.uk/', 'https://nextdoor.de/', 'https://fr.nextdoor.com/', 'https://it.nextdoor.com/', 'https://es.nextdoor.com/', 'https://au.nextdoor.com/', 'https://dk.nextdoor.com/', 'https://se.nextdoor.com/', 'https://ca.nextdoor.com/', 'https://ca.nextdoor.com/', 'https://d19rpgkrjeba2z.cloudfront.net/b9b651cc0b575574/static/nextdoorv2/images/favicons/favicon-v2.ico']\n",
      "['https://nextdoor.com/', 'https://nextdoor.com/', 'https://nextdoor.nl/', 'https://nextdoor.co.uk/', 'https://nextdoor.de/', 'https://fr.nextdoor.com/', 'https://it.nextdoor.com/', 'https://es.nextdoor.com/', 'https://au.nextdoor.com/', 'https://dk.nextdoor.com/', 'https://se.nextdoor.com/', 'https://ca.nextdoor.com/', 'https://ca.nextdoor.com/', 'https://d19rpgkrjeba2z.cloudfront.net/b9b651cc0b575574/static/nextdoorv2/images/favicons/favicon-v2.ico']\n",
      "\n",
      "https://nextdoor.com['https://nextdoor.com/', 'https://nextdoor.com/', 'https://nextdoor.nl/', 'https://nextdoor.co.uk/', 'https://nextdoor.de/', 'https://fr.nextdoor.com/', 'https://it.nextdoor.com/', 'https://es.nextdoor.com/', 'https://au.nextdoor.com/', 'https://dk.nextdoor.com/', 'https://se.nextdoor.com/', 'https://ca.nextdoor.com/', 'https://ca.nextdoor.com/', 'https://d19rpgkrjeba2z.cloudfront.net/b9b651cc0b575574/static/nextdoorv2/images/favicons/favicon-v2.ico']\n",
      "\n",
      "https://nextdoor.com['https://nextdoor.com/', 'https://nextdoor.com/', 'https://nextdoor.nl/', 'https://nextdoor.co.uk/', 'https://nextdoor.de/', 'https://fr.nextdoor.com/', 'https://it.nextdoor.com/', 'https://es.nextdoor.com/', 'https://au.nextdoor.com/', 'https://dk.nextdoor.com/', 'https://se.nextdoor.com/', 'https://ca.nextdoor.com/', 'https://ca.nextdoor.com/', 'https://d19rpgkrjeba2z.cloudfront.net/b9b651cc0b575574/static/nextdoorv2/images/favicons/favicon-v2.ico']\n"
     ]
    },
    {
     "name": "stderr",
     "output_type": "stream",
     "text": [
      "/home/dan/src/para/venv/lib/python3.6/site-packages/urllib3/connectionpool.py:1004: InsecureRequestWarning: Unverified HTTPS request is being made. Adding certificate verification is strongly advised. See: https://urllib3.readthedocs.io/en/latest/advanced-usage.html#ssl-warnings\n",
      "  InsecureRequestWarning,\n",
      "/home/dan/src/para/venv/lib/python3.6/site-packages/urllib3/connectionpool.py:1004: InsecureRequestWarning: Unverified HTTPS request is being made. Adding certificate verification is strongly advised. See: https://urllib3.readthedocs.io/en/latest/advanced-usage.html#ssl-warnings\n",
      "  InsecureRequestWarning,\n",
      "/home/dan/src/para/venv/lib/python3.6/site-packages/urllib3/connectionpool.py:1004: InsecureRequestWarning: Unverified HTTPS request is being made. Adding certificate verification is strongly advised. See: https://urllib3.readthedocs.io/en/latest/advanced-usage.html#ssl-warnings\n",
      "  InsecureRequestWarning,\n",
      "/home/dan/src/para/venv/lib/python3.6/site-packages/urllib3/connectionpool.py:1004: InsecureRequestWarning: Unverified HTTPS request is being made. Adding certificate verification is strongly advised. See: https://urllib3.readthedocs.io/en/latest/advanced-usage.html#ssl-warnings\n",
      "  InsecureRequestWarning,\n",
      "/home/dan/src/para/venv/lib/python3.6/site-packages/urllib3/connectionpool.py:1004: InsecureRequestWarning: Unverified HTTPS request is being made. Adding certificate verification is strongly advised. See: https://urllib3.readthedocs.io/en/latest/advanced-usage.html#ssl-warnings\n",
      "  InsecureRequestWarning,\n",
      "/home/dan/src/para/venv/lib/python3.6/site-packages/urllib3/connectionpool.py:1004: InsecureRequestWarning: Unverified HTTPS request is being made. Adding certificate verification is strongly advised. See: https://urllib3.readthedocs.io/en/latest/advanced-usage.html#ssl-warnings\n",
      "  InsecureRequestWarning,\n",
      "/home/dan/src/para/venv/lib/python3.6/site-packages/urllib3/connectionpool.py:1004: InsecureRequestWarning: Unverified HTTPS request is being made. Adding certificate verification is strongly advised. See: https://urllib3.readthedocs.io/en/latest/advanced-usage.html#ssl-warnings\n",
      "  InsecureRequestWarning,\n",
      "/home/dan/src/para/venv/lib/python3.6/site-packages/urllib3/connectionpool.py:1004: InsecureRequestWarning: Unverified HTTPS request is being made. Adding certificate verification is strongly advised. See: https://urllib3.readthedocs.io/en/latest/advanced-usage.html#ssl-warnings\n",
      "  InsecureRequestWarning,\n",
      "/home/dan/src/para/venv/lib/python3.6/site-packages/urllib3/connectionpool.py:1004: InsecureRequestWarning: Unverified HTTPS request is being made. Adding certificate verification is strongly advised. See: https://urllib3.readthedocs.io/en/latest/advanced-usage.html#ssl-warnings\n",
      "  InsecureRequestWarning,\n",
      "/home/dan/src/para/venv/lib/python3.6/site-packages/urllib3/connectionpool.py:1004: InsecureRequestWarning: Unverified HTTPS request is being made. Adding certificate verification is strongly advised. See: https://urllib3.readthedocs.io/en/latest/advanced-usage.html#ssl-warnings\n",
      "  InsecureRequestWarning,\n"
     ]
    },
    {
     "name": "stdout",
     "output_type": "stream",
     "text": [
      "\n",
      "https://nextdoor.com\n",
      "https://nextdoor.com\n",
      "['https://nextdoor.com/', 'https://nextdoor.com/', 'https://nextdoor.nl/', 'https://nextdoor.co.uk/', 'https://nextdoor.de/', 'https://fr.nextdoor.com/', 'https://it.nextdoor.com/', 'https://es.nextdoor.com/', 'https://au.nextdoor.com/', 'https://dk.nextdoor.com/', 'https://se.nextdoor.com/', 'https://ca.nextdoor.com/', 'https://ca.nextdoor.com/', 'https://d19rpgkrjeba2z.cloudfront.net/b9b651cc0b575574/static/nextdoorv2/images/favicons/favicon-v2.ico']\n",
      "['https://nextdoor.com/', 'https://nextdoor.com/', 'https://nextdoor.nl/', 'https://nextdoor.co.uk/', 'https://nextdoor.de/', 'https://fr.nextdoor.com/', 'https://it.nextdoor.com/', 'https://es.nextdoor.com/', 'https://au.nextdoor.com/', 'https://dk.nextdoor.com/', 'https://se.nextdoor.com/', 'https://ca.nextdoor.com/', 'https://ca.nextdoor.com/', 'https://d19rpgkrjeba2z.cloudfront.net/b9b651cc0b575574/static/nextdoorv2/images/favicons/favicon-v2.ico']\n",
      "https://nextdoor.com['https://nextdoor.com/', 'https://nextdoor.com/', 'https://nextdoor.nl/', 'https://nextdoor.co.uk/', 'https://nextdoor.de/', 'https://fr.nextdoor.com/', 'https://it.nextdoor.com/', 'https://es.nextdoor.com/', 'https://au.nextdoor.com/', 'https://dk.nextdoor.com/', 'https://se.nextdoor.com/', 'https://ca.nextdoor.com/', 'https://ca.nextdoor.com/', 'https://d19rpgkrjeba2z.cloudfront.net/b9b651cc0b575574/static/nextdoorv2/images/favicons/favicon-v2.ico']\n",
      "\n",
      "https://nextdoor.com['https://nextdoor.com/', 'https://nextdoor.com/', 'https://nextdoor.nl/', 'https://nextdoor.co.uk/', 'https://nextdoor.de/', 'https://fr.nextdoor.com/', 'https://it.nextdoor.com/', 'https://es.nextdoor.com/', 'https://au.nextdoor.com/', 'https://dk.nextdoor.com/', 'https://se.nextdoor.com/', 'https://ca.nextdoor.com/', 'https://ca.nextdoor.com/', 'https://d19rpgkrjeba2z.cloudfront.net/b9b651cc0b575574/static/nextdoorv2/images/favicons/favicon-v2.ico']\n",
      "\n"
     ]
    },
    {
     "name": "stderr",
     "output_type": "stream",
     "text": [
      "/home/dan/src/para/venv/lib/python3.6/site-packages/urllib3/connectionpool.py:1004: InsecureRequestWarning: Unverified HTTPS request is being made. Adding certificate verification is strongly advised. See: https://urllib3.readthedocs.io/en/latest/advanced-usage.html#ssl-warnings\n",
      "  InsecureRequestWarning,\n",
      "/home/dan/src/para/venv/lib/python3.6/site-packages/urllib3/connectionpool.py:1004: InsecureRequestWarning: Unverified HTTPS request is being made. Adding certificate verification is strongly advised. See: https://urllib3.readthedocs.io/en/latest/advanced-usage.html#ssl-warnings\n",
      "  InsecureRequestWarning,\n",
      "/home/dan/src/para/venv/lib/python3.6/site-packages/urllib3/connectionpool.py:1004: InsecureRequestWarning: Unverified HTTPS request is being made. Adding certificate verification is strongly advised. See: https://urllib3.readthedocs.io/en/latest/advanced-usage.html#ssl-warnings\n",
      "  InsecureRequestWarning,\n"
     ]
    },
    {
     "name": "stdout",
     "output_type": "stream",
     "text": [
      "https://nextdoor.com['https://nextdoor.com/', 'https://nextdoor.com/', 'https://nextdoor.nl/', 'https://nextdoor.co.uk/', 'https://nextdoor.de/', 'https://fr.nextdoor.com/', 'https://it.nextdoor.com/', 'https://es.nextdoor.com/', 'https://au.nextdoor.com/', 'https://dk.nextdoor.com/', 'https://se.nextdoor.com/', 'https://ca.nextdoor.com/', 'https://ca.nextdoor.com/', 'https://d19rpgkrjeba2z.cloudfront.net/b9b651cc0b575574/static/nextdoorv2/images/favicons/favicon-v2.ico']\n",
      "\n",
      "https://nextdoor.com['https://nextdoor.com/', 'https://nextdoor.com/', 'https://nextdoor.nl/', 'https://nextdoor.co.uk/', 'https://nextdoor.de/', 'https://fr.nextdoor.com/', 'https://it.nextdoor.com/', 'https://es.nextdoor.com/', 'https://au.nextdoor.com/', 'https://dk.nextdoor.com/', 'https://se.nextdoor.com/', 'https://ca.nextdoor.com/', 'https://ca.nextdoor.com/', 'https://d19rpgkrjeba2z.cloudfront.net/b9b651cc0b575574/static/nextdoorv2/images/favicons/favicon-v2.ico']\n",
      "\n",
      "https://nextdoor.com['https://nextdoor.com/', 'https://nextdoor.com/', 'https://nextdoor.nl/', 'https://nextdoor.co.uk/', 'https://nextdoor.de/', 'https://fr.nextdoor.com/', 'https://it.nextdoor.com/', 'https://es.nextdoor.com/', 'https://au.nextdoor.com/', 'https://dk.nextdoor.com/', 'https://se.nextdoor.com/', 'https://ca.nextdoor.com/', 'https://ca.nextdoor.com/', 'https://d19rpgkrjeba2z.cloudfront.net/b9b651cc0b575574/static/nextdoorv2/images/favicons/favicon-v2.ico']\n",
      "\n",
      "https://nextdoor.com\n",
      "['https://nextdoor.com/', 'https://nextdoor.com/', 'https://nextdoor.nl/', 'https://nextdoor.co.uk/', 'https://nextdoor.de/', 'https://fr.nextdoor.com/', 'https://it.nextdoor.com/', 'https://es.nextdoor.com/', 'https://au.nextdoor.com/', 'https://dk.nextdoor.com/', 'https://se.nextdoor.com/', 'https://ca.nextdoor.com/', 'https://ca.nextdoor.com/', 'https://d19rpgkrjeba2z.cloudfront.net/b9b651cc0b575574/static/nextdoorv2/images/favicons/favicon-v2.ico']\n",
      "https://nextdoor.com\n",
      "['https://nextdoor.com/', 'https://nextdoor.com/', 'https://nextdoor.nl/', 'https://nextdoor.co.uk/', 'https://nextdoor.de/', 'https://fr.nextdoor.com/', 'https://it.nextdoor.com/', 'https://es.nextdoor.com/', 'https://au.nextdoor.com/', 'https://dk.nextdoor.com/', 'https://se.nextdoor.com/', 'https://ca.nextdoor.com/', 'https://ca.nextdoor.com/', 'https://d19rpgkrjeba2z.cloudfront.net/b9b651cc0b575574/static/nextdoorv2/images/favicons/favicon-v2.ico']\n",
      "https://nextdoor.com['https://nextdoor.com/', 'https://nextdoor.com/', 'https://nextdoor.nl/', 'https://nextdoor.co.uk/', 'https://nextdoor.de/', 'https://fr.nextdoor.com/', 'https://it.nextdoor.com/', 'https://es.nextdoor.com/', 'https://au.nextdoor.com/', 'https://dk.nextdoor.com/', 'https://se.nextdoor.com/', 'https://ca.nextdoor.com/', 'https://ca.nextdoor.com/', 'https://d19rpgkrjeba2z.cloudfront.net/b9b651cc0b575574/static/nextdoorv2/images/favicons/favicon-v2.ico']\n",
      "\n"
     ]
    },
    {
     "name": "stderr",
     "output_type": "stream",
     "text": [
      "/home/dan/src/para/venv/lib/python3.6/site-packages/urllib3/connectionpool.py:1004: InsecureRequestWarning: Unverified HTTPS request is being made. Adding certificate verification is strongly advised. See: https://urllib3.readthedocs.io/en/latest/advanced-usage.html#ssl-warnings\n",
      "  InsecureRequestWarning,\n",
      "/home/dan/src/para/venv/lib/python3.6/site-packages/urllib3/connectionpool.py:1004: InsecureRequestWarning: Unverified HTTPS request is being made. Adding certificate verification is strongly advised. See: https://urllib3.readthedocs.io/en/latest/advanced-usage.html#ssl-warnings\n",
      "  InsecureRequestWarning,\n"
     ]
    },
    {
     "name": "stdout",
     "output_type": "stream",
     "text": [
      "https://nextdoor.com['https://nextdoor.com/', 'https://nextdoor.com/', 'https://nextdoor.nl/', 'https://nextdoor.co.uk/', 'https://nextdoor.de/', 'https://fr.nextdoor.com/', 'https://it.nextdoor.com/', 'https://es.nextdoor.com/', 'https://au.nextdoor.com/', 'https://dk.nextdoor.com/', 'https://se.nextdoor.com/', 'https://ca.nextdoor.com/', 'https://ca.nextdoor.com/', 'https://d19rpgkrjeba2z.cloudfront.net/b9b651cc0b575574/static/nextdoorv2/images/favicons/favicon-v2.ico']\n",
      "\n",
      "https://nextdoor.com['https://nextdoor.com/', 'https://nextdoor.com/', 'https://nextdoor.nl/', 'https://nextdoor.co.uk/', 'https://nextdoor.de/', 'https://fr.nextdoor.com/', 'https://it.nextdoor.com/', 'https://es.nextdoor.com/', 'https://au.nextdoor.com/', 'https://dk.nextdoor.com/', 'https://se.nextdoor.com/', 'https://ca.nextdoor.com/', 'https://ca.nextdoor.com/', 'https://d19rpgkrjeba2z.cloudfront.net/b9b651cc0b575574/static/nextdoorv2/images/favicons/favicon-v2.ico']\n",
      "\n",
      "https://nextdoor.com['https://nextdoor.com/', 'https://nextdoor.com/', 'https://nextdoor.nl/', 'https://nextdoor.co.uk/', 'https://nextdoor.de/', 'https://fr.nextdoor.com/', 'https://it.nextdoor.com/', 'https://es.nextdoor.com/', 'https://au.nextdoor.com/', 'https://dk.nextdoor.com/', 'https://se.nextdoor.com/', 'https://ca.nextdoor.com/', 'https://ca.nextdoor.com/', 'https://d19rpgkrjeba2z.cloudfront.net/b9b651cc0b575574/static/nextdoorv2/images/favicons/favicon-v2.ico']\n",
      "\n",
      "https://nextdoor.com['https://nextdoor.com/', 'https://nextdoor.com/', 'https://nextdoor.nl/', 'https://nextdoor.co.uk/', 'https://nextdoor.de/', 'https://fr.nextdoor.com/', 'https://it.nextdoor.com/', 'https://es.nextdoor.com/', 'https://au.nextdoor.com/', 'https://dk.nextdoor.com/', 'https://se.nextdoor.com/', 'https://ca.nextdoor.com/', 'https://ca.nextdoor.com/', 'https://d19rpgkrjeba2z.cloudfront.net/b9b651cc0b575574/static/nextdoorv2/images/favicons/favicon-v2.ico']\n",
      "\n",
      "https://nextdoor.com['https://nextdoor.com/', 'https://nextdoor.com/', 'https://nextdoor.nl/', 'https://nextdoor.co.uk/', 'https://nextdoor.de/', 'https://fr.nextdoor.com/', 'https://it.nextdoor.com/', 'https://es.nextdoor.com/', 'https://au.nextdoor.com/', 'https://dk.nextdoor.com/', 'https://se.nextdoor.com/', 'https://ca.nextdoor.com/', 'https://ca.nextdoor.com/', 'https://d19rpgkrjeba2z.cloudfront.net/b9b651cc0b575574/static/nextdoorv2/images/favicons/favicon-v2.ico']\n",
      "\n",
      "https://nextdoor.com\n",
      "['https://nextdoor.com/', 'https://nextdoor.com/', 'https://nextdoor.nl/', 'https://nextdoor.co.uk/', 'https://nextdoor.de/', 'https://fr.nextdoor.com/', 'https://it.nextdoor.com/', 'https://es.nextdoor.com/', 'https://au.nextdoor.com/', 'https://dk.nextdoor.com/', 'https://se.nextdoor.com/', 'https://ca.nextdoor.com/', 'https://ca.nextdoor.com/', 'https://d19rpgkrjeba2z.cloudfront.net/b9b651cc0b575574/static/nextdoorv2/images/favicons/favicon-v2.ico']\n",
      "https://nextdoor.com['https://nextdoor.com/', 'https://nextdoor.com/', 'https://nextdoor.nl/', 'https://nextdoor.co.uk/', 'https://nextdoor.de/', 'https://fr.nextdoor.com/', 'https://it.nextdoor.com/', 'https://es.nextdoor.com/', 'https://au.nextdoor.com/', 'https://dk.nextdoor.com/', 'https://se.nextdoor.com/', 'https://ca.nextdoor.com/', 'https://ca.nextdoor.com/', 'https://d19rpgkrjeba2z.cloudfront.net/b9b651cc0b575574/static/nextdoorv2/images/favicons/favicon-v2.ico']\n",
      "\n",
      "https://nextdoor.com['https://nextdoor.com/', 'https://nextdoor.com/', 'https://nextdoor.nl/', 'https://nextdoor.co.uk/', 'https://nextdoor.de/', 'https://fr.nextdoor.com/', 'https://it.nextdoor.com/', 'https://es.nextdoor.com/', 'https://au.nextdoor.com/', 'https://dk.nextdoor.com/', 'https://se.nextdoor.com/', 'https://ca.nextdoor.com/', 'https://ca.nextdoor.com/', 'https://d19rpgkrjeba2z.cloudfront.net/b9b651cc0b575574/static/nextdoorv2/images/favicons/favicon-v2.ico']\n",
      "\n"
     ]
    },
    {
     "name": "stderr",
     "output_type": "stream",
     "text": [
      "/home/dan/src/para/venv/lib/python3.6/site-packages/urllib3/connectionpool.py:1004: InsecureRequestWarning: Unverified HTTPS request is being made. Adding certificate verification is strongly advised. See: https://urllib3.readthedocs.io/en/latest/advanced-usage.html#ssl-warnings\n",
      "  InsecureRequestWarning,\n",
      "/home/dan/src/para/venv/lib/python3.6/site-packages/urllib3/connectionpool.py:1004: InsecureRequestWarning: Unverified HTTPS request is being made. Adding certificate verification is strongly advised. See: https://urllib3.readthedocs.io/en/latest/advanced-usage.html#ssl-warnings\n",
      "  InsecureRequestWarning,\n",
      "/home/dan/src/para/venv/lib/python3.6/site-packages/urllib3/connectionpool.py:1004: InsecureRequestWarning: Unverified HTTPS request is being made. Adding certificate verification is strongly advised. See: https://urllib3.readthedocs.io/en/latest/advanced-usage.html#ssl-warnings\n",
      "  InsecureRequestWarning,\n",
      "/home/dan/src/para/venv/lib/python3.6/site-packages/urllib3/connectionpool.py:1004: InsecureRequestWarning: Unverified HTTPS request is being made. Adding certificate verification is strongly advised. See: https://urllib3.readthedocs.io/en/latest/advanced-usage.html#ssl-warnings\n",
      "  InsecureRequestWarning,\n",
      "/home/dan/src/para/venv/lib/python3.6/site-packages/urllib3/connectionpool.py:1004: InsecureRequestWarning: Unverified HTTPS request is being made. Adding certificate verification is strongly advised. See: https://urllib3.readthedocs.io/en/latest/advanced-usage.html#ssl-warnings\n",
      "  InsecureRequestWarning,\n",
      "/home/dan/src/para/venv/lib/python3.6/site-packages/urllib3/connectionpool.py:1004: InsecureRequestWarning: Unverified HTTPS request is being made. Adding certificate verification is strongly advised. See: https://urllib3.readthedocs.io/en/latest/advanced-usage.html#ssl-warnings\n",
      "  InsecureRequestWarning,\n",
      "/home/dan/src/para/venv/lib/python3.6/site-packages/urllib3/connectionpool.py:1004: InsecureRequestWarning: Unverified HTTPS request is being made. Adding certificate verification is strongly advised. See: https://urllib3.readthedocs.io/en/latest/advanced-usage.html#ssl-warnings\n",
      "  InsecureRequestWarning,\n",
      "/home/dan/src/para/venv/lib/python3.6/site-packages/urllib3/connectionpool.py:1004: InsecureRequestWarning: Unverified HTTPS request is being made. Adding certificate verification is strongly advised. See: https://urllib3.readthedocs.io/en/latest/advanced-usage.html#ssl-warnings\n",
      "  InsecureRequestWarning,\n",
      "/home/dan/src/para/venv/lib/python3.6/site-packages/urllib3/connectionpool.py:1004: InsecureRequestWarning: Unverified HTTPS request is being made. Adding certificate verification is strongly advised. See: https://urllib3.readthedocs.io/en/latest/advanced-usage.html#ssl-warnings\n",
      "  InsecureRequestWarning,\n"
     ]
    },
    {
     "name": "stdout",
     "output_type": "stream",
     "text": [
      "https://nextdoor.com['https://nextdoor.com/', 'https://nextdoor.com/', 'https://nextdoor.nl/', 'https://nextdoor.co.uk/', 'https://nextdoor.de/', 'https://fr.nextdoor.com/', 'https://it.nextdoor.com/', 'https://es.nextdoor.com/', 'https://au.nextdoor.com/', 'https://dk.nextdoor.com/', 'https://se.nextdoor.com/', 'https://ca.nextdoor.com/', 'https://ca.nextdoor.com/', 'https://d19rpgkrjeba2z.cloudfront.net/b9b651cc0b575574/static/nextdoorv2/images/favicons/favicon-v2.ico']\n",
      "\n",
      "https://nextdoor.com['https://nextdoor.com/', 'https://nextdoor.com/', 'https://nextdoor.nl/', 'https://nextdoor.co.uk/', 'https://nextdoor.de/', 'https://fr.nextdoor.com/', 'https://it.nextdoor.com/', 'https://es.nextdoor.com/', 'https://au.nextdoor.com/', 'https://dk.nextdoor.com/', 'https://se.nextdoor.com/', 'https://ca.nextdoor.com/', 'https://ca.nextdoor.com/', 'https://d19rpgkrjeba2z.cloudfront.net/b9b651cc0b575574/static/nextdoorv2/images/favicons/favicon-v2.ico']\n",
      "\n",
      "https://nextdoor.com['https://nextdoor.com/', 'https://nextdoor.com/', 'https://nextdoor.nl/', 'https://nextdoor.co.uk/', 'https://nextdoor.de/', 'https://fr.nextdoor.com/', 'https://it.nextdoor.com/', 'https://es.nextdoor.com/', 'https://au.nextdoor.com/', 'https://dk.nextdoor.com/', 'https://se.nextdoor.com/', 'https://ca.nextdoor.com/', 'https://ca.nextdoor.com/', 'https://d19rpgkrjeba2z.cloudfront.net/b9b651cc0b575574/static/nextdoorv2/images/favicons/favicon-v2.ico']\n",
      "\n",
      "https://nextdoor.com['https://nextdoor.com/', 'https://nextdoor.com/', 'https://nextdoor.nl/', 'https://nextdoor.co.uk/', 'https://nextdoor.de/', 'https://fr.nextdoor.com/', 'https://it.nextdoor.com/', 'https://es.nextdoor.com/', 'https://au.nextdoor.com/', 'https://dk.nextdoor.com/', 'https://se.nextdoor.com/', 'https://ca.nextdoor.com/', 'https://ca.nextdoor.com/', 'https://d19rpgkrjeba2z.cloudfront.net/b9b651cc0b575574/static/nextdoorv2/images/favicons/favicon-v2.ico']\n",
      "\n"
     ]
    },
    {
     "name": "stderr",
     "output_type": "stream",
     "text": [
      "/home/dan/src/para/venv/lib/python3.6/site-packages/urllib3/connectionpool.py:1004: InsecureRequestWarning: Unverified HTTPS request is being made. Adding certificate verification is strongly advised. See: https://urllib3.readthedocs.io/en/latest/advanced-usage.html#ssl-warnings\n",
      "  InsecureRequestWarning,\n",
      "/home/dan/src/para/venv/lib/python3.6/site-packages/urllib3/connectionpool.py:1004: InsecureRequestWarning: Unverified HTTPS request is being made. Adding certificate verification is strongly advised. See: https://urllib3.readthedocs.io/en/latest/advanced-usage.html#ssl-warnings\n",
      "  InsecureRequestWarning,\n",
      "/home/dan/src/para/venv/lib/python3.6/site-packages/urllib3/connectionpool.py:1004: InsecureRequestWarning: Unverified HTTPS request is being made. Adding certificate verification is strongly advised. See: https://urllib3.readthedocs.io/en/latest/advanced-usage.html#ssl-warnings\n",
      "  InsecureRequestWarning,\n",
      "/home/dan/src/para/venv/lib/python3.6/site-packages/urllib3/connectionpool.py:1004: InsecureRequestWarning: Unverified HTTPS request is being made. Adding certificate verification is strongly advised. See: https://urllib3.readthedocs.io/en/latest/advanced-usage.html#ssl-warnings\n",
      "  InsecureRequestWarning,\n"
     ]
    },
    {
     "name": "stdout",
     "output_type": "stream",
     "text": [
      "https://nextdoor.com['https://nextdoor.com/', 'https://nextdoor.com/', 'https://nextdoor.nl/', 'https://nextdoor.co.uk/', 'https://nextdoor.de/', 'https://fr.nextdoor.com/', 'https://it.nextdoor.com/', 'https://es.nextdoor.com/', 'https://au.nextdoor.com/', 'https://dk.nextdoor.com/', 'https://se.nextdoor.com/', 'https://ca.nextdoor.com/', 'https://ca.nextdoor.com/', 'https://d19rpgkrjeba2z.cloudfront.net/b9b651cc0b575574/static/nextdoorv2/images/favicons/favicon-v2.ico']\n",
      "\n"
     ]
    },
    {
     "name": "stderr",
     "output_type": "stream",
     "text": [
      "/home/dan/src/para/venv/lib/python3.6/site-packages/urllib3/connectionpool.py:1004: InsecureRequestWarning: Unverified HTTPS request is being made. Adding certificate verification is strongly advised. See: https://urllib3.readthedocs.io/en/latest/advanced-usage.html#ssl-warnings\n",
      "  InsecureRequestWarning,\n",
      "/home/dan/src/para/venv/lib/python3.6/site-packages/urllib3/connectionpool.py:1004: InsecureRequestWarning: Unverified HTTPS request is being made. Adding certificate verification is strongly advised. See: https://urllib3.readthedocs.io/en/latest/advanced-usage.html#ssl-warnings\n",
      "  InsecureRequestWarning,\n",
      "/home/dan/src/para/venv/lib/python3.6/site-packages/urllib3/connectionpool.py:1004: InsecureRequestWarning: Unverified HTTPS request is being made. Adding certificate verification is strongly advised. See: https://urllib3.readthedocs.io/en/latest/advanced-usage.html#ssl-warnings\n",
      "  InsecureRequestWarning,\n",
      "/home/dan/src/para/venv/lib/python3.6/site-packages/urllib3/connectionpool.py:1004: InsecureRequestWarning: Unverified HTTPS request is being made. Adding certificate verification is strongly advised. See: https://urllib3.readthedocs.io/en/latest/advanced-usage.html#ssl-warnings\n",
      "  InsecureRequestWarning,\n",
      "/home/dan/src/para/venv/lib/python3.6/site-packages/urllib3/connectionpool.py:1004: InsecureRequestWarning: Unverified HTTPS request is being made. Adding certificate verification is strongly advised. See: https://urllib3.readthedocs.io/en/latest/advanced-usage.html#ssl-warnings\n",
      "  InsecureRequestWarning,\n",
      "/home/dan/src/para/venv/lib/python3.6/site-packages/urllib3/connectionpool.py:1004: InsecureRequestWarning: Unverified HTTPS request is being made. Adding certificate verification is strongly advised. See: https://urllib3.readthedocs.io/en/latest/advanced-usage.html#ssl-warnings\n",
      "  InsecureRequestWarning,\n",
      "/home/dan/src/para/venv/lib/python3.6/site-packages/urllib3/connectionpool.py:1004: InsecureRequestWarning: Unverified HTTPS request is being made. Adding certificate verification is strongly advised. See: https://urllib3.readthedocs.io/en/latest/advanced-usage.html#ssl-warnings\n",
      "  InsecureRequestWarning,\n"
     ]
    },
    {
     "name": "stdout",
     "output_type": "stream",
     "text": [
      "https://nextdoor.com['https://nextdoor.com/', 'https://nextdoor.com/', 'https://nextdoor.nl/', 'https://nextdoor.co.uk/', 'https://nextdoor.de/', 'https://fr.nextdoor.com/', 'https://it.nextdoor.com/', 'https://es.nextdoor.com/', 'https://au.nextdoor.com/', 'https://dk.nextdoor.com/', 'https://se.nextdoor.com/', 'https://ca.nextdoor.com/', 'https://ca.nextdoor.com/', 'https://d19rpgkrjeba2z.cloudfront.net/b9b651cc0b575574/static/nextdoorv2/images/favicons/favicon-v2.ico']\n",
      "\n",
      "https://nextdoor.com['https://nextdoor.com/', 'https://nextdoor.com/', 'https://nextdoor.nl/', 'https://nextdoor.co.uk/', 'https://nextdoor.de/', 'https://fr.nextdoor.com/', 'https://it.nextdoor.com/', 'https://es.nextdoor.com/', 'https://au.nextdoor.com/', 'https://dk.nextdoor.com/', 'https://se.nextdoor.com/', 'https://ca.nextdoor.com/', 'https://ca.nextdoor.com/', 'https://d19rpgkrjeba2z.cloudfront.net/b9b651cc0b575574/static/nextdoorv2/images/favicons/favicon-v2.ico']\n",
      "\n",
      "https://nextdoor.com\n",
      "https://nextdoor.com\n",
      "['https://nextdoor.com/', 'https://nextdoor.com/', 'https://nextdoor.nl/', 'https://nextdoor.co.uk/', 'https://nextdoor.de/', 'https://fr.nextdoor.com/', 'https://it.nextdoor.com/', 'https://es.nextdoor.com/', 'https://au.nextdoor.com/', 'https://dk.nextdoor.com/', 'https://se.nextdoor.com/', 'https://ca.nextdoor.com/', 'https://ca.nextdoor.com/', 'https://d19rpgkrjeba2z.cloudfront.net/b9b651cc0b575574/static/nextdoorv2/images/favicons/favicon-v2.ico']\n",
      "['https://nextdoor.com/', 'https://nextdoor.com/', 'https://nextdoor.nl/', 'https://nextdoor.co.uk/', 'https://nextdoor.de/', 'https://fr.nextdoor.com/', 'https://it.nextdoor.com/', 'https://es.nextdoor.com/', 'https://au.nextdoor.com/', 'https://dk.nextdoor.com/', 'https://se.nextdoor.com/', 'https://ca.nextdoor.com/', 'https://ca.nextdoor.com/', 'https://d19rpgkrjeba2z.cloudfront.net/b9b651cc0b575574/static/nextdoorv2/images/favicons/favicon-v2.ico']\n",
      "https://nextdoor.com\n",
      "['https://nextdoor.com/', 'https://nextdoor.com/', 'https://nextdoor.nl/', 'https://nextdoor.co.uk/', 'https://nextdoor.de/', 'https://fr.nextdoor.com/', 'https://it.nextdoor.com/', 'https://es.nextdoor.com/', 'https://au.nextdoor.com/', 'https://dk.nextdoor.com/', 'https://se.nextdoor.com/', 'https://ca.nextdoor.com/', 'https://ca.nextdoor.com/', 'https://d19rpgkrjeba2z.cloudfront.net/b9b651cc0b575574/static/nextdoorv2/images/favicons/favicon-v2.ico']https://nextdoor.com\n",
      "['https://nextdoor.com/', 'https://nextdoor.com/', 'https://nextdoor.nl/', 'https://nextdoor.co.uk/', 'https://nextdoor.de/', 'https://fr.nextdoor.com/', 'https://it.nextdoor.com/', 'https://es.nextdoor.com/', 'https://au.nextdoor.com/', 'https://dk.nextdoor.com/', 'https://se.nextdoor.com/', 'https://ca.nextdoor.com/', 'https://ca.nextdoor.com/', 'https://d19rpgkrjeba2z.cloudfront.net/b9b651cc0b575574/static/nextdoorv2/images/favicons/favicon-v2.ico']\n",
      "\n"
     ]
    },
    {
     "name": "stderr",
     "output_type": "stream",
     "text": [
      "/home/dan/src/para/venv/lib/python3.6/site-packages/urllib3/connectionpool.py:1004: InsecureRequestWarning: Unverified HTTPS request is being made. Adding certificate verification is strongly advised. See: https://urllib3.readthedocs.io/en/latest/advanced-usage.html#ssl-warnings\n",
      "  InsecureRequestWarning,\n",
      "/home/dan/src/para/venv/lib/python3.6/site-packages/urllib3/connectionpool.py:1004: InsecureRequestWarning: Unverified HTTPS request is being made. Adding certificate verification is strongly advised. See: https://urllib3.readthedocs.io/en/latest/advanced-usage.html#ssl-warnings\n",
      "  InsecureRequestWarning,\n",
      "/home/dan/src/para/venv/lib/python3.6/site-packages/urllib3/connectionpool.py:1004: InsecureRequestWarning: Unverified HTTPS request is being made. Adding certificate verification is strongly advised. See: https://urllib3.readthedocs.io/en/latest/advanced-usage.html#ssl-warnings\n",
      "  InsecureRequestWarning,\n"
     ]
    },
    {
     "name": "stdout",
     "output_type": "stream",
     "text": [
      "https://nextdoor.com['https://nextdoor.com/', 'https://nextdoor.com/', 'https://nextdoor.nl/', 'https://nextdoor.co.uk/', 'https://nextdoor.de/', 'https://fr.nextdoor.com/', 'https://it.nextdoor.com/', 'https://es.nextdoor.com/', 'https://au.nextdoor.com/', 'https://dk.nextdoor.com/', 'https://se.nextdoor.com/', 'https://ca.nextdoor.com/', 'https://ca.nextdoor.com/', 'https://d19rpgkrjeba2z.cloudfront.net/b9b651cc0b575574/static/nextdoorv2/images/favicons/favicon-v2.ico']\n",
      "\n",
      "https://nextdoor.com\n",
      "['https://nextdoor.com/', 'https://nextdoor.com/', 'https://nextdoor.nl/', 'https://nextdoor.co.uk/', 'https://nextdoor.de/', 'https://fr.nextdoor.com/', 'https://it.nextdoor.com/', 'https://es.nextdoor.com/', 'https://au.nextdoor.com/', 'https://dk.nextdoor.com/', 'https://se.nextdoor.com/', 'https://ca.nextdoor.com/', 'https://ca.nextdoor.com/', 'https://d19rpgkrjeba2z.cloudfront.net/b9b651cc0b575574/static/nextdoorv2/images/favicons/favicon-v2.ico']\n",
      "https://nextdoor.com\n",
      "['https://nextdoor.com/', 'https://nextdoor.com/', 'https://nextdoor.nl/', 'https://nextdoor.co.uk/', 'https://nextdoor.de/', 'https://fr.nextdoor.com/', 'https://it.nextdoor.com/', 'https://es.nextdoor.com/', 'https://au.nextdoor.com/', 'https://dk.nextdoor.com/', 'https://se.nextdoor.com/', 'https://ca.nextdoor.com/', 'https://ca.nextdoor.com/', 'https://d19rpgkrjeba2z.cloudfront.net/b9b651cc0b575574/static/nextdoorv2/images/favicons/favicon-v2.ico']\n",
      "https://nextdoor.com['https://nextdoor.com/', 'https://nextdoor.com/', 'https://nextdoor.nl/', 'https://nextdoor.co.uk/', 'https://nextdoor.de/', 'https://fr.nextdoor.com/', 'https://it.nextdoor.com/', 'https://es.nextdoor.com/', 'https://au.nextdoor.com/', 'https://dk.nextdoor.com/', 'https://se.nextdoor.com/', 'https://ca.nextdoor.com/', 'https://ca.nextdoor.com/', 'https://d19rpgkrjeba2z.cloudfront.net/b9b651cc0b575574/static/nextdoorv2/images/favicons/favicon-v2.ico']\n",
      "\n",
      "https://nextdoor.com['https://nextdoor.com/', 'https://nextdoor.com/', 'https://nextdoor.nl/', 'https://nextdoor.co.uk/', 'https://nextdoor.de/', 'https://fr.nextdoor.com/', 'https://it.nextdoor.com/', 'https://es.nextdoor.com/', 'https://au.nextdoor.com/', 'https://dk.nextdoor.com/', 'https://se.nextdoor.com/', 'https://ca.nextdoor.com/', 'https://ca.nextdoor.com/', 'https://d19rpgkrjeba2z.cloudfront.net/b9b651cc0b575574/static/nextdoorv2/images/favicons/favicon-v2.ico']\n",
      "\n",
      "https://nextdoor.com['https://nextdoor.com/', 'https://nextdoor.com/', 'https://nextdoor.nl/', 'https://nextdoor.co.uk/', 'https://nextdoor.de/', 'https://fr.nextdoor.com/', 'https://it.nextdoor.com/', 'https://es.nextdoor.com/', 'https://au.nextdoor.com/', 'https://dk.nextdoor.com/', 'https://se.nextdoor.com/', 'https://ca.nextdoor.com/', 'https://ca.nextdoor.com/', 'https://d19rpgkrjeba2z.cloudfront.net/b9b651cc0b575574/static/nextdoorv2/images/favicons/favicon-v2.ico']\n",
      "\n",
      "https://nextdoor.com['https://nextdoor.com/', 'https://nextdoor.com/', 'https://nextdoor.nl/', 'https://nextdoor.co.uk/', 'https://nextdoor.de/', 'https://fr.nextdoor.com/', 'https://it.nextdoor.com/', 'https://es.nextdoor.com/', 'https://au.nextdoor.com/', 'https://dk.nextdoor.com/', 'https://se.nextdoor.com/', 'https://ca.nextdoor.com/', 'https://ca.nextdoor.com/', 'https://d19rpgkrjeba2z.cloudfront.net/b9b651cc0b575574/static/nextdoorv2/images/favicons/favicon-v2.ico']\n",
      "\n",
      "https://nextdoor.com\n",
      "['https://nextdoor.com/', 'https://nextdoor.com/', 'https://nextdoor.nl/', 'https://nextdoor.co.uk/', 'https://nextdoor.de/', 'https://fr.nextdoor.com/', 'https://it.nextdoor.com/', 'https://es.nextdoor.com/', 'https://au.nextdoor.com/', 'https://dk.nextdoor.com/', 'https://se.nextdoor.com/', 'https://ca.nextdoor.com/', 'https://ca.nextdoor.com/', 'https://d19rpgkrjeba2z.cloudfront.net/b9b651cc0b575574/static/nextdoorv2/images/favicons/favicon-v2.ico']\n",
      "https://nextdoor.com['https://nextdoor.com/', 'https://nextdoor.com/', 'https://nextdoor.nl/', 'https://nextdoor.co.uk/', 'https://nextdoor.de/', 'https://fr.nextdoor.com/', 'https://it.nextdoor.com/', 'https://es.nextdoor.com/', 'https://au.nextdoor.com/', 'https://dk.nextdoor.com/', 'https://se.nextdoor.com/', 'https://ca.nextdoor.com/', 'https://ca.nextdoor.com/', 'https://d19rpgkrjeba2z.cloudfront.net/b9b651cc0b575574/static/nextdoorv2/images/favicons/favicon-v2.ico']\n",
      "\n",
      "https://nextdoor.com['https://nextdoor.com/', 'https://nextdoor.com/', 'https://nextdoor.nl/', 'https://nextdoor.co.uk/', 'https://nextdoor.de/', 'https://fr.nextdoor.com/', 'https://it.nextdoor.com/', 'https://es.nextdoor.com/', 'https://au.nextdoor.com/', 'https://dk.nextdoor.com/', 'https://se.nextdoor.com/', 'https://ca.nextdoor.com/', 'https://ca.nextdoor.com/', 'https://d19rpgkrjeba2z.cloudfront.net/b9b651cc0b575574/static/nextdoorv2/images/favicons/favicon-v2.ico']\n",
      "\n"
     ]
    },
    {
     "name": "stderr",
     "output_type": "stream",
     "text": [
      "/home/dan/src/para/venv/lib/python3.6/site-packages/urllib3/connectionpool.py:1004: InsecureRequestWarning: Unverified HTTPS request is being made. Adding certificate verification is strongly advised. See: https://urllib3.readthedocs.io/en/latest/advanced-usage.html#ssl-warnings\n",
      "  InsecureRequestWarning,\n",
      "/home/dan/src/para/venv/lib/python3.6/site-packages/urllib3/connectionpool.py:1004: InsecureRequestWarning: Unverified HTTPS request is being made. Adding certificate verification is strongly advised. See: https://urllib3.readthedocs.io/en/latest/advanced-usage.html#ssl-warnings\n",
      "  InsecureRequestWarning,\n",
      "/home/dan/src/para/venv/lib/python3.6/site-packages/urllib3/connectionpool.py:1004: InsecureRequestWarning: Unverified HTTPS request is being made. Adding certificate verification is strongly advised. See: https://urllib3.readthedocs.io/en/latest/advanced-usage.html#ssl-warnings\n",
      "  InsecureRequestWarning,\n",
      "/home/dan/src/para/venv/lib/python3.6/site-packages/urllib3/connectionpool.py:1004: InsecureRequestWarning: Unverified HTTPS request is being made. Adding certificate verification is strongly advised. See: https://urllib3.readthedocs.io/en/latest/advanced-usage.html#ssl-warnings\n",
      "  InsecureRequestWarning,\n"
     ]
    },
    {
     "name": "stdout",
     "output_type": "stream",
     "text": [
      "https://nextdoor.com\n",
      "['https://nextdoor.com/', 'https://nextdoor.com/', 'https://nextdoor.nl/', 'https://nextdoor.co.uk/', 'https://nextdoor.de/', 'https://fr.nextdoor.com/', 'https://it.nextdoor.com/', 'https://es.nextdoor.com/', 'https://au.nextdoor.com/', 'https://dk.nextdoor.com/', 'https://se.nextdoor.com/', 'https://ca.nextdoor.com/', 'https://ca.nextdoor.com/', 'https://d19rpgkrjeba2z.cloudfront.net/b9b651cc0b575574/static/nextdoorv2/images/favicons/favicon-v2.ico']\n",
      "https://nextdoor.com['https://nextdoor.com/', 'https://nextdoor.com/', 'https://nextdoor.nl/', 'https://nextdoor.co.uk/', 'https://nextdoor.de/', 'https://fr.nextdoor.com/', 'https://it.nextdoor.com/', 'https://es.nextdoor.com/', 'https://au.nextdoor.com/', 'https://dk.nextdoor.com/', 'https://se.nextdoor.com/', 'https://ca.nextdoor.com/', 'https://ca.nextdoor.com/', 'https://d19rpgkrjeba2z.cloudfront.net/b9b651cc0b575574/static/nextdoorv2/images/favicons/favicon-v2.ico']\n",
      "\n",
      "https://nextdoor.com\n",
      "['https://nextdoor.com/', 'https://nextdoor.com/', 'https://nextdoor.nl/', 'https://nextdoor.co.uk/', 'https://nextdoor.de/', 'https://fr.nextdoor.com/', 'https://it.nextdoor.com/', 'https://es.nextdoor.com/', 'https://au.nextdoor.com/', 'https://dk.nextdoor.com/', 'https://se.nextdoor.com/', 'https://ca.nextdoor.com/', 'https://ca.nextdoor.com/', 'https://d19rpgkrjeba2z.cloudfront.net/b9b651cc0b575574/static/nextdoorv2/images/favicons/favicon-v2.ico']\n",
      "https://nextdoor.com['https://nextdoor.com/', 'https://nextdoor.com/', 'https://nextdoor.nl/', 'https://nextdoor.co.uk/', 'https://nextdoor.de/', 'https://fr.nextdoor.com/', 'https://it.nextdoor.com/', 'https://es.nextdoor.com/', 'https://au.nextdoor.com/', 'https://dk.nextdoor.com/', 'https://se.nextdoor.com/', 'https://ca.nextdoor.com/', 'https://ca.nextdoor.com/', 'https://d19rpgkrjeba2z.cloudfront.net/b9b651cc0b575574/static/nextdoorv2/images/favicons/favicon-v2.ico']\n",
      "\n"
     ]
    },
    {
     "name": "stderr",
     "output_type": "stream",
     "text": [
      "/home/dan/src/para/venv/lib/python3.6/site-packages/urllib3/connectionpool.py:1004: InsecureRequestWarning: Unverified HTTPS request is being made. Adding certificate verification is strongly advised. See: https://urllib3.readthedocs.io/en/latest/advanced-usage.html#ssl-warnings\n",
      "  InsecureRequestWarning,\n",
      "/home/dan/src/para/venv/lib/python3.6/site-packages/urllib3/connectionpool.py:1004: InsecureRequestWarning: Unverified HTTPS request is being made. Adding certificate verification is strongly advised. See: https://urllib3.readthedocs.io/en/latest/advanced-usage.html#ssl-warnings\n",
      "  InsecureRequestWarning,\n",
      "/home/dan/src/para/venv/lib/python3.6/site-packages/urllib3/connectionpool.py:1004: InsecureRequestWarning: Unverified HTTPS request is being made. Adding certificate verification is strongly advised. See: https://urllib3.readthedocs.io/en/latest/advanced-usage.html#ssl-warnings\n",
      "  InsecureRequestWarning,\n",
      "/home/dan/src/para/venv/lib/python3.6/site-packages/urllib3/connectionpool.py:1004: InsecureRequestWarning: Unverified HTTPS request is being made. Adding certificate verification is strongly advised. See: https://urllib3.readthedocs.io/en/latest/advanced-usage.html#ssl-warnings\n",
      "  InsecureRequestWarning,\n",
      "/home/dan/src/para/venv/lib/python3.6/site-packages/urllib3/connectionpool.py:1004: InsecureRequestWarning: Unverified HTTPS request is being made. Adding certificate verification is strongly advised. See: https://urllib3.readthedocs.io/en/latest/advanced-usage.html#ssl-warnings\n",
      "  InsecureRequestWarning,\n",
      "/home/dan/src/para/venv/lib/python3.6/site-packages/urllib3/connectionpool.py:1004: InsecureRequestWarning: Unverified HTTPS request is being made. Adding certificate verification is strongly advised. See: https://urllib3.readthedocs.io/en/latest/advanced-usage.html#ssl-warnings\n",
      "  InsecureRequestWarning,\n",
      "/home/dan/src/para/venv/lib/python3.6/site-packages/urllib3/connectionpool.py:1004: InsecureRequestWarning: Unverified HTTPS request is being made. Adding certificate verification is strongly advised. See: https://urllib3.readthedocs.io/en/latest/advanced-usage.html#ssl-warnings\n",
      "  InsecureRequestWarning,\n",
      "/home/dan/src/para/venv/lib/python3.6/site-packages/urllib3/connectionpool.py:1004: InsecureRequestWarning: Unverified HTTPS request is being made. Adding certificate verification is strongly advised. See: https://urllib3.readthedocs.io/en/latest/advanced-usage.html#ssl-warnings\n",
      "  InsecureRequestWarning,\n",
      "/home/dan/src/para/venv/lib/python3.6/site-packages/urllib3/connectionpool.py:1004: InsecureRequestWarning: Unverified HTTPS request is being made. Adding certificate verification is strongly advised. See: https://urllib3.readthedocs.io/en/latest/advanced-usage.html#ssl-warnings\n",
      "  InsecureRequestWarning,\n"
     ]
    },
    {
     "name": "stdout",
     "output_type": "stream",
     "text": [
      "https://nextdoor.com['https://nextdoor.com/', 'https://nextdoor.com/', 'https://nextdoor.nl/', 'https://nextdoor.co.uk/', 'https://nextdoor.de/', 'https://fr.nextdoor.com/', 'https://it.nextdoor.com/', 'https://es.nextdoor.com/', 'https://au.nextdoor.com/', 'https://dk.nextdoor.com/', 'https://se.nextdoor.com/', 'https://ca.nextdoor.com/', 'https://ca.nextdoor.com/', 'https://d19rpgkrjeba2z.cloudfront.net/b9b651cc0b575574/static/nextdoorv2/images/favicons/favicon-v2.ico']\n",
      "\n",
      "https://nextdoor.com['https://nextdoor.com/', 'https://nextdoor.com/', 'https://nextdoor.nl/', 'https://nextdoor.co.uk/', 'https://nextdoor.de/', 'https://fr.nextdoor.com/', 'https://it.nextdoor.com/', 'https://es.nextdoor.com/', 'https://au.nextdoor.com/', 'https://dk.nextdoor.com/', 'https://se.nextdoor.com/', 'https://ca.nextdoor.com/', 'https://ca.nextdoor.com/', 'https://d19rpgkrjeba2z.cloudfront.net/b9b651cc0b575574/static/nextdoorv2/images/favicons/favicon-v2.ico']\n",
      "\n",
      "https://nextdoor.com\n",
      "['https://nextdoor.com/', 'https://nextdoor.com/', 'https://nextdoor.nl/', 'https://nextdoor.co.uk/', 'https://nextdoor.de/', 'https://fr.nextdoor.com/', 'https://it.nextdoor.com/', 'https://es.nextdoor.com/', 'https://au.nextdoor.com/', 'https://dk.nextdoor.com/', 'https://se.nextdoor.com/', 'https://ca.nextdoor.com/', 'https://ca.nextdoor.com/', 'https://d19rpgkrjeba2z.cloudfront.net/b9b651cc0b575574/static/nextdoorv2/images/favicons/favicon-v2.ico']\n",
      "https://nextdoor.com['https://nextdoor.com/', 'https://nextdoor.com/', 'https://nextdoor.nl/', 'https://nextdoor.co.uk/', 'https://nextdoor.de/', 'https://fr.nextdoor.com/', 'https://it.nextdoor.com/', 'https://es.nextdoor.com/', 'https://au.nextdoor.com/', 'https://dk.nextdoor.com/', 'https://se.nextdoor.com/', 'https://ca.nextdoor.com/', 'https://ca.nextdoor.com/', 'https://d19rpgkrjeba2z.cloudfront.net/b9b651cc0b575574/static/nextdoorv2/images/favicons/favicon-v2.ico']\n",
      "\n",
      "https://nextdoor.com['https://nextdoor.com/', 'https://nextdoor.com/', 'https://nextdoor.nl/', 'https://nextdoor.co.uk/', 'https://nextdoor.de/', 'https://fr.nextdoor.com/', 'https://it.nextdoor.com/', 'https://es.nextdoor.com/', 'https://au.nextdoor.com/', 'https://dk.nextdoor.com/', 'https://se.nextdoor.com/', 'https://ca.nextdoor.com/', 'https://ca.nextdoor.com/', 'https://d19rpgkrjeba2z.cloudfront.net/b9b651cc0b575574/static/nextdoorv2/images/favicons/favicon-v2.ico']\n",
      "\n"
     ]
    },
    {
     "name": "stderr",
     "output_type": "stream",
     "text": [
      "/home/dan/src/para/venv/lib/python3.6/site-packages/urllib3/connectionpool.py:1004: InsecureRequestWarning: Unverified HTTPS request is being made. Adding certificate verification is strongly advised. See: https://urllib3.readthedocs.io/en/latest/advanced-usage.html#ssl-warnings\n",
      "  InsecureRequestWarning,\n",
      "/home/dan/src/para/venv/lib/python3.6/site-packages/urllib3/connectionpool.py:1004: InsecureRequestWarning: Unverified HTTPS request is being made. Adding certificate verification is strongly advised. See: https://urllib3.readthedocs.io/en/latest/advanced-usage.html#ssl-warnings\n",
      "  InsecureRequestWarning,\n",
      "/home/dan/src/para/venv/lib/python3.6/site-packages/urllib3/connectionpool.py:1004: InsecureRequestWarning: Unverified HTTPS request is being made. Adding certificate verification is strongly advised. See: https://urllib3.readthedocs.io/en/latest/advanced-usage.html#ssl-warnings\n",
      "  InsecureRequestWarning,\n",
      "/home/dan/src/para/venv/lib/python3.6/site-packages/urllib3/connectionpool.py:1004: InsecureRequestWarning: Unverified HTTPS request is being made. Adding certificate verification is strongly advised. See: https://urllib3.readthedocs.io/en/latest/advanced-usage.html#ssl-warnings\n",
      "  InsecureRequestWarning,\n",
      "/home/dan/src/para/venv/lib/python3.6/site-packages/urllib3/connectionpool.py:1004: InsecureRequestWarning: Unverified HTTPS request is being made. Adding certificate verification is strongly advised. See: https://urllib3.readthedocs.io/en/latest/advanced-usage.html#ssl-warnings\n",
      "  InsecureRequestWarning,\n",
      "/home/dan/src/para/venv/lib/python3.6/site-packages/urllib3/connectionpool.py:1004: InsecureRequestWarning: Unverified HTTPS request is being made. Adding certificate verification is strongly advised. See: https://urllib3.readthedocs.io/en/latest/advanced-usage.html#ssl-warnings\n",
      "  InsecureRequestWarning,\n"
     ]
    },
    {
     "name": "stdout",
     "output_type": "stream",
     "text": [
      "https://nextdoor.com\n",
      "['https://nextdoor.com/', 'https://nextdoor.com/', 'https://nextdoor.nl/', 'https://nextdoor.co.uk/', 'https://nextdoor.de/', 'https://fr.nextdoor.com/', 'https://it.nextdoor.com/', 'https://es.nextdoor.com/', 'https://au.nextdoor.com/', 'https://dk.nextdoor.com/', 'https://se.nextdoor.com/', 'https://ca.nextdoor.com/', 'https://ca.nextdoor.com/', 'https://d19rpgkrjeba2z.cloudfront.net/b9b651cc0b575574/static/nextdoorv2/images/favicons/favicon-v2.ico']\n",
      "https://nextdoor.com['https://nextdoor.com/', 'https://nextdoor.com/', 'https://nextdoor.nl/', 'https://nextdoor.co.uk/', 'https://nextdoor.de/', 'https://fr.nextdoor.com/', 'https://it.nextdoor.com/', 'https://es.nextdoor.com/', 'https://au.nextdoor.com/', 'https://dk.nextdoor.com/', 'https://se.nextdoor.com/', 'https://ca.nextdoor.com/', 'https://ca.nextdoor.com/', 'https://d19rpgkrjeba2z.cloudfront.net/b9b651cc0b575574/static/nextdoorv2/images/favicons/favicon-v2.ico']\n",
      "\n",
      "https://nextdoor.com['https://nextdoor.com/', 'https://nextdoor.com/', 'https://nextdoor.nl/', 'https://nextdoor.co.uk/', 'https://nextdoor.de/', 'https://fr.nextdoor.com/', 'https://it.nextdoor.com/', 'https://es.nextdoor.com/', 'https://au.nextdoor.com/', 'https://dk.nextdoor.com/', 'https://se.nextdoor.com/', 'https://ca.nextdoor.com/', 'https://ca.nextdoor.com/', 'https://d19rpgkrjeba2z.cloudfront.net/b9b651cc0b575574/static/nextdoorv2/images/favicons/favicon-v2.ico']\n",
      "\n",
      "https://nextdoor.com['https://nextdoor.com/', 'https://nextdoor.com/', 'https://nextdoor.nl/', 'https://nextdoor.co.uk/', 'https://nextdoor.de/', 'https://fr.nextdoor.com/', 'https://it.nextdoor.com/', 'https://es.nextdoor.com/', 'https://au.nextdoor.com/', 'https://dk.nextdoor.com/', 'https://se.nextdoor.com/', 'https://ca.nextdoor.com/', 'https://ca.nextdoor.com/', 'https://d19rpgkrjeba2z.cloudfront.net/b9b651cc0b575574/static/nextdoorv2/images/favicons/favicon-v2.ico']\n",
      "\n",
      "https://nextdoor.com\n",
      "['https://nextdoor.com/', 'https://nextdoor.com/', 'https://nextdoor.nl/', 'https://nextdoor.co.uk/', 'https://nextdoor.de/', 'https://fr.nextdoor.com/', 'https://it.nextdoor.com/', 'https://es.nextdoor.com/', 'https://au.nextdoor.com/', 'https://dk.nextdoor.com/', 'https://se.nextdoor.com/', 'https://ca.nextdoor.com/', 'https://ca.nextdoor.com/', 'https://d19rpgkrjeba2z.cloudfront.net/b9b651cc0b575574/static/nextdoorv2/images/favicons/favicon-v2.ico']\n",
      "https://nextdoor.com['https://nextdoor.com/', 'https://nextdoor.com/', 'https://nextdoor.nl/', 'https://nextdoor.co.uk/', 'https://nextdoor.de/', 'https://fr.nextdoor.com/', 'https://it.nextdoor.com/', 'https://es.nextdoor.com/', 'https://au.nextdoor.com/', 'https://dk.nextdoor.com/', 'https://se.nextdoor.com/', 'https://ca.nextdoor.com/', 'https://ca.nextdoor.com/', 'https://d19rpgkrjeba2z.cloudfront.net/b9b651cc0b575574/static/nextdoorv2/images/favicons/favicon-v2.ico']\n",
      "\n",
      "https://nextdoor.com['https://nextdoor.com/', 'https://nextdoor.com/', 'https://nextdoor.nl/', 'https://nextdoor.co.uk/', 'https://nextdoor.de/', 'https://fr.nextdoor.com/', 'https://it.nextdoor.com/', 'https://es.nextdoor.com/', 'https://au.nextdoor.com/', 'https://dk.nextdoor.com/', 'https://se.nextdoor.com/', 'https://ca.nextdoor.com/', 'https://ca.nextdoor.com/', 'https://d19rpgkrjeba2z.cloudfront.net/b9b651cc0b575574/static/nextdoorv2/images/favicons/favicon-v2.ico']\n",
      "\n"
     ]
    },
    {
     "name": "stderr",
     "output_type": "stream",
     "text": [
      "/home/dan/src/para/venv/lib/python3.6/site-packages/urllib3/connectionpool.py:1004: InsecureRequestWarning: Unverified HTTPS request is being made. Adding certificate verification is strongly advised. See: https://urllib3.readthedocs.io/en/latest/advanced-usage.html#ssl-warnings\n",
      "  InsecureRequestWarning,\n",
      "/home/dan/src/para/venv/lib/python3.6/site-packages/urllib3/connectionpool.py:1004: InsecureRequestWarning: Unverified HTTPS request is being made. Adding certificate verification is strongly advised. See: https://urllib3.readthedocs.io/en/latest/advanced-usage.html#ssl-warnings\n",
      "  InsecureRequestWarning,\n",
      "/home/dan/src/para/venv/lib/python3.6/site-packages/urllib3/connectionpool.py:1004: InsecureRequestWarning: Unverified HTTPS request is being made. Adding certificate verification is strongly advised. See: https://urllib3.readthedocs.io/en/latest/advanced-usage.html#ssl-warnings\n",
      "  InsecureRequestWarning,\n",
      "/home/dan/src/para/venv/lib/python3.6/site-packages/urllib3/connectionpool.py:1004: InsecureRequestWarning: Unverified HTTPS request is being made. Adding certificate verification is strongly advised. See: https://urllib3.readthedocs.io/en/latest/advanced-usage.html#ssl-warnings\n",
      "  InsecureRequestWarning,\n",
      "/home/dan/src/para/venv/lib/python3.6/site-packages/urllib3/connectionpool.py:1004: InsecureRequestWarning: Unverified HTTPS request is being made. Adding certificate verification is strongly advised. See: https://urllib3.readthedocs.io/en/latest/advanced-usage.html#ssl-warnings\n",
      "  InsecureRequestWarning,\n",
      "/home/dan/src/para/venv/lib/python3.6/site-packages/urllib3/connectionpool.py:1004: InsecureRequestWarning: Unverified HTTPS request is being made. Adding certificate verification is strongly advised. See: https://urllib3.readthedocs.io/en/latest/advanced-usage.html#ssl-warnings\n",
      "  InsecureRequestWarning,\n"
     ]
    },
    {
     "name": "stdout",
     "output_type": "stream",
     "text": [
      "https://nextdoor.com['https://nextdoor.com/', 'https://nextdoor.com/', 'https://nextdoor.nl/', 'https://nextdoor.co.uk/', 'https://nextdoor.de/', 'https://fr.nextdoor.com/', 'https://it.nextdoor.com/', 'https://es.nextdoor.com/', 'https://au.nextdoor.com/', 'https://dk.nextdoor.com/', 'https://se.nextdoor.com/', 'https://ca.nextdoor.com/', 'https://ca.nextdoor.com/', 'https://d19rpgkrjeba2z.cloudfront.net/b9b651cc0b575574/static/nextdoorv2/images/favicons/favicon-v2.ico']\n",
      "\n",
      "https://nextdoor.com['https://nextdoor.com/', 'https://nextdoor.com/', 'https://nextdoor.nl/', 'https://nextdoor.co.uk/', 'https://nextdoor.de/', 'https://fr.nextdoor.com/', 'https://it.nextdoor.com/', 'https://es.nextdoor.com/', 'https://au.nextdoor.com/', 'https://dk.nextdoor.com/', 'https://se.nextdoor.com/', 'https://ca.nextdoor.com/', 'https://ca.nextdoor.com/', 'https://d19rpgkrjeba2z.cloudfront.net/b9b651cc0b575574/static/nextdoorv2/images/favicons/favicon-v2.ico']\n",
      "\n",
      "https://nextdoor.comhttps://nextdoor.com['https://nextdoor.com/', 'https://nextdoor.com/', 'https://nextdoor.nl/', 'https://nextdoor.co.uk/', 'https://nextdoor.de/', 'https://fr.nextdoor.com/', 'https://it.nextdoor.com/', 'https://es.nextdoor.com/', 'https://au.nextdoor.com/', 'https://dk.nextdoor.com/', 'https://se.nextdoor.com/', 'https://ca.nextdoor.com/', 'https://ca.nextdoor.com/', 'https://d19rpgkrjeba2z.cloudfront.net/b9b651cc0b575574/static/nextdoorv2/images/favicons/favicon-v2.ico']\n",
      "\n",
      "['https://nextdoor.com/', 'https://nextdoor.com/', 'https://nextdoor.nl/', 'https://nextdoor.co.uk/', 'https://nextdoor.de/', 'https://fr.nextdoor.com/', 'https://it.nextdoor.com/', 'https://es.nextdoor.com/', 'https://au.nextdoor.com/', 'https://dk.nextdoor.com/', 'https://se.nextdoor.com/', 'https://ca.nextdoor.com/', 'https://ca.nextdoor.com/', 'https://d19rpgkrjeba2z.cloudfront.net/b9b651cc0b575574/static/nextdoorv2/images/favicons/favicon-v2.ico']\n",
      "\n",
      "https://nextdoor.com\n",
      "['https://nextdoor.com/', 'https://nextdoor.com/', 'https://nextdoor.nl/', 'https://nextdoor.co.uk/', 'https://nextdoor.de/', 'https://fr.nextdoor.com/', 'https://it.nextdoor.com/', 'https://es.nextdoor.com/', 'https://au.nextdoor.com/', 'https://dk.nextdoor.com/', 'https://se.nextdoor.com/', 'https://ca.nextdoor.com/', 'https://ca.nextdoor.com/', 'https://d19rpgkrjeba2z.cloudfront.net/b9b651cc0b575574/static/nextdoorv2/images/favicons/favicon-v2.ico']\n",
      "https://nextdoor.com['https://nextdoor.com/', 'https://nextdoor.com/', 'https://nextdoor.nl/', 'https://nextdoor.co.uk/', 'https://nextdoor.de/', 'https://fr.nextdoor.com/', 'https://it.nextdoor.com/', 'https://es.nextdoor.com/', 'https://au.nextdoor.com/', 'https://dk.nextdoor.com/', 'https://se.nextdoor.com/', 'https://ca.nextdoor.com/', 'https://ca.nextdoor.com/', 'https://d19rpgkrjeba2z.cloudfront.net/b9b651cc0b575574/static/nextdoorv2/images/favicons/favicon-v2.ico']\n",
      "\n",
      "https://nextdoor.com\n",
      "['https://nextdoor.com/', 'https://nextdoor.com/', 'https://nextdoor.nl/', 'https://nextdoor.co.uk/', 'https://nextdoor.de/', 'https://fr.nextdoor.com/', 'https://it.nextdoor.com/', 'https://es.nextdoor.com/', 'https://au.nextdoor.com/', 'https://dk.nextdoor.com/', 'https://se.nextdoor.com/', 'https://ca.nextdoor.com/', 'https://ca.nextdoor.com/', 'https://d19rpgkrjeba2z.cloudfront.net/b9b651cc0b575574/static/nextdoorv2/images/favicons/favicon-v2.ico']\n"
     ]
    },
    {
     "name": "stderr",
     "output_type": "stream",
     "text": [
      "/home/dan/src/para/venv/lib/python3.6/site-packages/urllib3/connectionpool.py:1004: InsecureRequestWarning: Unverified HTTPS request is being made. Adding certificate verification is strongly advised. See: https://urllib3.readthedocs.io/en/latest/advanced-usage.html#ssl-warnings\n",
      "  InsecureRequestWarning,\n",
      "/home/dan/src/para/venv/lib/python3.6/site-packages/urllib3/connectionpool.py:1004: InsecureRequestWarning: Unverified HTTPS request is being made. Adding certificate verification is strongly advised. See: https://urllib3.readthedocs.io/en/latest/advanced-usage.html#ssl-warnings\n",
      "  InsecureRequestWarning,\n",
      "/home/dan/src/para/venv/lib/python3.6/site-packages/urllib3/connectionpool.py:1004: InsecureRequestWarning: Unverified HTTPS request is being made. Adding certificate verification is strongly advised. See: https://urllib3.readthedocs.io/en/latest/advanced-usage.html#ssl-warnings\n",
      "  InsecureRequestWarning,\n",
      "/home/dan/src/para/venv/lib/python3.6/site-packages/urllib3/connectionpool.py:1004: InsecureRequestWarning: Unverified HTTPS request is being made. Adding certificate verification is strongly advised. See: https://urllib3.readthedocs.io/en/latest/advanced-usage.html#ssl-warnings\n",
      "  InsecureRequestWarning,\n",
      "/home/dan/src/para/venv/lib/python3.6/site-packages/urllib3/connectionpool.py:1004: InsecureRequestWarning: Unverified HTTPS request is being made. Adding certificate verification is strongly advised. See: https://urllib3.readthedocs.io/en/latest/advanced-usage.html#ssl-warnings\n",
      "  InsecureRequestWarning,\n"
     ]
    },
    {
     "name": "stdout",
     "output_type": "stream",
     "text": [
      "https://nextdoor.comhttps://nextdoor.com['https://nextdoor.com/', 'https://nextdoor.com/', 'https://nextdoor.nl/', 'https://nextdoor.co.uk/', 'https://nextdoor.de/', 'https://fr.nextdoor.com/', 'https://it.nextdoor.com/', 'https://es.nextdoor.com/', 'https://au.nextdoor.com/', 'https://dk.nextdoor.com/', 'https://se.nextdoor.com/', 'https://ca.nextdoor.com/', 'https://ca.nextdoor.com/', 'https://d19rpgkrjeba2z.cloudfront.net/b9b651cc0b575574/static/nextdoorv2/images/favicons/favicon-v2.ico']\n",
      "['https://nextdoor.com/', 'https://nextdoor.com/', 'https://nextdoor.nl/', 'https://nextdoor.co.uk/', 'https://nextdoor.de/', 'https://fr.nextdoor.com/', 'https://it.nextdoor.com/', 'https://es.nextdoor.com/', 'https://au.nextdoor.com/', 'https://dk.nextdoor.com/', 'https://se.nextdoor.com/', 'https://ca.nextdoor.com/', 'https://ca.nextdoor.com/', 'https://d19rpgkrjeba2z.cloudfront.net/b9b651cc0b575574/static/nextdoorv2/images/favicons/favicon-v2.ico']\n",
      "\n",
      "\n",
      "https://nextdoor.com['https://nextdoor.com/', 'https://nextdoor.com/', 'https://nextdoor.nl/', 'https://nextdoor.co.uk/', 'https://nextdoor.de/', 'https://fr.nextdoor.com/', 'https://it.nextdoor.com/', 'https://es.nextdoor.com/', 'https://au.nextdoor.com/', 'https://dk.nextdoor.com/', 'https://se.nextdoor.com/', 'https://ca.nextdoor.com/', 'https://ca.nextdoor.com/', 'https://d19rpgkrjeba2z.cloudfront.net/b9b651cc0b575574/static/nextdoorv2/images/favicons/favicon-v2.ico']\n",
      "https://nextdoor.com\n",
      "['https://nextdoor.com/', 'https://nextdoor.com/', 'https://nextdoor.nl/', 'https://nextdoor.co.uk/', 'https://nextdoor.de/', 'https://fr.nextdoor.com/', 'https://it.nextdoor.com/', 'https://es.nextdoor.com/', 'https://au.nextdoor.com/', 'https://dk.nextdoor.com/', 'https://se.nextdoor.com/', 'https://ca.nextdoor.com/', 'https://ca.nextdoor.com/', 'https://d19rpgkrjeba2z.cloudfront.net/b9b651cc0b575574/static/nextdoorv2/images/favicons/favicon-v2.ico']\n",
      "https://nextdoor.com\n",
      "['https://nextdoor.com/', 'https://nextdoor.com/', 'https://nextdoor.nl/', 'https://nextdoor.co.uk/', 'https://nextdoor.de/', 'https://fr.nextdoor.com/', 'https://it.nextdoor.com/', 'https://es.nextdoor.com/', 'https://au.nextdoor.com/', 'https://dk.nextdoor.com/', 'https://se.nextdoor.com/', 'https://ca.nextdoor.com/', 'https://ca.nextdoor.com/', 'https://d19rpgkrjeba2z.cloudfront.net/b9b651cc0b575574/static/nextdoorv2/images/favicons/favicon-v2.ico']\n",
      "\n",
      "https://nextdoor.com\n",
      "['https://nextdoor.com/', 'https://nextdoor.com/', 'https://nextdoor.nl/', 'https://nextdoor.co.uk/', 'https://nextdoor.de/', 'https://fr.nextdoor.com/', 'https://it.nextdoor.com/', 'https://es.nextdoor.com/', 'https://au.nextdoor.com/', 'https://dk.nextdoor.com/', 'https://se.nextdoor.com/', 'https://ca.nextdoor.com/', 'https://ca.nextdoor.com/', 'https://d19rpgkrjeba2z.cloudfront.net/b9b651cc0b575574/static/nextdoorv2/images/favicons/favicon-v2.ico']\n"
     ]
    },
    {
     "name": "stderr",
     "output_type": "stream",
     "text": [
      "/home/dan/src/para/venv/lib/python3.6/site-packages/urllib3/connectionpool.py:1004: InsecureRequestWarning: Unverified HTTPS request is being made. Adding certificate verification is strongly advised. See: https://urllib3.readthedocs.io/en/latest/advanced-usage.html#ssl-warnings\n",
      "  InsecureRequestWarning,\n",
      "/home/dan/src/para/venv/lib/python3.6/site-packages/urllib3/connectionpool.py:1004: InsecureRequestWarning: Unverified HTTPS request is being made. Adding certificate verification is strongly advised. See: https://urllib3.readthedocs.io/en/latest/advanced-usage.html#ssl-warnings\n",
      "  InsecureRequestWarning,\n",
      "/home/dan/src/para/venv/lib/python3.6/site-packages/urllib3/connectionpool.py:1004: InsecureRequestWarning: Unverified HTTPS request is being made. Adding certificate verification is strongly advised. See: https://urllib3.readthedocs.io/en/latest/advanced-usage.html#ssl-warnings\n",
      "  InsecureRequestWarning,\n",
      "/home/dan/src/para/venv/lib/python3.6/site-packages/urllib3/connectionpool.py:1004: InsecureRequestWarning: Unverified HTTPS request is being made. Adding certificate verification is strongly advised. See: https://urllib3.readthedocs.io/en/latest/advanced-usage.html#ssl-warnings\n",
      "  InsecureRequestWarning,\n",
      "/home/dan/src/para/venv/lib/python3.6/site-packages/urllib3/connectionpool.py:1004: InsecureRequestWarning: Unverified HTTPS request is being made. Adding certificate verification is strongly advised. See: https://urllib3.readthedocs.io/en/latest/advanced-usage.html#ssl-warnings\n",
      "  InsecureRequestWarning,\n",
      "/home/dan/src/para/venv/lib/python3.6/site-packages/urllib3/connectionpool.py:1004: InsecureRequestWarning: Unverified HTTPS request is being made. Adding certificate verification is strongly advised. See: https://urllib3.readthedocs.io/en/latest/advanced-usage.html#ssl-warnings\n",
      "  InsecureRequestWarning,\n",
      "/home/dan/src/para/venv/lib/python3.6/site-packages/urllib3/connectionpool.py:1004: InsecureRequestWarning: Unverified HTTPS request is being made. Adding certificate verification is strongly advised. See: https://urllib3.readthedocs.io/en/latest/advanced-usage.html#ssl-warnings\n",
      "  InsecureRequestWarning,\n"
     ]
    },
    {
     "name": "stdout",
     "output_type": "stream",
     "text": [
      "https://nextdoor.com\n",
      "['https://nextdoor.com/', 'https://nextdoor.com/', 'https://nextdoor.nl/', 'https://nextdoor.co.uk/', 'https://nextdoor.de/', 'https://fr.nextdoor.com/', 'https://it.nextdoor.com/', 'https://es.nextdoor.com/', 'https://au.nextdoor.com/', 'https://dk.nextdoor.com/', 'https://se.nextdoor.com/', 'https://ca.nextdoor.com/', 'https://ca.nextdoor.com/', 'https://d19rpgkrjeba2z.cloudfront.net/b9b651cc0b575574/static/nextdoorv2/images/favicons/favicon-v2.ico']\n",
      "https://nextdoor.com\n",
      "['https://nextdoor.com/', 'https://nextdoor.com/', 'https://nextdoor.nl/', 'https://nextdoor.co.uk/', 'https://nextdoor.de/', 'https://fr.nextdoor.com/', 'https://it.nextdoor.com/', 'https://es.nextdoor.com/', 'https://au.nextdoor.com/', 'https://dk.nextdoor.com/', 'https://se.nextdoor.com/', 'https://ca.nextdoor.com/', 'https://ca.nextdoor.com/', 'https://d19rpgkrjeba2z.cloudfront.net/b9b651cc0b575574/static/nextdoorv2/images/favicons/favicon-v2.ico']\n",
      "https://nextdoor.com['https://nextdoor.com/', 'https://nextdoor.com/', 'https://nextdoor.nl/', 'https://nextdoor.co.uk/', 'https://nextdoor.de/', 'https://fr.nextdoor.com/', 'https://it.nextdoor.com/', 'https://es.nextdoor.com/', 'https://au.nextdoor.com/', 'https://dk.nextdoor.com/', 'https://se.nextdoor.com/', 'https://ca.nextdoor.com/', 'https://ca.nextdoor.com/', 'https://d19rpgkrjeba2z.cloudfront.net/b9b651cc0b575574/static/nextdoorv2/images/favicons/favicon-v2.ico']\n",
      "\n",
      "https://nextdoor.com\n",
      "['https://nextdoor.com/', 'https://nextdoor.com/', 'https://nextdoor.nl/', 'https://nextdoor.co.uk/', 'https://nextdoor.de/', 'https://fr.nextdoor.com/', 'https://it.nextdoor.com/', 'https://es.nextdoor.com/', 'https://au.nextdoor.com/', 'https://dk.nextdoor.com/', 'https://se.nextdoor.com/', 'https://ca.nextdoor.com/', 'https://ca.nextdoor.com/', 'https://d19rpgkrjeba2z.cloudfront.net/b9b651cc0b575574/static/nextdoorv2/images/favicons/favicon-v2.ico']\n",
      "https://nextdoor.com['https://nextdoor.com/', 'https://nextdoor.com/', 'https://nextdoor.nl/', 'https://nextdoor.co.uk/', 'https://nextdoor.de/', 'https://fr.nextdoor.com/', 'https://it.nextdoor.com/', 'https://es.nextdoor.com/', 'https://au.nextdoor.com/', 'https://dk.nextdoor.com/', 'https://se.nextdoor.com/', 'https://ca.nextdoor.com/', 'https://ca.nextdoor.com/', 'https://d19rpgkrjeba2z.cloudfront.net/b9b651cc0b575574/static/nextdoorv2/images/favicons/favicon-v2.ico']\n",
      "\n"
     ]
    },
    {
     "name": "stderr",
     "output_type": "stream",
     "text": [
      "/home/dan/src/para/venv/lib/python3.6/site-packages/urllib3/connectionpool.py:1004: InsecureRequestWarning: Unverified HTTPS request is being made. Adding certificate verification is strongly advised. See: https://urllib3.readthedocs.io/en/latest/advanced-usage.html#ssl-warnings\n",
      "  InsecureRequestWarning,\n",
      "/home/dan/src/para/venv/lib/python3.6/site-packages/urllib3/connectionpool.py:1004: InsecureRequestWarning: Unverified HTTPS request is being made. Adding certificate verification is strongly advised. See: https://urllib3.readthedocs.io/en/latest/advanced-usage.html#ssl-warnings\n",
      "  InsecureRequestWarning,\n",
      "/home/dan/src/para/venv/lib/python3.6/site-packages/urllib3/connectionpool.py:1004: InsecureRequestWarning: Unverified HTTPS request is being made. Adding certificate verification is strongly advised. See: https://urllib3.readthedocs.io/en/latest/advanced-usage.html#ssl-warnings\n",
      "  InsecureRequestWarning,\n",
      "/home/dan/src/para/venv/lib/python3.6/site-packages/urllib3/connectionpool.py:1004: InsecureRequestWarning: Unverified HTTPS request is being made. Adding certificate verification is strongly advised. See: https://urllib3.readthedocs.io/en/latest/advanced-usage.html#ssl-warnings\n",
      "  InsecureRequestWarning,\n",
      "/home/dan/src/para/venv/lib/python3.6/site-packages/urllib3/connectionpool.py:1004: InsecureRequestWarning: Unverified HTTPS request is being made. Adding certificate verification is strongly advised. See: https://urllib3.readthedocs.io/en/latest/advanced-usage.html#ssl-warnings\n",
      "  InsecureRequestWarning,\n",
      "/home/dan/src/para/venv/lib/python3.6/site-packages/urllib3/connectionpool.py:1004: InsecureRequestWarning: Unverified HTTPS request is being made. Adding certificate verification is strongly advised. See: https://urllib3.readthedocs.io/en/latest/advanced-usage.html#ssl-warnings\n",
      "  InsecureRequestWarning,\n",
      "/home/dan/src/para/venv/lib/python3.6/site-packages/urllib3/connectionpool.py:1004: InsecureRequestWarning: Unverified HTTPS request is being made. Adding certificate verification is strongly advised. See: https://urllib3.readthedocs.io/en/latest/advanced-usage.html#ssl-warnings\n",
      "  InsecureRequestWarning,\n"
     ]
    },
    {
     "name": "stdout",
     "output_type": "stream",
     "text": [
      "https://nextdoor.com['https://nextdoor.com/', 'https://nextdoor.com/', 'https://nextdoor.nl/', 'https://nextdoor.co.uk/', 'https://nextdoor.de/', 'https://fr.nextdoor.com/', 'https://it.nextdoor.com/', 'https://es.nextdoor.com/', 'https://au.nextdoor.com/', 'https://dk.nextdoor.com/', 'https://se.nextdoor.com/', 'https://ca.nextdoor.com/', 'https://ca.nextdoor.com/', 'https://d19rpgkrjeba2z.cloudfront.net/b9b651cc0b575574/static/nextdoorv2/images/favicons/favicon-v2.ico']\n",
      "\n",
      "https://nextdoor.com['https://nextdoor.com/', 'https://nextdoor.com/', 'https://nextdoor.nl/', 'https://nextdoor.co.uk/', 'https://nextdoor.de/', 'https://fr.nextdoor.com/', 'https://it.nextdoor.com/', 'https://es.nextdoor.com/', 'https://au.nextdoor.com/', 'https://dk.nextdoor.com/', 'https://se.nextdoor.com/', 'https://ca.nextdoor.com/', 'https://ca.nextdoor.com/', 'https://d19rpgkrjeba2z.cloudfront.net/b9b651cc0b575574/static/nextdoorv2/images/favicons/favicon-v2.ico']\n",
      "\n",
      "https://nextdoor.com['https://nextdoor.com/', 'https://nextdoor.com/', 'https://nextdoor.nl/', 'https://nextdoor.co.uk/', 'https://nextdoor.de/', 'https://fr.nextdoor.com/', 'https://it.nextdoor.com/', 'https://es.nextdoor.com/', 'https://au.nextdoor.com/', 'https://dk.nextdoor.com/', 'https://se.nextdoor.com/', 'https://ca.nextdoor.com/', 'https://ca.nextdoor.com/', 'https://d19rpgkrjeba2z.cloudfront.net/b9b651cc0b575574/static/nextdoorv2/images/favicons/favicon-v2.ico']\n",
      "\n",
      "https://nextdoor.com['https://nextdoor.com/', 'https://nextdoor.com/', 'https://nextdoor.nl/', 'https://nextdoor.co.uk/', 'https://nextdoor.de/', 'https://fr.nextdoor.com/', 'https://it.nextdoor.com/', 'https://es.nextdoor.com/', 'https://au.nextdoor.com/', 'https://dk.nextdoor.com/', 'https://se.nextdoor.com/', 'https://ca.nextdoor.com/', 'https://ca.nextdoor.com/', 'https://d19rpgkrjeba2z.cloudfront.net/b9b651cc0b575574/static/nextdoorv2/images/favicons/favicon-v2.ico']\n",
      "\n",
      "https://nextdoor.com\n",
      "https://nextdoor.com\n",
      "['https://nextdoor.com/', 'https://nextdoor.com/', 'https://nextdoor.nl/', 'https://nextdoor.co.uk/', 'https://nextdoor.de/', 'https://fr.nextdoor.com/', 'https://it.nextdoor.com/', 'https://es.nextdoor.com/', 'https://au.nextdoor.com/', 'https://dk.nextdoor.com/', 'https://se.nextdoor.com/', 'https://ca.nextdoor.com/', 'https://ca.nextdoor.com/', 'https://d19rpgkrjeba2z.cloudfront.net/b9b651cc0b575574/static/nextdoorv2/images/favicons/favicon-v2.ico']\n",
      "['https://nextdoor.com/', 'https://nextdoor.com/', 'https://nextdoor.nl/', 'https://nextdoor.co.uk/', 'https://nextdoor.de/', 'https://fr.nextdoor.com/', 'https://it.nextdoor.com/', 'https://es.nextdoor.com/', 'https://au.nextdoor.com/', 'https://dk.nextdoor.com/', 'https://se.nextdoor.com/', 'https://ca.nextdoor.com/', 'https://ca.nextdoor.com/', 'https://d19rpgkrjeba2z.cloudfront.net/b9b651cc0b575574/static/nextdoorv2/images/favicons/favicon-v2.ico']\n"
     ]
    },
    {
     "name": "stderr",
     "output_type": "stream",
     "text": [
      "/home/dan/src/para/venv/lib/python3.6/site-packages/urllib3/connectionpool.py:1004: InsecureRequestWarning: Unverified HTTPS request is being made. Adding certificate verification is strongly advised. See: https://urllib3.readthedocs.io/en/latest/advanced-usage.html#ssl-warnings\n",
      "  InsecureRequestWarning,\n",
      "/home/dan/src/para/venv/lib/python3.6/site-packages/urllib3/connectionpool.py:1004: InsecureRequestWarning: Unverified HTTPS request is being made. Adding certificate verification is strongly advised. See: https://urllib3.readthedocs.io/en/latest/advanced-usage.html#ssl-warnings\n",
      "  InsecureRequestWarning,\n",
      "/home/dan/src/para/venv/lib/python3.6/site-packages/urllib3/connectionpool.py:1004: InsecureRequestWarning: Unverified HTTPS request is being made. Adding certificate verification is strongly advised. See: https://urllib3.readthedocs.io/en/latest/advanced-usage.html#ssl-warnings\n",
      "  InsecureRequestWarning,\n",
      "/home/dan/src/para/venv/lib/python3.6/site-packages/urllib3/connectionpool.py:1004: InsecureRequestWarning: Unverified HTTPS request is being made. Adding certificate verification is strongly advised. See: https://urllib3.readthedocs.io/en/latest/advanced-usage.html#ssl-warnings\n",
      "  InsecureRequestWarning,\n",
      "/home/dan/src/para/venv/lib/python3.6/site-packages/urllib3/connectionpool.py:1004: InsecureRequestWarning: Unverified HTTPS request is being made. Adding certificate verification is strongly advised. See: https://urllib3.readthedocs.io/en/latest/advanced-usage.html#ssl-warnings\n",
      "  InsecureRequestWarning,\n",
      "/home/dan/src/para/venv/lib/python3.6/site-packages/urllib3/connectionpool.py:1004: InsecureRequestWarning: Unverified HTTPS request is being made. Adding certificate verification is strongly advised. See: https://urllib3.readthedocs.io/en/latest/advanced-usage.html#ssl-warnings\n",
      "  InsecureRequestWarning,\n"
     ]
    },
    {
     "name": "stdout",
     "output_type": "stream",
     "text": [
      "https://nextdoor.com['https://nextdoor.com/', 'https://nextdoor.com/', 'https://nextdoor.nl/', 'https://nextdoor.co.uk/', 'https://nextdoor.de/', 'https://fr.nextdoor.com/', 'https://it.nextdoor.com/', 'https://es.nextdoor.com/', 'https://au.nextdoor.com/', 'https://dk.nextdoor.com/', 'https://se.nextdoor.com/', 'https://ca.nextdoor.com/', 'https://ca.nextdoor.com/', 'https://d19rpgkrjeba2z.cloudfront.net/b9b651cc0b575574/static/nextdoorv2/images/favicons/favicon-v2.ico']\n",
      "\n",
      "https://nextdoor.com['https://nextdoor.com/', 'https://nextdoor.com/', 'https://nextdoor.nl/', 'https://nextdoor.co.uk/', 'https://nextdoor.de/', 'https://fr.nextdoor.com/', 'https://it.nextdoor.com/', 'https://es.nextdoor.com/', 'https://au.nextdoor.com/', 'https://dk.nextdoor.com/', 'https://se.nextdoor.com/', 'https://ca.nextdoor.com/', 'https://ca.nextdoor.com/', 'https://d19rpgkrjeba2z.cloudfront.net/b9b651cc0b575574/static/nextdoorv2/images/favicons/favicon-v2.ico']\n",
      "\n",
      "https://nextdoor.com\n",
      "['https://nextdoor.com/', 'https://nextdoor.com/', 'https://nextdoor.nl/', 'https://nextdoor.co.uk/', 'https://nextdoor.de/', 'https://fr.nextdoor.com/', 'https://it.nextdoor.com/', 'https://es.nextdoor.com/', 'https://au.nextdoor.com/', 'https://dk.nextdoor.com/', 'https://se.nextdoor.com/', 'https://ca.nextdoor.com/', 'https://ca.nextdoor.com/', 'https://d19rpgkrjeba2z.cloudfront.net/b9b651cc0b575574/static/nextdoorv2/images/favicons/favicon-v2.ico']\n"
     ]
    },
    {
     "name": "stderr",
     "output_type": "stream",
     "text": [
      "/home/dan/src/para/venv/lib/python3.6/site-packages/urllib3/connectionpool.py:1004: InsecureRequestWarning: Unverified HTTPS request is being made. Adding certificate verification is strongly advised. See: https://urllib3.readthedocs.io/en/latest/advanced-usage.html#ssl-warnings\n",
      "  InsecureRequestWarning,\n",
      "/home/dan/src/para/venv/lib/python3.6/site-packages/urllib3/connectionpool.py:1004: InsecureRequestWarning: Unverified HTTPS request is being made. Adding certificate verification is strongly advised. See: https://urllib3.readthedocs.io/en/latest/advanced-usage.html#ssl-warnings\n",
      "  InsecureRequestWarning,\n",
      "/home/dan/src/para/venv/lib/python3.6/site-packages/urllib3/connectionpool.py:1004: InsecureRequestWarning: Unverified HTTPS request is being made. Adding certificate verification is strongly advised. See: https://urllib3.readthedocs.io/en/latest/advanced-usage.html#ssl-warnings\n",
      "  InsecureRequestWarning,\n",
      "/home/dan/src/para/venv/lib/python3.6/site-packages/urllib3/connectionpool.py:1004: InsecureRequestWarning: Unverified HTTPS request is being made. Adding certificate verification is strongly advised. See: https://urllib3.readthedocs.io/en/latest/advanced-usage.html#ssl-warnings\n",
      "  InsecureRequestWarning,\n"
     ]
    },
    {
     "name": "stdout",
     "output_type": "stream",
     "text": [
      "https://nextdoor.com['https://nextdoor.com/', 'https://nextdoor.com/', 'https://nextdoor.nl/', 'https://nextdoor.co.uk/', 'https://nextdoor.de/', 'https://fr.nextdoor.com/', 'https://it.nextdoor.com/', 'https://es.nextdoor.com/', 'https://au.nextdoor.com/', 'https://dk.nextdoor.com/', 'https://se.nextdoor.com/', 'https://ca.nextdoor.com/', 'https://ca.nextdoor.com/', 'https://d19rpgkrjeba2z.cloudfront.net/b9b651cc0b575574/static/nextdoorv2/images/favicons/favicon-v2.ico']https://nextdoor.comhttps://nextdoor.com\n",
      "\n",
      "\n",
      "\n",
      "['https://nextdoor.com/', 'https://nextdoor.com/', 'https://nextdoor.nl/', 'https://nextdoor.co.uk/', 'https://nextdoor.de/', 'https://fr.nextdoor.com/', 'https://it.nextdoor.com/', 'https://es.nextdoor.com/', 'https://au.nextdoor.com/', 'https://dk.nextdoor.com/', 'https://se.nextdoor.com/', 'https://ca.nextdoor.com/', 'https://ca.nextdoor.com/', 'https://d19rpgkrjeba2z.cloudfront.net/b9b651cc0b575574/static/nextdoorv2/images/favicons/favicon-v2.ico']\n",
      "['https://nextdoor.com/', 'https://nextdoor.com/', 'https://nextdoor.nl/', 'https://nextdoor.co.uk/', 'https://nextdoor.de/', 'https://fr.nextdoor.com/', 'https://it.nextdoor.com/', 'https://es.nextdoor.com/', 'https://au.nextdoor.com/', 'https://dk.nextdoor.com/', 'https://se.nextdoor.com/', 'https://ca.nextdoor.com/', 'https://ca.nextdoor.com/', 'https://d19rpgkrjeba2z.cloudfront.net/b9b651cc0b575574/static/nextdoorv2/images/favicons/favicon-v2.ico']\n",
      "https://nextdoor.com['https://nextdoor.com/', 'https://nextdoor.com/', 'https://nextdoor.nl/', 'https://nextdoor.co.uk/', 'https://nextdoor.de/', 'https://fr.nextdoor.com/', 'https://it.nextdoor.com/', 'https://es.nextdoor.com/', 'https://au.nextdoor.com/', 'https://dk.nextdoor.com/', 'https://se.nextdoor.com/', 'https://ca.nextdoor.com/', 'https://ca.nextdoor.com/', 'https://d19rpgkrjeba2z.cloudfront.net/b9b651cc0b575574/static/nextdoorv2/images/favicons/favicon-v2.ico']\n",
      "\n",
      "https://nextdoor.com['https://nextdoor.com/', 'https://nextdoor.com/', 'https://nextdoor.nl/', 'https://nextdoor.co.uk/', 'https://nextdoor.de/', 'https://fr.nextdoor.com/', 'https://it.nextdoor.com/', 'https://es.nextdoor.com/', 'https://au.nextdoor.com/', 'https://dk.nextdoor.com/', 'https://se.nextdoor.com/', 'https://ca.nextdoor.com/', 'https://ca.nextdoor.com/', 'https://d19rpgkrjeba2z.cloudfront.net/b9b651cc0b575574/static/nextdoorv2/images/favicons/favicon-v2.ico']\n",
      "\n",
      "https://nextdoor.com\n",
      "['https://nextdoor.com/', 'https://nextdoor.com/', 'https://nextdoor.nl/', 'https://nextdoor.co.uk/', 'https://nextdoor.de/', 'https://fr.nextdoor.com/', 'https://it.nextdoor.com/', 'https://es.nextdoor.com/', 'https://au.nextdoor.com/', 'https://dk.nextdoor.com/', 'https://se.nextdoor.com/', 'https://ca.nextdoor.com/', 'https://ca.nextdoor.com/', 'https://d19rpgkrjeba2z.cloudfront.net/b9b651cc0b575574/static/nextdoorv2/images/favicons/favicon-v2.ico']\n",
      "https://nextdoor.com['https://nextdoor.com/', 'https://nextdoor.com/', 'https://nextdoor.nl/', 'https://nextdoor.co.uk/', 'https://nextdoor.de/', 'https://fr.nextdoor.com/', 'https://it.nextdoor.com/', 'https://es.nextdoor.com/', 'https://au.nextdoor.com/', 'https://dk.nextdoor.com/', 'https://se.nextdoor.com/', 'https://ca.nextdoor.com/', 'https://ca.nextdoor.com/', 'https://d19rpgkrjeba2z.cloudfront.net/b9b651cc0b575574/static/nextdoorv2/images/favicons/favicon-v2.ico']\n",
      "\n",
      "https://nextdoor.comhttps://nextdoor.com['https://nextdoor.com/', 'https://nextdoor.com/', 'https://nextdoor.nl/', 'https://nextdoor.co.uk/', 'https://nextdoor.de/', 'https://fr.nextdoor.com/', 'https://it.nextdoor.com/', 'https://es.nextdoor.com/', 'https://au.nextdoor.com/', 'https://dk.nextdoor.com/', 'https://se.nextdoor.com/', 'https://ca.nextdoor.com/', 'https://ca.nextdoor.com/', 'https://d19rpgkrjeba2z.cloudfront.net/b9b651cc0b575574/static/nextdoorv2/images/favicons/favicon-v2.ico']\n",
      "\n",
      "\n",
      "['https://nextdoor.com/', 'https://nextdoor.com/', 'https://nextdoor.nl/', 'https://nextdoor.co.uk/', 'https://nextdoor.de/', 'https://fr.nextdoor.com/', 'https://it.nextdoor.com/', 'https://es.nextdoor.com/', 'https://au.nextdoor.com/', 'https://dk.nextdoor.com/', 'https://se.nextdoor.com/', 'https://ca.nextdoor.com/', 'https://ca.nextdoor.com/', 'https://d19rpgkrjeba2z.cloudfront.net/b9b651cc0b575574/static/nextdoorv2/images/favicons/favicon-v2.ico']\n"
     ]
    },
    {
     "name": "stderr",
     "output_type": "stream",
     "text": [
      "/home/dan/src/para/venv/lib/python3.6/site-packages/urllib3/connectionpool.py:1004: InsecureRequestWarning: Unverified HTTPS request is being made. Adding certificate verification is strongly advised. See: https://urllib3.readthedocs.io/en/latest/advanced-usage.html#ssl-warnings\n",
      "  InsecureRequestWarning,\n"
     ]
    },
    {
     "name": "stdout",
     "output_type": "stream",
     "text": [
      "https://nextdoor.com['https://nextdoor.com/', 'https://nextdoor.com/', 'https://nextdoor.nl/', 'https://nextdoor.co.uk/', 'https://nextdoor.de/', 'https://fr.nextdoor.com/', 'https://it.nextdoor.com/', 'https://es.nextdoor.com/', 'https://au.nextdoor.com/', 'https://dk.nextdoor.com/', 'https://se.nextdoor.com/', 'https://ca.nextdoor.com/', 'https://ca.nextdoor.com/', 'https://d19rpgkrjeba2z.cloudfront.net/b9b651cc0b575574/static/nextdoorv2/images/favicons/favicon-v2.ico']\n",
      "\n"
     ]
    },
    {
     "name": "stderr",
     "output_type": "stream",
     "text": [
      "/home/dan/src/para/venv/lib/python3.6/site-packages/urllib3/connectionpool.py:1004: InsecureRequestWarning: Unverified HTTPS request is being made. Adding certificate verification is strongly advised. See: https://urllib3.readthedocs.io/en/latest/advanced-usage.html#ssl-warnings\n",
      "  InsecureRequestWarning,\n",
      "/home/dan/src/para/venv/lib/python3.6/site-packages/urllib3/connectionpool.py:1004: InsecureRequestWarning: Unverified HTTPS request is being made. Adding certificate verification is strongly advised. See: https://urllib3.readthedocs.io/en/latest/advanced-usage.html#ssl-warnings\n",
      "  InsecureRequestWarning,\n",
      "/home/dan/src/para/venv/lib/python3.6/site-packages/urllib3/connectionpool.py:1004: InsecureRequestWarning: Unverified HTTPS request is being made. Adding certificate verification is strongly advised. See: https://urllib3.readthedocs.io/en/latest/advanced-usage.html#ssl-warnings\n",
      "  InsecureRequestWarning,\n",
      "/home/dan/src/para/venv/lib/python3.6/site-packages/urllib3/connectionpool.py:1004: InsecureRequestWarning: Unverified HTTPS request is being made. Adding certificate verification is strongly advised. See: https://urllib3.readthedocs.io/en/latest/advanced-usage.html#ssl-warnings\n",
      "  InsecureRequestWarning,\n"
     ]
    },
    {
     "name": "stdout",
     "output_type": "stream",
     "text": [
      "https://nextdoor.com\n",
      "['https://nextdoor.com/', 'https://nextdoor.com/', 'https://nextdoor.nl/', 'https://nextdoor.co.uk/', 'https://nextdoor.de/', 'https://fr.nextdoor.com/', 'https://it.nextdoor.com/', 'https://es.nextdoor.com/', 'https://au.nextdoor.com/', 'https://dk.nextdoor.com/', 'https://se.nextdoor.com/', 'https://ca.nextdoor.com/', 'https://ca.nextdoor.com/', 'https://d19rpgkrjeba2z.cloudfront.net/b9b651cc0b575574/static/nextdoorv2/images/favicons/favicon-v2.ico']\n",
      "https://nextdoor.com['https://nextdoor.com/', 'https://nextdoor.com/', 'https://nextdoor.nl/', 'https://nextdoor.co.uk/', 'https://nextdoor.de/', 'https://fr.nextdoor.com/', 'https://it.nextdoor.com/', 'https://es.nextdoor.com/', 'https://au.nextdoor.com/', 'https://dk.nextdoor.com/', 'https://se.nextdoor.com/', 'https://ca.nextdoor.com/', 'https://ca.nextdoor.com/', 'https://d19rpgkrjeba2z.cloudfront.net/b9b651cc0b575574/static/nextdoorv2/images/favicons/favicon-v2.ico']\n",
      "\n",
      "https://nextdoor.com\n",
      "['https://nextdoor.com/', 'https://nextdoor.com/', 'https://nextdoor.nl/', 'https://nextdoor.co.uk/', 'https://nextdoor.de/', 'https://fr.nextdoor.com/', 'https://it.nextdoor.com/', 'https://es.nextdoor.com/', 'https://au.nextdoor.com/', 'https://dk.nextdoor.com/', 'https://se.nextdoor.com/', 'https://ca.nextdoor.com/', 'https://ca.nextdoor.com/', 'https://d19rpgkrjeba2z.cloudfront.net/b9b651cc0b575574/static/nextdoorv2/images/favicons/favicon-v2.ico']\n",
      "https://nextdoor.com\n",
      "['https://nextdoor.com/', 'https://nextdoor.com/', 'https://nextdoor.nl/', 'https://nextdoor.co.uk/', 'https://nextdoor.de/', 'https://fr.nextdoor.com/', 'https://it.nextdoor.com/', 'https://es.nextdoor.com/', 'https://au.nextdoor.com/', 'https://dk.nextdoor.com/', 'https://se.nextdoor.com/', 'https://ca.nextdoor.com/', 'https://ca.nextdoor.com/', 'https://d19rpgkrjeba2z.cloudfront.net/b9b651cc0b575574/static/nextdoorv2/images/favicons/favicon-v2.ico']\n"
     ]
    },
    {
     "name": "stderr",
     "output_type": "stream",
     "text": [
      "/home/dan/src/para/venv/lib/python3.6/site-packages/urllib3/connectionpool.py:1004: InsecureRequestWarning: Unverified HTTPS request is being made. Adding certificate verification is strongly advised. See: https://urllib3.readthedocs.io/en/latest/advanced-usage.html#ssl-warnings\n",
      "  InsecureRequestWarning,\n",
      "/home/dan/src/para/venv/lib/python3.6/site-packages/urllib3/connectionpool.py:1004: InsecureRequestWarning: Unverified HTTPS request is being made. Adding certificate verification is strongly advised. See: https://urllib3.readthedocs.io/en/latest/advanced-usage.html#ssl-warnings\n",
      "  InsecureRequestWarning,\n",
      "/home/dan/src/para/venv/lib/python3.6/site-packages/urllib3/connectionpool.py:1004: InsecureRequestWarning: Unverified HTTPS request is being made. Adding certificate verification is strongly advised. See: https://urllib3.readthedocs.io/en/latest/advanced-usage.html#ssl-warnings\n",
      "  InsecureRequestWarning,\n",
      "/home/dan/src/para/venv/lib/python3.6/site-packages/urllib3/connectionpool.py:1004: InsecureRequestWarning: Unverified HTTPS request is being made. Adding certificate verification is strongly advised. See: https://urllib3.readthedocs.io/en/latest/advanced-usage.html#ssl-warnings\n",
      "  InsecureRequestWarning,\n",
      "/home/dan/src/para/venv/lib/python3.6/site-packages/urllib3/connectionpool.py:1004: InsecureRequestWarning: Unverified HTTPS request is being made. Adding certificate verification is strongly advised. See: https://urllib3.readthedocs.io/en/latest/advanced-usage.html#ssl-warnings\n",
      "  InsecureRequestWarning,\n"
     ]
    },
    {
     "name": "stdout",
     "output_type": "stream",
     "text": [
      "https://nextdoor.com['https://nextdoor.com/', 'https://nextdoor.com/', 'https://nextdoor.nl/', 'https://nextdoor.co.uk/', 'https://nextdoor.de/', 'https://fr.nextdoor.com/', 'https://it.nextdoor.com/', 'https://es.nextdoor.com/', 'https://au.nextdoor.com/', 'https://dk.nextdoor.com/', 'https://se.nextdoor.com/', 'https://ca.nextdoor.com/', 'https://ca.nextdoor.com/', 'https://d19rpgkrjeba2z.cloudfront.net/b9b651cc0b575574/static/nextdoorv2/images/favicons/favicon-v2.ico']\n",
      "\n",
      "https://nextdoor.com['https://nextdoor.com/', 'https://nextdoor.com/', 'https://nextdoor.nl/', 'https://nextdoor.co.uk/', 'https://nextdoor.de/', 'https://fr.nextdoor.com/', 'https://it.nextdoor.com/', 'https://es.nextdoor.com/', 'https://au.nextdoor.com/', 'https://dk.nextdoor.com/', 'https://se.nextdoor.com/', 'https://ca.nextdoor.com/', 'https://ca.nextdoor.com/', 'https://d19rpgkrjeba2z.cloudfront.net/b9b651cc0b575574/static/nextdoorv2/images/favicons/favicon-v2.ico']\n",
      "\n",
      "https://nextdoor.com\n",
      "['https://nextdoor.com/', 'https://nextdoor.com/', 'https://nextdoor.nl/', 'https://nextdoor.co.uk/', 'https://nextdoor.de/', 'https://fr.nextdoor.com/', 'https://it.nextdoor.com/', 'https://es.nextdoor.com/', 'https://au.nextdoor.com/', 'https://dk.nextdoor.com/', 'https://se.nextdoor.com/', 'https://ca.nextdoor.com/', 'https://ca.nextdoor.com/', 'https://d19rpgkrjeba2z.cloudfront.net/b9b651cc0b575574/static/nextdoorv2/images/favicons/favicon-v2.ico']\n"
     ]
    },
    {
     "name": "stderr",
     "output_type": "stream",
     "text": [
      "/home/dan/src/para/venv/lib/python3.6/site-packages/urllib3/connectionpool.py:1004: InsecureRequestWarning: Unverified HTTPS request is being made. Adding certificate verification is strongly advised. See: https://urllib3.readthedocs.io/en/latest/advanced-usage.html#ssl-warnings\n",
      "  InsecureRequestWarning,\n",
      "/home/dan/src/para/venv/lib/python3.6/site-packages/urllib3/connectionpool.py:1004: InsecureRequestWarning: Unverified HTTPS request is being made. Adding certificate verification is strongly advised. See: https://urllib3.readthedocs.io/en/latest/advanced-usage.html#ssl-warnings\n",
      "  InsecureRequestWarning,\n",
      "/home/dan/src/para/venv/lib/python3.6/site-packages/urllib3/connectionpool.py:1004: InsecureRequestWarning: Unverified HTTPS request is being made. Adding certificate verification is strongly advised. See: https://urllib3.readthedocs.io/en/latest/advanced-usage.html#ssl-warnings\n",
      "  InsecureRequestWarning,\n",
      "/home/dan/src/para/venv/lib/python3.6/site-packages/urllib3/connectionpool.py:1004: InsecureRequestWarning: Unverified HTTPS request is being made. Adding certificate verification is strongly advised. See: https://urllib3.readthedocs.io/en/latest/advanced-usage.html#ssl-warnings\n",
      "  InsecureRequestWarning,\n",
      "/home/dan/src/para/venv/lib/python3.6/site-packages/urllib3/connectionpool.py:1004: InsecureRequestWarning: Unverified HTTPS request is being made. Adding certificate verification is strongly advised. See: https://urllib3.readthedocs.io/en/latest/advanced-usage.html#ssl-warnings\n",
      "  InsecureRequestWarning,\n",
      "/home/dan/src/para/venv/lib/python3.6/site-packages/urllib3/connectionpool.py:1004: InsecureRequestWarning: Unverified HTTPS request is being made. Adding certificate verification is strongly advised. See: https://urllib3.readthedocs.io/en/latest/advanced-usage.html#ssl-warnings\n",
      "  InsecureRequestWarning,\n",
      "/home/dan/src/para/venv/lib/python3.6/site-packages/urllib3/connectionpool.py:1004: InsecureRequestWarning: Unverified HTTPS request is being made. Adding certificate verification is strongly advised. See: https://urllib3.readthedocs.io/en/latest/advanced-usage.html#ssl-warnings\n",
      "  InsecureRequestWarning,\n",
      "/home/dan/src/para/venv/lib/python3.6/site-packages/urllib3/connectionpool.py:1004: InsecureRequestWarning: Unverified HTTPS request is being made. Adding certificate verification is strongly advised. See: https://urllib3.readthedocs.io/en/latest/advanced-usage.html#ssl-warnings\n",
      "  InsecureRequestWarning,\n"
     ]
    },
    {
     "name": "stdout",
     "output_type": "stream",
     "text": [
      "https://nextdoor.com['https://nextdoor.com/', 'https://nextdoor.com/', 'https://nextdoor.nl/', 'https://nextdoor.co.uk/', 'https://nextdoor.de/', 'https://fr.nextdoor.com/', 'https://it.nextdoor.com/', 'https://es.nextdoor.com/', 'https://au.nextdoor.com/', 'https://dk.nextdoor.com/', 'https://se.nextdoor.com/', 'https://ca.nextdoor.com/', 'https://ca.nextdoor.com/', 'https://d19rpgkrjeba2z.cloudfront.net/b9b651cc0b575574/static/nextdoorv2/images/favicons/favicon-v2.ico']\n",
      "\n",
      "https://nextdoor.comhttps://nextdoor.com['https://nextdoor.com/', 'https://nextdoor.com/', 'https://nextdoor.nl/', 'https://nextdoor.co.uk/', 'https://nextdoor.de/', 'https://fr.nextdoor.com/', 'https://it.nextdoor.com/', 'https://es.nextdoor.com/', 'https://au.nextdoor.com/', 'https://dk.nextdoor.com/', 'https://se.nextdoor.com/', 'https://ca.nextdoor.com/', 'https://ca.nextdoor.com/', 'https://d19rpgkrjeba2z.cloudfront.net/b9b651cc0b575574/static/nextdoorv2/images/favicons/favicon-v2.ico']\n",
      "\n",
      "['https://nextdoor.com/', 'https://nextdoor.com/', 'https://nextdoor.nl/', 'https://nextdoor.co.uk/', 'https://nextdoor.de/', 'https://fr.nextdoor.com/', 'https://it.nextdoor.com/', 'https://es.nextdoor.com/', 'https://au.nextdoor.com/', 'https://dk.nextdoor.com/', 'https://se.nextdoor.com/', 'https://ca.nextdoor.com/', 'https://ca.nextdoor.com/', 'https://d19rpgkrjeba2z.cloudfront.net/b9b651cc0b575574/static/nextdoorv2/images/favicons/favicon-v2.ico']\n",
      "\n",
      "https://nextdoor.comhttps://nextdoor.com['https://nextdoor.com/', 'https://nextdoor.com/', 'https://nextdoor.nl/', 'https://nextdoor.co.uk/', 'https://nextdoor.de/', 'https://fr.nextdoor.com/', 'https://it.nextdoor.com/', 'https://es.nextdoor.com/', 'https://au.nextdoor.com/', 'https://dk.nextdoor.com/', 'https://se.nextdoor.com/', 'https://ca.nextdoor.com/', 'https://ca.nextdoor.com/', 'https://d19rpgkrjeba2z.cloudfront.net/b9b651cc0b575574/static/nextdoorv2/images/favicons/favicon-v2.ico']\n",
      "\n",
      "\n",
      "['https://nextdoor.com/', 'https://nextdoor.com/', 'https://nextdoor.nl/', 'https://nextdoor.co.uk/', 'https://nextdoor.de/', 'https://fr.nextdoor.com/', 'https://it.nextdoor.com/', 'https://es.nextdoor.com/', 'https://au.nextdoor.com/', 'https://dk.nextdoor.com/', 'https://se.nextdoor.com/', 'https://ca.nextdoor.com/', 'https://ca.nextdoor.com/', 'https://d19rpgkrjeba2z.cloudfront.net/b9b651cc0b575574/static/nextdoorv2/images/favicons/favicon-v2.ico']\n",
      "https://nextdoor.com['https://nextdoor.com/', 'https://nextdoor.com/', 'https://nextdoor.nl/', 'https://nextdoor.co.uk/', 'https://nextdoor.de/', 'https://fr.nextdoor.com/', 'https://it.nextdoor.com/', 'https://es.nextdoor.com/', 'https://au.nextdoor.com/', 'https://dk.nextdoor.com/', 'https://se.nextdoor.com/', 'https://ca.nextdoor.com/', 'https://ca.nextdoor.com/', 'https://d19rpgkrjeba2z.cloudfront.net/b9b651cc0b575574/static/nextdoorv2/images/favicons/favicon-v2.ico']\n",
      "\n"
     ]
    },
    {
     "name": "stderr",
     "output_type": "stream",
     "text": [
      "/home/dan/src/para/venv/lib/python3.6/site-packages/urllib3/connectionpool.py:1004: InsecureRequestWarning: Unverified HTTPS request is being made. Adding certificate verification is strongly advised. See: https://urllib3.readthedocs.io/en/latest/advanced-usage.html#ssl-warnings\n",
      "  InsecureRequestWarning,\n",
      "/home/dan/src/para/venv/lib/python3.6/site-packages/urllib3/connectionpool.py:1004: InsecureRequestWarning: Unverified HTTPS request is being made. Adding certificate verification is strongly advised. See: https://urllib3.readthedocs.io/en/latest/advanced-usage.html#ssl-warnings\n",
      "  InsecureRequestWarning,\n"
     ]
    },
    {
     "name": "stdout",
     "output_type": "stream",
     "text": [
      "https://nextdoor.com['https://nextdoor.com/', 'https://nextdoor.com/', 'https://nextdoor.nl/', 'https://nextdoor.co.uk/', 'https://nextdoor.de/', 'https://fr.nextdoor.com/', 'https://it.nextdoor.com/', 'https://es.nextdoor.com/', 'https://au.nextdoor.com/', 'https://dk.nextdoor.com/', 'https://se.nextdoor.com/', 'https://ca.nextdoor.com/', 'https://ca.nextdoor.com/', 'https://d19rpgkrjeba2z.cloudfront.net/b9b651cc0b575574/static/nextdoorv2/images/favicons/favicon-v2.ico']\n",
      "\n",
      "https://nextdoor.com\n",
      "['https://nextdoor.com/', 'https://nextdoor.com/', 'https://nextdoor.nl/', 'https://nextdoor.co.uk/', 'https://nextdoor.de/', 'https://fr.nextdoor.com/', 'https://it.nextdoor.com/', 'https://es.nextdoor.com/', 'https://au.nextdoor.com/', 'https://dk.nextdoor.com/', 'https://se.nextdoor.com/', 'https://ca.nextdoor.com/', 'https://ca.nextdoor.com/', 'https://d19rpgkrjeba2z.cloudfront.net/b9b651cc0b575574/static/nextdoorv2/images/favicons/favicon-v2.ico']\n",
      "https://nextdoor.com['https://nextdoor.com/', 'https://nextdoor.com/', 'https://nextdoor.nl/', 'https://nextdoor.co.uk/', 'https://nextdoor.de/', 'https://fr.nextdoor.com/', 'https://it.nextdoor.com/', 'https://es.nextdoor.com/', 'https://au.nextdoor.com/', 'https://dk.nextdoor.com/', 'https://se.nextdoor.com/', 'https://ca.nextdoor.com/', 'https://ca.nextdoor.com/', 'https://d19rpgkrjeba2z.cloudfront.net/b9b651cc0b575574/static/nextdoorv2/images/favicons/favicon-v2.ico']\n",
      "\n",
      "https://nextdoor.comhttps://nextdoor.com\n",
      "\n",
      "['https://nextdoor.com/', 'https://nextdoor.com/', 'https://nextdoor.nl/', 'https://nextdoor.co.uk/', 'https://nextdoor.de/', 'https://fr.nextdoor.com/', 'https://it.nextdoor.com/', 'https://es.nextdoor.com/', 'https://au.nextdoor.com/', 'https://dk.nextdoor.com/', 'https://se.nextdoor.com/', 'https://ca.nextdoor.com/', 'https://ca.nextdoor.com/', 'https://d19rpgkrjeba2z.cloudfront.net/b9b651cc0b575574/static/nextdoorv2/images/favicons/favicon-v2.ico']\n",
      "['https://nextdoor.com/', 'https://nextdoor.com/', 'https://nextdoor.nl/', 'https://nextdoor.co.uk/', 'https://nextdoor.de/', 'https://fr.nextdoor.com/', 'https://it.nextdoor.com/', 'https://es.nextdoor.com/', 'https://au.nextdoor.com/', 'https://dk.nextdoor.com/', 'https://se.nextdoor.com/', 'https://ca.nextdoor.com/', 'https://ca.nextdoor.com/', 'https://d19rpgkrjeba2z.cloudfront.net/b9b651cc0b575574/static/nextdoorv2/images/favicons/favicon-v2.ico']\n",
      "https://nextdoor.com['https://nextdoor.com/', 'https://nextdoor.com/', 'https://nextdoor.nl/', 'https://nextdoor.co.uk/', 'https://nextdoor.de/', 'https://fr.nextdoor.com/', 'https://it.nextdoor.com/', 'https://es.nextdoor.com/', 'https://au.nextdoor.com/', 'https://dk.nextdoor.com/', 'https://se.nextdoor.com/', 'https://ca.nextdoor.com/', 'https://ca.nextdoor.com/', 'https://d19rpgkrjeba2z.cloudfront.net/b9b651cc0b575574/static/nextdoorv2/images/favicons/favicon-v2.ico']\n",
      "\n"
     ]
    },
    {
     "name": "stderr",
     "output_type": "stream",
     "text": [
      "/home/dan/src/para/venv/lib/python3.6/site-packages/urllib3/connectionpool.py:1004: InsecureRequestWarning: Unverified HTTPS request is being made. Adding certificate verification is strongly advised. See: https://urllib3.readthedocs.io/en/latest/advanced-usage.html#ssl-warnings\n",
      "  InsecureRequestWarning,\n",
      "/home/dan/src/para/venv/lib/python3.6/site-packages/urllib3/connectionpool.py:1004: InsecureRequestWarning: Unverified HTTPS request is being made. Adding certificate verification is strongly advised. See: https://urllib3.readthedocs.io/en/latest/advanced-usage.html#ssl-warnings\n",
      "  InsecureRequestWarning,\n",
      "/home/dan/src/para/venv/lib/python3.6/site-packages/urllib3/connectionpool.py:1004: InsecureRequestWarning: Unverified HTTPS request is being made. Adding certificate verification is strongly advised. See: https://urllib3.readthedocs.io/en/latest/advanced-usage.html#ssl-warnings\n",
      "  InsecureRequestWarning,\n",
      "/home/dan/src/para/venv/lib/python3.6/site-packages/urllib3/connectionpool.py:1004: InsecureRequestWarning: Unverified HTTPS request is being made. Adding certificate verification is strongly advised. See: https://urllib3.readthedocs.io/en/latest/advanced-usage.html#ssl-warnings\n",
      "  InsecureRequestWarning,\n",
      "/home/dan/src/para/venv/lib/python3.6/site-packages/urllib3/connectionpool.py:1004: InsecureRequestWarning: Unverified HTTPS request is being made. Adding certificate verification is strongly advised. See: https://urllib3.readthedocs.io/en/latest/advanced-usage.html#ssl-warnings\n",
      "  InsecureRequestWarning,\n"
     ]
    },
    {
     "name": "stdout",
     "output_type": "stream",
     "text": [
      "https://nextdoor.com['https://nextdoor.com/', 'https://nextdoor.com/', 'https://nextdoor.nl/', 'https://nextdoor.co.uk/', 'https://nextdoor.de/', 'https://fr.nextdoor.com/', 'https://it.nextdoor.com/', 'https://es.nextdoor.com/', 'https://au.nextdoor.com/', 'https://dk.nextdoor.com/', 'https://se.nextdoor.com/', 'https://ca.nextdoor.com/', 'https://ca.nextdoor.com/', 'https://d19rpgkrjeba2z.cloudfront.net/b9b651cc0b575574/static/nextdoorv2/images/favicons/favicon-v2.ico']\n",
      "\n",
      "https://nextdoor.com\n",
      "['https://nextdoor.com/', 'https://nextdoor.com/', 'https://nextdoor.nl/', 'https://nextdoor.co.uk/', 'https://nextdoor.de/', 'https://fr.nextdoor.com/', 'https://it.nextdoor.com/', 'https://es.nextdoor.com/', 'https://au.nextdoor.com/', 'https://dk.nextdoor.com/', 'https://se.nextdoor.com/', 'https://ca.nextdoor.com/', 'https://ca.nextdoor.com/', 'https://d19rpgkrjeba2z.cloudfront.net/b9b651cc0b575574/static/nextdoorv2/images/favicons/favicon-v2.ico']\n",
      "https://nextdoor.com['https://nextdoor.com/', 'https://nextdoor.com/', 'https://nextdoor.nl/', 'https://nextdoor.co.uk/', 'https://nextdoor.de/', 'https://fr.nextdoor.com/', 'https://it.nextdoor.com/', 'https://es.nextdoor.com/', 'https://au.nextdoor.com/', 'https://dk.nextdoor.com/', 'https://se.nextdoor.com/', 'https://ca.nextdoor.com/', 'https://ca.nextdoor.com/', 'https://d19rpgkrjeba2z.cloudfront.net/b9b651cc0b575574/static/nextdoorv2/images/favicons/favicon-v2.ico']\n",
      "\n",
      "https://nextdoor.com['https://nextdoor.com/', 'https://nextdoor.com/', 'https://nextdoor.nl/', 'https://nextdoor.co.uk/', 'https://nextdoor.de/', 'https://fr.nextdoor.com/', 'https://it.nextdoor.com/', 'https://es.nextdoor.com/', 'https://au.nextdoor.com/', 'https://dk.nextdoor.com/', 'https://se.nextdoor.com/', 'https://ca.nextdoor.com/', 'https://ca.nextdoor.com/', 'https://d19rpgkrjeba2z.cloudfront.net/b9b651cc0b575574/static/nextdoorv2/images/favicons/favicon-v2.ico']\n",
      "\n",
      "https://nextdoor.com['https://nextdoor.com/', 'https://nextdoor.com/', 'https://nextdoor.nl/', 'https://nextdoor.co.uk/', 'https://nextdoor.de/', 'https://fr.nextdoor.com/', 'https://it.nextdoor.com/', 'https://es.nextdoor.com/', 'https://au.nextdoor.com/', 'https://dk.nextdoor.com/', 'https://se.nextdoor.com/', 'https://ca.nextdoor.com/', 'https://ca.nextdoor.com/', 'https://d19rpgkrjeba2z.cloudfront.net/b9b651cc0b575574/static/nextdoorv2/images/favicons/favicon-v2.ico']\n",
      "\n",
      "https://nextdoor.com['https://nextdoor.com/', 'https://nextdoor.com/', 'https://nextdoor.nl/', 'https://nextdoor.co.uk/', 'https://nextdoor.de/', 'https://fr.nextdoor.com/', 'https://it.nextdoor.com/', 'https://es.nextdoor.com/', 'https://au.nextdoor.com/', 'https://dk.nextdoor.com/', 'https://se.nextdoor.com/', 'https://ca.nextdoor.com/', 'https://ca.nextdoor.com/', 'https://d19rpgkrjeba2z.cloudfront.net/b9b651cc0b575574/static/nextdoorv2/images/favicons/favicon-v2.ico']\n",
      "\n"
     ]
    },
    {
     "name": "stderr",
     "output_type": "stream",
     "text": [
      "/home/dan/src/para/venv/lib/python3.6/site-packages/urllib3/connectionpool.py:1004: InsecureRequestWarning: Unverified HTTPS request is being made. Adding certificate verification is strongly advised. See: https://urllib3.readthedocs.io/en/latest/advanced-usage.html#ssl-warnings\n",
      "  InsecureRequestWarning,\n",
      "/home/dan/src/para/venv/lib/python3.6/site-packages/urllib3/connectionpool.py:1004: InsecureRequestWarning: Unverified HTTPS request is being made. Adding certificate verification is strongly advised. See: https://urllib3.readthedocs.io/en/latest/advanced-usage.html#ssl-warnings\n",
      "  InsecureRequestWarning,\n"
     ]
    },
    {
     "name": "stdout",
     "output_type": "stream",
     "text": [
      "https://nextdoor.com['https://nextdoor.com/', 'https://nextdoor.com/', 'https://nextdoor.nl/', 'https://nextdoor.co.uk/', 'https://nextdoor.de/', 'https://fr.nextdoor.com/', 'https://it.nextdoor.com/', 'https://es.nextdoor.com/', 'https://au.nextdoor.com/', 'https://dk.nextdoor.com/', 'https://se.nextdoor.com/', 'https://ca.nextdoor.com/', 'https://ca.nextdoor.com/', 'https://d19rpgkrjeba2z.cloudfront.net/b9b651cc0b575574/static/nextdoorv2/images/favicons/favicon-v2.ico']\n",
      "\n",
      "https://nextdoor.com['https://nextdoor.com/', 'https://nextdoor.com/', 'https://nextdoor.nl/', 'https://nextdoor.co.uk/', 'https://nextdoor.de/', 'https://fr.nextdoor.com/', 'https://it.nextdoor.com/', 'https://es.nextdoor.com/', 'https://au.nextdoor.com/', 'https://dk.nextdoor.com/', 'https://se.nextdoor.com/', 'https://ca.nextdoor.com/', 'https://ca.nextdoor.com/', 'https://d19rpgkrjeba2z.cloudfront.net/b9b651cc0b575574/static/nextdoorv2/images/favicons/favicon-v2.ico']\n",
      "\n",
      "https://nextdoor.com['https://nextdoor.com/', 'https://nextdoor.com/', 'https://nextdoor.nl/', 'https://nextdoor.co.uk/', 'https://nextdoor.de/', 'https://fr.nextdoor.com/', 'https://it.nextdoor.com/', 'https://es.nextdoor.com/', 'https://au.nextdoor.com/', 'https://dk.nextdoor.com/', 'https://se.nextdoor.com/', 'https://ca.nextdoor.com/', 'https://ca.nextdoor.com/', 'https://d19rpgkrjeba2z.cloudfront.net/b9b651cc0b575574/static/nextdoorv2/images/favicons/favicon-v2.ico']\n",
      "\n",
      "https://nextdoor.com\n",
      "['https://nextdoor.com/', 'https://nextdoor.com/', 'https://nextdoor.nl/', 'https://nextdoor.co.uk/', 'https://nextdoor.de/', 'https://fr.nextdoor.com/', 'https://it.nextdoor.com/', 'https://es.nextdoor.com/', 'https://au.nextdoor.com/', 'https://dk.nextdoor.com/', 'https://se.nextdoor.com/', 'https://ca.nextdoor.com/', 'https://ca.nextdoor.com/', 'https://d19rpgkrjeba2z.cloudfront.net/b9b651cc0b575574/static/nextdoorv2/images/favicons/favicon-v2.ico']\n"
     ]
    },
    {
     "name": "stderr",
     "output_type": "stream",
     "text": [
      "/home/dan/src/para/venv/lib/python3.6/site-packages/urllib3/connectionpool.py:1004: InsecureRequestWarning: Unverified HTTPS request is being made. Adding certificate verification is strongly advised. See: https://urllib3.readthedocs.io/en/latest/advanced-usage.html#ssl-warnings\n",
      "  InsecureRequestWarning,\n",
      "/home/dan/src/para/venv/lib/python3.6/site-packages/urllib3/connectionpool.py:1004: InsecureRequestWarning: Unverified HTTPS request is being made. Adding certificate verification is strongly advised. See: https://urllib3.readthedocs.io/en/latest/advanced-usage.html#ssl-warnings\n",
      "  InsecureRequestWarning,\n",
      "/home/dan/src/para/venv/lib/python3.6/site-packages/urllib3/connectionpool.py:1004: InsecureRequestWarning: Unverified HTTPS request is being made. Adding certificate verification is strongly advised. See: https://urllib3.readthedocs.io/en/latest/advanced-usage.html#ssl-warnings\n",
      "  InsecureRequestWarning,\n",
      "/home/dan/src/para/venv/lib/python3.6/site-packages/urllib3/connectionpool.py:1004: InsecureRequestWarning: Unverified HTTPS request is being made. Adding certificate verification is strongly advised. See: https://urllib3.readthedocs.io/en/latest/advanced-usage.html#ssl-warnings\n",
      "  InsecureRequestWarning,\n",
      "/home/dan/src/para/venv/lib/python3.6/site-packages/urllib3/connectionpool.py:1004: InsecureRequestWarning: Unverified HTTPS request is being made. Adding certificate verification is strongly advised. See: https://urllib3.readthedocs.io/en/latest/advanced-usage.html#ssl-warnings\n",
      "  InsecureRequestWarning,\n",
      "/home/dan/src/para/venv/lib/python3.6/site-packages/urllib3/connectionpool.py:1004: InsecureRequestWarning: Unverified HTTPS request is being made. Adding certificate verification is strongly advised. See: https://urllib3.readthedocs.io/en/latest/advanced-usage.html#ssl-warnings\n",
      "  InsecureRequestWarning,\n"
     ]
    },
    {
     "name": "stdout",
     "output_type": "stream",
     "text": [
      "https://nextdoor.com\n",
      "https://nextdoor.com['https://nextdoor.com/', 'https://nextdoor.com/', 'https://nextdoor.nl/', 'https://nextdoor.co.uk/', 'https://nextdoor.de/', 'https://fr.nextdoor.com/', 'https://it.nextdoor.com/', 'https://es.nextdoor.com/', 'https://au.nextdoor.com/', 'https://dk.nextdoor.com/', 'https://se.nextdoor.com/', 'https://ca.nextdoor.com/', 'https://ca.nextdoor.com/', 'https://d19rpgkrjeba2z.cloudfront.net/b9b651cc0b575574/static/nextdoorv2/images/favicons/favicon-v2.ico']\n",
      "\n",
      "['https://nextdoor.com/', 'https://nextdoor.com/', 'https://nextdoor.nl/', 'https://nextdoor.co.uk/', 'https://nextdoor.de/', 'https://fr.nextdoor.com/', 'https://it.nextdoor.com/', 'https://es.nextdoor.com/', 'https://au.nextdoor.com/', 'https://dk.nextdoor.com/', 'https://se.nextdoor.com/', 'https://ca.nextdoor.com/', 'https://ca.nextdoor.com/', 'https://d19rpgkrjeba2z.cloudfront.net/b9b651cc0b575574/static/nextdoorv2/images/favicons/favicon-v2.ico']\n"
     ]
    },
    {
     "name": "stderr",
     "output_type": "stream",
     "text": [
      "/home/dan/src/para/venv/lib/python3.6/site-packages/urllib3/connectionpool.py:1004: InsecureRequestWarning: Unverified HTTPS request is being made. Adding certificate verification is strongly advised. See: https://urllib3.readthedocs.io/en/latest/advanced-usage.html#ssl-warnings\n",
      "  InsecureRequestWarning,\n",
      "/home/dan/src/para/venv/lib/python3.6/site-packages/urllib3/connectionpool.py:1004: InsecureRequestWarning: Unverified HTTPS request is being made. Adding certificate verification is strongly advised. See: https://urllib3.readthedocs.io/en/latest/advanced-usage.html#ssl-warnings\n",
      "  InsecureRequestWarning,\n",
      "/home/dan/src/para/venv/lib/python3.6/site-packages/urllib3/connectionpool.py:1004: InsecureRequestWarning: Unverified HTTPS request is being made. Adding certificate verification is strongly advised. See: https://urllib3.readthedocs.io/en/latest/advanced-usage.html#ssl-warnings\n",
      "  InsecureRequestWarning,\n",
      "/home/dan/src/para/venv/lib/python3.6/site-packages/urllib3/connectionpool.py:1004: InsecureRequestWarning: Unverified HTTPS request is being made. Adding certificate verification is strongly advised. See: https://urllib3.readthedocs.io/en/latest/advanced-usage.html#ssl-warnings\n",
      "  InsecureRequestWarning,\n",
      "/home/dan/src/para/venv/lib/python3.6/site-packages/urllib3/connectionpool.py:1004: InsecureRequestWarning: Unverified HTTPS request is being made. Adding certificate verification is strongly advised. See: https://urllib3.readthedocs.io/en/latest/advanced-usage.html#ssl-warnings\n",
      "  InsecureRequestWarning,\n",
      "/home/dan/src/para/venv/lib/python3.6/site-packages/urllib3/connectionpool.py:1004: InsecureRequestWarning: Unverified HTTPS request is being made. Adding certificate verification is strongly advised. See: https://urllib3.readthedocs.io/en/latest/advanced-usage.html#ssl-warnings\n",
      "  InsecureRequestWarning,\n",
      "/home/dan/src/para/venv/lib/python3.6/site-packages/urllib3/connectionpool.py:1004: InsecureRequestWarning: Unverified HTTPS request is being made. Adding certificate verification is strongly advised. See: https://urllib3.readthedocs.io/en/latest/advanced-usage.html#ssl-warnings\n",
      "  InsecureRequestWarning,\n",
      "/home/dan/src/para/venv/lib/python3.6/site-packages/urllib3/connectionpool.py:1004: InsecureRequestWarning: Unverified HTTPS request is being made. Adding certificate verification is strongly advised. See: https://urllib3.readthedocs.io/en/latest/advanced-usage.html#ssl-warnings\n",
      "  InsecureRequestWarning,\n",
      "/home/dan/src/para/venv/lib/python3.6/site-packages/urllib3/connectionpool.py:1004: InsecureRequestWarning: Unverified HTTPS request is being made. Adding certificate verification is strongly advised. See: https://urllib3.readthedocs.io/en/latest/advanced-usage.html#ssl-warnings\n",
      "  InsecureRequestWarning,\n"
     ]
    },
    {
     "name": "stdout",
     "output_type": "stream",
     "text": [
      "https://nextdoor.com['https://nextdoor.com/', 'https://nextdoor.com/', 'https://nextdoor.nl/', 'https://nextdoor.co.uk/', 'https://nextdoor.de/', 'https://fr.nextdoor.com/', 'https://it.nextdoor.com/', 'https://es.nextdoor.com/', 'https://au.nextdoor.com/', 'https://dk.nextdoor.com/', 'https://se.nextdoor.com/', 'https://ca.nextdoor.com/', 'https://ca.nextdoor.com/', 'https://d19rpgkrjeba2z.cloudfront.net/b9b651cc0b575574/static/nextdoorv2/images/favicons/favicon-v2.ico']\n",
      "\n",
      "https://nextdoor.com['https://nextdoor.com/', 'https://nextdoor.com/', 'https://nextdoor.nl/', 'https://nextdoor.co.uk/', 'https://nextdoor.de/', 'https://fr.nextdoor.com/', 'https://it.nextdoor.com/', 'https://es.nextdoor.com/', 'https://au.nextdoor.com/', 'https://dk.nextdoor.com/', 'https://se.nextdoor.com/', 'https://ca.nextdoor.com/', 'https://ca.nextdoor.com/', 'https://d19rpgkrjeba2z.cloudfront.net/b9b651cc0b575574/static/nextdoorv2/images/favicons/favicon-v2.ico']\n",
      "\n",
      "https://nextdoor.com\n",
      "https://nextdoor.com['https://nextdoor.com/', 'https://nextdoor.com/', 'https://nextdoor.nl/', 'https://nextdoor.co.uk/', 'https://nextdoor.de/', 'https://fr.nextdoor.com/', 'https://it.nextdoor.com/', 'https://es.nextdoor.com/', 'https://au.nextdoor.com/', 'https://dk.nextdoor.com/', 'https://se.nextdoor.com/', 'https://ca.nextdoor.com/', 'https://ca.nextdoor.com/', 'https://d19rpgkrjeba2z.cloudfront.net/b9b651cc0b575574/static/nextdoorv2/images/favicons/favicon-v2.ico']\n",
      "\n",
      "['https://nextdoor.com/', 'https://nextdoor.com/', 'https://nextdoor.nl/', 'https://nextdoor.co.uk/', 'https://nextdoor.de/', 'https://fr.nextdoor.com/', 'https://it.nextdoor.com/', 'https://es.nextdoor.com/', 'https://au.nextdoor.com/', 'https://dk.nextdoor.com/', 'https://se.nextdoor.com/', 'https://ca.nextdoor.com/', 'https://ca.nextdoor.com/', 'https://d19rpgkrjeba2z.cloudfront.net/b9b651cc0b575574/static/nextdoorv2/images/favicons/favicon-v2.ico']\n",
      "https://nextdoor.com\n",
      "['https://nextdoor.com/', 'https://nextdoor.com/', 'https://nextdoor.nl/', 'https://nextdoor.co.uk/', 'https://nextdoor.de/', 'https://fr.nextdoor.com/', 'https://it.nextdoor.com/', 'https://es.nextdoor.com/', 'https://au.nextdoor.com/', 'https://dk.nextdoor.com/', 'https://se.nextdoor.com/', 'https://ca.nextdoor.com/', 'https://ca.nextdoor.com/', 'https://d19rpgkrjeba2z.cloudfront.net/b9b651cc0b575574/static/nextdoorv2/images/favicons/favicon-v2.ico']\n",
      "https://nextdoor.com\n",
      "['https://nextdoor.com/', 'https://nextdoor.com/', 'https://nextdoor.nl/', 'https://nextdoor.co.uk/', 'https://nextdoor.de/', 'https://fr.nextdoor.com/', 'https://it.nextdoor.com/', 'https://es.nextdoor.com/', 'https://au.nextdoor.com/', 'https://dk.nextdoor.com/', 'https://se.nextdoor.com/', 'https://ca.nextdoor.com/', 'https://ca.nextdoor.com/', 'https://d19rpgkrjeba2z.cloudfront.net/b9b651cc0b575574/static/nextdoorv2/images/favicons/favicon-v2.ico']\n",
      "https://nextdoor.com['https://nextdoor.com/', 'https://nextdoor.com/', 'https://nextdoor.nl/', 'https://nextdoor.co.uk/', 'https://nextdoor.de/', 'https://fr.nextdoor.com/', 'https://it.nextdoor.com/', 'https://es.nextdoor.com/', 'https://au.nextdoor.com/', 'https://dk.nextdoor.com/', 'https://se.nextdoor.com/', 'https://ca.nextdoor.com/', 'https://ca.nextdoor.com/', 'https://d19rpgkrjeba2z.cloudfront.net/b9b651cc0b575574/static/nextdoorv2/images/favicons/favicon-v2.ico']\n",
      "\n"
     ]
    },
    {
     "name": "stderr",
     "output_type": "stream",
     "text": [
      "/home/dan/src/para/venv/lib/python3.6/site-packages/urllib3/connectionpool.py:1004: InsecureRequestWarning: Unverified HTTPS request is being made. Adding certificate verification is strongly advised. See: https://urllib3.readthedocs.io/en/latest/advanced-usage.html#ssl-warnings\n",
      "  InsecureRequestWarning,\n",
      "/home/dan/src/para/venv/lib/python3.6/site-packages/urllib3/connectionpool.py:1004: InsecureRequestWarning: Unverified HTTPS request is being made. Adding certificate verification is strongly advised. See: https://urllib3.readthedocs.io/en/latest/advanced-usage.html#ssl-warnings\n",
      "  InsecureRequestWarning,\n",
      "/home/dan/src/para/venv/lib/python3.6/site-packages/urllib3/connectionpool.py:1004: InsecureRequestWarning: Unverified HTTPS request is being made. Adding certificate verification is strongly advised. See: https://urllib3.readthedocs.io/en/latest/advanced-usage.html#ssl-warnings\n",
      "  InsecureRequestWarning,\n",
      "/home/dan/src/para/venv/lib/python3.6/site-packages/urllib3/connectionpool.py:1004: InsecureRequestWarning: Unverified HTTPS request is being made. Adding certificate verification is strongly advised. See: https://urllib3.readthedocs.io/en/latest/advanced-usage.html#ssl-warnings\n",
      "  InsecureRequestWarning,\n",
      "/home/dan/src/para/venv/lib/python3.6/site-packages/urllib3/connectionpool.py:1004: InsecureRequestWarning: Unverified HTTPS request is being made. Adding certificate verification is strongly advised. See: https://urllib3.readthedocs.io/en/latest/advanced-usage.html#ssl-warnings\n",
      "  InsecureRequestWarning,\n",
      "/home/dan/src/para/venv/lib/python3.6/site-packages/urllib3/connectionpool.py:1004: InsecureRequestWarning: Unverified HTTPS request is being made. Adding certificate verification is strongly advised. See: https://urllib3.readthedocs.io/en/latest/advanced-usage.html#ssl-warnings\n",
      "  InsecureRequestWarning,\n"
     ]
    },
    {
     "name": "stdout",
     "output_type": "stream",
     "text": [
      "https://nextdoor.com['https://nextdoor.com/', 'https://nextdoor.com/', 'https://nextdoor.nl/', 'https://nextdoor.co.uk/', 'https://nextdoor.de/', 'https://fr.nextdoor.com/', 'https://it.nextdoor.com/', 'https://es.nextdoor.com/', 'https://au.nextdoor.com/', 'https://dk.nextdoor.com/', 'https://se.nextdoor.com/', 'https://ca.nextdoor.com/', 'https://ca.nextdoor.com/', 'https://d19rpgkrjeba2z.cloudfront.net/b9b651cc0b575574/static/nextdoorv2/images/favicons/favicon-v2.ico']\n",
      "\n",
      "https://nextdoor.com['https://nextdoor.com/', 'https://nextdoor.com/', 'https://nextdoor.nl/', 'https://nextdoor.co.uk/', 'https://nextdoor.de/', 'https://fr.nextdoor.com/', 'https://it.nextdoor.com/', 'https://es.nextdoor.com/', 'https://au.nextdoor.com/', 'https://dk.nextdoor.com/', 'https://se.nextdoor.com/', 'https://ca.nextdoor.com/', 'https://ca.nextdoor.com/', 'https://d19rpgkrjeba2z.cloudfront.net/b9b651cc0b575574/static/nextdoorv2/images/favicons/favicon-v2.ico']\n",
      "\n",
      "https://nextdoor.com['https://nextdoor.com/', 'https://nextdoor.com/', 'https://nextdoor.nl/', 'https://nextdoor.co.uk/', 'https://nextdoor.de/', 'https://fr.nextdoor.com/', 'https://it.nextdoor.com/', 'https://es.nextdoor.com/', 'https://au.nextdoor.com/', 'https://dk.nextdoor.com/', 'https://se.nextdoor.com/', 'https://ca.nextdoor.com/', 'https://ca.nextdoor.com/', 'https://d19rpgkrjeba2z.cloudfront.net/b9b651cc0b575574/static/nextdoorv2/images/favicons/favicon-v2.ico']\n",
      "\n",
      "https://nextdoor.com['https://nextdoor.com/', 'https://nextdoor.com/', 'https://nextdoor.nl/', 'https://nextdoor.co.uk/', 'https://nextdoor.de/', 'https://fr.nextdoor.com/', 'https://it.nextdoor.com/', 'https://es.nextdoor.com/', 'https://au.nextdoor.com/', 'https://dk.nextdoor.com/', 'https://se.nextdoor.com/', 'https://ca.nextdoor.com/', 'https://ca.nextdoor.com/', 'https://d19rpgkrjeba2z.cloudfront.net/b9b651cc0b575574/static/nextdoorv2/images/favicons/favicon-v2.ico']\n",
      "\n",
      "https://nextdoor.comhttps://nextdoor.com\n",
      "['https://nextdoor.com/', 'https://nextdoor.com/', 'https://nextdoor.nl/', 'https://nextdoor.co.uk/', 'https://nextdoor.de/', 'https://fr.nextdoor.com/', 'https://it.nextdoor.com/', 'https://es.nextdoor.com/', 'https://au.nextdoor.com/', 'https://dk.nextdoor.com/', 'https://se.nextdoor.com/', 'https://ca.nextdoor.com/', 'https://ca.nextdoor.com/', 'https://d19rpgkrjeba2z.cloudfront.net/b9b651cc0b575574/static/nextdoorv2/images/favicons/favicon-v2.ico']\n",
      "https://nextdoor.com\n",
      "\n",
      "['https://nextdoor.com/', 'https://nextdoor.com/', 'https://nextdoor.nl/', 'https://nextdoor.co.uk/', 'https://nextdoor.de/', 'https://fr.nextdoor.com/', 'https://it.nextdoor.com/', 'https://es.nextdoor.com/', 'https://au.nextdoor.com/', 'https://dk.nextdoor.com/', 'https://se.nextdoor.com/', 'https://ca.nextdoor.com/', 'https://ca.nextdoor.com/', 'https://d19rpgkrjeba2z.cloudfront.net/b9b651cc0b575574/static/nextdoorv2/images/favicons/favicon-v2.ico']\n",
      "['https://nextdoor.com/', 'https://nextdoor.com/', 'https://nextdoor.nl/', 'https://nextdoor.co.uk/', 'https://nextdoor.de/', 'https://fr.nextdoor.com/', 'https://it.nextdoor.com/', 'https://es.nextdoor.com/', 'https://au.nextdoor.com/', 'https://dk.nextdoor.com/', 'https://se.nextdoor.com/', 'https://ca.nextdoor.com/', 'https://ca.nextdoor.com/', 'https://d19rpgkrjeba2z.cloudfront.net/b9b651cc0b575574/static/nextdoorv2/images/favicons/favicon-v2.ico']\n",
      "https://nextdoor.com['https://nextdoor.com/', 'https://nextdoor.com/', 'https://nextdoor.nl/', 'https://nextdoor.co.uk/', 'https://nextdoor.de/', 'https://fr.nextdoor.com/', 'https://it.nextdoor.com/', 'https://es.nextdoor.com/', 'https://au.nextdoor.com/', 'https://dk.nextdoor.com/', 'https://se.nextdoor.com/', 'https://ca.nextdoor.com/', 'https://ca.nextdoor.com/', 'https://d19rpgkrjeba2z.cloudfront.net/b9b651cc0b575574/static/nextdoorv2/images/favicons/favicon-v2.ico']\n",
      "\n",
      "https://nextdoor.com['https://nextdoor.com/', 'https://nextdoor.com/', 'https://nextdoor.nl/', 'https://nextdoor.co.uk/', 'https://nextdoor.de/', 'https://fr.nextdoor.com/', 'https://it.nextdoor.com/', 'https://es.nextdoor.com/', 'https://au.nextdoor.com/', 'https://dk.nextdoor.com/', 'https://se.nextdoor.com/', 'https://ca.nextdoor.com/', 'https://ca.nextdoor.com/', 'https://d19rpgkrjeba2z.cloudfront.net/b9b651cc0b575574/static/nextdoorv2/images/favicons/favicon-v2.ico']\n",
      "\n"
     ]
    },
    {
     "name": "stderr",
     "output_type": "stream",
     "text": [
      "/home/dan/src/para/venv/lib/python3.6/site-packages/urllib3/connectionpool.py:1004: InsecureRequestWarning: Unverified HTTPS request is being made. Adding certificate verification is strongly advised. See: https://urllib3.readthedocs.io/en/latest/advanced-usage.html#ssl-warnings\n",
      "  InsecureRequestWarning,\n",
      "/home/dan/src/para/venv/lib/python3.6/site-packages/urllib3/connectionpool.py:1004: InsecureRequestWarning: Unverified HTTPS request is being made. Adding certificate verification is strongly advised. See: https://urllib3.readthedocs.io/en/latest/advanced-usage.html#ssl-warnings\n",
      "  InsecureRequestWarning,\n",
      "/home/dan/src/para/venv/lib/python3.6/site-packages/urllib3/connectionpool.py:1004: InsecureRequestWarning: Unverified HTTPS request is being made. Adding certificate verification is strongly advised. See: https://urllib3.readthedocs.io/en/latest/advanced-usage.html#ssl-warnings\n",
      "  InsecureRequestWarning,\n"
     ]
    },
    {
     "name": "stdout",
     "output_type": "stream",
     "text": [
      "https://nextdoor.com['https://nextdoor.com/', 'https://nextdoor.com/', 'https://nextdoor.nl/', 'https://nextdoor.co.uk/', 'https://nextdoor.de/', 'https://fr.nextdoor.com/', 'https://it.nextdoor.com/', 'https://es.nextdoor.com/', 'https://au.nextdoor.com/', 'https://dk.nextdoor.com/', 'https://se.nextdoor.com/', 'https://ca.nextdoor.com/', 'https://ca.nextdoor.com/', 'https://d19rpgkrjeba2z.cloudfront.net/b9b651cc0b575574/static/nextdoorv2/images/favicons/favicon-v2.ico']\n",
      "\n",
      "https://nextdoor.com['https://nextdoor.com/', 'https://nextdoor.com/', 'https://nextdoor.nl/', 'https://nextdoor.co.uk/', 'https://nextdoor.de/', 'https://fr.nextdoor.com/', 'https://it.nextdoor.com/', 'https://es.nextdoor.com/', 'https://au.nextdoor.com/', 'https://dk.nextdoor.com/', 'https://se.nextdoor.com/', 'https://ca.nextdoor.com/', 'https://ca.nextdoor.com/', 'https://d19rpgkrjeba2z.cloudfront.net/b9b651cc0b575574/static/nextdoorv2/images/favicons/favicon-v2.ico']\n",
      "\n",
      "https://nextdoor.com\n",
      "['https://nextdoor.com/', 'https://nextdoor.com/', 'https://nextdoor.nl/', 'https://nextdoor.co.uk/', 'https://nextdoor.de/', 'https://fr.nextdoor.com/', 'https://it.nextdoor.com/', 'https://es.nextdoor.com/', 'https://au.nextdoor.com/', 'https://dk.nextdoor.com/', 'https://se.nextdoor.com/', 'https://ca.nextdoor.com/', 'https://ca.nextdoor.com/', 'https://d19rpgkrjeba2z.cloudfront.net/b9b651cc0b575574/static/nextdoorv2/images/favicons/favicon-v2.ico']\n",
      "https://nextdoor.com\n",
      "['https://nextdoor.com/', 'https://nextdoor.com/', 'https://nextdoor.nl/', 'https://nextdoor.co.uk/', 'https://nextdoor.de/', 'https://fr.nextdoor.com/', 'https://it.nextdoor.com/', 'https://es.nextdoor.com/', 'https://au.nextdoor.com/', 'https://dk.nextdoor.com/', 'https://se.nextdoor.com/', 'https://ca.nextdoor.com/', 'https://ca.nextdoor.com/', 'https://d19rpgkrjeba2z.cloudfront.net/b9b651cc0b575574/static/nextdoorv2/images/favicons/favicon-v2.ico']\n",
      "https://nextdoor.com\n",
      "['https://nextdoor.com/', 'https://nextdoor.com/', 'https://nextdoor.nl/', 'https://nextdoor.co.uk/', 'https://nextdoor.de/', 'https://fr.nextdoor.com/', 'https://it.nextdoor.com/', 'https://es.nextdoor.com/', 'https://au.nextdoor.com/', 'https://dk.nextdoor.com/', 'https://se.nextdoor.com/', 'https://ca.nextdoor.com/', 'https://ca.nextdoor.com/', 'https://d19rpgkrjeba2z.cloudfront.net/b9b651cc0b575574/static/nextdoorv2/images/favicons/favicon-v2.ico']\n",
      "https://nextdoor.com['https://nextdoor.com/', 'https://nextdoor.com/', 'https://nextdoor.nl/', 'https://nextdoor.co.uk/', 'https://nextdoor.de/', 'https://fr.nextdoor.com/', 'https://it.nextdoor.com/', 'https://es.nextdoor.com/', 'https://au.nextdoor.com/', 'https://dk.nextdoor.com/', 'https://se.nextdoor.com/', 'https://ca.nextdoor.com/', 'https://ca.nextdoor.com/', 'https://d19rpgkrjeba2z.cloudfront.net/b9b651cc0b575574/static/nextdoorv2/images/favicons/favicon-v2.ico']\n",
      "\n"
     ]
    },
    {
     "name": "stderr",
     "output_type": "stream",
     "text": [
      "/home/dan/src/para/venv/lib/python3.6/site-packages/urllib3/connectionpool.py:1004: InsecureRequestWarning: Unverified HTTPS request is being made. Adding certificate verification is strongly advised. See: https://urllib3.readthedocs.io/en/latest/advanced-usage.html#ssl-warnings\n",
      "  InsecureRequestWarning,\n",
      "/home/dan/src/para/venv/lib/python3.6/site-packages/urllib3/connectionpool.py:1004: InsecureRequestWarning: Unverified HTTPS request is being made. Adding certificate verification is strongly advised. See: https://urllib3.readthedocs.io/en/latest/advanced-usage.html#ssl-warnings\n",
      "  InsecureRequestWarning,\n",
      "/home/dan/src/para/venv/lib/python3.6/site-packages/urllib3/connectionpool.py:1004: InsecureRequestWarning: Unverified HTTPS request is being made. Adding certificate verification is strongly advised. See: https://urllib3.readthedocs.io/en/latest/advanced-usage.html#ssl-warnings\n",
      "  InsecureRequestWarning,\n",
      "/home/dan/src/para/venv/lib/python3.6/site-packages/urllib3/connectionpool.py:1004: InsecureRequestWarning: Unverified HTTPS request is being made. Adding certificate verification is strongly advised. See: https://urllib3.readthedocs.io/en/latest/advanced-usage.html#ssl-warnings\n",
      "  InsecureRequestWarning,\n",
      "/home/dan/src/para/venv/lib/python3.6/site-packages/urllib3/connectionpool.py:1004: InsecureRequestWarning: Unverified HTTPS request is being made. Adding certificate verification is strongly advised. See: https://urllib3.readthedocs.io/en/latest/advanced-usage.html#ssl-warnings\n",
      "  InsecureRequestWarning,\n",
      "/home/dan/src/para/venv/lib/python3.6/site-packages/urllib3/connectionpool.py:1004: InsecureRequestWarning: Unverified HTTPS request is being made. Adding certificate verification is strongly advised. See: https://urllib3.readthedocs.io/en/latest/advanced-usage.html#ssl-warnings\n",
      "  InsecureRequestWarning,\n"
     ]
    },
    {
     "name": "stdout",
     "output_type": "stream",
     "text": [
      "https://nextdoor.com['https://nextdoor.com/', 'https://nextdoor.com/', 'https://nextdoor.nl/', 'https://nextdoor.co.uk/', 'https://nextdoor.de/', 'https://fr.nextdoor.com/', 'https://it.nextdoor.com/', 'https://es.nextdoor.com/', 'https://au.nextdoor.com/', 'https://dk.nextdoor.com/', 'https://se.nextdoor.com/', 'https://ca.nextdoor.com/', 'https://ca.nextdoor.com/', 'https://d19rpgkrjeba2z.cloudfront.net/b9b651cc0b575574/static/nextdoorv2/images/favicons/favicon-v2.ico']\n",
      "\n",
      "https://nextdoor.com['https://nextdoor.com/', 'https://nextdoor.com/', 'https://nextdoor.nl/', 'https://nextdoor.co.uk/', 'https://nextdoor.de/', 'https://fr.nextdoor.com/', 'https://it.nextdoor.com/', 'https://es.nextdoor.com/', 'https://au.nextdoor.com/', 'https://dk.nextdoor.com/', 'https://se.nextdoor.com/', 'https://ca.nextdoor.com/', 'https://ca.nextdoor.com/', 'https://d19rpgkrjeba2z.cloudfront.net/b9b651cc0b575574/static/nextdoorv2/images/favicons/favicon-v2.ico']\n",
      "\n",
      "https://nextdoor.com\n",
      "['https://nextdoor.com/', 'https://nextdoor.com/', 'https://nextdoor.nl/', 'https://nextdoor.co.uk/', 'https://nextdoor.de/', 'https://fr.nextdoor.com/', 'https://it.nextdoor.com/', 'https://es.nextdoor.com/', 'https://au.nextdoor.com/', 'https://dk.nextdoor.com/', 'https://se.nextdoor.com/', 'https://ca.nextdoor.com/', 'https://ca.nextdoor.com/', 'https://d19rpgkrjeba2z.cloudfront.net/b9b651cc0b575574/static/nextdoorv2/images/favicons/favicon-v2.ico']\n"
     ]
    },
    {
     "name": "stderr",
     "output_type": "stream",
     "text": [
      "/home/dan/src/para/venv/lib/python3.6/site-packages/urllib3/connectionpool.py:1004: InsecureRequestWarning: Unverified HTTPS request is being made. Adding certificate verification is strongly advised. See: https://urllib3.readthedocs.io/en/latest/advanced-usage.html#ssl-warnings\n",
      "  InsecureRequestWarning,\n",
      "/home/dan/src/para/venv/lib/python3.6/site-packages/urllib3/connectionpool.py:1004: InsecureRequestWarning: Unverified HTTPS request is being made. Adding certificate verification is strongly advised. See: https://urllib3.readthedocs.io/en/latest/advanced-usage.html#ssl-warnings\n",
      "  InsecureRequestWarning,\n",
      "/home/dan/src/para/venv/lib/python3.6/site-packages/urllib3/connectionpool.py:1004: InsecureRequestWarning: Unverified HTTPS request is being made. Adding certificate verification is strongly advised. See: https://urllib3.readthedocs.io/en/latest/advanced-usage.html#ssl-warnings\n",
      "  InsecureRequestWarning,\n"
     ]
    },
    {
     "name": "stdout",
     "output_type": "stream",
     "text": [
      "https://nextdoor.com\n",
      "['https://nextdoor.com/', 'https://nextdoor.com/', 'https://nextdoor.nl/', 'https://nextdoor.co.uk/', 'https://nextdoor.de/', 'https://fr.nextdoor.com/', 'https://it.nextdoor.com/', 'https://es.nextdoor.com/', 'https://au.nextdoor.com/', 'https://dk.nextdoor.com/', 'https://se.nextdoor.com/', 'https://ca.nextdoor.com/', 'https://ca.nextdoor.com/', 'https://d19rpgkrjeba2z.cloudfront.net/b9b651cc0b575574/static/nextdoorv2/images/favicons/favicon-v2.ico']\n",
      "https://nextdoor.com\n",
      "https://nextdoor.com['https://nextdoor.com/', 'https://nextdoor.com/', 'https://nextdoor.nl/', 'https://nextdoor.co.uk/', 'https://nextdoor.de/', 'https://fr.nextdoor.com/', 'https://it.nextdoor.com/', 'https://es.nextdoor.com/', 'https://au.nextdoor.com/', 'https://dk.nextdoor.com/', 'https://se.nextdoor.com/', 'https://ca.nextdoor.com/', 'https://ca.nextdoor.com/', 'https://d19rpgkrjeba2z.cloudfront.net/b9b651cc0b575574/static/nextdoorv2/images/favicons/favicon-v2.ico']\n",
      "\n",
      "['https://nextdoor.com/', 'https://nextdoor.com/', 'https://nextdoor.nl/', 'https://nextdoor.co.uk/', 'https://nextdoor.de/', 'https://fr.nextdoor.com/', 'https://it.nextdoor.com/', 'https://es.nextdoor.com/', 'https://au.nextdoor.com/', 'https://dk.nextdoor.com/', 'https://se.nextdoor.com/', 'https://ca.nextdoor.com/', 'https://ca.nextdoor.com/', 'https://d19rpgkrjeba2z.cloudfront.net/b9b651cc0b575574/static/nextdoorv2/images/favicons/favicon-v2.ico']\n",
      "https://nextdoor.com\n",
      "['https://nextdoor.com/', 'https://nextdoor.com/', 'https://nextdoor.nl/', 'https://nextdoor.co.uk/', 'https://nextdoor.de/', 'https://fr.nextdoor.com/', 'https://it.nextdoor.com/', 'https://es.nextdoor.com/', 'https://au.nextdoor.com/', 'https://dk.nextdoor.com/', 'https://se.nextdoor.com/', 'https://ca.nextdoor.com/', 'https://ca.nextdoor.com/', 'https://d19rpgkrjeba2z.cloudfront.net/b9b651cc0b575574/static/nextdoorv2/images/favicons/favicon-v2.ico']\n",
      "https://nextdoor.com\n",
      "['https://nextdoor.com/', 'https://nextdoor.com/', 'https://nextdoor.nl/', 'https://nextdoor.co.uk/', 'https://nextdoor.de/', 'https://fr.nextdoor.com/', 'https://it.nextdoor.com/', 'https://es.nextdoor.com/', 'https://au.nextdoor.com/', 'https://dk.nextdoor.com/', 'https://se.nextdoor.com/', 'https://ca.nextdoor.com/', 'https://ca.nextdoor.com/', 'https://d19rpgkrjeba2z.cloudfront.net/b9b651cc0b575574/static/nextdoorv2/images/favicons/favicon-v2.ico']\n",
      "https://nextdoor.com\n",
      "['https://nextdoor.com/', 'https://nextdoor.com/', 'https://nextdoor.nl/', 'https://nextdoor.co.uk/', 'https://nextdoor.de/', 'https://fr.nextdoor.com/', 'https://it.nextdoor.com/', 'https://es.nextdoor.com/', 'https://au.nextdoor.com/', 'https://dk.nextdoor.com/', 'https://se.nextdoor.com/', 'https://ca.nextdoor.com/', 'https://ca.nextdoor.com/', 'https://d19rpgkrjeba2z.cloudfront.net/b9b651cc0b575574/static/nextdoorv2/images/favicons/favicon-v2.ico']\n"
     ]
    },
    {
     "name": "stderr",
     "output_type": "stream",
     "text": [
      "/home/dan/src/para/venv/lib/python3.6/site-packages/urllib3/connectionpool.py:1004: InsecureRequestWarning: Unverified HTTPS request is being made. Adding certificate verification is strongly advised. See: https://urllib3.readthedocs.io/en/latest/advanced-usage.html#ssl-warnings\n",
      "  InsecureRequestWarning,\n",
      "/home/dan/src/para/venv/lib/python3.6/site-packages/urllib3/connectionpool.py:1004: InsecureRequestWarning: Unverified HTTPS request is being made. Adding certificate verification is strongly advised. See: https://urllib3.readthedocs.io/en/latest/advanced-usage.html#ssl-warnings\n",
      "  InsecureRequestWarning,\n",
      "/home/dan/src/para/venv/lib/python3.6/site-packages/urllib3/connectionpool.py:1004: InsecureRequestWarning: Unverified HTTPS request is being made. Adding certificate verification is strongly advised. See: https://urllib3.readthedocs.io/en/latest/advanced-usage.html#ssl-warnings\n",
      "  InsecureRequestWarning,\n",
      "/home/dan/src/para/venv/lib/python3.6/site-packages/urllib3/connectionpool.py:1004: InsecureRequestWarning: Unverified HTTPS request is being made. Adding certificate verification is strongly advised. See: https://urllib3.readthedocs.io/en/latest/advanced-usage.html#ssl-warnings\n",
      "  InsecureRequestWarning,\n",
      "/home/dan/src/para/venv/lib/python3.6/site-packages/urllib3/connectionpool.py:1004: InsecureRequestWarning: Unverified HTTPS request is being made. Adding certificate verification is strongly advised. See: https://urllib3.readthedocs.io/en/latest/advanced-usage.html#ssl-warnings\n",
      "  InsecureRequestWarning,\n",
      "/home/dan/src/para/venv/lib/python3.6/site-packages/urllib3/connectionpool.py:1004: InsecureRequestWarning: Unverified HTTPS request is being made. Adding certificate verification is strongly advised. See: https://urllib3.readthedocs.io/en/latest/advanced-usage.html#ssl-warnings\n",
      "  InsecureRequestWarning,\n",
      "/home/dan/src/para/venv/lib/python3.6/site-packages/urllib3/connectionpool.py:1004: InsecureRequestWarning: Unverified HTTPS request is being made. Adding certificate verification is strongly advised. See: https://urllib3.readthedocs.io/en/latest/advanced-usage.html#ssl-warnings\n",
      "  InsecureRequestWarning,\n",
      "/home/dan/src/para/venv/lib/python3.6/site-packages/urllib3/connectionpool.py:1004: InsecureRequestWarning: Unverified HTTPS request is being made. Adding certificate verification is strongly advised. See: https://urllib3.readthedocs.io/en/latest/advanced-usage.html#ssl-warnings\n",
      "  InsecureRequestWarning,\n",
      "/home/dan/src/para/venv/lib/python3.6/site-packages/urllib3/connectionpool.py:1004: InsecureRequestWarning: Unverified HTTPS request is being made. Adding certificate verification is strongly advised. See: https://urllib3.readthedocs.io/en/latest/advanced-usage.html#ssl-warnings\n",
      "  InsecureRequestWarning,\n",
      "/home/dan/src/para/venv/lib/python3.6/site-packages/urllib3/connectionpool.py:1004: InsecureRequestWarning: Unverified HTTPS request is being made. Adding certificate verification is strongly advised. See: https://urllib3.readthedocs.io/en/latest/advanced-usage.html#ssl-warnings\n",
      "  InsecureRequestWarning,\n",
      "/home/dan/src/para/venv/lib/python3.6/site-packages/urllib3/connectionpool.py:1004: InsecureRequestWarning: Unverified HTTPS request is being made. Adding certificate verification is strongly advised. See: https://urllib3.readthedocs.io/en/latest/advanced-usage.html#ssl-warnings\n",
      "  InsecureRequestWarning,\n",
      "/home/dan/src/para/venv/lib/python3.6/site-packages/urllib3/connectionpool.py:1004: InsecureRequestWarning: Unverified HTTPS request is being made. Adding certificate verification is strongly advised. See: https://urllib3.readthedocs.io/en/latest/advanced-usage.html#ssl-warnings\n",
      "  InsecureRequestWarning,\n"
     ]
    },
    {
     "name": "stdout",
     "output_type": "stream",
     "text": [
      "https://nextdoor.com['https://nextdoor.com/', 'https://nextdoor.com/', 'https://nextdoor.nl/', 'https://nextdoor.co.uk/', 'https://nextdoor.de/', 'https://fr.nextdoor.com/', 'https://it.nextdoor.com/', 'https://es.nextdoor.com/', 'https://au.nextdoor.com/', 'https://dk.nextdoor.com/', 'https://se.nextdoor.com/', 'https://ca.nextdoor.com/', 'https://ca.nextdoor.com/', 'https://d19rpgkrjeba2z.cloudfront.net/b9b651cc0b575574/static/nextdoorv2/images/favicons/favicon-v2.ico']\n",
      "\n",
      "https://nextdoor.com['https://nextdoor.com/', 'https://nextdoor.com/', 'https://nextdoor.nl/', 'https://nextdoor.co.uk/', 'https://nextdoor.de/', 'https://fr.nextdoor.com/', 'https://it.nextdoor.com/', 'https://es.nextdoor.com/', 'https://au.nextdoor.com/', 'https://dk.nextdoor.com/', 'https://se.nextdoor.com/', 'https://ca.nextdoor.com/', 'https://ca.nextdoor.com/', 'https://d19rpgkrjeba2z.cloudfront.net/b9b651cc0b575574/static/nextdoorv2/images/favicons/favicon-v2.ico']\n",
      "\n",
      "https://nextdoor.comhttps://nextdoor.com\n",
      "\n",
      "['https://nextdoor.com/', 'https://nextdoor.com/', 'https://nextdoor.nl/', 'https://nextdoor.co.uk/', 'https://nextdoor.de/', 'https://fr.nextdoor.com/', 'https://it.nextdoor.com/', 'https://es.nextdoor.com/', 'https://au.nextdoor.com/', 'https://dk.nextdoor.com/', 'https://se.nextdoor.com/', 'https://ca.nextdoor.com/', 'https://ca.nextdoor.com/', 'https://d19rpgkrjeba2z.cloudfront.net/b9b651cc0b575574/static/nextdoorv2/images/favicons/favicon-v2.ico']\n",
      "['https://nextdoor.com/', 'https://nextdoor.com/', 'https://nextdoor.nl/', 'https://nextdoor.co.uk/', 'https://nextdoor.de/', 'https://fr.nextdoor.com/', 'https://it.nextdoor.com/', 'https://es.nextdoor.com/', 'https://au.nextdoor.com/', 'https://dk.nextdoor.com/', 'https://se.nextdoor.com/', 'https://ca.nextdoor.com/', 'https://ca.nextdoor.com/', 'https://d19rpgkrjeba2z.cloudfront.net/b9b651cc0b575574/static/nextdoorv2/images/favicons/favicon-v2.ico']\n",
      "https://nextdoor.com['https://nextdoor.com/', 'https://nextdoor.com/', 'https://nextdoor.nl/', 'https://nextdoor.co.uk/', 'https://nextdoor.de/', 'https://fr.nextdoor.com/', 'https://it.nextdoor.com/', 'https://es.nextdoor.com/', 'https://au.nextdoor.com/', 'https://dk.nextdoor.com/', 'https://se.nextdoor.com/', 'https://ca.nextdoor.com/', 'https://ca.nextdoor.com/', 'https://d19rpgkrjeba2z.cloudfront.net/b9b651cc0b575574/static/nextdoorv2/images/favicons/favicon-v2.ico']\n",
      "\n",
      "https://nextdoor.com['https://nextdoor.com/', 'https://nextdoor.com/', 'https://nextdoor.nl/', 'https://nextdoor.co.uk/', 'https://nextdoor.de/', 'https://fr.nextdoor.com/', 'https://it.nextdoor.com/', 'https://es.nextdoor.com/', 'https://au.nextdoor.com/', 'https://dk.nextdoor.com/', 'https://se.nextdoor.com/', 'https://ca.nextdoor.com/', 'https://ca.nextdoor.com/', 'https://d19rpgkrjeba2z.cloudfront.net/b9b651cc0b575574/static/nextdoorv2/images/favicons/favicon-v2.ico']\n",
      "\n",
      "https://nextdoor.com['https://nextdoor.com/', 'https://nextdoor.com/', 'https://nextdoor.nl/', 'https://nextdoor.co.uk/', 'https://nextdoor.de/', 'https://fr.nextdoor.com/', 'https://it.nextdoor.com/', 'https://es.nextdoor.com/', 'https://au.nextdoor.com/', 'https://dk.nextdoor.com/', 'https://se.nextdoor.com/', 'https://ca.nextdoor.com/', 'https://ca.nextdoor.com/', 'https://d19rpgkrjeba2z.cloudfront.net/b9b651cc0b575574/static/nextdoorv2/images/favicons/favicon-v2.ico']\n",
      "\n",
      "https://nextdoor.com['https://nextdoor.com/', 'https://nextdoor.com/', 'https://nextdoor.nl/', 'https://nextdoor.co.uk/', 'https://nextdoor.de/', 'https://fr.nextdoor.com/', 'https://it.nextdoor.com/', 'https://es.nextdoor.com/', 'https://au.nextdoor.com/', 'https://dk.nextdoor.com/', 'https://se.nextdoor.com/', 'https://ca.nextdoor.com/', 'https://ca.nextdoor.com/', 'https://d19rpgkrjeba2z.cloudfront.net/b9b651cc0b575574/static/nextdoorv2/images/favicons/favicon-v2.ico']\n",
      "\n",
      "https://nextdoor.com['https://nextdoor.com/', 'https://nextdoor.com/', 'https://nextdoor.nl/', 'https://nextdoor.co.uk/', 'https://nextdoor.de/', 'https://fr.nextdoor.com/', 'https://it.nextdoor.com/', 'https://es.nextdoor.com/', 'https://au.nextdoor.com/', 'https://dk.nextdoor.com/', 'https://se.nextdoor.com/', 'https://ca.nextdoor.com/', 'https://ca.nextdoor.com/', 'https://d19rpgkrjeba2z.cloudfront.net/b9b651cc0b575574/static/nextdoorv2/images/favicons/favicon-v2.ico']\n",
      "\n",
      "https://nextdoor.com['https://nextdoor.com/', 'https://nextdoor.com/', 'https://nextdoor.nl/', 'https://nextdoor.co.uk/', 'https://nextdoor.de/', 'https://fr.nextdoor.com/', 'https://it.nextdoor.com/', 'https://es.nextdoor.com/', 'https://au.nextdoor.com/', 'https://dk.nextdoor.com/', 'https://se.nextdoor.com/', 'https://ca.nextdoor.com/', 'https://ca.nextdoor.com/', 'https://d19rpgkrjeba2z.cloudfront.net/b9b651cc0b575574/static/nextdoorv2/images/favicons/favicon-v2.ico']\n",
      "\n"
     ]
    },
    {
     "name": "stderr",
     "output_type": "stream",
     "text": [
      "/home/dan/src/para/venv/lib/python3.6/site-packages/urllib3/connectionpool.py:1004: InsecureRequestWarning: Unverified HTTPS request is being made. Adding certificate verification is strongly advised. See: https://urllib3.readthedocs.io/en/latest/advanced-usage.html#ssl-warnings\n",
      "  InsecureRequestWarning,\n",
      "/home/dan/src/para/venv/lib/python3.6/site-packages/urllib3/connectionpool.py:1004: InsecureRequestWarning: Unverified HTTPS request is being made. Adding certificate verification is strongly advised. See: https://urllib3.readthedocs.io/en/latest/advanced-usage.html#ssl-warnings\n",
      "  InsecureRequestWarning,\n",
      "/home/dan/src/para/venv/lib/python3.6/site-packages/urllib3/connectionpool.py:1004: InsecureRequestWarning: Unverified HTTPS request is being made. Adding certificate verification is strongly advised. See: https://urllib3.readthedocs.io/en/latest/advanced-usage.html#ssl-warnings\n",
      "  InsecureRequestWarning,\n",
      "/home/dan/src/para/venv/lib/python3.6/site-packages/urllib3/connectionpool.py:1004: InsecureRequestWarning: Unverified HTTPS request is being made. Adding certificate verification is strongly advised. See: https://urllib3.readthedocs.io/en/latest/advanced-usage.html#ssl-warnings\n",
      "  InsecureRequestWarning,\n"
     ]
    },
    {
     "name": "stdout",
     "output_type": "stream",
     "text": [
      "https://nextdoor.com['https://nextdoor.com/', 'https://nextdoor.com/', 'https://nextdoor.nl/', 'https://nextdoor.co.uk/', 'https://nextdoor.de/', 'https://fr.nextdoor.com/', 'https://it.nextdoor.com/', 'https://es.nextdoor.com/', 'https://au.nextdoor.com/', 'https://dk.nextdoor.com/', 'https://se.nextdoor.com/', 'https://ca.nextdoor.com/', 'https://ca.nextdoor.com/', 'https://d19rpgkrjeba2z.cloudfront.net/b9b651cc0b575574/static/nextdoorv2/images/favicons/favicon-v2.ico']\n",
      "\n",
      "https://nextdoor.comhttps://nextdoor.com\n",
      "['https://nextdoor.com/', 'https://nextdoor.com/', 'https://nextdoor.nl/', 'https://nextdoor.co.uk/', 'https://nextdoor.de/', 'https://fr.nextdoor.com/', 'https://it.nextdoor.com/', 'https://es.nextdoor.com/', 'https://au.nextdoor.com/', 'https://dk.nextdoor.com/', 'https://se.nextdoor.com/', 'https://ca.nextdoor.com/', 'https://ca.nextdoor.com/', 'https://d19rpgkrjeba2z.cloudfront.net/b9b651cc0b575574/static/nextdoorv2/images/favicons/favicon-v2.ico']\n",
      "\n",
      "['https://nextdoor.com/', 'https://nextdoor.com/', 'https://nextdoor.nl/', 'https://nextdoor.co.uk/', 'https://nextdoor.de/', 'https://fr.nextdoor.com/', 'https://it.nextdoor.com/', 'https://es.nextdoor.com/', 'https://au.nextdoor.com/', 'https://dk.nextdoor.com/', 'https://se.nextdoor.com/', 'https://ca.nextdoor.com/', 'https://ca.nextdoor.com/', 'https://d19rpgkrjeba2z.cloudfront.net/b9b651cc0b575574/static/nextdoorv2/images/favicons/favicon-v2.ico']\n"
     ]
    },
    {
     "name": "stderr",
     "output_type": "stream",
     "text": [
      "/home/dan/src/para/venv/lib/python3.6/site-packages/urllib3/connectionpool.py:1004: InsecureRequestWarning: Unverified HTTPS request is being made. Adding certificate verification is strongly advised. See: https://urllib3.readthedocs.io/en/latest/advanced-usage.html#ssl-warnings\n",
      "  InsecureRequestWarning,\n",
      "/home/dan/src/para/venv/lib/python3.6/site-packages/urllib3/connectionpool.py:1004: InsecureRequestWarning: Unverified HTTPS request is being made. Adding certificate verification is strongly advised. See: https://urllib3.readthedocs.io/en/latest/advanced-usage.html#ssl-warnings\n",
      "  InsecureRequestWarning,\n",
      "/home/dan/src/para/venv/lib/python3.6/site-packages/urllib3/connectionpool.py:1004: InsecureRequestWarning: Unverified HTTPS request is being made. Adding certificate verification is strongly advised. See: https://urllib3.readthedocs.io/en/latest/advanced-usage.html#ssl-warnings\n",
      "  InsecureRequestWarning,\n",
      "/home/dan/src/para/venv/lib/python3.6/site-packages/urllib3/connectionpool.py:1004: InsecureRequestWarning: Unverified HTTPS request is being made. Adding certificate verification is strongly advised. See: https://urllib3.readthedocs.io/en/latest/advanced-usage.html#ssl-warnings\n",
      "  InsecureRequestWarning,\n",
      "/home/dan/src/para/venv/lib/python3.6/site-packages/urllib3/connectionpool.py:1004: InsecureRequestWarning: Unverified HTTPS request is being made. Adding certificate verification is strongly advised. See: https://urllib3.readthedocs.io/en/latest/advanced-usage.html#ssl-warnings\n",
      "  InsecureRequestWarning,\n"
     ]
    },
    {
     "name": "stdout",
     "output_type": "stream",
     "text": [
      "https://nextdoor.com['https://nextdoor.com/', 'https://nextdoor.com/', 'https://nextdoor.nl/', 'https://nextdoor.co.uk/', 'https://nextdoor.de/', 'https://fr.nextdoor.com/', 'https://it.nextdoor.com/', 'https://es.nextdoor.com/', 'https://au.nextdoor.com/', 'https://dk.nextdoor.com/', 'https://se.nextdoor.com/', 'https://ca.nextdoor.com/', 'https://ca.nextdoor.com/', 'https://d19rpgkrjeba2z.cloudfront.net/b9b651cc0b575574/static/nextdoorv2/images/favicons/favicon-v2.ico']\n",
      "\n",
      "https://nextdoor.com['https://nextdoor.com/', 'https://nextdoor.com/', 'https://nextdoor.nl/', 'https://nextdoor.co.uk/', 'https://nextdoor.de/', 'https://fr.nextdoor.com/', 'https://it.nextdoor.com/', 'https://es.nextdoor.com/', 'https://au.nextdoor.com/', 'https://dk.nextdoor.com/', 'https://se.nextdoor.com/', 'https://ca.nextdoor.com/', 'https://ca.nextdoor.com/', 'https://d19rpgkrjeba2z.cloudfront.net/b9b651cc0b575574/static/nextdoorv2/images/favicons/favicon-v2.ico']\n",
      "\n",
      "https://nextdoor.com['https://nextdoor.com/', 'https://nextdoor.com/', 'https://nextdoor.nl/', 'https://nextdoor.co.uk/', 'https://nextdoor.de/', 'https://fr.nextdoor.com/', 'https://it.nextdoor.com/', 'https://es.nextdoor.com/', 'https://au.nextdoor.com/', 'https://dk.nextdoor.com/', 'https://se.nextdoor.com/', 'https://ca.nextdoor.com/', 'https://ca.nextdoor.com/', 'https://d19rpgkrjeba2z.cloudfront.net/b9b651cc0b575574/static/nextdoorv2/images/favicons/favicon-v2.ico']\n",
      "\n",
      "https://nextdoor.com\n",
      "['https://nextdoor.com/', 'https://nextdoor.com/', 'https://nextdoor.nl/', 'https://nextdoor.co.uk/', 'https://nextdoor.de/', 'https://fr.nextdoor.com/', 'https://it.nextdoor.com/', 'https://es.nextdoor.com/', 'https://au.nextdoor.com/', 'https://dk.nextdoor.com/', 'https://se.nextdoor.com/', 'https://ca.nextdoor.com/', 'https://ca.nextdoor.com/', 'https://d19rpgkrjeba2z.cloudfront.net/b9b651cc0b575574/static/nextdoorv2/images/favicons/favicon-v2.ico']\n"
     ]
    },
    {
     "name": "stderr",
     "output_type": "stream",
     "text": [
      "/home/dan/src/para/venv/lib/python3.6/site-packages/urllib3/connectionpool.py:1004: InsecureRequestWarning: Unverified HTTPS request is being made. Adding certificate verification is strongly advised. See: https://urllib3.readthedocs.io/en/latest/advanced-usage.html#ssl-warnings\n",
      "  InsecureRequestWarning,\n",
      "/home/dan/src/para/venv/lib/python3.6/site-packages/urllib3/connectionpool.py:1004: InsecureRequestWarning: Unverified HTTPS request is being made. Adding certificate verification is strongly advised. See: https://urllib3.readthedocs.io/en/latest/advanced-usage.html#ssl-warnings\n",
      "  InsecureRequestWarning,\n",
      "/home/dan/src/para/venv/lib/python3.6/site-packages/urllib3/connectionpool.py:1004: InsecureRequestWarning: Unverified HTTPS request is being made. Adding certificate verification is strongly advised. See: https://urllib3.readthedocs.io/en/latest/advanced-usage.html#ssl-warnings\n",
      "  InsecureRequestWarning,\n"
     ]
    },
    {
     "name": "stdout",
     "output_type": "stream",
     "text": [
      "https://nextdoor.com['https://nextdoor.com/', 'https://nextdoor.com/', 'https://nextdoor.nl/', 'https://nextdoor.co.uk/', 'https://nextdoor.de/', 'https://fr.nextdoor.com/', 'https://it.nextdoor.com/', 'https://es.nextdoor.com/', 'https://au.nextdoor.com/', 'https://dk.nextdoor.com/', 'https://se.nextdoor.com/', 'https://ca.nextdoor.com/', 'https://ca.nextdoor.com/', 'https://d19rpgkrjeba2z.cloudfront.net/b9b651cc0b575574/static/nextdoorv2/images/favicons/favicon-v2.ico']\n",
      "\n",
      "https://nextdoor.com['https://nextdoor.com/', 'https://nextdoor.com/', 'https://nextdoor.nl/', 'https://nextdoor.co.uk/', 'https://nextdoor.de/', 'https://fr.nextdoor.com/', 'https://it.nextdoor.com/', 'https://es.nextdoor.com/', 'https://au.nextdoor.com/', 'https://dk.nextdoor.com/', 'https://se.nextdoor.com/', 'https://ca.nextdoor.com/', 'https://ca.nextdoor.com/', 'https://d19rpgkrjeba2z.cloudfront.net/b9b651cc0b575574/static/nextdoorv2/images/favicons/favicon-v2.ico']\n",
      "\n",
      "https://nextdoor.com['https://nextdoor.com/', 'https://nextdoor.com/', 'https://nextdoor.nl/', 'https://nextdoor.co.uk/', 'https://nextdoor.de/', 'https://fr.nextdoor.com/', 'https://it.nextdoor.com/', 'https://es.nextdoor.com/', 'https://au.nextdoor.com/', 'https://dk.nextdoor.com/', 'https://se.nextdoor.com/', 'https://ca.nextdoor.com/', 'https://ca.nextdoor.com/', 'https://d19rpgkrjeba2z.cloudfront.net/b9b651cc0b575574/static/nextdoorv2/images/favicons/favicon-v2.ico']\n",
      "\n",
      "https://nextdoor.com['https://nextdoor.com/', 'https://nextdoor.com/', 'https://nextdoor.nl/', 'https://nextdoor.co.uk/', 'https://nextdoor.de/', 'https://fr.nextdoor.com/', 'https://it.nextdoor.com/', 'https://es.nextdoor.com/', 'https://au.nextdoor.com/', 'https://dk.nextdoor.com/', 'https://se.nextdoor.com/', 'https://ca.nextdoor.com/', 'https://ca.nextdoor.com/', 'https://d19rpgkrjeba2z.cloudfront.net/b9b651cc0b575574/static/nextdoorv2/images/favicons/favicon-v2.ico']\n",
      "\n",
      "https://nextdoor.com['https://nextdoor.com/', 'https://nextdoor.com/', 'https://nextdoor.nl/', 'https://nextdoor.co.uk/', 'https://nextdoor.de/', 'https://fr.nextdoor.com/', 'https://it.nextdoor.com/', 'https://es.nextdoor.com/', 'https://au.nextdoor.com/', 'https://dk.nextdoor.com/', 'https://se.nextdoor.com/', 'https://ca.nextdoor.com/', 'https://ca.nextdoor.com/', 'https://d19rpgkrjeba2z.cloudfront.net/b9b651cc0b575574/static/nextdoorv2/images/favicons/favicon-v2.ico']\n",
      "\n"
     ]
    },
    {
     "name": "stderr",
     "output_type": "stream",
     "text": [
      "/home/dan/src/para/venv/lib/python3.6/site-packages/urllib3/connectionpool.py:1004: InsecureRequestWarning: Unverified HTTPS request is being made. Adding certificate verification is strongly advised. See: https://urllib3.readthedocs.io/en/latest/advanced-usage.html#ssl-warnings\n",
      "  InsecureRequestWarning,\n",
      "/home/dan/src/para/venv/lib/python3.6/site-packages/urllib3/connectionpool.py:1004: InsecureRequestWarning: Unverified HTTPS request is being made. Adding certificate verification is strongly advised. See: https://urllib3.readthedocs.io/en/latest/advanced-usage.html#ssl-warnings\n",
      "  InsecureRequestWarning,\n",
      "/home/dan/src/para/venv/lib/python3.6/site-packages/urllib3/connectionpool.py:1004: InsecureRequestWarning: Unverified HTTPS request is being made. Adding certificate verification is strongly advised. See: https://urllib3.readthedocs.io/en/latest/advanced-usage.html#ssl-warnings\n",
      "  InsecureRequestWarning,\n",
      "/home/dan/src/para/venv/lib/python3.6/site-packages/urllib3/connectionpool.py:1004: InsecureRequestWarning: Unverified HTTPS request is being made. Adding certificate verification is strongly advised. See: https://urllib3.readthedocs.io/en/latest/advanced-usage.html#ssl-warnings\n",
      "  InsecureRequestWarning,\n",
      "/home/dan/src/para/venv/lib/python3.6/site-packages/urllib3/connectionpool.py:1004: InsecureRequestWarning: Unverified HTTPS request is being made. Adding certificate verification is strongly advised. See: https://urllib3.readthedocs.io/en/latest/advanced-usage.html#ssl-warnings\n",
      "  InsecureRequestWarning,\n",
      "/home/dan/src/para/venv/lib/python3.6/site-packages/urllib3/connectionpool.py:1004: InsecureRequestWarning: Unverified HTTPS request is being made. Adding certificate verification is strongly advised. See: https://urllib3.readthedocs.io/en/latest/advanced-usage.html#ssl-warnings\n",
      "  InsecureRequestWarning,\n",
      "/home/dan/src/para/venv/lib/python3.6/site-packages/urllib3/connectionpool.py:1004: InsecureRequestWarning: Unverified HTTPS request is being made. Adding certificate verification is strongly advised. See: https://urllib3.readthedocs.io/en/latest/advanced-usage.html#ssl-warnings\n",
      "  InsecureRequestWarning,\n",
      "/home/dan/src/para/venv/lib/python3.6/site-packages/urllib3/connectionpool.py:1004: InsecureRequestWarning: Unverified HTTPS request is being made. Adding certificate verification is strongly advised. See: https://urllib3.readthedocs.io/en/latest/advanced-usage.html#ssl-warnings\n",
      "  InsecureRequestWarning,\n",
      "/home/dan/src/para/venv/lib/python3.6/site-packages/urllib3/connectionpool.py:1004: InsecureRequestWarning: Unverified HTTPS request is being made. Adding certificate verification is strongly advised. See: https://urllib3.readthedocs.io/en/latest/advanced-usage.html#ssl-warnings\n",
      "  InsecureRequestWarning,\n"
     ]
    },
    {
     "name": "stdout",
     "output_type": "stream",
     "text": [
      "https://nextdoor.com['https://nextdoor.com/', 'https://nextdoor.com/', 'https://nextdoor.nl/', 'https://nextdoor.co.uk/', 'https://nextdoor.de/', 'https://fr.nextdoor.com/', 'https://it.nextdoor.com/', 'https://es.nextdoor.com/', 'https://au.nextdoor.com/', 'https://dk.nextdoor.com/', 'https://se.nextdoor.com/', 'https://ca.nextdoor.com/', 'https://ca.nextdoor.com/', 'https://d19rpgkrjeba2z.cloudfront.net/b9b651cc0b575574/static/nextdoorv2/images/favicons/favicon-v2.ico']\n",
      "\n",
      "https://nextdoor.com['https://nextdoor.com/', 'https://nextdoor.com/', 'https://nextdoor.nl/', 'https://nextdoor.co.uk/', 'https://nextdoor.de/', 'https://fr.nextdoor.com/', 'https://it.nextdoor.com/', 'https://es.nextdoor.com/', 'https://au.nextdoor.com/', 'https://dk.nextdoor.com/', 'https://se.nextdoor.com/', 'https://ca.nextdoor.com/', 'https://ca.nextdoor.com/', 'https://d19rpgkrjeba2z.cloudfront.net/b9b651cc0b575574/static/nextdoorv2/images/favicons/favicon-v2.ico']\n",
      "\n"
     ]
    },
    {
     "name": "stderr",
     "output_type": "stream",
     "text": [
      "/home/dan/src/para/venv/lib/python3.6/site-packages/urllib3/connectionpool.py:1004: InsecureRequestWarning: Unverified HTTPS request is being made. Adding certificate verification is strongly advised. See: https://urllib3.readthedocs.io/en/latest/advanced-usage.html#ssl-warnings\n",
      "  InsecureRequestWarning,\n",
      "/home/dan/src/para/venv/lib/python3.6/site-packages/urllib3/connectionpool.py:1004: InsecureRequestWarning: Unverified HTTPS request is being made. Adding certificate verification is strongly advised. See: https://urllib3.readthedocs.io/en/latest/advanced-usage.html#ssl-warnings\n",
      "  InsecureRequestWarning,\n"
     ]
    },
    {
     "name": "stdout",
     "output_type": "stream",
     "text": [
      "https://nextdoor.com['https://nextdoor.com/', 'https://nextdoor.com/', 'https://nextdoor.nl/', 'https://nextdoor.co.uk/', 'https://nextdoor.de/', 'https://fr.nextdoor.com/', 'https://it.nextdoor.com/', 'https://es.nextdoor.com/', 'https://au.nextdoor.com/', 'https://dk.nextdoor.com/', 'https://se.nextdoor.com/', 'https://ca.nextdoor.com/', 'https://ca.nextdoor.com/', 'https://d19rpgkrjeba2z.cloudfront.net/b9b651cc0b575574/static/nextdoorv2/images/favicons/favicon-v2.ico']\n",
      "\n",
      "https://nextdoor.com['https://nextdoor.com/', 'https://nextdoor.com/', 'https://nextdoor.nl/', 'https://nextdoor.co.uk/', 'https://nextdoor.de/', 'https://fr.nextdoor.com/', 'https://it.nextdoor.com/', 'https://es.nextdoor.com/', 'https://au.nextdoor.com/', 'https://dk.nextdoor.com/', 'https://se.nextdoor.com/', 'https://ca.nextdoor.com/', 'https://ca.nextdoor.com/', 'https://d19rpgkrjeba2z.cloudfront.net/b9b651cc0b575574/static/nextdoorv2/images/favicons/favicon-v2.ico']\n",
      "\n",
      "https://nextdoor.com['https://nextdoor.com/', 'https://nextdoor.com/', 'https://nextdoor.nl/', 'https://nextdoor.co.uk/', 'https://nextdoor.de/', 'https://fr.nextdoor.com/', 'https://it.nextdoor.com/', 'https://es.nextdoor.com/', 'https://au.nextdoor.com/', 'https://dk.nextdoor.com/', 'https://se.nextdoor.com/', 'https://ca.nextdoor.com/', 'https://ca.nextdoor.com/', 'https://d19rpgkrjeba2z.cloudfront.net/b9b651cc0b575574/static/nextdoorv2/images/favicons/favicon-v2.ico']\n",
      "\n",
      "https://nextdoor.com\n",
      "['https://nextdoor.com/', 'https://nextdoor.com/', 'https://nextdoor.nl/', 'https://nextdoor.co.uk/', 'https://nextdoor.de/', 'https://fr.nextdoor.com/', 'https://it.nextdoor.com/', 'https://es.nextdoor.com/', 'https://au.nextdoor.com/', 'https://dk.nextdoor.com/', 'https://se.nextdoor.com/', 'https://ca.nextdoor.com/', 'https://ca.nextdoor.com/', 'https://d19rpgkrjeba2z.cloudfront.net/b9b651cc0b575574/static/nextdoorv2/images/favicons/favicon-v2.ico']\n",
      "https://nextdoor.com\n",
      "['https://nextdoor.com/', 'https://nextdoor.com/', 'https://nextdoor.nl/', 'https://nextdoor.co.uk/', 'https://nextdoor.de/', 'https://fr.nextdoor.com/', 'https://it.nextdoor.com/', 'https://es.nextdoor.com/', 'https://au.nextdoor.com/', 'https://dk.nextdoor.com/', 'https://se.nextdoor.com/', 'https://ca.nextdoor.com/', 'https://ca.nextdoor.com/', 'https://d19rpgkrjeba2z.cloudfront.net/b9b651cc0b575574/static/nextdoorv2/images/favicons/favicon-v2.ico']\n"
     ]
    },
    {
     "name": "stderr",
     "output_type": "stream",
     "text": [
      "/home/dan/src/para/venv/lib/python3.6/site-packages/urllib3/connectionpool.py:1004: InsecureRequestWarning: Unverified HTTPS request is being made. Adding certificate verification is strongly advised. See: https://urllib3.readthedocs.io/en/latest/advanced-usage.html#ssl-warnings\n",
      "  InsecureRequestWarning,\n",
      "/home/dan/src/para/venv/lib/python3.6/site-packages/urllib3/connectionpool.py:1004: InsecureRequestWarning: Unverified HTTPS request is being made. Adding certificate verification is strongly advised. See: https://urllib3.readthedocs.io/en/latest/advanced-usage.html#ssl-warnings\n",
      "  InsecureRequestWarning,\n",
      "/home/dan/src/para/venv/lib/python3.6/site-packages/urllib3/connectionpool.py:1004: InsecureRequestWarning: Unverified HTTPS request is being made. Adding certificate verification is strongly advised. See: https://urllib3.readthedocs.io/en/latest/advanced-usage.html#ssl-warnings\n",
      "  InsecureRequestWarning,\n"
     ]
    },
    {
     "name": "stdout",
     "output_type": "stream",
     "text": [
      "https://nextdoor.com['https://nextdoor.com/', 'https://nextdoor.com/', 'https://nextdoor.nl/', 'https://nextdoor.co.uk/', 'https://nextdoor.de/', 'https://fr.nextdoor.com/', 'https://it.nextdoor.com/', 'https://es.nextdoor.com/', 'https://au.nextdoor.com/', 'https://dk.nextdoor.com/', 'https://se.nextdoor.com/', 'https://ca.nextdoor.com/', 'https://ca.nextdoor.com/', 'https://d19rpgkrjeba2z.cloudfront.net/b9b651cc0b575574/static/nextdoorv2/images/favicons/favicon-v2.ico']\n",
      "\n",
      "https://nextdoor.comhttps://nextdoor.com['https://nextdoor.com/', 'https://nextdoor.com/', 'https://nextdoor.nl/', 'https://nextdoor.co.uk/', 'https://nextdoor.de/', 'https://fr.nextdoor.com/', 'https://it.nextdoor.com/', 'https://es.nextdoor.com/', 'https://au.nextdoor.com/', 'https://dk.nextdoor.com/', 'https://se.nextdoor.com/', 'https://ca.nextdoor.com/', 'https://ca.nextdoor.com/', 'https://d19rpgkrjeba2z.cloudfront.net/b9b651cc0b575574/static/nextdoorv2/images/favicons/favicon-v2.ico']\n",
      "\n",
      "\n",
      "['https://nextdoor.com/', 'https://nextdoor.com/', 'https://nextdoor.nl/', 'https://nextdoor.co.uk/', 'https://nextdoor.de/', 'https://fr.nextdoor.com/', 'https://it.nextdoor.com/', 'https://es.nextdoor.com/', 'https://au.nextdoor.com/', 'https://dk.nextdoor.com/', 'https://se.nextdoor.com/', 'https://ca.nextdoor.com/', 'https://ca.nextdoor.com/', 'https://d19rpgkrjeba2z.cloudfront.net/b9b651cc0b575574/static/nextdoorv2/images/favicons/favicon-v2.ico']\n",
      "https://nextdoor.com['https://nextdoor.com/', 'https://nextdoor.com/', 'https://nextdoor.nl/', 'https://nextdoor.co.uk/', 'https://nextdoor.de/', 'https://fr.nextdoor.com/', 'https://it.nextdoor.com/', 'https://es.nextdoor.com/', 'https://au.nextdoor.com/', 'https://dk.nextdoor.com/', 'https://se.nextdoor.com/', 'https://ca.nextdoor.com/', 'https://ca.nextdoor.com/', 'https://d19rpgkrjeba2z.cloudfront.net/b9b651cc0b575574/static/nextdoorv2/images/favicons/favicon-v2.ico']\n",
      "\n",
      "https://nextdoor.com['https://nextdoor.com/', 'https://nextdoor.com/', 'https://nextdoor.nl/', 'https://nextdoor.co.uk/', 'https://nextdoor.de/', 'https://fr.nextdoor.com/', 'https://it.nextdoor.com/', 'https://es.nextdoor.com/', 'https://au.nextdoor.com/', 'https://dk.nextdoor.com/', 'https://se.nextdoor.com/', 'https://ca.nextdoor.com/', 'https://ca.nextdoor.com/', 'https://d19rpgkrjeba2z.cloudfront.net/b9b651cc0b575574/static/nextdoorv2/images/favicons/favicon-v2.ico']\n",
      "\n",
      "https://nextdoor.com['https://nextdoor.com/', 'https://nextdoor.com/', 'https://nextdoor.nl/', 'https://nextdoor.co.uk/', 'https://nextdoor.de/', 'https://fr.nextdoor.com/', 'https://it.nextdoor.com/', 'https://es.nextdoor.com/', 'https://au.nextdoor.com/', 'https://dk.nextdoor.com/', 'https://se.nextdoor.com/', 'https://ca.nextdoor.com/', 'https://ca.nextdoor.com/', 'https://d19rpgkrjeba2z.cloudfront.net/b9b651cc0b575574/static/nextdoorv2/images/favicons/favicon-v2.ico']\n",
      "\n",
      "https://nextdoor.com['https://nextdoor.com/', 'https://nextdoor.com/', 'https://nextdoor.nl/', 'https://nextdoor.co.uk/', 'https://nextdoor.de/', 'https://fr.nextdoor.com/', 'https://it.nextdoor.com/', 'https://es.nextdoor.com/', 'https://au.nextdoor.com/', 'https://dk.nextdoor.com/', 'https://se.nextdoor.com/', 'https://ca.nextdoor.com/', 'https://ca.nextdoor.com/', 'https://d19rpgkrjeba2z.cloudfront.net/b9b651cc0b575574/static/nextdoorv2/images/favicons/favicon-v2.ico']\n",
      "\n"
     ]
    },
    {
     "name": "stderr",
     "output_type": "stream",
     "text": [
      "/home/dan/src/para/venv/lib/python3.6/site-packages/urllib3/connectionpool.py:1004: InsecureRequestWarning: Unverified HTTPS request is being made. Adding certificate verification is strongly advised. See: https://urllib3.readthedocs.io/en/latest/advanced-usage.html#ssl-warnings\n",
      "  InsecureRequestWarning,\n",
      "/home/dan/src/para/venv/lib/python3.6/site-packages/urllib3/connectionpool.py:1004: InsecureRequestWarning: Unverified HTTPS request is being made. Adding certificate verification is strongly advised. See: https://urllib3.readthedocs.io/en/latest/advanced-usage.html#ssl-warnings\n",
      "  InsecureRequestWarning,\n",
      "/home/dan/src/para/venv/lib/python3.6/site-packages/urllib3/connectionpool.py:1004: InsecureRequestWarning: Unverified HTTPS request is being made. Adding certificate verification is strongly advised. See: https://urllib3.readthedocs.io/en/latest/advanced-usage.html#ssl-warnings\n",
      "  InsecureRequestWarning,\n",
      "/home/dan/src/para/venv/lib/python3.6/site-packages/urllib3/connectionpool.py:1004: InsecureRequestWarning: Unverified HTTPS request is being made. Adding certificate verification is strongly advised. See: https://urllib3.readthedocs.io/en/latest/advanced-usage.html#ssl-warnings\n",
      "  InsecureRequestWarning,\n",
      "/home/dan/src/para/venv/lib/python3.6/site-packages/urllib3/connectionpool.py:1004: InsecureRequestWarning: Unverified HTTPS request is being made. Adding certificate verification is strongly advised. See: https://urllib3.readthedocs.io/en/latest/advanced-usage.html#ssl-warnings\n",
      "  InsecureRequestWarning,\n",
      "/home/dan/src/para/venv/lib/python3.6/site-packages/urllib3/connectionpool.py:1004: InsecureRequestWarning: Unverified HTTPS request is being made. Adding certificate verification is strongly advised. See: https://urllib3.readthedocs.io/en/latest/advanced-usage.html#ssl-warnings\n",
      "  InsecureRequestWarning,\n"
     ]
    },
    {
     "name": "stdout",
     "output_type": "stream",
     "text": [
      "https://nextdoor.com['https://nextdoor.com/', 'https://nextdoor.com/', 'https://nextdoor.nl/', 'https://nextdoor.co.uk/', 'https://nextdoor.de/', 'https://fr.nextdoor.com/', 'https://it.nextdoor.com/', 'https://es.nextdoor.com/', 'https://au.nextdoor.com/', 'https://dk.nextdoor.com/', 'https://se.nextdoor.com/', 'https://ca.nextdoor.com/', 'https://ca.nextdoor.com/', 'https://d19rpgkrjeba2z.cloudfront.net/b9b651cc0b575574/static/nextdoorv2/images/favicons/favicon-v2.ico']\n",
      "\n",
      "https://nextdoor.com['https://nextdoor.com/', 'https://nextdoor.com/', 'https://nextdoor.nl/', 'https://nextdoor.co.uk/', 'https://nextdoor.de/', 'https://fr.nextdoor.com/', 'https://it.nextdoor.com/', 'https://es.nextdoor.com/', 'https://au.nextdoor.com/', 'https://dk.nextdoor.com/', 'https://se.nextdoor.com/', 'https://ca.nextdoor.com/', 'https://ca.nextdoor.com/', 'https://d19rpgkrjeba2z.cloudfront.net/b9b651cc0b575574/static/nextdoorv2/images/favicons/favicon-v2.ico']\n",
      "\n"
     ]
    },
    {
     "name": "stderr",
     "output_type": "stream",
     "text": [
      "/home/dan/src/para/venv/lib/python3.6/site-packages/urllib3/connectionpool.py:1004: InsecureRequestWarning: Unverified HTTPS request is being made. Adding certificate verification is strongly advised. See: https://urllib3.readthedocs.io/en/latest/advanced-usage.html#ssl-warnings\n",
      "  InsecureRequestWarning,\n",
      "/home/dan/src/para/venv/lib/python3.6/site-packages/urllib3/connectionpool.py:1004: InsecureRequestWarning: Unverified HTTPS request is being made. Adding certificate verification is strongly advised. See: https://urllib3.readthedocs.io/en/latest/advanced-usage.html#ssl-warnings\n",
      "  InsecureRequestWarning,\n"
     ]
    },
    {
     "name": "stdout",
     "output_type": "stream",
     "text": [
      "https://nextdoor.com['https://nextdoor.com/', 'https://nextdoor.com/', 'https://nextdoor.nl/', 'https://nextdoor.co.uk/', 'https://nextdoor.de/', 'https://fr.nextdoor.com/', 'https://it.nextdoor.com/', 'https://es.nextdoor.com/', 'https://au.nextdoor.com/', 'https://dk.nextdoor.com/', 'https://se.nextdoor.com/', 'https://ca.nextdoor.com/', 'https://ca.nextdoor.com/', 'https://d19rpgkrjeba2z.cloudfront.net/b9b651cc0b575574/static/nextdoorv2/images/favicons/favicon-v2.ico']\n",
      "\n",
      "https://nextdoor.com\n",
      "['https://nextdoor.com/', 'https://nextdoor.com/', 'https://nextdoor.nl/', 'https://nextdoor.co.uk/', 'https://nextdoor.de/', 'https://fr.nextdoor.com/', 'https://it.nextdoor.com/', 'https://es.nextdoor.com/', 'https://au.nextdoor.com/', 'https://dk.nextdoor.com/', 'https://se.nextdoor.com/', 'https://ca.nextdoor.com/', 'https://ca.nextdoor.com/', 'https://d19rpgkrjeba2z.cloudfront.net/b9b651cc0b575574/static/nextdoorv2/images/favicons/favicon-v2.ico']\n",
      "https://nextdoor.com\n",
      "['https://nextdoor.com/', 'https://nextdoor.com/', 'https://nextdoor.nl/', 'https://nextdoor.co.uk/', 'https://nextdoor.de/', 'https://fr.nextdoor.com/', 'https://it.nextdoor.com/', 'https://es.nextdoor.com/', 'https://au.nextdoor.com/', 'https://dk.nextdoor.com/', 'https://se.nextdoor.com/', 'https://ca.nextdoor.com/', 'https://ca.nextdoor.com/', 'https://d19rpgkrjeba2z.cloudfront.net/b9b651cc0b575574/static/nextdoorv2/images/favicons/favicon-v2.ico']\n"
     ]
    },
    {
     "name": "stderr",
     "output_type": "stream",
     "text": [
      "/home/dan/src/para/venv/lib/python3.6/site-packages/urllib3/connectionpool.py:1004: InsecureRequestWarning: Unverified HTTPS request is being made. Adding certificate verification is strongly advised. See: https://urllib3.readthedocs.io/en/latest/advanced-usage.html#ssl-warnings\n",
      "  InsecureRequestWarning,\n",
      "/home/dan/src/para/venv/lib/python3.6/site-packages/urllib3/connectionpool.py:1004: InsecureRequestWarning: Unverified HTTPS request is being made. Adding certificate verification is strongly advised. See: https://urllib3.readthedocs.io/en/latest/advanced-usage.html#ssl-warnings\n",
      "  InsecureRequestWarning,\n",
      "/home/dan/src/para/venv/lib/python3.6/site-packages/urllib3/connectionpool.py:1004: InsecureRequestWarning: Unverified HTTPS request is being made. Adding certificate verification is strongly advised. See: https://urllib3.readthedocs.io/en/latest/advanced-usage.html#ssl-warnings\n",
      "  InsecureRequestWarning,\n",
      "/home/dan/src/para/venv/lib/python3.6/site-packages/urllib3/connectionpool.py:1004: InsecureRequestWarning: Unverified HTTPS request is being made. Adding certificate verification is strongly advised. See: https://urllib3.readthedocs.io/en/latest/advanced-usage.html#ssl-warnings\n",
      "  InsecureRequestWarning,\n",
      "/home/dan/src/para/venv/lib/python3.6/site-packages/urllib3/connectionpool.py:1004: InsecureRequestWarning: Unverified HTTPS request is being made. Adding certificate verification is strongly advised. See: https://urllib3.readthedocs.io/en/latest/advanced-usage.html#ssl-warnings\n",
      "  InsecureRequestWarning,\n",
      "/home/dan/src/para/venv/lib/python3.6/site-packages/urllib3/connectionpool.py:1004: InsecureRequestWarning: Unverified HTTPS request is being made. Adding certificate verification is strongly advised. See: https://urllib3.readthedocs.io/en/latest/advanced-usage.html#ssl-warnings\n",
      "  InsecureRequestWarning,\n",
      "/home/dan/src/para/venv/lib/python3.6/site-packages/urllib3/connectionpool.py:1004: InsecureRequestWarning: Unverified HTTPS request is being made. Adding certificate verification is strongly advised. See: https://urllib3.readthedocs.io/en/latest/advanced-usage.html#ssl-warnings\n",
      "  InsecureRequestWarning,\n",
      "/home/dan/src/para/venv/lib/python3.6/site-packages/urllib3/connectionpool.py:1004: InsecureRequestWarning: Unverified HTTPS request is being made. Adding certificate verification is strongly advised. See: https://urllib3.readthedocs.io/en/latest/advanced-usage.html#ssl-warnings\n",
      "  InsecureRequestWarning,\n",
      "/home/dan/src/para/venv/lib/python3.6/site-packages/urllib3/connectionpool.py:1004: InsecureRequestWarning: Unverified HTTPS request is being made. Adding certificate verification is strongly advised. See: https://urllib3.readthedocs.io/en/latest/advanced-usage.html#ssl-warnings\n",
      "  InsecureRequestWarning,\n",
      "/home/dan/src/para/venv/lib/python3.6/site-packages/urllib3/connectionpool.py:1004: InsecureRequestWarning: Unverified HTTPS request is being made. Adding certificate verification is strongly advised. See: https://urllib3.readthedocs.io/en/latest/advanced-usage.html#ssl-warnings\n",
      "  InsecureRequestWarning,\n"
     ]
    },
    {
     "name": "stdout",
     "output_type": "stream",
     "text": [
      "https://nextdoor.com['https://nextdoor.com/', 'https://nextdoor.com/', 'https://nextdoor.nl/', 'https://nextdoor.co.uk/', 'https://nextdoor.de/', 'https://fr.nextdoor.com/', 'https://it.nextdoor.com/', 'https://es.nextdoor.com/', 'https://au.nextdoor.com/', 'https://dk.nextdoor.com/', 'https://se.nextdoor.com/', 'https://ca.nextdoor.com/', 'https://ca.nextdoor.com/', 'https://d19rpgkrjeba2z.cloudfront.net/b9b651cc0b575574/static/nextdoorv2/images/favicons/favicon-v2.ico']https://nextdoor.com\n",
      "\n",
      "['https://nextdoor.com/', 'https://nextdoor.com/', 'https://nextdoor.nl/', 'https://nextdoor.co.uk/', 'https://nextdoor.de/', 'https://fr.nextdoor.com/', 'https://it.nextdoor.com/', 'https://es.nextdoor.com/', 'https://au.nextdoor.com/', 'https://dk.nextdoor.com/', 'https://se.nextdoor.com/', 'https://ca.nextdoor.com/', 'https://ca.nextdoor.com/', 'https://d19rpgkrjeba2z.cloudfront.net/b9b651cc0b575574/static/nextdoorv2/images/favicons/favicon-v2.ico']\n",
      "\n",
      "https://nextdoor.com\n",
      "['https://nextdoor.com/', 'https://nextdoor.com/', 'https://nextdoor.nl/', 'https://nextdoor.co.uk/', 'https://nextdoor.de/', 'https://fr.nextdoor.com/', 'https://it.nextdoor.com/', 'https://es.nextdoor.com/', 'https://au.nextdoor.com/', 'https://dk.nextdoor.com/', 'https://se.nextdoor.com/', 'https://ca.nextdoor.com/', 'https://ca.nextdoor.com/', 'https://d19rpgkrjeba2z.cloudfront.net/b9b651cc0b575574/static/nextdoorv2/images/favicons/favicon-v2.ico']\n",
      "https://nextdoor.com\n",
      "['https://nextdoor.com/', 'https://nextdoor.com/', 'https://nextdoor.nl/', 'https://nextdoor.co.uk/', 'https://nextdoor.de/', 'https://fr.nextdoor.com/', 'https://it.nextdoor.com/', 'https://es.nextdoor.com/', 'https://au.nextdoor.com/', 'https://dk.nextdoor.com/', 'https://se.nextdoor.com/', 'https://ca.nextdoor.com/', 'https://ca.nextdoor.com/', 'https://d19rpgkrjeba2z.cloudfront.net/b9b651cc0b575574/static/nextdoorv2/images/favicons/favicon-v2.ico']\n",
      "https://nextdoor.com['https://nextdoor.com/', 'https://nextdoor.com/', 'https://nextdoor.nl/', 'https://nextdoor.co.uk/', 'https://nextdoor.de/', 'https://fr.nextdoor.com/', 'https://it.nextdoor.com/', 'https://es.nextdoor.com/', 'https://au.nextdoor.com/', 'https://dk.nextdoor.com/', 'https://se.nextdoor.com/', 'https://ca.nextdoor.com/', 'https://ca.nextdoor.com/', 'https://d19rpgkrjeba2z.cloudfront.net/b9b651cc0b575574/static/nextdoorv2/images/favicons/favicon-v2.ico']\n",
      "\n",
      "https://nextdoor.com['https://nextdoor.com/', 'https://nextdoor.com/', 'https://nextdoor.nl/', 'https://nextdoor.co.uk/', 'https://nextdoor.de/', 'https://fr.nextdoor.com/', 'https://it.nextdoor.com/', 'https://es.nextdoor.com/', 'https://au.nextdoor.com/', 'https://dk.nextdoor.com/', 'https://se.nextdoor.com/', 'https://ca.nextdoor.com/', 'https://ca.nextdoor.com/', 'https://d19rpgkrjeba2z.cloudfront.net/b9b651cc0b575574/static/nextdoorv2/images/favicons/favicon-v2.ico']\n",
      "\n",
      "https://nextdoor.com['https://nextdoor.com/', 'https://nextdoor.com/', 'https://nextdoor.nl/', 'https://nextdoor.co.uk/', 'https://nextdoor.de/', 'https://fr.nextdoor.com/', 'https://it.nextdoor.com/', 'https://es.nextdoor.com/', 'https://au.nextdoor.com/', 'https://dk.nextdoor.com/', 'https://se.nextdoor.com/', 'https://ca.nextdoor.com/', 'https://ca.nextdoor.com/', 'https://d19rpgkrjeba2z.cloudfront.net/b9b651cc0b575574/static/nextdoorv2/images/favicons/favicon-v2.ico']\n",
      "\n",
      "https://nextdoor.com['https://nextdoor.com/', 'https://nextdoor.com/', 'https://nextdoor.nl/', 'https://nextdoor.co.uk/', 'https://nextdoor.de/', 'https://fr.nextdoor.com/', 'https://it.nextdoor.com/', 'https://es.nextdoor.com/', 'https://au.nextdoor.com/', 'https://dk.nextdoor.com/', 'https://se.nextdoor.com/', 'https://ca.nextdoor.com/', 'https://ca.nextdoor.com/', 'https://d19rpgkrjeba2z.cloudfront.net/b9b651cc0b575574/static/nextdoorv2/images/favicons/favicon-v2.ico']\n",
      "\n"
     ]
    },
    {
     "name": "stderr",
     "output_type": "stream",
     "text": [
      "/home/dan/src/para/venv/lib/python3.6/site-packages/urllib3/connectionpool.py:1004: InsecureRequestWarning: Unverified HTTPS request is being made. Adding certificate verification is strongly advised. See: https://urllib3.readthedocs.io/en/latest/advanced-usage.html#ssl-warnings\n",
      "  InsecureRequestWarning,\n",
      "/home/dan/src/para/venv/lib/python3.6/site-packages/urllib3/connectionpool.py:1004: InsecureRequestWarning: Unverified HTTPS request is being made. Adding certificate verification is strongly advised. See: https://urllib3.readthedocs.io/en/latest/advanced-usage.html#ssl-warnings\n",
      "  InsecureRequestWarning,\n",
      "/home/dan/src/para/venv/lib/python3.6/site-packages/urllib3/connectionpool.py:1004: InsecureRequestWarning: Unverified HTTPS request is being made. Adding certificate verification is strongly advised. See: https://urllib3.readthedocs.io/en/latest/advanced-usage.html#ssl-warnings\n",
      "  InsecureRequestWarning,\n",
      "/home/dan/src/para/venv/lib/python3.6/site-packages/urllib3/connectionpool.py:1004: InsecureRequestWarning: Unverified HTTPS request is being made. Adding certificate verification is strongly advised. See: https://urllib3.readthedocs.io/en/latest/advanced-usage.html#ssl-warnings\n",
      "  InsecureRequestWarning,\n"
     ]
    },
    {
     "name": "stdout",
     "output_type": "stream",
     "text": [
      "https://nextdoor.comhttps://nextdoor.com['https://nextdoor.com/', 'https://nextdoor.com/', 'https://nextdoor.nl/', 'https://nextdoor.co.uk/', 'https://nextdoor.de/', 'https://fr.nextdoor.com/', 'https://it.nextdoor.com/', 'https://es.nextdoor.com/', 'https://au.nextdoor.com/', 'https://dk.nextdoor.com/', 'https://se.nextdoor.com/', 'https://ca.nextdoor.com/', 'https://ca.nextdoor.com/', 'https://d19rpgkrjeba2z.cloudfront.net/b9b651cc0b575574/static/nextdoorv2/images/favicons/favicon-v2.ico']\n",
      "['https://nextdoor.com/', 'https://nextdoor.com/', 'https://nextdoor.nl/', 'https://nextdoor.co.uk/', 'https://nextdoor.de/', 'https://fr.nextdoor.com/', 'https://it.nextdoor.com/', 'https://es.nextdoor.com/', 'https://au.nextdoor.com/', 'https://dk.nextdoor.com/', 'https://se.nextdoor.com/', 'https://ca.nextdoor.com/', 'https://ca.nextdoor.com/', 'https://d19rpgkrjeba2z.cloudfront.net/b9b651cc0b575574/static/nextdoorv2/images/favicons/favicon-v2.ico']\n",
      "\n",
      "\n",
      "https://nextdoor.com['https://nextdoor.com/', 'https://nextdoor.com/', 'https://nextdoor.nl/', 'https://nextdoor.co.uk/', 'https://nextdoor.de/', 'https://fr.nextdoor.com/', 'https://it.nextdoor.com/', 'https://es.nextdoor.com/', 'https://au.nextdoor.com/', 'https://dk.nextdoor.com/', 'https://se.nextdoor.com/', 'https://ca.nextdoor.com/', 'https://ca.nextdoor.com/', 'https://d19rpgkrjeba2z.cloudfront.net/b9b651cc0b575574/static/nextdoorv2/images/favicons/favicon-v2.ico']\n",
      "\n",
      "https://nextdoor.com\n",
      "['https://nextdoor.com/', 'https://nextdoor.com/', 'https://nextdoor.nl/', 'https://nextdoor.co.uk/', 'https://nextdoor.de/', 'https://fr.nextdoor.com/', 'https://it.nextdoor.com/', 'https://es.nextdoor.com/', 'https://au.nextdoor.com/', 'https://dk.nextdoor.com/', 'https://se.nextdoor.com/', 'https://ca.nextdoor.com/', 'https://ca.nextdoor.com/', 'https://d19rpgkrjeba2z.cloudfront.net/b9b651cc0b575574/static/nextdoorv2/images/favicons/favicon-v2.ico']\n",
      "https://nextdoor.com\n",
      "['https://nextdoor.com/', 'https://nextdoor.com/', 'https://nextdoor.nl/', 'https://nextdoor.co.uk/', 'https://nextdoor.de/', 'https://fr.nextdoor.com/', 'https://it.nextdoor.com/', 'https://es.nextdoor.com/', 'https://au.nextdoor.com/', 'https://dk.nextdoor.com/', 'https://se.nextdoor.com/', 'https://ca.nextdoor.com/', 'https://ca.nextdoor.com/', 'https://d19rpgkrjeba2z.cloudfront.net/b9b651cc0b575574/static/nextdoorv2/images/favicons/favicon-v2.ico']\n",
      "https://nextdoor.com\n",
      "['https://nextdoor.com/', 'https://nextdoor.com/', 'https://nextdoor.nl/', 'https://nextdoor.co.uk/', 'https://nextdoor.de/', 'https://fr.nextdoor.com/', 'https://it.nextdoor.com/', 'https://es.nextdoor.com/', 'https://au.nextdoor.com/', 'https://dk.nextdoor.com/', 'https://se.nextdoor.com/', 'https://ca.nextdoor.com/', 'https://ca.nextdoor.com/', 'https://d19rpgkrjeba2z.cloudfront.net/b9b651cc0b575574/static/nextdoorv2/images/favicons/favicon-v2.ico']\n",
      "https://nextdoor.comhttps://nextdoor.com['https://nextdoor.com/', 'https://nextdoor.com/', 'https://nextdoor.nl/', 'https://nextdoor.co.uk/', 'https://nextdoor.de/', 'https://fr.nextdoor.com/', 'https://it.nextdoor.com/', 'https://es.nextdoor.com/', 'https://au.nextdoor.com/', 'https://dk.nextdoor.com/', 'https://se.nextdoor.com/', 'https://ca.nextdoor.com/', 'https://ca.nextdoor.com/', 'https://d19rpgkrjeba2z.cloudfront.net/b9b651cc0b575574/static/nextdoorv2/images/favicons/favicon-v2.ico']\n",
      "\n",
      "\n",
      "['https://nextdoor.com/', 'https://nextdoor.com/', 'https://nextdoor.nl/', 'https://nextdoor.co.uk/', 'https://nextdoor.de/', 'https://fr.nextdoor.com/', 'https://it.nextdoor.com/', 'https://es.nextdoor.com/', 'https://au.nextdoor.com/', 'https://dk.nextdoor.com/', 'https://se.nextdoor.com/', 'https://ca.nextdoor.com/', 'https://ca.nextdoor.com/', 'https://d19rpgkrjeba2z.cloudfront.net/b9b651cc0b575574/static/nextdoorv2/images/favicons/favicon-v2.ico']\n",
      "https://nextdoor.com\n",
      "['https://nextdoor.com/', 'https://nextdoor.com/', 'https://nextdoor.nl/', 'https://nextdoor.co.uk/', 'https://nextdoor.de/', 'https://fr.nextdoor.com/', 'https://it.nextdoor.com/', 'https://es.nextdoor.com/', 'https://au.nextdoor.com/', 'https://dk.nextdoor.com/', 'https://se.nextdoor.com/', 'https://ca.nextdoor.com/', 'https://ca.nextdoor.com/', 'https://d19rpgkrjeba2z.cloudfront.net/b9b651cc0b575574/static/nextdoorv2/images/favicons/favicon-v2.ico']\n"
     ]
    },
    {
     "name": "stderr",
     "output_type": "stream",
     "text": [
      "/home/dan/src/para/venv/lib/python3.6/site-packages/urllib3/connectionpool.py:1004: InsecureRequestWarning: Unverified HTTPS request is being made. Adding certificate verification is strongly advised. See: https://urllib3.readthedocs.io/en/latest/advanced-usage.html#ssl-warnings\n",
      "  InsecureRequestWarning,\n",
      "/home/dan/src/para/venv/lib/python3.6/site-packages/urllib3/connectionpool.py:1004: InsecureRequestWarning: Unverified HTTPS request is being made. Adding certificate verification is strongly advised. See: https://urllib3.readthedocs.io/en/latest/advanced-usage.html#ssl-warnings\n",
      "  InsecureRequestWarning,\n",
      "/home/dan/src/para/venv/lib/python3.6/site-packages/urllib3/connectionpool.py:1004: InsecureRequestWarning: Unverified HTTPS request is being made. Adding certificate verification is strongly advised. See: https://urllib3.readthedocs.io/en/latest/advanced-usage.html#ssl-warnings\n",
      "  InsecureRequestWarning,\n"
     ]
    },
    {
     "name": "stdout",
     "output_type": "stream",
     "text": [
      "https://nextdoor.com\n",
      "['https://nextdoor.com/', 'https://nextdoor.com/', 'https://nextdoor.nl/', 'https://nextdoor.co.uk/', 'https://nextdoor.de/', 'https://fr.nextdoor.com/', 'https://it.nextdoor.com/', 'https://es.nextdoor.com/', 'https://au.nextdoor.com/', 'https://dk.nextdoor.com/', 'https://se.nextdoor.com/', 'https://ca.nextdoor.com/', 'https://ca.nextdoor.com/', 'https://d19rpgkrjeba2z.cloudfront.net/b9b651cc0b575574/static/nextdoorv2/images/favicons/favicon-v2.ico']\n",
      "https://nextdoor.com\n",
      "['https://nextdoor.com/', 'https://nextdoor.com/', 'https://nextdoor.nl/', 'https://nextdoor.co.uk/', 'https://nextdoor.de/', 'https://fr.nextdoor.com/', 'https://it.nextdoor.com/', 'https://es.nextdoor.com/', 'https://au.nextdoor.com/', 'https://dk.nextdoor.com/', 'https://se.nextdoor.com/', 'https://ca.nextdoor.com/', 'https://ca.nextdoor.com/', 'https://d19rpgkrjeba2z.cloudfront.net/b9b651cc0b575574/static/nextdoorv2/images/favicons/favicon-v2.ico']\n",
      "https://nextdoor.com\n",
      "['https://nextdoor.com/', 'https://nextdoor.com/', 'https://nextdoor.nl/', 'https://nextdoor.co.uk/', 'https://nextdoor.de/', 'https://fr.nextdoor.com/', 'https://it.nextdoor.com/', 'https://es.nextdoor.com/', 'https://au.nextdoor.com/', 'https://dk.nextdoor.com/', 'https://se.nextdoor.com/', 'https://ca.nextdoor.com/', 'https://ca.nextdoor.com/', 'https://d19rpgkrjeba2z.cloudfront.net/b9b651cc0b575574/static/nextdoorv2/images/favicons/favicon-v2.ico']\n",
      "https://nextdoor.com['https://nextdoor.com/', 'https://nextdoor.com/', 'https://nextdoor.nl/', 'https://nextdoor.co.uk/', 'https://nextdoor.de/', 'https://fr.nextdoor.com/', 'https://it.nextdoor.com/', 'https://es.nextdoor.com/', 'https://au.nextdoor.com/', 'https://dk.nextdoor.com/', 'https://se.nextdoor.com/', 'https://ca.nextdoor.com/', 'https://ca.nextdoor.com/', 'https://d19rpgkrjeba2z.cloudfront.net/b9b651cc0b575574/static/nextdoorv2/images/favicons/favicon-v2.ico']\n",
      "\n"
     ]
    },
    {
     "name": "stderr",
     "output_type": "stream",
     "text": [
      "/home/dan/src/para/venv/lib/python3.6/site-packages/urllib3/connectionpool.py:1004: InsecureRequestWarning: Unverified HTTPS request is being made. Adding certificate verification is strongly advised. See: https://urllib3.readthedocs.io/en/latest/advanced-usage.html#ssl-warnings\n",
      "  InsecureRequestWarning,\n",
      "/home/dan/src/para/venv/lib/python3.6/site-packages/urllib3/connectionpool.py:1004: InsecureRequestWarning: Unverified HTTPS request is being made. Adding certificate verification is strongly advised. See: https://urllib3.readthedocs.io/en/latest/advanced-usage.html#ssl-warnings\n",
      "  InsecureRequestWarning,\n",
      "/home/dan/src/para/venv/lib/python3.6/site-packages/urllib3/connectionpool.py:1004: InsecureRequestWarning: Unverified HTTPS request is being made. Adding certificate verification is strongly advised. See: https://urllib3.readthedocs.io/en/latest/advanced-usage.html#ssl-warnings\n",
      "  InsecureRequestWarning,\n",
      "/home/dan/src/para/venv/lib/python3.6/site-packages/urllib3/connectionpool.py:1004: InsecureRequestWarning: Unverified HTTPS request is being made. Adding certificate verification is strongly advised. See: https://urllib3.readthedocs.io/en/latest/advanced-usage.html#ssl-warnings\n",
      "  InsecureRequestWarning,\n",
      "/home/dan/src/para/venv/lib/python3.6/site-packages/urllib3/connectionpool.py:1004: InsecureRequestWarning: Unverified HTTPS request is being made. Adding certificate verification is strongly advised. See: https://urllib3.readthedocs.io/en/latest/advanced-usage.html#ssl-warnings\n",
      "  InsecureRequestWarning,\n",
      "/home/dan/src/para/venv/lib/python3.6/site-packages/urllib3/connectionpool.py:1004: InsecureRequestWarning: Unverified HTTPS request is being made. Adding certificate verification is strongly advised. See: https://urllib3.readthedocs.io/en/latest/advanced-usage.html#ssl-warnings\n",
      "  InsecureRequestWarning,\n",
      "/home/dan/src/para/venv/lib/python3.6/site-packages/urllib3/connectionpool.py:1004: InsecureRequestWarning: Unverified HTTPS request is being made. Adding certificate verification is strongly advised. See: https://urllib3.readthedocs.io/en/latest/advanced-usage.html#ssl-warnings\n",
      "  InsecureRequestWarning,\n"
     ]
    },
    {
     "name": "stdout",
     "output_type": "stream",
     "text": [
      "https://nextdoor.com\n",
      "['https://nextdoor.com/', 'https://nextdoor.com/', 'https://nextdoor.nl/', 'https://nextdoor.co.uk/', 'https://nextdoor.de/', 'https://fr.nextdoor.com/', 'https://it.nextdoor.com/', 'https://es.nextdoor.com/', 'https://au.nextdoor.com/', 'https://dk.nextdoor.com/', 'https://se.nextdoor.com/', 'https://ca.nextdoor.com/', 'https://ca.nextdoor.com/', 'https://d19rpgkrjeba2z.cloudfront.net/b9b651cc0b575574/static/nextdoorv2/images/favicons/favicon-v2.ico']\n",
      "https://nextdoor.com['https://nextdoor.com/', 'https://nextdoor.com/', 'https://nextdoor.nl/', 'https://nextdoor.co.uk/', 'https://nextdoor.de/', 'https://fr.nextdoor.com/', 'https://it.nextdoor.com/', 'https://es.nextdoor.com/', 'https://au.nextdoor.com/', 'https://dk.nextdoor.com/', 'https://se.nextdoor.com/', 'https://ca.nextdoor.com/', 'https://ca.nextdoor.com/', 'https://d19rpgkrjeba2z.cloudfront.net/b9b651cc0b575574/static/nextdoorv2/images/favicons/favicon-v2.ico']\n",
      "\n",
      "https://nextdoor.com\n",
      "['https://nextdoor.com/', 'https://nextdoor.com/', 'https://nextdoor.nl/', 'https://nextdoor.co.uk/', 'https://nextdoor.de/', 'https://fr.nextdoor.com/', 'https://it.nextdoor.com/', 'https://es.nextdoor.com/', 'https://au.nextdoor.com/', 'https://dk.nextdoor.com/', 'https://se.nextdoor.com/', 'https://ca.nextdoor.com/', 'https://ca.nextdoor.com/', 'https://d19rpgkrjeba2z.cloudfront.net/b9b651cc0b575574/static/nextdoorv2/images/favicons/favicon-v2.ico']\n",
      "https://nextdoor.com['https://nextdoor.com/', 'https://nextdoor.com/', 'https://nextdoor.nl/', 'https://nextdoor.co.uk/', 'https://nextdoor.de/', 'https://fr.nextdoor.com/', 'https://it.nextdoor.com/', 'https://es.nextdoor.com/', 'https://au.nextdoor.com/', 'https://dk.nextdoor.com/', 'https://se.nextdoor.com/', 'https://ca.nextdoor.com/', 'https://ca.nextdoor.com/', 'https://d19rpgkrjeba2z.cloudfront.net/b9b651cc0b575574/static/nextdoorv2/images/favicons/favicon-v2.ico']\n",
      "\n"
     ]
    },
    {
     "name": "stderr",
     "output_type": "stream",
     "text": [
      "/home/dan/src/para/venv/lib/python3.6/site-packages/urllib3/connectionpool.py:1004: InsecureRequestWarning: Unverified HTTPS request is being made. Adding certificate verification is strongly advised. See: https://urllib3.readthedocs.io/en/latest/advanced-usage.html#ssl-warnings\n",
      "  InsecureRequestWarning,\n",
      "/home/dan/src/para/venv/lib/python3.6/site-packages/urllib3/connectionpool.py:1004: InsecureRequestWarning: Unverified HTTPS request is being made. Adding certificate verification is strongly advised. See: https://urllib3.readthedocs.io/en/latest/advanced-usage.html#ssl-warnings\n",
      "  InsecureRequestWarning,\n",
      "/home/dan/src/para/venv/lib/python3.6/site-packages/urllib3/connectionpool.py:1004: InsecureRequestWarning: Unverified HTTPS request is being made. Adding certificate verification is strongly advised. See: https://urllib3.readthedocs.io/en/latest/advanced-usage.html#ssl-warnings\n",
      "  InsecureRequestWarning,\n"
     ]
    },
    {
     "name": "stdout",
     "output_type": "stream",
     "text": [
      "https://nextdoor.com\n",
      "['https://nextdoor.com/', 'https://nextdoor.com/', 'https://nextdoor.nl/', 'https://nextdoor.co.uk/', 'https://nextdoor.de/', 'https://fr.nextdoor.com/', 'https://it.nextdoor.com/', 'https://es.nextdoor.com/', 'https://au.nextdoor.com/', 'https://dk.nextdoor.com/', 'https://se.nextdoor.com/', 'https://ca.nextdoor.com/', 'https://ca.nextdoor.com/', 'https://d19rpgkrjeba2z.cloudfront.net/b9b651cc0b575574/static/nextdoorv2/images/favicons/favicon-v2.ico']\n",
      "https://nextdoor.com\n",
      "['https://nextdoor.com/', 'https://nextdoor.com/', 'https://nextdoor.nl/', 'https://nextdoor.co.uk/', 'https://nextdoor.de/', 'https://fr.nextdoor.com/', 'https://it.nextdoor.com/', 'https://es.nextdoor.com/', 'https://au.nextdoor.com/', 'https://dk.nextdoor.com/', 'https://se.nextdoor.com/', 'https://ca.nextdoor.com/', 'https://ca.nextdoor.com/', 'https://d19rpgkrjeba2z.cloudfront.net/b9b651cc0b575574/static/nextdoorv2/images/favicons/favicon-v2.ico']\n",
      "https://nextdoor.com['https://nextdoor.com/', 'https://nextdoor.com/', 'https://nextdoor.nl/', 'https://nextdoor.co.uk/', 'https://nextdoor.de/', 'https://fr.nextdoor.com/', 'https://it.nextdoor.com/', 'https://es.nextdoor.com/', 'https://au.nextdoor.com/', 'https://dk.nextdoor.com/', 'https://se.nextdoor.com/', 'https://ca.nextdoor.com/', 'https://ca.nextdoor.com/', 'https://d19rpgkrjeba2z.cloudfront.net/b9b651cc0b575574/static/nextdoorv2/images/favicons/favicon-v2.ico']\n",
      "\n",
      "https://nextdoor.com['https://nextdoor.com/', 'https://nextdoor.com/', 'https://nextdoor.nl/', 'https://nextdoor.co.uk/', 'https://nextdoor.de/', 'https://fr.nextdoor.com/', 'https://it.nextdoor.com/', 'https://es.nextdoor.com/', 'https://au.nextdoor.com/', 'https://dk.nextdoor.com/', 'https://se.nextdoor.com/', 'https://ca.nextdoor.com/', 'https://ca.nextdoor.com/', 'https://d19rpgkrjeba2z.cloudfront.net/b9b651cc0b575574/static/nextdoorv2/images/favicons/favicon-v2.ico']\n",
      "\n"
     ]
    },
    {
     "name": "stderr",
     "output_type": "stream",
     "text": [
      "/home/dan/src/para/venv/lib/python3.6/site-packages/urllib3/connectionpool.py:1004: InsecureRequestWarning: Unverified HTTPS request is being made. Adding certificate verification is strongly advised. See: https://urllib3.readthedocs.io/en/latest/advanced-usage.html#ssl-warnings\n",
      "  InsecureRequestWarning,\n",
      "/home/dan/src/para/venv/lib/python3.6/site-packages/urllib3/connectionpool.py:1004: InsecureRequestWarning: Unverified HTTPS request is being made. Adding certificate verification is strongly advised. See: https://urllib3.readthedocs.io/en/latest/advanced-usage.html#ssl-warnings\n",
      "  InsecureRequestWarning,\n",
      "/home/dan/src/para/venv/lib/python3.6/site-packages/urllib3/connectionpool.py:1004: InsecureRequestWarning: Unverified HTTPS request is being made. Adding certificate verification is strongly advised. See: https://urllib3.readthedocs.io/en/latest/advanced-usage.html#ssl-warnings\n",
      "  InsecureRequestWarning,\n",
      "/home/dan/src/para/venv/lib/python3.6/site-packages/urllib3/connectionpool.py:1004: InsecureRequestWarning: Unverified HTTPS request is being made. Adding certificate verification is strongly advised. See: https://urllib3.readthedocs.io/en/latest/advanced-usage.html#ssl-warnings\n",
      "  InsecureRequestWarning,\n",
      "/home/dan/src/para/venv/lib/python3.6/site-packages/urllib3/connectionpool.py:1004: InsecureRequestWarning: Unverified HTTPS request is being made. Adding certificate verification is strongly advised. See: https://urllib3.readthedocs.io/en/latest/advanced-usage.html#ssl-warnings\n",
      "  InsecureRequestWarning,\n",
      "/home/dan/src/para/venv/lib/python3.6/site-packages/urllib3/connectionpool.py:1004: InsecureRequestWarning: Unverified HTTPS request is being made. Adding certificate verification is strongly advised. See: https://urllib3.readthedocs.io/en/latest/advanced-usage.html#ssl-warnings\n",
      "  InsecureRequestWarning,\n",
      "/home/dan/src/para/venv/lib/python3.6/site-packages/urllib3/connectionpool.py:1004: InsecureRequestWarning: Unverified HTTPS request is being made. Adding certificate verification is strongly advised. See: https://urllib3.readthedocs.io/en/latest/advanced-usage.html#ssl-warnings\n",
      "  InsecureRequestWarning,\n"
     ]
    },
    {
     "name": "stdout",
     "output_type": "stream",
     "text": [
      "https://nextdoor.com\n",
      "['https://nextdoor.com/', 'https://nextdoor.com/', 'https://nextdoor.nl/', 'https://nextdoor.co.uk/', 'https://nextdoor.de/', 'https://fr.nextdoor.com/', 'https://it.nextdoor.com/', 'https://es.nextdoor.com/', 'https://au.nextdoor.com/', 'https://dk.nextdoor.com/', 'https://se.nextdoor.com/', 'https://ca.nextdoor.com/', 'https://ca.nextdoor.com/', 'https://d19rpgkrjeba2z.cloudfront.net/b9b651cc0b575574/static/nextdoorv2/images/favicons/favicon-v2.ico']\n"
     ]
    },
    {
     "name": "stderr",
     "output_type": "stream",
     "text": [
      "/home/dan/src/para/venv/lib/python3.6/site-packages/urllib3/connectionpool.py:1004: InsecureRequestWarning: Unverified HTTPS request is being made. Adding certificate verification is strongly advised. See: https://urllib3.readthedocs.io/en/latest/advanced-usage.html#ssl-warnings\n",
      "  InsecureRequestWarning,\n",
      "/home/dan/src/para/venv/lib/python3.6/site-packages/urllib3/connectionpool.py:1004: InsecureRequestWarning: Unverified HTTPS request is being made. Adding certificate verification is strongly advised. See: https://urllib3.readthedocs.io/en/latest/advanced-usage.html#ssl-warnings\n",
      "  InsecureRequestWarning,\n",
      "/home/dan/src/para/venv/lib/python3.6/site-packages/urllib3/connectionpool.py:1004: InsecureRequestWarning: Unverified HTTPS request is being made. Adding certificate verification is strongly advised. See: https://urllib3.readthedocs.io/en/latest/advanced-usage.html#ssl-warnings\n",
      "  InsecureRequestWarning,\n",
      "/home/dan/src/para/venv/lib/python3.6/site-packages/urllib3/connectionpool.py:1004: InsecureRequestWarning: Unverified HTTPS request is being made. Adding certificate verification is strongly advised. See: https://urllib3.readthedocs.io/en/latest/advanced-usage.html#ssl-warnings\n",
      "  InsecureRequestWarning,\n"
     ]
    },
    {
     "name": "stdout",
     "output_type": "stream",
     "text": [
      "https://nextdoor.com['https://nextdoor.com/', 'https://nextdoor.com/', 'https://nextdoor.nl/', 'https://nextdoor.co.uk/', 'https://nextdoor.de/', 'https://fr.nextdoor.com/', 'https://it.nextdoor.com/', 'https://es.nextdoor.com/', 'https://au.nextdoor.com/', 'https://dk.nextdoor.com/', 'https://se.nextdoor.com/', 'https://ca.nextdoor.com/', 'https://ca.nextdoor.com/', 'https://d19rpgkrjeba2z.cloudfront.net/b9b651cc0b575574/static/nextdoorv2/images/favicons/favicon-v2.ico']\n",
      "\n",
      "https://nextdoor.com\n",
      "['https://nextdoor.com/', 'https://nextdoor.com/', 'https://nextdoor.nl/', 'https://nextdoor.co.uk/', 'https://nextdoor.de/', 'https://fr.nextdoor.com/', 'https://it.nextdoor.com/', 'https://es.nextdoor.com/', 'https://au.nextdoor.com/', 'https://dk.nextdoor.com/', 'https://se.nextdoor.com/', 'https://ca.nextdoor.com/', 'https://ca.nextdoor.com/', 'https://d19rpgkrjeba2z.cloudfront.net/b9b651cc0b575574/static/nextdoorv2/images/favicons/favicon-v2.ico']\n",
      "https://nextdoor.com['https://nextdoor.com/', 'https://nextdoor.com/', 'https://nextdoor.nl/', 'https://nextdoor.co.uk/', 'https://nextdoor.de/', 'https://fr.nextdoor.com/', 'https://it.nextdoor.com/', 'https://es.nextdoor.com/', 'https://au.nextdoor.com/', 'https://dk.nextdoor.com/', 'https://se.nextdoor.com/', 'https://ca.nextdoor.com/', 'https://ca.nextdoor.com/', 'https://d19rpgkrjeba2z.cloudfront.net/b9b651cc0b575574/static/nextdoorv2/images/favicons/favicon-v2.ico']\n",
      "\n",
      "https://nextdoor.com\n",
      "['https://nextdoor.com/', 'https://nextdoor.com/', 'https://nextdoor.nl/', 'https://nextdoor.co.uk/', 'https://nextdoor.de/', 'https://fr.nextdoor.com/', 'https://it.nextdoor.com/', 'https://es.nextdoor.com/', 'https://au.nextdoor.com/', 'https://dk.nextdoor.com/', 'https://se.nextdoor.com/', 'https://ca.nextdoor.com/', 'https://ca.nextdoor.com/', 'https://d19rpgkrjeba2z.cloudfront.net/b9b651cc0b575574/static/nextdoorv2/images/favicons/favicon-v2.ico']\n"
     ]
    },
    {
     "name": "stderr",
     "output_type": "stream",
     "text": [
      "/home/dan/src/para/venv/lib/python3.6/site-packages/urllib3/connectionpool.py:1004: InsecureRequestWarning: Unverified HTTPS request is being made. Adding certificate verification is strongly advised. See: https://urllib3.readthedocs.io/en/latest/advanced-usage.html#ssl-warnings\n",
      "  InsecureRequestWarning,\n",
      "/home/dan/src/para/venv/lib/python3.6/site-packages/urllib3/connectionpool.py:1004: InsecureRequestWarning: Unverified HTTPS request is being made. Adding certificate verification is strongly advised. See: https://urllib3.readthedocs.io/en/latest/advanced-usage.html#ssl-warnings\n",
      "  InsecureRequestWarning,\n",
      "/home/dan/src/para/venv/lib/python3.6/site-packages/urllib3/connectionpool.py:1004: InsecureRequestWarning: Unverified HTTPS request is being made. Adding certificate verification is strongly advised. See: https://urllib3.readthedocs.io/en/latest/advanced-usage.html#ssl-warnings\n",
      "  InsecureRequestWarning,\n"
     ]
    },
    {
     "name": "stdout",
     "output_type": "stream",
     "text": [
      "https://nextdoor.com\n",
      "https://nextdoor.com['https://nextdoor.com/', 'https://nextdoor.com/', 'https://nextdoor.nl/', 'https://nextdoor.co.uk/', 'https://nextdoor.de/', 'https://fr.nextdoor.com/', 'https://it.nextdoor.com/', 'https://es.nextdoor.com/', 'https://au.nextdoor.com/', 'https://dk.nextdoor.com/', 'https://se.nextdoor.com/', 'https://ca.nextdoor.com/', 'https://ca.nextdoor.com/', 'https://d19rpgkrjeba2z.cloudfront.net/b9b651cc0b575574/static/nextdoorv2/images/favicons/favicon-v2.ico']\n",
      "\n",
      "['https://nextdoor.com/', 'https://nextdoor.com/', 'https://nextdoor.nl/', 'https://nextdoor.co.uk/', 'https://nextdoor.de/', 'https://fr.nextdoor.com/', 'https://it.nextdoor.com/', 'https://es.nextdoor.com/', 'https://au.nextdoor.com/', 'https://dk.nextdoor.com/', 'https://se.nextdoor.com/', 'https://ca.nextdoor.com/', 'https://ca.nextdoor.com/', 'https://d19rpgkrjeba2z.cloudfront.net/b9b651cc0b575574/static/nextdoorv2/images/favicons/favicon-v2.ico']\n",
      "https://nextdoor.com\n",
      "['https://nextdoor.com/', 'https://nextdoor.com/', 'https://nextdoor.nl/', 'https://nextdoor.co.uk/', 'https://nextdoor.de/', 'https://fr.nextdoor.com/', 'https://it.nextdoor.com/', 'https://es.nextdoor.com/', 'https://au.nextdoor.com/', 'https://dk.nextdoor.com/', 'https://se.nextdoor.com/', 'https://ca.nextdoor.com/', 'https://ca.nextdoor.com/', 'https://d19rpgkrjeba2z.cloudfront.net/b9b651cc0b575574/static/nextdoorv2/images/favicons/favicon-v2.ico']\n",
      "https://nextdoor.com\n",
      "['https://nextdoor.com/', 'https://nextdoor.com/', 'https://nextdoor.nl/', 'https://nextdoor.co.uk/', 'https://nextdoor.de/', 'https://fr.nextdoor.com/', 'https://it.nextdoor.com/', 'https://es.nextdoor.com/', 'https://au.nextdoor.com/', 'https://dk.nextdoor.com/', 'https://se.nextdoor.com/', 'https://ca.nextdoor.com/', 'https://ca.nextdoor.com/', 'https://d19rpgkrjeba2z.cloudfront.net/b9b651cc0b575574/static/nextdoorv2/images/favicons/favicon-v2.ico']\n",
      "https://nextdoor.com['https://nextdoor.com/', 'https://nextdoor.com/', 'https://nextdoor.nl/', 'https://nextdoor.co.uk/', 'https://nextdoor.de/', 'https://fr.nextdoor.com/', 'https://it.nextdoor.com/', 'https://es.nextdoor.com/', 'https://au.nextdoor.com/', 'https://dk.nextdoor.com/', 'https://se.nextdoor.com/', 'https://ca.nextdoor.com/', 'https://ca.nextdoor.com/', 'https://d19rpgkrjeba2z.cloudfront.net/b9b651cc0b575574/static/nextdoorv2/images/favicons/favicon-v2.ico']\n",
      "\n",
      "https://nextdoor.comhttps://nextdoor.com\n",
      "\n",
      "['https://nextdoor.com/', 'https://nextdoor.com/', 'https://nextdoor.nl/', 'https://nextdoor.co.uk/', 'https://nextdoor.de/', 'https://fr.nextdoor.com/', 'https://it.nextdoor.com/', 'https://es.nextdoor.com/', 'https://au.nextdoor.com/', 'https://dk.nextdoor.com/', 'https://se.nextdoor.com/', 'https://ca.nextdoor.com/', 'https://ca.nextdoor.com/', 'https://d19rpgkrjeba2z.cloudfront.net/b9b651cc0b575574/static/nextdoorv2/images/favicons/favicon-v2.ico']\n",
      "['https://nextdoor.com/', 'https://nextdoor.com/', 'https://nextdoor.nl/', 'https://nextdoor.co.uk/', 'https://nextdoor.de/', 'https://fr.nextdoor.com/', 'https://it.nextdoor.com/', 'https://es.nextdoor.com/', 'https://au.nextdoor.com/', 'https://dk.nextdoor.com/', 'https://se.nextdoor.com/', 'https://ca.nextdoor.com/', 'https://ca.nextdoor.com/', 'https://d19rpgkrjeba2z.cloudfront.net/b9b651cc0b575574/static/nextdoorv2/images/favicons/favicon-v2.ico']\n",
      "https://nextdoor.com['https://nextdoor.com/', 'https://nextdoor.com/', 'https://nextdoor.nl/', 'https://nextdoor.co.uk/', 'https://nextdoor.de/', 'https://fr.nextdoor.com/', 'https://it.nextdoor.com/', 'https://es.nextdoor.com/', 'https://au.nextdoor.com/', 'https://dk.nextdoor.com/', 'https://se.nextdoor.com/', 'https://ca.nextdoor.com/', 'https://ca.nextdoor.com/', 'https://d19rpgkrjeba2z.cloudfront.net/b9b651cc0b575574/static/nextdoorv2/images/favicons/favicon-v2.ico']\n",
      "\n"
     ]
    },
    {
     "name": "stderr",
     "output_type": "stream",
     "text": [
      "/home/dan/src/para/venv/lib/python3.6/site-packages/urllib3/connectionpool.py:1004: InsecureRequestWarning: Unverified HTTPS request is being made. Adding certificate verification is strongly advised. See: https://urllib3.readthedocs.io/en/latest/advanced-usage.html#ssl-warnings\n",
      "  InsecureRequestWarning,\n",
      "/home/dan/src/para/venv/lib/python3.6/site-packages/urllib3/connectionpool.py:1004: InsecureRequestWarning: Unverified HTTPS request is being made. Adding certificate verification is strongly advised. See: https://urllib3.readthedocs.io/en/latest/advanced-usage.html#ssl-warnings\n",
      "  InsecureRequestWarning,\n",
      "/home/dan/src/para/venv/lib/python3.6/site-packages/urllib3/connectionpool.py:1004: InsecureRequestWarning: Unverified HTTPS request is being made. Adding certificate verification is strongly advised. See: https://urllib3.readthedocs.io/en/latest/advanced-usage.html#ssl-warnings\n",
      "  InsecureRequestWarning,\n",
      "/home/dan/src/para/venv/lib/python3.6/site-packages/urllib3/connectionpool.py:1004: InsecureRequestWarning: Unverified HTTPS request is being made. Adding certificate verification is strongly advised. See: https://urllib3.readthedocs.io/en/latest/advanced-usage.html#ssl-warnings\n",
      "  InsecureRequestWarning,\n"
     ]
    },
    {
     "name": "stdout",
     "output_type": "stream",
     "text": [
      "https://nextdoor.com['https://nextdoor.com/', 'https://nextdoor.com/', 'https://nextdoor.nl/', 'https://nextdoor.co.uk/', 'https://nextdoor.de/', 'https://fr.nextdoor.com/', 'https://it.nextdoor.com/', 'https://es.nextdoor.com/', 'https://au.nextdoor.com/', 'https://dk.nextdoor.com/', 'https://se.nextdoor.com/', 'https://ca.nextdoor.com/', 'https://ca.nextdoor.com/', 'https://d19rpgkrjeba2z.cloudfront.net/b9b651cc0b575574/static/nextdoorv2/images/favicons/favicon-v2.ico']\n",
      "\n",
      "https://nextdoor.com['https://nextdoor.com/', 'https://nextdoor.com/', 'https://nextdoor.nl/', 'https://nextdoor.co.uk/', 'https://nextdoor.de/', 'https://fr.nextdoor.com/', 'https://it.nextdoor.com/', 'https://es.nextdoor.com/', 'https://au.nextdoor.com/', 'https://dk.nextdoor.com/', 'https://se.nextdoor.com/', 'https://ca.nextdoor.com/', 'https://ca.nextdoor.com/', 'https://d19rpgkrjeba2z.cloudfront.net/b9b651cc0b575574/static/nextdoorv2/images/favicons/favicon-v2.ico']\n",
      "\n",
      "https://nextdoor.com\n",
      "['https://nextdoor.com/', 'https://nextdoor.com/', 'https://nextdoor.nl/', 'https://nextdoor.co.uk/', 'https://nextdoor.de/', 'https://fr.nextdoor.com/', 'https://it.nextdoor.com/', 'https://es.nextdoor.com/', 'https://au.nextdoor.com/', 'https://dk.nextdoor.com/', 'https://se.nextdoor.com/', 'https://ca.nextdoor.com/', 'https://ca.nextdoor.com/', 'https://d19rpgkrjeba2z.cloudfront.net/b9b651cc0b575574/static/nextdoorv2/images/favicons/favicon-v2.ico']\n"
     ]
    },
    {
     "name": "stderr",
     "output_type": "stream",
     "text": [
      "/home/dan/src/para/venv/lib/python3.6/site-packages/urllib3/connectionpool.py:1004: InsecureRequestWarning: Unverified HTTPS request is being made. Adding certificate verification is strongly advised. See: https://urllib3.readthedocs.io/en/latest/advanced-usage.html#ssl-warnings\n",
      "  InsecureRequestWarning,\n",
      "/home/dan/src/para/venv/lib/python3.6/site-packages/urllib3/connectionpool.py:1004: InsecureRequestWarning: Unverified HTTPS request is being made. Adding certificate verification is strongly advised. See: https://urllib3.readthedocs.io/en/latest/advanced-usage.html#ssl-warnings\n",
      "  InsecureRequestWarning,\n"
     ]
    },
    {
     "name": "stdout",
     "output_type": "stream",
     "text": [
      "https://nextdoor.com['https://nextdoor.com/', 'https://nextdoor.com/', 'https://nextdoor.nl/', 'https://nextdoor.co.uk/', 'https://nextdoor.de/', 'https://fr.nextdoor.com/', 'https://it.nextdoor.com/', 'https://es.nextdoor.com/', 'https://au.nextdoor.com/', 'https://dk.nextdoor.com/', 'https://se.nextdoor.com/', 'https://ca.nextdoor.com/', 'https://ca.nextdoor.com/', 'https://d19rpgkrjeba2z.cloudfront.net/b9b651cc0b575574/static/nextdoorv2/images/favicons/favicon-v2.ico']\n",
      "\n",
      "https://nextdoor.com\n",
      "['https://nextdoor.com/', 'https://nextdoor.com/', 'https://nextdoor.nl/', 'https://nextdoor.co.uk/', 'https://nextdoor.de/', 'https://fr.nextdoor.com/', 'https://it.nextdoor.com/', 'https://es.nextdoor.com/', 'https://au.nextdoor.com/', 'https://dk.nextdoor.com/', 'https://se.nextdoor.com/', 'https://ca.nextdoor.com/', 'https://ca.nextdoor.com/', 'https://d19rpgkrjeba2z.cloudfront.net/b9b651cc0b575574/static/nextdoorv2/images/favicons/favicon-v2.ico']https://nextdoor.com\n",
      "['https://nextdoor.com/', 'https://nextdoor.com/', 'https://nextdoor.nl/', 'https://nextdoor.co.uk/', 'https://nextdoor.de/', 'https://fr.nextdoor.com/', 'https://it.nextdoor.com/', 'https://es.nextdoor.com/', 'https://au.nextdoor.com/', 'https://dk.nextdoor.com/', 'https://se.nextdoor.com/', 'https://ca.nextdoor.com/', 'https://ca.nextdoor.com/', 'https://d19rpgkrjeba2z.cloudfront.net/b9b651cc0b575574/static/nextdoorv2/images/favicons/favicon-v2.ico']\n",
      "\n"
     ]
    },
    {
     "name": "stderr",
     "output_type": "stream",
     "text": [
      "/home/dan/src/para/venv/lib/python3.6/site-packages/urllib3/connectionpool.py:1004: InsecureRequestWarning: Unverified HTTPS request is being made. Adding certificate verification is strongly advised. See: https://urllib3.readthedocs.io/en/latest/advanced-usage.html#ssl-warnings\n",
      "  InsecureRequestWarning,\n",
      "/home/dan/src/para/venv/lib/python3.6/site-packages/urllib3/connectionpool.py:1004: InsecureRequestWarning: Unverified HTTPS request is being made. Adding certificate verification is strongly advised. See: https://urllib3.readthedocs.io/en/latest/advanced-usage.html#ssl-warnings\n",
      "  InsecureRequestWarning,\n",
      "/home/dan/src/para/venv/lib/python3.6/site-packages/urllib3/connectionpool.py:1004: InsecureRequestWarning: Unverified HTTPS request is being made. Adding certificate verification is strongly advised. See: https://urllib3.readthedocs.io/en/latest/advanced-usage.html#ssl-warnings\n",
      "  InsecureRequestWarning,\n"
     ]
    },
    {
     "name": "stdout",
     "output_type": "stream",
     "text": [
      "https://nextdoor.com\n",
      "['https://nextdoor.com/', 'https://nextdoor.com/', 'https://nextdoor.nl/', 'https://nextdoor.co.uk/', 'https://nextdoor.de/', 'https://fr.nextdoor.com/', 'https://it.nextdoor.com/', 'https://es.nextdoor.com/', 'https://au.nextdoor.com/', 'https://dk.nextdoor.com/', 'https://se.nextdoor.com/', 'https://ca.nextdoor.com/', 'https://ca.nextdoor.com/', 'https://d19rpgkrjeba2z.cloudfront.net/b9b651cc0b575574/static/nextdoorv2/images/favicons/favicon-v2.ico']\n",
      "https://nextdoor.com\n",
      "['https://nextdoor.com/', 'https://nextdoor.com/', 'https://nextdoor.nl/', 'https://nextdoor.co.uk/', 'https://nextdoor.de/', 'https://fr.nextdoor.com/', 'https://it.nextdoor.com/', 'https://es.nextdoor.com/', 'https://au.nextdoor.com/', 'https://dk.nextdoor.com/', 'https://se.nextdoor.com/', 'https://ca.nextdoor.com/', 'https://ca.nextdoor.com/', 'https://d19rpgkrjeba2z.cloudfront.net/b9b651cc0b575574/static/nextdoorv2/images/favicons/favicon-v2.ico']\n",
      "https://nextdoor.com['https://nextdoor.com/', 'https://nextdoor.com/', 'https://nextdoor.nl/', 'https://nextdoor.co.uk/', 'https://nextdoor.de/', 'https://fr.nextdoor.com/', 'https://it.nextdoor.com/', 'https://es.nextdoor.com/', 'https://au.nextdoor.com/', 'https://dk.nextdoor.com/', 'https://se.nextdoor.com/', 'https://ca.nextdoor.com/', 'https://ca.nextdoor.com/', 'https://d19rpgkrjeba2z.cloudfront.net/b9b651cc0b575574/static/nextdoorv2/images/favicons/favicon-v2.ico']\n",
      "\n"
     ]
    },
    {
     "name": "stderr",
     "output_type": "stream",
     "text": [
      "/home/dan/src/para/venv/lib/python3.6/site-packages/urllib3/connectionpool.py:1004: InsecureRequestWarning: Unverified HTTPS request is being made. Adding certificate verification is strongly advised. See: https://urllib3.readthedocs.io/en/latest/advanced-usage.html#ssl-warnings\n",
      "  InsecureRequestWarning,\n",
      "/home/dan/src/para/venv/lib/python3.6/site-packages/urllib3/connectionpool.py:1004: InsecureRequestWarning: Unverified HTTPS request is being made. Adding certificate verification is strongly advised. See: https://urllib3.readthedocs.io/en/latest/advanced-usage.html#ssl-warnings\n",
      "  InsecureRequestWarning,\n",
      "/home/dan/src/para/venv/lib/python3.6/site-packages/urllib3/connectionpool.py:1004: InsecureRequestWarning: Unverified HTTPS request is being made. Adding certificate verification is strongly advised. See: https://urllib3.readthedocs.io/en/latest/advanced-usage.html#ssl-warnings\n",
      "  InsecureRequestWarning,\n",
      "/home/dan/src/para/venv/lib/python3.6/site-packages/urllib3/connectionpool.py:1004: InsecureRequestWarning: Unverified HTTPS request is being made. Adding certificate verification is strongly advised. See: https://urllib3.readthedocs.io/en/latest/advanced-usage.html#ssl-warnings\n",
      "  InsecureRequestWarning,\n"
     ]
    },
    {
     "name": "stdout",
     "output_type": "stream",
     "text": [
      "https://nextdoor.com['https://nextdoor.com/', 'https://nextdoor.com/', 'https://nextdoor.nl/', 'https://nextdoor.co.uk/', 'https://nextdoor.de/', 'https://fr.nextdoor.com/', 'https://it.nextdoor.com/', 'https://es.nextdoor.com/', 'https://au.nextdoor.com/', 'https://dk.nextdoor.com/', 'https://se.nextdoor.com/', 'https://ca.nextdoor.com/', 'https://ca.nextdoor.com/', 'https://d19rpgkrjeba2z.cloudfront.net/b9b651cc0b575574/static/nextdoorv2/images/favicons/favicon-v2.ico']\n",
      "\n",
      "https://nextdoor.com\n",
      "['https://nextdoor.com/', 'https://nextdoor.com/', 'https://nextdoor.nl/', 'https://nextdoor.co.uk/', 'https://nextdoor.de/', 'https://fr.nextdoor.com/', 'https://it.nextdoor.com/', 'https://es.nextdoor.com/', 'https://au.nextdoor.com/', 'https://dk.nextdoor.com/', 'https://se.nextdoor.com/', 'https://ca.nextdoor.com/', 'https://ca.nextdoor.com/', 'https://d19rpgkrjeba2z.cloudfront.net/b9b651cc0b575574/static/nextdoorv2/images/favicons/favicon-v2.ico']\n",
      "https://nextdoor.com['https://nextdoor.com/', 'https://nextdoor.com/', 'https://nextdoor.nl/', 'https://nextdoor.co.uk/', 'https://nextdoor.de/', 'https://fr.nextdoor.com/', 'https://it.nextdoor.com/', 'https://es.nextdoor.com/', 'https://au.nextdoor.com/', 'https://dk.nextdoor.com/', 'https://se.nextdoor.com/', 'https://ca.nextdoor.com/', 'https://ca.nextdoor.com/', 'https://d19rpgkrjeba2z.cloudfront.net/b9b651cc0b575574/static/nextdoorv2/images/favicons/favicon-v2.ico']\n",
      "\n",
      "https://nextdoor.com['https://nextdoor.com/', 'https://nextdoor.com/', 'https://nextdoor.nl/', 'https://nextdoor.co.uk/', 'https://nextdoor.de/', 'https://fr.nextdoor.com/', 'https://it.nextdoor.com/', 'https://es.nextdoor.com/', 'https://au.nextdoor.com/', 'https://dk.nextdoor.com/', 'https://se.nextdoor.com/', 'https://ca.nextdoor.com/', 'https://ca.nextdoor.com/', 'https://d19rpgkrjeba2z.cloudfront.net/b9b651cc0b575574/static/nextdoorv2/images/favicons/favicon-v2.ico']\n",
      "\n"
     ]
    },
    {
     "name": "stderr",
     "output_type": "stream",
     "text": [
      "/home/dan/src/para/venv/lib/python3.6/site-packages/urllib3/connectionpool.py:1004: InsecureRequestWarning: Unverified HTTPS request is being made. Adding certificate verification is strongly advised. See: https://urllib3.readthedocs.io/en/latest/advanced-usage.html#ssl-warnings\n",
      "  InsecureRequestWarning,\n",
      "/home/dan/src/para/venv/lib/python3.6/site-packages/urllib3/connectionpool.py:1004: InsecureRequestWarning: Unverified HTTPS request is being made. Adding certificate verification is strongly advised. See: https://urllib3.readthedocs.io/en/latest/advanced-usage.html#ssl-warnings\n",
      "  InsecureRequestWarning,\n",
      "/home/dan/src/para/venv/lib/python3.6/site-packages/urllib3/connectionpool.py:1004: InsecureRequestWarning: Unverified HTTPS request is being made. Adding certificate verification is strongly advised. See: https://urllib3.readthedocs.io/en/latest/advanced-usage.html#ssl-warnings\n",
      "  InsecureRequestWarning,\n",
      "/home/dan/src/para/venv/lib/python3.6/site-packages/urllib3/connectionpool.py:1004: InsecureRequestWarning: Unverified HTTPS request is being made. Adding certificate verification is strongly advised. See: https://urllib3.readthedocs.io/en/latest/advanced-usage.html#ssl-warnings\n",
      "  InsecureRequestWarning,\n",
      "/home/dan/src/para/venv/lib/python3.6/site-packages/urllib3/connectionpool.py:1004: InsecureRequestWarning: Unverified HTTPS request is being made. Adding certificate verification is strongly advised. See: https://urllib3.readthedocs.io/en/latest/advanced-usage.html#ssl-warnings\n",
      "  InsecureRequestWarning,\n",
      "/home/dan/src/para/venv/lib/python3.6/site-packages/urllib3/connectionpool.py:1004: InsecureRequestWarning: Unverified HTTPS request is being made. Adding certificate verification is strongly advised. See: https://urllib3.readthedocs.io/en/latest/advanced-usage.html#ssl-warnings\n",
      "  InsecureRequestWarning,\n",
      "/home/dan/src/para/venv/lib/python3.6/site-packages/urllib3/connectionpool.py:1004: InsecureRequestWarning: Unverified HTTPS request is being made. Adding certificate verification is strongly advised. See: https://urllib3.readthedocs.io/en/latest/advanced-usage.html#ssl-warnings\n",
      "  InsecureRequestWarning,\n"
     ]
    },
    {
     "name": "stdout",
     "output_type": "stream",
     "text": [
      "https://nextdoor.com\n",
      "['https://nextdoor.com/', 'https://nextdoor.com/', 'https://nextdoor.nl/', 'https://nextdoor.co.uk/', 'https://nextdoor.de/', 'https://fr.nextdoor.com/', 'https://it.nextdoor.com/', 'https://es.nextdoor.com/', 'https://au.nextdoor.com/', 'https://dk.nextdoor.com/', 'https://se.nextdoor.com/', 'https://ca.nextdoor.com/', 'https://ca.nextdoor.com/', 'https://d19rpgkrjeba2z.cloudfront.net/b9b651cc0b575574/static/nextdoorv2/images/favicons/favicon-v2.ico']\n",
      "https://nextdoor.com['https://nextdoor.com/', 'https://nextdoor.com/', 'https://nextdoor.nl/', 'https://nextdoor.co.uk/', 'https://nextdoor.de/', 'https://fr.nextdoor.com/', 'https://it.nextdoor.com/', 'https://es.nextdoor.com/', 'https://au.nextdoor.com/', 'https://dk.nextdoor.com/', 'https://se.nextdoor.com/', 'https://ca.nextdoor.com/', 'https://ca.nextdoor.com/', 'https://d19rpgkrjeba2z.cloudfront.net/b9b651cc0b575574/static/nextdoorv2/images/favicons/favicon-v2.ico']\n",
      "\n",
      "https://nextdoor.com['https://nextdoor.com/', 'https://nextdoor.com/', 'https://nextdoor.nl/', 'https://nextdoor.co.uk/', 'https://nextdoor.de/', 'https://fr.nextdoor.com/', 'https://it.nextdoor.com/', 'https://es.nextdoor.com/', 'https://au.nextdoor.com/', 'https://dk.nextdoor.com/', 'https://se.nextdoor.com/', 'https://ca.nextdoor.com/', 'https://ca.nextdoor.com/', 'https://d19rpgkrjeba2z.cloudfront.net/b9b651cc0b575574/static/nextdoorv2/images/favicons/favicon-v2.ico']\n",
      "\n"
     ]
    },
    {
     "name": "stderr",
     "output_type": "stream",
     "text": [
      "/home/dan/src/para/venv/lib/python3.6/site-packages/urllib3/connectionpool.py:1004: InsecureRequestWarning: Unverified HTTPS request is being made. Adding certificate verification is strongly advised. See: https://urllib3.readthedocs.io/en/latest/advanced-usage.html#ssl-warnings\n",
      "  InsecureRequestWarning,\n",
      "/home/dan/src/para/venv/lib/python3.6/site-packages/urllib3/connectionpool.py:1004: InsecureRequestWarning: Unverified HTTPS request is being made. Adding certificate verification is strongly advised. See: https://urllib3.readthedocs.io/en/latest/advanced-usage.html#ssl-warnings\n",
      "  InsecureRequestWarning,\n"
     ]
    },
    {
     "name": "stdout",
     "output_type": "stream",
     "text": [
      "https://nextdoor.com['https://nextdoor.com/', 'https://nextdoor.com/', 'https://nextdoor.nl/', 'https://nextdoor.co.uk/', 'https://nextdoor.de/', 'https://fr.nextdoor.com/', 'https://it.nextdoor.com/', 'https://es.nextdoor.com/', 'https://au.nextdoor.com/', 'https://dk.nextdoor.com/', 'https://se.nextdoor.com/', 'https://ca.nextdoor.com/', 'https://ca.nextdoor.com/', 'https://d19rpgkrjeba2z.cloudfront.net/b9b651cc0b575574/static/nextdoorv2/images/favicons/favicon-v2.ico']\n",
      "\n",
      "https://nextdoor.com\n",
      "https://nextdoor.com\n",
      "['https://nextdoor.com/', 'https://nextdoor.com/', 'https://nextdoor.nl/', 'https://nextdoor.co.uk/', 'https://nextdoor.de/', 'https://fr.nextdoor.com/', 'https://it.nextdoor.com/', 'https://es.nextdoor.com/', 'https://au.nextdoor.com/', 'https://dk.nextdoor.com/', 'https://se.nextdoor.com/', 'https://ca.nextdoor.com/', 'https://ca.nextdoor.com/', 'https://d19rpgkrjeba2z.cloudfront.net/b9b651cc0b575574/static/nextdoorv2/images/favicons/favicon-v2.ico']\n",
      "['https://nextdoor.com/', 'https://nextdoor.com/', 'https://nextdoor.nl/', 'https://nextdoor.co.uk/', 'https://nextdoor.de/', 'https://fr.nextdoor.com/', 'https://it.nextdoor.com/', 'https://es.nextdoor.com/', 'https://au.nextdoor.com/', 'https://dk.nextdoor.com/', 'https://se.nextdoor.com/', 'https://ca.nextdoor.com/', 'https://ca.nextdoor.com/', 'https://d19rpgkrjeba2z.cloudfront.net/b9b651cc0b575574/static/nextdoorv2/images/favicons/favicon-v2.ico']\n",
      "https://nextdoor.com['https://nextdoor.com/', 'https://nextdoor.com/', 'https://nextdoor.nl/', 'https://nextdoor.co.uk/', 'https://nextdoor.de/', 'https://fr.nextdoor.com/', 'https://it.nextdoor.com/', 'https://es.nextdoor.com/', 'https://au.nextdoor.com/', 'https://dk.nextdoor.com/', 'https://se.nextdoor.com/', 'https://ca.nextdoor.com/', 'https://ca.nextdoor.com/', 'https://d19rpgkrjeba2z.cloudfront.net/b9b651cc0b575574/static/nextdoorv2/images/favicons/favicon-v2.ico']\n",
      "\n"
     ]
    },
    {
     "name": "stderr",
     "output_type": "stream",
     "text": [
      "/home/dan/src/para/venv/lib/python3.6/site-packages/urllib3/connectionpool.py:1004: InsecureRequestWarning: Unverified HTTPS request is being made. Adding certificate verification is strongly advised. See: https://urllib3.readthedocs.io/en/latest/advanced-usage.html#ssl-warnings\n",
      "  InsecureRequestWarning,\n",
      "/home/dan/src/para/venv/lib/python3.6/site-packages/urllib3/connectionpool.py:1004: InsecureRequestWarning: Unverified HTTPS request is being made. Adding certificate verification is strongly advised. See: https://urllib3.readthedocs.io/en/latest/advanced-usage.html#ssl-warnings\n",
      "  InsecureRequestWarning,\n",
      "/home/dan/src/para/venv/lib/python3.6/site-packages/urllib3/connectionpool.py:1004: InsecureRequestWarning: Unverified HTTPS request is being made. Adding certificate verification is strongly advised. See: https://urllib3.readthedocs.io/en/latest/advanced-usage.html#ssl-warnings\n",
      "  InsecureRequestWarning,\n"
     ]
    },
    {
     "name": "stdout",
     "output_type": "stream",
     "text": [
      "https://nextdoor.com['https://nextdoor.com/', 'https://nextdoor.com/', 'https://nextdoor.nl/', 'https://nextdoor.co.uk/', 'https://nextdoor.de/', 'https://fr.nextdoor.com/', 'https://it.nextdoor.com/', 'https://es.nextdoor.com/', 'https://au.nextdoor.com/', 'https://dk.nextdoor.com/', 'https://se.nextdoor.com/', 'https://ca.nextdoor.com/', 'https://ca.nextdoor.com/', 'https://d19rpgkrjeba2z.cloudfront.net/b9b651cc0b575574/static/nextdoorv2/images/favicons/favicon-v2.ico']\n",
      "\n",
      "https://nextdoor.com['https://nextdoor.com/', 'https://nextdoor.com/', 'https://nextdoor.nl/', 'https://nextdoor.co.uk/', 'https://nextdoor.de/', 'https://fr.nextdoor.com/', 'https://it.nextdoor.com/', 'https://es.nextdoor.com/', 'https://au.nextdoor.com/', 'https://dk.nextdoor.com/', 'https://se.nextdoor.com/', 'https://ca.nextdoor.com/', 'https://ca.nextdoor.com/', 'https://d19rpgkrjeba2z.cloudfront.net/b9b651cc0b575574/static/nextdoorv2/images/favicons/favicon-v2.ico']\n",
      "\n",
      "https://nextdoor.com\n",
      "['https://nextdoor.com/', 'https://nextdoor.com/', 'https://nextdoor.nl/', 'https://nextdoor.co.uk/', 'https://nextdoor.de/', 'https://fr.nextdoor.com/', 'https://it.nextdoor.com/', 'https://es.nextdoor.com/', 'https://au.nextdoor.com/', 'https://dk.nextdoor.com/', 'https://se.nextdoor.com/', 'https://ca.nextdoor.com/', 'https://ca.nextdoor.com/', 'https://d19rpgkrjeba2z.cloudfront.net/b9b651cc0b575574/static/nextdoorv2/images/favicons/favicon-v2.ico']\n",
      "https://nextdoor.com['https://nextdoor.com/', 'https://nextdoor.com/', 'https://nextdoor.nl/', 'https://nextdoor.co.uk/', 'https://nextdoor.de/', 'https://fr.nextdoor.com/', 'https://it.nextdoor.com/', 'https://es.nextdoor.com/', 'https://au.nextdoor.com/', 'https://dk.nextdoor.com/', 'https://se.nextdoor.com/', 'https://ca.nextdoor.com/', 'https://ca.nextdoor.com/', 'https://d19rpgkrjeba2z.cloudfront.net/b9b651cc0b575574/static/nextdoorv2/images/favicons/favicon-v2.ico']\n",
      "\n",
      "https://nextdoor.com['https://nextdoor.com/', 'https://nextdoor.com/', 'https://nextdoor.nl/', 'https://nextdoor.co.uk/', 'https://nextdoor.de/', 'https://fr.nextdoor.com/', 'https://it.nextdoor.com/', 'https://es.nextdoor.com/', 'https://au.nextdoor.com/', 'https://dk.nextdoor.com/', 'https://se.nextdoor.com/', 'https://ca.nextdoor.com/', 'https://ca.nextdoor.com/', 'https://d19rpgkrjeba2z.cloudfront.net/b9b651cc0b575574/static/nextdoorv2/images/favicons/favicon-v2.ico']\n",
      "\n",
      "https://nextdoor.com['https://nextdoor.com/', 'https://nextdoor.com/', 'https://nextdoor.nl/', 'https://nextdoor.co.uk/', 'https://nextdoor.de/', 'https://fr.nextdoor.com/', 'https://it.nextdoor.com/', 'https://es.nextdoor.com/', 'https://au.nextdoor.com/', 'https://dk.nextdoor.com/', 'https://se.nextdoor.com/', 'https://ca.nextdoor.com/', 'https://ca.nextdoor.com/', 'https://d19rpgkrjeba2z.cloudfront.net/b9b651cc0b575574/static/nextdoorv2/images/favicons/favicon-v2.ico']\n",
      "\n"
     ]
    },
    {
     "name": "stderr",
     "output_type": "stream",
     "text": [
      "/home/dan/src/para/venv/lib/python3.6/site-packages/urllib3/connectionpool.py:1004: InsecureRequestWarning: Unverified HTTPS request is being made. Adding certificate verification is strongly advised. See: https://urllib3.readthedocs.io/en/latest/advanced-usage.html#ssl-warnings\n",
      "  InsecureRequestWarning,\n",
      "/home/dan/src/para/venv/lib/python3.6/site-packages/urllib3/connectionpool.py:1004: InsecureRequestWarning: Unverified HTTPS request is being made. Adding certificate verification is strongly advised. See: https://urllib3.readthedocs.io/en/latest/advanced-usage.html#ssl-warnings\n",
      "  InsecureRequestWarning,\n"
     ]
    },
    {
     "name": "stdout",
     "output_type": "stream",
     "text": [
      "https://nextdoor.com['https://nextdoor.com/', 'https://nextdoor.com/', 'https://nextdoor.nl/', 'https://nextdoor.co.uk/', 'https://nextdoor.de/', 'https://fr.nextdoor.com/', 'https://it.nextdoor.com/', 'https://es.nextdoor.com/', 'https://au.nextdoor.com/', 'https://dk.nextdoor.com/', 'https://se.nextdoor.com/', 'https://ca.nextdoor.com/', 'https://ca.nextdoor.com/', 'https://d19rpgkrjeba2z.cloudfront.net/b9b651cc0b575574/static/nextdoorv2/images/favicons/favicon-v2.ico']\n",
      "\n"
     ]
    },
    {
     "name": "stderr",
     "output_type": "stream",
     "text": [
      "/home/dan/src/para/venv/lib/python3.6/site-packages/urllib3/connectionpool.py:1004: InsecureRequestWarning: Unverified HTTPS request is being made. Adding certificate verification is strongly advised. See: https://urllib3.readthedocs.io/en/latest/advanced-usage.html#ssl-warnings\n",
      "  InsecureRequestWarning,\n",
      "/home/dan/src/para/venv/lib/python3.6/site-packages/urllib3/connectionpool.py:1004: InsecureRequestWarning: Unverified HTTPS request is being made. Adding certificate verification is strongly advised. See: https://urllib3.readthedocs.io/en/latest/advanced-usage.html#ssl-warnings\n",
      "  InsecureRequestWarning,\n",
      "/home/dan/src/para/venv/lib/python3.6/site-packages/urllib3/connectionpool.py:1004: InsecureRequestWarning: Unverified HTTPS request is being made. Adding certificate verification is strongly advised. See: https://urllib3.readthedocs.io/en/latest/advanced-usage.html#ssl-warnings\n",
      "  InsecureRequestWarning,\n",
      "/home/dan/src/para/venv/lib/python3.6/site-packages/urllib3/connectionpool.py:1004: InsecureRequestWarning: Unverified HTTPS request is being made. Adding certificate verification is strongly advised. See: https://urllib3.readthedocs.io/en/latest/advanced-usage.html#ssl-warnings\n",
      "  InsecureRequestWarning,\n",
      "/home/dan/src/para/venv/lib/python3.6/site-packages/urllib3/connectionpool.py:1004: InsecureRequestWarning: Unverified HTTPS request is being made. Adding certificate verification is strongly advised. See: https://urllib3.readthedocs.io/en/latest/advanced-usage.html#ssl-warnings\n",
      "  InsecureRequestWarning,\n"
     ]
    },
    {
     "name": "stdout",
     "output_type": "stream",
     "text": [
      "https://nextdoor.com\n",
      "['https://nextdoor.com/', 'https://nextdoor.com/', 'https://nextdoor.nl/', 'https://nextdoor.co.uk/', 'https://nextdoor.de/', 'https://fr.nextdoor.com/', 'https://it.nextdoor.com/', 'https://es.nextdoor.com/', 'https://au.nextdoor.com/', 'https://dk.nextdoor.com/', 'https://se.nextdoor.com/', 'https://ca.nextdoor.com/', 'https://ca.nextdoor.com/', 'https://d19rpgkrjeba2z.cloudfront.net/b9b651cc0b575574/static/nextdoorv2/images/favicons/favicon-v2.ico']https://nextdoor.com\n",
      "\n",
      "['https://nextdoor.com/', 'https://nextdoor.com/', 'https://nextdoor.nl/', 'https://nextdoor.co.uk/', 'https://nextdoor.de/', 'https://fr.nextdoor.com/', 'https://it.nextdoor.com/', 'https://es.nextdoor.com/', 'https://au.nextdoor.com/', 'https://dk.nextdoor.com/', 'https://se.nextdoor.com/', 'https://ca.nextdoor.com/', 'https://ca.nextdoor.com/', 'https://d19rpgkrjeba2z.cloudfront.net/b9b651cc0b575574/static/nextdoorv2/images/favicons/favicon-v2.ico']\n",
      "https://nextdoor.com\n",
      "['https://nextdoor.com/', 'https://nextdoor.com/', 'https://nextdoor.nl/', 'https://nextdoor.co.uk/', 'https://nextdoor.de/', 'https://fr.nextdoor.com/', 'https://it.nextdoor.com/', 'https://es.nextdoor.com/', 'https://au.nextdoor.com/', 'https://dk.nextdoor.com/', 'https://se.nextdoor.com/', 'https://ca.nextdoor.com/', 'https://ca.nextdoor.com/', 'https://d19rpgkrjeba2z.cloudfront.net/b9b651cc0b575574/static/nextdoorv2/images/favicons/favicon-v2.ico']\n",
      "https://nextdoor.com['https://nextdoor.com/', 'https://nextdoor.com/', 'https://nextdoor.nl/', 'https://nextdoor.co.uk/', 'https://nextdoor.de/', 'https://fr.nextdoor.com/', 'https://it.nextdoor.com/', 'https://es.nextdoor.com/', 'https://au.nextdoor.com/', 'https://dk.nextdoor.com/', 'https://se.nextdoor.com/', 'https://ca.nextdoor.com/', 'https://ca.nextdoor.com/', 'https://d19rpgkrjeba2z.cloudfront.net/b9b651cc0b575574/static/nextdoorv2/images/favicons/favicon-v2.ico']\n",
      "\n",
      "https://nextdoor.com\n",
      "['https://nextdoor.com/', 'https://nextdoor.com/', 'https://nextdoor.nl/', 'https://nextdoor.co.uk/', 'https://nextdoor.de/', 'https://fr.nextdoor.com/', 'https://it.nextdoor.com/', 'https://es.nextdoor.com/', 'https://au.nextdoor.com/', 'https://dk.nextdoor.com/', 'https://se.nextdoor.com/', 'https://ca.nextdoor.com/', 'https://ca.nextdoor.com/', 'https://d19rpgkrjeba2z.cloudfront.net/b9b651cc0b575574/static/nextdoorv2/images/favicons/favicon-v2.ico']\n",
      "https://nextdoor.com['https://nextdoor.com/', 'https://nextdoor.com/', 'https://nextdoor.nl/', 'https://nextdoor.co.uk/', 'https://nextdoor.de/', 'https://fr.nextdoor.com/', 'https://it.nextdoor.com/', 'https://es.nextdoor.com/', 'https://au.nextdoor.com/', 'https://dk.nextdoor.com/', 'https://se.nextdoor.com/', 'https://ca.nextdoor.com/', 'https://ca.nextdoor.com/', 'https://d19rpgkrjeba2z.cloudfront.net/b9b651cc0b575574/static/nextdoorv2/images/favicons/favicon-v2.ico']\n",
      "\n",
      "https://nextdoor.com['https://nextdoor.com/', 'https://nextdoor.com/', 'https://nextdoor.nl/', 'https://nextdoor.co.uk/', 'https://nextdoor.de/', 'https://fr.nextdoor.com/', 'https://it.nextdoor.com/', 'https://es.nextdoor.com/', 'https://au.nextdoor.com/', 'https://dk.nextdoor.com/', 'https://se.nextdoor.com/', 'https://ca.nextdoor.com/', 'https://ca.nextdoor.com/', 'https://d19rpgkrjeba2z.cloudfront.net/b9b651cc0b575574/static/nextdoorv2/images/favicons/favicon-v2.ico']\n",
      "\n"
     ]
    },
    {
     "name": "stderr",
     "output_type": "stream",
     "text": [
      "/home/dan/src/para/venv/lib/python3.6/site-packages/urllib3/connectionpool.py:1004: InsecureRequestWarning: Unverified HTTPS request is being made. Adding certificate verification is strongly advised. See: https://urllib3.readthedocs.io/en/latest/advanced-usage.html#ssl-warnings\n",
      "  InsecureRequestWarning,\n",
      "/home/dan/src/para/venv/lib/python3.6/site-packages/urllib3/connectionpool.py:1004: InsecureRequestWarning: Unverified HTTPS request is being made. Adding certificate verification is strongly advised. See: https://urllib3.readthedocs.io/en/latest/advanced-usage.html#ssl-warnings\n",
      "  InsecureRequestWarning,\n",
      "/home/dan/src/para/venv/lib/python3.6/site-packages/urllib3/connectionpool.py:1004: InsecureRequestWarning: Unverified HTTPS request is being made. Adding certificate verification is strongly advised. See: https://urllib3.readthedocs.io/en/latest/advanced-usage.html#ssl-warnings\n",
      "  InsecureRequestWarning,\n",
      "/home/dan/src/para/venv/lib/python3.6/site-packages/urllib3/connectionpool.py:1004: InsecureRequestWarning: Unverified HTTPS request is being made. Adding certificate verification is strongly advised. See: https://urllib3.readthedocs.io/en/latest/advanced-usage.html#ssl-warnings\n",
      "  InsecureRequestWarning,\n",
      "/home/dan/src/para/venv/lib/python3.6/site-packages/urllib3/connectionpool.py:1004: InsecureRequestWarning: Unverified HTTPS request is being made. Adding certificate verification is strongly advised. See: https://urllib3.readthedocs.io/en/latest/advanced-usage.html#ssl-warnings\n",
      "  InsecureRequestWarning,\n",
      "/home/dan/src/para/venv/lib/python3.6/site-packages/urllib3/connectionpool.py:1004: InsecureRequestWarning: Unverified HTTPS request is being made. Adding certificate verification is strongly advised. See: https://urllib3.readthedocs.io/en/latest/advanced-usage.html#ssl-warnings\n",
      "  InsecureRequestWarning,\n",
      "/home/dan/src/para/venv/lib/python3.6/site-packages/urllib3/connectionpool.py:1004: InsecureRequestWarning: Unverified HTTPS request is being made. Adding certificate verification is strongly advised. See: https://urllib3.readthedocs.io/en/latest/advanced-usage.html#ssl-warnings\n",
      "  InsecureRequestWarning,\n",
      "/home/dan/src/para/venv/lib/python3.6/site-packages/urllib3/connectionpool.py:1004: InsecureRequestWarning: Unverified HTTPS request is being made. Adding certificate verification is strongly advised. See: https://urllib3.readthedocs.io/en/latest/advanced-usage.html#ssl-warnings\n",
      "  InsecureRequestWarning,\n"
     ]
    },
    {
     "name": "stdout",
     "output_type": "stream",
     "text": [
      "https://nextdoor.com['https://nextdoor.com/', 'https://nextdoor.com/', 'https://nextdoor.nl/', 'https://nextdoor.co.uk/', 'https://nextdoor.de/', 'https://fr.nextdoor.com/', 'https://it.nextdoor.com/', 'https://es.nextdoor.com/', 'https://au.nextdoor.com/', 'https://dk.nextdoor.com/', 'https://se.nextdoor.com/', 'https://ca.nextdoor.com/', 'https://ca.nextdoor.com/', 'https://d19rpgkrjeba2z.cloudfront.net/b9b651cc0b575574/static/nextdoorv2/images/favicons/favicon-v2.ico']\n",
      "\n",
      "https://nextdoor.com['https://nextdoor.com/', 'https://nextdoor.com/', 'https://nextdoor.nl/', 'https://nextdoor.co.uk/', 'https://nextdoor.de/', 'https://fr.nextdoor.com/', 'https://it.nextdoor.com/', 'https://es.nextdoor.com/', 'https://au.nextdoor.com/', 'https://dk.nextdoor.com/', 'https://se.nextdoor.com/', 'https://ca.nextdoor.com/', 'https://ca.nextdoor.com/', 'https://d19rpgkrjeba2z.cloudfront.net/b9b651cc0b575574/static/nextdoorv2/images/favicons/favicon-v2.ico']\n",
      "\n",
      "https://nextdoor.com['https://nextdoor.com/', 'https://nextdoor.com/', 'https://nextdoor.nl/', 'https://nextdoor.co.uk/', 'https://nextdoor.de/', 'https://fr.nextdoor.com/', 'https://it.nextdoor.com/', 'https://es.nextdoor.com/', 'https://au.nextdoor.com/', 'https://dk.nextdoor.com/', 'https://se.nextdoor.com/', 'https://ca.nextdoor.com/', 'https://ca.nextdoor.com/', 'https://d19rpgkrjeba2z.cloudfront.net/b9b651cc0b575574/static/nextdoorv2/images/favicons/favicon-v2.ico']\n",
      "\n"
     ]
    },
    {
     "name": "stderr",
     "output_type": "stream",
     "text": [
      "/home/dan/src/para/venv/lib/python3.6/site-packages/urllib3/connectionpool.py:1004: InsecureRequestWarning: Unverified HTTPS request is being made. Adding certificate verification is strongly advised. See: https://urllib3.readthedocs.io/en/latest/advanced-usage.html#ssl-warnings\n",
      "  InsecureRequestWarning,\n",
      "/home/dan/src/para/venv/lib/python3.6/site-packages/urllib3/connectionpool.py:1004: InsecureRequestWarning: Unverified HTTPS request is being made. Adding certificate verification is strongly advised. See: https://urllib3.readthedocs.io/en/latest/advanced-usage.html#ssl-warnings\n",
      "  InsecureRequestWarning,\n",
      "/home/dan/src/para/venv/lib/python3.6/site-packages/urllib3/connectionpool.py:1004: InsecureRequestWarning: Unverified HTTPS request is being made. Adding certificate verification is strongly advised. See: https://urllib3.readthedocs.io/en/latest/advanced-usage.html#ssl-warnings\n",
      "  InsecureRequestWarning,\n",
      "/home/dan/src/para/venv/lib/python3.6/site-packages/urllib3/connectionpool.py:1004: InsecureRequestWarning: Unverified HTTPS request is being made. Adding certificate verification is strongly advised. See: https://urllib3.readthedocs.io/en/latest/advanced-usage.html#ssl-warnings\n",
      "  InsecureRequestWarning,\n",
      "/home/dan/src/para/venv/lib/python3.6/site-packages/urllib3/connectionpool.py:1004: InsecureRequestWarning: Unverified HTTPS request is being made. Adding certificate verification is strongly advised. See: https://urllib3.readthedocs.io/en/latest/advanced-usage.html#ssl-warnings\n",
      "  InsecureRequestWarning,\n"
     ]
    },
    {
     "name": "stdout",
     "output_type": "stream",
     "text": [
      "https://nextdoor.com['https://nextdoor.com/', 'https://nextdoor.com/', 'https://nextdoor.nl/', 'https://nextdoor.co.uk/', 'https://nextdoor.de/', 'https://fr.nextdoor.com/', 'https://it.nextdoor.com/', 'https://es.nextdoor.com/', 'https://au.nextdoor.com/', 'https://dk.nextdoor.com/', 'https://se.nextdoor.com/', 'https://ca.nextdoor.com/', 'https://ca.nextdoor.com/', 'https://d19rpgkrjeba2z.cloudfront.net/b9b651cc0b575574/static/nextdoorv2/images/favicons/favicon-v2.ico']\n",
      "\n",
      "https://nextdoor.com['https://nextdoor.com/', 'https://nextdoor.com/', 'https://nextdoor.nl/', 'https://nextdoor.co.uk/', 'https://nextdoor.de/', 'https://fr.nextdoor.com/', 'https://it.nextdoor.com/', 'https://es.nextdoor.com/', 'https://au.nextdoor.com/', 'https://dk.nextdoor.com/', 'https://se.nextdoor.com/', 'https://ca.nextdoor.com/', 'https://ca.nextdoor.com/', 'https://d19rpgkrjeba2z.cloudfront.net/b9b651cc0b575574/static/nextdoorv2/images/favicons/favicon-v2.ico']\n",
      "\n",
      "https://nextdoor.com['https://nextdoor.com/', 'https://nextdoor.com/', 'https://nextdoor.nl/', 'https://nextdoor.co.uk/', 'https://nextdoor.de/', 'https://fr.nextdoor.com/', 'https://it.nextdoor.com/', 'https://es.nextdoor.com/', 'https://au.nextdoor.com/', 'https://dk.nextdoor.com/', 'https://se.nextdoor.com/', 'https://ca.nextdoor.com/', 'https://ca.nextdoor.com/', 'https://d19rpgkrjeba2z.cloudfront.net/b9b651cc0b575574/static/nextdoorv2/images/favicons/favicon-v2.ico']\n",
      "\n",
      "https://nextdoor.com['https://nextdoor.com/', 'https://nextdoor.com/', 'https://nextdoor.nl/', 'https://nextdoor.co.uk/', 'https://nextdoor.de/', 'https://fr.nextdoor.com/', 'https://it.nextdoor.com/', 'https://es.nextdoor.com/', 'https://au.nextdoor.com/', 'https://dk.nextdoor.com/', 'https://se.nextdoor.com/', 'https://ca.nextdoor.com/', 'https://ca.nextdoor.com/', 'https://d19rpgkrjeba2z.cloudfront.net/b9b651cc0b575574/static/nextdoorv2/images/favicons/favicon-v2.ico']\n",
      "\n",
      "https://nextdoor.com['https://nextdoor.com/', 'https://nextdoor.com/', 'https://nextdoor.nl/', 'https://nextdoor.co.uk/', 'https://nextdoor.de/', 'https://fr.nextdoor.com/', 'https://it.nextdoor.com/', 'https://es.nextdoor.com/', 'https://au.nextdoor.com/', 'https://dk.nextdoor.com/', 'https://se.nextdoor.com/', 'https://ca.nextdoor.com/', 'https://ca.nextdoor.com/', 'https://d19rpgkrjeba2z.cloudfront.net/b9b651cc0b575574/static/nextdoorv2/images/favicons/favicon-v2.ico']\n",
      "\n",
      "https://nextdoor.com['https://nextdoor.com/', 'https://nextdoor.com/', 'https://nextdoor.nl/', 'https://nextdoor.co.uk/', 'https://nextdoor.de/', 'https://fr.nextdoor.com/', 'https://it.nextdoor.com/', 'https://es.nextdoor.com/', 'https://au.nextdoor.com/', 'https://dk.nextdoor.com/', 'https://se.nextdoor.com/', 'https://ca.nextdoor.com/', 'https://ca.nextdoor.com/', 'https://d19rpgkrjeba2z.cloudfront.net/b9b651cc0b575574/static/nextdoorv2/images/favicons/favicon-v2.ico']\n",
      "\n",
      "https://nextdoor.com['https://nextdoor.com/', 'https://nextdoor.com/', 'https://nextdoor.nl/', 'https://nextdoor.co.uk/', 'https://nextdoor.de/', 'https://fr.nextdoor.com/', 'https://it.nextdoor.com/', 'https://es.nextdoor.com/', 'https://au.nextdoor.com/', 'https://dk.nextdoor.com/', 'https://se.nextdoor.com/', 'https://ca.nextdoor.com/', 'https://ca.nextdoor.com/', 'https://d19rpgkrjeba2z.cloudfront.net/b9b651cc0b575574/static/nextdoorv2/images/favicons/favicon-v2.ico']\n",
      "\n",
      "https://nextdoor.com['https://nextdoor.com/', 'https://nextdoor.com/', 'https://nextdoor.nl/', 'https://nextdoor.co.uk/', 'https://nextdoor.de/', 'https://fr.nextdoor.com/', 'https://it.nextdoor.com/', 'https://es.nextdoor.com/', 'https://au.nextdoor.com/', 'https://dk.nextdoor.com/', 'https://se.nextdoor.com/', 'https://ca.nextdoor.com/', 'https://ca.nextdoor.com/', 'https://d19rpgkrjeba2z.cloudfront.net/b9b651cc0b575574/static/nextdoorv2/images/favicons/favicon-v2.ico']\n",
      "\n",
      "https://nextdoor.com['https://nextdoor.com/', 'https://nextdoor.com/', 'https://nextdoor.nl/', 'https://nextdoor.co.uk/', 'https://nextdoor.de/', 'https://fr.nextdoor.com/', 'https://it.nextdoor.com/', 'https://es.nextdoor.com/', 'https://au.nextdoor.com/', 'https://dk.nextdoor.com/', 'https://se.nextdoor.com/', 'https://ca.nextdoor.com/', 'https://ca.nextdoor.com/', 'https://d19rpgkrjeba2z.cloudfront.net/b9b651cc0b575574/static/nextdoorv2/images/favicons/favicon-v2.ico']\n",
      "\n",
      "https://nextdoor.com['https://nextdoor.com/', 'https://nextdoor.com/', 'https://nextdoor.nl/', 'https://nextdoor.co.uk/', 'https://nextdoor.de/', 'https://fr.nextdoor.com/', 'https://it.nextdoor.com/', 'https://es.nextdoor.com/', 'https://au.nextdoor.com/', 'https://dk.nextdoor.com/', 'https://se.nextdoor.com/', 'https://ca.nextdoor.com/', 'https://ca.nextdoor.com/', 'https://d19rpgkrjeba2z.cloudfront.net/b9b651cc0b575574/static/nextdoorv2/images/favicons/favicon-v2.ico']\n",
      "\n"
     ]
    },
    {
     "name": "stderr",
     "output_type": "stream",
     "text": [
      "/home/dan/src/para/venv/lib/python3.6/site-packages/urllib3/connectionpool.py:1004: InsecureRequestWarning: Unverified HTTPS request is being made. Adding certificate verification is strongly advised. See: https://urllib3.readthedocs.io/en/latest/advanced-usage.html#ssl-warnings\n",
      "  InsecureRequestWarning,\n",
      "/home/dan/src/para/venv/lib/python3.6/site-packages/urllib3/connectionpool.py:1004: InsecureRequestWarning: Unverified HTTPS request is being made. Adding certificate verification is strongly advised. See: https://urllib3.readthedocs.io/en/latest/advanced-usage.html#ssl-warnings\n",
      "  InsecureRequestWarning,\n",
      "/home/dan/src/para/venv/lib/python3.6/site-packages/urllib3/connectionpool.py:1004: InsecureRequestWarning: Unverified HTTPS request is being made. Adding certificate verification is strongly advised. See: https://urllib3.readthedocs.io/en/latest/advanced-usage.html#ssl-warnings\n",
      "  InsecureRequestWarning,\n",
      "/home/dan/src/para/venv/lib/python3.6/site-packages/urllib3/connectionpool.py:1004: InsecureRequestWarning: Unverified HTTPS request is being made. Adding certificate verification is strongly advised. See: https://urllib3.readthedocs.io/en/latest/advanced-usage.html#ssl-warnings\n",
      "  InsecureRequestWarning,\n",
      "/home/dan/src/para/venv/lib/python3.6/site-packages/urllib3/connectionpool.py:1004: InsecureRequestWarning: Unverified HTTPS request is being made. Adding certificate verification is strongly advised. See: https://urllib3.readthedocs.io/en/latest/advanced-usage.html#ssl-warnings\n",
      "  InsecureRequestWarning,\n"
     ]
    },
    {
     "name": "stdout",
     "output_type": "stream",
     "text": [
      "https://nextdoor.com['https://nextdoor.com/', 'https://nextdoor.com/', 'https://nextdoor.nl/', 'https://nextdoor.co.uk/', 'https://nextdoor.de/', 'https://fr.nextdoor.com/', 'https://it.nextdoor.com/', 'https://es.nextdoor.com/', 'https://au.nextdoor.com/', 'https://dk.nextdoor.com/', 'https://se.nextdoor.com/', 'https://ca.nextdoor.com/', 'https://ca.nextdoor.com/', 'https://d19rpgkrjeba2z.cloudfront.net/b9b651cc0b575574/static/nextdoorv2/images/favicons/favicon-v2.ico']\n",
      "\n",
      "https://nextdoor.com\n",
      "['https://nextdoor.com/', 'https://nextdoor.com/', 'https://nextdoor.nl/', 'https://nextdoor.co.uk/', 'https://nextdoor.de/', 'https://fr.nextdoor.com/', 'https://it.nextdoor.com/', 'https://es.nextdoor.com/', 'https://au.nextdoor.com/', 'https://dk.nextdoor.com/', 'https://se.nextdoor.com/', 'https://ca.nextdoor.com/', 'https://ca.nextdoor.com/', 'https://d19rpgkrjeba2z.cloudfront.net/b9b651cc0b575574/static/nextdoorv2/images/favicons/favicon-v2.ico']\n",
      "https://nextdoor.com['https://nextdoor.com/', 'https://nextdoor.com/', 'https://nextdoor.nl/', 'https://nextdoor.co.uk/', 'https://nextdoor.de/', 'https://fr.nextdoor.com/', 'https://it.nextdoor.com/', 'https://es.nextdoor.com/', 'https://au.nextdoor.com/', 'https://dk.nextdoor.com/', 'https://se.nextdoor.com/', 'https://ca.nextdoor.com/', 'https://ca.nextdoor.com/', 'https://d19rpgkrjeba2z.cloudfront.net/b9b651cc0b575574/static/nextdoorv2/images/favicons/favicon-v2.ico']\n",
      "\n"
     ]
    },
    {
     "name": "stderr",
     "output_type": "stream",
     "text": [
      "/home/dan/src/para/venv/lib/python3.6/site-packages/urllib3/connectionpool.py:1004: InsecureRequestWarning: Unverified HTTPS request is being made. Adding certificate verification is strongly advised. See: https://urllib3.readthedocs.io/en/latest/advanced-usage.html#ssl-warnings\n",
      "  InsecureRequestWarning,\n",
      "/home/dan/src/para/venv/lib/python3.6/site-packages/urllib3/connectionpool.py:1004: InsecureRequestWarning: Unverified HTTPS request is being made. Adding certificate verification is strongly advised. See: https://urllib3.readthedocs.io/en/latest/advanced-usage.html#ssl-warnings\n",
      "  InsecureRequestWarning,\n"
     ]
    },
    {
     "name": "stdout",
     "output_type": "stream",
     "text": [
      "https://nextdoor.com\n",
      "['https://nextdoor.com/', 'https://nextdoor.com/', 'https://nextdoor.nl/', 'https://nextdoor.co.uk/', 'https://nextdoor.de/', 'https://fr.nextdoor.com/', 'https://it.nextdoor.com/', 'https://es.nextdoor.com/', 'https://au.nextdoor.com/', 'https://dk.nextdoor.com/', 'https://se.nextdoor.com/', 'https://ca.nextdoor.com/', 'https://ca.nextdoor.com/', 'https://d19rpgkrjeba2z.cloudfront.net/b9b651cc0b575574/static/nextdoorv2/images/favicons/favicon-v2.ico']\n",
      "https://nextdoor.com['https://nextdoor.com/', 'https://nextdoor.com/', 'https://nextdoor.nl/', 'https://nextdoor.co.uk/', 'https://nextdoor.de/', 'https://fr.nextdoor.com/', 'https://it.nextdoor.com/', 'https://es.nextdoor.com/', 'https://au.nextdoor.com/', 'https://dk.nextdoor.com/', 'https://se.nextdoor.com/', 'https://ca.nextdoor.com/', 'https://ca.nextdoor.com/', 'https://d19rpgkrjeba2z.cloudfront.net/b9b651cc0b575574/static/nextdoorv2/images/favicons/favicon-v2.ico']\n",
      "\n"
     ]
    },
    {
     "name": "stderr",
     "output_type": "stream",
     "text": [
      "/home/dan/src/para/venv/lib/python3.6/site-packages/urllib3/connectionpool.py:1004: InsecureRequestWarning: Unverified HTTPS request is being made. Adding certificate verification is strongly advised. See: https://urllib3.readthedocs.io/en/latest/advanced-usage.html#ssl-warnings\n",
      "  InsecureRequestWarning,\n",
      "/home/dan/src/para/venv/lib/python3.6/site-packages/urllib3/connectionpool.py:1004: InsecureRequestWarning: Unverified HTTPS request is being made. Adding certificate verification is strongly advised. See: https://urllib3.readthedocs.io/en/latest/advanced-usage.html#ssl-warnings\n",
      "  InsecureRequestWarning,\n",
      "/home/dan/src/para/venv/lib/python3.6/site-packages/urllib3/connectionpool.py:1004: InsecureRequestWarning: Unverified HTTPS request is being made. Adding certificate verification is strongly advised. See: https://urllib3.readthedocs.io/en/latest/advanced-usage.html#ssl-warnings\n",
      "  InsecureRequestWarning,\n",
      "/home/dan/src/para/venv/lib/python3.6/site-packages/urllib3/connectionpool.py:1004: InsecureRequestWarning: Unverified HTTPS request is being made. Adding certificate verification is strongly advised. See: https://urllib3.readthedocs.io/en/latest/advanced-usage.html#ssl-warnings\n",
      "  InsecureRequestWarning,\n",
      "/home/dan/src/para/venv/lib/python3.6/site-packages/urllib3/connectionpool.py:1004: InsecureRequestWarning: Unverified HTTPS request is being made. Adding certificate verification is strongly advised. See: https://urllib3.readthedocs.io/en/latest/advanced-usage.html#ssl-warnings\n",
      "  InsecureRequestWarning,\n"
     ]
    },
    {
     "name": "stdout",
     "output_type": "stream",
     "text": [
      "https://nextdoor.com['https://nextdoor.com/', 'https://nextdoor.com/', 'https://nextdoor.nl/', 'https://nextdoor.co.uk/', 'https://nextdoor.de/', 'https://fr.nextdoor.com/', 'https://it.nextdoor.com/', 'https://es.nextdoor.com/', 'https://au.nextdoor.com/', 'https://dk.nextdoor.com/', 'https://se.nextdoor.com/', 'https://ca.nextdoor.com/', 'https://ca.nextdoor.com/', 'https://d19rpgkrjeba2z.cloudfront.net/b9b651cc0b575574/static/nextdoorv2/images/favicons/favicon-v2.ico']\n",
      "\n",
      "https://nextdoor.com['https://nextdoor.com/', 'https://nextdoor.com/', 'https://nextdoor.nl/', 'https://nextdoor.co.uk/', 'https://nextdoor.de/', 'https://fr.nextdoor.com/', 'https://it.nextdoor.com/', 'https://es.nextdoor.com/', 'https://au.nextdoor.com/', 'https://dk.nextdoor.com/', 'https://se.nextdoor.com/', 'https://ca.nextdoor.com/', 'https://ca.nextdoor.com/', 'https://d19rpgkrjeba2z.cloudfront.net/b9b651cc0b575574/static/nextdoorv2/images/favicons/favicon-v2.ico']\n",
      "\n",
      "https://nextdoor.com['https://nextdoor.com/', 'https://nextdoor.com/', 'https://nextdoor.nl/', 'https://nextdoor.co.uk/', 'https://nextdoor.de/', 'https://fr.nextdoor.com/', 'https://it.nextdoor.com/', 'https://es.nextdoor.com/', 'https://au.nextdoor.com/', 'https://dk.nextdoor.com/', 'https://se.nextdoor.com/', 'https://ca.nextdoor.com/', 'https://ca.nextdoor.com/', 'https://d19rpgkrjeba2z.cloudfront.net/b9b651cc0b575574/static/nextdoorv2/images/favicons/favicon-v2.ico']\n",
      "\n",
      "https://nextdoor.com\n",
      "['https://nextdoor.com/', 'https://nextdoor.com/', 'https://nextdoor.nl/', 'https://nextdoor.co.uk/', 'https://nextdoor.de/', 'https://fr.nextdoor.com/', 'https://it.nextdoor.com/', 'https://es.nextdoor.com/', 'https://au.nextdoor.com/', 'https://dk.nextdoor.com/', 'https://se.nextdoor.com/', 'https://ca.nextdoor.com/', 'https://ca.nextdoor.com/', 'https://d19rpgkrjeba2z.cloudfront.net/b9b651cc0b575574/static/nextdoorv2/images/favicons/favicon-v2.ico']\n",
      "https://nextdoor.com['https://nextdoor.com/', 'https://nextdoor.com/', 'https://nextdoor.nl/', 'https://nextdoor.co.uk/', 'https://nextdoor.de/', 'https://fr.nextdoor.com/', 'https://it.nextdoor.com/', 'https://es.nextdoor.com/', 'https://au.nextdoor.com/', 'https://dk.nextdoor.com/', 'https://se.nextdoor.com/', 'https://ca.nextdoor.com/', 'https://ca.nextdoor.com/', 'https://d19rpgkrjeba2z.cloudfront.net/b9b651cc0b575574/static/nextdoorv2/images/favicons/favicon-v2.ico']\n",
      "\n"
     ]
    },
    {
     "name": "stderr",
     "output_type": "stream",
     "text": [
      "/home/dan/src/para/venv/lib/python3.6/site-packages/urllib3/connectionpool.py:1004: InsecureRequestWarning: Unverified HTTPS request is being made. Adding certificate verification is strongly advised. See: https://urllib3.readthedocs.io/en/latest/advanced-usage.html#ssl-warnings\n",
      "  InsecureRequestWarning,\n",
      "/home/dan/src/para/venv/lib/python3.6/site-packages/urllib3/connectionpool.py:1004: InsecureRequestWarning: Unverified HTTPS request is being made. Adding certificate verification is strongly advised. See: https://urllib3.readthedocs.io/en/latest/advanced-usage.html#ssl-warnings\n",
      "  InsecureRequestWarning,\n",
      "/home/dan/src/para/venv/lib/python3.6/site-packages/urllib3/connectionpool.py:1004: InsecureRequestWarning: Unverified HTTPS request is being made. Adding certificate verification is strongly advised. See: https://urllib3.readthedocs.io/en/latest/advanced-usage.html#ssl-warnings\n",
      "  InsecureRequestWarning,\n",
      "/home/dan/src/para/venv/lib/python3.6/site-packages/urllib3/connectionpool.py:1004: InsecureRequestWarning: Unverified HTTPS request is being made. Adding certificate verification is strongly advised. See: https://urllib3.readthedocs.io/en/latest/advanced-usage.html#ssl-warnings\n",
      "  InsecureRequestWarning,\n",
      "/home/dan/src/para/venv/lib/python3.6/site-packages/urllib3/connectionpool.py:1004: InsecureRequestWarning: Unverified HTTPS request is being made. Adding certificate verification is strongly advised. See: https://urllib3.readthedocs.io/en/latest/advanced-usage.html#ssl-warnings\n",
      "  InsecureRequestWarning,\n",
      "/home/dan/src/para/venv/lib/python3.6/site-packages/urllib3/connectionpool.py:1004: InsecureRequestWarning: Unverified HTTPS request is being made. Adding certificate verification is strongly advised. See: https://urllib3.readthedocs.io/en/latest/advanced-usage.html#ssl-warnings\n",
      "  InsecureRequestWarning,\n"
     ]
    },
    {
     "name": "stdout",
     "output_type": "stream",
     "text": [
      "https://nextdoor.com\n",
      "['https://nextdoor.com/', 'https://nextdoor.com/', 'https://nextdoor.nl/', 'https://nextdoor.co.uk/', 'https://nextdoor.de/', 'https://fr.nextdoor.com/', 'https://it.nextdoor.com/', 'https://es.nextdoor.com/', 'https://au.nextdoor.com/', 'https://dk.nextdoor.com/', 'https://se.nextdoor.com/', 'https://ca.nextdoor.com/', 'https://ca.nextdoor.com/', 'https://d19rpgkrjeba2z.cloudfront.net/b9b651cc0b575574/static/nextdoorv2/images/favicons/favicon-v2.ico']\n",
      "https://nextdoor.com['https://nextdoor.com/', 'https://nextdoor.com/', 'https://nextdoor.nl/', 'https://nextdoor.co.uk/', 'https://nextdoor.de/', 'https://fr.nextdoor.com/', 'https://it.nextdoor.com/', 'https://es.nextdoor.com/', 'https://au.nextdoor.com/', 'https://dk.nextdoor.com/', 'https://se.nextdoor.com/', 'https://ca.nextdoor.com/', 'https://ca.nextdoor.com/', 'https://d19rpgkrjeba2z.cloudfront.net/b9b651cc0b575574/static/nextdoorv2/images/favicons/favicon-v2.ico']\n",
      "\n",
      "https://nextdoor.com['https://nextdoor.com/', 'https://nextdoor.com/', 'https://nextdoor.nl/', 'https://nextdoor.co.uk/', 'https://nextdoor.de/', 'https://fr.nextdoor.com/', 'https://it.nextdoor.com/', 'https://es.nextdoor.com/', 'https://au.nextdoor.com/', 'https://dk.nextdoor.com/', 'https://se.nextdoor.com/', 'https://ca.nextdoor.com/', 'https://ca.nextdoor.com/', 'https://d19rpgkrjeba2z.cloudfront.net/b9b651cc0b575574/static/nextdoorv2/images/favicons/favicon-v2.ico']\n",
      "\n",
      "https://nextdoor.com\n",
      "['https://nextdoor.com/', 'https://nextdoor.com/', 'https://nextdoor.nl/', 'https://nextdoor.co.uk/', 'https://nextdoor.de/', 'https://fr.nextdoor.com/', 'https://it.nextdoor.com/', 'https://es.nextdoor.com/', 'https://au.nextdoor.com/', 'https://dk.nextdoor.com/', 'https://se.nextdoor.com/', 'https://ca.nextdoor.com/', 'https://ca.nextdoor.com/', 'https://d19rpgkrjeba2z.cloudfront.net/b9b651cc0b575574/static/nextdoorv2/images/favicons/favicon-v2.ico']\n",
      "https://nextdoor.com\n",
      "['https://nextdoor.com/', 'https://nextdoor.com/', 'https://nextdoor.nl/', 'https://nextdoor.co.uk/', 'https://nextdoor.de/', 'https://fr.nextdoor.com/', 'https://it.nextdoor.com/', 'https://es.nextdoor.com/', 'https://au.nextdoor.com/', 'https://dk.nextdoor.com/', 'https://se.nextdoor.com/', 'https://ca.nextdoor.com/', 'https://ca.nextdoor.com/', 'https://d19rpgkrjeba2z.cloudfront.net/b9b651cc0b575574/static/nextdoorv2/images/favicons/favicon-v2.ico']\n",
      "https://nextdoor.com['https://nextdoor.com/', 'https://nextdoor.com/', 'https://nextdoor.nl/', 'https://nextdoor.co.uk/', 'https://nextdoor.de/', 'https://fr.nextdoor.com/', 'https://it.nextdoor.com/', 'https://es.nextdoor.com/', 'https://au.nextdoor.com/', 'https://dk.nextdoor.com/', 'https://se.nextdoor.com/', 'https://ca.nextdoor.com/', 'https://ca.nextdoor.com/', 'https://d19rpgkrjeba2z.cloudfront.net/b9b651cc0b575574/static/nextdoorv2/images/favicons/favicon-v2.ico']\n",
      "\n"
     ]
    },
    {
     "name": "stderr",
     "output_type": "stream",
     "text": [
      "/home/dan/src/para/venv/lib/python3.6/site-packages/urllib3/connectionpool.py:1004: InsecureRequestWarning: Unverified HTTPS request is being made. Adding certificate verification is strongly advised. See: https://urllib3.readthedocs.io/en/latest/advanced-usage.html#ssl-warnings\n",
      "  InsecureRequestWarning,\n",
      "/home/dan/src/para/venv/lib/python3.6/site-packages/urllib3/connectionpool.py:1004: InsecureRequestWarning: Unverified HTTPS request is being made. Adding certificate verification is strongly advised. See: https://urllib3.readthedocs.io/en/latest/advanced-usage.html#ssl-warnings\n",
      "  InsecureRequestWarning,\n",
      "/home/dan/src/para/venv/lib/python3.6/site-packages/urllib3/connectionpool.py:1004: InsecureRequestWarning: Unverified HTTPS request is being made. Adding certificate verification is strongly advised. See: https://urllib3.readthedocs.io/en/latest/advanced-usage.html#ssl-warnings\n",
      "  InsecureRequestWarning,\n",
      "/home/dan/src/para/venv/lib/python3.6/site-packages/urllib3/connectionpool.py:1004: InsecureRequestWarning: Unverified HTTPS request is being made. Adding certificate verification is strongly advised. See: https://urllib3.readthedocs.io/en/latest/advanced-usage.html#ssl-warnings\n",
      "  InsecureRequestWarning,\n",
      "/home/dan/src/para/venv/lib/python3.6/site-packages/urllib3/connectionpool.py:1004: InsecureRequestWarning: Unverified HTTPS request is being made. Adding certificate verification is strongly advised. See: https://urllib3.readthedocs.io/en/latest/advanced-usage.html#ssl-warnings\n",
      "  InsecureRequestWarning,\n"
     ]
    },
    {
     "name": "stdout",
     "output_type": "stream",
     "text": [
      "https://nextdoor.com\n",
      "['https://nextdoor.com/', 'https://nextdoor.com/', 'https://nextdoor.nl/', 'https://nextdoor.co.uk/', 'https://nextdoor.de/', 'https://fr.nextdoor.com/', 'https://it.nextdoor.com/', 'https://es.nextdoor.com/', 'https://au.nextdoor.com/', 'https://dk.nextdoor.com/', 'https://se.nextdoor.com/', 'https://ca.nextdoor.com/', 'https://ca.nextdoor.com/', 'https://d19rpgkrjeba2z.cloudfront.net/b9b651cc0b575574/static/nextdoorv2/images/favicons/favicon-v2.ico']\n",
      "https://nextdoor.com\n",
      "['https://nextdoor.com/', 'https://nextdoor.com/', 'https://nextdoor.nl/', 'https://nextdoor.co.uk/', 'https://nextdoor.de/', 'https://fr.nextdoor.com/', 'https://it.nextdoor.com/', 'https://es.nextdoor.com/', 'https://au.nextdoor.com/', 'https://dk.nextdoor.com/', 'https://se.nextdoor.com/', 'https://ca.nextdoor.com/', 'https://ca.nextdoor.com/', 'https://d19rpgkrjeba2z.cloudfront.net/b9b651cc0b575574/static/nextdoorv2/images/favicons/favicon-v2.ico']\n",
      "https://nextdoor.com['https://nextdoor.com/', 'https://nextdoor.com/', 'https://nextdoor.nl/', 'https://nextdoor.co.uk/', 'https://nextdoor.de/', 'https://fr.nextdoor.com/', 'https://it.nextdoor.com/', 'https://es.nextdoor.com/', 'https://au.nextdoor.com/', 'https://dk.nextdoor.com/', 'https://se.nextdoor.com/', 'https://ca.nextdoor.com/', 'https://ca.nextdoor.com/', 'https://d19rpgkrjeba2z.cloudfront.net/b9b651cc0b575574/static/nextdoorv2/images/favicons/favicon-v2.ico']\n",
      "\n",
      "https://nextdoor.com\n",
      "['https://nextdoor.com/', 'https://nextdoor.com/', 'https://nextdoor.nl/', 'https://nextdoor.co.uk/', 'https://nextdoor.de/', 'https://fr.nextdoor.com/', 'https://it.nextdoor.com/', 'https://es.nextdoor.com/', 'https://au.nextdoor.com/', 'https://dk.nextdoor.com/', 'https://se.nextdoor.com/', 'https://ca.nextdoor.com/', 'https://ca.nextdoor.com/', 'https://d19rpgkrjeba2z.cloudfront.net/b9b651cc0b575574/static/nextdoorv2/images/favicons/favicon-v2.ico']\n"
     ]
    },
    {
     "name": "stderr",
     "output_type": "stream",
     "text": [
      "/home/dan/src/para/venv/lib/python3.6/site-packages/urllib3/connectionpool.py:1004: InsecureRequestWarning: Unverified HTTPS request is being made. Adding certificate verification is strongly advised. See: https://urllib3.readthedocs.io/en/latest/advanced-usage.html#ssl-warnings\n",
      "  InsecureRequestWarning,\n",
      "/home/dan/src/para/venv/lib/python3.6/site-packages/urllib3/connectionpool.py:1004: InsecureRequestWarning: Unverified HTTPS request is being made. Adding certificate verification is strongly advised. See: https://urllib3.readthedocs.io/en/latest/advanced-usage.html#ssl-warnings\n",
      "  InsecureRequestWarning,\n"
     ]
    },
    {
     "name": "stdout",
     "output_type": "stream",
     "text": [
      "https://nextdoor.comhttps://nextdoor.com['https://nextdoor.com/', 'https://nextdoor.com/', 'https://nextdoor.nl/', 'https://nextdoor.co.uk/', 'https://nextdoor.de/', 'https://fr.nextdoor.com/', 'https://it.nextdoor.com/', 'https://es.nextdoor.com/', 'https://au.nextdoor.com/', 'https://dk.nextdoor.com/', 'https://se.nextdoor.com/', 'https://ca.nextdoor.com/', 'https://ca.nextdoor.com/', 'https://d19rpgkrjeba2z.cloudfront.net/b9b651cc0b575574/static/nextdoorv2/images/favicons/favicon-v2.ico']\n",
      "\n",
      "['https://nextdoor.com/', 'https://nextdoor.com/', 'https://nextdoor.nl/', 'https://nextdoor.co.uk/', 'https://nextdoor.de/', 'https://fr.nextdoor.com/', 'https://it.nextdoor.com/', 'https://es.nextdoor.com/', 'https://au.nextdoor.com/', 'https://dk.nextdoor.com/', 'https://se.nextdoor.com/', 'https://ca.nextdoor.com/', 'https://ca.nextdoor.com/', 'https://d19rpgkrjeba2z.cloudfront.net/b9b651cc0b575574/static/nextdoorv2/images/favicons/favicon-v2.ico']\n",
      "\n",
      "https://nextdoor.com\n",
      "['https://nextdoor.com/', 'https://nextdoor.com/', 'https://nextdoor.nl/', 'https://nextdoor.co.uk/', 'https://nextdoor.de/', 'https://fr.nextdoor.com/', 'https://it.nextdoor.com/', 'https://es.nextdoor.com/', 'https://au.nextdoor.com/', 'https://dk.nextdoor.com/', 'https://se.nextdoor.com/', 'https://ca.nextdoor.com/', 'https://ca.nextdoor.com/', 'https://d19rpgkrjeba2z.cloudfront.net/b9b651cc0b575574/static/nextdoorv2/images/favicons/favicon-v2.ico']\n",
      "https://nextdoor.com\n",
      "['https://nextdoor.com/', 'https://nextdoor.com/', 'https://nextdoor.nl/', 'https://nextdoor.co.uk/', 'https://nextdoor.de/', 'https://fr.nextdoor.com/', 'https://it.nextdoor.com/', 'https://es.nextdoor.com/', 'https://au.nextdoor.com/', 'https://dk.nextdoor.com/', 'https://se.nextdoor.com/', 'https://ca.nextdoor.com/', 'https://ca.nextdoor.com/', 'https://d19rpgkrjeba2z.cloudfront.net/b9b651cc0b575574/static/nextdoorv2/images/favicons/favicon-v2.ico']\n",
      "https://nextdoor.com['https://nextdoor.com/', 'https://nextdoor.com/', 'https://nextdoor.nl/', 'https://nextdoor.co.uk/', 'https://nextdoor.de/', 'https://fr.nextdoor.com/', 'https://it.nextdoor.com/', 'https://es.nextdoor.com/', 'https://au.nextdoor.com/', 'https://dk.nextdoor.com/', 'https://se.nextdoor.com/', 'https://ca.nextdoor.com/', 'https://ca.nextdoor.com/', 'https://d19rpgkrjeba2z.cloudfront.net/b9b651cc0b575574/static/nextdoorv2/images/favicons/favicon-v2.ico']\n",
      "\n",
      "https://nextdoor.com['https://nextdoor.com/', 'https://nextdoor.com/', 'https://nextdoor.nl/', 'https://nextdoor.co.uk/', 'https://nextdoor.de/', 'https://fr.nextdoor.com/', 'https://it.nextdoor.com/', 'https://es.nextdoor.com/', 'https://au.nextdoor.com/', 'https://dk.nextdoor.com/', 'https://se.nextdoor.com/', 'https://ca.nextdoor.com/', 'https://ca.nextdoor.com/', 'https://d19rpgkrjeba2z.cloudfront.net/b9b651cc0b575574/static/nextdoorv2/images/favicons/favicon-v2.ico']\n",
      "\n"
     ]
    },
    {
     "name": "stderr",
     "output_type": "stream",
     "text": [
      "/home/dan/src/para/venv/lib/python3.6/site-packages/urllib3/connectionpool.py:1004: InsecureRequestWarning: Unverified HTTPS request is being made. Adding certificate verification is strongly advised. See: https://urllib3.readthedocs.io/en/latest/advanced-usage.html#ssl-warnings\n",
      "  InsecureRequestWarning,\n",
      "/home/dan/src/para/venv/lib/python3.6/site-packages/urllib3/connectionpool.py:1004: InsecureRequestWarning: Unverified HTTPS request is being made. Adding certificate verification is strongly advised. See: https://urllib3.readthedocs.io/en/latest/advanced-usage.html#ssl-warnings\n",
      "  InsecureRequestWarning,\n",
      "/home/dan/src/para/venv/lib/python3.6/site-packages/urllib3/connectionpool.py:1004: InsecureRequestWarning: Unverified HTTPS request is being made. Adding certificate verification is strongly advised. See: https://urllib3.readthedocs.io/en/latest/advanced-usage.html#ssl-warnings\n",
      "  InsecureRequestWarning,\n",
      "/home/dan/src/para/venv/lib/python3.6/site-packages/urllib3/connectionpool.py:1004: InsecureRequestWarning: Unverified HTTPS request is being made. Adding certificate verification is strongly advised. See: https://urllib3.readthedocs.io/en/latest/advanced-usage.html#ssl-warnings\n",
      "  InsecureRequestWarning,\n"
     ]
    },
    {
     "name": "stdout",
     "output_type": "stream",
     "text": [
      "https://nextdoor.com\n",
      "['https://nextdoor.com/', 'https://nextdoor.com/', 'https://nextdoor.nl/', 'https://nextdoor.co.uk/', 'https://nextdoor.de/', 'https://fr.nextdoor.com/', 'https://it.nextdoor.com/', 'https://es.nextdoor.com/', 'https://au.nextdoor.com/', 'https://dk.nextdoor.com/', 'https://se.nextdoor.com/', 'https://ca.nextdoor.com/', 'https://ca.nextdoor.com/', 'https://d19rpgkrjeba2z.cloudfront.net/b9b651cc0b575574/static/nextdoorv2/images/favicons/favicon-v2.ico']\n",
      "https://nextdoor.com\n",
      "['https://nextdoor.com/', 'https://nextdoor.com/', 'https://nextdoor.nl/', 'https://nextdoor.co.uk/', 'https://nextdoor.de/', 'https://fr.nextdoor.com/', 'https://it.nextdoor.com/', 'https://es.nextdoor.com/', 'https://au.nextdoor.com/', 'https://dk.nextdoor.com/', 'https://se.nextdoor.com/', 'https://ca.nextdoor.com/', 'https://ca.nextdoor.com/', 'https://d19rpgkrjeba2z.cloudfront.net/b9b651cc0b575574/static/nextdoorv2/images/favicons/favicon-v2.ico']\n",
      "https://nextdoor.com['https://nextdoor.com/', 'https://nextdoor.com/', 'https://nextdoor.nl/', 'https://nextdoor.co.uk/', 'https://nextdoor.de/', 'https://fr.nextdoor.com/', 'https://it.nextdoor.com/', 'https://es.nextdoor.com/', 'https://au.nextdoor.com/', 'https://dk.nextdoor.com/', 'https://se.nextdoor.com/', 'https://ca.nextdoor.com/', 'https://ca.nextdoor.com/', 'https://d19rpgkrjeba2z.cloudfront.net/b9b651cc0b575574/static/nextdoorv2/images/favicons/favicon-v2.ico']\n",
      "\n"
     ]
    },
    {
     "name": "stderr",
     "output_type": "stream",
     "text": [
      "/home/dan/src/para/venv/lib/python3.6/site-packages/urllib3/connectionpool.py:1004: InsecureRequestWarning: Unverified HTTPS request is being made. Adding certificate verification is strongly advised. See: https://urllib3.readthedocs.io/en/latest/advanced-usage.html#ssl-warnings\n",
      "  InsecureRequestWarning,\n",
      "/home/dan/src/para/venv/lib/python3.6/site-packages/urllib3/connectionpool.py:1004: InsecureRequestWarning: Unverified HTTPS request is being made. Adding certificate verification is strongly advised. See: https://urllib3.readthedocs.io/en/latest/advanced-usage.html#ssl-warnings\n",
      "  InsecureRequestWarning,\n",
      "/home/dan/src/para/venv/lib/python3.6/site-packages/urllib3/connectionpool.py:1004: InsecureRequestWarning: Unverified HTTPS request is being made. Adding certificate verification is strongly advised. See: https://urllib3.readthedocs.io/en/latest/advanced-usage.html#ssl-warnings\n",
      "  InsecureRequestWarning,\n",
      "/home/dan/src/para/venv/lib/python3.6/site-packages/urllib3/connectionpool.py:1004: InsecureRequestWarning: Unverified HTTPS request is being made. Adding certificate verification is strongly advised. See: https://urllib3.readthedocs.io/en/latest/advanced-usage.html#ssl-warnings\n",
      "  InsecureRequestWarning,\n",
      "/home/dan/src/para/venv/lib/python3.6/site-packages/urllib3/connectionpool.py:1004: InsecureRequestWarning: Unverified HTTPS request is being made. Adding certificate verification is strongly advised. See: https://urllib3.readthedocs.io/en/latest/advanced-usage.html#ssl-warnings\n",
      "  InsecureRequestWarning,\n",
      "/home/dan/src/para/venv/lib/python3.6/site-packages/urllib3/connectionpool.py:1004: InsecureRequestWarning: Unverified HTTPS request is being made. Adding certificate verification is strongly advised. See: https://urllib3.readthedocs.io/en/latest/advanced-usage.html#ssl-warnings\n",
      "  InsecureRequestWarning,\n",
      "/home/dan/src/para/venv/lib/python3.6/site-packages/urllib3/connectionpool.py:1004: InsecureRequestWarning: Unverified HTTPS request is being made. Adding certificate verification is strongly advised. See: https://urllib3.readthedocs.io/en/latest/advanced-usage.html#ssl-warnings\n",
      "  InsecureRequestWarning,\n"
     ]
    },
    {
     "name": "stdout",
     "output_type": "stream",
     "text": [
      "https://nextdoor.comhttps://nextdoor.com\n",
      "['https://nextdoor.com/', 'https://nextdoor.com/', 'https://nextdoor.nl/', 'https://nextdoor.co.uk/', 'https://nextdoor.de/', 'https://fr.nextdoor.com/', 'https://it.nextdoor.com/', 'https://es.nextdoor.com/', 'https://au.nextdoor.com/', 'https://dk.nextdoor.com/', 'https://se.nextdoor.com/', 'https://ca.nextdoor.com/', 'https://ca.nextdoor.com/', 'https://d19rpgkrjeba2z.cloudfront.net/b9b651cc0b575574/static/nextdoorv2/images/favicons/favicon-v2.ico']\n",
      "\n",
      "['https://nextdoor.com/', 'https://nextdoor.com/', 'https://nextdoor.nl/', 'https://nextdoor.co.uk/', 'https://nextdoor.de/', 'https://fr.nextdoor.com/', 'https://it.nextdoor.com/', 'https://es.nextdoor.com/', 'https://au.nextdoor.com/', 'https://dk.nextdoor.com/', 'https://se.nextdoor.com/', 'https://ca.nextdoor.com/', 'https://ca.nextdoor.com/', 'https://d19rpgkrjeba2z.cloudfront.net/b9b651cc0b575574/static/nextdoorv2/images/favicons/favicon-v2.ico']\n",
      "https://nextdoor.com\n",
      "['https://nextdoor.com/', 'https://nextdoor.com/', 'https://nextdoor.nl/', 'https://nextdoor.co.uk/', 'https://nextdoor.de/', 'https://fr.nextdoor.com/', 'https://it.nextdoor.com/', 'https://es.nextdoor.com/', 'https://au.nextdoor.com/', 'https://dk.nextdoor.com/', 'https://se.nextdoor.com/', 'https://ca.nextdoor.com/', 'https://ca.nextdoor.com/', 'https://d19rpgkrjeba2z.cloudfront.net/b9b651cc0b575574/static/nextdoorv2/images/favicons/favicon-v2.ico']\n",
      "https://nextdoor.com['https://nextdoor.com/', 'https://nextdoor.com/', 'https://nextdoor.nl/', 'https://nextdoor.co.uk/', 'https://nextdoor.de/', 'https://fr.nextdoor.com/', 'https://it.nextdoor.com/', 'https://es.nextdoor.com/', 'https://au.nextdoor.com/', 'https://dk.nextdoor.com/', 'https://se.nextdoor.com/', 'https://ca.nextdoor.com/', 'https://ca.nextdoor.com/', 'https://d19rpgkrjeba2z.cloudfront.net/b9b651cc0b575574/static/nextdoorv2/images/favicons/favicon-v2.ico']\n",
      "\n",
      "https://nextdoor.com['https://nextdoor.com/', 'https://nextdoor.com/', 'https://nextdoor.nl/', 'https://nextdoor.co.uk/', 'https://nextdoor.de/', 'https://fr.nextdoor.com/', 'https://it.nextdoor.com/', 'https://es.nextdoor.com/', 'https://au.nextdoor.com/', 'https://dk.nextdoor.com/', 'https://se.nextdoor.com/', 'https://ca.nextdoor.com/', 'https://ca.nextdoor.com/', 'https://d19rpgkrjeba2z.cloudfront.net/b9b651cc0b575574/static/nextdoorv2/images/favicons/favicon-v2.ico']\n",
      "\n"
     ]
    },
    {
     "name": "stderr",
     "output_type": "stream",
     "text": [
      "/home/dan/src/para/venv/lib/python3.6/site-packages/urllib3/connectionpool.py:1004: InsecureRequestWarning: Unverified HTTPS request is being made. Adding certificate verification is strongly advised. See: https://urllib3.readthedocs.io/en/latest/advanced-usage.html#ssl-warnings\n",
      "  InsecureRequestWarning,\n",
      "/home/dan/src/para/venv/lib/python3.6/site-packages/urllib3/connectionpool.py:1004: InsecureRequestWarning: Unverified HTTPS request is being made. Adding certificate verification is strongly advised. See: https://urllib3.readthedocs.io/en/latest/advanced-usage.html#ssl-warnings\n",
      "  InsecureRequestWarning,\n",
      "/home/dan/src/para/venv/lib/python3.6/site-packages/urllib3/connectionpool.py:1004: InsecureRequestWarning: Unverified HTTPS request is being made. Adding certificate verification is strongly advised. See: https://urllib3.readthedocs.io/en/latest/advanced-usage.html#ssl-warnings\n",
      "  InsecureRequestWarning,\n",
      "/home/dan/src/para/venv/lib/python3.6/site-packages/urllib3/connectionpool.py:1004: InsecureRequestWarning: Unverified HTTPS request is being made. Adding certificate verification is strongly advised. See: https://urllib3.readthedocs.io/en/latest/advanced-usage.html#ssl-warnings\n",
      "  InsecureRequestWarning,\n"
     ]
    },
    {
     "name": "stdout",
     "output_type": "stream",
     "text": [
      "https://nextdoor.com['https://nextdoor.com/', 'https://nextdoor.com/', 'https://nextdoor.nl/', 'https://nextdoor.co.uk/', 'https://nextdoor.de/', 'https://fr.nextdoor.com/', 'https://it.nextdoor.com/', 'https://es.nextdoor.com/', 'https://au.nextdoor.com/', 'https://dk.nextdoor.com/', 'https://se.nextdoor.com/', 'https://ca.nextdoor.com/', 'https://ca.nextdoor.com/', 'https://d19rpgkrjeba2z.cloudfront.net/b9b651cc0b575574/static/nextdoorv2/images/favicons/favicon-v2.ico']\n",
      "\n",
      "https://nextdoor.com\n",
      "['https://nextdoor.com/', 'https://nextdoor.com/', 'https://nextdoor.nl/', 'https://nextdoor.co.uk/', 'https://nextdoor.de/', 'https://fr.nextdoor.com/', 'https://it.nextdoor.com/', 'https://es.nextdoor.com/', 'https://au.nextdoor.com/', 'https://dk.nextdoor.com/', 'https://se.nextdoor.com/', 'https://ca.nextdoor.com/', 'https://ca.nextdoor.com/', 'https://d19rpgkrjeba2z.cloudfront.net/b9b651cc0b575574/static/nextdoorv2/images/favicons/favicon-v2.ico']\n",
      "https://nextdoor.com['https://nextdoor.com/', 'https://nextdoor.com/', 'https://nextdoor.nl/', 'https://nextdoor.co.uk/', 'https://nextdoor.de/', 'https://fr.nextdoor.com/', 'https://it.nextdoor.com/', 'https://es.nextdoor.com/', 'https://au.nextdoor.com/', 'https://dk.nextdoor.com/', 'https://se.nextdoor.com/', 'https://ca.nextdoor.com/', 'https://ca.nextdoor.com/', 'https://d19rpgkrjeba2z.cloudfront.net/b9b651cc0b575574/static/nextdoorv2/images/favicons/favicon-v2.ico']\n",
      "\n",
      "https://nextdoor.com['https://nextdoor.com/', 'https://nextdoor.com/', 'https://nextdoor.nl/', 'https://nextdoor.co.uk/', 'https://nextdoor.de/', 'https://fr.nextdoor.com/', 'https://it.nextdoor.com/', 'https://es.nextdoor.com/', 'https://au.nextdoor.com/', 'https://dk.nextdoor.com/', 'https://se.nextdoor.com/', 'https://ca.nextdoor.com/', 'https://ca.nextdoor.com/', 'https://d19rpgkrjeba2z.cloudfront.net/b9b651cc0b575574/static/nextdoorv2/images/favicons/favicon-v2.ico']\n",
      "\n",
      "https://nextdoor.com['https://nextdoor.com/', 'https://nextdoor.com/', 'https://nextdoor.nl/', 'https://nextdoor.co.uk/', 'https://nextdoor.de/', 'https://fr.nextdoor.com/', 'https://it.nextdoor.com/', 'https://es.nextdoor.com/', 'https://au.nextdoor.com/', 'https://dk.nextdoor.com/', 'https://se.nextdoor.com/', 'https://ca.nextdoor.com/', 'https://ca.nextdoor.com/', 'https://d19rpgkrjeba2z.cloudfront.net/b9b651cc0b575574/static/nextdoorv2/images/favicons/favicon-v2.ico']\n",
      "\n",
      "https://nextdoor.com\n",
      "['https://nextdoor.com/', 'https://nextdoor.com/', 'https://nextdoor.nl/', 'https://nextdoor.co.uk/', 'https://nextdoor.de/', 'https://fr.nextdoor.com/', 'https://it.nextdoor.com/', 'https://es.nextdoor.com/', 'https://au.nextdoor.com/', 'https://dk.nextdoor.com/', 'https://se.nextdoor.com/', 'https://ca.nextdoor.com/', 'https://ca.nextdoor.com/', 'https://d19rpgkrjeba2z.cloudfront.net/b9b651cc0b575574/static/nextdoorv2/images/favicons/favicon-v2.ico']\n"
     ]
    },
    {
     "name": "stderr",
     "output_type": "stream",
     "text": [
      "/home/dan/src/para/venv/lib/python3.6/site-packages/urllib3/connectionpool.py:1004: InsecureRequestWarning: Unverified HTTPS request is being made. Adding certificate verification is strongly advised. See: https://urllib3.readthedocs.io/en/latest/advanced-usage.html#ssl-warnings\n",
      "  InsecureRequestWarning,\n",
      "/home/dan/src/para/venv/lib/python3.6/site-packages/urllib3/connectionpool.py:1004: InsecureRequestWarning: Unverified HTTPS request is being made. Adding certificate verification is strongly advised. See: https://urllib3.readthedocs.io/en/latest/advanced-usage.html#ssl-warnings\n",
      "  InsecureRequestWarning,\n",
      "/home/dan/src/para/venv/lib/python3.6/site-packages/urllib3/connectionpool.py:1004: InsecureRequestWarning: Unverified HTTPS request is being made. Adding certificate verification is strongly advised. See: https://urllib3.readthedocs.io/en/latest/advanced-usage.html#ssl-warnings\n",
      "  InsecureRequestWarning,\n",
      "/home/dan/src/para/venv/lib/python3.6/site-packages/urllib3/connectionpool.py:1004: InsecureRequestWarning: Unverified HTTPS request is being made. Adding certificate verification is strongly advised. See: https://urllib3.readthedocs.io/en/latest/advanced-usage.html#ssl-warnings\n",
      "  InsecureRequestWarning,\n",
      "/home/dan/src/para/venv/lib/python3.6/site-packages/urllib3/connectionpool.py:1004: InsecureRequestWarning: Unverified HTTPS request is being made. Adding certificate verification is strongly advised. See: https://urllib3.readthedocs.io/en/latest/advanced-usage.html#ssl-warnings\n",
      "  InsecureRequestWarning,\n",
      "/home/dan/src/para/venv/lib/python3.6/site-packages/urllib3/connectionpool.py:1004: InsecureRequestWarning: Unverified HTTPS request is being made. Adding certificate verification is strongly advised. See: https://urllib3.readthedocs.io/en/latest/advanced-usage.html#ssl-warnings\n",
      "  InsecureRequestWarning,\n",
      "/home/dan/src/para/venv/lib/python3.6/site-packages/urllib3/connectionpool.py:1004: InsecureRequestWarning: Unverified HTTPS request is being made. Adding certificate verification is strongly advised. See: https://urllib3.readthedocs.io/en/latest/advanced-usage.html#ssl-warnings\n",
      "  InsecureRequestWarning,\n",
      "/home/dan/src/para/venv/lib/python3.6/site-packages/urllib3/connectionpool.py:1004: InsecureRequestWarning: Unverified HTTPS request is being made. Adding certificate verification is strongly advised. See: https://urllib3.readthedocs.io/en/latest/advanced-usage.html#ssl-warnings\n",
      "  InsecureRequestWarning,\n"
     ]
    },
    {
     "name": "stdout",
     "output_type": "stream",
     "text": [
      "https://nextdoor.com\n",
      "['https://nextdoor.com/', 'https://nextdoor.com/', 'https://nextdoor.nl/', 'https://nextdoor.co.uk/', 'https://nextdoor.de/', 'https://fr.nextdoor.com/', 'https://it.nextdoor.com/', 'https://es.nextdoor.com/', 'https://au.nextdoor.com/', 'https://dk.nextdoor.com/', 'https://se.nextdoor.com/', 'https://ca.nextdoor.com/', 'https://ca.nextdoor.com/', 'https://d19rpgkrjeba2z.cloudfront.net/b9b651cc0b575574/static/nextdoorv2/images/favicons/favicon-v2.ico']\n",
      "https://nextdoor.com['https://nextdoor.com/', 'https://nextdoor.com/', 'https://nextdoor.nl/', 'https://nextdoor.co.uk/', 'https://nextdoor.de/', 'https://fr.nextdoor.com/', 'https://it.nextdoor.com/', 'https://es.nextdoor.com/', 'https://au.nextdoor.com/', 'https://dk.nextdoor.com/', 'https://se.nextdoor.com/', 'https://ca.nextdoor.com/', 'https://ca.nextdoor.com/', 'https://d19rpgkrjeba2z.cloudfront.net/b9b651cc0b575574/static/nextdoorv2/images/favicons/favicon-v2.ico']\n",
      "\n",
      "https://nextdoor.com\n",
      "['https://nextdoor.com/', 'https://nextdoor.com/', 'https://nextdoor.nl/', 'https://nextdoor.co.uk/', 'https://nextdoor.de/', 'https://fr.nextdoor.com/', 'https://it.nextdoor.com/', 'https://es.nextdoor.com/', 'https://au.nextdoor.com/', 'https://dk.nextdoor.com/', 'https://se.nextdoor.com/', 'https://ca.nextdoor.com/', 'https://ca.nextdoor.com/', 'https://d19rpgkrjeba2z.cloudfront.net/b9b651cc0b575574/static/nextdoorv2/images/favicons/favicon-v2.ico']\n",
      "https://nextdoor.com['https://nextdoor.com/', 'https://nextdoor.com/', 'https://nextdoor.nl/', 'https://nextdoor.co.uk/', 'https://nextdoor.de/', 'https://fr.nextdoor.com/', 'https://it.nextdoor.com/', 'https://es.nextdoor.com/', 'https://au.nextdoor.com/', 'https://dk.nextdoor.com/', 'https://se.nextdoor.com/', 'https://ca.nextdoor.com/', 'https://ca.nextdoor.com/', 'https://d19rpgkrjeba2z.cloudfront.net/b9b651cc0b575574/static/nextdoorv2/images/favicons/favicon-v2.ico']\n",
      "\n"
     ]
    },
    {
     "name": "stderr",
     "output_type": "stream",
     "text": [
      "/home/dan/src/para/venv/lib/python3.6/site-packages/urllib3/connectionpool.py:1004: InsecureRequestWarning: Unverified HTTPS request is being made. Adding certificate verification is strongly advised. See: https://urllib3.readthedocs.io/en/latest/advanced-usage.html#ssl-warnings\n",
      "  InsecureRequestWarning,\n",
      "/home/dan/src/para/venv/lib/python3.6/site-packages/urllib3/connectionpool.py:1004: InsecureRequestWarning: Unverified HTTPS request is being made. Adding certificate verification is strongly advised. See: https://urllib3.readthedocs.io/en/latest/advanced-usage.html#ssl-warnings\n",
      "  InsecureRequestWarning,\n",
      "/home/dan/src/para/venv/lib/python3.6/site-packages/urllib3/connectionpool.py:1004: InsecureRequestWarning: Unverified HTTPS request is being made. Adding certificate verification is strongly advised. See: https://urllib3.readthedocs.io/en/latest/advanced-usage.html#ssl-warnings\n",
      "  InsecureRequestWarning,\n",
      "/home/dan/src/para/venv/lib/python3.6/site-packages/urllib3/connectionpool.py:1004: InsecureRequestWarning: Unverified HTTPS request is being made. Adding certificate verification is strongly advised. See: https://urllib3.readthedocs.io/en/latest/advanced-usage.html#ssl-warnings\n",
      "  InsecureRequestWarning,\n"
     ]
    },
    {
     "name": "stdout",
     "output_type": "stream",
     "text": [
      "https://nextdoor.com['https://nextdoor.com/', 'https://nextdoor.com/', 'https://nextdoor.nl/', 'https://nextdoor.co.uk/', 'https://nextdoor.de/', 'https://fr.nextdoor.com/', 'https://it.nextdoor.com/', 'https://es.nextdoor.com/', 'https://au.nextdoor.com/', 'https://dk.nextdoor.com/', 'https://se.nextdoor.com/', 'https://ca.nextdoor.com/', 'https://ca.nextdoor.com/', 'https://d19rpgkrjeba2z.cloudfront.net/b9b651cc0b575574/static/nextdoorv2/images/favicons/favicon-v2.ico']\n",
      "\n",
      "https://nextdoor.com\n",
      "['https://nextdoor.com/', 'https://nextdoor.com/', 'https://nextdoor.nl/', 'https://nextdoor.co.uk/', 'https://nextdoor.de/', 'https://fr.nextdoor.com/', 'https://it.nextdoor.com/', 'https://es.nextdoor.com/', 'https://au.nextdoor.com/', 'https://dk.nextdoor.com/', 'https://se.nextdoor.com/', 'https://ca.nextdoor.com/', 'https://ca.nextdoor.com/', 'https://d19rpgkrjeba2z.cloudfront.net/b9b651cc0b575574/static/nextdoorv2/images/favicons/favicon-v2.ico']\n",
      "https://nextdoor.com\n",
      "['https://nextdoor.com/', 'https://nextdoor.com/', 'https://nextdoor.nl/', 'https://nextdoor.co.uk/', 'https://nextdoor.de/', 'https://fr.nextdoor.com/', 'https://it.nextdoor.com/', 'https://es.nextdoor.com/', 'https://au.nextdoor.com/', 'https://dk.nextdoor.com/', 'https://se.nextdoor.com/', 'https://ca.nextdoor.com/', 'https://ca.nextdoor.com/', 'https://d19rpgkrjeba2z.cloudfront.net/b9b651cc0b575574/static/nextdoorv2/images/favicons/favicon-v2.ico']\n"
     ]
    },
    {
     "name": "stderr",
     "output_type": "stream",
     "text": [
      "/home/dan/src/para/venv/lib/python3.6/site-packages/urllib3/connectionpool.py:1004: InsecureRequestWarning: Unverified HTTPS request is being made. Adding certificate verification is strongly advised. See: https://urllib3.readthedocs.io/en/latest/advanced-usage.html#ssl-warnings\n",
      "  InsecureRequestWarning,\n",
      "/home/dan/src/para/venv/lib/python3.6/site-packages/urllib3/connectionpool.py:1004: InsecureRequestWarning: Unverified HTTPS request is being made. Adding certificate verification is strongly advised. See: https://urllib3.readthedocs.io/en/latest/advanced-usage.html#ssl-warnings\n",
      "  InsecureRequestWarning,\n",
      "/home/dan/src/para/venv/lib/python3.6/site-packages/urllib3/connectionpool.py:1004: InsecureRequestWarning: Unverified HTTPS request is being made. Adding certificate verification is strongly advised. See: https://urllib3.readthedocs.io/en/latest/advanced-usage.html#ssl-warnings\n",
      "  InsecureRequestWarning,\n"
     ]
    },
    {
     "name": "stdout",
     "output_type": "stream",
     "text": [
      "https://nextdoor.com['https://nextdoor.com/', 'https://nextdoor.com/', 'https://nextdoor.nl/', 'https://nextdoor.co.uk/', 'https://nextdoor.de/', 'https://fr.nextdoor.com/', 'https://it.nextdoor.com/', 'https://es.nextdoor.com/', 'https://au.nextdoor.com/', 'https://dk.nextdoor.com/', 'https://se.nextdoor.com/', 'https://ca.nextdoor.com/', 'https://ca.nextdoor.com/', 'https://d19rpgkrjeba2z.cloudfront.net/b9b651cc0b575574/static/nextdoorv2/images/favicons/favicon-v2.ico']\n",
      "\n",
      "https://nextdoor.com\n",
      "['https://nextdoor.com/', 'https://nextdoor.com/', 'https://nextdoor.nl/', 'https://nextdoor.co.uk/', 'https://nextdoor.de/', 'https://fr.nextdoor.com/', 'https://it.nextdoor.com/', 'https://es.nextdoor.com/', 'https://au.nextdoor.com/', 'https://dk.nextdoor.com/', 'https://se.nextdoor.com/', 'https://ca.nextdoor.com/', 'https://ca.nextdoor.com/', 'https://d19rpgkrjeba2z.cloudfront.net/b9b651cc0b575574/static/nextdoorv2/images/favicons/favicon-v2.ico']\n",
      "https://nextdoor.com\n",
      "['https://nextdoor.com/', 'https://nextdoor.com/', 'https://nextdoor.nl/', 'https://nextdoor.co.uk/', 'https://nextdoor.de/', 'https://fr.nextdoor.com/', 'https://it.nextdoor.com/', 'https://es.nextdoor.com/', 'https://au.nextdoor.com/', 'https://dk.nextdoor.com/', 'https://se.nextdoor.com/', 'https://ca.nextdoor.com/', 'https://ca.nextdoor.com/', 'https://d19rpgkrjeba2z.cloudfront.net/b9b651cc0b575574/static/nextdoorv2/images/favicons/favicon-v2.ico']\n",
      "https://nextdoor.com['https://nextdoor.com/', 'https://nextdoor.com/', 'https://nextdoor.nl/', 'https://nextdoor.co.uk/', 'https://nextdoor.de/', 'https://fr.nextdoor.com/', 'https://it.nextdoor.com/', 'https://es.nextdoor.com/', 'https://au.nextdoor.com/', 'https://dk.nextdoor.com/', 'https://se.nextdoor.com/', 'https://ca.nextdoor.com/', 'https://ca.nextdoor.com/', 'https://d19rpgkrjeba2z.cloudfront.net/b9b651cc0b575574/static/nextdoorv2/images/favicons/favicon-v2.ico']\n",
      "\n",
      "https://nextdoor.com\n",
      "['https://nextdoor.com/', 'https://nextdoor.com/', 'https://nextdoor.nl/', 'https://nextdoor.co.uk/', 'https://nextdoor.de/', 'https://fr.nextdoor.com/', 'https://it.nextdoor.com/', 'https://es.nextdoor.com/', 'https://au.nextdoor.com/', 'https://dk.nextdoor.com/', 'https://se.nextdoor.com/', 'https://ca.nextdoor.com/', 'https://ca.nextdoor.com/', 'https://d19rpgkrjeba2z.cloudfront.net/b9b651cc0b575574/static/nextdoorv2/images/favicons/favicon-v2.ico']\n",
      "https://nextdoor.com\n",
      "['https://nextdoor.com/', 'https://nextdoor.com/', 'https://nextdoor.nl/', 'https://nextdoor.co.uk/', 'https://nextdoor.de/', 'https://fr.nextdoor.com/', 'https://it.nextdoor.com/', 'https://es.nextdoor.com/', 'https://au.nextdoor.com/', 'https://dk.nextdoor.com/', 'https://se.nextdoor.com/', 'https://ca.nextdoor.com/', 'https://ca.nextdoor.com/', 'https://d19rpgkrjeba2z.cloudfront.net/b9b651cc0b575574/static/nextdoorv2/images/favicons/favicon-v2.ico']\n",
      "https://nextdoor.com['https://nextdoor.com/', 'https://nextdoor.com/', 'https://nextdoor.nl/', 'https://nextdoor.co.uk/', 'https://nextdoor.de/', 'https://fr.nextdoor.com/', 'https://it.nextdoor.com/', 'https://es.nextdoor.com/', 'https://au.nextdoor.com/', 'https://dk.nextdoor.com/', 'https://se.nextdoor.com/', 'https://ca.nextdoor.com/', 'https://ca.nextdoor.com/', 'https://d19rpgkrjeba2z.cloudfront.net/b9b651cc0b575574/static/nextdoorv2/images/favicons/favicon-v2.ico']\n",
      "\n",
      "https://nextdoor.com\n",
      "['https://nextdoor.com/', 'https://nextdoor.com/', 'https://nextdoor.nl/', 'https://nextdoor.co.uk/', 'https://nextdoor.de/', 'https://fr.nextdoor.com/', 'https://it.nextdoor.com/', 'https://es.nextdoor.com/', 'https://au.nextdoor.com/', 'https://dk.nextdoor.com/', 'https://se.nextdoor.com/', 'https://ca.nextdoor.com/', 'https://ca.nextdoor.com/', 'https://d19rpgkrjeba2z.cloudfront.net/b9b651cc0b575574/static/nextdoorv2/images/favicons/favicon-v2.ico']\n",
      "https://nextdoor.com['https://nextdoor.com/', 'https://nextdoor.com/', 'https://nextdoor.nl/', 'https://nextdoor.co.uk/', 'https://nextdoor.de/', 'https://fr.nextdoor.com/', 'https://it.nextdoor.com/', 'https://es.nextdoor.com/', 'https://au.nextdoor.com/', 'https://dk.nextdoor.com/', 'https://se.nextdoor.com/', 'https://ca.nextdoor.com/', 'https://ca.nextdoor.com/', 'https://d19rpgkrjeba2z.cloudfront.net/b9b651cc0b575574/static/nextdoorv2/images/favicons/favicon-v2.ico']\n",
      "\n"
     ]
    },
    {
     "name": "stderr",
     "output_type": "stream",
     "text": [
      "/home/dan/src/para/venv/lib/python3.6/site-packages/urllib3/connectionpool.py:1004: InsecureRequestWarning: Unverified HTTPS request is being made. Adding certificate verification is strongly advised. See: https://urllib3.readthedocs.io/en/latest/advanced-usage.html#ssl-warnings\n",
      "  InsecureRequestWarning,\n",
      "/home/dan/src/para/venv/lib/python3.6/site-packages/urllib3/connectionpool.py:1004: InsecureRequestWarning: Unverified HTTPS request is being made. Adding certificate verification is strongly advised. See: https://urllib3.readthedocs.io/en/latest/advanced-usage.html#ssl-warnings\n",
      "  InsecureRequestWarning,\n",
      "/home/dan/src/para/venv/lib/python3.6/site-packages/urllib3/connectionpool.py:1004: InsecureRequestWarning: Unverified HTTPS request is being made. Adding certificate verification is strongly advised. See: https://urllib3.readthedocs.io/en/latest/advanced-usage.html#ssl-warnings\n",
      "  InsecureRequestWarning,\n",
      "/home/dan/src/para/venv/lib/python3.6/site-packages/urllib3/connectionpool.py:1004: InsecureRequestWarning: Unverified HTTPS request is being made. Adding certificate verification is strongly advised. See: https://urllib3.readthedocs.io/en/latest/advanced-usage.html#ssl-warnings\n",
      "  InsecureRequestWarning,\n",
      "/home/dan/src/para/venv/lib/python3.6/site-packages/urllib3/connectionpool.py:1004: InsecureRequestWarning: Unverified HTTPS request is being made. Adding certificate verification is strongly advised. See: https://urllib3.readthedocs.io/en/latest/advanced-usage.html#ssl-warnings\n",
      "  InsecureRequestWarning,\n",
      "/home/dan/src/para/venv/lib/python3.6/site-packages/urllib3/connectionpool.py:1004: InsecureRequestWarning: Unverified HTTPS request is being made. Adding certificate verification is strongly advised. See: https://urllib3.readthedocs.io/en/latest/advanced-usage.html#ssl-warnings\n",
      "  InsecureRequestWarning,\n",
      "/home/dan/src/para/venv/lib/python3.6/site-packages/urllib3/connectionpool.py:1004: InsecureRequestWarning: Unverified HTTPS request is being made. Adding certificate verification is strongly advised. See: https://urllib3.readthedocs.io/en/latest/advanced-usage.html#ssl-warnings\n",
      "  InsecureRequestWarning,\n"
     ]
    },
    {
     "name": "stdout",
     "output_type": "stream",
     "text": [
      "https://nextdoor.com['https://nextdoor.com/', 'https://nextdoor.com/', 'https://nextdoor.nl/', 'https://nextdoor.co.uk/', 'https://nextdoor.de/', 'https://fr.nextdoor.com/', 'https://it.nextdoor.com/', 'https://es.nextdoor.com/', 'https://au.nextdoor.com/', 'https://dk.nextdoor.com/', 'https://se.nextdoor.com/', 'https://ca.nextdoor.com/', 'https://ca.nextdoor.com/', 'https://d19rpgkrjeba2z.cloudfront.net/b9b651cc0b575574/static/nextdoorv2/images/favicons/favicon-v2.ico']\n",
      "\n",
      "https://nextdoor.com['https://nextdoor.com/', 'https://nextdoor.com/', 'https://nextdoor.nl/', 'https://nextdoor.co.uk/', 'https://nextdoor.de/', 'https://fr.nextdoor.com/', 'https://it.nextdoor.com/', 'https://es.nextdoor.com/', 'https://au.nextdoor.com/', 'https://dk.nextdoor.com/', 'https://se.nextdoor.com/', 'https://ca.nextdoor.com/', 'https://ca.nextdoor.com/', 'https://d19rpgkrjeba2z.cloudfront.net/b9b651cc0b575574/static/nextdoorv2/images/favicons/favicon-v2.ico']\n",
      "\n",
      "https://nextdoor.com['https://nextdoor.com/', 'https://nextdoor.com/', 'https://nextdoor.nl/', 'https://nextdoor.co.uk/', 'https://nextdoor.de/', 'https://fr.nextdoor.com/', 'https://it.nextdoor.com/', 'https://es.nextdoor.com/', 'https://au.nextdoor.com/', 'https://dk.nextdoor.com/', 'https://se.nextdoor.com/', 'https://ca.nextdoor.com/', 'https://ca.nextdoor.com/', 'https://d19rpgkrjeba2z.cloudfront.net/b9b651cc0b575574/static/nextdoorv2/images/favicons/favicon-v2.ico']\n",
      "\n"
     ]
    },
    {
     "name": "stderr",
     "output_type": "stream",
     "text": [
      "/home/dan/src/para/venv/lib/python3.6/site-packages/urllib3/connectionpool.py:1004: InsecureRequestWarning: Unverified HTTPS request is being made. Adding certificate verification is strongly advised. See: https://urllib3.readthedocs.io/en/latest/advanced-usage.html#ssl-warnings\n",
      "  InsecureRequestWarning,\n",
      "/home/dan/src/para/venv/lib/python3.6/site-packages/urllib3/connectionpool.py:1004: InsecureRequestWarning: Unverified HTTPS request is being made. Adding certificate verification is strongly advised. See: https://urllib3.readthedocs.io/en/latest/advanced-usage.html#ssl-warnings\n",
      "  InsecureRequestWarning,\n",
      "/home/dan/src/para/venv/lib/python3.6/site-packages/urllib3/connectionpool.py:1004: InsecureRequestWarning: Unverified HTTPS request is being made. Adding certificate verification is strongly advised. See: https://urllib3.readthedocs.io/en/latest/advanced-usage.html#ssl-warnings\n",
      "  InsecureRequestWarning,\n",
      "/home/dan/src/para/venv/lib/python3.6/site-packages/urllib3/connectionpool.py:1004: InsecureRequestWarning: Unverified HTTPS request is being made. Adding certificate verification is strongly advised. See: https://urllib3.readthedocs.io/en/latest/advanced-usage.html#ssl-warnings\n",
      "  InsecureRequestWarning,\n"
     ]
    },
    {
     "name": "stdout",
     "output_type": "stream",
     "text": [
      "https://nextdoor.com\n",
      "['https://nextdoor.com/', 'https://nextdoor.com/', 'https://nextdoor.nl/', 'https://nextdoor.co.uk/', 'https://nextdoor.de/', 'https://fr.nextdoor.com/', 'https://it.nextdoor.com/', 'https://es.nextdoor.com/', 'https://au.nextdoor.com/', 'https://dk.nextdoor.com/', 'https://se.nextdoor.com/', 'https://ca.nextdoor.com/', 'https://ca.nextdoor.com/', 'https://d19rpgkrjeba2z.cloudfront.net/b9b651cc0b575574/static/nextdoorv2/images/favicons/favicon-v2.ico']\n",
      "https://nextdoor.com['https://nextdoor.com/', 'https://nextdoor.com/', 'https://nextdoor.nl/', 'https://nextdoor.co.uk/', 'https://nextdoor.de/', 'https://fr.nextdoor.com/', 'https://it.nextdoor.com/', 'https://es.nextdoor.com/', 'https://au.nextdoor.com/', 'https://dk.nextdoor.com/', 'https://se.nextdoor.com/', 'https://ca.nextdoor.com/', 'https://ca.nextdoor.com/', 'https://d19rpgkrjeba2z.cloudfront.net/b9b651cc0b575574/static/nextdoorv2/images/favicons/favicon-v2.ico']\n",
      "\n",
      "https://nextdoor.com['https://nextdoor.com/', 'https://nextdoor.com/', 'https://nextdoor.nl/', 'https://nextdoor.co.uk/', 'https://nextdoor.de/', 'https://fr.nextdoor.com/', 'https://it.nextdoor.com/', 'https://es.nextdoor.com/', 'https://au.nextdoor.com/', 'https://dk.nextdoor.com/', 'https://se.nextdoor.com/', 'https://ca.nextdoor.com/', 'https://ca.nextdoor.com/', 'https://d19rpgkrjeba2z.cloudfront.net/b9b651cc0b575574/static/nextdoorv2/images/favicons/favicon-v2.ico']\n",
      "\n",
      "https://nextdoor.com['https://nextdoor.com/', 'https://nextdoor.com/', 'https://nextdoor.nl/', 'https://nextdoor.co.uk/', 'https://nextdoor.de/', 'https://fr.nextdoor.com/', 'https://it.nextdoor.com/', 'https://es.nextdoor.com/', 'https://au.nextdoor.com/', 'https://dk.nextdoor.com/', 'https://se.nextdoor.com/', 'https://ca.nextdoor.com/', 'https://ca.nextdoor.com/', 'https://d19rpgkrjeba2z.cloudfront.net/b9b651cc0b575574/static/nextdoorv2/images/favicons/favicon-v2.ico']\n",
      "\n",
      "https://nextdoor.com['https://nextdoor.com/', 'https://nextdoor.com/', 'https://nextdoor.nl/', 'https://nextdoor.co.uk/', 'https://nextdoor.de/', 'https://fr.nextdoor.com/', 'https://it.nextdoor.com/', 'https://es.nextdoor.com/', 'https://au.nextdoor.com/', 'https://dk.nextdoor.com/', 'https://se.nextdoor.com/', 'https://ca.nextdoor.com/', 'https://ca.nextdoor.com/', 'https://d19rpgkrjeba2z.cloudfront.net/b9b651cc0b575574/static/nextdoorv2/images/favicons/favicon-v2.ico']\n",
      "\n"
     ]
    },
    {
     "name": "stderr",
     "output_type": "stream",
     "text": [
      "/home/dan/src/para/venv/lib/python3.6/site-packages/urllib3/connectionpool.py:1004: InsecureRequestWarning: Unverified HTTPS request is being made. Adding certificate verification is strongly advised. See: https://urllib3.readthedocs.io/en/latest/advanced-usage.html#ssl-warnings\n",
      "  InsecureRequestWarning,\n",
      "/home/dan/src/para/venv/lib/python3.6/site-packages/urllib3/connectionpool.py:1004: InsecureRequestWarning: Unverified HTTPS request is being made. Adding certificate verification is strongly advised. See: https://urllib3.readthedocs.io/en/latest/advanced-usage.html#ssl-warnings\n",
      "  InsecureRequestWarning,\n",
      "/home/dan/src/para/venv/lib/python3.6/site-packages/urllib3/connectionpool.py:1004: InsecureRequestWarning: Unverified HTTPS request is being made. Adding certificate verification is strongly advised. See: https://urllib3.readthedocs.io/en/latest/advanced-usage.html#ssl-warnings\n",
      "  InsecureRequestWarning,\n",
      "/home/dan/src/para/venv/lib/python3.6/site-packages/urllib3/connectionpool.py:1004: InsecureRequestWarning: Unverified HTTPS request is being made. Adding certificate verification is strongly advised. See: https://urllib3.readthedocs.io/en/latest/advanced-usage.html#ssl-warnings\n",
      "  InsecureRequestWarning,\n"
     ]
    },
    {
     "name": "stdout",
     "output_type": "stream",
     "text": [
      "https://nextdoor.com['https://nextdoor.com/', 'https://nextdoor.com/', 'https://nextdoor.nl/', 'https://nextdoor.co.uk/', 'https://nextdoor.de/', 'https://fr.nextdoor.com/', 'https://it.nextdoor.com/', 'https://es.nextdoor.com/', 'https://au.nextdoor.com/', 'https://dk.nextdoor.com/', 'https://se.nextdoor.com/', 'https://ca.nextdoor.com/', 'https://ca.nextdoor.com/', 'https://d19rpgkrjeba2z.cloudfront.net/b9b651cc0b575574/static/nextdoorv2/images/favicons/favicon-v2.ico']\n",
      "\n",
      "https://nextdoor.com['https://nextdoor.com/', 'https://nextdoor.com/', 'https://nextdoor.nl/', 'https://nextdoor.co.uk/', 'https://nextdoor.de/', 'https://fr.nextdoor.com/', 'https://it.nextdoor.com/', 'https://es.nextdoor.com/', 'https://au.nextdoor.com/', 'https://dk.nextdoor.com/', 'https://se.nextdoor.com/', 'https://ca.nextdoor.com/', 'https://ca.nextdoor.com/', 'https://d19rpgkrjeba2z.cloudfront.net/b9b651cc0b575574/static/nextdoorv2/images/favicons/favicon-v2.ico']\n",
      "\n",
      "https://nextdoor.com['https://nextdoor.com/', 'https://nextdoor.com/', 'https://nextdoor.nl/', 'https://nextdoor.co.uk/', 'https://nextdoor.de/', 'https://fr.nextdoor.com/', 'https://it.nextdoor.com/', 'https://es.nextdoor.com/', 'https://au.nextdoor.com/', 'https://dk.nextdoor.com/', 'https://se.nextdoor.com/', 'https://ca.nextdoor.com/', 'https://ca.nextdoor.com/', 'https://d19rpgkrjeba2z.cloudfront.net/b9b651cc0b575574/static/nextdoorv2/images/favicons/favicon-v2.ico']\n",
      "\n",
      "https://nextdoor.com['https://nextdoor.com/', 'https://nextdoor.com/', 'https://nextdoor.nl/', 'https://nextdoor.co.uk/', 'https://nextdoor.de/', 'https://fr.nextdoor.com/', 'https://it.nextdoor.com/', 'https://es.nextdoor.com/', 'https://au.nextdoor.com/', 'https://dk.nextdoor.com/', 'https://se.nextdoor.com/', 'https://ca.nextdoor.com/', 'https://ca.nextdoor.com/', 'https://d19rpgkrjeba2z.cloudfront.net/b9b651cc0b575574/static/nextdoorv2/images/favicons/favicon-v2.ico']\n",
      "\n"
     ]
    },
    {
     "name": "stderr",
     "output_type": "stream",
     "text": [
      "/home/dan/src/para/venv/lib/python3.6/site-packages/urllib3/connectionpool.py:1004: InsecureRequestWarning: Unverified HTTPS request is being made. Adding certificate verification is strongly advised. See: https://urllib3.readthedocs.io/en/latest/advanced-usage.html#ssl-warnings\n",
      "  InsecureRequestWarning,\n",
      "/home/dan/src/para/venv/lib/python3.6/site-packages/urllib3/connectionpool.py:1004: InsecureRequestWarning: Unverified HTTPS request is being made. Adding certificate verification is strongly advised. See: https://urllib3.readthedocs.io/en/latest/advanced-usage.html#ssl-warnings\n",
      "  InsecureRequestWarning,\n",
      "/home/dan/src/para/venv/lib/python3.6/site-packages/urllib3/connectionpool.py:1004: InsecureRequestWarning: Unverified HTTPS request is being made. Adding certificate verification is strongly advised. See: https://urllib3.readthedocs.io/en/latest/advanced-usage.html#ssl-warnings\n",
      "  InsecureRequestWarning,\n",
      "/home/dan/src/para/venv/lib/python3.6/site-packages/urllib3/connectionpool.py:1004: InsecureRequestWarning: Unverified HTTPS request is being made. Adding certificate verification is strongly advised. See: https://urllib3.readthedocs.io/en/latest/advanced-usage.html#ssl-warnings\n",
      "  InsecureRequestWarning,\n"
     ]
    },
    {
     "name": "stdout",
     "output_type": "stream",
     "text": [
      "https://nextdoor.com['https://nextdoor.com/', 'https://nextdoor.com/', 'https://nextdoor.nl/', 'https://nextdoor.co.uk/', 'https://nextdoor.de/', 'https://fr.nextdoor.com/', 'https://it.nextdoor.com/', 'https://es.nextdoor.com/', 'https://au.nextdoor.com/', 'https://dk.nextdoor.com/', 'https://se.nextdoor.com/', 'https://ca.nextdoor.com/', 'https://ca.nextdoor.com/', 'https://d19rpgkrjeba2z.cloudfront.net/b9b651cc0b575574/static/nextdoorv2/images/favicons/favicon-v2.ico']\n",
      "\n",
      "https://nextdoor.com\n",
      "['https://nextdoor.com/', 'https://nextdoor.com/', 'https://nextdoor.nl/', 'https://nextdoor.co.uk/', 'https://nextdoor.de/', 'https://fr.nextdoor.com/', 'https://it.nextdoor.com/', 'https://es.nextdoor.com/', 'https://au.nextdoor.com/', 'https://dk.nextdoor.com/', 'https://se.nextdoor.com/', 'https://ca.nextdoor.com/', 'https://ca.nextdoor.com/', 'https://d19rpgkrjeba2z.cloudfront.net/b9b651cc0b575574/static/nextdoorv2/images/favicons/favicon-v2.ico']\n",
      "https://nextdoor.com['https://nextdoor.com/', 'https://nextdoor.com/', 'https://nextdoor.nl/', 'https://nextdoor.co.uk/', 'https://nextdoor.de/', 'https://fr.nextdoor.com/', 'https://it.nextdoor.com/', 'https://es.nextdoor.com/', 'https://au.nextdoor.com/', 'https://dk.nextdoor.com/', 'https://se.nextdoor.com/', 'https://ca.nextdoor.com/', 'https://ca.nextdoor.com/', 'https://d19rpgkrjeba2z.cloudfront.net/b9b651cc0b575574/static/nextdoorv2/images/favicons/favicon-v2.ico']\n",
      "\n",
      "https://nextdoor.com\n",
      "['https://nextdoor.com/', 'https://nextdoor.com/', 'https://nextdoor.nl/', 'https://nextdoor.co.uk/', 'https://nextdoor.de/', 'https://fr.nextdoor.com/', 'https://it.nextdoor.com/', 'https://es.nextdoor.com/', 'https://au.nextdoor.com/', 'https://dk.nextdoor.com/', 'https://se.nextdoor.com/', 'https://ca.nextdoor.com/', 'https://ca.nextdoor.com/', 'https://d19rpgkrjeba2z.cloudfront.net/b9b651cc0b575574/static/nextdoorv2/images/favicons/favicon-v2.ico']\n",
      "https://nextdoor.com['https://nextdoor.com/', 'https://nextdoor.com/', 'https://nextdoor.nl/', 'https://nextdoor.co.uk/', 'https://nextdoor.de/', 'https://fr.nextdoor.com/', 'https://it.nextdoor.com/', 'https://es.nextdoor.com/', 'https://au.nextdoor.com/', 'https://dk.nextdoor.com/', 'https://se.nextdoor.com/', 'https://ca.nextdoor.com/', 'https://ca.nextdoor.com/', 'https://d19rpgkrjeba2z.cloudfront.net/b9b651cc0b575574/static/nextdoorv2/images/favicons/favicon-v2.ico']\n",
      "\n",
      "https://nextdoor.com\n",
      "['https://nextdoor.com/', 'https://nextdoor.com/', 'https://nextdoor.nl/', 'https://nextdoor.co.uk/', 'https://nextdoor.de/', 'https://fr.nextdoor.com/', 'https://it.nextdoor.com/', 'https://es.nextdoor.com/', 'https://au.nextdoor.com/', 'https://dk.nextdoor.com/', 'https://se.nextdoor.com/', 'https://ca.nextdoor.com/', 'https://ca.nextdoor.com/', 'https://d19rpgkrjeba2z.cloudfront.net/b9b651cc0b575574/static/nextdoorv2/images/favicons/favicon-v2.ico']\n"
     ]
    },
    {
     "name": "stderr",
     "output_type": "stream",
     "text": [
      "/home/dan/src/para/venv/lib/python3.6/site-packages/urllib3/connectionpool.py:1004: InsecureRequestWarning: Unverified HTTPS request is being made. Adding certificate verification is strongly advised. See: https://urllib3.readthedocs.io/en/latest/advanced-usage.html#ssl-warnings\n",
      "  InsecureRequestWarning,\n",
      "/home/dan/src/para/venv/lib/python3.6/site-packages/urllib3/connectionpool.py:1004: InsecureRequestWarning: Unverified HTTPS request is being made. Adding certificate verification is strongly advised. See: https://urllib3.readthedocs.io/en/latest/advanced-usage.html#ssl-warnings\n",
      "  InsecureRequestWarning,\n",
      "/home/dan/src/para/venv/lib/python3.6/site-packages/urllib3/connectionpool.py:1004: InsecureRequestWarning: Unverified HTTPS request is being made. Adding certificate verification is strongly advised. See: https://urllib3.readthedocs.io/en/latest/advanced-usage.html#ssl-warnings\n",
      "  InsecureRequestWarning,\n",
      "/home/dan/src/para/venv/lib/python3.6/site-packages/urllib3/connectionpool.py:1004: InsecureRequestWarning: Unverified HTTPS request is being made. Adding certificate verification is strongly advised. See: https://urllib3.readthedocs.io/en/latest/advanced-usage.html#ssl-warnings\n",
      "  InsecureRequestWarning,\n",
      "/home/dan/src/para/venv/lib/python3.6/site-packages/urllib3/connectionpool.py:1004: InsecureRequestWarning: Unverified HTTPS request is being made. Adding certificate verification is strongly advised. See: https://urllib3.readthedocs.io/en/latest/advanced-usage.html#ssl-warnings\n",
      "  InsecureRequestWarning,\n"
     ]
    },
    {
     "name": "stdout",
     "output_type": "stream",
     "text": [
      "https://nextdoor.com\n",
      "['https://nextdoor.com/', 'https://nextdoor.com/', 'https://nextdoor.nl/', 'https://nextdoor.co.uk/', 'https://nextdoor.de/', 'https://fr.nextdoor.com/', 'https://it.nextdoor.com/', 'https://es.nextdoor.com/', 'https://au.nextdoor.com/', 'https://dk.nextdoor.com/', 'https://se.nextdoor.com/', 'https://ca.nextdoor.com/', 'https://ca.nextdoor.com/', 'https://d19rpgkrjeba2z.cloudfront.net/b9b651cc0b575574/static/nextdoorv2/images/favicons/favicon-v2.ico']\n",
      "https://nextdoor.com\n",
      "['https://nextdoor.com/', 'https://nextdoor.com/', 'https://nextdoor.nl/', 'https://nextdoor.co.uk/', 'https://nextdoor.de/', 'https://fr.nextdoor.com/', 'https://it.nextdoor.com/', 'https://es.nextdoor.com/', 'https://au.nextdoor.com/', 'https://dk.nextdoor.com/', 'https://se.nextdoor.com/', 'https://ca.nextdoor.com/', 'https://ca.nextdoor.com/', 'https://d19rpgkrjeba2z.cloudfront.net/b9b651cc0b575574/static/nextdoorv2/images/favicons/favicon-v2.ico']\n",
      "https://nextdoor.com\n",
      "['https://nextdoor.com/', 'https://nextdoor.com/', 'https://nextdoor.nl/', 'https://nextdoor.co.uk/', 'https://nextdoor.de/', 'https://fr.nextdoor.com/', 'https://it.nextdoor.com/', 'https://es.nextdoor.com/', 'https://au.nextdoor.com/', 'https://dk.nextdoor.com/', 'https://se.nextdoor.com/', 'https://ca.nextdoor.com/', 'https://ca.nextdoor.com/', 'https://d19rpgkrjeba2z.cloudfront.net/b9b651cc0b575574/static/nextdoorv2/images/favicons/favicon-v2.ico']\n"
     ]
    },
    {
     "name": "stderr",
     "output_type": "stream",
     "text": [
      "/home/dan/src/para/venv/lib/python3.6/site-packages/urllib3/connectionpool.py:1004: InsecureRequestWarning: Unverified HTTPS request is being made. Adding certificate verification is strongly advised. See: https://urllib3.readthedocs.io/en/latest/advanced-usage.html#ssl-warnings\n",
      "  InsecureRequestWarning,\n",
      "/home/dan/src/para/venv/lib/python3.6/site-packages/urllib3/connectionpool.py:1004: InsecureRequestWarning: Unverified HTTPS request is being made. Adding certificate verification is strongly advised. See: https://urllib3.readthedocs.io/en/latest/advanced-usage.html#ssl-warnings\n",
      "  InsecureRequestWarning,\n",
      "/home/dan/src/para/venv/lib/python3.6/site-packages/urllib3/connectionpool.py:1004: InsecureRequestWarning: Unverified HTTPS request is being made. Adding certificate verification is strongly advised. See: https://urllib3.readthedocs.io/en/latest/advanced-usage.html#ssl-warnings\n",
      "  InsecureRequestWarning,\n",
      "/home/dan/src/para/venv/lib/python3.6/site-packages/urllib3/connectionpool.py:1004: InsecureRequestWarning: Unverified HTTPS request is being made. Adding certificate verification is strongly advised. See: https://urllib3.readthedocs.io/en/latest/advanced-usage.html#ssl-warnings\n",
      "  InsecureRequestWarning,\n",
      "/home/dan/src/para/venv/lib/python3.6/site-packages/urllib3/connectionpool.py:1004: InsecureRequestWarning: Unverified HTTPS request is being made. Adding certificate verification is strongly advised. See: https://urllib3.readthedocs.io/en/latest/advanced-usage.html#ssl-warnings\n",
      "  InsecureRequestWarning,\n",
      "/home/dan/src/para/venv/lib/python3.6/site-packages/urllib3/connectionpool.py:1004: InsecureRequestWarning: Unverified HTTPS request is being made. Adding certificate verification is strongly advised. See: https://urllib3.readthedocs.io/en/latest/advanced-usage.html#ssl-warnings\n",
      "  InsecureRequestWarning,\n"
     ]
    },
    {
     "name": "stdout",
     "output_type": "stream",
     "text": [
      "https://nextdoor.com\n",
      "['https://nextdoor.com/', 'https://nextdoor.com/', 'https://nextdoor.nl/', 'https://nextdoor.co.uk/', 'https://nextdoor.de/', 'https://fr.nextdoor.com/', 'https://it.nextdoor.com/', 'https://es.nextdoor.com/', 'https://au.nextdoor.com/', 'https://dk.nextdoor.com/', 'https://se.nextdoor.com/', 'https://ca.nextdoor.com/', 'https://ca.nextdoor.com/', 'https://d19rpgkrjeba2z.cloudfront.net/b9b651cc0b575574/static/nextdoorv2/images/favicons/favicon-v2.ico']\n",
      "https://nextdoor.com['https://nextdoor.com/', 'https://nextdoor.com/', 'https://nextdoor.nl/', 'https://nextdoor.co.uk/', 'https://nextdoor.de/', 'https://fr.nextdoor.com/', 'https://it.nextdoor.com/', 'https://es.nextdoor.com/', 'https://au.nextdoor.com/', 'https://dk.nextdoor.com/', 'https://se.nextdoor.com/', 'https://ca.nextdoor.com/', 'https://ca.nextdoor.com/', 'https://d19rpgkrjeba2z.cloudfront.net/b9b651cc0b575574/static/nextdoorv2/images/favicons/favicon-v2.ico']\n",
      "\n",
      "https://nextdoor.com['https://nextdoor.com/', 'https://nextdoor.com/', 'https://nextdoor.nl/', 'https://nextdoor.co.uk/', 'https://nextdoor.de/', 'https://fr.nextdoor.com/', 'https://it.nextdoor.com/', 'https://es.nextdoor.com/', 'https://au.nextdoor.com/', 'https://dk.nextdoor.com/', 'https://se.nextdoor.com/', 'https://ca.nextdoor.com/', 'https://ca.nextdoor.com/', 'https://d19rpgkrjeba2z.cloudfront.net/b9b651cc0b575574/static/nextdoorv2/images/favicons/favicon-v2.ico']\n",
      "\n",
      "https://nextdoor.com['https://nextdoor.com/', 'https://nextdoor.com/', 'https://nextdoor.nl/', 'https://nextdoor.co.uk/', 'https://nextdoor.de/', 'https://fr.nextdoor.com/', 'https://it.nextdoor.com/', 'https://es.nextdoor.com/', 'https://au.nextdoor.com/', 'https://dk.nextdoor.com/', 'https://se.nextdoor.com/', 'https://ca.nextdoor.com/', 'https://ca.nextdoor.com/', 'https://d19rpgkrjeba2z.cloudfront.net/b9b651cc0b575574/static/nextdoorv2/images/favicons/favicon-v2.ico']\n",
      "\n",
      "https://nextdoor.com['https://nextdoor.com/', 'https://nextdoor.com/', 'https://nextdoor.nl/', 'https://nextdoor.co.uk/', 'https://nextdoor.de/', 'https://fr.nextdoor.com/', 'https://it.nextdoor.com/', 'https://es.nextdoor.com/', 'https://au.nextdoor.com/', 'https://dk.nextdoor.com/', 'https://se.nextdoor.com/', 'https://ca.nextdoor.com/', 'https://ca.nextdoor.com/', 'https://d19rpgkrjeba2z.cloudfront.net/b9b651cc0b575574/static/nextdoorv2/images/favicons/favicon-v2.ico']\n",
      "\n",
      "https://nextdoor.com['https://nextdoor.com/', 'https://nextdoor.com/', 'https://nextdoor.nl/', 'https://nextdoor.co.uk/', 'https://nextdoor.de/', 'https://fr.nextdoor.com/', 'https://it.nextdoor.com/', 'https://es.nextdoor.com/', 'https://au.nextdoor.com/', 'https://dk.nextdoor.com/', 'https://se.nextdoor.com/', 'https://ca.nextdoor.com/', 'https://ca.nextdoor.com/', 'https://d19rpgkrjeba2z.cloudfront.net/b9b651cc0b575574/static/nextdoorv2/images/favicons/favicon-v2.ico']\n",
      "\n"
     ]
    },
    {
     "name": "stderr",
     "output_type": "stream",
     "text": [
      "/home/dan/src/para/venv/lib/python3.6/site-packages/urllib3/connectionpool.py:1004: InsecureRequestWarning: Unverified HTTPS request is being made. Adding certificate verification is strongly advised. See: https://urllib3.readthedocs.io/en/latest/advanced-usage.html#ssl-warnings\n",
      "  InsecureRequestWarning,\n",
      "/home/dan/src/para/venv/lib/python3.6/site-packages/urllib3/connectionpool.py:1004: InsecureRequestWarning: Unverified HTTPS request is being made. Adding certificate verification is strongly advised. See: https://urllib3.readthedocs.io/en/latest/advanced-usage.html#ssl-warnings\n",
      "  InsecureRequestWarning,\n",
      "/home/dan/src/para/venv/lib/python3.6/site-packages/urllib3/connectionpool.py:1004: InsecureRequestWarning: Unverified HTTPS request is being made. Adding certificate verification is strongly advised. See: https://urllib3.readthedocs.io/en/latest/advanced-usage.html#ssl-warnings\n",
      "  InsecureRequestWarning,\n"
     ]
    },
    {
     "name": "stdout",
     "output_type": "stream",
     "text": [
      "https://nextdoor.com\n",
      "['https://nextdoor.com/', 'https://nextdoor.com/', 'https://nextdoor.nl/', 'https://nextdoor.co.uk/', 'https://nextdoor.de/', 'https://fr.nextdoor.com/', 'https://it.nextdoor.com/', 'https://es.nextdoor.com/', 'https://au.nextdoor.com/', 'https://dk.nextdoor.com/', 'https://se.nextdoor.com/', 'https://ca.nextdoor.com/', 'https://ca.nextdoor.com/', 'https://d19rpgkrjeba2z.cloudfront.net/b9b651cc0b575574/static/nextdoorv2/images/favicons/favicon-v2.ico']\n",
      "https://nextdoor.com\n",
      "['https://nextdoor.com/', 'https://nextdoor.com/', 'https://nextdoor.nl/', 'https://nextdoor.co.uk/', 'https://nextdoor.de/', 'https://fr.nextdoor.com/', 'https://it.nextdoor.com/', 'https://es.nextdoor.com/', 'https://au.nextdoor.com/', 'https://dk.nextdoor.com/', 'https://se.nextdoor.com/', 'https://ca.nextdoor.com/', 'https://ca.nextdoor.com/', 'https://d19rpgkrjeba2z.cloudfront.net/b9b651cc0b575574/static/nextdoorv2/images/favicons/favicon-v2.ico']\n",
      "https://nextdoor.com\n",
      "['https://nextdoor.com/', 'https://nextdoor.com/', 'https://nextdoor.nl/', 'https://nextdoor.co.uk/', 'https://nextdoor.de/', 'https://fr.nextdoor.com/', 'https://it.nextdoor.com/', 'https://es.nextdoor.com/', 'https://au.nextdoor.com/', 'https://dk.nextdoor.com/', 'https://se.nextdoor.com/', 'https://ca.nextdoor.com/', 'https://ca.nextdoor.com/', 'https://d19rpgkrjeba2z.cloudfront.net/b9b651cc0b575574/static/nextdoorv2/images/favicons/favicon-v2.ico']\n"
     ]
    },
    {
     "name": "stderr",
     "output_type": "stream",
     "text": [
      "/home/dan/src/para/venv/lib/python3.6/site-packages/urllib3/connectionpool.py:1004: InsecureRequestWarning: Unverified HTTPS request is being made. Adding certificate verification is strongly advised. See: https://urllib3.readthedocs.io/en/latest/advanced-usage.html#ssl-warnings\n",
      "  InsecureRequestWarning,\n",
      "/home/dan/src/para/venv/lib/python3.6/site-packages/urllib3/connectionpool.py:1004: InsecureRequestWarning: Unverified HTTPS request is being made. Adding certificate verification is strongly advised. See: https://urllib3.readthedocs.io/en/latest/advanced-usage.html#ssl-warnings\n",
      "  InsecureRequestWarning,\n",
      "/home/dan/src/para/venv/lib/python3.6/site-packages/urllib3/connectionpool.py:1004: InsecureRequestWarning: Unverified HTTPS request is being made. Adding certificate verification is strongly advised. See: https://urllib3.readthedocs.io/en/latest/advanced-usage.html#ssl-warnings\n",
      "  InsecureRequestWarning,\n",
      "/home/dan/src/para/venv/lib/python3.6/site-packages/urllib3/connectionpool.py:1004: InsecureRequestWarning: Unverified HTTPS request is being made. Adding certificate verification is strongly advised. See: https://urllib3.readthedocs.io/en/latest/advanced-usage.html#ssl-warnings\n",
      "  InsecureRequestWarning,\n",
      "/home/dan/src/para/venv/lib/python3.6/site-packages/urllib3/connectionpool.py:1004: InsecureRequestWarning: Unverified HTTPS request is being made. Adding certificate verification is strongly advised. See: https://urllib3.readthedocs.io/en/latest/advanced-usage.html#ssl-warnings\n",
      "  InsecureRequestWarning,\n"
     ]
    },
    {
     "name": "stdout",
     "output_type": "stream",
     "text": [
      "https://nextdoor.com['https://nextdoor.com/', 'https://nextdoor.com/', 'https://nextdoor.nl/', 'https://nextdoor.co.uk/', 'https://nextdoor.de/', 'https://fr.nextdoor.com/', 'https://it.nextdoor.com/', 'https://es.nextdoor.com/', 'https://au.nextdoor.com/', 'https://dk.nextdoor.com/', 'https://se.nextdoor.com/', 'https://ca.nextdoor.com/', 'https://ca.nextdoor.com/', 'https://d19rpgkrjeba2z.cloudfront.net/b9b651cc0b575574/static/nextdoorv2/images/favicons/favicon-v2.ico']\n",
      "\n",
      "https://nextdoor.com['https://nextdoor.com/', 'https://nextdoor.com/', 'https://nextdoor.nl/', 'https://nextdoor.co.uk/', 'https://nextdoor.de/', 'https://fr.nextdoor.com/', 'https://it.nextdoor.com/', 'https://es.nextdoor.com/', 'https://au.nextdoor.com/', 'https://dk.nextdoor.com/', 'https://se.nextdoor.com/', 'https://ca.nextdoor.com/', 'https://ca.nextdoor.com/', 'https://d19rpgkrjeba2z.cloudfront.net/b9b651cc0b575574/static/nextdoorv2/images/favicons/favicon-v2.ico']\n",
      "\n",
      "https://nextdoor.com\n",
      "['https://nextdoor.com/', 'https://nextdoor.com/', 'https://nextdoor.nl/', 'https://nextdoor.co.uk/', 'https://nextdoor.de/', 'https://fr.nextdoor.com/', 'https://it.nextdoor.com/', 'https://es.nextdoor.com/', 'https://au.nextdoor.com/', 'https://dk.nextdoor.com/', 'https://se.nextdoor.com/', 'https://ca.nextdoor.com/', 'https://ca.nextdoor.com/', 'https://d19rpgkrjeba2z.cloudfront.net/b9b651cc0b575574/static/nextdoorv2/images/favicons/favicon-v2.ico']\n",
      "https://nextdoor.com['https://nextdoor.com/', 'https://nextdoor.com/', 'https://nextdoor.nl/', 'https://nextdoor.co.uk/', 'https://nextdoor.de/', 'https://fr.nextdoor.com/', 'https://it.nextdoor.com/', 'https://es.nextdoor.com/', 'https://au.nextdoor.com/', 'https://dk.nextdoor.com/', 'https://se.nextdoor.com/', 'https://ca.nextdoor.com/', 'https://ca.nextdoor.com/', 'https://d19rpgkrjeba2z.cloudfront.net/b9b651cc0b575574/static/nextdoorv2/images/favicons/favicon-v2.ico']\n",
      "\n"
     ]
    },
    {
     "name": "stderr",
     "output_type": "stream",
     "text": [
      "/home/dan/src/para/venv/lib/python3.6/site-packages/urllib3/connectionpool.py:1004: InsecureRequestWarning: Unverified HTTPS request is being made. Adding certificate verification is strongly advised. See: https://urllib3.readthedocs.io/en/latest/advanced-usage.html#ssl-warnings\n",
      "  InsecureRequestWarning,\n",
      "/home/dan/src/para/venv/lib/python3.6/site-packages/urllib3/connectionpool.py:1004: InsecureRequestWarning: Unverified HTTPS request is being made. Adding certificate verification is strongly advised. See: https://urllib3.readthedocs.io/en/latest/advanced-usage.html#ssl-warnings\n",
      "  InsecureRequestWarning,\n"
     ]
    },
    {
     "name": "stdout",
     "output_type": "stream",
     "text": [
      "https://nextdoor.com\n",
      "['https://nextdoor.com/', 'https://nextdoor.com/', 'https://nextdoor.nl/', 'https://nextdoor.co.uk/', 'https://nextdoor.de/', 'https://fr.nextdoor.com/', 'https://it.nextdoor.com/', 'https://es.nextdoor.com/', 'https://au.nextdoor.com/', 'https://dk.nextdoor.com/', 'https://se.nextdoor.com/', 'https://ca.nextdoor.com/', 'https://ca.nextdoor.com/', 'https://d19rpgkrjeba2z.cloudfront.net/b9b651cc0b575574/static/nextdoorv2/images/favicons/favicon-v2.ico']\n",
      "https://nextdoor.com['https://nextdoor.com/', 'https://nextdoor.com/', 'https://nextdoor.nl/', 'https://nextdoor.co.uk/', 'https://nextdoor.de/', 'https://fr.nextdoor.com/', 'https://it.nextdoor.com/', 'https://es.nextdoor.com/', 'https://au.nextdoor.com/', 'https://dk.nextdoor.com/', 'https://se.nextdoor.com/', 'https://ca.nextdoor.com/', 'https://ca.nextdoor.com/', 'https://d19rpgkrjeba2z.cloudfront.net/b9b651cc0b575574/static/nextdoorv2/images/favicons/favicon-v2.ico']\n",
      "\n",
      "https://nextdoor.com\n",
      "['https://nextdoor.com/', 'https://nextdoor.com/', 'https://nextdoor.nl/', 'https://nextdoor.co.uk/', 'https://nextdoor.de/', 'https://fr.nextdoor.com/', 'https://it.nextdoor.com/', 'https://es.nextdoor.com/', 'https://au.nextdoor.com/', 'https://dk.nextdoor.com/', 'https://se.nextdoor.com/', 'https://ca.nextdoor.com/', 'https://ca.nextdoor.com/', 'https://d19rpgkrjeba2z.cloudfront.net/b9b651cc0b575574/static/nextdoorv2/images/favicons/favicon-v2.ico']\n"
     ]
    },
    {
     "name": "stderr",
     "output_type": "stream",
     "text": [
      "/home/dan/src/para/venv/lib/python3.6/site-packages/urllib3/connectionpool.py:1004: InsecureRequestWarning: Unverified HTTPS request is being made. Adding certificate verification is strongly advised. See: https://urllib3.readthedocs.io/en/latest/advanced-usage.html#ssl-warnings\n",
      "  InsecureRequestWarning,\n",
      "/home/dan/src/para/venv/lib/python3.6/site-packages/urllib3/connectionpool.py:1004: InsecureRequestWarning: Unverified HTTPS request is being made. Adding certificate verification is strongly advised. See: https://urllib3.readthedocs.io/en/latest/advanced-usage.html#ssl-warnings\n",
      "  InsecureRequestWarning,\n",
      "/home/dan/src/para/venv/lib/python3.6/site-packages/urllib3/connectionpool.py:1004: InsecureRequestWarning: Unverified HTTPS request is being made. Adding certificate verification is strongly advised. See: https://urllib3.readthedocs.io/en/latest/advanced-usage.html#ssl-warnings\n",
      "  InsecureRequestWarning,\n",
      "/home/dan/src/para/venv/lib/python3.6/site-packages/urllib3/connectionpool.py:1004: InsecureRequestWarning: Unverified HTTPS request is being made. Adding certificate verification is strongly advised. See: https://urllib3.readthedocs.io/en/latest/advanced-usage.html#ssl-warnings\n",
      "  InsecureRequestWarning,\n",
      "/home/dan/src/para/venv/lib/python3.6/site-packages/urllib3/connectionpool.py:1004: InsecureRequestWarning: Unverified HTTPS request is being made. Adding certificate verification is strongly advised. See: https://urllib3.readthedocs.io/en/latest/advanced-usage.html#ssl-warnings\n",
      "  InsecureRequestWarning,\n",
      "/home/dan/src/para/venv/lib/python3.6/site-packages/urllib3/connectionpool.py:1004: InsecureRequestWarning: Unverified HTTPS request is being made. Adding certificate verification is strongly advised. See: https://urllib3.readthedocs.io/en/latest/advanced-usage.html#ssl-warnings\n",
      "  InsecureRequestWarning,\n"
     ]
    },
    {
     "name": "stdout",
     "output_type": "stream",
     "text": [
      "https://nextdoor.com['https://nextdoor.com/', 'https://nextdoor.com/', 'https://nextdoor.nl/', 'https://nextdoor.co.uk/', 'https://nextdoor.de/', 'https://fr.nextdoor.com/', 'https://it.nextdoor.com/', 'https://es.nextdoor.com/', 'https://au.nextdoor.com/', 'https://dk.nextdoor.com/', 'https://se.nextdoor.com/', 'https://ca.nextdoor.com/', 'https://ca.nextdoor.com/', 'https://d19rpgkrjeba2z.cloudfront.net/b9b651cc0b575574/static/nextdoorv2/images/favicons/favicon-v2.ico']\n",
      "\n",
      "https://nextdoor.com\n",
      "['https://nextdoor.com/', 'https://nextdoor.com/', 'https://nextdoor.nl/', 'https://nextdoor.co.uk/', 'https://nextdoor.de/', 'https://fr.nextdoor.com/', 'https://it.nextdoor.com/', 'https://es.nextdoor.com/', 'https://au.nextdoor.com/', 'https://dk.nextdoor.com/', 'https://se.nextdoor.com/', 'https://ca.nextdoor.com/', 'https://ca.nextdoor.com/', 'https://d19rpgkrjeba2z.cloudfront.net/b9b651cc0b575574/static/nextdoorv2/images/favicons/favicon-v2.ico']\n",
      "https://nextdoor.com['https://nextdoor.com/', 'https://nextdoor.com/', 'https://nextdoor.nl/', 'https://nextdoor.co.uk/', 'https://nextdoor.de/', 'https://fr.nextdoor.com/', 'https://it.nextdoor.com/', 'https://es.nextdoor.com/', 'https://au.nextdoor.com/', 'https://dk.nextdoor.com/', 'https://se.nextdoor.com/', 'https://ca.nextdoor.com/', 'https://ca.nextdoor.com/', 'https://d19rpgkrjeba2z.cloudfront.net/b9b651cc0b575574/static/nextdoorv2/images/favicons/favicon-v2.ico']\n",
      "\n",
      "https://nextdoor.com['https://nextdoor.com/', 'https://nextdoor.com/', 'https://nextdoor.nl/', 'https://nextdoor.co.uk/', 'https://nextdoor.de/', 'https://fr.nextdoor.com/', 'https://it.nextdoor.com/', 'https://es.nextdoor.com/', 'https://au.nextdoor.com/', 'https://dk.nextdoor.com/', 'https://se.nextdoor.com/', 'https://ca.nextdoor.com/', 'https://ca.nextdoor.com/', 'https://d19rpgkrjeba2z.cloudfront.net/b9b651cc0b575574/static/nextdoorv2/images/favicons/favicon-v2.ico']\n",
      "\n",
      "https://nextdoor.com['https://nextdoor.com/', 'https://nextdoor.com/', 'https://nextdoor.nl/', 'https://nextdoor.co.uk/', 'https://nextdoor.de/', 'https://fr.nextdoor.com/', 'https://it.nextdoor.com/', 'https://es.nextdoor.com/', 'https://au.nextdoor.com/', 'https://dk.nextdoor.com/', 'https://se.nextdoor.com/', 'https://ca.nextdoor.com/', 'https://ca.nextdoor.com/', 'https://d19rpgkrjeba2z.cloudfront.net/b9b651cc0b575574/static/nextdoorv2/images/favicons/favicon-v2.ico']\n",
      "\n"
     ]
    },
    {
     "name": "stderr",
     "output_type": "stream",
     "text": [
      "/home/dan/src/para/venv/lib/python3.6/site-packages/urllib3/connectionpool.py:1004: InsecureRequestWarning: Unverified HTTPS request is being made. Adding certificate verification is strongly advised. See: https://urllib3.readthedocs.io/en/latest/advanced-usage.html#ssl-warnings\n",
      "  InsecureRequestWarning,\n",
      "/home/dan/src/para/venv/lib/python3.6/site-packages/urllib3/connectionpool.py:1004: InsecureRequestWarning: Unverified HTTPS request is being made. Adding certificate verification is strongly advised. See: https://urllib3.readthedocs.io/en/latest/advanced-usage.html#ssl-warnings\n",
      "  InsecureRequestWarning,\n",
      "/home/dan/src/para/venv/lib/python3.6/site-packages/urllib3/connectionpool.py:1004: InsecureRequestWarning: Unverified HTTPS request is being made. Adding certificate verification is strongly advised. See: https://urllib3.readthedocs.io/en/latest/advanced-usage.html#ssl-warnings\n",
      "  InsecureRequestWarning,\n"
     ]
    },
    {
     "name": "stdout",
     "output_type": "stream",
     "text": [
      "https://nextdoor.comhttps://nextdoor.com\n",
      "\n",
      "['https://nextdoor.com/', 'https://nextdoor.com/', 'https://nextdoor.nl/', 'https://nextdoor.co.uk/', 'https://nextdoor.de/', 'https://fr.nextdoor.com/', 'https://it.nextdoor.com/', 'https://es.nextdoor.com/', 'https://au.nextdoor.com/', 'https://dk.nextdoor.com/', 'https://se.nextdoor.com/', 'https://ca.nextdoor.com/', 'https://ca.nextdoor.com/', 'https://d19rpgkrjeba2z.cloudfront.net/b9b651cc0b575574/static/nextdoorv2/images/favicons/favicon-v2.ico']\n",
      "['https://nextdoor.com/', 'https://nextdoor.com/', 'https://nextdoor.nl/', 'https://nextdoor.co.uk/', 'https://nextdoor.de/', 'https://fr.nextdoor.com/', 'https://it.nextdoor.com/', 'https://es.nextdoor.com/', 'https://au.nextdoor.com/', 'https://dk.nextdoor.com/', 'https://se.nextdoor.com/', 'https://ca.nextdoor.com/', 'https://ca.nextdoor.com/', 'https://d19rpgkrjeba2z.cloudfront.net/b9b651cc0b575574/static/nextdoorv2/images/favicons/favicon-v2.ico']\n",
      "https://nextdoor.com['https://nextdoor.com/', 'https://nextdoor.com/', 'https://nextdoor.nl/', 'https://nextdoor.co.uk/', 'https://nextdoor.de/', 'https://fr.nextdoor.com/', 'https://it.nextdoor.com/', 'https://es.nextdoor.com/', 'https://au.nextdoor.com/', 'https://dk.nextdoor.com/', 'https://se.nextdoor.com/', 'https://ca.nextdoor.com/', 'https://ca.nextdoor.com/', 'https://d19rpgkrjeba2z.cloudfront.net/b9b651cc0b575574/static/nextdoorv2/images/favicons/favicon-v2.ico']\n",
      "\n",
      "https://nextdoor.com['https://nextdoor.com/', 'https://nextdoor.com/', 'https://nextdoor.nl/', 'https://nextdoor.co.uk/', 'https://nextdoor.de/', 'https://fr.nextdoor.com/', 'https://it.nextdoor.com/', 'https://es.nextdoor.com/', 'https://au.nextdoor.com/', 'https://dk.nextdoor.com/', 'https://se.nextdoor.com/', 'https://ca.nextdoor.com/', 'https://ca.nextdoor.com/', 'https://d19rpgkrjeba2z.cloudfront.net/b9b651cc0b575574/static/nextdoorv2/images/favicons/favicon-v2.ico']\n",
      "\n",
      "https://nextdoor.com['https://nextdoor.com/', 'https://nextdoor.com/', 'https://nextdoor.nl/', 'https://nextdoor.co.uk/', 'https://nextdoor.de/', 'https://fr.nextdoor.com/', 'https://it.nextdoor.com/', 'https://es.nextdoor.com/', 'https://au.nextdoor.com/', 'https://dk.nextdoor.com/', 'https://se.nextdoor.com/', 'https://ca.nextdoor.com/', 'https://ca.nextdoor.com/', 'https://d19rpgkrjeba2z.cloudfront.net/b9b651cc0b575574/static/nextdoorv2/images/favicons/favicon-v2.ico']\n",
      "\n",
      "https://nextdoor.com['https://nextdoor.com/', 'https://nextdoor.com/', 'https://nextdoor.nl/', 'https://nextdoor.co.uk/', 'https://nextdoor.de/', 'https://fr.nextdoor.com/', 'https://it.nextdoor.com/', 'https://es.nextdoor.com/', 'https://au.nextdoor.com/', 'https://dk.nextdoor.com/', 'https://se.nextdoor.com/', 'https://ca.nextdoor.com/', 'https://ca.nextdoor.com/', 'https://d19rpgkrjeba2z.cloudfront.net/b9b651cc0b575574/static/nextdoorv2/images/favicons/favicon-v2.ico']\n",
      "\n",
      "https://nextdoor.com['https://nextdoor.com/', 'https://nextdoor.com/', 'https://nextdoor.nl/', 'https://nextdoor.co.uk/', 'https://nextdoor.de/', 'https://fr.nextdoor.com/', 'https://it.nextdoor.com/', 'https://es.nextdoor.com/', 'https://au.nextdoor.com/', 'https://dk.nextdoor.com/', 'https://se.nextdoor.com/', 'https://ca.nextdoor.com/', 'https://ca.nextdoor.com/', 'https://d19rpgkrjeba2z.cloudfront.net/b9b651cc0b575574/static/nextdoorv2/images/favicons/favicon-v2.ico']\n"
     ]
    },
    {
     "name": "stderr",
     "output_type": "stream",
     "text": [
      "/home/dan/src/para/venv/lib/python3.6/site-packages/urllib3/connectionpool.py:1004: InsecureRequestWarning: Unverified HTTPS request is being made. Adding certificate verification is strongly advised. See: https://urllib3.readthedocs.io/en/latest/advanced-usage.html#ssl-warnings\n",
      "  InsecureRequestWarning,\n",
      "/home/dan/src/para/venv/lib/python3.6/site-packages/urllib3/connectionpool.py:1004: InsecureRequestWarning: Unverified HTTPS request is being made. Adding certificate verification is strongly advised. See: https://urllib3.readthedocs.io/en/latest/advanced-usage.html#ssl-warnings\n",
      "  InsecureRequestWarning,\n",
      "/home/dan/src/para/venv/lib/python3.6/site-packages/urllib3/connectionpool.py:1004: InsecureRequestWarning: Unverified HTTPS request is being made. Adding certificate verification is strongly advised. See: https://urllib3.readthedocs.io/en/latest/advanced-usage.html#ssl-warnings\n",
      "  InsecureRequestWarning,\n",
      "/home/dan/src/para/venv/lib/python3.6/site-packages/urllib3/connectionpool.py:1004: InsecureRequestWarning: Unverified HTTPS request is being made. Adding certificate verification is strongly advised. See: https://urllib3.readthedocs.io/en/latest/advanced-usage.html#ssl-warnings\n",
      "  InsecureRequestWarning,\n",
      "/home/dan/src/para/venv/lib/python3.6/site-packages/urllib3/connectionpool.py:1004: InsecureRequestWarning: Unverified HTTPS request is being made. Adding certificate verification is strongly advised. See: https://urllib3.readthedocs.io/en/latest/advanced-usage.html#ssl-warnings\n",
      "  InsecureRequestWarning,\n",
      "/home/dan/src/para/venv/lib/python3.6/site-packages/urllib3/connectionpool.py:1004: InsecureRequestWarning: Unverified HTTPS request is being made. Adding certificate verification is strongly advised. See: https://urllib3.readthedocs.io/en/latest/advanced-usage.html#ssl-warnings\n",
      "  InsecureRequestWarning,\n"
     ]
    },
    {
     "name": "stdout",
     "output_type": "stream",
     "text": [
      "\n",
      "https://nextdoor.com['https://nextdoor.com/', 'https://nextdoor.com/', 'https://nextdoor.nl/', 'https://nextdoor.co.uk/', 'https://nextdoor.de/', 'https://fr.nextdoor.com/', 'https://it.nextdoor.com/', 'https://es.nextdoor.com/', 'https://au.nextdoor.com/', 'https://dk.nextdoor.com/', 'https://se.nextdoor.com/', 'https://ca.nextdoor.com/', 'https://ca.nextdoor.com/', 'https://d19rpgkrjeba2z.cloudfront.net/b9b651cc0b575574/static/nextdoorv2/images/favicons/favicon-v2.ico']\n",
      "\n",
      "https://nextdoor.com['https://nextdoor.com/', 'https://nextdoor.com/', 'https://nextdoor.nl/', 'https://nextdoor.co.uk/', 'https://nextdoor.de/', 'https://fr.nextdoor.com/', 'https://it.nextdoor.com/', 'https://es.nextdoor.com/', 'https://au.nextdoor.com/', 'https://dk.nextdoor.com/', 'https://se.nextdoor.com/', 'https://ca.nextdoor.com/', 'https://ca.nextdoor.com/', 'https://d19rpgkrjeba2z.cloudfront.net/b9b651cc0b575574/static/nextdoorv2/images/favicons/favicon-v2.ico']\n",
      "\n"
     ]
    },
    {
     "name": "stderr",
     "output_type": "stream",
     "text": [
      "/home/dan/src/para/venv/lib/python3.6/site-packages/urllib3/connectionpool.py:1004: InsecureRequestWarning: Unverified HTTPS request is being made. Adding certificate verification is strongly advised. See: https://urllib3.readthedocs.io/en/latest/advanced-usage.html#ssl-warnings\n",
      "  InsecureRequestWarning,\n",
      "/home/dan/src/para/venv/lib/python3.6/site-packages/urllib3/connectionpool.py:1004: InsecureRequestWarning: Unverified HTTPS request is being made. Adding certificate verification is strongly advised. See: https://urllib3.readthedocs.io/en/latest/advanced-usage.html#ssl-warnings\n",
      "  InsecureRequestWarning,\n",
      "/home/dan/src/para/venv/lib/python3.6/site-packages/urllib3/connectionpool.py:1004: InsecureRequestWarning: Unverified HTTPS request is being made. Adding certificate verification is strongly advised. See: https://urllib3.readthedocs.io/en/latest/advanced-usage.html#ssl-warnings\n",
      "  InsecureRequestWarning,\n"
     ]
    },
    {
     "name": "stdout",
     "output_type": "stream",
     "text": [
      "https://nextdoor.com['https://nextdoor.com/', 'https://nextdoor.com/', 'https://nextdoor.nl/', 'https://nextdoor.co.uk/', 'https://nextdoor.de/', 'https://fr.nextdoor.com/', 'https://it.nextdoor.com/', 'https://es.nextdoor.com/', 'https://au.nextdoor.com/', 'https://dk.nextdoor.com/', 'https://se.nextdoor.com/', 'https://ca.nextdoor.com/', 'https://ca.nextdoor.com/', 'https://d19rpgkrjeba2z.cloudfront.net/b9b651cc0b575574/static/nextdoorv2/images/favicons/favicon-v2.ico']\n",
      "\n",
      "https://nextdoor.com['https://nextdoor.com/', 'https://nextdoor.com/', 'https://nextdoor.nl/', 'https://nextdoor.co.uk/', 'https://nextdoor.de/', 'https://fr.nextdoor.com/', 'https://it.nextdoor.com/', 'https://es.nextdoor.com/', 'https://au.nextdoor.com/', 'https://dk.nextdoor.com/', 'https://se.nextdoor.com/', 'https://ca.nextdoor.com/', 'https://ca.nextdoor.com/', 'https://d19rpgkrjeba2z.cloudfront.net/b9b651cc0b575574/static/nextdoorv2/images/favicons/favicon-v2.ico']\n",
      "https://nextdoor.com\n",
      "\n",
      "['https://nextdoor.com/', 'https://nextdoor.com/', 'https://nextdoor.nl/', 'https://nextdoor.co.uk/', 'https://nextdoor.de/', 'https://fr.nextdoor.com/', 'https://it.nextdoor.com/', 'https://es.nextdoor.com/', 'https://au.nextdoor.com/', 'https://dk.nextdoor.com/', 'https://se.nextdoor.com/', 'https://ca.nextdoor.com/', 'https://ca.nextdoor.com/', 'https://d19rpgkrjeba2z.cloudfront.net/b9b651cc0b575574/static/nextdoorv2/images/favicons/favicon-v2.ico']\n",
      "https://nextdoor.com\n",
      "['https://nextdoor.com/', 'https://nextdoor.com/', 'https://nextdoor.nl/', 'https://nextdoor.co.uk/', 'https://nextdoor.de/', 'https://fr.nextdoor.com/', 'https://it.nextdoor.com/', 'https://es.nextdoor.com/', 'https://au.nextdoor.com/', 'https://dk.nextdoor.com/', 'https://se.nextdoor.com/', 'https://ca.nextdoor.com/', 'https://ca.nextdoor.com/', 'https://d19rpgkrjeba2z.cloudfront.net/b9b651cc0b575574/static/nextdoorv2/images/favicons/favicon-v2.ico']\n",
      "https://nextdoor.com['https://nextdoor.com/', 'https://nextdoor.com/', 'https://nextdoor.nl/', 'https://nextdoor.co.uk/', 'https://nextdoor.de/', 'https://fr.nextdoor.com/', 'https://it.nextdoor.com/', 'https://es.nextdoor.com/', 'https://au.nextdoor.com/', 'https://dk.nextdoor.com/', 'https://se.nextdoor.com/', 'https://ca.nextdoor.com/', 'https://ca.nextdoor.com/', 'https://d19rpgkrjeba2z.cloudfront.net/b9b651cc0b575574/static/nextdoorv2/images/favicons/favicon-v2.ico']\n",
      "\n"
     ]
    },
    {
     "name": "stderr",
     "output_type": "stream",
     "text": [
      "/home/dan/src/para/venv/lib/python3.6/site-packages/urllib3/connectionpool.py:1004: InsecureRequestWarning: Unverified HTTPS request is being made. Adding certificate verification is strongly advised. See: https://urllib3.readthedocs.io/en/latest/advanced-usage.html#ssl-warnings\n",
      "  InsecureRequestWarning,\n",
      "/home/dan/src/para/venv/lib/python3.6/site-packages/urllib3/connectionpool.py:1004: InsecureRequestWarning: Unverified HTTPS request is being made. Adding certificate verification is strongly advised. See: https://urllib3.readthedocs.io/en/latest/advanced-usage.html#ssl-warnings\n",
      "  InsecureRequestWarning,\n",
      "/home/dan/src/para/venv/lib/python3.6/site-packages/urllib3/connectionpool.py:1004: InsecureRequestWarning: Unverified HTTPS request is being made. Adding certificate verification is strongly advised. See: https://urllib3.readthedocs.io/en/latest/advanced-usage.html#ssl-warnings\n",
      "  InsecureRequestWarning,\n",
      "/home/dan/src/para/venv/lib/python3.6/site-packages/urllib3/connectionpool.py:1004: InsecureRequestWarning: Unverified HTTPS request is being made. Adding certificate verification is strongly advised. See: https://urllib3.readthedocs.io/en/latest/advanced-usage.html#ssl-warnings\n",
      "  InsecureRequestWarning,\n",
      "/home/dan/src/para/venv/lib/python3.6/site-packages/urllib3/connectionpool.py:1004: InsecureRequestWarning: Unverified HTTPS request is being made. Adding certificate verification is strongly advised. See: https://urllib3.readthedocs.io/en/latest/advanced-usage.html#ssl-warnings\n",
      "  InsecureRequestWarning,\n"
     ]
    },
    {
     "name": "stdout",
     "output_type": "stream",
     "text": [
      "https://nextdoor.com['https://nextdoor.com/', 'https://nextdoor.com/', 'https://nextdoor.nl/', 'https://nextdoor.co.uk/', 'https://nextdoor.de/', 'https://fr.nextdoor.com/', 'https://it.nextdoor.com/', 'https://es.nextdoor.com/', 'https://au.nextdoor.com/', 'https://dk.nextdoor.com/', 'https://se.nextdoor.com/', 'https://ca.nextdoor.com/', 'https://ca.nextdoor.com/', 'https://d19rpgkrjeba2z.cloudfront.net/b9b651cc0b575574/static/nextdoorv2/images/favicons/favicon-v2.ico']\n",
      "\n",
      "https://nextdoor.comhttps://nextdoor.com['https://nextdoor.com/', 'https://nextdoor.com/', 'https://nextdoor.nl/', 'https://nextdoor.co.uk/', 'https://nextdoor.de/', 'https://fr.nextdoor.com/', 'https://it.nextdoor.com/', 'https://es.nextdoor.com/', 'https://au.nextdoor.com/', 'https://dk.nextdoor.com/', 'https://se.nextdoor.com/', 'https://ca.nextdoor.com/', 'https://ca.nextdoor.com/', 'https://d19rpgkrjeba2z.cloudfront.net/b9b651cc0b575574/static/nextdoorv2/images/favicons/favicon-v2.ico']\n",
      "\n",
      "\n",
      "['https://nextdoor.com/', 'https://nextdoor.com/', 'https://nextdoor.nl/', 'https://nextdoor.co.uk/', 'https://nextdoor.de/', 'https://fr.nextdoor.com/', 'https://it.nextdoor.com/', 'https://es.nextdoor.com/', 'https://au.nextdoor.com/', 'https://dk.nextdoor.com/', 'https://se.nextdoor.com/', 'https://ca.nextdoor.com/', 'https://ca.nextdoor.com/', 'https://d19rpgkrjeba2z.cloudfront.net/b9b651cc0b575574/static/nextdoorv2/images/favicons/favicon-v2.ico']\n",
      "https://nextdoor.com['https://nextdoor.com/', 'https://nextdoor.com/', 'https://nextdoor.nl/', 'https://nextdoor.co.uk/', 'https://nextdoor.de/', 'https://fr.nextdoor.com/', 'https://it.nextdoor.com/', 'https://es.nextdoor.com/', 'https://au.nextdoor.com/', 'https://dk.nextdoor.com/', 'https://se.nextdoor.com/', 'https://ca.nextdoor.com/', 'https://ca.nextdoor.com/', 'https://d19rpgkrjeba2z.cloudfront.net/b9b651cc0b575574/static/nextdoorv2/images/favicons/favicon-v2.ico']\n",
      "\n"
     ]
    },
    {
     "name": "stderr",
     "output_type": "stream",
     "text": [
      "/home/dan/src/para/venv/lib/python3.6/site-packages/urllib3/connectionpool.py:1004: InsecureRequestWarning: Unverified HTTPS request is being made. Adding certificate verification is strongly advised. See: https://urllib3.readthedocs.io/en/latest/advanced-usage.html#ssl-warnings\n",
      "  InsecureRequestWarning,\n",
      "/home/dan/src/para/venv/lib/python3.6/site-packages/urllib3/connectionpool.py:1004: InsecureRequestWarning: Unverified HTTPS request is being made. Adding certificate verification is strongly advised. See: https://urllib3.readthedocs.io/en/latest/advanced-usage.html#ssl-warnings\n",
      "  InsecureRequestWarning,\n",
      "/home/dan/src/para/venv/lib/python3.6/site-packages/urllib3/connectionpool.py:1004: InsecureRequestWarning: Unverified HTTPS request is being made. Adding certificate verification is strongly advised. See: https://urllib3.readthedocs.io/en/latest/advanced-usage.html#ssl-warnings\n",
      "  InsecureRequestWarning,\n",
      "/home/dan/src/para/venv/lib/python3.6/site-packages/urllib3/connectionpool.py:1004: InsecureRequestWarning: Unverified HTTPS request is being made. Adding certificate verification is strongly advised. See: https://urllib3.readthedocs.io/en/latest/advanced-usage.html#ssl-warnings\n",
      "  InsecureRequestWarning,\n"
     ]
    },
    {
     "name": "stdout",
     "output_type": "stream",
     "text": [
      "https://nextdoor.com['https://nextdoor.com/', 'https://nextdoor.com/', 'https://nextdoor.nl/', 'https://nextdoor.co.uk/', 'https://nextdoor.de/', 'https://fr.nextdoor.com/', 'https://it.nextdoor.com/', 'https://es.nextdoor.com/', 'https://au.nextdoor.com/', 'https://dk.nextdoor.com/', 'https://se.nextdoor.com/', 'https://ca.nextdoor.com/', 'https://ca.nextdoor.com/', 'https://d19rpgkrjeba2z.cloudfront.net/b9b651cc0b575574/static/nextdoorv2/images/favicons/favicon-v2.ico']\n",
      "\n",
      "https://nextdoor.com\n",
      "['https://nextdoor.com/', 'https://nextdoor.com/', 'https://nextdoor.nl/', 'https://nextdoor.co.uk/', 'https://nextdoor.de/', 'https://fr.nextdoor.com/', 'https://it.nextdoor.com/', 'https://es.nextdoor.com/', 'https://au.nextdoor.com/', 'https://dk.nextdoor.com/', 'https://se.nextdoor.com/', 'https://ca.nextdoor.com/', 'https://ca.nextdoor.com/', 'https://d19rpgkrjeba2z.cloudfront.net/b9b651cc0b575574/static/nextdoorv2/images/favicons/favicon-v2.ico']\n",
      "https://nextdoor.com['https://nextdoor.com/', 'https://nextdoor.com/', 'https://nextdoor.nl/', 'https://nextdoor.co.uk/', 'https://nextdoor.de/', 'https://fr.nextdoor.com/', 'https://it.nextdoor.com/', 'https://es.nextdoor.com/', 'https://au.nextdoor.com/', 'https://dk.nextdoor.com/', 'https://se.nextdoor.com/', 'https://ca.nextdoor.com/', 'https://ca.nextdoor.com/', 'https://d19rpgkrjeba2z.cloudfront.net/b9b651cc0b575574/static/nextdoorv2/images/favicons/favicon-v2.ico']\n",
      "\n",
      "https://nextdoor.com['https://nextdoor.com/', 'https://nextdoor.com/', 'https://nextdoor.nl/', 'https://nextdoor.co.uk/', 'https://nextdoor.de/', 'https://fr.nextdoor.com/', 'https://it.nextdoor.com/', 'https://es.nextdoor.com/', 'https://au.nextdoor.com/', 'https://dk.nextdoor.com/', 'https://se.nextdoor.com/', 'https://ca.nextdoor.com/', 'https://ca.nextdoor.com/', 'https://d19rpgkrjeba2z.cloudfront.net/b9b651cc0b575574/static/nextdoorv2/images/favicons/favicon-v2.ico']\n",
      "\n",
      "https://nextdoor.com\n",
      "['https://nextdoor.com/', 'https://nextdoor.com/', 'https://nextdoor.nl/', 'https://nextdoor.co.uk/', 'https://nextdoor.de/', 'https://fr.nextdoor.com/', 'https://it.nextdoor.com/', 'https://es.nextdoor.com/', 'https://au.nextdoor.com/', 'https://dk.nextdoor.com/', 'https://se.nextdoor.com/', 'https://ca.nextdoor.com/', 'https://ca.nextdoor.com/', 'https://d19rpgkrjeba2z.cloudfront.net/b9b651cc0b575574/static/nextdoorv2/images/favicons/favicon-v2.ico']\n",
      "https://nextdoor.com['https://nextdoor.com/', 'https://nextdoor.com/', 'https://nextdoor.nl/', 'https://nextdoor.co.uk/', 'https://nextdoor.de/', 'https://fr.nextdoor.com/', 'https://it.nextdoor.com/', 'https://es.nextdoor.com/', 'https://au.nextdoor.com/', 'https://dk.nextdoor.com/', 'https://se.nextdoor.com/', 'https://ca.nextdoor.com/', 'https://ca.nextdoor.com/', 'https://d19rpgkrjeba2z.cloudfront.net/b9b651cc0b575574/static/nextdoorv2/images/favicons/favicon-v2.ico']\n",
      "\n"
     ]
    },
    {
     "name": "stderr",
     "output_type": "stream",
     "text": [
      "/home/dan/src/para/venv/lib/python3.6/site-packages/urllib3/connectionpool.py:1004: InsecureRequestWarning: Unverified HTTPS request is being made. Adding certificate verification is strongly advised. See: https://urllib3.readthedocs.io/en/latest/advanced-usage.html#ssl-warnings\n",
      "  InsecureRequestWarning,\n",
      "/home/dan/src/para/venv/lib/python3.6/site-packages/urllib3/connectionpool.py:1004: InsecureRequestWarning: Unverified HTTPS request is being made. Adding certificate verification is strongly advised. See: https://urllib3.readthedocs.io/en/latest/advanced-usage.html#ssl-warnings\n",
      "  InsecureRequestWarning,\n",
      "/home/dan/src/para/venv/lib/python3.6/site-packages/urllib3/connectionpool.py:1004: InsecureRequestWarning: Unverified HTTPS request is being made. Adding certificate verification is strongly advised. See: https://urllib3.readthedocs.io/en/latest/advanced-usage.html#ssl-warnings\n",
      "  InsecureRequestWarning,\n",
      "/home/dan/src/para/venv/lib/python3.6/site-packages/urllib3/connectionpool.py:1004: InsecureRequestWarning: Unverified HTTPS request is being made. Adding certificate verification is strongly advised. See: https://urllib3.readthedocs.io/en/latest/advanced-usage.html#ssl-warnings\n",
      "  InsecureRequestWarning,\n",
      "/home/dan/src/para/venv/lib/python3.6/site-packages/urllib3/connectionpool.py:1004: InsecureRequestWarning: Unverified HTTPS request is being made. Adding certificate verification is strongly advised. See: https://urllib3.readthedocs.io/en/latest/advanced-usage.html#ssl-warnings\n",
      "  InsecureRequestWarning,\n"
     ]
    },
    {
     "name": "stdout",
     "output_type": "stream",
     "text": [
      "https://nextdoor.com\n",
      "['https://nextdoor.com/', 'https://nextdoor.com/', 'https://nextdoor.nl/', 'https://nextdoor.co.uk/', 'https://nextdoor.de/', 'https://fr.nextdoor.com/', 'https://it.nextdoor.com/', 'https://es.nextdoor.com/', 'https://au.nextdoor.com/', 'https://dk.nextdoor.com/', 'https://se.nextdoor.com/', 'https://ca.nextdoor.com/', 'https://ca.nextdoor.com/', 'https://d19rpgkrjeba2z.cloudfront.net/b9b651cc0b575574/static/nextdoorv2/images/favicons/favicon-v2.ico']\n",
      "https://nextdoor.com['https://nextdoor.com/', 'https://nextdoor.com/', 'https://nextdoor.nl/', 'https://nextdoor.co.uk/', 'https://nextdoor.de/', 'https://fr.nextdoor.com/', 'https://it.nextdoor.com/', 'https://es.nextdoor.com/', 'https://au.nextdoor.com/', 'https://dk.nextdoor.com/', 'https://se.nextdoor.com/', 'https://ca.nextdoor.com/', 'https://ca.nextdoor.com/', 'https://d19rpgkrjeba2z.cloudfront.net/b9b651cc0b575574/static/nextdoorv2/images/favicons/favicon-v2.ico']\n",
      "\n",
      "https://nextdoor.com['https://nextdoor.com/', 'https://nextdoor.com/', 'https://nextdoor.nl/', 'https://nextdoor.co.uk/', 'https://nextdoor.de/', 'https://fr.nextdoor.com/', 'https://it.nextdoor.com/', 'https://es.nextdoor.com/', 'https://au.nextdoor.com/', 'https://dk.nextdoor.com/', 'https://se.nextdoor.com/', 'https://ca.nextdoor.com/', 'https://ca.nextdoor.com/', 'https://d19rpgkrjeba2z.cloudfront.net/b9b651cc0b575574/static/nextdoorv2/images/favicons/favicon-v2.ico']\n",
      "\n"
     ]
    },
    {
     "name": "stderr",
     "output_type": "stream",
     "text": [
      "/home/dan/src/para/venv/lib/python3.6/site-packages/urllib3/connectionpool.py:1004: InsecureRequestWarning: Unverified HTTPS request is being made. Adding certificate verification is strongly advised. See: https://urllib3.readthedocs.io/en/latest/advanced-usage.html#ssl-warnings\n",
      "  InsecureRequestWarning,\n"
     ]
    },
    {
     "name": "stdout",
     "output_type": "stream",
     "text": [
      "https://nextdoor.com['https://nextdoor.com/', 'https://nextdoor.com/', 'https://nextdoor.nl/', 'https://nextdoor.co.uk/', 'https://nextdoor.de/', 'https://fr.nextdoor.com/', 'https://it.nextdoor.com/', 'https://es.nextdoor.com/', 'https://au.nextdoor.com/', 'https://dk.nextdoor.com/', 'https://se.nextdoor.com/', 'https://ca.nextdoor.com/', 'https://ca.nextdoor.com/', 'https://d19rpgkrjeba2z.cloudfront.net/b9b651cc0b575574/static/nextdoorv2/images/favicons/favicon-v2.ico']\n",
      "\n",
      "https://nextdoor.com['https://nextdoor.com/', 'https://nextdoor.com/', 'https://nextdoor.nl/', 'https://nextdoor.co.uk/', 'https://nextdoor.de/', 'https://fr.nextdoor.com/', 'https://it.nextdoor.com/', 'https://es.nextdoor.com/', 'https://au.nextdoor.com/', 'https://dk.nextdoor.com/', 'https://se.nextdoor.com/', 'https://ca.nextdoor.com/', 'https://ca.nextdoor.com/', 'https://d19rpgkrjeba2z.cloudfront.net/b9b651cc0b575574/static/nextdoorv2/images/favicons/favicon-v2.ico']\n",
      "\n",
      "https://nextdoor.com['https://nextdoor.com/', 'https://nextdoor.com/', 'https://nextdoor.nl/', 'https://nextdoor.co.uk/', 'https://nextdoor.de/', 'https://fr.nextdoor.com/', 'https://it.nextdoor.com/', 'https://es.nextdoor.com/', 'https://au.nextdoor.com/', 'https://dk.nextdoor.com/', 'https://se.nextdoor.com/', 'https://ca.nextdoor.com/', 'https://ca.nextdoor.com/', 'https://d19rpgkrjeba2z.cloudfront.net/b9b651cc0b575574/static/nextdoorv2/images/favicons/favicon-v2.ico']https://nextdoor.com\n",
      "\n",
      "['https://nextdoor.com/', 'https://nextdoor.com/', 'https://nextdoor.nl/', 'https://nextdoor.co.uk/', 'https://nextdoor.de/', 'https://fr.nextdoor.com/', 'https://it.nextdoor.com/', 'https://es.nextdoor.com/', 'https://au.nextdoor.com/', 'https://dk.nextdoor.com/', 'https://se.nextdoor.com/', 'https://ca.nextdoor.com/', 'https://ca.nextdoor.com/', 'https://d19rpgkrjeba2z.cloudfront.net/b9b651cc0b575574/static/nextdoorv2/images/favicons/favicon-v2.ico']\n",
      "\n",
      "https://nextdoor.com['https://nextdoor.com/', 'https://nextdoor.com/', 'https://nextdoor.nl/', 'https://nextdoor.co.uk/', 'https://nextdoor.de/', 'https://fr.nextdoor.com/', 'https://it.nextdoor.com/', 'https://es.nextdoor.com/', 'https://au.nextdoor.com/', 'https://dk.nextdoor.com/', 'https://se.nextdoor.com/', 'https://ca.nextdoor.com/', 'https://ca.nextdoor.com/', 'https://d19rpgkrjeba2z.cloudfront.net/b9b651cc0b575574/static/nextdoorv2/images/favicons/favicon-v2.ico']https://nextdoor.com\n",
      "['https://nextdoor.com/', 'https://nextdoor.com/', 'https://nextdoor.nl/', 'https://nextdoor.co.uk/', 'https://nextdoor.de/', 'https://fr.nextdoor.com/', 'https://it.nextdoor.com/', 'https://es.nextdoor.com/', 'https://au.nextdoor.com/', 'https://dk.nextdoor.com/', 'https://se.nextdoor.com/', 'https://ca.nextdoor.com/', 'https://ca.nextdoor.com/', 'https://d19rpgkrjeba2z.cloudfront.net/b9b651cc0b575574/static/nextdoorv2/images/favicons/favicon-v2.ico']\n",
      "\n",
      "\n"
     ]
    },
    {
     "name": "stderr",
     "output_type": "stream",
     "text": [
      "/home/dan/src/para/venv/lib/python3.6/site-packages/urllib3/connectionpool.py:1004: InsecureRequestWarning: Unverified HTTPS request is being made. Adding certificate verification is strongly advised. See: https://urllib3.readthedocs.io/en/latest/advanced-usage.html#ssl-warnings\n",
      "  InsecureRequestWarning,\n",
      "/home/dan/src/para/venv/lib/python3.6/site-packages/urllib3/connectionpool.py:1004: InsecureRequestWarning: Unverified HTTPS request is being made. Adding certificate verification is strongly advised. See: https://urllib3.readthedocs.io/en/latest/advanced-usage.html#ssl-warnings\n",
      "  InsecureRequestWarning,\n",
      "/home/dan/src/para/venv/lib/python3.6/site-packages/urllib3/connectionpool.py:1004: InsecureRequestWarning: Unverified HTTPS request is being made. Adding certificate verification is strongly advised. See: https://urllib3.readthedocs.io/en/latest/advanced-usage.html#ssl-warnings\n",
      "  InsecureRequestWarning,\n",
      "/home/dan/src/para/venv/lib/python3.6/site-packages/urllib3/connectionpool.py:1004: InsecureRequestWarning: Unverified HTTPS request is being made. Adding certificate verification is strongly advised. See: https://urllib3.readthedocs.io/en/latest/advanced-usage.html#ssl-warnings\n",
      "  InsecureRequestWarning,\n",
      "/home/dan/src/para/venv/lib/python3.6/site-packages/urllib3/connectionpool.py:1004: InsecureRequestWarning: Unverified HTTPS request is being made. Adding certificate verification is strongly advised. See: https://urllib3.readthedocs.io/en/latest/advanced-usage.html#ssl-warnings\n",
      "  InsecureRequestWarning,\n",
      "/home/dan/src/para/venv/lib/python3.6/site-packages/urllib3/connectionpool.py:1004: InsecureRequestWarning: Unverified HTTPS request is being made. Adding certificate verification is strongly advised. See: https://urllib3.readthedocs.io/en/latest/advanced-usage.html#ssl-warnings\n",
      "  InsecureRequestWarning,\n",
      "/home/dan/src/para/venv/lib/python3.6/site-packages/urllib3/connectionpool.py:1004: InsecureRequestWarning: Unverified HTTPS request is being made. Adding certificate verification is strongly advised. See: https://urllib3.readthedocs.io/en/latest/advanced-usage.html#ssl-warnings\n",
      "  InsecureRequestWarning,\n"
     ]
    },
    {
     "name": "stdout",
     "output_type": "stream",
     "text": [
      "https://nextdoor.com['https://nextdoor.com/', 'https://nextdoor.com/', 'https://nextdoor.nl/', 'https://nextdoor.co.uk/', 'https://nextdoor.de/', 'https://fr.nextdoor.com/', 'https://it.nextdoor.com/', 'https://es.nextdoor.com/', 'https://au.nextdoor.com/', 'https://dk.nextdoor.com/', 'https://se.nextdoor.com/', 'https://ca.nextdoor.com/', 'https://ca.nextdoor.com/', 'https://d19rpgkrjeba2z.cloudfront.net/b9b651cc0b575574/static/nextdoorv2/images/favicons/favicon-v2.ico']\n",
      "\n"
     ]
    },
    {
     "name": "stderr",
     "output_type": "stream",
     "text": [
      "/home/dan/src/para/venv/lib/python3.6/site-packages/urllib3/connectionpool.py:1004: InsecureRequestWarning: Unverified HTTPS request is being made. Adding certificate verification is strongly advised. See: https://urllib3.readthedocs.io/en/latest/advanced-usage.html#ssl-warnings\n",
      "  InsecureRequestWarning,\n",
      "/home/dan/src/para/venv/lib/python3.6/site-packages/urllib3/connectionpool.py:1004: InsecureRequestWarning: Unverified HTTPS request is being made. Adding certificate verification is strongly advised. See: https://urllib3.readthedocs.io/en/latest/advanced-usage.html#ssl-warnings\n",
      "  InsecureRequestWarning,\n",
      "/home/dan/src/para/venv/lib/python3.6/site-packages/urllib3/connectionpool.py:1004: InsecureRequestWarning: Unverified HTTPS request is being made. Adding certificate verification is strongly advised. See: https://urllib3.readthedocs.io/en/latest/advanced-usage.html#ssl-warnings\n",
      "  InsecureRequestWarning,\n",
      "/home/dan/src/para/venv/lib/python3.6/site-packages/urllib3/connectionpool.py:1004: InsecureRequestWarning: Unverified HTTPS request is being made. Adding certificate verification is strongly advised. See: https://urllib3.readthedocs.io/en/latest/advanced-usage.html#ssl-warnings\n",
      "  InsecureRequestWarning,\n",
      "/home/dan/src/para/venv/lib/python3.6/site-packages/urllib3/connectionpool.py:1004: InsecureRequestWarning: Unverified HTTPS request is being made. Adding certificate verification is strongly advised. See: https://urllib3.readthedocs.io/en/latest/advanced-usage.html#ssl-warnings\n",
      "  InsecureRequestWarning,\n",
      "/home/dan/src/para/venv/lib/python3.6/site-packages/urllib3/connectionpool.py:1004: InsecureRequestWarning: Unverified HTTPS request is being made. Adding certificate verification is strongly advised. See: https://urllib3.readthedocs.io/en/latest/advanced-usage.html#ssl-warnings\n",
      "  InsecureRequestWarning,\n",
      "/home/dan/src/para/venv/lib/python3.6/site-packages/urllib3/connectionpool.py:1004: InsecureRequestWarning: Unverified HTTPS request is being made. Adding certificate verification is strongly advised. See: https://urllib3.readthedocs.io/en/latest/advanced-usage.html#ssl-warnings\n",
      "  InsecureRequestWarning,\n"
     ]
    },
    {
     "name": "stdout",
     "output_type": "stream",
     "text": [
      "https://nextdoor.com['https://nextdoor.com/', 'https://nextdoor.com/', 'https://nextdoor.nl/', 'https://nextdoor.co.uk/', 'https://nextdoor.de/', 'https://fr.nextdoor.com/', 'https://it.nextdoor.com/', 'https://es.nextdoor.com/', 'https://au.nextdoor.com/', 'https://dk.nextdoor.com/', 'https://se.nextdoor.com/', 'https://ca.nextdoor.com/', 'https://ca.nextdoor.com/', 'https://d19rpgkrjeba2z.cloudfront.net/b9b651cc0b575574/static/nextdoorv2/images/favicons/favicon-v2.ico']\n",
      "\n",
      "https://nextdoor.com\n",
      "['https://nextdoor.com/', 'https://nextdoor.com/', 'https://nextdoor.nl/', 'https://nextdoor.co.uk/', 'https://nextdoor.de/', 'https://fr.nextdoor.com/', 'https://it.nextdoor.com/', 'https://es.nextdoor.com/', 'https://au.nextdoor.com/', 'https://dk.nextdoor.com/', 'https://se.nextdoor.com/', 'https://ca.nextdoor.com/', 'https://ca.nextdoor.com/', 'https://d19rpgkrjeba2z.cloudfront.net/b9b651cc0b575574/static/nextdoorv2/images/favicons/favicon-v2.ico']\n",
      "https://nextdoor.com['https://nextdoor.com/', 'https://nextdoor.com/', 'https://nextdoor.nl/', 'https://nextdoor.co.uk/', 'https://nextdoor.de/', 'https://fr.nextdoor.com/', 'https://it.nextdoor.com/', 'https://es.nextdoor.com/', 'https://au.nextdoor.com/', 'https://dk.nextdoor.com/', 'https://se.nextdoor.com/', 'https://ca.nextdoor.com/', 'https://ca.nextdoor.com/', 'https://d19rpgkrjeba2z.cloudfront.net/b9b651cc0b575574/static/nextdoorv2/images/favicons/favicon-v2.ico']\n",
      "\n",
      "https://nextdoor.com['https://nextdoor.com/', 'https://nextdoor.com/', 'https://nextdoor.nl/', 'https://nextdoor.co.uk/', 'https://nextdoor.de/', 'https://fr.nextdoor.com/', 'https://it.nextdoor.com/', 'https://es.nextdoor.com/', 'https://au.nextdoor.com/', 'https://dk.nextdoor.com/', 'https://se.nextdoor.com/', 'https://ca.nextdoor.com/', 'https://ca.nextdoor.com/', 'https://d19rpgkrjeba2z.cloudfront.net/b9b651cc0b575574/static/nextdoorv2/images/favicons/favicon-v2.ico']\n",
      "\n",
      "https://nextdoor.com\n",
      "['https://nextdoor.com/', 'https://nextdoor.com/', 'https://nextdoor.nl/', 'https://nextdoor.co.uk/', 'https://nextdoor.de/', 'https://fr.nextdoor.com/', 'https://it.nextdoor.com/', 'https://es.nextdoor.com/', 'https://au.nextdoor.com/', 'https://dk.nextdoor.com/', 'https://se.nextdoor.com/', 'https://ca.nextdoor.com/', 'https://ca.nextdoor.com/', 'https://d19rpgkrjeba2z.cloudfront.net/b9b651cc0b575574/static/nextdoorv2/images/favicons/favicon-v2.ico']\n",
      "https://nextdoor.com['https://nextdoor.com/', 'https://nextdoor.com/', 'https://nextdoor.nl/', 'https://nextdoor.co.uk/', 'https://nextdoor.de/', 'https://fr.nextdoor.com/', 'https://it.nextdoor.com/', 'https://es.nextdoor.com/', 'https://au.nextdoor.com/', 'https://dk.nextdoor.com/', 'https://se.nextdoor.com/', 'https://ca.nextdoor.com/', 'https://ca.nextdoor.com/', 'https://d19rpgkrjeba2z.cloudfront.net/b9b651cc0b575574/static/nextdoorv2/images/favicons/favicon-v2.ico']\n",
      "\n"
     ]
    },
    {
     "name": "stderr",
     "output_type": "stream",
     "text": [
      "/home/dan/src/para/venv/lib/python3.6/site-packages/urllib3/connectionpool.py:1004: InsecureRequestWarning: Unverified HTTPS request is being made. Adding certificate verification is strongly advised. See: https://urllib3.readthedocs.io/en/latest/advanced-usage.html#ssl-warnings\n",
      "  InsecureRequestWarning,\n",
      "/home/dan/src/para/venv/lib/python3.6/site-packages/urllib3/connectionpool.py:1004: InsecureRequestWarning: Unverified HTTPS request is being made. Adding certificate verification is strongly advised. See: https://urllib3.readthedocs.io/en/latest/advanced-usage.html#ssl-warnings\n",
      "  InsecureRequestWarning,\n",
      "/home/dan/src/para/venv/lib/python3.6/site-packages/urllib3/connectionpool.py:1004: InsecureRequestWarning: Unverified HTTPS request is being made. Adding certificate verification is strongly advised. See: https://urllib3.readthedocs.io/en/latest/advanced-usage.html#ssl-warnings\n",
      "  InsecureRequestWarning,\n",
      "/home/dan/src/para/venv/lib/python3.6/site-packages/urllib3/connectionpool.py:1004: InsecureRequestWarning: Unverified HTTPS request is being made. Adding certificate verification is strongly advised. See: https://urllib3.readthedocs.io/en/latest/advanced-usage.html#ssl-warnings\n",
      "  InsecureRequestWarning,\n",
      "/home/dan/src/para/venv/lib/python3.6/site-packages/urllib3/connectionpool.py:1004: InsecureRequestWarning: Unverified HTTPS request is being made. Adding certificate verification is strongly advised. See: https://urllib3.readthedocs.io/en/latest/advanced-usage.html#ssl-warnings\n",
      "  InsecureRequestWarning,\n",
      "/home/dan/src/para/venv/lib/python3.6/site-packages/urllib3/connectionpool.py:1004: InsecureRequestWarning: Unverified HTTPS request is being made. Adding certificate verification is strongly advised. See: https://urllib3.readthedocs.io/en/latest/advanced-usage.html#ssl-warnings\n",
      "  InsecureRequestWarning,\n",
      "/home/dan/src/para/venv/lib/python3.6/site-packages/urllib3/connectionpool.py:1004: InsecureRequestWarning: Unverified HTTPS request is being made. Adding certificate verification is strongly advised. See: https://urllib3.readthedocs.io/en/latest/advanced-usage.html#ssl-warnings\n",
      "  InsecureRequestWarning,\n",
      "/home/dan/src/para/venv/lib/python3.6/site-packages/urllib3/connectionpool.py:1004: InsecureRequestWarning: Unverified HTTPS request is being made. Adding certificate verification is strongly advised. See: https://urllib3.readthedocs.io/en/latest/advanced-usage.html#ssl-warnings\n",
      "  InsecureRequestWarning,\n",
      "/home/dan/src/para/venv/lib/python3.6/site-packages/urllib3/connectionpool.py:1004: InsecureRequestWarning: Unverified HTTPS request is being made. Adding certificate verification is strongly advised. See: https://urllib3.readthedocs.io/en/latest/advanced-usage.html#ssl-warnings\n",
      "  InsecureRequestWarning,\n",
      "/home/dan/src/para/venv/lib/python3.6/site-packages/urllib3/connectionpool.py:1004: InsecureRequestWarning: Unverified HTTPS request is being made. Adding certificate verification is strongly advised. See: https://urllib3.readthedocs.io/en/latest/advanced-usage.html#ssl-warnings\n",
      "  InsecureRequestWarning,\n"
     ]
    },
    {
     "name": "stdout",
     "output_type": "stream",
     "text": [
      "https://nextdoor.com['https://nextdoor.com/', 'https://nextdoor.com/', 'https://nextdoor.nl/', 'https://nextdoor.co.uk/', 'https://nextdoor.de/', 'https://fr.nextdoor.com/', 'https://it.nextdoor.com/', 'https://es.nextdoor.com/', 'https://au.nextdoor.com/', 'https://dk.nextdoor.com/', 'https://se.nextdoor.com/', 'https://ca.nextdoor.com/', 'https://ca.nextdoor.com/', 'https://d19rpgkrjeba2z.cloudfront.net/b9b651cc0b575574/static/nextdoorv2/images/favicons/favicon-v2.ico']\n",
      "\n",
      "https://nextdoor.comhttps://nextdoor.com\n",
      "\n",
      "['https://nextdoor.com/', 'https://nextdoor.com/', 'https://nextdoor.nl/', 'https://nextdoor.co.uk/', 'https://nextdoor.de/', 'https://fr.nextdoor.com/', 'https://it.nextdoor.com/', 'https://es.nextdoor.com/', 'https://au.nextdoor.com/', 'https://dk.nextdoor.com/', 'https://se.nextdoor.com/', 'https://ca.nextdoor.com/', 'https://ca.nextdoor.com/', 'https://d19rpgkrjeba2z.cloudfront.net/b9b651cc0b575574/static/nextdoorv2/images/favicons/favicon-v2.ico']\n",
      "['https://nextdoor.com/', 'https://nextdoor.com/', 'https://nextdoor.nl/', 'https://nextdoor.co.uk/', 'https://nextdoor.de/', 'https://fr.nextdoor.com/', 'https://it.nextdoor.com/', 'https://es.nextdoor.com/', 'https://au.nextdoor.com/', 'https://dk.nextdoor.com/', 'https://se.nextdoor.com/', 'https://ca.nextdoor.com/', 'https://ca.nextdoor.com/', 'https://d19rpgkrjeba2z.cloudfront.net/b9b651cc0b575574/static/nextdoorv2/images/favicons/favicon-v2.ico']\n",
      "https://nextdoor.com\n",
      "['https://nextdoor.com/', 'https://nextdoor.com/', 'https://nextdoor.nl/', 'https://nextdoor.co.uk/', 'https://nextdoor.de/', 'https://fr.nextdoor.com/', 'https://it.nextdoor.com/', 'https://es.nextdoor.com/', 'https://au.nextdoor.com/', 'https://dk.nextdoor.com/', 'https://se.nextdoor.com/', 'https://ca.nextdoor.com/', 'https://ca.nextdoor.com/', 'https://d19rpgkrjeba2z.cloudfront.net/b9b651cc0b575574/static/nextdoorv2/images/favicons/favicon-v2.ico']\n",
      "https://nextdoor.com\n",
      "['https://nextdoor.com/', 'https://nextdoor.com/', 'https://nextdoor.nl/', 'https://nextdoor.co.uk/', 'https://nextdoor.de/', 'https://fr.nextdoor.com/', 'https://it.nextdoor.com/', 'https://es.nextdoor.com/', 'https://au.nextdoor.com/', 'https://dk.nextdoor.com/', 'https://se.nextdoor.com/', 'https://ca.nextdoor.com/', 'https://ca.nextdoor.com/', 'https://d19rpgkrjeba2z.cloudfront.net/b9b651cc0b575574/static/nextdoorv2/images/favicons/favicon-v2.ico']\n",
      "https://nextdoor.com['https://nextdoor.com/', 'https://nextdoor.com/', 'https://nextdoor.nl/', 'https://nextdoor.co.uk/', 'https://nextdoor.de/', 'https://fr.nextdoor.com/', 'https://it.nextdoor.com/', 'https://es.nextdoor.com/', 'https://au.nextdoor.com/', 'https://dk.nextdoor.com/', 'https://se.nextdoor.com/', 'https://ca.nextdoor.com/', 'https://ca.nextdoor.com/', 'https://d19rpgkrjeba2z.cloudfront.net/b9b651cc0b575574/static/nextdoorv2/images/favicons/favicon-v2.ico']\n",
      "\n",
      "https://nextdoor.com['https://nextdoor.com/', 'https://nextdoor.com/', 'https://nextdoor.nl/', 'https://nextdoor.co.uk/', 'https://nextdoor.de/', 'https://fr.nextdoor.com/', 'https://it.nextdoor.com/', 'https://es.nextdoor.com/', 'https://au.nextdoor.com/', 'https://dk.nextdoor.com/', 'https://se.nextdoor.com/', 'https://ca.nextdoor.com/', 'https://ca.nextdoor.com/', 'https://d19rpgkrjeba2z.cloudfront.net/b9b651cc0b575574/static/nextdoorv2/images/favicons/favicon-v2.ico']\n",
      "\n",
      "https://nextdoor.com['https://nextdoor.com/', 'https://nextdoor.com/', 'https://nextdoor.nl/', 'https://nextdoor.co.uk/', 'https://nextdoor.de/', 'https://fr.nextdoor.com/', 'https://it.nextdoor.com/', 'https://es.nextdoor.com/', 'https://au.nextdoor.com/', 'https://dk.nextdoor.com/', 'https://se.nextdoor.com/', 'https://ca.nextdoor.com/', 'https://ca.nextdoor.com/', 'https://d19rpgkrjeba2z.cloudfront.net/b9b651cc0b575574/static/nextdoorv2/images/favicons/favicon-v2.ico']\n",
      "\n",
      "https://nextdoor.com['https://nextdoor.com/', 'https://nextdoor.com/', 'https://nextdoor.nl/', 'https://nextdoor.co.uk/', 'https://nextdoor.de/', 'https://fr.nextdoor.com/', 'https://it.nextdoor.com/', 'https://es.nextdoor.com/', 'https://au.nextdoor.com/', 'https://dk.nextdoor.com/', 'https://se.nextdoor.com/', 'https://ca.nextdoor.com/', 'https://ca.nextdoor.com/', 'https://d19rpgkrjeba2z.cloudfront.net/b9b651cc0b575574/static/nextdoorv2/images/favicons/favicon-v2.ico']\n",
      "\n",
      "https://nextdoor.com['https://nextdoor.com/', 'https://nextdoor.com/', 'https://nextdoor.nl/', 'https://nextdoor.co.uk/', 'https://nextdoor.de/', 'https://fr.nextdoor.com/', 'https://it.nextdoor.com/', 'https://es.nextdoor.com/', 'https://au.nextdoor.com/', 'https://dk.nextdoor.com/', 'https://se.nextdoor.com/', 'https://ca.nextdoor.com/', 'https://ca.nextdoor.com/', 'https://d19rpgkrjeba2z.cloudfront.net/b9b651cc0b575574/static/nextdoorv2/images/favicons/favicon-v2.ico']\n",
      "\n",
      "https://nextdoor.com['https://nextdoor.com/', 'https://nextdoor.com/', 'https://nextdoor.nl/', 'https://nextdoor.co.uk/', 'https://nextdoor.de/', 'https://fr.nextdoor.com/', 'https://it.nextdoor.com/', 'https://es.nextdoor.com/', 'https://au.nextdoor.com/', 'https://dk.nextdoor.com/', 'https://se.nextdoor.com/', 'https://ca.nextdoor.com/', 'https://ca.nextdoor.com/', 'https://d19rpgkrjeba2z.cloudfront.net/b9b651cc0b575574/static/nextdoorv2/images/favicons/favicon-v2.ico']\n",
      "\n",
      "https://nextdoor.com['https://nextdoor.com/', 'https://nextdoor.com/', 'https://nextdoor.nl/', 'https://nextdoor.co.uk/', 'https://nextdoor.de/', 'https://fr.nextdoor.com/', 'https://it.nextdoor.com/', 'https://es.nextdoor.com/', 'https://au.nextdoor.com/', 'https://dk.nextdoor.com/', 'https://se.nextdoor.com/', 'https://ca.nextdoor.com/', 'https://ca.nextdoor.com/', 'https://d19rpgkrjeba2z.cloudfront.net/b9b651cc0b575574/static/nextdoorv2/images/favicons/favicon-v2.ico']\n",
      "\n",
      "https://nextdoor.com['https://nextdoor.com/', 'https://nextdoor.com/', 'https://nextdoor.nl/', 'https://nextdoor.co.uk/', 'https://nextdoor.de/', 'https://fr.nextdoor.com/', 'https://it.nextdoor.com/', 'https://es.nextdoor.com/', 'https://au.nextdoor.com/', 'https://dk.nextdoor.com/', 'https://se.nextdoor.com/', 'https://ca.nextdoor.com/', 'https://ca.nextdoor.com/', 'https://d19rpgkrjeba2z.cloudfront.net/b9b651cc0b575574/static/nextdoorv2/images/favicons/favicon-v2.ico']\n",
      "\n",
      "https://nextdoor.com\n",
      "['https://nextdoor.com/', 'https://nextdoor.com/', 'https://nextdoor.nl/', 'https://nextdoor.co.uk/', 'https://nextdoor.de/', 'https://fr.nextdoor.com/', 'https://it.nextdoor.com/', 'https://es.nextdoor.com/', 'https://au.nextdoor.com/', 'https://dk.nextdoor.com/', 'https://se.nextdoor.com/', 'https://ca.nextdoor.com/', 'https://ca.nextdoor.com/', 'https://d19rpgkrjeba2z.cloudfront.net/b9b651cc0b575574/static/nextdoorv2/images/favicons/favicon-v2.ico']\n",
      "https://nextdoor.com\n",
      "['https://nextdoor.com/', 'https://nextdoor.com/', 'https://nextdoor.nl/', 'https://nextdoor.co.uk/', 'https://nextdoor.de/', 'https://fr.nextdoor.com/', 'https://it.nextdoor.com/', 'https://es.nextdoor.com/', 'https://au.nextdoor.com/', 'https://dk.nextdoor.com/', 'https://se.nextdoor.com/', 'https://ca.nextdoor.com/', 'https://ca.nextdoor.com/', 'https://d19rpgkrjeba2z.cloudfront.net/b9b651cc0b575574/static/nextdoorv2/images/favicons/favicon-v2.ico']\n",
      "https://nextdoor.com['https://nextdoor.com/', 'https://nextdoor.com/', 'https://nextdoor.nl/', 'https://nextdoor.co.uk/', 'https://nextdoor.de/', 'https://fr.nextdoor.com/', 'https://it.nextdoor.com/', 'https://es.nextdoor.com/', 'https://au.nextdoor.com/', 'https://dk.nextdoor.com/', 'https://se.nextdoor.com/', 'https://ca.nextdoor.com/', 'https://ca.nextdoor.com/', 'https://d19rpgkrjeba2z.cloudfront.net/b9b651cc0b575574/static/nextdoorv2/images/favicons/favicon-v2.ico']\n",
      "\n"
     ]
    },
    {
     "name": "stderr",
     "output_type": "stream",
     "text": [
      "/home/dan/src/para/venv/lib/python3.6/site-packages/urllib3/connectionpool.py:1004: InsecureRequestWarning: Unverified HTTPS request is being made. Adding certificate verification is strongly advised. See: https://urllib3.readthedocs.io/en/latest/advanced-usage.html#ssl-warnings\n",
      "  InsecureRequestWarning,\n",
      "/home/dan/src/para/venv/lib/python3.6/site-packages/urllib3/connectionpool.py:1004: InsecureRequestWarning: Unverified HTTPS request is being made. Adding certificate verification is strongly advised. See: https://urllib3.readthedocs.io/en/latest/advanced-usage.html#ssl-warnings\n",
      "  InsecureRequestWarning,\n",
      "/home/dan/src/para/venv/lib/python3.6/site-packages/urllib3/connectionpool.py:1004: InsecureRequestWarning: Unverified HTTPS request is being made. Adding certificate verification is strongly advised. See: https://urllib3.readthedocs.io/en/latest/advanced-usage.html#ssl-warnings\n",
      "  InsecureRequestWarning,\n",
      "/home/dan/src/para/venv/lib/python3.6/site-packages/urllib3/connectionpool.py:1004: InsecureRequestWarning: Unverified HTTPS request is being made. Adding certificate verification is strongly advised. See: https://urllib3.readthedocs.io/en/latest/advanced-usage.html#ssl-warnings\n",
      "  InsecureRequestWarning,\n"
     ]
    },
    {
     "name": "stdout",
     "output_type": "stream",
     "text": [
      "https://nextdoor.com\n",
      "https://nextdoor.com['https://nextdoor.com/', 'https://nextdoor.com/', 'https://nextdoor.nl/', 'https://nextdoor.co.uk/', 'https://nextdoor.de/', 'https://fr.nextdoor.com/', 'https://it.nextdoor.com/', 'https://es.nextdoor.com/', 'https://au.nextdoor.com/', 'https://dk.nextdoor.com/', 'https://se.nextdoor.com/', 'https://ca.nextdoor.com/', 'https://ca.nextdoor.com/', 'https://d19rpgkrjeba2z.cloudfront.net/b9b651cc0b575574/static/nextdoorv2/images/favicons/favicon-v2.ico']\n",
      "['https://nextdoor.com/', 'https://nextdoor.com/', 'https://nextdoor.nl/', 'https://nextdoor.co.uk/', 'https://nextdoor.de/', 'https://fr.nextdoor.com/', 'https://it.nextdoor.com/', 'https://es.nextdoor.com/', 'https://au.nextdoor.com/', 'https://dk.nextdoor.com/', 'https://se.nextdoor.com/', 'https://ca.nextdoor.com/', 'https://ca.nextdoor.com/', 'https://d19rpgkrjeba2z.cloudfront.net/b9b651cc0b575574/static/nextdoorv2/images/favicons/favicon-v2.ico']\n",
      "\n",
      "https://nextdoor.com['https://nextdoor.com/', 'https://nextdoor.com/', 'https://nextdoor.nl/', 'https://nextdoor.co.uk/', 'https://nextdoor.de/', 'https://fr.nextdoor.com/', 'https://it.nextdoor.com/', 'https://es.nextdoor.com/', 'https://au.nextdoor.com/', 'https://dk.nextdoor.com/', 'https://se.nextdoor.com/', 'https://ca.nextdoor.com/', 'https://ca.nextdoor.com/', 'https://d19rpgkrjeba2z.cloudfront.net/b9b651cc0b575574/static/nextdoorv2/images/favicons/favicon-v2.ico']\n",
      "\n"
     ]
    },
    {
     "name": "stderr",
     "output_type": "stream",
     "text": [
      "/home/dan/src/para/venv/lib/python3.6/site-packages/urllib3/connectionpool.py:1004: InsecureRequestWarning: Unverified HTTPS request is being made. Adding certificate verification is strongly advised. See: https://urllib3.readthedocs.io/en/latest/advanced-usage.html#ssl-warnings\n",
      "  InsecureRequestWarning,\n",
      "/home/dan/src/para/venv/lib/python3.6/site-packages/urllib3/connectionpool.py:1004: InsecureRequestWarning: Unverified HTTPS request is being made. Adding certificate verification is strongly advised. See: https://urllib3.readthedocs.io/en/latest/advanced-usage.html#ssl-warnings\n",
      "  InsecureRequestWarning,\n",
      "/home/dan/src/para/venv/lib/python3.6/site-packages/urllib3/connectionpool.py:1004: InsecureRequestWarning: Unverified HTTPS request is being made. Adding certificate verification is strongly advised. See: https://urllib3.readthedocs.io/en/latest/advanced-usage.html#ssl-warnings\n",
      "  InsecureRequestWarning,\n",
      "/home/dan/src/para/venv/lib/python3.6/site-packages/urllib3/connectionpool.py:1004: InsecureRequestWarning: Unverified HTTPS request is being made. Adding certificate verification is strongly advised. See: https://urllib3.readthedocs.io/en/latest/advanced-usage.html#ssl-warnings\n",
      "  InsecureRequestWarning,\n",
      "/home/dan/src/para/venv/lib/python3.6/site-packages/urllib3/connectionpool.py:1004: InsecureRequestWarning: Unverified HTTPS request is being made. Adding certificate verification is strongly advised. See: https://urllib3.readthedocs.io/en/latest/advanced-usage.html#ssl-warnings\n",
      "  InsecureRequestWarning,\n",
      "/home/dan/src/para/venv/lib/python3.6/site-packages/urllib3/connectionpool.py:1004: InsecureRequestWarning: Unverified HTTPS request is being made. Adding certificate verification is strongly advised. See: https://urllib3.readthedocs.io/en/latest/advanced-usage.html#ssl-warnings\n",
      "  InsecureRequestWarning,\n",
      "/home/dan/src/para/venv/lib/python3.6/site-packages/urllib3/connectionpool.py:1004: InsecureRequestWarning: Unverified HTTPS request is being made. Adding certificate verification is strongly advised. See: https://urllib3.readthedocs.io/en/latest/advanced-usage.html#ssl-warnings\n",
      "  InsecureRequestWarning,\n",
      "/home/dan/src/para/venv/lib/python3.6/site-packages/urllib3/connectionpool.py:1004: InsecureRequestWarning: Unverified HTTPS request is being made. Adding certificate verification is strongly advised. See: https://urllib3.readthedocs.io/en/latest/advanced-usage.html#ssl-warnings\n",
      "  InsecureRequestWarning,\n"
     ]
    },
    {
     "name": "stdout",
     "output_type": "stream",
     "text": [
      "https://nextdoor.com['https://nextdoor.com/', 'https://nextdoor.com/', 'https://nextdoor.nl/', 'https://nextdoor.co.uk/', 'https://nextdoor.de/', 'https://fr.nextdoor.com/', 'https://it.nextdoor.com/', 'https://es.nextdoor.com/', 'https://au.nextdoor.com/', 'https://dk.nextdoor.com/', 'https://se.nextdoor.com/', 'https://ca.nextdoor.com/', 'https://ca.nextdoor.com/', 'https://d19rpgkrjeba2z.cloudfront.net/b9b651cc0b575574/static/nextdoorv2/images/favicons/favicon-v2.ico']\n",
      "\n",
      "https://nextdoor.com['https://nextdoor.com/', 'https://nextdoor.com/', 'https://nextdoor.nl/', 'https://nextdoor.co.uk/', 'https://nextdoor.de/', 'https://fr.nextdoor.com/', 'https://it.nextdoor.com/', 'https://es.nextdoor.com/', 'https://au.nextdoor.com/', 'https://dk.nextdoor.com/', 'https://se.nextdoor.com/', 'https://ca.nextdoor.com/', 'https://ca.nextdoor.com/', 'https://d19rpgkrjeba2z.cloudfront.net/b9b651cc0b575574/static/nextdoorv2/images/favicons/favicon-v2.ico']\n",
      "\n",
      "https://nextdoor.com['https://nextdoor.com/', 'https://nextdoor.com/', 'https://nextdoor.nl/', 'https://nextdoor.co.uk/', 'https://nextdoor.de/', 'https://fr.nextdoor.com/', 'https://it.nextdoor.com/', 'https://es.nextdoor.com/', 'https://au.nextdoor.com/', 'https://dk.nextdoor.com/', 'https://se.nextdoor.com/', 'https://ca.nextdoor.com/', 'https://ca.nextdoor.com/', 'https://d19rpgkrjeba2z.cloudfront.net/b9b651cc0b575574/static/nextdoorv2/images/favicons/favicon-v2.ico']\n",
      "\n",
      "https://nextdoor.com['https://nextdoor.com/', 'https://nextdoor.com/', 'https://nextdoor.nl/', 'https://nextdoor.co.uk/', 'https://nextdoor.de/', 'https://fr.nextdoor.com/', 'https://it.nextdoor.com/', 'https://es.nextdoor.com/', 'https://au.nextdoor.com/', 'https://dk.nextdoor.com/', 'https://se.nextdoor.com/', 'https://ca.nextdoor.com/', 'https://ca.nextdoor.com/', 'https://d19rpgkrjeba2z.cloudfront.net/b9b651cc0b575574/static/nextdoorv2/images/favicons/favicon-v2.ico']\n",
      "\n"
     ]
    },
    {
     "name": "stderr",
     "output_type": "stream",
     "text": [
      "/home/dan/src/para/venv/lib/python3.6/site-packages/urllib3/connectionpool.py:1004: InsecureRequestWarning: Unverified HTTPS request is being made. Adding certificate verification is strongly advised. See: https://urllib3.readthedocs.io/en/latest/advanced-usage.html#ssl-warnings\n",
      "  InsecureRequestWarning,\n",
      "/home/dan/src/para/venv/lib/python3.6/site-packages/urllib3/connectionpool.py:1004: InsecureRequestWarning: Unverified HTTPS request is being made. Adding certificate verification is strongly advised. See: https://urllib3.readthedocs.io/en/latest/advanced-usage.html#ssl-warnings\n",
      "  InsecureRequestWarning,\n"
     ]
    },
    {
     "name": "stdout",
     "output_type": "stream",
     "text": [
      "https://nextdoor.com['https://nextdoor.com/', 'https://nextdoor.com/', 'https://nextdoor.nl/', 'https://nextdoor.co.uk/', 'https://nextdoor.de/', 'https://fr.nextdoor.com/', 'https://it.nextdoor.com/', 'https://es.nextdoor.com/', 'https://au.nextdoor.com/', 'https://dk.nextdoor.com/', 'https://se.nextdoor.com/', 'https://ca.nextdoor.com/', 'https://ca.nextdoor.com/', 'https://d19rpgkrjeba2z.cloudfront.net/b9b651cc0b575574/static/nextdoorv2/images/favicons/favicon-v2.ico']\n",
      "\n",
      "https://nextdoor.com\n",
      "['https://nextdoor.com/', 'https://nextdoor.com/', 'https://nextdoor.nl/', 'https://nextdoor.co.uk/', 'https://nextdoor.de/', 'https://fr.nextdoor.com/', 'https://it.nextdoor.com/', 'https://es.nextdoor.com/', 'https://au.nextdoor.com/', 'https://dk.nextdoor.com/', 'https://se.nextdoor.com/', 'https://ca.nextdoor.com/', 'https://ca.nextdoor.com/', 'https://d19rpgkrjeba2z.cloudfront.net/b9b651cc0b575574/static/nextdoorv2/images/favicons/favicon-v2.ico']\n",
      "https://nextdoor.com['https://nextdoor.com/', 'https://nextdoor.com/', 'https://nextdoor.nl/', 'https://nextdoor.co.uk/', 'https://nextdoor.de/', 'https://fr.nextdoor.com/', 'https://it.nextdoor.com/', 'https://es.nextdoor.com/', 'https://au.nextdoor.com/', 'https://dk.nextdoor.com/', 'https://se.nextdoor.com/', 'https://ca.nextdoor.com/', 'https://ca.nextdoor.com/', 'https://d19rpgkrjeba2z.cloudfront.net/b9b651cc0b575574/static/nextdoorv2/images/favicons/favicon-v2.ico']\n",
      "\n",
      "https://nextdoor.com\n",
      "['https://nextdoor.com/', 'https://nextdoor.com/', 'https://nextdoor.nl/', 'https://nextdoor.co.uk/', 'https://nextdoor.de/', 'https://fr.nextdoor.com/', 'https://it.nextdoor.com/', 'https://es.nextdoor.com/', 'https://au.nextdoor.com/', 'https://dk.nextdoor.com/', 'https://se.nextdoor.com/', 'https://ca.nextdoor.com/', 'https://ca.nextdoor.com/', 'https://d19rpgkrjeba2z.cloudfront.net/b9b651cc0b575574/static/nextdoorv2/images/favicons/favicon-v2.ico']\n"
     ]
    },
    {
     "name": "stderr",
     "output_type": "stream",
     "text": [
      "/home/dan/src/para/venv/lib/python3.6/site-packages/urllib3/connectionpool.py:1004: InsecureRequestWarning: Unverified HTTPS request is being made. Adding certificate verification is strongly advised. See: https://urllib3.readthedocs.io/en/latest/advanced-usage.html#ssl-warnings\n",
      "  InsecureRequestWarning,\n",
      "/home/dan/src/para/venv/lib/python3.6/site-packages/urllib3/connectionpool.py:1004: InsecureRequestWarning: Unverified HTTPS request is being made. Adding certificate verification is strongly advised. See: https://urllib3.readthedocs.io/en/latest/advanced-usage.html#ssl-warnings\n",
      "  InsecureRequestWarning,\n",
      "/home/dan/src/para/venv/lib/python3.6/site-packages/urllib3/connectionpool.py:1004: InsecureRequestWarning: Unverified HTTPS request is being made. Adding certificate verification is strongly advised. See: https://urllib3.readthedocs.io/en/latest/advanced-usage.html#ssl-warnings\n",
      "  InsecureRequestWarning,\n",
      "/home/dan/src/para/venv/lib/python3.6/site-packages/urllib3/connectionpool.py:1004: InsecureRequestWarning: Unverified HTTPS request is being made. Adding certificate verification is strongly advised. See: https://urllib3.readthedocs.io/en/latest/advanced-usage.html#ssl-warnings\n",
      "  InsecureRequestWarning,\n",
      "/home/dan/src/para/venv/lib/python3.6/site-packages/urllib3/connectionpool.py:1004: InsecureRequestWarning: Unverified HTTPS request is being made. Adding certificate verification is strongly advised. See: https://urllib3.readthedocs.io/en/latest/advanced-usage.html#ssl-warnings\n",
      "  InsecureRequestWarning,\n",
      "/home/dan/src/para/venv/lib/python3.6/site-packages/urllib3/connectionpool.py:1004: InsecureRequestWarning: Unverified HTTPS request is being made. Adding certificate verification is strongly advised. See: https://urllib3.readthedocs.io/en/latest/advanced-usage.html#ssl-warnings\n",
      "  InsecureRequestWarning,\n"
     ]
    },
    {
     "name": "stdout",
     "output_type": "stream",
     "text": [
      "https://nextdoor.com['https://nextdoor.com/', 'https://nextdoor.com/', 'https://nextdoor.nl/', 'https://nextdoor.co.uk/', 'https://nextdoor.de/', 'https://fr.nextdoor.com/', 'https://it.nextdoor.com/', 'https://es.nextdoor.com/', 'https://au.nextdoor.com/', 'https://dk.nextdoor.com/', 'https://se.nextdoor.com/', 'https://ca.nextdoor.com/', 'https://ca.nextdoor.com/', 'https://d19rpgkrjeba2z.cloudfront.net/b9b651cc0b575574/static/nextdoorv2/images/favicons/favicon-v2.ico']\n",
      "\n",
      "https://nextdoor.com['https://nextdoor.com/', 'https://nextdoor.com/', 'https://nextdoor.nl/', 'https://nextdoor.co.uk/', 'https://nextdoor.de/', 'https://fr.nextdoor.com/', 'https://it.nextdoor.com/', 'https://es.nextdoor.com/', 'https://au.nextdoor.com/', 'https://dk.nextdoor.com/', 'https://se.nextdoor.com/', 'https://ca.nextdoor.com/', 'https://ca.nextdoor.com/', 'https://d19rpgkrjeba2z.cloudfront.net/b9b651cc0b575574/static/nextdoorv2/images/favicons/favicon-v2.ico']\n",
      "\n",
      "https://nextdoor.com['https://nextdoor.com/', 'https://nextdoor.com/', 'https://nextdoor.nl/', 'https://nextdoor.co.uk/', 'https://nextdoor.de/', 'https://fr.nextdoor.com/', 'https://it.nextdoor.com/', 'https://es.nextdoor.com/', 'https://au.nextdoor.com/', 'https://dk.nextdoor.com/', 'https://se.nextdoor.com/', 'https://ca.nextdoor.com/', 'https://ca.nextdoor.com/', 'https://d19rpgkrjeba2z.cloudfront.net/b9b651cc0b575574/static/nextdoorv2/images/favicons/favicon-v2.ico']\n",
      "\n"
     ]
    },
    {
     "name": "stderr",
     "output_type": "stream",
     "text": [
      "/home/dan/src/para/venv/lib/python3.6/site-packages/urllib3/connectionpool.py:1004: InsecureRequestWarning: Unverified HTTPS request is being made. Adding certificate verification is strongly advised. See: https://urllib3.readthedocs.io/en/latest/advanced-usage.html#ssl-warnings\n",
      "  InsecureRequestWarning,\n",
      "/home/dan/src/para/venv/lib/python3.6/site-packages/urllib3/connectionpool.py:1004: InsecureRequestWarning: Unverified HTTPS request is being made. Adding certificate verification is strongly advised. See: https://urllib3.readthedocs.io/en/latest/advanced-usage.html#ssl-warnings\n",
      "  InsecureRequestWarning,\n",
      "/home/dan/src/para/venv/lib/python3.6/site-packages/urllib3/connectionpool.py:1004: InsecureRequestWarning: Unverified HTTPS request is being made. Adding certificate verification is strongly advised. See: https://urllib3.readthedocs.io/en/latest/advanced-usage.html#ssl-warnings\n",
      "  InsecureRequestWarning,\n",
      "/home/dan/src/para/venv/lib/python3.6/site-packages/urllib3/connectionpool.py:1004: InsecureRequestWarning: Unverified HTTPS request is being made. Adding certificate verification is strongly advised. See: https://urllib3.readthedocs.io/en/latest/advanced-usage.html#ssl-warnings\n",
      "  InsecureRequestWarning,\n",
      "/home/dan/src/para/venv/lib/python3.6/site-packages/urllib3/connectionpool.py:1004: InsecureRequestWarning: Unverified HTTPS request is being made. Adding certificate verification is strongly advised. See: https://urllib3.readthedocs.io/en/latest/advanced-usage.html#ssl-warnings\n",
      "  InsecureRequestWarning,\n"
     ]
    },
    {
     "name": "stdout",
     "output_type": "stream",
     "text": [
      "https://nextdoor.com['https://nextdoor.com/', 'https://nextdoor.com/', 'https://nextdoor.nl/', 'https://nextdoor.co.uk/', 'https://nextdoor.de/', 'https://fr.nextdoor.com/', 'https://it.nextdoor.com/', 'https://es.nextdoor.com/', 'https://au.nextdoor.com/', 'https://dk.nextdoor.com/', 'https://se.nextdoor.com/', 'https://ca.nextdoor.com/', 'https://ca.nextdoor.com/', 'https://d19rpgkrjeba2z.cloudfront.net/b9b651cc0b575574/static/nextdoorv2/images/favicons/favicon-v2.ico']\n",
      "\n",
      "https://nextdoor.com['https://nextdoor.com/', 'https://nextdoor.com/', 'https://nextdoor.nl/', 'https://nextdoor.co.uk/', 'https://nextdoor.de/', 'https://fr.nextdoor.com/', 'https://it.nextdoor.com/', 'https://es.nextdoor.com/', 'https://au.nextdoor.com/', 'https://dk.nextdoor.com/', 'https://se.nextdoor.com/', 'https://ca.nextdoor.com/', 'https://ca.nextdoor.com/', 'https://d19rpgkrjeba2z.cloudfront.net/b9b651cc0b575574/static/nextdoorv2/images/favicons/favicon-v2.ico']\n",
      "\n",
      "https://nextdoor.com['https://nextdoor.com/', 'https://nextdoor.com/', 'https://nextdoor.nl/', 'https://nextdoor.co.uk/', 'https://nextdoor.de/', 'https://fr.nextdoor.com/', 'https://it.nextdoor.com/', 'https://es.nextdoor.com/', 'https://au.nextdoor.com/', 'https://dk.nextdoor.com/', 'https://se.nextdoor.com/', 'https://ca.nextdoor.com/', 'https://ca.nextdoor.com/', 'https://d19rpgkrjeba2z.cloudfront.net/b9b651cc0b575574/static/nextdoorv2/images/favicons/favicon-v2.ico']\n",
      "\n",
      "https://nextdoor.com['https://nextdoor.com/', 'https://nextdoor.com/', 'https://nextdoor.nl/', 'https://nextdoor.co.uk/', 'https://nextdoor.de/', 'https://fr.nextdoor.com/', 'https://it.nextdoor.com/', 'https://es.nextdoor.com/', 'https://au.nextdoor.com/', 'https://dk.nextdoor.com/', 'https://se.nextdoor.com/', 'https://ca.nextdoor.com/', 'https://ca.nextdoor.com/', 'https://d19rpgkrjeba2z.cloudfront.net/b9b651cc0b575574/static/nextdoorv2/images/favicons/favicon-v2.ico']\n",
      "\n",
      "https://nextdoor.com['https://nextdoor.com/', 'https://nextdoor.com/', 'https://nextdoor.nl/', 'https://nextdoor.co.uk/', 'https://nextdoor.de/', 'https://fr.nextdoor.com/', 'https://it.nextdoor.com/', 'https://es.nextdoor.com/', 'https://au.nextdoor.com/', 'https://dk.nextdoor.com/', 'https://se.nextdoor.com/', 'https://ca.nextdoor.com/', 'https://ca.nextdoor.com/', 'https://d19rpgkrjeba2z.cloudfront.net/b9b651cc0b575574/static/nextdoorv2/images/favicons/favicon-v2.ico']\n",
      "\n",
      "https://nextdoor.com['https://nextdoor.com/', 'https://nextdoor.com/', 'https://nextdoor.nl/', 'https://nextdoor.co.uk/', 'https://nextdoor.de/', 'https://fr.nextdoor.com/', 'https://it.nextdoor.com/', 'https://es.nextdoor.com/', 'https://au.nextdoor.com/', 'https://dk.nextdoor.com/', 'https://se.nextdoor.com/', 'https://ca.nextdoor.com/', 'https://ca.nextdoor.com/', 'https://d19rpgkrjeba2z.cloudfront.net/b9b651cc0b575574/static/nextdoorv2/images/favicons/favicon-v2.ico']\n",
      "\n"
     ]
    },
    {
     "name": "stderr",
     "output_type": "stream",
     "text": [
      "/home/dan/src/para/venv/lib/python3.6/site-packages/urllib3/connectionpool.py:1004: InsecureRequestWarning: Unverified HTTPS request is being made. Adding certificate verification is strongly advised. See: https://urllib3.readthedocs.io/en/latest/advanced-usage.html#ssl-warnings\n",
      "  InsecureRequestWarning,\n",
      "/home/dan/src/para/venv/lib/python3.6/site-packages/urllib3/connectionpool.py:1004: InsecureRequestWarning: Unverified HTTPS request is being made. Adding certificate verification is strongly advised. See: https://urllib3.readthedocs.io/en/latest/advanced-usage.html#ssl-warnings\n",
      "  InsecureRequestWarning,\n",
      "/home/dan/src/para/venv/lib/python3.6/site-packages/urllib3/connectionpool.py:1004: InsecureRequestWarning: Unverified HTTPS request is being made. Adding certificate verification is strongly advised. See: https://urllib3.readthedocs.io/en/latest/advanced-usage.html#ssl-warnings\n",
      "  InsecureRequestWarning,\n",
      "/home/dan/src/para/venv/lib/python3.6/site-packages/urllib3/connectionpool.py:1004: InsecureRequestWarning: Unverified HTTPS request is being made. Adding certificate verification is strongly advised. See: https://urllib3.readthedocs.io/en/latest/advanced-usage.html#ssl-warnings\n",
      "  InsecureRequestWarning,\n"
     ]
    },
    {
     "name": "stdout",
     "output_type": "stream",
     "text": [
      "https://nextdoor.com['https://nextdoor.com/', 'https://nextdoor.com/', 'https://nextdoor.nl/', 'https://nextdoor.co.uk/', 'https://nextdoor.de/', 'https://fr.nextdoor.com/', 'https://it.nextdoor.com/', 'https://es.nextdoor.com/', 'https://au.nextdoor.com/', 'https://dk.nextdoor.com/', 'https://se.nextdoor.com/', 'https://ca.nextdoor.com/', 'https://ca.nextdoor.com/', 'https://d19rpgkrjeba2z.cloudfront.net/b9b651cc0b575574/static/nextdoorv2/images/favicons/favicon-v2.ico']\n",
      "\n",
      "https://nextdoor.com['https://nextdoor.com/', 'https://nextdoor.com/', 'https://nextdoor.nl/', 'https://nextdoor.co.uk/', 'https://nextdoor.de/', 'https://fr.nextdoor.com/', 'https://it.nextdoor.com/', 'https://es.nextdoor.com/', 'https://au.nextdoor.com/', 'https://dk.nextdoor.com/', 'https://se.nextdoor.com/', 'https://ca.nextdoor.com/', 'https://ca.nextdoor.com/', 'https://d19rpgkrjeba2z.cloudfront.net/b9b651cc0b575574/static/nextdoorv2/images/favicons/favicon-v2.ico']\n",
      "\n",
      "https://nextdoor.com['https://nextdoor.com/', 'https://nextdoor.com/', 'https://nextdoor.nl/', 'https://nextdoor.co.uk/', 'https://nextdoor.de/', 'https://fr.nextdoor.com/', 'https://it.nextdoor.com/', 'https://es.nextdoor.com/', 'https://au.nextdoor.com/', 'https://dk.nextdoor.com/', 'https://se.nextdoor.com/', 'https://ca.nextdoor.com/', 'https://ca.nextdoor.com/', 'https://d19rpgkrjeba2z.cloudfront.net/b9b651cc0b575574/static/nextdoorv2/images/favicons/favicon-v2.ico']\n",
      "\n",
      "https://nextdoor.com['https://nextdoor.com/', 'https://nextdoor.com/', 'https://nextdoor.nl/', 'https://nextdoor.co.uk/', 'https://nextdoor.de/', 'https://fr.nextdoor.com/', 'https://it.nextdoor.com/', 'https://es.nextdoor.com/', 'https://au.nextdoor.com/', 'https://dk.nextdoor.com/', 'https://se.nextdoor.com/', 'https://ca.nextdoor.com/', 'https://ca.nextdoor.com/', 'https://d19rpgkrjeba2z.cloudfront.net/b9b651cc0b575574/static/nextdoorv2/images/favicons/favicon-v2.ico']\n",
      "\n",
      "https://nextdoor.com['https://nextdoor.com/', 'https://nextdoor.com/', 'https://nextdoor.nl/', 'https://nextdoor.co.uk/', 'https://nextdoor.de/', 'https://fr.nextdoor.com/', 'https://it.nextdoor.com/', 'https://es.nextdoor.com/', 'https://au.nextdoor.com/', 'https://dk.nextdoor.com/', 'https://se.nextdoor.com/', 'https://ca.nextdoor.com/', 'https://ca.nextdoor.com/', 'https://d19rpgkrjeba2z.cloudfront.net/b9b651cc0b575574/static/nextdoorv2/images/favicons/favicon-v2.ico']\n",
      "\n"
     ]
    },
    {
     "name": "stderr",
     "output_type": "stream",
     "text": [
      "/home/dan/src/para/venv/lib/python3.6/site-packages/urllib3/connectionpool.py:1004: InsecureRequestWarning: Unverified HTTPS request is being made. Adding certificate verification is strongly advised. See: https://urllib3.readthedocs.io/en/latest/advanced-usage.html#ssl-warnings\n",
      "  InsecureRequestWarning,\n",
      "/home/dan/src/para/venv/lib/python3.6/site-packages/urllib3/connectionpool.py:1004: InsecureRequestWarning: Unverified HTTPS request is being made. Adding certificate verification is strongly advised. See: https://urllib3.readthedocs.io/en/latest/advanced-usage.html#ssl-warnings\n",
      "  InsecureRequestWarning,\n",
      "/home/dan/src/para/venv/lib/python3.6/site-packages/urllib3/connectionpool.py:1004: InsecureRequestWarning: Unverified HTTPS request is being made. Adding certificate verification is strongly advised. See: https://urllib3.readthedocs.io/en/latest/advanced-usage.html#ssl-warnings\n",
      "  InsecureRequestWarning,\n",
      "/home/dan/src/para/venv/lib/python3.6/site-packages/urllib3/connectionpool.py:1004: InsecureRequestWarning: Unverified HTTPS request is being made. Adding certificate verification is strongly advised. See: https://urllib3.readthedocs.io/en/latest/advanced-usage.html#ssl-warnings\n",
      "  InsecureRequestWarning,\n",
      "/home/dan/src/para/venv/lib/python3.6/site-packages/urllib3/connectionpool.py:1004: InsecureRequestWarning: Unverified HTTPS request is being made. Adding certificate verification is strongly advised. See: https://urllib3.readthedocs.io/en/latest/advanced-usage.html#ssl-warnings\n",
      "  InsecureRequestWarning,\n",
      "/home/dan/src/para/venv/lib/python3.6/site-packages/urllib3/connectionpool.py:1004: InsecureRequestWarning: Unverified HTTPS request is being made. Adding certificate verification is strongly advised. See: https://urllib3.readthedocs.io/en/latest/advanced-usage.html#ssl-warnings\n",
      "  InsecureRequestWarning,\n",
      "/home/dan/src/para/venv/lib/python3.6/site-packages/urllib3/connectionpool.py:1004: InsecureRequestWarning: Unverified HTTPS request is being made. Adding certificate verification is strongly advised. See: https://urllib3.readthedocs.io/en/latest/advanced-usage.html#ssl-warnings\n",
      "  InsecureRequestWarning,\n"
     ]
    },
    {
     "name": "stdout",
     "output_type": "stream",
     "text": [
      "https://nextdoor.com\n",
      "['https://nextdoor.com/', 'https://nextdoor.com/', 'https://nextdoor.nl/', 'https://nextdoor.co.uk/', 'https://nextdoor.de/', 'https://fr.nextdoor.com/', 'https://it.nextdoor.com/', 'https://es.nextdoor.com/', 'https://au.nextdoor.com/', 'https://dk.nextdoor.com/', 'https://se.nextdoor.com/', 'https://ca.nextdoor.com/', 'https://ca.nextdoor.com/', 'https://d19rpgkrjeba2z.cloudfront.net/b9b651cc0b575574/static/nextdoorv2/images/favicons/favicon-v2.ico']\n",
      "https://nextdoor.com['https://nextdoor.com/', 'https://nextdoor.com/', 'https://nextdoor.nl/', 'https://nextdoor.co.uk/', 'https://nextdoor.de/', 'https://fr.nextdoor.com/', 'https://it.nextdoor.com/', 'https://es.nextdoor.com/', 'https://au.nextdoor.com/', 'https://dk.nextdoor.com/', 'https://se.nextdoor.com/', 'https://ca.nextdoor.com/', 'https://ca.nextdoor.com/', 'https://d19rpgkrjeba2z.cloudfront.net/b9b651cc0b575574/static/nextdoorv2/images/favicons/favicon-v2.ico']\n",
      "https://nextdoor.com['https://nextdoor.com/', 'https://nextdoor.com/', 'https://nextdoor.nl/', 'https://nextdoor.co.uk/', 'https://nextdoor.de/', 'https://fr.nextdoor.com/', 'https://it.nextdoor.com/', 'https://es.nextdoor.com/', 'https://au.nextdoor.com/', 'https://dk.nextdoor.com/', 'https://se.nextdoor.com/', 'https://ca.nextdoor.com/', 'https://ca.nextdoor.com/', 'https://d19rpgkrjeba2z.cloudfront.net/b9b651cc0b575574/static/nextdoorv2/images/favicons/favicon-v2.ico']\n",
      "\n",
      "\n",
      "https://nextdoor.com['https://nextdoor.com/', 'https://nextdoor.com/', 'https://nextdoor.nl/', 'https://nextdoor.co.uk/', 'https://nextdoor.de/', 'https://fr.nextdoor.com/', 'https://it.nextdoor.com/', 'https://es.nextdoor.com/', 'https://au.nextdoor.com/', 'https://dk.nextdoor.com/', 'https://se.nextdoor.com/', 'https://ca.nextdoor.com/', 'https://ca.nextdoor.com/', 'https://d19rpgkrjeba2z.cloudfront.net/b9b651cc0b575574/static/nextdoorv2/images/favicons/favicon-v2.ico']\n",
      "\n",
      "https://nextdoor.com['https://nextdoor.com/', 'https://nextdoor.com/', 'https://nextdoor.nl/', 'https://nextdoor.co.uk/', 'https://nextdoor.de/', 'https://fr.nextdoor.com/', 'https://it.nextdoor.com/', 'https://es.nextdoor.com/', 'https://au.nextdoor.com/', 'https://dk.nextdoor.com/', 'https://se.nextdoor.com/', 'https://ca.nextdoor.com/', 'https://ca.nextdoor.com/', 'https://d19rpgkrjeba2z.cloudfront.net/b9b651cc0b575574/static/nextdoorv2/images/favicons/favicon-v2.ico']\n",
      "\n",
      "https://nextdoor.com['https://nextdoor.com/', 'https://nextdoor.com/', 'https://nextdoor.nl/', 'https://nextdoor.co.uk/', 'https://nextdoor.de/', 'https://fr.nextdoor.com/', 'https://it.nextdoor.com/', 'https://es.nextdoor.com/', 'https://au.nextdoor.com/', 'https://dk.nextdoor.com/', 'https://se.nextdoor.com/', 'https://ca.nextdoor.com/', 'https://ca.nextdoor.com/', 'https://d19rpgkrjeba2z.cloudfront.net/b9b651cc0b575574/static/nextdoorv2/images/favicons/favicon-v2.ico']\n",
      "\n",
      "https://nextdoor.com['https://nextdoor.com/', 'https://nextdoor.com/', 'https://nextdoor.nl/', 'https://nextdoor.co.uk/', 'https://nextdoor.de/', 'https://fr.nextdoor.com/', 'https://it.nextdoor.com/', 'https://es.nextdoor.com/', 'https://au.nextdoor.com/', 'https://dk.nextdoor.com/', 'https://se.nextdoor.com/', 'https://ca.nextdoor.com/', 'https://ca.nextdoor.com/', 'https://d19rpgkrjeba2z.cloudfront.net/b9b651cc0b575574/static/nextdoorv2/images/favicons/favicon-v2.ico']\n",
      "\n",
      "https://nextdoor.com['https://nextdoor.com/', 'https://nextdoor.com/', 'https://nextdoor.nl/', 'https://nextdoor.co.uk/', 'https://nextdoor.de/', 'https://fr.nextdoor.com/', 'https://it.nextdoor.com/', 'https://es.nextdoor.com/', 'https://au.nextdoor.com/', 'https://dk.nextdoor.com/', 'https://se.nextdoor.com/', 'https://ca.nextdoor.com/', 'https://ca.nextdoor.com/', 'https://d19rpgkrjeba2z.cloudfront.net/b9b651cc0b575574/static/nextdoorv2/images/favicons/favicon-v2.ico']\n",
      "\n"
     ]
    },
    {
     "name": "stderr",
     "output_type": "stream",
     "text": [
      "/home/dan/src/para/venv/lib/python3.6/site-packages/urllib3/connectionpool.py:1004: InsecureRequestWarning: Unverified HTTPS request is being made. Adding certificate verification is strongly advised. See: https://urllib3.readthedocs.io/en/latest/advanced-usage.html#ssl-warnings\n",
      "  InsecureRequestWarning,\n",
      "/home/dan/src/para/venv/lib/python3.6/site-packages/urllib3/connectionpool.py:1004: InsecureRequestWarning: Unverified HTTPS request is being made. Adding certificate verification is strongly advised. See: https://urllib3.readthedocs.io/en/latest/advanced-usage.html#ssl-warnings\n",
      "  InsecureRequestWarning,\n",
      "/home/dan/src/para/venv/lib/python3.6/site-packages/urllib3/connectionpool.py:1004: InsecureRequestWarning: Unverified HTTPS request is being made. Adding certificate verification is strongly advised. See: https://urllib3.readthedocs.io/en/latest/advanced-usage.html#ssl-warnings\n",
      "  InsecureRequestWarning,\n",
      "/home/dan/src/para/venv/lib/python3.6/site-packages/urllib3/connectionpool.py:1004: InsecureRequestWarning: Unverified HTTPS request is being made. Adding certificate verification is strongly advised. See: https://urllib3.readthedocs.io/en/latest/advanced-usage.html#ssl-warnings\n",
      "  InsecureRequestWarning,\n",
      "/home/dan/src/para/venv/lib/python3.6/site-packages/urllib3/connectionpool.py:1004: InsecureRequestWarning: Unverified HTTPS request is being made. Adding certificate verification is strongly advised. See: https://urllib3.readthedocs.io/en/latest/advanced-usage.html#ssl-warnings\n",
      "  InsecureRequestWarning,\n",
      "/home/dan/src/para/venv/lib/python3.6/site-packages/urllib3/connectionpool.py:1004: InsecureRequestWarning: Unverified HTTPS request is being made. Adding certificate verification is strongly advised. See: https://urllib3.readthedocs.io/en/latest/advanced-usage.html#ssl-warnings\n",
      "  InsecureRequestWarning,\n"
     ]
    },
    {
     "name": "stdout",
     "output_type": "stream",
     "text": [
      "https://nextdoor.comhttps://nextdoor.com['https://nextdoor.com/', 'https://nextdoor.com/', 'https://nextdoor.nl/', 'https://nextdoor.co.uk/', 'https://nextdoor.de/', 'https://fr.nextdoor.com/', 'https://it.nextdoor.com/', 'https://es.nextdoor.com/', 'https://au.nextdoor.com/', 'https://dk.nextdoor.com/', 'https://se.nextdoor.com/', 'https://ca.nextdoor.com/', 'https://ca.nextdoor.com/', 'https://d19rpgkrjeba2z.cloudfront.net/b9b651cc0b575574/static/nextdoorv2/images/favicons/favicon-v2.ico']\n",
      "\n",
      "\n",
      "['https://nextdoor.com/', 'https://nextdoor.com/', 'https://nextdoor.nl/', 'https://nextdoor.co.uk/', 'https://nextdoor.de/', 'https://fr.nextdoor.com/', 'https://it.nextdoor.com/', 'https://es.nextdoor.com/', 'https://au.nextdoor.com/', 'https://dk.nextdoor.com/', 'https://se.nextdoor.com/', 'https://ca.nextdoor.com/', 'https://ca.nextdoor.com/', 'https://d19rpgkrjeba2z.cloudfront.net/b9b651cc0b575574/static/nextdoorv2/images/favicons/favicon-v2.ico']\n",
      "https://nextdoor.com\n",
      "['https://nextdoor.com/', 'https://nextdoor.com/', 'https://nextdoor.nl/', 'https://nextdoor.co.uk/', 'https://nextdoor.de/', 'https://fr.nextdoor.com/', 'https://it.nextdoor.com/', 'https://es.nextdoor.com/', 'https://au.nextdoor.com/', 'https://dk.nextdoor.com/', 'https://se.nextdoor.com/', 'https://ca.nextdoor.com/', 'https://ca.nextdoor.com/', 'https://d19rpgkrjeba2z.cloudfront.net/b9b651cc0b575574/static/nextdoorv2/images/favicons/favicon-v2.ico']\n",
      "https://nextdoor.com['https://nextdoor.com/', 'https://nextdoor.com/', 'https://nextdoor.nl/', 'https://nextdoor.co.uk/', 'https://nextdoor.de/', 'https://fr.nextdoor.com/', 'https://it.nextdoor.com/', 'https://es.nextdoor.com/', 'https://au.nextdoor.com/', 'https://dk.nextdoor.com/', 'https://se.nextdoor.com/', 'https://ca.nextdoor.com/', 'https://ca.nextdoor.com/', 'https://d19rpgkrjeba2z.cloudfront.net/b9b651cc0b575574/static/nextdoorv2/images/favicons/favicon-v2.ico']\n",
      "\n",
      "https://nextdoor.com['https://nextdoor.com/', 'https://nextdoor.com/', 'https://nextdoor.nl/', 'https://nextdoor.co.uk/', 'https://nextdoor.de/', 'https://fr.nextdoor.com/', 'https://it.nextdoor.com/', 'https://es.nextdoor.com/', 'https://au.nextdoor.com/', 'https://dk.nextdoor.com/', 'https://se.nextdoor.com/', 'https://ca.nextdoor.com/', 'https://ca.nextdoor.com/', 'https://d19rpgkrjeba2z.cloudfront.net/b9b651cc0b575574/static/nextdoorv2/images/favicons/favicon-v2.ico']\n",
      "\n",
      "https://nextdoor.com['https://nextdoor.com/', 'https://nextdoor.com/', 'https://nextdoor.nl/', 'https://nextdoor.co.uk/', 'https://nextdoor.de/', 'https://fr.nextdoor.com/', 'https://it.nextdoor.com/', 'https://es.nextdoor.com/', 'https://au.nextdoor.com/', 'https://dk.nextdoor.com/', 'https://se.nextdoor.com/', 'https://ca.nextdoor.com/', 'https://ca.nextdoor.com/', 'https://d19rpgkrjeba2z.cloudfront.net/b9b651cc0b575574/static/nextdoorv2/images/favicons/favicon-v2.ico']\n",
      "\n"
     ]
    },
    {
     "name": "stderr",
     "output_type": "stream",
     "text": [
      "/home/dan/src/para/venv/lib/python3.6/site-packages/urllib3/connectionpool.py:1004: InsecureRequestWarning: Unverified HTTPS request is being made. Adding certificate verification is strongly advised. See: https://urllib3.readthedocs.io/en/latest/advanced-usage.html#ssl-warnings\n",
      "  InsecureRequestWarning,\n",
      "/home/dan/src/para/venv/lib/python3.6/site-packages/urllib3/connectionpool.py:1004: InsecureRequestWarning: Unverified HTTPS request is being made. Adding certificate verification is strongly advised. See: https://urllib3.readthedocs.io/en/latest/advanced-usage.html#ssl-warnings\n",
      "  InsecureRequestWarning,\n",
      "/home/dan/src/para/venv/lib/python3.6/site-packages/urllib3/connectionpool.py:1004: InsecureRequestWarning: Unverified HTTPS request is being made. Adding certificate verification is strongly advised. See: https://urllib3.readthedocs.io/en/latest/advanced-usage.html#ssl-warnings\n",
      "  InsecureRequestWarning,\n",
      "/home/dan/src/para/venv/lib/python3.6/site-packages/urllib3/connectionpool.py:1004: InsecureRequestWarning: Unverified HTTPS request is being made. Adding certificate verification is strongly advised. See: https://urllib3.readthedocs.io/en/latest/advanced-usage.html#ssl-warnings\n",
      "  InsecureRequestWarning,\n",
      "/home/dan/src/para/venv/lib/python3.6/site-packages/urllib3/connectionpool.py:1004: InsecureRequestWarning: Unverified HTTPS request is being made. Adding certificate verification is strongly advised. See: https://urllib3.readthedocs.io/en/latest/advanced-usage.html#ssl-warnings\n",
      "  InsecureRequestWarning,\n"
     ]
    },
    {
     "name": "stdout",
     "output_type": "stream",
     "text": [
      "https://nextdoor.com\n",
      "['https://nextdoor.com/', 'https://nextdoor.com/', 'https://nextdoor.nl/', 'https://nextdoor.co.uk/', 'https://nextdoor.de/', 'https://fr.nextdoor.com/', 'https://it.nextdoor.com/', 'https://es.nextdoor.com/', 'https://au.nextdoor.com/', 'https://dk.nextdoor.com/', 'https://se.nextdoor.com/', 'https://ca.nextdoor.com/', 'https://ca.nextdoor.com/', 'https://d19rpgkrjeba2z.cloudfront.net/b9b651cc0b575574/static/nextdoorv2/images/favicons/favicon-v2.ico']\n",
      "https://nextdoor.com\n",
      "['https://nextdoor.com/', 'https://nextdoor.com/', 'https://nextdoor.nl/', 'https://nextdoor.co.uk/', 'https://nextdoor.de/', 'https://fr.nextdoor.com/', 'https://it.nextdoor.com/', 'https://es.nextdoor.com/', 'https://au.nextdoor.com/', 'https://dk.nextdoor.com/', 'https://se.nextdoor.com/', 'https://ca.nextdoor.com/', 'https://ca.nextdoor.com/', 'https://d19rpgkrjeba2z.cloudfront.net/b9b651cc0b575574/static/nextdoorv2/images/favicons/favicon-v2.ico']\n",
      "https://nextdoor.com['https://nextdoor.com/', 'https://nextdoor.com/', 'https://nextdoor.nl/', 'https://nextdoor.co.uk/', 'https://nextdoor.de/', 'https://fr.nextdoor.com/', 'https://it.nextdoor.com/', 'https://es.nextdoor.com/', 'https://au.nextdoor.com/', 'https://dk.nextdoor.com/', 'https://se.nextdoor.com/', 'https://ca.nextdoor.com/', 'https://ca.nextdoor.com/', 'https://d19rpgkrjeba2z.cloudfront.net/b9b651cc0b575574/static/nextdoorv2/images/favicons/favicon-v2.ico']\n",
      "\n",
      "https://nextdoor.com['https://nextdoor.com/', 'https://nextdoor.com/', 'https://nextdoor.nl/', 'https://nextdoor.co.uk/', 'https://nextdoor.de/', 'https://fr.nextdoor.com/', 'https://it.nextdoor.com/', 'https://es.nextdoor.com/', 'https://au.nextdoor.com/', 'https://dk.nextdoor.com/', 'https://se.nextdoor.com/', 'https://ca.nextdoor.com/', 'https://ca.nextdoor.com/', 'https://d19rpgkrjeba2z.cloudfront.net/b9b651cc0b575574/static/nextdoorv2/images/favicons/favicon-v2.ico']\n",
      "\n"
     ]
    },
    {
     "name": "stderr",
     "output_type": "stream",
     "text": [
      "/home/dan/src/para/venv/lib/python3.6/site-packages/urllib3/connectionpool.py:1004: InsecureRequestWarning: Unverified HTTPS request is being made. Adding certificate verification is strongly advised. See: https://urllib3.readthedocs.io/en/latest/advanced-usage.html#ssl-warnings\n",
      "  InsecureRequestWarning,\n",
      "/home/dan/src/para/venv/lib/python3.6/site-packages/urllib3/connectionpool.py:1004: InsecureRequestWarning: Unverified HTTPS request is being made. Adding certificate verification is strongly advised. See: https://urllib3.readthedocs.io/en/latest/advanced-usage.html#ssl-warnings\n",
      "  InsecureRequestWarning,\n",
      "/home/dan/src/para/venv/lib/python3.6/site-packages/urllib3/connectionpool.py:1004: InsecureRequestWarning: Unverified HTTPS request is being made. Adding certificate verification is strongly advised. See: https://urllib3.readthedocs.io/en/latest/advanced-usage.html#ssl-warnings\n",
      "  InsecureRequestWarning,\n",
      "/home/dan/src/para/venv/lib/python3.6/site-packages/urllib3/connectionpool.py:1004: InsecureRequestWarning: Unverified HTTPS request is being made. Adding certificate verification is strongly advised. See: https://urllib3.readthedocs.io/en/latest/advanced-usage.html#ssl-warnings\n",
      "  InsecureRequestWarning,\n",
      "/home/dan/src/para/venv/lib/python3.6/site-packages/urllib3/connectionpool.py:1004: InsecureRequestWarning: Unverified HTTPS request is being made. Adding certificate verification is strongly advised. See: https://urllib3.readthedocs.io/en/latest/advanced-usage.html#ssl-warnings\n",
      "  InsecureRequestWarning,\n"
     ]
    },
    {
     "name": "stdout",
     "output_type": "stream",
     "text": [
      "https://nextdoor.com['https://nextdoor.com/', 'https://nextdoor.com/', 'https://nextdoor.nl/', 'https://nextdoor.co.uk/', 'https://nextdoor.de/', 'https://fr.nextdoor.com/', 'https://it.nextdoor.com/', 'https://es.nextdoor.com/', 'https://au.nextdoor.com/', 'https://dk.nextdoor.com/', 'https://se.nextdoor.com/', 'https://ca.nextdoor.com/', 'https://ca.nextdoor.com/', 'https://d19rpgkrjeba2z.cloudfront.net/b9b651cc0b575574/static/nextdoorv2/images/favicons/favicon-v2.ico']\n",
      "\n",
      "https://nextdoor.com['https://nextdoor.com/', 'https://nextdoor.com/', 'https://nextdoor.nl/', 'https://nextdoor.co.uk/', 'https://nextdoor.de/', 'https://fr.nextdoor.com/', 'https://it.nextdoor.com/', 'https://es.nextdoor.com/', 'https://au.nextdoor.com/', 'https://dk.nextdoor.com/', 'https://se.nextdoor.com/', 'https://ca.nextdoor.com/', 'https://ca.nextdoor.com/', 'https://d19rpgkrjeba2z.cloudfront.net/b9b651cc0b575574/static/nextdoorv2/images/favicons/favicon-v2.ico']\n",
      "\n",
      "https://nextdoor.com['https://nextdoor.com/', 'https://nextdoor.com/', 'https://nextdoor.nl/', 'https://nextdoor.co.uk/', 'https://nextdoor.de/', 'https://fr.nextdoor.com/', 'https://it.nextdoor.com/', 'https://es.nextdoor.com/', 'https://au.nextdoor.com/', 'https://dk.nextdoor.com/', 'https://se.nextdoor.com/', 'https://ca.nextdoor.com/', 'https://ca.nextdoor.com/', 'https://d19rpgkrjeba2z.cloudfront.net/b9b651cc0b575574/static/nextdoorv2/images/favicons/favicon-v2.ico']\n",
      "\n",
      "https://nextdoor.com['https://nextdoor.com/', 'https://nextdoor.com/', 'https://nextdoor.nl/', 'https://nextdoor.co.uk/', 'https://nextdoor.de/', 'https://fr.nextdoor.com/', 'https://it.nextdoor.com/', 'https://es.nextdoor.com/', 'https://au.nextdoor.com/', 'https://dk.nextdoor.com/', 'https://se.nextdoor.com/', 'https://ca.nextdoor.com/', 'https://ca.nextdoor.com/', 'https://d19rpgkrjeba2z.cloudfront.net/b9b651cc0b575574/static/nextdoorv2/images/favicons/favicon-v2.ico']\n",
      "\n",
      "https://nextdoor.com\n",
      "['https://nextdoor.com/', 'https://nextdoor.com/', 'https://nextdoor.nl/', 'https://nextdoor.co.uk/', 'https://nextdoor.de/', 'https://fr.nextdoor.com/', 'https://it.nextdoor.com/', 'https://es.nextdoor.com/', 'https://au.nextdoor.com/', 'https://dk.nextdoor.com/', 'https://se.nextdoor.com/', 'https://ca.nextdoor.com/', 'https://ca.nextdoor.com/', 'https://d19rpgkrjeba2z.cloudfront.net/b9b651cc0b575574/static/nextdoorv2/images/favicons/favicon-v2.ico']\n"
     ]
    },
    {
     "name": "stderr",
     "output_type": "stream",
     "text": [
      "/home/dan/src/para/venv/lib/python3.6/site-packages/urllib3/connectionpool.py:1004: InsecureRequestWarning: Unverified HTTPS request is being made. Adding certificate verification is strongly advised. See: https://urllib3.readthedocs.io/en/latest/advanced-usage.html#ssl-warnings\n",
      "  InsecureRequestWarning,\n",
      "/home/dan/src/para/venv/lib/python3.6/site-packages/urllib3/connectionpool.py:1004: InsecureRequestWarning: Unverified HTTPS request is being made. Adding certificate verification is strongly advised. See: https://urllib3.readthedocs.io/en/latest/advanced-usage.html#ssl-warnings\n",
      "  InsecureRequestWarning,\n",
      "/home/dan/src/para/venv/lib/python3.6/site-packages/urllib3/connectionpool.py:1004: InsecureRequestWarning: Unverified HTTPS request is being made. Adding certificate verification is strongly advised. See: https://urllib3.readthedocs.io/en/latest/advanced-usage.html#ssl-warnings\n",
      "  InsecureRequestWarning,\n",
      "/home/dan/src/para/venv/lib/python3.6/site-packages/urllib3/connectionpool.py:1004: InsecureRequestWarning: Unverified HTTPS request is being made. Adding certificate verification is strongly advised. See: https://urllib3.readthedocs.io/en/latest/advanced-usage.html#ssl-warnings\n",
      "  InsecureRequestWarning,\n",
      "/home/dan/src/para/venv/lib/python3.6/site-packages/urllib3/connectionpool.py:1004: InsecureRequestWarning: Unverified HTTPS request is being made. Adding certificate verification is strongly advised. See: https://urllib3.readthedocs.io/en/latest/advanced-usage.html#ssl-warnings\n",
      "  InsecureRequestWarning,\n",
      "/home/dan/src/para/venv/lib/python3.6/site-packages/urllib3/connectionpool.py:1004: InsecureRequestWarning: Unverified HTTPS request is being made. Adding certificate verification is strongly advised. See: https://urllib3.readthedocs.io/en/latest/advanced-usage.html#ssl-warnings\n",
      "  InsecureRequestWarning,\n",
      "/home/dan/src/para/venv/lib/python3.6/site-packages/urllib3/connectionpool.py:1004: InsecureRequestWarning: Unverified HTTPS request is being made. Adding certificate verification is strongly advised. See: https://urllib3.readthedocs.io/en/latest/advanced-usage.html#ssl-warnings\n",
      "  InsecureRequestWarning,\n",
      "/home/dan/src/para/venv/lib/python3.6/site-packages/urllib3/connectionpool.py:1004: InsecureRequestWarning: Unverified HTTPS request is being made. Adding certificate verification is strongly advised. See: https://urllib3.readthedocs.io/en/latest/advanced-usage.html#ssl-warnings\n",
      "  InsecureRequestWarning,\n",
      "/home/dan/src/para/venv/lib/python3.6/site-packages/urllib3/connectionpool.py:1004: InsecureRequestWarning: Unverified HTTPS request is being made. Adding certificate verification is strongly advised. See: https://urllib3.readthedocs.io/en/latest/advanced-usage.html#ssl-warnings\n",
      "  InsecureRequestWarning,\n"
     ]
    },
    {
     "name": "stdout",
     "output_type": "stream",
     "text": [
      "https://nextdoor.com\n",
      "['https://nextdoor.com/', 'https://nextdoor.com/', 'https://nextdoor.nl/', 'https://nextdoor.co.uk/', 'https://nextdoor.de/', 'https://fr.nextdoor.com/', 'https://it.nextdoor.com/', 'https://es.nextdoor.com/', 'https://au.nextdoor.com/', 'https://dk.nextdoor.com/', 'https://se.nextdoor.com/', 'https://ca.nextdoor.com/', 'https://ca.nextdoor.com/', 'https://d19rpgkrjeba2z.cloudfront.net/b9b651cc0b575574/static/nextdoorv2/images/favicons/favicon-v2.ico']\n",
      "https://nextdoor.com['https://nextdoor.com/', 'https://nextdoor.com/', 'https://nextdoor.nl/', 'https://nextdoor.co.uk/', 'https://nextdoor.de/', 'https://fr.nextdoor.com/', 'https://it.nextdoor.com/', 'https://es.nextdoor.com/', 'https://au.nextdoor.com/', 'https://dk.nextdoor.com/', 'https://se.nextdoor.com/', 'https://ca.nextdoor.com/', 'https://ca.nextdoor.com/', 'https://d19rpgkrjeba2z.cloudfront.net/b9b651cc0b575574/static/nextdoorv2/images/favicons/favicon-v2.ico']\n",
      "\n",
      "https://nextdoor.com['https://nextdoor.com/', 'https://nextdoor.com/', 'https://nextdoor.nl/', 'https://nextdoor.co.uk/', 'https://nextdoor.de/', 'https://fr.nextdoor.com/', 'https://it.nextdoor.com/', 'https://es.nextdoor.com/', 'https://au.nextdoor.com/', 'https://dk.nextdoor.com/', 'https://se.nextdoor.com/', 'https://ca.nextdoor.com/', 'https://ca.nextdoor.com/', 'https://d19rpgkrjeba2z.cloudfront.net/b9b651cc0b575574/static/nextdoorv2/images/favicons/favicon-v2.ico']\n",
      "\n",
      "https://nextdoor.com['https://nextdoor.com/', 'https://nextdoor.com/', 'https://nextdoor.nl/', 'https://nextdoor.co.uk/', 'https://nextdoor.de/', 'https://fr.nextdoor.com/', 'https://it.nextdoor.com/', 'https://es.nextdoor.com/', 'https://au.nextdoor.com/', 'https://dk.nextdoor.com/', 'https://se.nextdoor.com/', 'https://ca.nextdoor.com/', 'https://ca.nextdoor.com/', 'https://d19rpgkrjeba2z.cloudfront.net/b9b651cc0b575574/static/nextdoorv2/images/favicons/favicon-v2.ico']\n",
      "\n",
      "https://nextdoor.com['https://nextdoor.com/', 'https://nextdoor.com/', 'https://nextdoor.nl/', 'https://nextdoor.co.uk/', 'https://nextdoor.de/', 'https://fr.nextdoor.com/', 'https://it.nextdoor.com/', 'https://es.nextdoor.com/', 'https://au.nextdoor.com/', 'https://dk.nextdoor.com/', 'https://se.nextdoor.com/', 'https://ca.nextdoor.com/', 'https://ca.nextdoor.com/', 'https://d19rpgkrjeba2z.cloudfront.net/b9b651cc0b575574/static/nextdoorv2/images/favicons/favicon-v2.ico']\n",
      "\n",
      "https://nextdoor.com['https://nextdoor.com/', 'https://nextdoor.com/', 'https://nextdoor.nl/', 'https://nextdoor.co.uk/', 'https://nextdoor.de/', 'https://fr.nextdoor.com/', 'https://it.nextdoor.com/', 'https://es.nextdoor.com/', 'https://au.nextdoor.com/', 'https://dk.nextdoor.com/', 'https://se.nextdoor.com/', 'https://ca.nextdoor.com/', 'https://ca.nextdoor.com/', 'https://d19rpgkrjeba2z.cloudfront.net/b9b651cc0b575574/static/nextdoorv2/images/favicons/favicon-v2.ico']\n",
      "\n",
      "https://nextdoor.com['https://nextdoor.com/', 'https://nextdoor.com/', 'https://nextdoor.nl/', 'https://nextdoor.co.uk/', 'https://nextdoor.de/', 'https://fr.nextdoor.com/', 'https://it.nextdoor.com/', 'https://es.nextdoor.com/', 'https://au.nextdoor.com/', 'https://dk.nextdoor.com/', 'https://se.nextdoor.com/', 'https://ca.nextdoor.com/', 'https://ca.nextdoor.com/', 'https://d19rpgkrjeba2z.cloudfront.net/b9b651cc0b575574/static/nextdoorv2/images/favicons/favicon-v2.ico']\n",
      "\n",
      "https://nextdoor.com\n",
      "['https://nextdoor.com/', 'https://nextdoor.com/', 'https://nextdoor.nl/', 'https://nextdoor.co.uk/', 'https://nextdoor.de/', 'https://fr.nextdoor.com/', 'https://it.nextdoor.com/', 'https://es.nextdoor.com/', 'https://au.nextdoor.com/', 'https://dk.nextdoor.com/', 'https://se.nextdoor.com/', 'https://ca.nextdoor.com/', 'https://ca.nextdoor.com/', 'https://d19rpgkrjeba2z.cloudfront.net/b9b651cc0b575574/static/nextdoorv2/images/favicons/favicon-v2.ico']\n",
      "https://nextdoor.com['https://nextdoor.com/', 'https://nextdoor.com/', 'https://nextdoor.nl/', 'https://nextdoor.co.uk/', 'https://nextdoor.de/', 'https://fr.nextdoor.com/', 'https://it.nextdoor.com/', 'https://es.nextdoor.com/', 'https://au.nextdoor.com/', 'https://dk.nextdoor.com/', 'https://se.nextdoor.com/', 'https://ca.nextdoor.com/', 'https://ca.nextdoor.com/', 'https://d19rpgkrjeba2z.cloudfront.net/b9b651cc0b575574/static/nextdoorv2/images/favicons/favicon-v2.ico']\n",
      "\n"
     ]
    },
    {
     "name": "stderr",
     "output_type": "stream",
     "text": [
      "/home/dan/src/para/venv/lib/python3.6/site-packages/urllib3/connectionpool.py:1004: InsecureRequestWarning: Unverified HTTPS request is being made. Adding certificate verification is strongly advised. See: https://urllib3.readthedocs.io/en/latest/advanced-usage.html#ssl-warnings\n",
      "  InsecureRequestWarning,\n",
      "/home/dan/src/para/venv/lib/python3.6/site-packages/urllib3/connectionpool.py:1004: InsecureRequestWarning: Unverified HTTPS request is being made. Adding certificate verification is strongly advised. See: https://urllib3.readthedocs.io/en/latest/advanced-usage.html#ssl-warnings\n",
      "  InsecureRequestWarning,\n",
      "/home/dan/src/para/venv/lib/python3.6/site-packages/urllib3/connectionpool.py:1004: InsecureRequestWarning: Unverified HTTPS request is being made. Adding certificate verification is strongly advised. See: https://urllib3.readthedocs.io/en/latest/advanced-usage.html#ssl-warnings\n",
      "  InsecureRequestWarning,\n"
     ]
    },
    {
     "name": "stdout",
     "output_type": "stream",
     "text": [
      "https://nextdoor.com['https://nextdoor.com/', 'https://nextdoor.com/', 'https://nextdoor.nl/', 'https://nextdoor.co.uk/', 'https://nextdoor.de/', 'https://fr.nextdoor.com/', 'https://it.nextdoor.com/', 'https://es.nextdoor.com/', 'https://au.nextdoor.com/', 'https://dk.nextdoor.com/', 'https://se.nextdoor.com/', 'https://ca.nextdoor.com/', 'https://ca.nextdoor.com/', 'https://d19rpgkrjeba2z.cloudfront.net/b9b651cc0b575574/static/nextdoorv2/images/favicons/favicon-v2.ico']\n",
      "\n",
      "https://nextdoor.com\n",
      "['https://nextdoor.com/', 'https://nextdoor.com/', 'https://nextdoor.nl/', 'https://nextdoor.co.uk/', 'https://nextdoor.de/', 'https://fr.nextdoor.com/', 'https://it.nextdoor.com/', 'https://es.nextdoor.com/', 'https://au.nextdoor.com/', 'https://dk.nextdoor.com/', 'https://se.nextdoor.com/', 'https://ca.nextdoor.com/', 'https://ca.nextdoor.com/', 'https://d19rpgkrjeba2z.cloudfront.net/b9b651cc0b575574/static/nextdoorv2/images/favicons/favicon-v2.ico']\n",
      "https://nextdoor.com['https://nextdoor.com/', 'https://nextdoor.com/', 'https://nextdoor.nl/', 'https://nextdoor.co.uk/', 'https://nextdoor.de/', 'https://fr.nextdoor.com/', 'https://it.nextdoor.com/', 'https://es.nextdoor.com/', 'https://au.nextdoor.com/', 'https://dk.nextdoor.com/', 'https://se.nextdoor.com/', 'https://ca.nextdoor.com/', 'https://ca.nextdoor.com/', 'https://d19rpgkrjeba2z.cloudfront.net/b9b651cc0b575574/static/nextdoorv2/images/favicons/favicon-v2.ico']\n",
      "\n",
      "https://nextdoor.com['https://nextdoor.com/', 'https://nextdoor.com/', 'https://nextdoor.nl/', 'https://nextdoor.co.uk/', 'https://nextdoor.de/', 'https://fr.nextdoor.com/', 'https://it.nextdoor.com/', 'https://es.nextdoor.com/', 'https://au.nextdoor.com/', 'https://dk.nextdoor.com/', 'https://se.nextdoor.com/', 'https://ca.nextdoor.com/', 'https://ca.nextdoor.com/', 'https://d19rpgkrjeba2z.cloudfront.net/b9b651cc0b575574/static/nextdoorv2/images/favicons/favicon-v2.ico']\n",
      "\n"
     ]
    },
    {
     "name": "stderr",
     "output_type": "stream",
     "text": [
      "/home/dan/src/para/venv/lib/python3.6/site-packages/urllib3/connectionpool.py:1004: InsecureRequestWarning: Unverified HTTPS request is being made. Adding certificate verification is strongly advised. See: https://urllib3.readthedocs.io/en/latest/advanced-usage.html#ssl-warnings\n",
      "  InsecureRequestWarning,\n",
      "/home/dan/src/para/venv/lib/python3.6/site-packages/urllib3/connectionpool.py:1004: InsecureRequestWarning: Unverified HTTPS request is being made. Adding certificate verification is strongly advised. See: https://urllib3.readthedocs.io/en/latest/advanced-usage.html#ssl-warnings\n",
      "  InsecureRequestWarning,\n",
      "/home/dan/src/para/venv/lib/python3.6/site-packages/urllib3/connectionpool.py:1004: InsecureRequestWarning: Unverified HTTPS request is being made. Adding certificate verification is strongly advised. See: https://urllib3.readthedocs.io/en/latest/advanced-usage.html#ssl-warnings\n",
      "  InsecureRequestWarning,\n",
      "/home/dan/src/para/venv/lib/python3.6/site-packages/urllib3/connectionpool.py:1004: InsecureRequestWarning: Unverified HTTPS request is being made. Adding certificate verification is strongly advised. See: https://urllib3.readthedocs.io/en/latest/advanced-usage.html#ssl-warnings\n",
      "  InsecureRequestWarning,\n",
      "/home/dan/src/para/venv/lib/python3.6/site-packages/urllib3/connectionpool.py:1004: InsecureRequestWarning: Unverified HTTPS request is being made. Adding certificate verification is strongly advised. See: https://urllib3.readthedocs.io/en/latest/advanced-usage.html#ssl-warnings\n",
      "  InsecureRequestWarning,\n",
      "/home/dan/src/para/venv/lib/python3.6/site-packages/urllib3/connectionpool.py:1004: InsecureRequestWarning: Unverified HTTPS request is being made. Adding certificate verification is strongly advised. See: https://urllib3.readthedocs.io/en/latest/advanced-usage.html#ssl-warnings\n",
      "  InsecureRequestWarning,\n"
     ]
    },
    {
     "name": "stdout",
     "output_type": "stream",
     "text": [
      "https://nextdoor.com['https://nextdoor.com/', 'https://nextdoor.com/', 'https://nextdoor.nl/', 'https://nextdoor.co.uk/', 'https://nextdoor.de/', 'https://fr.nextdoor.com/', 'https://it.nextdoor.com/', 'https://es.nextdoor.com/', 'https://au.nextdoor.com/', 'https://dk.nextdoor.com/', 'https://se.nextdoor.com/', 'https://ca.nextdoor.com/', 'https://ca.nextdoor.com/', 'https://d19rpgkrjeba2z.cloudfront.net/b9b651cc0b575574/static/nextdoorv2/images/favicons/favicon-v2.ico']\n",
      "\n",
      "https://nextdoor.com['https://nextdoor.com/', 'https://nextdoor.com/', 'https://nextdoor.nl/', 'https://nextdoor.co.uk/', 'https://nextdoor.de/', 'https://fr.nextdoor.com/', 'https://it.nextdoor.com/', 'https://es.nextdoor.com/', 'https://au.nextdoor.com/', 'https://dk.nextdoor.com/', 'https://se.nextdoor.com/', 'https://ca.nextdoor.com/', 'https://ca.nextdoor.com/', 'https://d19rpgkrjeba2z.cloudfront.net/b9b651cc0b575574/static/nextdoorv2/images/favicons/favicon-v2.ico']\n",
      "\n",
      "https://nextdoor.com['https://nextdoor.com/', 'https://nextdoor.com/', 'https://nextdoor.nl/', 'https://nextdoor.co.uk/', 'https://nextdoor.de/', 'https://fr.nextdoor.com/', 'https://it.nextdoor.com/', 'https://es.nextdoor.com/', 'https://au.nextdoor.com/', 'https://dk.nextdoor.com/', 'https://se.nextdoor.com/', 'https://ca.nextdoor.com/', 'https://ca.nextdoor.com/', 'https://d19rpgkrjeba2z.cloudfront.net/b9b651cc0b575574/static/nextdoorv2/images/favicons/favicon-v2.ico']\n",
      "\n",
      "https://nextdoor.com['https://nextdoor.com/', 'https://nextdoor.com/', 'https://nextdoor.nl/', 'https://nextdoor.co.uk/', 'https://nextdoor.de/', 'https://fr.nextdoor.com/', 'https://it.nextdoor.com/', 'https://es.nextdoor.com/', 'https://au.nextdoor.com/', 'https://dk.nextdoor.com/', 'https://se.nextdoor.com/', 'https://ca.nextdoor.com/', 'https://ca.nextdoor.com/', 'https://d19rpgkrjeba2z.cloudfront.net/b9b651cc0b575574/static/nextdoorv2/images/favicons/favicon-v2.ico']\n",
      "\n",
      "https://nextdoor.com\n",
      "['https://nextdoor.com/', 'https://nextdoor.com/', 'https://nextdoor.nl/', 'https://nextdoor.co.uk/', 'https://nextdoor.de/', 'https://fr.nextdoor.com/', 'https://it.nextdoor.com/', 'https://es.nextdoor.com/', 'https://au.nextdoor.com/', 'https://dk.nextdoor.com/', 'https://se.nextdoor.com/', 'https://ca.nextdoor.com/', 'https://ca.nextdoor.com/', 'https://d19rpgkrjeba2z.cloudfront.net/b9b651cc0b575574/static/nextdoorv2/images/favicons/favicon-v2.ico']\n",
      "https://nextdoor.com['https://nextdoor.com/', 'https://nextdoor.com/', 'https://nextdoor.nl/', 'https://nextdoor.co.uk/', 'https://nextdoor.de/', 'https://fr.nextdoor.com/', 'https://it.nextdoor.com/', 'https://es.nextdoor.com/', 'https://au.nextdoor.com/', 'https://dk.nextdoor.com/', 'https://se.nextdoor.com/', 'https://ca.nextdoor.com/', 'https://ca.nextdoor.com/', 'https://d19rpgkrjeba2z.cloudfront.net/b9b651cc0b575574/static/nextdoorv2/images/favicons/favicon-v2.ico']\n",
      "\n"
     ]
    },
    {
     "name": "stderr",
     "output_type": "stream",
     "text": [
      "/home/dan/src/para/venv/lib/python3.6/site-packages/urllib3/connectionpool.py:1004: InsecureRequestWarning: Unverified HTTPS request is being made. Adding certificate verification is strongly advised. See: https://urllib3.readthedocs.io/en/latest/advanced-usage.html#ssl-warnings\n",
      "  InsecureRequestWarning,\n",
      "/home/dan/src/para/venv/lib/python3.6/site-packages/urllib3/connectionpool.py:1004: InsecureRequestWarning: Unverified HTTPS request is being made. Adding certificate verification is strongly advised. See: https://urllib3.readthedocs.io/en/latest/advanced-usage.html#ssl-warnings\n",
      "  InsecureRequestWarning,\n",
      "/home/dan/src/para/venv/lib/python3.6/site-packages/urllib3/connectionpool.py:1004: InsecureRequestWarning: Unverified HTTPS request is being made. Adding certificate verification is strongly advised. See: https://urllib3.readthedocs.io/en/latest/advanced-usage.html#ssl-warnings\n",
      "  InsecureRequestWarning,\n",
      "/home/dan/src/para/venv/lib/python3.6/site-packages/urllib3/connectionpool.py:1004: InsecureRequestWarning: Unverified HTTPS request is being made. Adding certificate verification is strongly advised. See: https://urllib3.readthedocs.io/en/latest/advanced-usage.html#ssl-warnings\n",
      "  InsecureRequestWarning,\n",
      "/home/dan/src/para/venv/lib/python3.6/site-packages/urllib3/connectionpool.py:1004: InsecureRequestWarning: Unverified HTTPS request is being made. Adding certificate verification is strongly advised. See: https://urllib3.readthedocs.io/en/latest/advanced-usage.html#ssl-warnings\n",
      "  InsecureRequestWarning,\n"
     ]
    },
    {
     "name": "stdout",
     "output_type": "stream",
     "text": [
      "https://nextdoor.com['https://nextdoor.com/', 'https://nextdoor.com/', 'https://nextdoor.nl/', 'https://nextdoor.co.uk/', 'https://nextdoor.de/', 'https://fr.nextdoor.com/', 'https://it.nextdoor.com/', 'https://es.nextdoor.com/', 'https://au.nextdoor.com/', 'https://dk.nextdoor.com/', 'https://se.nextdoor.com/', 'https://ca.nextdoor.com/', 'https://ca.nextdoor.com/', 'https://d19rpgkrjeba2z.cloudfront.net/b9b651cc0b575574/static/nextdoorv2/images/favicons/favicon-v2.ico']\n",
      "\n",
      "https://nextdoor.com['https://nextdoor.com/', 'https://nextdoor.com/', 'https://nextdoor.nl/', 'https://nextdoor.co.uk/', 'https://nextdoor.de/', 'https://fr.nextdoor.com/', 'https://it.nextdoor.com/', 'https://es.nextdoor.com/', 'https://au.nextdoor.com/', 'https://dk.nextdoor.com/', 'https://se.nextdoor.com/', 'https://ca.nextdoor.com/', 'https://ca.nextdoor.com/', 'https://d19rpgkrjeba2z.cloudfront.net/b9b651cc0b575574/static/nextdoorv2/images/favicons/favicon-v2.ico']\n",
      "\n",
      "https://nextdoor.com['https://nextdoor.com/', 'https://nextdoor.com/', 'https://nextdoor.nl/', 'https://nextdoor.co.uk/', 'https://nextdoor.de/', 'https://fr.nextdoor.com/', 'https://it.nextdoor.com/', 'https://es.nextdoor.com/', 'https://au.nextdoor.com/', 'https://dk.nextdoor.com/', 'https://se.nextdoor.com/', 'https://ca.nextdoor.com/', 'https://ca.nextdoor.com/', 'https://d19rpgkrjeba2z.cloudfront.net/b9b651cc0b575574/static/nextdoorv2/images/favicons/favicon-v2.ico']\n",
      "\n",
      "https://nextdoor.com['https://nextdoor.com/', 'https://nextdoor.com/', 'https://nextdoor.nl/', 'https://nextdoor.co.uk/', 'https://nextdoor.de/', 'https://fr.nextdoor.com/', 'https://it.nextdoor.com/', 'https://es.nextdoor.com/', 'https://au.nextdoor.com/', 'https://dk.nextdoor.com/', 'https://se.nextdoor.com/', 'https://ca.nextdoor.com/', 'https://ca.nextdoor.com/', 'https://d19rpgkrjeba2z.cloudfront.net/b9b651cc0b575574/static/nextdoorv2/images/favicons/favicon-v2.ico']\n",
      "\n",
      "https://nextdoor.com['https://nextdoor.com/', 'https://nextdoor.com/', 'https://nextdoor.nl/', 'https://nextdoor.co.uk/', 'https://nextdoor.de/', 'https://fr.nextdoor.com/', 'https://it.nextdoor.com/', 'https://es.nextdoor.com/', 'https://au.nextdoor.com/', 'https://dk.nextdoor.com/', 'https://se.nextdoor.com/', 'https://ca.nextdoor.com/', 'https://ca.nextdoor.com/', 'https://d19rpgkrjeba2z.cloudfront.net/b9b651cc0b575574/static/nextdoorv2/images/favicons/favicon-v2.ico']\n",
      "\n"
     ]
    },
    {
     "name": "stderr",
     "output_type": "stream",
     "text": [
      "/home/dan/src/para/venv/lib/python3.6/site-packages/urllib3/connectionpool.py:1004: InsecureRequestWarning: Unverified HTTPS request is being made. Adding certificate verification is strongly advised. See: https://urllib3.readthedocs.io/en/latest/advanced-usage.html#ssl-warnings\n",
      "  InsecureRequestWarning,\n",
      "/home/dan/src/para/venv/lib/python3.6/site-packages/urllib3/connectionpool.py:1004: InsecureRequestWarning: Unverified HTTPS request is being made. Adding certificate verification is strongly advised. See: https://urllib3.readthedocs.io/en/latest/advanced-usage.html#ssl-warnings\n",
      "  InsecureRequestWarning,\n",
      "/home/dan/src/para/venv/lib/python3.6/site-packages/urllib3/connectionpool.py:1004: InsecureRequestWarning: Unverified HTTPS request is being made. Adding certificate verification is strongly advised. See: https://urllib3.readthedocs.io/en/latest/advanced-usage.html#ssl-warnings\n",
      "  InsecureRequestWarning,\n",
      "/home/dan/src/para/venv/lib/python3.6/site-packages/urllib3/connectionpool.py:1004: InsecureRequestWarning: Unverified HTTPS request is being made. Adding certificate verification is strongly advised. See: https://urllib3.readthedocs.io/en/latest/advanced-usage.html#ssl-warnings\n",
      "  InsecureRequestWarning,\n",
      "/home/dan/src/para/venv/lib/python3.6/site-packages/urllib3/connectionpool.py:1004: InsecureRequestWarning: Unverified HTTPS request is being made. Adding certificate verification is strongly advised. See: https://urllib3.readthedocs.io/en/latest/advanced-usage.html#ssl-warnings\n",
      "  InsecureRequestWarning,\n",
      "/home/dan/src/para/venv/lib/python3.6/site-packages/urllib3/connectionpool.py:1004: InsecureRequestWarning: Unverified HTTPS request is being made. Adding certificate verification is strongly advised. See: https://urllib3.readthedocs.io/en/latest/advanced-usage.html#ssl-warnings\n",
      "  InsecureRequestWarning,\n"
     ]
    },
    {
     "name": "stdout",
     "output_type": "stream",
     "text": [
      "https://nextdoor.com['https://nextdoor.com/', 'https://nextdoor.com/', 'https://nextdoor.nl/', 'https://nextdoor.co.uk/', 'https://nextdoor.de/', 'https://fr.nextdoor.com/', 'https://it.nextdoor.com/', 'https://es.nextdoor.com/', 'https://au.nextdoor.com/', 'https://dk.nextdoor.com/', 'https://se.nextdoor.com/', 'https://ca.nextdoor.com/', 'https://ca.nextdoor.com/', 'https://d19rpgkrjeba2z.cloudfront.net/b9b651cc0b575574/static/nextdoorv2/images/favicons/favicon-v2.ico']\n",
      "\n",
      "https://nextdoor.comhttps://nextdoor.com['https://nextdoor.com/', 'https://nextdoor.com/', 'https://nextdoor.nl/', 'https://nextdoor.co.uk/', 'https://nextdoor.de/', 'https://fr.nextdoor.com/', 'https://it.nextdoor.com/', 'https://es.nextdoor.com/', 'https://au.nextdoor.com/', 'https://dk.nextdoor.com/', 'https://se.nextdoor.com/', 'https://ca.nextdoor.com/', 'https://ca.nextdoor.com/', 'https://d19rpgkrjeba2z.cloudfront.net/b9b651cc0b575574/static/nextdoorv2/images/favicons/favicon-v2.ico']\n",
      "['https://nextdoor.com/', 'https://nextdoor.com/', 'https://nextdoor.nl/', 'https://nextdoor.co.uk/', 'https://nextdoor.de/', 'https://fr.nextdoor.com/', 'https://it.nextdoor.com/', 'https://es.nextdoor.com/', 'https://au.nextdoor.com/', 'https://dk.nextdoor.com/', 'https://se.nextdoor.com/', 'https://ca.nextdoor.com/', 'https://ca.nextdoor.com/', 'https://d19rpgkrjeba2z.cloudfront.net/b9b651cc0b575574/static/nextdoorv2/images/favicons/favicon-v2.ico']\n",
      "\n",
      "\n",
      "https://nextdoor.com\n",
      "['https://nextdoor.com/', 'https://nextdoor.com/', 'https://nextdoor.nl/', 'https://nextdoor.co.uk/', 'https://nextdoor.de/', 'https://fr.nextdoor.com/', 'https://it.nextdoor.com/', 'https://es.nextdoor.com/', 'https://au.nextdoor.com/', 'https://dk.nextdoor.com/', 'https://se.nextdoor.com/', 'https://ca.nextdoor.com/', 'https://ca.nextdoor.com/', 'https://d19rpgkrjeba2z.cloudfront.net/b9b651cc0b575574/static/nextdoorv2/images/favicons/favicon-v2.ico']\n",
      "https://nextdoor.com['https://nextdoor.com/', 'https://nextdoor.com/', 'https://nextdoor.nl/', 'https://nextdoor.co.uk/', 'https://nextdoor.de/', 'https://fr.nextdoor.com/', 'https://it.nextdoor.com/', 'https://es.nextdoor.com/', 'https://au.nextdoor.com/', 'https://dk.nextdoor.com/', 'https://se.nextdoor.com/', 'https://ca.nextdoor.com/', 'https://ca.nextdoor.com/', 'https://d19rpgkrjeba2z.cloudfront.net/b9b651cc0b575574/static/nextdoorv2/images/favicons/favicon-v2.ico']\n",
      "\n"
     ]
    },
    {
     "name": "stderr",
     "output_type": "stream",
     "text": [
      "/home/dan/src/para/venv/lib/python3.6/site-packages/urllib3/connectionpool.py:1004: InsecureRequestWarning: Unverified HTTPS request is being made. Adding certificate verification is strongly advised. See: https://urllib3.readthedocs.io/en/latest/advanced-usage.html#ssl-warnings\n",
      "  InsecureRequestWarning,\n",
      "/home/dan/src/para/venv/lib/python3.6/site-packages/urllib3/connectionpool.py:1004: InsecureRequestWarning: Unverified HTTPS request is being made. Adding certificate verification is strongly advised. See: https://urllib3.readthedocs.io/en/latest/advanced-usage.html#ssl-warnings\n",
      "  InsecureRequestWarning,\n",
      "/home/dan/src/para/venv/lib/python3.6/site-packages/urllib3/connectionpool.py:1004: InsecureRequestWarning: Unverified HTTPS request is being made. Adding certificate verification is strongly advised. See: https://urllib3.readthedocs.io/en/latest/advanced-usage.html#ssl-warnings\n",
      "  InsecureRequestWarning,\n"
     ]
    },
    {
     "name": "stdout",
     "output_type": "stream",
     "text": [
      "https://nextdoor.com['https://nextdoor.com/', 'https://nextdoor.com/', 'https://nextdoor.nl/', 'https://nextdoor.co.uk/', 'https://nextdoor.de/', 'https://fr.nextdoor.com/', 'https://it.nextdoor.com/', 'https://es.nextdoor.com/', 'https://au.nextdoor.com/', 'https://dk.nextdoor.com/', 'https://se.nextdoor.com/', 'https://ca.nextdoor.com/', 'https://ca.nextdoor.com/', 'https://d19rpgkrjeba2z.cloudfront.net/b9b651cc0b575574/static/nextdoorv2/images/favicons/favicon-v2.ico']\n",
      "\n",
      "https://nextdoor.com['https://nextdoor.com/', 'https://nextdoor.com/', 'https://nextdoor.nl/', 'https://nextdoor.co.uk/', 'https://nextdoor.de/', 'https://fr.nextdoor.com/', 'https://it.nextdoor.com/', 'https://es.nextdoor.com/', 'https://au.nextdoor.com/', 'https://dk.nextdoor.com/', 'https://se.nextdoor.com/', 'https://ca.nextdoor.com/', 'https://ca.nextdoor.com/', 'https://d19rpgkrjeba2z.cloudfront.net/b9b651cc0b575574/static/nextdoorv2/images/favicons/favicon-v2.ico']\n",
      "\n"
     ]
    },
    {
     "name": "stderr",
     "output_type": "stream",
     "text": [
      "/home/dan/src/para/venv/lib/python3.6/site-packages/urllib3/connectionpool.py:1004: InsecureRequestWarning: Unverified HTTPS request is being made. Adding certificate verification is strongly advised. See: https://urllib3.readthedocs.io/en/latest/advanced-usage.html#ssl-warnings\n",
      "  InsecureRequestWarning,\n"
     ]
    },
    {
     "name": "stdout",
     "output_type": "stream",
     "text": [
      "https://nextdoor.com['https://nextdoor.com/', 'https://nextdoor.com/', 'https://nextdoor.nl/', 'https://nextdoor.co.uk/', 'https://nextdoor.de/', 'https://fr.nextdoor.com/', 'https://it.nextdoor.com/', 'https://es.nextdoor.com/', 'https://au.nextdoor.com/', 'https://dk.nextdoor.com/', 'https://se.nextdoor.com/', 'https://ca.nextdoor.com/', 'https://ca.nextdoor.com/', 'https://d19rpgkrjeba2z.cloudfront.net/b9b651cc0b575574/static/nextdoorv2/images/favicons/favicon-v2.ico']\n",
      "\n",
      "https://nextdoor.com['https://nextdoor.com/', 'https://nextdoor.com/', 'https://nextdoor.nl/', 'https://nextdoor.co.uk/', 'https://nextdoor.de/', 'https://fr.nextdoor.com/', 'https://it.nextdoor.com/', 'https://es.nextdoor.com/', 'https://au.nextdoor.com/', 'https://dk.nextdoor.com/', 'https://se.nextdoor.com/', 'https://ca.nextdoor.com/', 'https://ca.nextdoor.com/', 'https://d19rpgkrjeba2z.cloudfront.net/b9b651cc0b575574/static/nextdoorv2/images/favicons/favicon-v2.ico']\n",
      "\n",
      "https://nextdoor.com['https://nextdoor.com/', 'https://nextdoor.com/', 'https://nextdoor.nl/', 'https://nextdoor.co.uk/', 'https://nextdoor.de/', 'https://fr.nextdoor.com/', 'https://it.nextdoor.com/', 'https://es.nextdoor.com/', 'https://au.nextdoor.com/', 'https://dk.nextdoor.com/', 'https://se.nextdoor.com/', 'https://ca.nextdoor.com/', 'https://ca.nextdoor.com/', 'https://d19rpgkrjeba2z.cloudfront.net/b9b651cc0b575574/static/nextdoorv2/images/favicons/favicon-v2.ico']\n",
      "\n"
     ]
    },
    {
     "name": "stderr",
     "output_type": "stream",
     "text": [
      "/home/dan/src/para/venv/lib/python3.6/site-packages/urllib3/connectionpool.py:1004: InsecureRequestWarning: Unverified HTTPS request is being made. Adding certificate verification is strongly advised. See: https://urllib3.readthedocs.io/en/latest/advanced-usage.html#ssl-warnings\n",
      "  InsecureRequestWarning,\n",
      "/home/dan/src/para/venv/lib/python3.6/site-packages/urllib3/connectionpool.py:1004: InsecureRequestWarning: Unverified HTTPS request is being made. Adding certificate verification is strongly advised. See: https://urllib3.readthedocs.io/en/latest/advanced-usage.html#ssl-warnings\n",
      "  InsecureRequestWarning,\n",
      "/home/dan/src/para/venv/lib/python3.6/site-packages/urllib3/connectionpool.py:1004: InsecureRequestWarning: Unverified HTTPS request is being made. Adding certificate verification is strongly advised. See: https://urllib3.readthedocs.io/en/latest/advanced-usage.html#ssl-warnings\n",
      "  InsecureRequestWarning,\n",
      "/home/dan/src/para/venv/lib/python3.6/site-packages/urllib3/connectionpool.py:1004: InsecureRequestWarning: Unverified HTTPS request is being made. Adding certificate verification is strongly advised. See: https://urllib3.readthedocs.io/en/latest/advanced-usage.html#ssl-warnings\n",
      "  InsecureRequestWarning,\n"
     ]
    },
    {
     "name": "stdout",
     "output_type": "stream",
     "text": [
      "https://nextdoor.com\n",
      "['https://nextdoor.com/', 'https://nextdoor.com/', 'https://nextdoor.nl/', 'https://nextdoor.co.uk/', 'https://nextdoor.de/', 'https://fr.nextdoor.com/', 'https://it.nextdoor.com/', 'https://es.nextdoor.com/', 'https://au.nextdoor.com/', 'https://dk.nextdoor.com/', 'https://se.nextdoor.com/', 'https://ca.nextdoor.com/', 'https://ca.nextdoor.com/', 'https://d19rpgkrjeba2z.cloudfront.net/b9b651cc0b575574/static/nextdoorv2/images/favicons/favicon-v2.ico']\n",
      "https://nextdoor.com['https://nextdoor.com/', 'https://nextdoor.com/', 'https://nextdoor.nl/', 'https://nextdoor.co.uk/', 'https://nextdoor.de/', 'https://fr.nextdoor.com/', 'https://it.nextdoor.com/', 'https://es.nextdoor.com/', 'https://au.nextdoor.com/', 'https://dk.nextdoor.com/', 'https://se.nextdoor.com/', 'https://ca.nextdoor.com/', 'https://ca.nextdoor.com/', 'https://d19rpgkrjeba2z.cloudfront.net/b9b651cc0b575574/static/nextdoorv2/images/favicons/favicon-v2.ico']\n",
      "\n"
     ]
    },
    {
     "name": "stderr",
     "output_type": "stream",
     "text": [
      "/home/dan/src/para/venv/lib/python3.6/site-packages/urllib3/connectionpool.py:1004: InsecureRequestWarning: Unverified HTTPS request is being made. Adding certificate verification is strongly advised. See: https://urllib3.readthedocs.io/en/latest/advanced-usage.html#ssl-warnings\n",
      "  InsecureRequestWarning,\n",
      "/home/dan/src/para/venv/lib/python3.6/site-packages/urllib3/connectionpool.py:1004: InsecureRequestWarning: Unverified HTTPS request is being made. Adding certificate verification is strongly advised. See: https://urllib3.readthedocs.io/en/latest/advanced-usage.html#ssl-warnings\n",
      "  InsecureRequestWarning,\n",
      "/home/dan/src/para/venv/lib/python3.6/site-packages/urllib3/connectionpool.py:1004: InsecureRequestWarning: Unverified HTTPS request is being made. Adding certificate verification is strongly advised. See: https://urllib3.readthedocs.io/en/latest/advanced-usage.html#ssl-warnings\n",
      "  InsecureRequestWarning,\n",
      "/home/dan/src/para/venv/lib/python3.6/site-packages/urllib3/connectionpool.py:1004: InsecureRequestWarning: Unverified HTTPS request is being made. Adding certificate verification is strongly advised. See: https://urllib3.readthedocs.io/en/latest/advanced-usage.html#ssl-warnings\n",
      "  InsecureRequestWarning,\n",
      "/home/dan/src/para/venv/lib/python3.6/site-packages/urllib3/connectionpool.py:1004: InsecureRequestWarning: Unverified HTTPS request is being made. Adding certificate verification is strongly advised. See: https://urllib3.readthedocs.io/en/latest/advanced-usage.html#ssl-warnings\n",
      "  InsecureRequestWarning,\n"
     ]
    },
    {
     "name": "stdout",
     "output_type": "stream",
     "text": [
      "https://nextdoor.com['https://nextdoor.com/', 'https://nextdoor.com/', 'https://nextdoor.nl/', 'https://nextdoor.co.uk/', 'https://nextdoor.de/', 'https://fr.nextdoor.com/', 'https://it.nextdoor.com/', 'https://es.nextdoor.com/', 'https://au.nextdoor.com/', 'https://dk.nextdoor.com/', 'https://se.nextdoor.com/', 'https://ca.nextdoor.com/', 'https://ca.nextdoor.com/', 'https://d19rpgkrjeba2z.cloudfront.net/b9b651cc0b575574/static/nextdoorv2/images/favicons/favicon-v2.ico']\n",
      "\n",
      "https://nextdoor.com['https://nextdoor.com/', 'https://nextdoor.com/', 'https://nextdoor.nl/', 'https://nextdoor.co.uk/', 'https://nextdoor.de/', 'https://fr.nextdoor.com/', 'https://it.nextdoor.com/', 'https://es.nextdoor.com/', 'https://au.nextdoor.com/', 'https://dk.nextdoor.com/', 'https://se.nextdoor.com/', 'https://ca.nextdoor.com/', 'https://ca.nextdoor.com/', 'https://d19rpgkrjeba2z.cloudfront.net/b9b651cc0b575574/static/nextdoorv2/images/favicons/favicon-v2.ico']\n",
      "\n",
      "https://nextdoor.comhttps://nextdoor.com\n",
      "\n",
      "['https://nextdoor.com/', 'https://nextdoor.com/', 'https://nextdoor.nl/', 'https://nextdoor.co.uk/', 'https://nextdoor.de/', 'https://fr.nextdoor.com/', 'https://it.nextdoor.com/', 'https://es.nextdoor.com/', 'https://au.nextdoor.com/', 'https://dk.nextdoor.com/', 'https://se.nextdoor.com/', 'https://ca.nextdoor.com/', 'https://ca.nextdoor.com/', 'https://d19rpgkrjeba2z.cloudfront.net/b9b651cc0b575574/static/nextdoorv2/images/favicons/favicon-v2.ico']\n",
      "['https://nextdoor.com/', 'https://nextdoor.com/', 'https://nextdoor.nl/', 'https://nextdoor.co.uk/', 'https://nextdoor.de/', 'https://fr.nextdoor.com/', 'https://it.nextdoor.com/', 'https://es.nextdoor.com/', 'https://au.nextdoor.com/', 'https://dk.nextdoor.com/', 'https://se.nextdoor.com/', 'https://ca.nextdoor.com/', 'https://ca.nextdoor.com/', 'https://d19rpgkrjeba2z.cloudfront.net/b9b651cc0b575574/static/nextdoorv2/images/favicons/favicon-v2.ico']\n"
     ]
    },
    {
     "name": "stderr",
     "output_type": "stream",
     "text": [
      "/home/dan/src/para/venv/lib/python3.6/site-packages/urllib3/connectionpool.py:1004: InsecureRequestWarning: Unverified HTTPS request is being made. Adding certificate verification is strongly advised. See: https://urllib3.readthedocs.io/en/latest/advanced-usage.html#ssl-warnings\n",
      "  InsecureRequestWarning,\n",
      "/home/dan/src/para/venv/lib/python3.6/site-packages/urllib3/connectionpool.py:1004: InsecureRequestWarning: Unverified HTTPS request is being made. Adding certificate verification is strongly advised. See: https://urllib3.readthedocs.io/en/latest/advanced-usage.html#ssl-warnings\n",
      "  InsecureRequestWarning,\n",
      "/home/dan/src/para/venv/lib/python3.6/site-packages/urllib3/connectionpool.py:1004: InsecureRequestWarning: Unverified HTTPS request is being made. Adding certificate verification is strongly advised. See: https://urllib3.readthedocs.io/en/latest/advanced-usage.html#ssl-warnings\n",
      "  InsecureRequestWarning,\n",
      "/home/dan/src/para/venv/lib/python3.6/site-packages/urllib3/connectionpool.py:1004: InsecureRequestWarning: Unverified HTTPS request is being made. Adding certificate verification is strongly advised. See: https://urllib3.readthedocs.io/en/latest/advanced-usage.html#ssl-warnings\n",
      "  InsecureRequestWarning,\n",
      "/home/dan/src/para/venv/lib/python3.6/site-packages/urllib3/connectionpool.py:1004: InsecureRequestWarning: Unverified HTTPS request is being made. Adding certificate verification is strongly advised. See: https://urllib3.readthedocs.io/en/latest/advanced-usage.html#ssl-warnings\n",
      "  InsecureRequestWarning,\n",
      "/home/dan/src/para/venv/lib/python3.6/site-packages/urllib3/connectionpool.py:1004: InsecureRequestWarning: Unverified HTTPS request is being made. Adding certificate verification is strongly advised. See: https://urllib3.readthedocs.io/en/latest/advanced-usage.html#ssl-warnings\n",
      "  InsecureRequestWarning,\n"
     ]
    },
    {
     "name": "stdout",
     "output_type": "stream",
     "text": [
      "https://nextdoor.com['https://nextdoor.com/', 'https://nextdoor.com/', 'https://nextdoor.nl/', 'https://nextdoor.co.uk/', 'https://nextdoor.de/', 'https://fr.nextdoor.com/', 'https://it.nextdoor.com/', 'https://es.nextdoor.com/', 'https://au.nextdoor.com/', 'https://dk.nextdoor.com/', 'https://se.nextdoor.com/', 'https://ca.nextdoor.com/', 'https://ca.nextdoor.com/', 'https://d19rpgkrjeba2z.cloudfront.net/b9b651cc0b575574/static/nextdoorv2/images/favicons/favicon-v2.ico']\n",
      "\n",
      "https://nextdoor.com['https://nextdoor.com/', 'https://nextdoor.com/', 'https://nextdoor.nl/', 'https://nextdoor.co.uk/', 'https://nextdoor.de/', 'https://fr.nextdoor.com/', 'https://it.nextdoor.com/', 'https://es.nextdoor.com/', 'https://au.nextdoor.com/', 'https://dk.nextdoor.com/', 'https://se.nextdoor.com/', 'https://ca.nextdoor.com/', 'https://ca.nextdoor.com/', 'https://d19rpgkrjeba2z.cloudfront.net/b9b651cc0b575574/static/nextdoorv2/images/favicons/favicon-v2.ico']\n",
      "\n",
      "https://nextdoor.com\n",
      "['https://nextdoor.com/', 'https://nextdoor.com/', 'https://nextdoor.nl/', 'https://nextdoor.co.uk/', 'https://nextdoor.de/', 'https://fr.nextdoor.com/', 'https://it.nextdoor.com/', 'https://es.nextdoor.com/', 'https://au.nextdoor.com/', 'https://dk.nextdoor.com/', 'https://se.nextdoor.com/', 'https://ca.nextdoor.com/', 'https://ca.nextdoor.com/', 'https://d19rpgkrjeba2z.cloudfront.net/b9b651cc0b575574/static/nextdoorv2/images/favicons/favicon-v2.ico']\n",
      "https://nextdoor.com['https://nextdoor.com/', 'https://nextdoor.com/', 'https://nextdoor.nl/', 'https://nextdoor.co.uk/', 'https://nextdoor.de/', 'https://fr.nextdoor.com/', 'https://it.nextdoor.com/', 'https://es.nextdoor.com/', 'https://au.nextdoor.com/', 'https://dk.nextdoor.com/', 'https://se.nextdoor.com/', 'https://ca.nextdoor.com/', 'https://ca.nextdoor.com/', 'https://d19rpgkrjeba2z.cloudfront.net/b9b651cc0b575574/static/nextdoorv2/images/favicons/favicon-v2.ico']\n",
      "\n"
     ]
    },
    {
     "name": "stderr",
     "output_type": "stream",
     "text": [
      "/home/dan/src/para/venv/lib/python3.6/site-packages/urllib3/connectionpool.py:1004: InsecureRequestWarning: Unverified HTTPS request is being made. Adding certificate verification is strongly advised. See: https://urllib3.readthedocs.io/en/latest/advanced-usage.html#ssl-warnings\n",
      "  InsecureRequestWarning,\n",
      "/home/dan/src/para/venv/lib/python3.6/site-packages/urllib3/connectionpool.py:1004: InsecureRequestWarning: Unverified HTTPS request is being made. Adding certificate verification is strongly advised. See: https://urllib3.readthedocs.io/en/latest/advanced-usage.html#ssl-warnings\n",
      "  InsecureRequestWarning,\n",
      "/home/dan/src/para/venv/lib/python3.6/site-packages/urllib3/connectionpool.py:1004: InsecureRequestWarning: Unverified HTTPS request is being made. Adding certificate verification is strongly advised. See: https://urllib3.readthedocs.io/en/latest/advanced-usage.html#ssl-warnings\n",
      "  InsecureRequestWarning,\n"
     ]
    },
    {
     "name": "stdout",
     "output_type": "stream",
     "text": [
      "https://nextdoor.com['https://nextdoor.com/', 'https://nextdoor.com/', 'https://nextdoor.nl/', 'https://nextdoor.co.uk/', 'https://nextdoor.de/', 'https://fr.nextdoor.com/', 'https://it.nextdoor.com/', 'https://es.nextdoor.com/', 'https://au.nextdoor.com/', 'https://dk.nextdoor.com/', 'https://se.nextdoor.com/', 'https://ca.nextdoor.com/', 'https://ca.nextdoor.com/', 'https://d19rpgkrjeba2z.cloudfront.net/b9b651cc0b575574/static/nextdoorv2/images/favicons/favicon-v2.ico']\n",
      "\n",
      "https://nextdoor.comhttps://nextdoor.com['https://nextdoor.com/', 'https://nextdoor.com/', 'https://nextdoor.nl/', 'https://nextdoor.co.uk/', 'https://nextdoor.de/', 'https://fr.nextdoor.com/', 'https://it.nextdoor.com/', 'https://es.nextdoor.com/', 'https://au.nextdoor.com/', 'https://dk.nextdoor.com/', 'https://se.nextdoor.com/', 'https://ca.nextdoor.com/', 'https://ca.nextdoor.com/', 'https://d19rpgkrjeba2z.cloudfront.net/b9b651cc0b575574/static/nextdoorv2/images/favicons/favicon-v2.ico']\n",
      "\n",
      "\n",
      "['https://nextdoor.com/', 'https://nextdoor.com/', 'https://nextdoor.nl/', 'https://nextdoor.co.uk/', 'https://nextdoor.de/', 'https://fr.nextdoor.com/', 'https://it.nextdoor.com/', 'https://es.nextdoor.com/', 'https://au.nextdoor.com/', 'https://dk.nextdoor.com/', 'https://se.nextdoor.com/', 'https://ca.nextdoor.com/', 'https://ca.nextdoor.com/', 'https://d19rpgkrjeba2z.cloudfront.net/b9b651cc0b575574/static/nextdoorv2/images/favicons/favicon-v2.ico']\n",
      "https://nextdoor.com['https://nextdoor.com/', 'https://nextdoor.com/', 'https://nextdoor.nl/', 'https://nextdoor.co.uk/', 'https://nextdoor.de/', 'https://fr.nextdoor.com/', 'https://it.nextdoor.com/', 'https://es.nextdoor.com/', 'https://au.nextdoor.com/', 'https://dk.nextdoor.com/', 'https://se.nextdoor.com/', 'https://ca.nextdoor.com/', 'https://ca.nextdoor.com/', 'https://d19rpgkrjeba2z.cloudfront.net/b9b651cc0b575574/static/nextdoorv2/images/favicons/favicon-v2.ico']\n",
      "\n"
     ]
    },
    {
     "name": "stderr",
     "output_type": "stream",
     "text": [
      "/home/dan/src/para/venv/lib/python3.6/site-packages/urllib3/connectionpool.py:1004: InsecureRequestWarning: Unverified HTTPS request is being made. Adding certificate verification is strongly advised. See: https://urllib3.readthedocs.io/en/latest/advanced-usage.html#ssl-warnings\n",
      "  InsecureRequestWarning,\n",
      "/home/dan/src/para/venv/lib/python3.6/site-packages/urllib3/connectionpool.py:1004: InsecureRequestWarning: Unverified HTTPS request is being made. Adding certificate verification is strongly advised. See: https://urllib3.readthedocs.io/en/latest/advanced-usage.html#ssl-warnings\n",
      "  InsecureRequestWarning,\n",
      "/home/dan/src/para/venv/lib/python3.6/site-packages/urllib3/connectionpool.py:1004: InsecureRequestWarning: Unverified HTTPS request is being made. Adding certificate verification is strongly advised. See: https://urllib3.readthedocs.io/en/latest/advanced-usage.html#ssl-warnings\n",
      "  InsecureRequestWarning,\n"
     ]
    },
    {
     "name": "stdout",
     "output_type": "stream",
     "text": [
      "https://nextdoor.com['https://nextdoor.com/', 'https://nextdoor.com/', 'https://nextdoor.nl/', 'https://nextdoor.co.uk/', 'https://nextdoor.de/', 'https://fr.nextdoor.com/', 'https://it.nextdoor.com/', 'https://es.nextdoor.com/', 'https://au.nextdoor.com/', 'https://dk.nextdoor.com/', 'https://se.nextdoor.com/', 'https://ca.nextdoor.com/', 'https://ca.nextdoor.com/', 'https://d19rpgkrjeba2z.cloudfront.net/b9b651cc0b575574/static/nextdoorv2/images/favicons/favicon-v2.ico']\n",
      "\n",
      "https://nextdoor.com['https://nextdoor.com/', 'https://nextdoor.com/', 'https://nextdoor.nl/', 'https://nextdoor.co.uk/', 'https://nextdoor.de/', 'https://fr.nextdoor.com/', 'https://it.nextdoor.com/', 'https://es.nextdoor.com/', 'https://au.nextdoor.com/', 'https://dk.nextdoor.com/', 'https://se.nextdoor.com/', 'https://ca.nextdoor.com/', 'https://ca.nextdoor.com/', 'https://d19rpgkrjeba2z.cloudfront.net/b9b651cc0b575574/static/nextdoorv2/images/favicons/favicon-v2.ico']\n",
      "\n",
      "https://nextdoor.com['https://nextdoor.com/', 'https://nextdoor.com/', 'https://nextdoor.nl/', 'https://nextdoor.co.uk/', 'https://nextdoor.de/', 'https://fr.nextdoor.com/', 'https://it.nextdoor.com/', 'https://es.nextdoor.com/', 'https://au.nextdoor.com/', 'https://dk.nextdoor.com/', 'https://se.nextdoor.com/', 'https://ca.nextdoor.com/', 'https://ca.nextdoor.com/', 'https://d19rpgkrjeba2z.cloudfront.net/b9b651cc0b575574/static/nextdoorv2/images/favicons/favicon-v2.ico']\n",
      "\n",
      "https://nextdoor.com['https://nextdoor.com/', 'https://nextdoor.com/', 'https://nextdoor.nl/', 'https://nextdoor.co.uk/', 'https://nextdoor.de/', 'https://fr.nextdoor.com/', 'https://it.nextdoor.com/', 'https://es.nextdoor.com/', 'https://au.nextdoor.com/', 'https://dk.nextdoor.com/', 'https://se.nextdoor.com/', 'https://ca.nextdoor.com/', 'https://ca.nextdoor.com/', 'https://d19rpgkrjeba2z.cloudfront.net/b9b651cc0b575574/static/nextdoorv2/images/favicons/favicon-v2.ico']\n",
      "\n",
      "https://nextdoor.com['https://nextdoor.com/', 'https://nextdoor.com/', 'https://nextdoor.nl/', 'https://nextdoor.co.uk/', 'https://nextdoor.de/', 'https://fr.nextdoor.com/', 'https://it.nextdoor.com/', 'https://es.nextdoor.com/', 'https://au.nextdoor.com/', 'https://dk.nextdoor.com/', 'https://se.nextdoor.com/', 'https://ca.nextdoor.com/', 'https://ca.nextdoor.com/', 'https://d19rpgkrjeba2z.cloudfront.net/b9b651cc0b575574/static/nextdoorv2/images/favicons/favicon-v2.ico']\n",
      "\n",
      "https://nextdoor.com\n",
      "['https://nextdoor.com/', 'https://nextdoor.com/', 'https://nextdoor.nl/', 'https://nextdoor.co.uk/', 'https://nextdoor.de/', 'https://fr.nextdoor.com/', 'https://it.nextdoor.com/', 'https://es.nextdoor.com/', 'https://au.nextdoor.com/', 'https://dk.nextdoor.com/', 'https://se.nextdoor.com/', 'https://ca.nextdoor.com/', 'https://ca.nextdoor.com/', 'https://d19rpgkrjeba2z.cloudfront.net/b9b651cc0b575574/static/nextdoorv2/images/favicons/favicon-v2.ico']\n",
      "https://nextdoor.com['https://nextdoor.com/', 'https://nextdoor.com/', 'https://nextdoor.nl/', 'https://nextdoor.co.uk/', 'https://nextdoor.de/', 'https://fr.nextdoor.com/', 'https://it.nextdoor.com/', 'https://es.nextdoor.com/', 'https://au.nextdoor.com/', 'https://dk.nextdoor.com/', 'https://se.nextdoor.com/', 'https://ca.nextdoor.com/', 'https://ca.nextdoor.com/', 'https://d19rpgkrjeba2z.cloudfront.net/b9b651cc0b575574/static/nextdoorv2/images/favicons/favicon-v2.ico']\n",
      "\n",
      "https://nextdoor.com\n",
      "['https://nextdoor.com/', 'https://nextdoor.com/', 'https://nextdoor.nl/', 'https://nextdoor.co.uk/', 'https://nextdoor.de/', 'https://fr.nextdoor.com/', 'https://it.nextdoor.com/', 'https://es.nextdoor.com/', 'https://au.nextdoor.com/', 'https://dk.nextdoor.com/', 'https://se.nextdoor.com/', 'https://ca.nextdoor.com/', 'https://ca.nextdoor.com/', 'https://d19rpgkrjeba2z.cloudfront.net/b9b651cc0b575574/static/nextdoorv2/images/favicons/favicon-v2.ico']\n",
      "https://nextdoor.com['https://nextdoor.com/', 'https://nextdoor.com/', 'https://nextdoor.nl/', 'https://nextdoor.co.uk/', 'https://nextdoor.de/', 'https://fr.nextdoor.com/', 'https://it.nextdoor.com/', 'https://es.nextdoor.com/', 'https://au.nextdoor.com/', 'https://dk.nextdoor.com/', 'https://se.nextdoor.com/', 'https://ca.nextdoor.com/', 'https://ca.nextdoor.com/', 'https://d19rpgkrjeba2z.cloudfront.net/b9b651cc0b575574/static/nextdoorv2/images/favicons/favicon-v2.ico']\n",
      "\n",
      "https://nextdoor.com['https://nextdoor.com/', 'https://nextdoor.com/', 'https://nextdoor.nl/', 'https://nextdoor.co.uk/', 'https://nextdoor.de/', 'https://fr.nextdoor.com/', 'https://it.nextdoor.com/', 'https://es.nextdoor.com/', 'https://au.nextdoor.com/', 'https://dk.nextdoor.com/', 'https://se.nextdoor.com/', 'https://ca.nextdoor.com/', 'https://ca.nextdoor.com/', 'https://d19rpgkrjeba2z.cloudfront.net/b9b651cc0b575574/static/nextdoorv2/images/favicons/favicon-v2.ico']\n",
      "\n"
     ]
    },
    {
     "name": "stderr",
     "output_type": "stream",
     "text": [
      "/home/dan/src/para/venv/lib/python3.6/site-packages/urllib3/connectionpool.py:1004: InsecureRequestWarning: Unverified HTTPS request is being made. Adding certificate verification is strongly advised. See: https://urllib3.readthedocs.io/en/latest/advanced-usage.html#ssl-warnings\n",
      "  InsecureRequestWarning,\n",
      "/home/dan/src/para/venv/lib/python3.6/site-packages/urllib3/connectionpool.py:1004: InsecureRequestWarning: Unverified HTTPS request is being made. Adding certificate verification is strongly advised. See: https://urllib3.readthedocs.io/en/latest/advanced-usage.html#ssl-warnings\n",
      "  InsecureRequestWarning,\n",
      "/home/dan/src/para/venv/lib/python3.6/site-packages/urllib3/connectionpool.py:1004: InsecureRequestWarning: Unverified HTTPS request is being made. Adding certificate verification is strongly advised. See: https://urllib3.readthedocs.io/en/latest/advanced-usage.html#ssl-warnings\n",
      "  InsecureRequestWarning,\n",
      "/home/dan/src/para/venv/lib/python3.6/site-packages/urllib3/connectionpool.py:1004: InsecureRequestWarning: Unverified HTTPS request is being made. Adding certificate verification is strongly advised. See: https://urllib3.readthedocs.io/en/latest/advanced-usage.html#ssl-warnings\n",
      "  InsecureRequestWarning,\n"
     ]
    },
    {
     "name": "stdout",
     "output_type": "stream",
     "text": [
      "https://nextdoor.com['https://nextdoor.com/', 'https://nextdoor.com/', 'https://nextdoor.nl/', 'https://nextdoor.co.uk/', 'https://nextdoor.de/', 'https://fr.nextdoor.com/', 'https://it.nextdoor.com/', 'https://es.nextdoor.com/', 'https://au.nextdoor.com/', 'https://dk.nextdoor.com/', 'https://se.nextdoor.com/', 'https://ca.nextdoor.com/', 'https://ca.nextdoor.com/', 'https://d19rpgkrjeba2z.cloudfront.net/b9b651cc0b575574/static/nextdoorv2/images/favicons/favicon-v2.ico']\n",
      "\n",
      "https://nextdoor.com['https://nextdoor.com/', 'https://nextdoor.com/', 'https://nextdoor.nl/', 'https://nextdoor.co.uk/', 'https://nextdoor.de/', 'https://fr.nextdoor.com/', 'https://it.nextdoor.com/', 'https://es.nextdoor.com/', 'https://au.nextdoor.com/', 'https://dk.nextdoor.com/', 'https://se.nextdoor.com/', 'https://ca.nextdoor.com/', 'https://ca.nextdoor.com/', 'https://d19rpgkrjeba2z.cloudfront.net/b9b651cc0b575574/static/nextdoorv2/images/favicons/favicon-v2.ico']\n",
      "\n",
      "https://nextdoor.com['https://nextdoor.com/', 'https://nextdoor.com/', 'https://nextdoor.nl/', 'https://nextdoor.co.uk/', 'https://nextdoor.de/', 'https://fr.nextdoor.com/', 'https://it.nextdoor.com/', 'https://es.nextdoor.com/', 'https://au.nextdoor.com/', 'https://dk.nextdoor.com/', 'https://se.nextdoor.com/', 'https://ca.nextdoor.com/', 'https://ca.nextdoor.com/', 'https://d19rpgkrjeba2z.cloudfront.net/b9b651cc0b575574/static/nextdoorv2/images/favicons/favicon-v2.ico']\n",
      "\n"
     ]
    },
    {
     "name": "stderr",
     "output_type": "stream",
     "text": [
      "/home/dan/src/para/venv/lib/python3.6/site-packages/urllib3/connectionpool.py:1004: InsecureRequestWarning: Unverified HTTPS request is being made. Adding certificate verification is strongly advised. See: https://urllib3.readthedocs.io/en/latest/advanced-usage.html#ssl-warnings\n",
      "  InsecureRequestWarning,\n",
      "/home/dan/src/para/venv/lib/python3.6/site-packages/urllib3/connectionpool.py:1004: InsecureRequestWarning: Unverified HTTPS request is being made. Adding certificate verification is strongly advised. See: https://urllib3.readthedocs.io/en/latest/advanced-usage.html#ssl-warnings\n",
      "  InsecureRequestWarning,\n",
      "/home/dan/src/para/venv/lib/python3.6/site-packages/urllib3/connectionpool.py:1004: InsecureRequestWarning: Unverified HTTPS request is being made. Adding certificate verification is strongly advised. See: https://urllib3.readthedocs.io/en/latest/advanced-usage.html#ssl-warnings\n",
      "  InsecureRequestWarning,\n",
      "/home/dan/src/para/venv/lib/python3.6/site-packages/urllib3/connectionpool.py:1004: InsecureRequestWarning: Unverified HTTPS request is being made. Adding certificate verification is strongly advised. See: https://urllib3.readthedocs.io/en/latest/advanced-usage.html#ssl-warnings\n",
      "  InsecureRequestWarning,\n",
      "/home/dan/src/para/venv/lib/python3.6/site-packages/urllib3/connectionpool.py:1004: InsecureRequestWarning: Unverified HTTPS request is being made. Adding certificate verification is strongly advised. See: https://urllib3.readthedocs.io/en/latest/advanced-usage.html#ssl-warnings\n",
      "  InsecureRequestWarning,\n",
      "/home/dan/src/para/venv/lib/python3.6/site-packages/urllib3/connectionpool.py:1004: InsecureRequestWarning: Unverified HTTPS request is being made. Adding certificate verification is strongly advised. See: https://urllib3.readthedocs.io/en/latest/advanced-usage.html#ssl-warnings\n",
      "  InsecureRequestWarning,\n",
      "/home/dan/src/para/venv/lib/python3.6/site-packages/urllib3/connectionpool.py:1004: InsecureRequestWarning: Unverified HTTPS request is being made. Adding certificate verification is strongly advised. See: https://urllib3.readthedocs.io/en/latest/advanced-usage.html#ssl-warnings\n",
      "  InsecureRequestWarning,\n",
      "/home/dan/src/para/venv/lib/python3.6/site-packages/urllib3/connectionpool.py:1004: InsecureRequestWarning: Unverified HTTPS request is being made. Adding certificate verification is strongly advised. See: https://urllib3.readthedocs.io/en/latest/advanced-usage.html#ssl-warnings\n",
      "  InsecureRequestWarning,\n"
     ]
    },
    {
     "name": "stdout",
     "output_type": "stream",
     "text": [
      "https://nextdoor.com['https://nextdoor.com/', 'https://nextdoor.com/', 'https://nextdoor.nl/', 'https://nextdoor.co.uk/', 'https://nextdoor.de/', 'https://fr.nextdoor.com/', 'https://it.nextdoor.com/', 'https://es.nextdoor.com/', 'https://au.nextdoor.com/', 'https://dk.nextdoor.com/', 'https://se.nextdoor.com/', 'https://ca.nextdoor.com/', 'https://ca.nextdoor.com/', 'https://d19rpgkrjeba2z.cloudfront.net/b9b651cc0b575574/static/nextdoorv2/images/favicons/favicon-v2.ico']\n",
      "\n",
      "https://nextdoor.com\n",
      "['https://nextdoor.com/', 'https://nextdoor.com/', 'https://nextdoor.nl/', 'https://nextdoor.co.uk/', 'https://nextdoor.de/', 'https://fr.nextdoor.com/', 'https://it.nextdoor.com/', 'https://es.nextdoor.com/', 'https://au.nextdoor.com/', 'https://dk.nextdoor.com/', 'https://se.nextdoor.com/', 'https://ca.nextdoor.com/', 'https://ca.nextdoor.com/', 'https://d19rpgkrjeba2z.cloudfront.net/b9b651cc0b575574/static/nextdoorv2/images/favicons/favicon-v2.ico']\n",
      "https://nextdoor.com['https://nextdoor.com/', 'https://nextdoor.com/', 'https://nextdoor.nl/', 'https://nextdoor.co.uk/', 'https://nextdoor.de/', 'https://fr.nextdoor.com/', 'https://it.nextdoor.com/', 'https://es.nextdoor.com/', 'https://au.nextdoor.com/', 'https://dk.nextdoor.com/', 'https://se.nextdoor.com/', 'https://ca.nextdoor.com/', 'https://ca.nextdoor.com/', 'https://d19rpgkrjeba2z.cloudfront.net/b9b651cc0b575574/static/nextdoorv2/images/favicons/favicon-v2.ico']\n",
      "\n",
      "https://nextdoor.com['https://nextdoor.com/', 'https://nextdoor.com/', 'https://nextdoor.nl/', 'https://nextdoor.co.uk/', 'https://nextdoor.de/', 'https://fr.nextdoor.com/', 'https://it.nextdoor.com/', 'https://es.nextdoor.com/', 'https://au.nextdoor.com/', 'https://dk.nextdoor.com/', 'https://se.nextdoor.com/', 'https://ca.nextdoor.com/', 'https://ca.nextdoor.com/', 'https://d19rpgkrjeba2z.cloudfront.net/b9b651cc0b575574/static/nextdoorv2/images/favicons/favicon-v2.ico']\n",
      "\n"
     ]
    },
    {
     "name": "stderr",
     "output_type": "stream",
     "text": [
      "/home/dan/src/para/venv/lib/python3.6/site-packages/urllib3/connectionpool.py:1004: InsecureRequestWarning: Unverified HTTPS request is being made. Adding certificate verification is strongly advised. See: https://urllib3.readthedocs.io/en/latest/advanced-usage.html#ssl-warnings\n",
      "  InsecureRequestWarning,\n",
      "/home/dan/src/para/venv/lib/python3.6/site-packages/urllib3/connectionpool.py:1004: InsecureRequestWarning: Unverified HTTPS request is being made. Adding certificate verification is strongly advised. See: https://urllib3.readthedocs.io/en/latest/advanced-usage.html#ssl-warnings\n",
      "  InsecureRequestWarning,\n",
      "/home/dan/src/para/venv/lib/python3.6/site-packages/urllib3/connectionpool.py:1004: InsecureRequestWarning: Unverified HTTPS request is being made. Adding certificate verification is strongly advised. See: https://urllib3.readthedocs.io/en/latest/advanced-usage.html#ssl-warnings\n",
      "  InsecureRequestWarning,\n",
      "/home/dan/src/para/venv/lib/python3.6/site-packages/urllib3/connectionpool.py:1004: InsecureRequestWarning: Unverified HTTPS request is being made. Adding certificate verification is strongly advised. See: https://urllib3.readthedocs.io/en/latest/advanced-usage.html#ssl-warnings\n",
      "  InsecureRequestWarning,\n"
     ]
    },
    {
     "name": "stdout",
     "output_type": "stream",
     "text": [
      "https://nextdoor.com['https://nextdoor.com/', 'https://nextdoor.com/', 'https://nextdoor.nl/', 'https://nextdoor.co.uk/', 'https://nextdoor.de/', 'https://fr.nextdoor.com/', 'https://it.nextdoor.com/', 'https://es.nextdoor.com/', 'https://au.nextdoor.com/', 'https://dk.nextdoor.com/', 'https://se.nextdoor.com/', 'https://ca.nextdoor.com/', 'https://ca.nextdoor.com/', 'https://d19rpgkrjeba2z.cloudfront.net/b9b651cc0b575574/static/nextdoorv2/images/favicons/favicon-v2.ico']\n",
      "\n",
      "https://nextdoor.com['https://nextdoor.com/', 'https://nextdoor.com/', 'https://nextdoor.nl/', 'https://nextdoor.co.uk/', 'https://nextdoor.de/', 'https://fr.nextdoor.com/', 'https://it.nextdoor.com/', 'https://es.nextdoor.com/', 'https://au.nextdoor.com/', 'https://dk.nextdoor.com/', 'https://se.nextdoor.com/', 'https://ca.nextdoor.com/', 'https://ca.nextdoor.com/', 'https://d19rpgkrjeba2z.cloudfront.net/b9b651cc0b575574/static/nextdoorv2/images/favicons/favicon-v2.ico']\n",
      "\n",
      "https://nextdoor.com\n",
      "['https://nextdoor.com/', 'https://nextdoor.com/', 'https://nextdoor.nl/', 'https://nextdoor.co.uk/', 'https://nextdoor.de/', 'https://fr.nextdoor.com/', 'https://it.nextdoor.com/', 'https://es.nextdoor.com/', 'https://au.nextdoor.com/', 'https://dk.nextdoor.com/', 'https://se.nextdoor.com/', 'https://ca.nextdoor.com/', 'https://ca.nextdoor.com/', 'https://d19rpgkrjeba2z.cloudfront.net/b9b651cc0b575574/static/nextdoorv2/images/favicons/favicon-v2.ico']\n",
      "https://nextdoor.com\n",
      "['https://nextdoor.com/', 'https://nextdoor.com/', 'https://nextdoor.nl/', 'https://nextdoor.co.uk/', 'https://nextdoor.de/', 'https://fr.nextdoor.com/', 'https://it.nextdoor.com/', 'https://es.nextdoor.com/', 'https://au.nextdoor.com/', 'https://dk.nextdoor.com/', 'https://se.nextdoor.com/', 'https://ca.nextdoor.com/', 'https://ca.nextdoor.com/', 'https://d19rpgkrjeba2z.cloudfront.net/b9b651cc0b575574/static/nextdoorv2/images/favicons/favicon-v2.ico']\n"
     ]
    },
    {
     "name": "stderr",
     "output_type": "stream",
     "text": [
      "/home/dan/src/para/venv/lib/python3.6/site-packages/urllib3/connectionpool.py:1004: InsecureRequestWarning: Unverified HTTPS request is being made. Adding certificate verification is strongly advised. See: https://urllib3.readthedocs.io/en/latest/advanced-usage.html#ssl-warnings\n",
      "  InsecureRequestWarning,\n",
      "/home/dan/src/para/venv/lib/python3.6/site-packages/urllib3/connectionpool.py:1004: InsecureRequestWarning: Unverified HTTPS request is being made. Adding certificate verification is strongly advised. See: https://urllib3.readthedocs.io/en/latest/advanced-usage.html#ssl-warnings\n",
      "  InsecureRequestWarning,\n",
      "/home/dan/src/para/venv/lib/python3.6/site-packages/urllib3/connectionpool.py:1004: InsecureRequestWarning: Unverified HTTPS request is being made. Adding certificate verification is strongly advised. See: https://urllib3.readthedocs.io/en/latest/advanced-usage.html#ssl-warnings\n",
      "  InsecureRequestWarning,\n",
      "/home/dan/src/para/venv/lib/python3.6/site-packages/urllib3/connectionpool.py:1004: InsecureRequestWarning: Unverified HTTPS request is being made. Adding certificate verification is strongly advised. See: https://urllib3.readthedocs.io/en/latest/advanced-usage.html#ssl-warnings\n",
      "  InsecureRequestWarning,\n",
      "/home/dan/src/para/venv/lib/python3.6/site-packages/urllib3/connectionpool.py:1004: InsecureRequestWarning: Unverified HTTPS request is being made. Adding certificate verification is strongly advised. See: https://urllib3.readthedocs.io/en/latest/advanced-usage.html#ssl-warnings\n",
      "  InsecureRequestWarning,\n",
      "/home/dan/src/para/venv/lib/python3.6/site-packages/urllib3/connectionpool.py:1004: InsecureRequestWarning: Unverified HTTPS request is being made. Adding certificate verification is strongly advised. See: https://urllib3.readthedocs.io/en/latest/advanced-usage.html#ssl-warnings\n",
      "  InsecureRequestWarning,\n"
     ]
    },
    {
     "name": "stdout",
     "output_type": "stream",
     "text": [
      "https://nextdoor.com['https://nextdoor.com/', 'https://nextdoor.com/', 'https://nextdoor.nl/', 'https://nextdoor.co.uk/', 'https://nextdoor.de/', 'https://fr.nextdoor.com/', 'https://it.nextdoor.com/', 'https://es.nextdoor.com/', 'https://au.nextdoor.com/', 'https://dk.nextdoor.com/', 'https://se.nextdoor.com/', 'https://ca.nextdoor.com/', 'https://ca.nextdoor.com/', 'https://d19rpgkrjeba2z.cloudfront.net/b9b651cc0b575574/static/nextdoorv2/images/favicons/favicon-v2.ico']\n",
      "\n",
      "https://nextdoor.com['https://nextdoor.com/', 'https://nextdoor.com/', 'https://nextdoor.nl/', 'https://nextdoor.co.uk/', 'https://nextdoor.de/', 'https://fr.nextdoor.com/', 'https://it.nextdoor.com/', 'https://es.nextdoor.com/', 'https://au.nextdoor.com/', 'https://dk.nextdoor.com/', 'https://se.nextdoor.com/', 'https://ca.nextdoor.com/', 'https://ca.nextdoor.com/', 'https://d19rpgkrjeba2z.cloudfront.net/b9b651cc0b575574/static/nextdoorv2/images/favicons/favicon-v2.ico']\n",
      "\n",
      "https://nextdoor.com['https://nextdoor.com/', 'https://nextdoor.com/', 'https://nextdoor.nl/', 'https://nextdoor.co.uk/', 'https://nextdoor.de/', 'https://fr.nextdoor.com/', 'https://it.nextdoor.com/', 'https://es.nextdoor.com/', 'https://au.nextdoor.com/', 'https://dk.nextdoor.com/', 'https://se.nextdoor.com/', 'https://ca.nextdoor.com/', 'https://ca.nextdoor.com/', 'https://d19rpgkrjeba2z.cloudfront.net/b9b651cc0b575574/static/nextdoorv2/images/favicons/favicon-v2.ico']\n",
      "\n",
      "https://nextdoor.com['https://nextdoor.com/', 'https://nextdoor.com/', 'https://nextdoor.nl/', 'https://nextdoor.co.uk/', 'https://nextdoor.de/', 'https://fr.nextdoor.com/', 'https://it.nextdoor.com/', 'https://es.nextdoor.com/', 'https://au.nextdoor.com/', 'https://dk.nextdoor.com/', 'https://se.nextdoor.com/', 'https://ca.nextdoor.com/', 'https://ca.nextdoor.com/', 'https://d19rpgkrjeba2z.cloudfront.net/b9b651cc0b575574/static/nextdoorv2/images/favicons/favicon-v2.ico']\n",
      "\n",
      "https://nextdoor.com['https://nextdoor.com/', 'https://nextdoor.com/', 'https://nextdoor.nl/', 'https://nextdoor.co.uk/', 'https://nextdoor.de/', 'https://fr.nextdoor.com/', 'https://it.nextdoor.com/', 'https://es.nextdoor.com/', 'https://au.nextdoor.com/', 'https://dk.nextdoor.com/', 'https://se.nextdoor.com/', 'https://ca.nextdoor.com/', 'https://ca.nextdoor.com/', 'https://d19rpgkrjeba2z.cloudfront.net/b9b651cc0b575574/static/nextdoorv2/images/favicons/favicon-v2.ico']\n",
      "\n",
      "https://nextdoor.com['https://nextdoor.com/', 'https://nextdoor.com/', 'https://nextdoor.nl/', 'https://nextdoor.co.uk/', 'https://nextdoor.de/', 'https://fr.nextdoor.com/', 'https://it.nextdoor.com/', 'https://es.nextdoor.com/', 'https://au.nextdoor.com/', 'https://dk.nextdoor.com/', 'https://se.nextdoor.com/', 'https://ca.nextdoor.com/', 'https://ca.nextdoor.com/', 'https://d19rpgkrjeba2z.cloudfront.net/b9b651cc0b575574/static/nextdoorv2/images/favicons/favicon-v2.ico']\n",
      "\n",
      "https://nextdoor.com['https://nextdoor.com/', 'https://nextdoor.com/', 'https://nextdoor.nl/', 'https://nextdoor.co.uk/', 'https://nextdoor.de/', 'https://fr.nextdoor.com/', 'https://it.nextdoor.com/', 'https://es.nextdoor.com/', 'https://au.nextdoor.com/', 'https://dk.nextdoor.com/', 'https://se.nextdoor.com/', 'https://ca.nextdoor.com/', 'https://ca.nextdoor.com/', 'https://d19rpgkrjeba2z.cloudfront.net/b9b651cc0b575574/static/nextdoorv2/images/favicons/favicon-v2.ico']\n",
      "\n",
      "https://nextdoor.com['https://nextdoor.com/', 'https://nextdoor.com/', 'https://nextdoor.nl/', 'https://nextdoor.co.uk/', 'https://nextdoor.de/', 'https://fr.nextdoor.com/', 'https://it.nextdoor.com/', 'https://es.nextdoor.com/', 'https://au.nextdoor.com/', 'https://dk.nextdoor.com/', 'https://se.nextdoor.com/', 'https://ca.nextdoor.com/', 'https://ca.nextdoor.com/', 'https://d19rpgkrjeba2z.cloudfront.net/b9b651cc0b575574/static/nextdoorv2/images/favicons/favicon-v2.ico']\n",
      "\n",
      "https://nextdoor.com['https://nextdoor.com/', 'https://nextdoor.com/', 'https://nextdoor.nl/', 'https://nextdoor.co.uk/', 'https://nextdoor.de/', 'https://fr.nextdoor.com/', 'https://it.nextdoor.com/', 'https://es.nextdoor.com/', 'https://au.nextdoor.com/', 'https://dk.nextdoor.com/', 'https://se.nextdoor.com/', 'https://ca.nextdoor.com/', 'https://ca.nextdoor.com/', 'https://d19rpgkrjeba2z.cloudfront.net/b9b651cc0b575574/static/nextdoorv2/images/favicons/favicon-v2.ico']\n",
      "\n"
     ]
    },
    {
     "name": "stderr",
     "output_type": "stream",
     "text": [
      "/home/dan/src/para/venv/lib/python3.6/site-packages/urllib3/connectionpool.py:1004: InsecureRequestWarning: Unverified HTTPS request is being made. Adding certificate verification is strongly advised. See: https://urllib3.readthedocs.io/en/latest/advanced-usage.html#ssl-warnings\n",
      "  InsecureRequestWarning,\n",
      "/home/dan/src/para/venv/lib/python3.6/site-packages/urllib3/connectionpool.py:1004: InsecureRequestWarning: Unverified HTTPS request is being made. Adding certificate verification is strongly advised. See: https://urllib3.readthedocs.io/en/latest/advanced-usage.html#ssl-warnings\n",
      "  InsecureRequestWarning,\n",
      "/home/dan/src/para/venv/lib/python3.6/site-packages/urllib3/connectionpool.py:1004: InsecureRequestWarning: Unverified HTTPS request is being made. Adding certificate verification is strongly advised. See: https://urllib3.readthedocs.io/en/latest/advanced-usage.html#ssl-warnings\n",
      "  InsecureRequestWarning,\n"
     ]
    },
    {
     "name": "stdout",
     "output_type": "stream",
     "text": [
      "https://nextdoor.com['https://nextdoor.com/', 'https://nextdoor.com/', 'https://nextdoor.nl/', 'https://nextdoor.co.uk/', 'https://nextdoor.de/', 'https://fr.nextdoor.com/', 'https://it.nextdoor.com/', 'https://es.nextdoor.com/', 'https://au.nextdoor.com/', 'https://dk.nextdoor.com/', 'https://se.nextdoor.com/', 'https://ca.nextdoor.com/', 'https://ca.nextdoor.com/', 'https://d19rpgkrjeba2z.cloudfront.net/b9b651cc0b575574/static/nextdoorv2/images/favicons/favicon-v2.ico']\n",
      "\n",
      "https://nextdoor.com['https://nextdoor.com/', 'https://nextdoor.com/', 'https://nextdoor.nl/', 'https://nextdoor.co.uk/', 'https://nextdoor.de/', 'https://fr.nextdoor.com/', 'https://it.nextdoor.com/', 'https://es.nextdoor.com/', 'https://au.nextdoor.com/', 'https://dk.nextdoor.com/', 'https://se.nextdoor.com/', 'https://ca.nextdoor.com/', 'https://ca.nextdoor.com/', 'https://d19rpgkrjeba2z.cloudfront.net/b9b651cc0b575574/static/nextdoorv2/images/favicons/favicon-v2.ico']\n",
      "\n",
      "https://nextdoor.com['https://nextdoor.com/', 'https://nextdoor.com/', 'https://nextdoor.nl/', 'https://nextdoor.co.uk/', 'https://nextdoor.de/', 'https://fr.nextdoor.com/', 'https://it.nextdoor.com/', 'https://es.nextdoor.com/', 'https://au.nextdoor.com/', 'https://dk.nextdoor.com/', 'https://se.nextdoor.com/', 'https://ca.nextdoor.com/', 'https://ca.nextdoor.com/', 'https://d19rpgkrjeba2z.cloudfront.net/b9b651cc0b575574/static/nextdoorv2/images/favicons/favicon-v2.ico']\n",
      "\n",
      "https://nextdoor.com['https://nextdoor.com/', 'https://nextdoor.com/', 'https://nextdoor.nl/', 'https://nextdoor.co.uk/', 'https://nextdoor.de/', 'https://fr.nextdoor.com/', 'https://it.nextdoor.com/', 'https://es.nextdoor.com/', 'https://au.nextdoor.com/', 'https://dk.nextdoor.com/', 'https://se.nextdoor.com/', 'https://ca.nextdoor.com/', 'https://ca.nextdoor.com/', 'https://d19rpgkrjeba2z.cloudfront.net/b9b651cc0b575574/static/nextdoorv2/images/favicons/favicon-v2.ico']\n",
      "\n"
     ]
    },
    {
     "name": "stderr",
     "output_type": "stream",
     "text": [
      "/home/dan/src/para/venv/lib/python3.6/site-packages/urllib3/connectionpool.py:1004: InsecureRequestWarning: Unverified HTTPS request is being made. Adding certificate verification is strongly advised. See: https://urllib3.readthedocs.io/en/latest/advanced-usage.html#ssl-warnings\n",
      "  InsecureRequestWarning,\n",
      "/home/dan/src/para/venv/lib/python3.6/site-packages/urllib3/connectionpool.py:1004: InsecureRequestWarning: Unverified HTTPS request is being made. Adding certificate verification is strongly advised. See: https://urllib3.readthedocs.io/en/latest/advanced-usage.html#ssl-warnings\n",
      "  InsecureRequestWarning,\n",
      "/home/dan/src/para/venv/lib/python3.6/site-packages/urllib3/connectionpool.py:1004: InsecureRequestWarning: Unverified HTTPS request is being made. Adding certificate verification is strongly advised. See: https://urllib3.readthedocs.io/en/latest/advanced-usage.html#ssl-warnings\n",
      "  InsecureRequestWarning,\n",
      "/home/dan/src/para/venv/lib/python3.6/site-packages/urllib3/connectionpool.py:1004: InsecureRequestWarning: Unverified HTTPS request is being made. Adding certificate verification is strongly advised. See: https://urllib3.readthedocs.io/en/latest/advanced-usage.html#ssl-warnings\n",
      "  InsecureRequestWarning,\n",
      "/home/dan/src/para/venv/lib/python3.6/site-packages/urllib3/connectionpool.py:1004: InsecureRequestWarning: Unverified HTTPS request is being made. Adding certificate verification is strongly advised. See: https://urllib3.readthedocs.io/en/latest/advanced-usage.html#ssl-warnings\n",
      "  InsecureRequestWarning,\n",
      "/home/dan/src/para/venv/lib/python3.6/site-packages/urllib3/connectionpool.py:1004: InsecureRequestWarning: Unverified HTTPS request is being made. Adding certificate verification is strongly advised. See: https://urllib3.readthedocs.io/en/latest/advanced-usage.html#ssl-warnings\n",
      "  InsecureRequestWarning,\n",
      "/home/dan/src/para/venv/lib/python3.6/site-packages/urllib3/connectionpool.py:1004: InsecureRequestWarning: Unverified HTTPS request is being made. Adding certificate verification is strongly advised. See: https://urllib3.readthedocs.io/en/latest/advanced-usage.html#ssl-warnings\n",
      "  InsecureRequestWarning,\n"
     ]
    },
    {
     "name": "stdout",
     "output_type": "stream",
     "text": [
      "https://nextdoor.com['https://nextdoor.com/', 'https://nextdoor.com/', 'https://nextdoor.nl/', 'https://nextdoor.co.uk/', 'https://nextdoor.de/', 'https://fr.nextdoor.com/', 'https://it.nextdoor.com/', 'https://es.nextdoor.com/', 'https://au.nextdoor.com/', 'https://dk.nextdoor.com/', 'https://se.nextdoor.com/', 'https://ca.nextdoor.com/', 'https://ca.nextdoor.com/', 'https://d19rpgkrjeba2z.cloudfront.net/b9b651cc0b575574/static/nextdoorv2/images/favicons/favicon-v2.ico']\n",
      "\n",
      "https://nextdoor.com['https://nextdoor.com/', 'https://nextdoor.com/', 'https://nextdoor.nl/', 'https://nextdoor.co.uk/', 'https://nextdoor.de/', 'https://fr.nextdoor.com/', 'https://it.nextdoor.com/', 'https://es.nextdoor.com/', 'https://au.nextdoor.com/', 'https://dk.nextdoor.com/', 'https://se.nextdoor.com/', 'https://ca.nextdoor.com/', 'https://ca.nextdoor.com/', 'https://d19rpgkrjeba2z.cloudfront.net/b9b651cc0b575574/static/nextdoorv2/images/favicons/favicon-v2.ico']\n",
      "\n",
      "https://nextdoor.com['https://nextdoor.com/', 'https://nextdoor.com/', 'https://nextdoor.nl/', 'https://nextdoor.co.uk/', 'https://nextdoor.de/', 'https://fr.nextdoor.com/', 'https://it.nextdoor.com/', 'https://es.nextdoor.com/', 'https://au.nextdoor.com/', 'https://dk.nextdoor.com/', 'https://se.nextdoor.com/', 'https://ca.nextdoor.com/', 'https://ca.nextdoor.com/', 'https://d19rpgkrjeba2z.cloudfront.net/b9b651cc0b575574/static/nextdoorv2/images/favicons/favicon-v2.ico']\n",
      "\n"
     ]
    },
    {
     "name": "stderr",
     "output_type": "stream",
     "text": [
      "/home/dan/src/para/venv/lib/python3.6/site-packages/urllib3/connectionpool.py:1004: InsecureRequestWarning: Unverified HTTPS request is being made. Adding certificate verification is strongly advised. See: https://urllib3.readthedocs.io/en/latest/advanced-usage.html#ssl-warnings\n",
      "  InsecureRequestWarning,\n",
      "/home/dan/src/para/venv/lib/python3.6/site-packages/urllib3/connectionpool.py:1004: InsecureRequestWarning: Unverified HTTPS request is being made. Adding certificate verification is strongly advised. See: https://urllib3.readthedocs.io/en/latest/advanced-usage.html#ssl-warnings\n",
      "  InsecureRequestWarning,\n",
      "/home/dan/src/para/venv/lib/python3.6/site-packages/urllib3/connectionpool.py:1004: InsecureRequestWarning: Unverified HTTPS request is being made. Adding certificate verification is strongly advised. See: https://urllib3.readthedocs.io/en/latest/advanced-usage.html#ssl-warnings\n",
      "  InsecureRequestWarning,\n",
      "/home/dan/src/para/venv/lib/python3.6/site-packages/urllib3/connectionpool.py:1004: InsecureRequestWarning: Unverified HTTPS request is being made. Adding certificate verification is strongly advised. See: https://urllib3.readthedocs.io/en/latest/advanced-usage.html#ssl-warnings\n",
      "  InsecureRequestWarning,\n",
      "/home/dan/src/para/venv/lib/python3.6/site-packages/urllib3/connectionpool.py:1004: InsecureRequestWarning: Unverified HTTPS request is being made. Adding certificate verification is strongly advised. See: https://urllib3.readthedocs.io/en/latest/advanced-usage.html#ssl-warnings\n",
      "  InsecureRequestWarning,\n"
     ]
    },
    {
     "name": "stdout",
     "output_type": "stream",
     "text": [
      "https://nextdoor.com['https://nextdoor.com/', 'https://nextdoor.com/', 'https://nextdoor.nl/', 'https://nextdoor.co.uk/', 'https://nextdoor.de/', 'https://fr.nextdoor.com/', 'https://it.nextdoor.com/', 'https://es.nextdoor.com/', 'https://au.nextdoor.com/', 'https://dk.nextdoor.com/', 'https://se.nextdoor.com/', 'https://ca.nextdoor.com/', 'https://ca.nextdoor.com/', 'https://d19rpgkrjeba2z.cloudfront.net/b9b651cc0b575574/static/nextdoorv2/images/favicons/favicon-v2.ico']\n",
      "\n",
      "https://nextdoor.comhttps://nextdoor.com['https://nextdoor.com/', 'https://nextdoor.com/', 'https://nextdoor.nl/', 'https://nextdoor.co.uk/', 'https://nextdoor.de/', 'https://fr.nextdoor.com/', 'https://it.nextdoor.com/', 'https://es.nextdoor.com/', 'https://au.nextdoor.com/', 'https://dk.nextdoor.com/', 'https://se.nextdoor.com/', 'https://ca.nextdoor.com/', 'https://ca.nextdoor.com/', 'https://d19rpgkrjeba2z.cloudfront.net/b9b651cc0b575574/static/nextdoorv2/images/favicons/favicon-v2.ico']\n",
      "['https://nextdoor.com/', 'https://nextdoor.com/', 'https://nextdoor.nl/', 'https://nextdoor.co.uk/', 'https://nextdoor.de/', 'https://fr.nextdoor.com/', 'https://it.nextdoor.com/', 'https://es.nextdoor.com/', 'https://au.nextdoor.com/', 'https://dk.nextdoor.com/', 'https://se.nextdoor.com/', 'https://ca.nextdoor.com/', 'https://ca.nextdoor.com/', 'https://d19rpgkrjeba2z.cloudfront.net/b9b651cc0b575574/static/nextdoorv2/images/favicons/favicon-v2.ico']\n",
      "\n",
      "\n",
      "https://nextdoor.com\n",
      "['https://nextdoor.com/', 'https://nextdoor.com/', 'https://nextdoor.nl/', 'https://nextdoor.co.uk/', 'https://nextdoor.de/', 'https://fr.nextdoor.com/', 'https://it.nextdoor.com/', 'https://es.nextdoor.com/', 'https://au.nextdoor.com/', 'https://dk.nextdoor.com/', 'https://se.nextdoor.com/', 'https://ca.nextdoor.com/', 'https://ca.nextdoor.com/', 'https://d19rpgkrjeba2z.cloudfront.net/b9b651cc0b575574/static/nextdoorv2/images/favicons/favicon-v2.ico']\n",
      "https://nextdoor.com['https://nextdoor.com/', 'https://nextdoor.com/', 'https://nextdoor.nl/', 'https://nextdoor.co.uk/', 'https://nextdoor.de/', 'https://fr.nextdoor.com/', 'https://it.nextdoor.com/', 'https://es.nextdoor.com/', 'https://au.nextdoor.com/', 'https://dk.nextdoor.com/', 'https://se.nextdoor.com/', 'https://ca.nextdoor.com/', 'https://ca.nextdoor.com/', 'https://d19rpgkrjeba2z.cloudfront.net/b9b651cc0b575574/static/nextdoorv2/images/favicons/favicon-v2.ico']\n",
      "\n",
      "https://nextdoor.com['https://nextdoor.com/', 'https://nextdoor.com/', 'https://nextdoor.nl/', 'https://nextdoor.co.uk/', 'https://nextdoor.de/', 'https://fr.nextdoor.com/', 'https://it.nextdoor.com/', 'https://es.nextdoor.com/', 'https://au.nextdoor.com/', 'https://dk.nextdoor.com/', 'https://se.nextdoor.com/', 'https://ca.nextdoor.com/', 'https://ca.nextdoor.com/', 'https://d19rpgkrjeba2z.cloudfront.net/b9b651cc0b575574/static/nextdoorv2/images/favicons/favicon-v2.ico']\n",
      "\n",
      "https://nextdoor.com['https://nextdoor.com/', 'https://nextdoor.com/', 'https://nextdoor.nl/', 'https://nextdoor.co.uk/', 'https://nextdoor.de/', 'https://fr.nextdoor.com/', 'https://it.nextdoor.com/', 'https://es.nextdoor.com/', 'https://au.nextdoor.com/', 'https://dk.nextdoor.com/', 'https://se.nextdoor.com/', 'https://ca.nextdoor.com/', 'https://ca.nextdoor.com/', 'https://d19rpgkrjeba2z.cloudfront.net/b9b651cc0b575574/static/nextdoorv2/images/favicons/favicon-v2.ico']\n",
      "\n",
      "https://nextdoor.com['https://nextdoor.com/', 'https://nextdoor.com/', 'https://nextdoor.nl/', 'https://nextdoor.co.uk/', 'https://nextdoor.de/', 'https://fr.nextdoor.com/', 'https://it.nextdoor.com/', 'https://es.nextdoor.com/', 'https://au.nextdoor.com/', 'https://dk.nextdoor.com/', 'https://se.nextdoor.com/', 'https://ca.nextdoor.com/', 'https://ca.nextdoor.com/', 'https://d19rpgkrjeba2z.cloudfront.net/b9b651cc0b575574/static/nextdoorv2/images/favicons/favicon-v2.ico']\n",
      "\n",
      "https://nextdoor.com['https://nextdoor.com/', 'https://nextdoor.com/', 'https://nextdoor.nl/', 'https://nextdoor.co.uk/', 'https://nextdoor.de/', 'https://fr.nextdoor.com/', 'https://it.nextdoor.com/', 'https://es.nextdoor.com/', 'https://au.nextdoor.com/', 'https://dk.nextdoor.com/', 'https://se.nextdoor.com/', 'https://ca.nextdoor.com/', 'https://ca.nextdoor.com/', 'https://d19rpgkrjeba2z.cloudfront.net/b9b651cc0b575574/static/nextdoorv2/images/favicons/favicon-v2.ico']\n",
      "\n",
      "https://nextdoor.com\n",
      "['https://nextdoor.com/', 'https://nextdoor.com/', 'https://nextdoor.nl/', 'https://nextdoor.co.uk/', 'https://nextdoor.de/', 'https://fr.nextdoor.com/', 'https://it.nextdoor.com/', 'https://es.nextdoor.com/', 'https://au.nextdoor.com/', 'https://dk.nextdoor.com/', 'https://se.nextdoor.com/', 'https://ca.nextdoor.com/', 'https://ca.nextdoor.com/', 'https://d19rpgkrjeba2z.cloudfront.net/b9b651cc0b575574/static/nextdoorv2/images/favicons/favicon-v2.ico']\n"
     ]
    },
    {
     "name": "stderr",
     "output_type": "stream",
     "text": [
      "/home/dan/src/para/venv/lib/python3.6/site-packages/urllib3/connectionpool.py:1004: InsecureRequestWarning: Unverified HTTPS request is being made. Adding certificate verification is strongly advised. See: https://urllib3.readthedocs.io/en/latest/advanced-usage.html#ssl-warnings\n",
      "  InsecureRequestWarning,\n",
      "/home/dan/src/para/venv/lib/python3.6/site-packages/urllib3/connectionpool.py:1004: InsecureRequestWarning: Unverified HTTPS request is being made. Adding certificate verification is strongly advised. See: https://urllib3.readthedocs.io/en/latest/advanced-usage.html#ssl-warnings\n",
      "  InsecureRequestWarning,\n",
      "/home/dan/src/para/venv/lib/python3.6/site-packages/urllib3/connectionpool.py:1004: InsecureRequestWarning: Unverified HTTPS request is being made. Adding certificate verification is strongly advised. See: https://urllib3.readthedocs.io/en/latest/advanced-usage.html#ssl-warnings\n",
      "  InsecureRequestWarning,\n",
      "/home/dan/src/para/venv/lib/python3.6/site-packages/urllib3/connectionpool.py:1004: InsecureRequestWarning: Unverified HTTPS request is being made. Adding certificate verification is strongly advised. See: https://urllib3.readthedocs.io/en/latest/advanced-usage.html#ssl-warnings\n",
      "  InsecureRequestWarning,\n",
      "/home/dan/src/para/venv/lib/python3.6/site-packages/urllib3/connectionpool.py:1004: InsecureRequestWarning: Unverified HTTPS request is being made. Adding certificate verification is strongly advised. See: https://urllib3.readthedocs.io/en/latest/advanced-usage.html#ssl-warnings\n",
      "  InsecureRequestWarning,\n"
     ]
    },
    {
     "name": "stdout",
     "output_type": "stream",
     "text": [
      "https://nextdoor.com['https://nextdoor.com/', 'https://nextdoor.com/', 'https://nextdoor.nl/', 'https://nextdoor.co.uk/', 'https://nextdoor.de/', 'https://fr.nextdoor.com/', 'https://it.nextdoor.com/', 'https://es.nextdoor.com/', 'https://au.nextdoor.com/', 'https://dk.nextdoor.com/', 'https://se.nextdoor.com/', 'https://ca.nextdoor.com/', 'https://ca.nextdoor.com/', 'https://d19rpgkrjeba2z.cloudfront.net/b9b651cc0b575574/static/nextdoorv2/images/favicons/favicon-v2.ico']\n",
      "\n",
      "https://nextdoor.com['https://nextdoor.com/', 'https://nextdoor.com/', 'https://nextdoor.nl/', 'https://nextdoor.co.uk/', 'https://nextdoor.de/', 'https://fr.nextdoor.com/', 'https://it.nextdoor.com/', 'https://es.nextdoor.com/', 'https://au.nextdoor.com/', 'https://dk.nextdoor.com/', 'https://se.nextdoor.com/', 'https://ca.nextdoor.com/', 'https://ca.nextdoor.com/', 'https://d19rpgkrjeba2z.cloudfront.net/b9b651cc0b575574/static/nextdoorv2/images/favicons/favicon-v2.ico']\n",
      "\n",
      "https://nextdoor.com['https://nextdoor.com/', 'https://nextdoor.com/', 'https://nextdoor.nl/', 'https://nextdoor.co.uk/', 'https://nextdoor.de/', 'https://fr.nextdoor.com/', 'https://it.nextdoor.com/', 'https://es.nextdoor.com/', 'https://au.nextdoor.com/', 'https://dk.nextdoor.com/', 'https://se.nextdoor.com/', 'https://ca.nextdoor.com/', 'https://ca.nextdoor.com/', 'https://d19rpgkrjeba2z.cloudfront.net/b9b651cc0b575574/static/nextdoorv2/images/favicons/favicon-v2.ico']\n",
      "\n"
     ]
    },
    {
     "name": "stderr",
     "output_type": "stream",
     "text": [
      "/home/dan/src/para/venv/lib/python3.6/site-packages/urllib3/connectionpool.py:1004: InsecureRequestWarning: Unverified HTTPS request is being made. Adding certificate verification is strongly advised. See: https://urllib3.readthedocs.io/en/latest/advanced-usage.html#ssl-warnings\n",
      "  InsecureRequestWarning,\n",
      "/home/dan/src/para/venv/lib/python3.6/site-packages/urllib3/connectionpool.py:1004: InsecureRequestWarning: Unverified HTTPS request is being made. Adding certificate verification is strongly advised. See: https://urllib3.readthedocs.io/en/latest/advanced-usage.html#ssl-warnings\n",
      "  InsecureRequestWarning,\n",
      "/home/dan/src/para/venv/lib/python3.6/site-packages/urllib3/connectionpool.py:1004: InsecureRequestWarning: Unverified HTTPS request is being made. Adding certificate verification is strongly advised. See: https://urllib3.readthedocs.io/en/latest/advanced-usage.html#ssl-warnings\n",
      "  InsecureRequestWarning,\n",
      "/home/dan/src/para/venv/lib/python3.6/site-packages/urllib3/connectionpool.py:1004: InsecureRequestWarning: Unverified HTTPS request is being made. Adding certificate verification is strongly advised. See: https://urllib3.readthedocs.io/en/latest/advanced-usage.html#ssl-warnings\n",
      "  InsecureRequestWarning,\n"
     ]
    },
    {
     "name": "stdout",
     "output_type": "stream",
     "text": [
      "https://nextdoor.com['https://nextdoor.com/', 'https://nextdoor.com/', 'https://nextdoor.nl/', 'https://nextdoor.co.uk/', 'https://nextdoor.de/', 'https://fr.nextdoor.com/', 'https://it.nextdoor.com/', 'https://es.nextdoor.com/', 'https://au.nextdoor.com/', 'https://dk.nextdoor.com/', 'https://se.nextdoor.com/', 'https://ca.nextdoor.com/', 'https://ca.nextdoor.com/', 'https://d19rpgkrjeba2z.cloudfront.net/b9b651cc0b575574/static/nextdoorv2/images/favicons/favicon-v2.ico']\n",
      "\n",
      "https://nextdoor.com['https://nextdoor.com/', 'https://nextdoor.com/', 'https://nextdoor.nl/', 'https://nextdoor.co.uk/', 'https://nextdoor.de/', 'https://fr.nextdoor.com/', 'https://it.nextdoor.com/', 'https://es.nextdoor.com/', 'https://au.nextdoor.com/', 'https://dk.nextdoor.com/', 'https://se.nextdoor.com/', 'https://ca.nextdoor.com/', 'https://ca.nextdoor.com/', 'https://d19rpgkrjeba2z.cloudfront.net/b9b651cc0b575574/static/nextdoorv2/images/favicons/favicon-v2.ico']\n",
      "\n",
      "https://nextdoor.com['https://nextdoor.com/', 'https://nextdoor.com/', 'https://nextdoor.nl/', 'https://nextdoor.co.uk/', 'https://nextdoor.de/', 'https://fr.nextdoor.com/', 'https://it.nextdoor.com/', 'https://es.nextdoor.com/', 'https://au.nextdoor.com/', 'https://dk.nextdoor.com/', 'https://se.nextdoor.com/', 'https://ca.nextdoor.com/', 'https://ca.nextdoor.com/', 'https://d19rpgkrjeba2z.cloudfront.net/b9b651cc0b575574/static/nextdoorv2/images/favicons/favicon-v2.ico']\n",
      "\n",
      "https://nextdoor.com['https://nextdoor.com/', 'https://nextdoor.com/', 'https://nextdoor.nl/', 'https://nextdoor.co.uk/', 'https://nextdoor.de/', 'https://fr.nextdoor.com/', 'https://it.nextdoor.com/', 'https://es.nextdoor.com/', 'https://au.nextdoor.com/', 'https://dk.nextdoor.com/', 'https://se.nextdoor.com/', 'https://ca.nextdoor.com/', 'https://ca.nextdoor.com/', 'https://d19rpgkrjeba2z.cloudfront.net/b9b651cc0b575574/static/nextdoorv2/images/favicons/favicon-v2.ico']\n",
      "\n"
     ]
    },
    {
     "name": "stderr",
     "output_type": "stream",
     "text": [
      "/home/dan/src/para/venv/lib/python3.6/site-packages/urllib3/connectionpool.py:1004: InsecureRequestWarning: Unverified HTTPS request is being made. Adding certificate verification is strongly advised. See: https://urllib3.readthedocs.io/en/latest/advanced-usage.html#ssl-warnings\n",
      "  InsecureRequestWarning,\n",
      "/home/dan/src/para/venv/lib/python3.6/site-packages/urllib3/connectionpool.py:1004: InsecureRequestWarning: Unverified HTTPS request is being made. Adding certificate verification is strongly advised. See: https://urllib3.readthedocs.io/en/latest/advanced-usage.html#ssl-warnings\n",
      "  InsecureRequestWarning,\n",
      "/home/dan/src/para/venv/lib/python3.6/site-packages/urllib3/connectionpool.py:1004: InsecureRequestWarning: Unverified HTTPS request is being made. Adding certificate verification is strongly advised. See: https://urllib3.readthedocs.io/en/latest/advanced-usage.html#ssl-warnings\n",
      "  InsecureRequestWarning,\n",
      "/home/dan/src/para/venv/lib/python3.6/site-packages/urllib3/connectionpool.py:1004: InsecureRequestWarning: Unverified HTTPS request is being made. Adding certificate verification is strongly advised. See: https://urllib3.readthedocs.io/en/latest/advanced-usage.html#ssl-warnings\n",
      "  InsecureRequestWarning,\n",
      "/home/dan/src/para/venv/lib/python3.6/site-packages/urllib3/connectionpool.py:1004: InsecureRequestWarning: Unverified HTTPS request is being made. Adding certificate verification is strongly advised. See: https://urllib3.readthedocs.io/en/latest/advanced-usage.html#ssl-warnings\n",
      "  InsecureRequestWarning,\n"
     ]
    },
    {
     "name": "stdout",
     "output_type": "stream",
     "text": [
      "https://nextdoor.com['https://nextdoor.com/', 'https://nextdoor.com/', 'https://nextdoor.nl/', 'https://nextdoor.co.uk/', 'https://nextdoor.de/', 'https://fr.nextdoor.com/', 'https://it.nextdoor.com/', 'https://es.nextdoor.com/', 'https://au.nextdoor.com/', 'https://dk.nextdoor.com/', 'https://se.nextdoor.com/', 'https://ca.nextdoor.com/', 'https://ca.nextdoor.com/', 'https://d19rpgkrjeba2z.cloudfront.net/b9b651cc0b575574/static/nextdoorv2/images/favicons/favicon-v2.ico']\n",
      "\n",
      "https://nextdoor.com['https://nextdoor.com/', 'https://nextdoor.com/', 'https://nextdoor.nl/', 'https://nextdoor.co.uk/', 'https://nextdoor.de/', 'https://fr.nextdoor.com/', 'https://it.nextdoor.com/', 'https://es.nextdoor.com/', 'https://au.nextdoor.com/', 'https://dk.nextdoor.com/', 'https://se.nextdoor.com/', 'https://ca.nextdoor.com/', 'https://ca.nextdoor.com/', 'https://d19rpgkrjeba2z.cloudfront.net/b9b651cc0b575574/static/nextdoorv2/images/favicons/favicon-v2.ico']\n",
      "\n",
      "https://nextdoor.com['https://nextdoor.com/', 'https://nextdoor.com/', 'https://nextdoor.nl/', 'https://nextdoor.co.uk/', 'https://nextdoor.de/', 'https://fr.nextdoor.com/', 'https://it.nextdoor.com/', 'https://es.nextdoor.com/', 'https://au.nextdoor.com/', 'https://dk.nextdoor.com/', 'https://se.nextdoor.com/', 'https://ca.nextdoor.com/', 'https://ca.nextdoor.com/', 'https://d19rpgkrjeba2z.cloudfront.net/b9b651cc0b575574/static/nextdoorv2/images/favicons/favicon-v2.ico']\n",
      "\n",
      "https://nextdoor.com['https://nextdoor.com/', 'https://nextdoor.com/', 'https://nextdoor.nl/', 'https://nextdoor.co.uk/', 'https://nextdoor.de/', 'https://fr.nextdoor.com/', 'https://it.nextdoor.com/', 'https://es.nextdoor.com/', 'https://au.nextdoor.com/', 'https://dk.nextdoor.com/', 'https://se.nextdoor.com/', 'https://ca.nextdoor.com/', 'https://ca.nextdoor.com/', 'https://d19rpgkrjeba2z.cloudfront.net/b9b651cc0b575574/static/nextdoorv2/images/favicons/favicon-v2.ico']\n",
      "\n"
     ]
    },
    {
     "name": "stderr",
     "output_type": "stream",
     "text": [
      "/home/dan/src/para/venv/lib/python3.6/site-packages/urllib3/connectionpool.py:1004: InsecureRequestWarning: Unverified HTTPS request is being made. Adding certificate verification is strongly advised. See: https://urllib3.readthedocs.io/en/latest/advanced-usage.html#ssl-warnings\n",
      "  InsecureRequestWarning,\n",
      "/home/dan/src/para/venv/lib/python3.6/site-packages/urllib3/connectionpool.py:1004: InsecureRequestWarning: Unverified HTTPS request is being made. Adding certificate verification is strongly advised. See: https://urllib3.readthedocs.io/en/latest/advanced-usage.html#ssl-warnings\n",
      "  InsecureRequestWarning,\n",
      "/home/dan/src/para/venv/lib/python3.6/site-packages/urllib3/connectionpool.py:1004: InsecureRequestWarning: Unverified HTTPS request is being made. Adding certificate verification is strongly advised. See: https://urllib3.readthedocs.io/en/latest/advanced-usage.html#ssl-warnings\n",
      "  InsecureRequestWarning,\n",
      "/home/dan/src/para/venv/lib/python3.6/site-packages/urllib3/connectionpool.py:1004: InsecureRequestWarning: Unverified HTTPS request is being made. Adding certificate verification is strongly advised. See: https://urllib3.readthedocs.io/en/latest/advanced-usage.html#ssl-warnings\n",
      "  InsecureRequestWarning,\n",
      "/home/dan/src/para/venv/lib/python3.6/site-packages/urllib3/connectionpool.py:1004: InsecureRequestWarning: Unverified HTTPS request is being made. Adding certificate verification is strongly advised. See: https://urllib3.readthedocs.io/en/latest/advanced-usage.html#ssl-warnings\n",
      "  InsecureRequestWarning,\n",
      "/home/dan/src/para/venv/lib/python3.6/site-packages/urllib3/connectionpool.py:1004: InsecureRequestWarning: Unverified HTTPS request is being made. Adding certificate verification is strongly advised. See: https://urllib3.readthedocs.io/en/latest/advanced-usage.html#ssl-warnings\n",
      "  InsecureRequestWarning,\n",
      "/home/dan/src/para/venv/lib/python3.6/site-packages/urllib3/connectionpool.py:1004: InsecureRequestWarning: Unverified HTTPS request is being made. Adding certificate verification is strongly advised. See: https://urllib3.readthedocs.io/en/latest/advanced-usage.html#ssl-warnings\n",
      "  InsecureRequestWarning,\n",
      "/home/dan/src/para/venv/lib/python3.6/site-packages/urllib3/connectionpool.py:1004: InsecureRequestWarning: Unverified HTTPS request is being made. Adding certificate verification is strongly advised. See: https://urllib3.readthedocs.io/en/latest/advanced-usage.html#ssl-warnings\n",
      "  InsecureRequestWarning,\n",
      "/home/dan/src/para/venv/lib/python3.6/site-packages/urllib3/connectionpool.py:1004: InsecureRequestWarning: Unverified HTTPS request is being made. Adding certificate verification is strongly advised. See: https://urllib3.readthedocs.io/en/latest/advanced-usage.html#ssl-warnings\n",
      "  InsecureRequestWarning,\n",
      "/home/dan/src/para/venv/lib/python3.6/site-packages/urllib3/connectionpool.py:1004: InsecureRequestWarning: Unverified HTTPS request is being made. Adding certificate verification is strongly advised. See: https://urllib3.readthedocs.io/en/latest/advanced-usage.html#ssl-warnings\n",
      "  InsecureRequestWarning,\n",
      "/home/dan/src/para/venv/lib/python3.6/site-packages/urllib3/connectionpool.py:1004: InsecureRequestWarning: Unverified HTTPS request is being made. Adding certificate verification is strongly advised. See: https://urllib3.readthedocs.io/en/latest/advanced-usage.html#ssl-warnings\n",
      "  InsecureRequestWarning,\n"
     ]
    },
    {
     "name": "stdout",
     "output_type": "stream",
     "text": [
      "https://nextdoor.com['https://nextdoor.com/', 'https://nextdoor.com/', 'https://nextdoor.nl/', 'https://nextdoor.co.uk/', 'https://nextdoor.de/', 'https://fr.nextdoor.com/', 'https://it.nextdoor.com/', 'https://es.nextdoor.com/', 'https://au.nextdoor.com/', 'https://dk.nextdoor.com/', 'https://se.nextdoor.com/', 'https://ca.nextdoor.com/', 'https://ca.nextdoor.com/', 'https://d19rpgkrjeba2z.cloudfront.net/b9b651cc0b575574/static/nextdoorv2/images/favicons/favicon-v2.ico']\n",
      "\n",
      "https://nextdoor.com['https://nextdoor.com/', 'https://nextdoor.com/', 'https://nextdoor.nl/', 'https://nextdoor.co.uk/', 'https://nextdoor.de/', 'https://fr.nextdoor.com/', 'https://it.nextdoor.com/', 'https://es.nextdoor.com/', 'https://au.nextdoor.com/', 'https://dk.nextdoor.com/', 'https://se.nextdoor.com/', 'https://ca.nextdoor.com/', 'https://ca.nextdoor.com/', 'https://d19rpgkrjeba2z.cloudfront.net/b9b651cc0b575574/static/nextdoorv2/images/favicons/favicon-v2.ico']\n",
      "\n",
      "https://nextdoor.com['https://nextdoor.com/', 'https://nextdoor.com/', 'https://nextdoor.nl/', 'https://nextdoor.co.uk/', 'https://nextdoor.de/', 'https://fr.nextdoor.com/', 'https://it.nextdoor.com/', 'https://es.nextdoor.com/', 'https://au.nextdoor.com/', 'https://dk.nextdoor.com/', 'https://se.nextdoor.com/', 'https://ca.nextdoor.com/', 'https://ca.nextdoor.com/', 'https://d19rpgkrjeba2z.cloudfront.net/b9b651cc0b575574/static/nextdoorv2/images/favicons/favicon-v2.ico']\n",
      "\n",
      "https://nextdoor.com['https://nextdoor.com/', 'https://nextdoor.com/', 'https://nextdoor.nl/', 'https://nextdoor.co.uk/', 'https://nextdoor.de/', 'https://fr.nextdoor.com/', 'https://it.nextdoor.com/', 'https://es.nextdoor.com/', 'https://au.nextdoor.com/', 'https://dk.nextdoor.com/', 'https://se.nextdoor.com/', 'https://ca.nextdoor.com/', 'https://ca.nextdoor.com/', 'https://d19rpgkrjeba2z.cloudfront.net/b9b651cc0b575574/static/nextdoorv2/images/favicons/favicon-v2.ico']\n",
      "\n",
      "https://nextdoor.com['https://nextdoor.com/', 'https://nextdoor.com/', 'https://nextdoor.nl/', 'https://nextdoor.co.uk/', 'https://nextdoor.de/', 'https://fr.nextdoor.com/', 'https://it.nextdoor.com/', 'https://es.nextdoor.com/', 'https://au.nextdoor.com/', 'https://dk.nextdoor.com/', 'https://se.nextdoor.com/', 'https://ca.nextdoor.com/', 'https://ca.nextdoor.com/', 'https://d19rpgkrjeba2z.cloudfront.net/b9b651cc0b575574/static/nextdoorv2/images/favicons/favicon-v2.ico']\n",
      "\n",
      "https://nextdoor.com['https://nextdoor.com/', 'https://nextdoor.com/', 'https://nextdoor.nl/', 'https://nextdoor.co.uk/', 'https://nextdoor.de/', 'https://fr.nextdoor.com/', 'https://it.nextdoor.com/', 'https://es.nextdoor.com/', 'https://au.nextdoor.com/', 'https://dk.nextdoor.com/', 'https://se.nextdoor.com/', 'https://ca.nextdoor.com/', 'https://ca.nextdoor.com/', 'https://d19rpgkrjeba2z.cloudfront.net/b9b651cc0b575574/static/nextdoorv2/images/favicons/favicon-v2.ico']\n",
      "\n",
      "https://nextdoor.com['https://nextdoor.com/', 'https://nextdoor.com/', 'https://nextdoor.nl/', 'https://nextdoor.co.uk/', 'https://nextdoor.de/', 'https://fr.nextdoor.com/', 'https://it.nextdoor.com/', 'https://es.nextdoor.com/', 'https://au.nextdoor.com/', 'https://dk.nextdoor.com/', 'https://se.nextdoor.com/', 'https://ca.nextdoor.com/', 'https://ca.nextdoor.com/', 'https://d19rpgkrjeba2z.cloudfront.net/b9b651cc0b575574/static/nextdoorv2/images/favicons/favicon-v2.ico']\n",
      "\n",
      "https://nextdoor.com['https://nextdoor.com/', 'https://nextdoor.com/', 'https://nextdoor.nl/', 'https://nextdoor.co.uk/', 'https://nextdoor.de/', 'https://fr.nextdoor.com/', 'https://it.nextdoor.com/', 'https://es.nextdoor.com/', 'https://au.nextdoor.com/', 'https://dk.nextdoor.com/', 'https://se.nextdoor.com/', 'https://ca.nextdoor.com/', 'https://ca.nextdoor.com/', 'https://d19rpgkrjeba2z.cloudfront.net/b9b651cc0b575574/static/nextdoorv2/images/favicons/favicon-v2.ico']\n",
      "\n",
      "https://nextdoor.com['https://nextdoor.com/', 'https://nextdoor.com/', 'https://nextdoor.nl/', 'https://nextdoor.co.uk/', 'https://nextdoor.de/', 'https://fr.nextdoor.com/', 'https://it.nextdoor.com/', 'https://es.nextdoor.com/', 'https://au.nextdoor.com/', 'https://dk.nextdoor.com/', 'https://se.nextdoor.com/', 'https://ca.nextdoor.com/', 'https://ca.nextdoor.com/', 'https://d19rpgkrjeba2z.cloudfront.net/b9b651cc0b575574/static/nextdoorv2/images/favicons/favicon-v2.ico']\n",
      "\n",
      "https://nextdoor.com['https://nextdoor.com/', 'https://nextdoor.com/', 'https://nextdoor.nl/', 'https://nextdoor.co.uk/', 'https://nextdoor.de/', 'https://fr.nextdoor.com/', 'https://it.nextdoor.com/', 'https://es.nextdoor.com/', 'https://au.nextdoor.com/', 'https://dk.nextdoor.com/', 'https://se.nextdoor.com/', 'https://ca.nextdoor.com/', 'https://ca.nextdoor.com/', 'https://d19rpgkrjeba2z.cloudfront.net/b9b651cc0b575574/static/nextdoorv2/images/favicons/favicon-v2.ico']\n",
      "\n",
      "https://nextdoor.com['https://nextdoor.com/', 'https://nextdoor.com/', 'https://nextdoor.nl/', 'https://nextdoor.co.uk/', 'https://nextdoor.de/', 'https://fr.nextdoor.com/', 'https://it.nextdoor.com/', 'https://es.nextdoor.com/', 'https://au.nextdoor.com/', 'https://dk.nextdoor.com/', 'https://se.nextdoor.com/', 'https://ca.nextdoor.com/', 'https://ca.nextdoor.com/', 'https://d19rpgkrjeba2z.cloudfront.net/b9b651cc0b575574/static/nextdoorv2/images/favicons/favicon-v2.ico']\n",
      "\n",
      "https://nextdoor.com['https://nextdoor.com/', 'https://nextdoor.com/', 'https://nextdoor.nl/', 'https://nextdoor.co.uk/', 'https://nextdoor.de/', 'https://fr.nextdoor.com/', 'https://it.nextdoor.com/', 'https://es.nextdoor.com/', 'https://au.nextdoor.com/', 'https://dk.nextdoor.com/', 'https://se.nextdoor.com/', 'https://ca.nextdoor.com/', 'https://ca.nextdoor.com/', 'https://d19rpgkrjeba2z.cloudfront.net/b9b651cc0b575574/static/nextdoorv2/images/favicons/favicon-v2.ico']\n",
      "\n"
     ]
    },
    {
     "name": "stderr",
     "output_type": "stream",
     "text": [
      "/home/dan/src/para/venv/lib/python3.6/site-packages/urllib3/connectionpool.py:1004: InsecureRequestWarning: Unverified HTTPS request is being made. Adding certificate verification is strongly advised. See: https://urllib3.readthedocs.io/en/latest/advanced-usage.html#ssl-warnings\n",
      "  InsecureRequestWarning,\n",
      "/home/dan/src/para/venv/lib/python3.6/site-packages/urllib3/connectionpool.py:1004: InsecureRequestWarning: Unverified HTTPS request is being made. Adding certificate verification is strongly advised. See: https://urllib3.readthedocs.io/en/latest/advanced-usage.html#ssl-warnings\n",
      "  InsecureRequestWarning,\n",
      "/home/dan/src/para/venv/lib/python3.6/site-packages/urllib3/connectionpool.py:1004: InsecureRequestWarning: Unverified HTTPS request is being made. Adding certificate verification is strongly advised. See: https://urllib3.readthedocs.io/en/latest/advanced-usage.html#ssl-warnings\n",
      "  InsecureRequestWarning,\n",
      "/home/dan/src/para/venv/lib/python3.6/site-packages/urllib3/connectionpool.py:1004: InsecureRequestWarning: Unverified HTTPS request is being made. Adding certificate verification is strongly advised. See: https://urllib3.readthedocs.io/en/latest/advanced-usage.html#ssl-warnings\n",
      "  InsecureRequestWarning,\n",
      "/home/dan/src/para/venv/lib/python3.6/site-packages/urllib3/connectionpool.py:1004: InsecureRequestWarning: Unverified HTTPS request is being made. Adding certificate verification is strongly advised. See: https://urllib3.readthedocs.io/en/latest/advanced-usage.html#ssl-warnings\n",
      "  InsecureRequestWarning,\n",
      "/home/dan/src/para/venv/lib/python3.6/site-packages/urllib3/connectionpool.py:1004: InsecureRequestWarning: Unverified HTTPS request is being made. Adding certificate verification is strongly advised. See: https://urllib3.readthedocs.io/en/latest/advanced-usage.html#ssl-warnings\n",
      "  InsecureRequestWarning,\n",
      "/home/dan/src/para/venv/lib/python3.6/site-packages/urllib3/connectionpool.py:1004: InsecureRequestWarning: Unverified HTTPS request is being made. Adding certificate verification is strongly advised. See: https://urllib3.readthedocs.io/en/latest/advanced-usage.html#ssl-warnings\n",
      "  InsecureRequestWarning,\n"
     ]
    },
    {
     "name": "stdout",
     "output_type": "stream",
     "text": [
      "https://nextdoor.com['https://nextdoor.com/', 'https://nextdoor.com/', 'https://nextdoor.nl/', 'https://nextdoor.co.uk/', 'https://nextdoor.de/', 'https://fr.nextdoor.com/', 'https://it.nextdoor.com/', 'https://es.nextdoor.com/', 'https://au.nextdoor.com/', 'https://dk.nextdoor.com/', 'https://se.nextdoor.com/', 'https://ca.nextdoor.com/', 'https://ca.nextdoor.com/', 'https://d19rpgkrjeba2z.cloudfront.net/b9b651cc0b575574/static/nextdoorv2/images/favicons/favicon-v2.ico']\n",
      "\n",
      "https://nextdoor.comhttps://nextdoor.com['https://nextdoor.com/', 'https://nextdoor.com/', 'https://nextdoor.nl/', 'https://nextdoor.co.uk/', 'https://nextdoor.de/', 'https://fr.nextdoor.com/', 'https://it.nextdoor.com/', 'https://es.nextdoor.com/', 'https://au.nextdoor.com/', 'https://dk.nextdoor.com/', 'https://se.nextdoor.com/', 'https://ca.nextdoor.com/', 'https://ca.nextdoor.com/', 'https://d19rpgkrjeba2z.cloudfront.net/b9b651cc0b575574/static/nextdoorv2/images/favicons/favicon-v2.ico']\n",
      "\n",
      "\n",
      "['https://nextdoor.com/', 'https://nextdoor.com/', 'https://nextdoor.nl/', 'https://nextdoor.co.uk/', 'https://nextdoor.de/', 'https://fr.nextdoor.com/', 'https://it.nextdoor.com/', 'https://es.nextdoor.com/', 'https://au.nextdoor.com/', 'https://dk.nextdoor.com/', 'https://se.nextdoor.com/', 'https://ca.nextdoor.com/', 'https://ca.nextdoor.com/', 'https://d19rpgkrjeba2z.cloudfront.net/b9b651cc0b575574/static/nextdoorv2/images/favicons/favicon-v2.ico']\n",
      "https://nextdoor.com['https://nextdoor.com/', 'https://nextdoor.com/', 'https://nextdoor.nl/', 'https://nextdoor.co.uk/', 'https://nextdoor.de/', 'https://fr.nextdoor.com/', 'https://it.nextdoor.com/', 'https://es.nextdoor.com/', 'https://au.nextdoor.com/', 'https://dk.nextdoor.com/', 'https://se.nextdoor.com/', 'https://ca.nextdoor.com/', 'https://ca.nextdoor.com/', 'https://d19rpgkrjeba2z.cloudfront.net/b9b651cc0b575574/static/nextdoorv2/images/favicons/favicon-v2.ico']\n",
      "\n",
      "https://nextdoor.com['https://nextdoor.com/', 'https://nextdoor.com/', 'https://nextdoor.nl/', 'https://nextdoor.co.uk/', 'https://nextdoor.de/', 'https://fr.nextdoor.com/', 'https://it.nextdoor.com/', 'https://es.nextdoor.com/', 'https://au.nextdoor.com/', 'https://dk.nextdoor.com/', 'https://se.nextdoor.com/', 'https://ca.nextdoor.com/', 'https://ca.nextdoor.com/', 'https://d19rpgkrjeba2z.cloudfront.net/b9b651cc0b575574/static/nextdoorv2/images/favicons/favicon-v2.ico']\n",
      "\n"
     ]
    },
    {
     "name": "stderr",
     "output_type": "stream",
     "text": [
      "/home/dan/src/para/venv/lib/python3.6/site-packages/urllib3/connectionpool.py:1004: InsecureRequestWarning: Unverified HTTPS request is being made. Adding certificate verification is strongly advised. See: https://urllib3.readthedocs.io/en/latest/advanced-usage.html#ssl-warnings\n",
      "  InsecureRequestWarning,\n",
      "/home/dan/src/para/venv/lib/python3.6/site-packages/urllib3/connectionpool.py:1004: InsecureRequestWarning: Unverified HTTPS request is being made. Adding certificate verification is strongly advised. See: https://urllib3.readthedocs.io/en/latest/advanced-usage.html#ssl-warnings\n",
      "  InsecureRequestWarning,\n",
      "/home/dan/src/para/venv/lib/python3.6/site-packages/urllib3/connectionpool.py:1004: InsecureRequestWarning: Unverified HTTPS request is being made. Adding certificate verification is strongly advised. See: https://urllib3.readthedocs.io/en/latest/advanced-usage.html#ssl-warnings\n",
      "  InsecureRequestWarning,\n",
      "/home/dan/src/para/venv/lib/python3.6/site-packages/urllib3/connectionpool.py:1004: InsecureRequestWarning: Unverified HTTPS request is being made. Adding certificate verification is strongly advised. See: https://urllib3.readthedocs.io/en/latest/advanced-usage.html#ssl-warnings\n",
      "  InsecureRequestWarning,\n"
     ]
    },
    {
     "name": "stdout",
     "output_type": "stream",
     "text": [
      "https://nextdoor.com['https://nextdoor.com/', 'https://nextdoor.com/', 'https://nextdoor.nl/', 'https://nextdoor.co.uk/', 'https://nextdoor.de/', 'https://fr.nextdoor.com/', 'https://it.nextdoor.com/', 'https://es.nextdoor.com/', 'https://au.nextdoor.com/', 'https://dk.nextdoor.com/', 'https://se.nextdoor.com/', 'https://ca.nextdoor.com/', 'https://ca.nextdoor.com/', 'https://d19rpgkrjeba2z.cloudfront.net/b9b651cc0b575574/static/nextdoorv2/images/favicons/favicon-v2.ico']\n",
      "\n",
      "https://nextdoor.com['https://nextdoor.com/', 'https://nextdoor.com/', 'https://nextdoor.nl/', 'https://nextdoor.co.uk/', 'https://nextdoor.de/', 'https://fr.nextdoor.com/', 'https://it.nextdoor.com/', 'https://es.nextdoor.com/', 'https://au.nextdoor.com/', 'https://dk.nextdoor.com/', 'https://se.nextdoor.com/', 'https://ca.nextdoor.com/', 'https://ca.nextdoor.com/', 'https://d19rpgkrjeba2z.cloudfront.net/b9b651cc0b575574/static/nextdoorv2/images/favicons/favicon-v2.ico']\n",
      "\n",
      "https://nextdoor.com['https://nextdoor.com/', 'https://nextdoor.com/', 'https://nextdoor.nl/', 'https://nextdoor.co.uk/', 'https://nextdoor.de/', 'https://fr.nextdoor.com/', 'https://it.nextdoor.com/', 'https://es.nextdoor.com/', 'https://au.nextdoor.com/', 'https://dk.nextdoor.com/', 'https://se.nextdoor.com/', 'https://ca.nextdoor.com/', 'https://ca.nextdoor.com/', 'https://d19rpgkrjeba2z.cloudfront.net/b9b651cc0b575574/static/nextdoorv2/images/favicons/favicon-v2.ico']\n",
      "\n"
     ]
    },
    {
     "name": "stderr",
     "output_type": "stream",
     "text": [
      "/home/dan/src/para/venv/lib/python3.6/site-packages/urllib3/connectionpool.py:1004: InsecureRequestWarning: Unverified HTTPS request is being made. Adding certificate verification is strongly advised. See: https://urllib3.readthedocs.io/en/latest/advanced-usage.html#ssl-warnings\n",
      "  InsecureRequestWarning,\n",
      "/home/dan/src/para/venv/lib/python3.6/site-packages/urllib3/connectionpool.py:1004: InsecureRequestWarning: Unverified HTTPS request is being made. Adding certificate verification is strongly advised. See: https://urllib3.readthedocs.io/en/latest/advanced-usage.html#ssl-warnings\n",
      "  InsecureRequestWarning,\n",
      "/home/dan/src/para/venv/lib/python3.6/site-packages/urllib3/connectionpool.py:1004: InsecureRequestWarning: Unverified HTTPS request is being made. Adding certificate verification is strongly advised. See: https://urllib3.readthedocs.io/en/latest/advanced-usage.html#ssl-warnings\n",
      "  InsecureRequestWarning,\n"
     ]
    },
    {
     "name": "stdout",
     "output_type": "stream",
     "text": [
      "https://nextdoor.com\n",
      "['https://nextdoor.com/', 'https://nextdoor.com/', 'https://nextdoor.nl/', 'https://nextdoor.co.uk/', 'https://nextdoor.de/', 'https://fr.nextdoor.com/', 'https://it.nextdoor.com/', 'https://es.nextdoor.com/', 'https://au.nextdoor.com/', 'https://dk.nextdoor.com/', 'https://se.nextdoor.com/', 'https://ca.nextdoor.com/', 'https://ca.nextdoor.com/', 'https://d19rpgkrjeba2z.cloudfront.net/b9b651cc0b575574/static/nextdoorv2/images/favicons/favicon-v2.ico']\n",
      "https://nextdoor.com['https://nextdoor.com/', 'https://nextdoor.com/', 'https://nextdoor.nl/', 'https://nextdoor.co.uk/', 'https://nextdoor.de/', 'https://fr.nextdoor.com/', 'https://it.nextdoor.com/', 'https://es.nextdoor.com/', 'https://au.nextdoor.com/', 'https://dk.nextdoor.com/', 'https://se.nextdoor.com/', 'https://ca.nextdoor.com/', 'https://ca.nextdoor.com/', 'https://d19rpgkrjeba2z.cloudfront.net/b9b651cc0b575574/static/nextdoorv2/images/favicons/favicon-v2.ico']\n",
      "\n",
      "https://nextdoor.com\n",
      "['https://nextdoor.com/', 'https://nextdoor.com/', 'https://nextdoor.nl/', 'https://nextdoor.co.uk/', 'https://nextdoor.de/', 'https://fr.nextdoor.com/', 'https://it.nextdoor.com/', 'https://es.nextdoor.com/', 'https://au.nextdoor.com/', 'https://dk.nextdoor.com/', 'https://se.nextdoor.com/', 'https://ca.nextdoor.com/', 'https://ca.nextdoor.com/', 'https://d19rpgkrjeba2z.cloudfront.net/b9b651cc0b575574/static/nextdoorv2/images/favicons/favicon-v2.ico']\n"
     ]
    },
    {
     "name": "stderr",
     "output_type": "stream",
     "text": [
      "/home/dan/src/para/venv/lib/python3.6/site-packages/urllib3/connectionpool.py:1004: InsecureRequestWarning: Unverified HTTPS request is being made. Adding certificate verification is strongly advised. See: https://urllib3.readthedocs.io/en/latest/advanced-usage.html#ssl-warnings\n",
      "  InsecureRequestWarning,\n",
      "/home/dan/src/para/venv/lib/python3.6/site-packages/urllib3/connectionpool.py:1004: InsecureRequestWarning: Unverified HTTPS request is being made. Adding certificate verification is strongly advised. See: https://urllib3.readthedocs.io/en/latest/advanced-usage.html#ssl-warnings\n",
      "  InsecureRequestWarning,\n",
      "/home/dan/src/para/venv/lib/python3.6/site-packages/urllib3/connectionpool.py:1004: InsecureRequestWarning: Unverified HTTPS request is being made. Adding certificate verification is strongly advised. See: https://urllib3.readthedocs.io/en/latest/advanced-usage.html#ssl-warnings\n",
      "  InsecureRequestWarning,\n",
      "/home/dan/src/para/venv/lib/python3.6/site-packages/urllib3/connectionpool.py:1004: InsecureRequestWarning: Unverified HTTPS request is being made. Adding certificate verification is strongly advised. See: https://urllib3.readthedocs.io/en/latest/advanced-usage.html#ssl-warnings\n",
      "  InsecureRequestWarning,\n",
      "/home/dan/src/para/venv/lib/python3.6/site-packages/urllib3/connectionpool.py:1004: InsecureRequestWarning: Unverified HTTPS request is being made. Adding certificate verification is strongly advised. See: https://urllib3.readthedocs.io/en/latest/advanced-usage.html#ssl-warnings\n",
      "  InsecureRequestWarning,\n",
      "/home/dan/src/para/venv/lib/python3.6/site-packages/urllib3/connectionpool.py:1004: InsecureRequestWarning: Unverified HTTPS request is being made. Adding certificate verification is strongly advised. See: https://urllib3.readthedocs.io/en/latest/advanced-usage.html#ssl-warnings\n",
      "  InsecureRequestWarning,\n"
     ]
    },
    {
     "name": "stdout",
     "output_type": "stream",
     "text": [
      "https://nextdoor.com['https://nextdoor.com/', 'https://nextdoor.com/', 'https://nextdoor.nl/', 'https://nextdoor.co.uk/', 'https://nextdoor.de/', 'https://fr.nextdoor.com/', 'https://it.nextdoor.com/', 'https://es.nextdoor.com/', 'https://au.nextdoor.com/', 'https://dk.nextdoor.com/', 'https://se.nextdoor.com/', 'https://ca.nextdoor.com/', 'https://ca.nextdoor.com/', 'https://d19rpgkrjeba2z.cloudfront.net/b9b651cc0b575574/static/nextdoorv2/images/favicons/favicon-v2.ico']\n",
      "\n",
      "https://nextdoor.com['https://nextdoor.com/', 'https://nextdoor.com/', 'https://nextdoor.nl/', 'https://nextdoor.co.uk/', 'https://nextdoor.de/', 'https://fr.nextdoor.com/', 'https://it.nextdoor.com/', 'https://es.nextdoor.com/', 'https://au.nextdoor.com/', 'https://dk.nextdoor.com/', 'https://se.nextdoor.com/', 'https://ca.nextdoor.com/', 'https://ca.nextdoor.com/', 'https://d19rpgkrjeba2z.cloudfront.net/b9b651cc0b575574/static/nextdoorv2/images/favicons/favicon-v2.ico']\n",
      "\n",
      "https://nextdoor.comhttps://nextdoor.com['https://nextdoor.com/', 'https://nextdoor.com/', 'https://nextdoor.nl/', 'https://nextdoor.co.uk/', 'https://nextdoor.de/', 'https://fr.nextdoor.com/', 'https://it.nextdoor.com/', 'https://es.nextdoor.com/', 'https://au.nextdoor.com/', 'https://dk.nextdoor.com/', 'https://se.nextdoor.com/', 'https://ca.nextdoor.com/', 'https://ca.nextdoor.com/', 'https://d19rpgkrjeba2z.cloudfront.net/b9b651cc0b575574/static/nextdoorv2/images/favicons/favicon-v2.ico']\n",
      "\n",
      "\n",
      "['https://nextdoor.com/', 'https://nextdoor.com/', 'https://nextdoor.nl/', 'https://nextdoor.co.uk/', 'https://nextdoor.de/', 'https://fr.nextdoor.com/', 'https://it.nextdoor.com/', 'https://es.nextdoor.com/', 'https://au.nextdoor.com/', 'https://dk.nextdoor.com/', 'https://se.nextdoor.com/', 'https://ca.nextdoor.com/', 'https://ca.nextdoor.com/', 'https://d19rpgkrjeba2z.cloudfront.net/b9b651cc0b575574/static/nextdoorv2/images/favicons/favicon-v2.ico']\n"
     ]
    },
    {
     "name": "stderr",
     "output_type": "stream",
     "text": [
      "/home/dan/src/para/venv/lib/python3.6/site-packages/urllib3/connectionpool.py:1004: InsecureRequestWarning: Unverified HTTPS request is being made. Adding certificate verification is strongly advised. See: https://urllib3.readthedocs.io/en/latest/advanced-usage.html#ssl-warnings\n",
      "  InsecureRequestWarning,\n",
      "/home/dan/src/para/venv/lib/python3.6/site-packages/urllib3/connectionpool.py:1004: InsecureRequestWarning: Unverified HTTPS request is being made. Adding certificate verification is strongly advised. See: https://urllib3.readthedocs.io/en/latest/advanced-usage.html#ssl-warnings\n",
      "  InsecureRequestWarning,\n",
      "/home/dan/src/para/venv/lib/python3.6/site-packages/urllib3/connectionpool.py:1004: InsecureRequestWarning: Unverified HTTPS request is being made. Adding certificate verification is strongly advised. See: https://urllib3.readthedocs.io/en/latest/advanced-usage.html#ssl-warnings\n",
      "  InsecureRequestWarning,\n",
      "/home/dan/src/para/venv/lib/python3.6/site-packages/urllib3/connectionpool.py:1004: InsecureRequestWarning: Unverified HTTPS request is being made. Adding certificate verification is strongly advised. See: https://urllib3.readthedocs.io/en/latest/advanced-usage.html#ssl-warnings\n",
      "  InsecureRequestWarning,\n",
      "/home/dan/src/para/venv/lib/python3.6/site-packages/urllib3/connectionpool.py:1004: InsecureRequestWarning: Unverified HTTPS request is being made. Adding certificate verification is strongly advised. See: https://urllib3.readthedocs.io/en/latest/advanced-usage.html#ssl-warnings\n",
      "  InsecureRequestWarning,\n"
     ]
    },
    {
     "name": "stdout",
     "output_type": "stream",
     "text": [
      "https://nextdoor.com['https://nextdoor.com/', 'https://nextdoor.com/', 'https://nextdoor.nl/', 'https://nextdoor.co.uk/', 'https://nextdoor.de/', 'https://fr.nextdoor.com/', 'https://it.nextdoor.com/', 'https://es.nextdoor.com/', 'https://au.nextdoor.com/', 'https://dk.nextdoor.com/', 'https://se.nextdoor.com/', 'https://ca.nextdoor.com/', 'https://ca.nextdoor.com/', 'https://d19rpgkrjeba2z.cloudfront.net/b9b651cc0b575574/static/nextdoorv2/images/favicons/favicon-v2.ico']\n",
      "\n",
      "https://nextdoor.com['https://nextdoor.com/', 'https://nextdoor.com/', 'https://nextdoor.nl/', 'https://nextdoor.co.uk/', 'https://nextdoor.de/', 'https://fr.nextdoor.com/', 'https://it.nextdoor.com/', 'https://es.nextdoor.com/', 'https://au.nextdoor.com/', 'https://dk.nextdoor.com/', 'https://se.nextdoor.com/', 'https://ca.nextdoor.com/', 'https://ca.nextdoor.com/', 'https://d19rpgkrjeba2z.cloudfront.net/b9b651cc0b575574/static/nextdoorv2/images/favicons/favicon-v2.ico']\n",
      "\n",
      "https://nextdoor.com['https://nextdoor.com/', 'https://nextdoor.com/', 'https://nextdoor.nl/', 'https://nextdoor.co.uk/', 'https://nextdoor.de/', 'https://fr.nextdoor.com/', 'https://it.nextdoor.com/', 'https://es.nextdoor.com/', 'https://au.nextdoor.com/', 'https://dk.nextdoor.com/', 'https://se.nextdoor.com/', 'https://ca.nextdoor.com/', 'https://ca.nextdoor.com/', 'https://d19rpgkrjeba2z.cloudfront.net/b9b651cc0b575574/static/nextdoorv2/images/favicons/favicon-v2.ico']\n",
      "\n"
     ]
    },
    {
     "name": "stderr",
     "output_type": "stream",
     "text": [
      "/home/dan/src/para/venv/lib/python3.6/site-packages/urllib3/connectionpool.py:1004: InsecureRequestWarning: Unverified HTTPS request is being made. Adding certificate verification is strongly advised. See: https://urllib3.readthedocs.io/en/latest/advanced-usage.html#ssl-warnings\n",
      "  InsecureRequestWarning,\n",
      "/home/dan/src/para/venv/lib/python3.6/site-packages/urllib3/connectionpool.py:1004: InsecureRequestWarning: Unverified HTTPS request is being made. Adding certificate verification is strongly advised. See: https://urllib3.readthedocs.io/en/latest/advanced-usage.html#ssl-warnings\n",
      "  InsecureRequestWarning,\n"
     ]
    },
    {
     "name": "stdout",
     "output_type": "stream",
     "text": [
      "https://nextdoor.com['https://nextdoor.com/', 'https://nextdoor.com/', 'https://nextdoor.nl/', 'https://nextdoor.co.uk/', 'https://nextdoor.de/', 'https://fr.nextdoor.com/', 'https://it.nextdoor.com/', 'https://es.nextdoor.com/', 'https://au.nextdoor.com/', 'https://dk.nextdoor.com/', 'https://se.nextdoor.com/', 'https://ca.nextdoor.com/', 'https://ca.nextdoor.com/', 'https://d19rpgkrjeba2z.cloudfront.net/b9b651cc0b575574/static/nextdoorv2/images/favicons/favicon-v2.ico']\n",
      "\n",
      "https://nextdoor.com\n",
      "['https://nextdoor.com/', 'https://nextdoor.com/', 'https://nextdoor.nl/', 'https://nextdoor.co.uk/', 'https://nextdoor.de/', 'https://fr.nextdoor.com/', 'https://it.nextdoor.com/', 'https://es.nextdoor.com/', 'https://au.nextdoor.com/', 'https://dk.nextdoor.com/', 'https://se.nextdoor.com/', 'https://ca.nextdoor.com/', 'https://ca.nextdoor.com/', 'https://d19rpgkrjeba2z.cloudfront.net/b9b651cc0b575574/static/nextdoorv2/images/favicons/favicon-v2.ico']\n",
      "https://nextdoor.com\n",
      "['https://nextdoor.com/', 'https://nextdoor.com/', 'https://nextdoor.nl/', 'https://nextdoor.co.uk/', 'https://nextdoor.de/', 'https://fr.nextdoor.com/', 'https://it.nextdoor.com/', 'https://es.nextdoor.com/', 'https://au.nextdoor.com/', 'https://dk.nextdoor.com/', 'https://se.nextdoor.com/', 'https://ca.nextdoor.com/', 'https://ca.nextdoor.com/', 'https://d19rpgkrjeba2z.cloudfront.net/b9b651cc0b575574/static/nextdoorv2/images/favicons/favicon-v2.ico']\n",
      "https://nextdoor.com\n",
      "https://nextdoor.com['https://nextdoor.com/', 'https://nextdoor.com/', 'https://nextdoor.nl/', 'https://nextdoor.co.uk/', 'https://nextdoor.de/', 'https://fr.nextdoor.com/', 'https://it.nextdoor.com/', 'https://es.nextdoor.com/', 'https://au.nextdoor.com/', 'https://dk.nextdoor.com/', 'https://se.nextdoor.com/', 'https://ca.nextdoor.com/', 'https://ca.nextdoor.com/', 'https://d19rpgkrjeba2z.cloudfront.net/b9b651cc0b575574/static/nextdoorv2/images/favicons/favicon-v2.ico']\n",
      "\n",
      "https://nextdoor.com['https://nextdoor.com/', 'https://nextdoor.com/', 'https://nextdoor.nl/', 'https://nextdoor.co.uk/', 'https://nextdoor.de/', 'https://fr.nextdoor.com/', 'https://it.nextdoor.com/', 'https://es.nextdoor.com/', 'https://au.nextdoor.com/', 'https://dk.nextdoor.com/', 'https://se.nextdoor.com/', 'https://ca.nextdoor.com/', 'https://ca.nextdoor.com/', 'https://d19rpgkrjeba2z.cloudfront.net/b9b651cc0b575574/static/nextdoorv2/images/favicons/favicon-v2.ico']\n",
      "\n",
      "['https://nextdoor.com/', 'https://nextdoor.com/', 'https://nextdoor.nl/', 'https://nextdoor.co.uk/', 'https://nextdoor.de/', 'https://fr.nextdoor.com/', 'https://it.nextdoor.com/', 'https://es.nextdoor.com/', 'https://au.nextdoor.com/', 'https://dk.nextdoor.com/', 'https://se.nextdoor.com/', 'https://ca.nextdoor.com/', 'https://ca.nextdoor.com/', 'https://d19rpgkrjeba2z.cloudfront.net/b9b651cc0b575574/static/nextdoorv2/images/favicons/favicon-v2.ico']\n"
     ]
    },
    {
     "name": "stderr",
     "output_type": "stream",
     "text": [
      "/home/dan/src/para/venv/lib/python3.6/site-packages/urllib3/connectionpool.py:1004: InsecureRequestWarning: Unverified HTTPS request is being made. Adding certificate verification is strongly advised. See: https://urllib3.readthedocs.io/en/latest/advanced-usage.html#ssl-warnings\n",
      "  InsecureRequestWarning,\n",
      "/home/dan/src/para/venv/lib/python3.6/site-packages/urllib3/connectionpool.py:1004: InsecureRequestWarning: Unverified HTTPS request is being made. Adding certificate verification is strongly advised. See: https://urllib3.readthedocs.io/en/latest/advanced-usage.html#ssl-warnings\n",
      "  InsecureRequestWarning,\n",
      "/home/dan/src/para/venv/lib/python3.6/site-packages/urllib3/connectionpool.py:1004: InsecureRequestWarning: Unverified HTTPS request is being made. Adding certificate verification is strongly advised. See: https://urllib3.readthedocs.io/en/latest/advanced-usage.html#ssl-warnings\n",
      "  InsecureRequestWarning,\n"
     ]
    },
    {
     "name": "stdout",
     "output_type": "stream",
     "text": [
      "https://nextdoor.com['https://nextdoor.com/', 'https://nextdoor.com/', 'https://nextdoor.nl/', 'https://nextdoor.co.uk/', 'https://nextdoor.de/', 'https://fr.nextdoor.com/', 'https://it.nextdoor.com/', 'https://es.nextdoor.com/', 'https://au.nextdoor.com/', 'https://dk.nextdoor.com/', 'https://se.nextdoor.com/', 'https://ca.nextdoor.com/', 'https://ca.nextdoor.com/', 'https://d19rpgkrjeba2z.cloudfront.net/b9b651cc0b575574/static/nextdoorv2/images/favicons/favicon-v2.ico']\n",
      "\n",
      "https://nextdoor.com['https://nextdoor.com/', 'https://nextdoor.com/', 'https://nextdoor.nl/', 'https://nextdoor.co.uk/', 'https://nextdoor.de/', 'https://fr.nextdoor.com/', 'https://it.nextdoor.com/', 'https://es.nextdoor.com/', 'https://au.nextdoor.com/', 'https://dk.nextdoor.com/', 'https://se.nextdoor.com/', 'https://ca.nextdoor.com/', 'https://ca.nextdoor.com/', 'https://d19rpgkrjeba2z.cloudfront.net/b9b651cc0b575574/static/nextdoorv2/images/favicons/favicon-v2.ico']\n",
      "\n",
      "https://nextdoor.com\n",
      "['https://nextdoor.com/', 'https://nextdoor.com/', 'https://nextdoor.nl/', 'https://nextdoor.co.uk/', 'https://nextdoor.de/', 'https://fr.nextdoor.com/', 'https://it.nextdoor.com/', 'https://es.nextdoor.com/', 'https://au.nextdoor.com/', 'https://dk.nextdoor.com/', 'https://se.nextdoor.com/', 'https://ca.nextdoor.com/', 'https://ca.nextdoor.com/', 'https://d19rpgkrjeba2z.cloudfront.net/b9b651cc0b575574/static/nextdoorv2/images/favicons/favicon-v2.ico']https://nextdoor.com\n",
      "\n",
      "['https://nextdoor.com/', 'https://nextdoor.com/', 'https://nextdoor.nl/', 'https://nextdoor.co.uk/', 'https://nextdoor.de/', 'https://fr.nextdoor.com/', 'https://it.nextdoor.com/', 'https://es.nextdoor.com/', 'https://au.nextdoor.com/', 'https://dk.nextdoor.com/', 'https://se.nextdoor.com/', 'https://ca.nextdoor.com/', 'https://ca.nextdoor.com/', 'https://d19rpgkrjeba2z.cloudfront.net/b9b651cc0b575574/static/nextdoorv2/images/favicons/favicon-v2.ico']\n",
      "https://nextdoor.com['https://nextdoor.com/', 'https://nextdoor.com/', 'https://nextdoor.nl/', 'https://nextdoor.co.uk/', 'https://nextdoor.de/', 'https://fr.nextdoor.com/', 'https://it.nextdoor.com/', 'https://es.nextdoor.com/', 'https://au.nextdoor.com/', 'https://dk.nextdoor.com/', 'https://se.nextdoor.com/', 'https://ca.nextdoor.com/', 'https://ca.nextdoor.com/', 'https://d19rpgkrjeba2z.cloudfront.net/b9b651cc0b575574/static/nextdoorv2/images/favicons/favicon-v2.ico']\n",
      "\n"
     ]
    },
    {
     "name": "stderr",
     "output_type": "stream",
     "text": [
      "/home/dan/src/para/venv/lib/python3.6/site-packages/urllib3/connectionpool.py:1004: InsecureRequestWarning: Unverified HTTPS request is being made. Adding certificate verification is strongly advised. See: https://urllib3.readthedocs.io/en/latest/advanced-usage.html#ssl-warnings\n",
      "  InsecureRequestWarning,\n",
      "/home/dan/src/para/venv/lib/python3.6/site-packages/urllib3/connectionpool.py:1004: InsecureRequestWarning: Unverified HTTPS request is being made. Adding certificate verification is strongly advised. See: https://urllib3.readthedocs.io/en/latest/advanced-usage.html#ssl-warnings\n",
      "  InsecureRequestWarning,\n",
      "/home/dan/src/para/venv/lib/python3.6/site-packages/urllib3/connectionpool.py:1004: InsecureRequestWarning: Unverified HTTPS request is being made. Adding certificate verification is strongly advised. See: https://urllib3.readthedocs.io/en/latest/advanced-usage.html#ssl-warnings\n",
      "  InsecureRequestWarning,\n",
      "/home/dan/src/para/venv/lib/python3.6/site-packages/urllib3/connectionpool.py:1004: InsecureRequestWarning: Unverified HTTPS request is being made. Adding certificate verification is strongly advised. See: https://urllib3.readthedocs.io/en/latest/advanced-usage.html#ssl-warnings\n",
      "  InsecureRequestWarning,\n"
     ]
    },
    {
     "name": "stdout",
     "output_type": "stream",
     "text": [
      "https://nextdoor.com['https://nextdoor.com/', 'https://nextdoor.com/', 'https://nextdoor.nl/', 'https://nextdoor.co.uk/', 'https://nextdoor.de/', 'https://fr.nextdoor.com/', 'https://it.nextdoor.com/', 'https://es.nextdoor.com/', 'https://au.nextdoor.com/', 'https://dk.nextdoor.com/', 'https://se.nextdoor.com/', 'https://ca.nextdoor.com/', 'https://ca.nextdoor.com/', 'https://d19rpgkrjeba2z.cloudfront.net/b9b651cc0b575574/static/nextdoorv2/images/favicons/favicon-v2.ico']\n",
      "\n",
      "https://nextdoor.com\n",
      "['https://nextdoor.com/', 'https://nextdoor.com/', 'https://nextdoor.nl/', 'https://nextdoor.co.uk/', 'https://nextdoor.de/', 'https://fr.nextdoor.com/', 'https://it.nextdoor.com/', 'https://es.nextdoor.com/', 'https://au.nextdoor.com/', 'https://dk.nextdoor.com/', 'https://se.nextdoor.com/', 'https://ca.nextdoor.com/', 'https://ca.nextdoor.com/', 'https://d19rpgkrjeba2z.cloudfront.net/b9b651cc0b575574/static/nextdoorv2/images/favicons/favicon-v2.ico']\n",
      "https://nextdoor.com['https://nextdoor.com/', 'https://nextdoor.com/', 'https://nextdoor.nl/', 'https://nextdoor.co.uk/', 'https://nextdoor.de/', 'https://fr.nextdoor.com/', 'https://it.nextdoor.com/', 'https://es.nextdoor.com/', 'https://au.nextdoor.com/', 'https://dk.nextdoor.com/', 'https://se.nextdoor.com/', 'https://ca.nextdoor.com/', 'https://ca.nextdoor.com/', 'https://d19rpgkrjeba2z.cloudfront.net/b9b651cc0b575574/static/nextdoorv2/images/favicons/favicon-v2.ico']\n",
      "\n",
      "https://nextdoor.com\n",
      "['https://nextdoor.com/', 'https://nextdoor.com/', 'https://nextdoor.nl/', 'https://nextdoor.co.uk/', 'https://nextdoor.de/', 'https://fr.nextdoor.com/', 'https://it.nextdoor.com/', 'https://es.nextdoor.com/', 'https://au.nextdoor.com/', 'https://dk.nextdoor.com/', 'https://se.nextdoor.com/', 'https://ca.nextdoor.com/', 'https://ca.nextdoor.com/', 'https://d19rpgkrjeba2z.cloudfront.net/b9b651cc0b575574/static/nextdoorv2/images/favicons/favicon-v2.ico']\n",
      "https://nextdoor.com['https://nextdoor.com/', 'https://nextdoor.com/', 'https://nextdoor.nl/', 'https://nextdoor.co.uk/', 'https://nextdoor.de/', 'https://fr.nextdoor.com/', 'https://it.nextdoor.com/', 'https://es.nextdoor.com/', 'https://au.nextdoor.com/', 'https://dk.nextdoor.com/', 'https://se.nextdoor.com/', 'https://ca.nextdoor.com/', 'https://ca.nextdoor.com/', 'https://d19rpgkrjeba2z.cloudfront.net/b9b651cc0b575574/static/nextdoorv2/images/favicons/favicon-v2.ico']\n",
      "\n",
      "https://nextdoor.com['https://nextdoor.com/', 'https://nextdoor.com/', 'https://nextdoor.nl/', 'https://nextdoor.co.uk/', 'https://nextdoor.de/', 'https://fr.nextdoor.com/', 'https://it.nextdoor.com/', 'https://es.nextdoor.com/', 'https://au.nextdoor.com/', 'https://dk.nextdoor.com/', 'https://se.nextdoor.com/', 'https://ca.nextdoor.com/', 'https://ca.nextdoor.com/', 'https://d19rpgkrjeba2z.cloudfront.net/b9b651cc0b575574/static/nextdoorv2/images/favicons/favicon-v2.ico']\n",
      "\n"
     ]
    },
    {
     "name": "stderr",
     "output_type": "stream",
     "text": [
      "/home/dan/src/para/venv/lib/python3.6/site-packages/urllib3/connectionpool.py:1004: InsecureRequestWarning: Unverified HTTPS request is being made. Adding certificate verification is strongly advised. See: https://urllib3.readthedocs.io/en/latest/advanced-usage.html#ssl-warnings\n",
      "  InsecureRequestWarning,\n",
      "/home/dan/src/para/venv/lib/python3.6/site-packages/urllib3/connectionpool.py:1004: InsecureRequestWarning: Unverified HTTPS request is being made. Adding certificate verification is strongly advised. See: https://urllib3.readthedocs.io/en/latest/advanced-usage.html#ssl-warnings\n",
      "  InsecureRequestWarning,\n",
      "/home/dan/src/para/venv/lib/python3.6/site-packages/urllib3/connectionpool.py:1004: InsecureRequestWarning: Unverified HTTPS request is being made. Adding certificate verification is strongly advised. See: https://urllib3.readthedocs.io/en/latest/advanced-usage.html#ssl-warnings\n",
      "  InsecureRequestWarning,\n",
      "/home/dan/src/para/venv/lib/python3.6/site-packages/urllib3/connectionpool.py:1004: InsecureRequestWarning: Unverified HTTPS request is being made. Adding certificate verification is strongly advised. See: https://urllib3.readthedocs.io/en/latest/advanced-usage.html#ssl-warnings\n",
      "  InsecureRequestWarning,\n"
     ]
    },
    {
     "name": "stdout",
     "output_type": "stream",
     "text": [
      "https://nextdoor.com['https://nextdoor.com/', 'https://nextdoor.com/', 'https://nextdoor.nl/', 'https://nextdoor.co.uk/', 'https://nextdoor.de/', 'https://fr.nextdoor.com/', 'https://it.nextdoor.com/', 'https://es.nextdoor.com/', 'https://au.nextdoor.com/', 'https://dk.nextdoor.com/', 'https://se.nextdoor.com/', 'https://ca.nextdoor.com/', 'https://ca.nextdoor.com/', 'https://d19rpgkrjeba2z.cloudfront.net/b9b651cc0b575574/static/nextdoorv2/images/favicons/favicon-v2.ico']\n",
      "\n",
      "https://nextdoor.com\n",
      "['https://nextdoor.com/', 'https://nextdoor.com/', 'https://nextdoor.nl/', 'https://nextdoor.co.uk/', 'https://nextdoor.de/', 'https://fr.nextdoor.com/', 'https://it.nextdoor.com/', 'https://es.nextdoor.com/', 'https://au.nextdoor.com/', 'https://dk.nextdoor.com/', 'https://se.nextdoor.com/', 'https://ca.nextdoor.com/', 'https://ca.nextdoor.com/', 'https://d19rpgkrjeba2z.cloudfront.net/b9b651cc0b575574/static/nextdoorv2/images/favicons/favicon-v2.ico']\n",
      "https://nextdoor.com['https://nextdoor.com/', 'https://nextdoor.com/', 'https://nextdoor.nl/', 'https://nextdoor.co.uk/', 'https://nextdoor.de/', 'https://fr.nextdoor.com/', 'https://it.nextdoor.com/', 'https://es.nextdoor.com/', 'https://au.nextdoor.com/', 'https://dk.nextdoor.com/', 'https://se.nextdoor.com/', 'https://ca.nextdoor.com/', 'https://ca.nextdoor.com/', 'https://d19rpgkrjeba2z.cloudfront.net/b9b651cc0b575574/static/nextdoorv2/images/favicons/favicon-v2.ico']\n",
      "\n",
      "https://nextdoor.com\n",
      "['https://nextdoor.com/', 'https://nextdoor.com/', 'https://nextdoor.nl/', 'https://nextdoor.co.uk/', 'https://nextdoor.de/', 'https://fr.nextdoor.com/', 'https://it.nextdoor.com/', 'https://es.nextdoor.com/', 'https://au.nextdoor.com/', 'https://dk.nextdoor.com/', 'https://se.nextdoor.com/', 'https://ca.nextdoor.com/', 'https://ca.nextdoor.com/', 'https://d19rpgkrjeba2z.cloudfront.net/b9b651cc0b575574/static/nextdoorv2/images/favicons/favicon-v2.ico']\n"
     ]
    },
    {
     "name": "stderr",
     "output_type": "stream",
     "text": [
      "/home/dan/src/para/venv/lib/python3.6/site-packages/urllib3/connectionpool.py:1004: InsecureRequestWarning: Unverified HTTPS request is being made. Adding certificate verification is strongly advised. See: https://urllib3.readthedocs.io/en/latest/advanced-usage.html#ssl-warnings\n",
      "  InsecureRequestWarning,\n",
      "/home/dan/src/para/venv/lib/python3.6/site-packages/urllib3/connectionpool.py:1004: InsecureRequestWarning: Unverified HTTPS request is being made. Adding certificate verification is strongly advised. See: https://urllib3.readthedocs.io/en/latest/advanced-usage.html#ssl-warnings\n",
      "  InsecureRequestWarning,\n",
      "/home/dan/src/para/venv/lib/python3.6/site-packages/urllib3/connectionpool.py:1004: InsecureRequestWarning: Unverified HTTPS request is being made. Adding certificate verification is strongly advised. See: https://urllib3.readthedocs.io/en/latest/advanced-usage.html#ssl-warnings\n",
      "  InsecureRequestWarning,\n",
      "/home/dan/src/para/venv/lib/python3.6/site-packages/urllib3/connectionpool.py:1004: InsecureRequestWarning: Unverified HTTPS request is being made. Adding certificate verification is strongly advised. See: https://urllib3.readthedocs.io/en/latest/advanced-usage.html#ssl-warnings\n",
      "  InsecureRequestWarning,\n",
      "/home/dan/src/para/venv/lib/python3.6/site-packages/urllib3/connectionpool.py:1004: InsecureRequestWarning: Unverified HTTPS request is being made. Adding certificate verification is strongly advised. See: https://urllib3.readthedocs.io/en/latest/advanced-usage.html#ssl-warnings\n",
      "  InsecureRequestWarning,\n",
      "/home/dan/src/para/venv/lib/python3.6/site-packages/urllib3/connectionpool.py:1004: InsecureRequestWarning: Unverified HTTPS request is being made. Adding certificate verification is strongly advised. See: https://urllib3.readthedocs.io/en/latest/advanced-usage.html#ssl-warnings\n",
      "  InsecureRequestWarning,\n",
      "/home/dan/src/para/venv/lib/python3.6/site-packages/urllib3/connectionpool.py:1004: InsecureRequestWarning: Unverified HTTPS request is being made. Adding certificate verification is strongly advised. See: https://urllib3.readthedocs.io/en/latest/advanced-usage.html#ssl-warnings\n",
      "  InsecureRequestWarning,\n",
      "/home/dan/src/para/venv/lib/python3.6/site-packages/urllib3/connectionpool.py:1004: InsecureRequestWarning: Unverified HTTPS request is being made. Adding certificate verification is strongly advised. See: https://urllib3.readthedocs.io/en/latest/advanced-usage.html#ssl-warnings\n",
      "  InsecureRequestWarning,\n"
     ]
    },
    {
     "name": "stdout",
     "output_type": "stream",
     "text": [
      "https://nextdoor.com\n",
      "['https://nextdoor.com/', 'https://nextdoor.com/', 'https://nextdoor.nl/', 'https://nextdoor.co.uk/', 'https://nextdoor.de/', 'https://fr.nextdoor.com/', 'https://it.nextdoor.com/', 'https://es.nextdoor.com/', 'https://au.nextdoor.com/', 'https://dk.nextdoor.com/', 'https://se.nextdoor.com/', 'https://ca.nextdoor.com/', 'https://ca.nextdoor.com/', 'https://d19rpgkrjeba2z.cloudfront.net/b9b651cc0b575574/static/nextdoorv2/images/favicons/favicon-v2.ico']\n",
      "https://nextdoor.com['https://nextdoor.com/', 'https://nextdoor.com/', 'https://nextdoor.nl/', 'https://nextdoor.co.uk/', 'https://nextdoor.de/', 'https://fr.nextdoor.com/', 'https://it.nextdoor.com/', 'https://es.nextdoor.com/', 'https://au.nextdoor.com/', 'https://dk.nextdoor.com/', 'https://se.nextdoor.com/', 'https://ca.nextdoor.com/', 'https://ca.nextdoor.com/', 'https://d19rpgkrjeba2z.cloudfront.net/b9b651cc0b575574/static/nextdoorv2/images/favicons/favicon-v2.ico']\n",
      "\n",
      "https://nextdoor.com['https://nextdoor.com/', 'https://nextdoor.com/', 'https://nextdoor.nl/', 'https://nextdoor.co.uk/', 'https://nextdoor.de/', 'https://fr.nextdoor.com/', 'https://it.nextdoor.com/', 'https://es.nextdoor.com/', 'https://au.nextdoor.com/', 'https://dk.nextdoor.com/', 'https://se.nextdoor.com/', 'https://ca.nextdoor.com/', 'https://ca.nextdoor.com/', 'https://d19rpgkrjeba2z.cloudfront.net/b9b651cc0b575574/static/nextdoorv2/images/favicons/favicon-v2.ico']\n",
      "\n"
     ]
    },
    {
     "name": "stderr",
     "output_type": "stream",
     "text": [
      "/home/dan/src/para/venv/lib/python3.6/site-packages/urllib3/connectionpool.py:1004: InsecureRequestWarning: Unverified HTTPS request is being made. Adding certificate verification is strongly advised. See: https://urllib3.readthedocs.io/en/latest/advanced-usage.html#ssl-warnings\n",
      "  InsecureRequestWarning,\n",
      "/home/dan/src/para/venv/lib/python3.6/site-packages/urllib3/connectionpool.py:1004: InsecureRequestWarning: Unverified HTTPS request is being made. Adding certificate verification is strongly advised. See: https://urllib3.readthedocs.io/en/latest/advanced-usage.html#ssl-warnings\n",
      "  InsecureRequestWarning,\n",
      "/home/dan/src/para/venv/lib/python3.6/site-packages/urllib3/connectionpool.py:1004: InsecureRequestWarning: Unverified HTTPS request is being made. Adding certificate verification is strongly advised. See: https://urllib3.readthedocs.io/en/latest/advanced-usage.html#ssl-warnings\n",
      "  InsecureRequestWarning,\n",
      "/home/dan/src/para/venv/lib/python3.6/site-packages/urllib3/connectionpool.py:1004: InsecureRequestWarning: Unverified HTTPS request is being made. Adding certificate verification is strongly advised. See: https://urllib3.readthedocs.io/en/latest/advanced-usage.html#ssl-warnings\n",
      "  InsecureRequestWarning,\n",
      "/home/dan/src/para/venv/lib/python3.6/site-packages/urllib3/connectionpool.py:1004: InsecureRequestWarning: Unverified HTTPS request is being made. Adding certificate verification is strongly advised. See: https://urllib3.readthedocs.io/en/latest/advanced-usage.html#ssl-warnings\n",
      "  InsecureRequestWarning,\n",
      "/home/dan/src/para/venv/lib/python3.6/site-packages/urllib3/connectionpool.py:1004: InsecureRequestWarning: Unverified HTTPS request is being made. Adding certificate verification is strongly advised. See: https://urllib3.readthedocs.io/en/latest/advanced-usage.html#ssl-warnings\n",
      "  InsecureRequestWarning,\n",
      "/home/dan/src/para/venv/lib/python3.6/site-packages/urllib3/connectionpool.py:1004: InsecureRequestWarning: Unverified HTTPS request is being made. Adding certificate verification is strongly advised. See: https://urllib3.readthedocs.io/en/latest/advanced-usage.html#ssl-warnings\n",
      "  InsecureRequestWarning,\n"
     ]
    },
    {
     "name": "stdout",
     "output_type": "stream",
     "text": [
      "https://nextdoor.com['https://nextdoor.com/', 'https://nextdoor.com/', 'https://nextdoor.nl/', 'https://nextdoor.co.uk/', 'https://nextdoor.de/', 'https://fr.nextdoor.com/', 'https://it.nextdoor.com/', 'https://es.nextdoor.com/', 'https://au.nextdoor.com/', 'https://dk.nextdoor.com/', 'https://se.nextdoor.com/', 'https://ca.nextdoor.com/', 'https://ca.nextdoor.com/', 'https://d19rpgkrjeba2z.cloudfront.net/b9b651cc0b575574/static/nextdoorv2/images/favicons/favicon-v2.ico']\n",
      "\n",
      "https://nextdoor.com\n",
      "['https://nextdoor.com/', 'https://nextdoor.com/', 'https://nextdoor.nl/', 'https://nextdoor.co.uk/', 'https://nextdoor.de/', 'https://fr.nextdoor.com/', 'https://it.nextdoor.com/', 'https://es.nextdoor.com/', 'https://au.nextdoor.com/', 'https://dk.nextdoor.com/', 'https://se.nextdoor.com/', 'https://ca.nextdoor.com/', 'https://ca.nextdoor.com/', 'https://d19rpgkrjeba2z.cloudfront.net/b9b651cc0b575574/static/nextdoorv2/images/favicons/favicon-v2.ico']\n",
      "https://nextdoor.com\n",
      "['https://nextdoor.com/', 'https://nextdoor.com/', 'https://nextdoor.nl/', 'https://nextdoor.co.uk/', 'https://nextdoor.de/', 'https://fr.nextdoor.com/', 'https://it.nextdoor.com/', 'https://es.nextdoor.com/', 'https://au.nextdoor.com/', 'https://dk.nextdoor.com/', 'https://se.nextdoor.com/', 'https://ca.nextdoor.com/', 'https://ca.nextdoor.com/', 'https://d19rpgkrjeba2z.cloudfront.net/b9b651cc0b575574/static/nextdoorv2/images/favicons/favicon-v2.ico']\n",
      "https://nextdoor.com\n",
      "['https://nextdoor.com/', 'https://nextdoor.com/', 'https://nextdoor.nl/', 'https://nextdoor.co.uk/', 'https://nextdoor.de/', 'https://fr.nextdoor.com/', 'https://it.nextdoor.com/', 'https://es.nextdoor.com/', 'https://au.nextdoor.com/', 'https://dk.nextdoor.com/', 'https://se.nextdoor.com/', 'https://ca.nextdoor.com/', 'https://ca.nextdoor.com/', 'https://d19rpgkrjeba2z.cloudfront.net/b9b651cc0b575574/static/nextdoorv2/images/favicons/favicon-v2.ico']\n",
      "https://nextdoor.com\n",
      "['https://nextdoor.com/', 'https://nextdoor.com/', 'https://nextdoor.nl/', 'https://nextdoor.co.uk/', 'https://nextdoor.de/', 'https://fr.nextdoor.com/', 'https://it.nextdoor.com/', 'https://es.nextdoor.com/', 'https://au.nextdoor.com/', 'https://dk.nextdoor.com/', 'https://se.nextdoor.com/', 'https://ca.nextdoor.com/', 'https://ca.nextdoor.com/', 'https://d19rpgkrjeba2z.cloudfront.net/b9b651cc0b575574/static/nextdoorv2/images/favicons/favicon-v2.ico']\n",
      "https://nextdoor.com\n",
      "['https://nextdoor.com/', 'https://nextdoor.com/', 'https://nextdoor.nl/', 'https://nextdoor.co.uk/', 'https://nextdoor.de/', 'https://fr.nextdoor.com/', 'https://it.nextdoor.com/', 'https://es.nextdoor.com/', 'https://au.nextdoor.com/', 'https://dk.nextdoor.com/', 'https://se.nextdoor.com/', 'https://ca.nextdoor.com/', 'https://ca.nextdoor.com/', 'https://d19rpgkrjeba2z.cloudfront.net/b9b651cc0b575574/static/nextdoorv2/images/favicons/favicon-v2.ico']\n"
     ]
    },
    {
     "name": "stderr",
     "output_type": "stream",
     "text": [
      "/home/dan/src/para/venv/lib/python3.6/site-packages/urllib3/connectionpool.py:1004: InsecureRequestWarning: Unverified HTTPS request is being made. Adding certificate verification is strongly advised. See: https://urllib3.readthedocs.io/en/latest/advanced-usage.html#ssl-warnings\n",
      "  InsecureRequestWarning,\n",
      "/home/dan/src/para/venv/lib/python3.6/site-packages/urllib3/connectionpool.py:1004: InsecureRequestWarning: Unverified HTTPS request is being made. Adding certificate verification is strongly advised. See: https://urllib3.readthedocs.io/en/latest/advanced-usage.html#ssl-warnings\n",
      "  InsecureRequestWarning,\n",
      "/home/dan/src/para/venv/lib/python3.6/site-packages/urllib3/connectionpool.py:1004: InsecureRequestWarning: Unverified HTTPS request is being made. Adding certificate verification is strongly advised. See: https://urllib3.readthedocs.io/en/latest/advanced-usage.html#ssl-warnings\n",
      "  InsecureRequestWarning,\n",
      "/home/dan/src/para/venv/lib/python3.6/site-packages/urllib3/connectionpool.py:1004: InsecureRequestWarning: Unverified HTTPS request is being made. Adding certificate verification is strongly advised. See: https://urllib3.readthedocs.io/en/latest/advanced-usage.html#ssl-warnings\n",
      "  InsecureRequestWarning,\n"
     ]
    },
    {
     "name": "stdout",
     "output_type": "stream",
     "text": [
      "https://nextdoor.com['https://nextdoor.com/', 'https://nextdoor.com/', 'https://nextdoor.nl/', 'https://nextdoor.co.uk/', 'https://nextdoor.de/', 'https://fr.nextdoor.com/', 'https://it.nextdoor.com/', 'https://es.nextdoor.com/', 'https://au.nextdoor.com/', 'https://dk.nextdoor.com/', 'https://se.nextdoor.com/', 'https://ca.nextdoor.com/', 'https://ca.nextdoor.com/', 'https://d19rpgkrjeba2z.cloudfront.net/b9b651cc0b575574/static/nextdoorv2/images/favicons/favicon-v2.ico']\n",
      "\n",
      "https://nextdoor.comhttps://nextdoor.com\n",
      "\n",
      "['https://nextdoor.com/', 'https://nextdoor.com/', 'https://nextdoor.nl/', 'https://nextdoor.co.uk/', 'https://nextdoor.de/', 'https://fr.nextdoor.com/', 'https://it.nextdoor.com/', 'https://es.nextdoor.com/', 'https://au.nextdoor.com/', 'https://dk.nextdoor.com/', 'https://se.nextdoor.com/', 'https://ca.nextdoor.com/', 'https://ca.nextdoor.com/', 'https://d19rpgkrjeba2z.cloudfront.net/b9b651cc0b575574/static/nextdoorv2/images/favicons/favicon-v2.ico']\n",
      "['https://nextdoor.com/', 'https://nextdoor.com/', 'https://nextdoor.nl/', 'https://nextdoor.co.uk/', 'https://nextdoor.de/', 'https://fr.nextdoor.com/', 'https://it.nextdoor.com/', 'https://es.nextdoor.com/', 'https://au.nextdoor.com/', 'https://dk.nextdoor.com/', 'https://se.nextdoor.com/', 'https://ca.nextdoor.com/', 'https://ca.nextdoor.com/', 'https://d19rpgkrjeba2z.cloudfront.net/b9b651cc0b575574/static/nextdoorv2/images/favicons/favicon-v2.ico']\n",
      "https://nextdoor.com['https://nextdoor.com/', 'https://nextdoor.com/', 'https://nextdoor.nl/', 'https://nextdoor.co.uk/', 'https://nextdoor.de/', 'https://fr.nextdoor.com/', 'https://it.nextdoor.com/', 'https://es.nextdoor.com/', 'https://au.nextdoor.com/', 'https://dk.nextdoor.com/', 'https://se.nextdoor.com/', 'https://ca.nextdoor.com/', 'https://ca.nextdoor.com/', 'https://d19rpgkrjeba2z.cloudfront.net/b9b651cc0b575574/static/nextdoorv2/images/favicons/favicon-v2.ico']\n",
      "\n",
      "https://nextdoor.com['https://nextdoor.com/', 'https://nextdoor.com/', 'https://nextdoor.nl/', 'https://nextdoor.co.uk/', 'https://nextdoor.de/', 'https://fr.nextdoor.com/', 'https://it.nextdoor.com/', 'https://es.nextdoor.com/', 'https://au.nextdoor.com/', 'https://dk.nextdoor.com/', 'https://se.nextdoor.com/', 'https://ca.nextdoor.com/', 'https://ca.nextdoor.com/', 'https://d19rpgkrjeba2z.cloudfront.net/b9b651cc0b575574/static/nextdoorv2/images/favicons/favicon-v2.ico']\n",
      "\n",
      "https://nextdoor.com\n",
      "['https://nextdoor.com/', 'https://nextdoor.com/', 'https://nextdoor.nl/', 'https://nextdoor.co.uk/', 'https://nextdoor.de/', 'https://fr.nextdoor.com/', 'https://it.nextdoor.com/', 'https://es.nextdoor.com/', 'https://au.nextdoor.com/', 'https://dk.nextdoor.com/', 'https://se.nextdoor.com/', 'https://ca.nextdoor.com/', 'https://ca.nextdoor.com/', 'https://d19rpgkrjeba2z.cloudfront.net/b9b651cc0b575574/static/nextdoorv2/images/favicons/favicon-v2.ico']\n",
      "https://nextdoor.com['https://nextdoor.com/', 'https://nextdoor.com/', 'https://nextdoor.nl/', 'https://nextdoor.co.uk/', 'https://nextdoor.de/', 'https://fr.nextdoor.com/', 'https://it.nextdoor.com/', 'https://es.nextdoor.com/', 'https://au.nextdoor.com/', 'https://dk.nextdoor.com/', 'https://se.nextdoor.com/', 'https://ca.nextdoor.com/', 'https://ca.nextdoor.com/', 'https://d19rpgkrjeba2z.cloudfront.net/b9b651cc0b575574/static/nextdoorv2/images/favicons/favicon-v2.ico']\n",
      "\n",
      "https://nextdoor.com\n",
      "['https://nextdoor.com/', 'https://nextdoor.com/', 'https://nextdoor.nl/', 'https://nextdoor.co.uk/', 'https://nextdoor.de/', 'https://fr.nextdoor.com/', 'https://it.nextdoor.com/', 'https://es.nextdoor.com/', 'https://au.nextdoor.com/', 'https://dk.nextdoor.com/', 'https://se.nextdoor.com/', 'https://ca.nextdoor.com/', 'https://ca.nextdoor.com/', 'https://d19rpgkrjeba2z.cloudfront.net/b9b651cc0b575574/static/nextdoorv2/images/favicons/favicon-v2.ico']\n",
      "https://nextdoor.com\n",
      "['https://nextdoor.com/', 'https://nextdoor.com/', 'https://nextdoor.nl/', 'https://nextdoor.co.uk/', 'https://nextdoor.de/', 'https://fr.nextdoor.com/', 'https://it.nextdoor.com/', 'https://es.nextdoor.com/', 'https://au.nextdoor.com/', 'https://dk.nextdoor.com/', 'https://se.nextdoor.com/', 'https://ca.nextdoor.com/', 'https://ca.nextdoor.com/', 'https://d19rpgkrjeba2z.cloudfront.net/b9b651cc0b575574/static/nextdoorv2/images/favicons/favicon-v2.ico']\n",
      "https://nextdoor.com['https://nextdoor.com/', 'https://nextdoor.com/', 'https://nextdoor.nl/', 'https://nextdoor.co.uk/', 'https://nextdoor.de/', 'https://fr.nextdoor.com/', 'https://it.nextdoor.com/', 'https://es.nextdoor.com/', 'https://au.nextdoor.com/', 'https://dk.nextdoor.com/', 'https://se.nextdoor.com/', 'https://ca.nextdoor.com/', 'https://ca.nextdoor.com/', 'https://d19rpgkrjeba2z.cloudfront.net/b9b651cc0b575574/static/nextdoorv2/images/favicons/favicon-v2.ico']\n",
      "\n"
     ]
    },
    {
     "name": "stderr",
     "output_type": "stream",
     "text": [
      "/home/dan/src/para/venv/lib/python3.6/site-packages/urllib3/connectionpool.py:1004: InsecureRequestWarning: Unverified HTTPS request is being made. Adding certificate verification is strongly advised. See: https://urllib3.readthedocs.io/en/latest/advanced-usage.html#ssl-warnings\n",
      "  InsecureRequestWarning,\n",
      "/home/dan/src/para/venv/lib/python3.6/site-packages/urllib3/connectionpool.py:1004: InsecureRequestWarning: Unverified HTTPS request is being made. Adding certificate verification is strongly advised. See: https://urllib3.readthedocs.io/en/latest/advanced-usage.html#ssl-warnings\n",
      "  InsecureRequestWarning,\n",
      "/home/dan/src/para/venv/lib/python3.6/site-packages/urllib3/connectionpool.py:1004: InsecureRequestWarning: Unverified HTTPS request is being made. Adding certificate verification is strongly advised. See: https://urllib3.readthedocs.io/en/latest/advanced-usage.html#ssl-warnings\n",
      "  InsecureRequestWarning,\n",
      "/home/dan/src/para/venv/lib/python3.6/site-packages/urllib3/connectionpool.py:1004: InsecureRequestWarning: Unverified HTTPS request is being made. Adding certificate verification is strongly advised. See: https://urllib3.readthedocs.io/en/latest/advanced-usage.html#ssl-warnings\n",
      "  InsecureRequestWarning,\n"
     ]
    },
    {
     "name": "stdout",
     "output_type": "stream",
     "text": [
      "https://nextdoor.com['https://nextdoor.com/', 'https://nextdoor.com/', 'https://nextdoor.nl/', 'https://nextdoor.co.uk/', 'https://nextdoor.de/', 'https://fr.nextdoor.com/', 'https://it.nextdoor.com/', 'https://es.nextdoor.com/', 'https://au.nextdoor.com/', 'https://dk.nextdoor.com/', 'https://se.nextdoor.com/', 'https://ca.nextdoor.com/', 'https://ca.nextdoor.com/', 'https://d19rpgkrjeba2z.cloudfront.net/b9b651cc0b575574/static/nextdoorv2/images/favicons/favicon-v2.ico']\n",
      "\n",
      "https://nextdoor.com['https://nextdoor.com/', 'https://nextdoor.com/', 'https://nextdoor.nl/', 'https://nextdoor.co.uk/', 'https://nextdoor.de/', 'https://fr.nextdoor.com/', 'https://it.nextdoor.com/', 'https://es.nextdoor.com/', 'https://au.nextdoor.com/', 'https://dk.nextdoor.com/', 'https://se.nextdoor.com/', 'https://ca.nextdoor.com/', 'https://ca.nextdoor.com/', 'https://d19rpgkrjeba2z.cloudfront.net/b9b651cc0b575574/static/nextdoorv2/images/favicons/favicon-v2.ico']\n",
      "\n",
      "https://nextdoor.com\n",
      "['https://nextdoor.com/', 'https://nextdoor.com/', 'https://nextdoor.nl/', 'https://nextdoor.co.uk/', 'https://nextdoor.de/', 'https://fr.nextdoor.com/', 'https://it.nextdoor.com/', 'https://es.nextdoor.com/', 'https://au.nextdoor.com/', 'https://dk.nextdoor.com/', 'https://se.nextdoor.com/', 'https://ca.nextdoor.com/', 'https://ca.nextdoor.com/', 'https://d19rpgkrjeba2z.cloudfront.net/b9b651cc0b575574/static/nextdoorv2/images/favicons/favicon-v2.ico']\n",
      "https://nextdoor.com['https://nextdoor.com/', 'https://nextdoor.com/', 'https://nextdoor.nl/', 'https://nextdoor.co.uk/', 'https://nextdoor.de/', 'https://fr.nextdoor.com/', 'https://it.nextdoor.com/', 'https://es.nextdoor.com/', 'https://au.nextdoor.com/', 'https://dk.nextdoor.com/', 'https://se.nextdoor.com/', 'https://ca.nextdoor.com/', 'https://ca.nextdoor.com/', 'https://d19rpgkrjeba2z.cloudfront.net/b9b651cc0b575574/static/nextdoorv2/images/favicons/favicon-v2.ico']\n",
      "\n"
     ]
    },
    {
     "name": "stderr",
     "output_type": "stream",
     "text": [
      "/home/dan/src/para/venv/lib/python3.6/site-packages/urllib3/connectionpool.py:1004: InsecureRequestWarning: Unverified HTTPS request is being made. Adding certificate verification is strongly advised. See: https://urllib3.readthedocs.io/en/latest/advanced-usage.html#ssl-warnings\n",
      "  InsecureRequestWarning,\n",
      "/home/dan/src/para/venv/lib/python3.6/site-packages/urllib3/connectionpool.py:1004: InsecureRequestWarning: Unverified HTTPS request is being made. Adding certificate verification is strongly advised. See: https://urllib3.readthedocs.io/en/latest/advanced-usage.html#ssl-warnings\n",
      "  InsecureRequestWarning,\n",
      "/home/dan/src/para/venv/lib/python3.6/site-packages/urllib3/connectionpool.py:1004: InsecureRequestWarning: Unverified HTTPS request is being made. Adding certificate verification is strongly advised. See: https://urllib3.readthedocs.io/en/latest/advanced-usage.html#ssl-warnings\n",
      "  InsecureRequestWarning,\n",
      "/home/dan/src/para/venv/lib/python3.6/site-packages/urllib3/connectionpool.py:1004: InsecureRequestWarning: Unverified HTTPS request is being made. Adding certificate verification is strongly advised. See: https://urllib3.readthedocs.io/en/latest/advanced-usage.html#ssl-warnings\n",
      "  InsecureRequestWarning,\n",
      "/home/dan/src/para/venv/lib/python3.6/site-packages/urllib3/connectionpool.py:1004: InsecureRequestWarning: Unverified HTTPS request is being made. Adding certificate verification is strongly advised. See: https://urllib3.readthedocs.io/en/latest/advanced-usage.html#ssl-warnings\n",
      "  InsecureRequestWarning,\n",
      "/home/dan/src/para/venv/lib/python3.6/site-packages/urllib3/connectionpool.py:1004: InsecureRequestWarning: Unverified HTTPS request is being made. Adding certificate verification is strongly advised. See: https://urllib3.readthedocs.io/en/latest/advanced-usage.html#ssl-warnings\n",
      "  InsecureRequestWarning,\n"
     ]
    },
    {
     "name": "stdout",
     "output_type": "stream",
     "text": [
      "https://nextdoor.com\n",
      "['https://nextdoor.com/', 'https://nextdoor.com/', 'https://nextdoor.nl/', 'https://nextdoor.co.uk/', 'https://nextdoor.de/', 'https://fr.nextdoor.com/', 'https://it.nextdoor.com/', 'https://es.nextdoor.com/', 'https://au.nextdoor.com/', 'https://dk.nextdoor.com/', 'https://se.nextdoor.com/', 'https://ca.nextdoor.com/', 'https://ca.nextdoor.com/', 'https://d19rpgkrjeba2z.cloudfront.net/b9b651cc0b575574/static/nextdoorv2/images/favicons/favicon-v2.ico']\n",
      "https://nextdoor.com['https://nextdoor.com/', 'https://nextdoor.com/', 'https://nextdoor.nl/', 'https://nextdoor.co.uk/', 'https://nextdoor.de/', 'https://fr.nextdoor.com/', 'https://it.nextdoor.com/', 'https://es.nextdoor.com/', 'https://au.nextdoor.com/', 'https://dk.nextdoor.com/', 'https://se.nextdoor.com/', 'https://ca.nextdoor.com/', 'https://ca.nextdoor.com/', 'https://d19rpgkrjeba2z.cloudfront.net/b9b651cc0b575574/static/nextdoorv2/images/favicons/favicon-v2.ico']\n",
      "\n",
      "https://nextdoor.com['https://nextdoor.com/', 'https://nextdoor.com/', 'https://nextdoor.nl/', 'https://nextdoor.co.uk/', 'https://nextdoor.de/', 'https://fr.nextdoor.com/', 'https://it.nextdoor.com/', 'https://es.nextdoor.com/', 'https://au.nextdoor.com/', 'https://dk.nextdoor.com/', 'https://se.nextdoor.com/', 'https://ca.nextdoor.com/', 'https://ca.nextdoor.com/', 'https://d19rpgkrjeba2z.cloudfront.net/b9b651cc0b575574/static/nextdoorv2/images/favicons/favicon-v2.ico']\n",
      "\n"
     ]
    },
    {
     "name": "stderr",
     "output_type": "stream",
     "text": [
      "/home/dan/src/para/venv/lib/python3.6/site-packages/urllib3/connectionpool.py:1004: InsecureRequestWarning: Unverified HTTPS request is being made. Adding certificate verification is strongly advised. See: https://urllib3.readthedocs.io/en/latest/advanced-usage.html#ssl-warnings\n",
      "  InsecureRequestWarning,\n",
      "/home/dan/src/para/venv/lib/python3.6/site-packages/urllib3/connectionpool.py:1004: InsecureRequestWarning: Unverified HTTPS request is being made. Adding certificate verification is strongly advised. See: https://urllib3.readthedocs.io/en/latest/advanced-usage.html#ssl-warnings\n",
      "  InsecureRequestWarning,\n",
      "/home/dan/src/para/venv/lib/python3.6/site-packages/urllib3/connectionpool.py:1004: InsecureRequestWarning: Unverified HTTPS request is being made. Adding certificate verification is strongly advised. See: https://urllib3.readthedocs.io/en/latest/advanced-usage.html#ssl-warnings\n",
      "  InsecureRequestWarning,\n",
      "/home/dan/src/para/venv/lib/python3.6/site-packages/urllib3/connectionpool.py:1004: InsecureRequestWarning: Unverified HTTPS request is being made. Adding certificate verification is strongly advised. See: https://urllib3.readthedocs.io/en/latest/advanced-usage.html#ssl-warnings\n",
      "  InsecureRequestWarning,\n"
     ]
    },
    {
     "name": "stdout",
     "output_type": "stream",
     "text": [
      "https://nextdoor.com['https://nextdoor.com/', 'https://nextdoor.com/', 'https://nextdoor.nl/', 'https://nextdoor.co.uk/', 'https://nextdoor.de/', 'https://fr.nextdoor.com/', 'https://it.nextdoor.com/', 'https://es.nextdoor.com/', 'https://au.nextdoor.com/', 'https://dk.nextdoor.com/', 'https://se.nextdoor.com/', 'https://ca.nextdoor.com/', 'https://ca.nextdoor.com/', 'https://d19rpgkrjeba2z.cloudfront.net/b9b651cc0b575574/static/nextdoorv2/images/favicons/favicon-v2.ico']\n",
      "\n",
      "https://nextdoor.com['https://nextdoor.com/', 'https://nextdoor.com/', 'https://nextdoor.nl/', 'https://nextdoor.co.uk/', 'https://nextdoor.de/', 'https://fr.nextdoor.com/', 'https://it.nextdoor.com/', 'https://es.nextdoor.com/', 'https://au.nextdoor.com/', 'https://dk.nextdoor.com/', 'https://se.nextdoor.com/', 'https://ca.nextdoor.com/', 'https://ca.nextdoor.com/', 'https://d19rpgkrjeba2z.cloudfront.net/b9b651cc0b575574/static/nextdoorv2/images/favicons/favicon-v2.ico']\n",
      "\n",
      "https://nextdoor.com['https://nextdoor.com/', 'https://nextdoor.com/', 'https://nextdoor.nl/', 'https://nextdoor.co.uk/', 'https://nextdoor.de/', 'https://fr.nextdoor.com/', 'https://it.nextdoor.com/', 'https://es.nextdoor.com/', 'https://au.nextdoor.com/', 'https://dk.nextdoor.com/', 'https://se.nextdoor.com/', 'https://ca.nextdoor.com/', 'https://ca.nextdoor.com/', 'https://d19rpgkrjeba2z.cloudfront.net/b9b651cc0b575574/static/nextdoorv2/images/favicons/favicon-v2.ico']\n",
      "\n"
     ]
    },
    {
     "name": "stderr",
     "output_type": "stream",
     "text": [
      "/home/dan/src/para/venv/lib/python3.6/site-packages/urllib3/connectionpool.py:1004: InsecureRequestWarning: Unverified HTTPS request is being made. Adding certificate verification is strongly advised. See: https://urllib3.readthedocs.io/en/latest/advanced-usage.html#ssl-warnings\n",
      "  InsecureRequestWarning,\n",
      "/home/dan/src/para/venv/lib/python3.6/site-packages/urllib3/connectionpool.py:1004: InsecureRequestWarning: Unverified HTTPS request is being made. Adding certificate verification is strongly advised. See: https://urllib3.readthedocs.io/en/latest/advanced-usage.html#ssl-warnings\n",
      "  InsecureRequestWarning,\n",
      "/home/dan/src/para/venv/lib/python3.6/site-packages/urllib3/connectionpool.py:1004: InsecureRequestWarning: Unverified HTTPS request is being made. Adding certificate verification is strongly advised. See: https://urllib3.readthedocs.io/en/latest/advanced-usage.html#ssl-warnings\n",
      "  InsecureRequestWarning,\n",
      "/home/dan/src/para/venv/lib/python3.6/site-packages/urllib3/connectionpool.py:1004: InsecureRequestWarning: Unverified HTTPS request is being made. Adding certificate verification is strongly advised. See: https://urllib3.readthedocs.io/en/latest/advanced-usage.html#ssl-warnings\n",
      "  InsecureRequestWarning,\n",
      "/home/dan/src/para/venv/lib/python3.6/site-packages/urllib3/connectionpool.py:1004: InsecureRequestWarning: Unverified HTTPS request is being made. Adding certificate verification is strongly advised. See: https://urllib3.readthedocs.io/en/latest/advanced-usage.html#ssl-warnings\n",
      "  InsecureRequestWarning,\n"
     ]
    },
    {
     "name": "stdout",
     "output_type": "stream",
     "text": [
      "https://nextdoor.com\n",
      "['https://nextdoor.com/', 'https://nextdoor.com/', 'https://nextdoor.nl/', 'https://nextdoor.co.uk/', 'https://nextdoor.de/', 'https://fr.nextdoor.com/', 'https://it.nextdoor.com/', 'https://es.nextdoor.com/', 'https://au.nextdoor.com/', 'https://dk.nextdoor.com/', 'https://se.nextdoor.com/', 'https://ca.nextdoor.com/', 'https://ca.nextdoor.com/', 'https://d19rpgkrjeba2z.cloudfront.net/b9b651cc0b575574/static/nextdoorv2/images/favicons/favicon-v2.ico']\n",
      "https://nextdoor.com\n",
      "['https://nextdoor.com/', 'https://nextdoor.com/', 'https://nextdoor.nl/', 'https://nextdoor.co.uk/', 'https://nextdoor.de/', 'https://fr.nextdoor.com/', 'https://it.nextdoor.com/', 'https://es.nextdoor.com/', 'https://au.nextdoor.com/', 'https://dk.nextdoor.com/', 'https://se.nextdoor.com/', 'https://ca.nextdoor.com/', 'https://ca.nextdoor.com/', 'https://d19rpgkrjeba2z.cloudfront.net/b9b651cc0b575574/static/nextdoorv2/images/favicons/favicon-v2.ico']\n",
      "https://nextdoor.com['https://nextdoor.com/', 'https://nextdoor.com/', 'https://nextdoor.nl/', 'https://nextdoor.co.uk/', 'https://nextdoor.de/', 'https://fr.nextdoor.com/', 'https://it.nextdoor.com/', 'https://es.nextdoor.com/', 'https://au.nextdoor.com/', 'https://dk.nextdoor.com/', 'https://se.nextdoor.com/', 'https://ca.nextdoor.com/', 'https://ca.nextdoor.com/', 'https://d19rpgkrjeba2z.cloudfront.net/b9b651cc0b575574/static/nextdoorv2/images/favicons/favicon-v2.ico']\n",
      "\n",
      "https://nextdoor.com\n",
      "['https://nextdoor.com/', 'https://nextdoor.com/', 'https://nextdoor.nl/', 'https://nextdoor.co.uk/', 'https://nextdoor.de/', 'https://fr.nextdoor.com/', 'https://it.nextdoor.com/', 'https://es.nextdoor.com/', 'https://au.nextdoor.com/', 'https://dk.nextdoor.com/', 'https://se.nextdoor.com/', 'https://ca.nextdoor.com/', 'https://ca.nextdoor.com/', 'https://d19rpgkrjeba2z.cloudfront.net/b9b651cc0b575574/static/nextdoorv2/images/favicons/favicon-v2.ico']\n"
     ]
    },
    {
     "name": "stderr",
     "output_type": "stream",
     "text": [
      "/home/dan/src/para/venv/lib/python3.6/site-packages/urllib3/connectionpool.py:1004: InsecureRequestWarning: Unverified HTTPS request is being made. Adding certificate verification is strongly advised. See: https://urllib3.readthedocs.io/en/latest/advanced-usage.html#ssl-warnings\n",
      "  InsecureRequestWarning,\n",
      "/home/dan/src/para/venv/lib/python3.6/site-packages/urllib3/connectionpool.py:1004: InsecureRequestWarning: Unverified HTTPS request is being made. Adding certificate verification is strongly advised. See: https://urllib3.readthedocs.io/en/latest/advanced-usage.html#ssl-warnings\n",
      "  InsecureRequestWarning,\n",
      "/home/dan/src/para/venv/lib/python3.6/site-packages/urllib3/connectionpool.py:1004: InsecureRequestWarning: Unverified HTTPS request is being made. Adding certificate verification is strongly advised. See: https://urllib3.readthedocs.io/en/latest/advanced-usage.html#ssl-warnings\n",
      "  InsecureRequestWarning,\n",
      "/home/dan/src/para/venv/lib/python3.6/site-packages/urllib3/connectionpool.py:1004: InsecureRequestWarning: Unverified HTTPS request is being made. Adding certificate verification is strongly advised. See: https://urllib3.readthedocs.io/en/latest/advanced-usage.html#ssl-warnings\n",
      "  InsecureRequestWarning,\n",
      "/home/dan/src/para/venv/lib/python3.6/site-packages/urllib3/connectionpool.py:1004: InsecureRequestWarning: Unverified HTTPS request is being made. Adding certificate verification is strongly advised. See: https://urllib3.readthedocs.io/en/latest/advanced-usage.html#ssl-warnings\n",
      "  InsecureRequestWarning,\n",
      "/home/dan/src/para/venv/lib/python3.6/site-packages/urllib3/connectionpool.py:1004: InsecureRequestWarning: Unverified HTTPS request is being made. Adding certificate verification is strongly advised. See: https://urllib3.readthedocs.io/en/latest/advanced-usage.html#ssl-warnings\n",
      "  InsecureRequestWarning,\n"
     ]
    },
    {
     "name": "stdout",
     "output_type": "stream",
     "text": [
      "https://nextdoor.com['https://nextdoor.com/', 'https://nextdoor.com/', 'https://nextdoor.nl/', 'https://nextdoor.co.uk/', 'https://nextdoor.de/', 'https://fr.nextdoor.com/', 'https://it.nextdoor.com/', 'https://es.nextdoor.com/', 'https://au.nextdoor.com/', 'https://dk.nextdoor.com/', 'https://se.nextdoor.com/', 'https://ca.nextdoor.com/', 'https://ca.nextdoor.com/', 'https://d19rpgkrjeba2z.cloudfront.net/b9b651cc0b575574/static/nextdoorv2/images/favicons/favicon-v2.ico']\n",
      "\n",
      "https://nextdoor.com\n",
      "['https://nextdoor.com/', 'https://nextdoor.com/', 'https://nextdoor.nl/', 'https://nextdoor.co.uk/', 'https://nextdoor.de/', 'https://fr.nextdoor.com/', 'https://it.nextdoor.com/', 'https://es.nextdoor.com/', 'https://au.nextdoor.com/', 'https://dk.nextdoor.com/', 'https://se.nextdoor.com/', 'https://ca.nextdoor.com/', 'https://ca.nextdoor.com/', 'https://d19rpgkrjeba2z.cloudfront.net/b9b651cc0b575574/static/nextdoorv2/images/favicons/favicon-v2.ico']\n",
      "https://nextdoor.com\n",
      "['https://nextdoor.com/', 'https://nextdoor.com/', 'https://nextdoor.nl/', 'https://nextdoor.co.uk/', 'https://nextdoor.de/', 'https://fr.nextdoor.com/', 'https://it.nextdoor.com/', 'https://es.nextdoor.com/', 'https://au.nextdoor.com/', 'https://dk.nextdoor.com/', 'https://se.nextdoor.com/', 'https://ca.nextdoor.com/', 'https://ca.nextdoor.com/', 'https://d19rpgkrjeba2z.cloudfront.net/b9b651cc0b575574/static/nextdoorv2/images/favicons/favicon-v2.ico']\n",
      "https://nextdoor.com\n",
      "['https://nextdoor.com/', 'https://nextdoor.com/', 'https://nextdoor.nl/', 'https://nextdoor.co.uk/', 'https://nextdoor.de/', 'https://fr.nextdoor.com/', 'https://it.nextdoor.com/', 'https://es.nextdoor.com/', 'https://au.nextdoor.com/', 'https://dk.nextdoor.com/', 'https://se.nextdoor.com/', 'https://ca.nextdoor.com/', 'https://ca.nextdoor.com/', 'https://d19rpgkrjeba2z.cloudfront.net/b9b651cc0b575574/static/nextdoorv2/images/favicons/favicon-v2.ico']\n",
      "https://nextdoor.com['https://nextdoor.com/', 'https://nextdoor.com/', 'https://nextdoor.nl/', 'https://nextdoor.co.uk/', 'https://nextdoor.de/', 'https://fr.nextdoor.com/', 'https://it.nextdoor.com/', 'https://es.nextdoor.com/', 'https://au.nextdoor.com/', 'https://dk.nextdoor.com/', 'https://se.nextdoor.com/', 'https://ca.nextdoor.com/', 'https://ca.nextdoor.com/', 'https://d19rpgkrjeba2z.cloudfront.net/b9b651cc0b575574/static/nextdoorv2/images/favicons/favicon-v2.ico']https://nextdoor.com\n",
      "\n",
      "\n",
      "['https://nextdoor.com/', 'https://nextdoor.com/', 'https://nextdoor.nl/', 'https://nextdoor.co.uk/', 'https://nextdoor.de/', 'https://fr.nextdoor.com/', 'https://it.nextdoor.com/', 'https://es.nextdoor.com/', 'https://au.nextdoor.com/', 'https://dk.nextdoor.com/', 'https://se.nextdoor.com/', 'https://ca.nextdoor.com/', 'https://ca.nextdoor.com/', 'https://d19rpgkrjeba2z.cloudfront.net/b9b651cc0b575574/static/nextdoorv2/images/favicons/favicon-v2.ico']\n",
      "https://nextdoor.com['https://nextdoor.com/', 'https://nextdoor.com/', 'https://nextdoor.nl/', 'https://nextdoor.co.uk/', 'https://nextdoor.de/', 'https://fr.nextdoor.com/', 'https://it.nextdoor.com/', 'https://es.nextdoor.com/', 'https://au.nextdoor.com/', 'https://dk.nextdoor.com/', 'https://se.nextdoor.com/', 'https://ca.nextdoor.com/', 'https://ca.nextdoor.com/', 'https://d19rpgkrjeba2z.cloudfront.net/b9b651cc0b575574/static/nextdoorv2/images/favicons/favicon-v2.ico']\n",
      "\n",
      "https://nextdoor.com\n",
      "['https://nextdoor.com/', 'https://nextdoor.com/', 'https://nextdoor.nl/', 'https://nextdoor.co.uk/', 'https://nextdoor.de/', 'https://fr.nextdoor.com/', 'https://it.nextdoor.com/', 'https://es.nextdoor.com/', 'https://au.nextdoor.com/', 'https://dk.nextdoor.com/', 'https://se.nextdoor.com/', 'https://ca.nextdoor.com/', 'https://ca.nextdoor.com/', 'https://d19rpgkrjeba2z.cloudfront.net/b9b651cc0b575574/static/nextdoorv2/images/favicons/favicon-v2.ico']\n"
     ]
    },
    {
     "name": "stderr",
     "output_type": "stream",
     "text": [
      "/home/dan/src/para/venv/lib/python3.6/site-packages/urllib3/connectionpool.py:1004: InsecureRequestWarning: Unverified HTTPS request is being made. Adding certificate verification is strongly advised. See: https://urllib3.readthedocs.io/en/latest/advanced-usage.html#ssl-warnings\n",
      "  InsecureRequestWarning,\n",
      "/home/dan/src/para/venv/lib/python3.6/site-packages/urllib3/connectionpool.py:1004: InsecureRequestWarning: Unverified HTTPS request is being made. Adding certificate verification is strongly advised. See: https://urllib3.readthedocs.io/en/latest/advanced-usage.html#ssl-warnings\n",
      "  InsecureRequestWarning,\n"
     ]
    },
    {
     "name": "stdout",
     "output_type": "stream",
     "text": [
      "https://nextdoor.com['https://nextdoor.com/', 'https://nextdoor.com/', 'https://nextdoor.nl/', 'https://nextdoor.co.uk/', 'https://nextdoor.de/', 'https://fr.nextdoor.com/', 'https://it.nextdoor.com/', 'https://es.nextdoor.com/', 'https://au.nextdoor.com/', 'https://dk.nextdoor.com/', 'https://se.nextdoor.com/', 'https://ca.nextdoor.com/', 'https://ca.nextdoor.com/', 'https://d19rpgkrjeba2z.cloudfront.net/b9b651cc0b575574/static/nextdoorv2/images/favicons/favicon-v2.ico']\n",
      "\n",
      "https://nextdoor.com['https://nextdoor.com/', 'https://nextdoor.com/', 'https://nextdoor.nl/', 'https://nextdoor.co.uk/', 'https://nextdoor.de/', 'https://fr.nextdoor.com/', 'https://it.nextdoor.com/', 'https://es.nextdoor.com/', 'https://au.nextdoor.com/', 'https://dk.nextdoor.com/', 'https://se.nextdoor.com/', 'https://ca.nextdoor.com/', 'https://ca.nextdoor.com/', 'https://d19rpgkrjeba2z.cloudfront.net/b9b651cc0b575574/static/nextdoorv2/images/favicons/favicon-v2.ico']\n",
      "\n",
      "https://nextdoor.com['https://nextdoor.com/', 'https://nextdoor.com/', 'https://nextdoor.nl/', 'https://nextdoor.co.uk/', 'https://nextdoor.de/', 'https://fr.nextdoor.com/', 'https://it.nextdoor.com/', 'https://es.nextdoor.com/', 'https://au.nextdoor.com/', 'https://dk.nextdoor.com/', 'https://se.nextdoor.com/', 'https://ca.nextdoor.com/', 'https://ca.nextdoor.com/', 'https://d19rpgkrjeba2z.cloudfront.net/b9b651cc0b575574/static/nextdoorv2/images/favicons/favicon-v2.ico']\n",
      "\n"
     ]
    },
    {
     "name": "stderr",
     "output_type": "stream",
     "text": [
      "/home/dan/src/para/venv/lib/python3.6/site-packages/urllib3/connectionpool.py:1004: InsecureRequestWarning: Unverified HTTPS request is being made. Adding certificate verification is strongly advised. See: https://urllib3.readthedocs.io/en/latest/advanced-usage.html#ssl-warnings\n",
      "  InsecureRequestWarning,\n",
      "/home/dan/src/para/venv/lib/python3.6/site-packages/urllib3/connectionpool.py:1004: InsecureRequestWarning: Unverified HTTPS request is being made. Adding certificate verification is strongly advised. See: https://urllib3.readthedocs.io/en/latest/advanced-usage.html#ssl-warnings\n",
      "  InsecureRequestWarning,\n",
      "/home/dan/src/para/venv/lib/python3.6/site-packages/urllib3/connectionpool.py:1004: InsecureRequestWarning: Unverified HTTPS request is being made. Adding certificate verification is strongly advised. See: https://urllib3.readthedocs.io/en/latest/advanced-usage.html#ssl-warnings\n",
      "  InsecureRequestWarning,\n",
      "/home/dan/src/para/venv/lib/python3.6/site-packages/urllib3/connectionpool.py:1004: InsecureRequestWarning: Unverified HTTPS request is being made. Adding certificate verification is strongly advised. See: https://urllib3.readthedocs.io/en/latest/advanced-usage.html#ssl-warnings\n",
      "  InsecureRequestWarning,\n"
     ]
    },
    {
     "name": "stdout",
     "output_type": "stream",
     "text": [
      "https://nextdoor.com['https://nextdoor.com/', 'https://nextdoor.com/', 'https://nextdoor.nl/', 'https://nextdoor.co.uk/', 'https://nextdoor.de/', 'https://fr.nextdoor.com/', 'https://it.nextdoor.com/', 'https://es.nextdoor.com/', 'https://au.nextdoor.com/', 'https://dk.nextdoor.com/', 'https://se.nextdoor.com/', 'https://ca.nextdoor.com/', 'https://ca.nextdoor.com/', 'https://d19rpgkrjeba2z.cloudfront.net/b9b651cc0b575574/static/nextdoorv2/images/favicons/favicon-v2.ico']\n",
      "\n",
      "https://nextdoor.com['https://nextdoor.com/', 'https://nextdoor.com/', 'https://nextdoor.nl/', 'https://nextdoor.co.uk/', 'https://nextdoor.de/', 'https://fr.nextdoor.com/', 'https://it.nextdoor.com/', 'https://es.nextdoor.com/', 'https://au.nextdoor.com/', 'https://dk.nextdoor.com/', 'https://se.nextdoor.com/', 'https://ca.nextdoor.com/', 'https://ca.nextdoor.com/', 'https://d19rpgkrjeba2z.cloudfront.net/b9b651cc0b575574/static/nextdoorv2/images/favicons/favicon-v2.ico']\n",
      "\n",
      "https://nextdoor.com\n",
      "['https://nextdoor.com/', 'https://nextdoor.com/', 'https://nextdoor.nl/', 'https://nextdoor.co.uk/', 'https://nextdoor.de/', 'https://fr.nextdoor.com/', 'https://it.nextdoor.com/', 'https://es.nextdoor.com/', 'https://au.nextdoor.com/', 'https://dk.nextdoor.com/', 'https://se.nextdoor.com/', 'https://ca.nextdoor.com/', 'https://ca.nextdoor.com/', 'https://d19rpgkrjeba2z.cloudfront.net/b9b651cc0b575574/static/nextdoorv2/images/favicons/favicon-v2.ico']\n",
      "https://nextdoor.com\n",
      "['https://nextdoor.com/', 'https://nextdoor.com/', 'https://nextdoor.nl/', 'https://nextdoor.co.uk/', 'https://nextdoor.de/', 'https://fr.nextdoor.com/', 'https://it.nextdoor.com/', 'https://es.nextdoor.com/', 'https://au.nextdoor.com/', 'https://dk.nextdoor.com/', 'https://se.nextdoor.com/', 'https://ca.nextdoor.com/', 'https://ca.nextdoor.com/', 'https://d19rpgkrjeba2z.cloudfront.net/b9b651cc0b575574/static/nextdoorv2/images/favicons/favicon-v2.ico']\n"
     ]
    },
    {
     "name": "stderr",
     "output_type": "stream",
     "text": [
      "/home/dan/src/para/venv/lib/python3.6/site-packages/urllib3/connectionpool.py:1004: InsecureRequestWarning: Unverified HTTPS request is being made. Adding certificate verification is strongly advised. See: https://urllib3.readthedocs.io/en/latest/advanced-usage.html#ssl-warnings\n",
      "  InsecureRequestWarning,\n",
      "/home/dan/src/para/venv/lib/python3.6/site-packages/urllib3/connectionpool.py:1004: InsecureRequestWarning: Unverified HTTPS request is being made. Adding certificate verification is strongly advised. See: https://urllib3.readthedocs.io/en/latest/advanced-usage.html#ssl-warnings\n",
      "  InsecureRequestWarning,\n",
      "/home/dan/src/para/venv/lib/python3.6/site-packages/urllib3/connectionpool.py:1004: InsecureRequestWarning: Unverified HTTPS request is being made. Adding certificate verification is strongly advised. See: https://urllib3.readthedocs.io/en/latest/advanced-usage.html#ssl-warnings\n",
      "  InsecureRequestWarning,\n",
      "/home/dan/src/para/venv/lib/python3.6/site-packages/urllib3/connectionpool.py:1004: InsecureRequestWarning: Unverified HTTPS request is being made. Adding certificate verification is strongly advised. See: https://urllib3.readthedocs.io/en/latest/advanced-usage.html#ssl-warnings\n",
      "  InsecureRequestWarning,\n"
     ]
    },
    {
     "name": "stdout",
     "output_type": "stream",
     "text": [
      "https://nextdoor.com['https://nextdoor.com/', 'https://nextdoor.com/', 'https://nextdoor.nl/', 'https://nextdoor.co.uk/', 'https://nextdoor.de/', 'https://fr.nextdoor.com/', 'https://it.nextdoor.com/', 'https://es.nextdoor.com/', 'https://au.nextdoor.com/', 'https://dk.nextdoor.com/', 'https://se.nextdoor.com/', 'https://ca.nextdoor.com/', 'https://ca.nextdoor.com/', 'https://d19rpgkrjeba2z.cloudfront.net/b9b651cc0b575574/static/nextdoorv2/images/favicons/favicon-v2.ico']\n",
      "\n",
      "https://nextdoor.com['https://nextdoor.com/', 'https://nextdoor.com/', 'https://nextdoor.nl/', 'https://nextdoor.co.uk/', 'https://nextdoor.de/', 'https://fr.nextdoor.com/', 'https://it.nextdoor.com/', 'https://es.nextdoor.com/', 'https://au.nextdoor.com/', 'https://dk.nextdoor.com/', 'https://se.nextdoor.com/', 'https://ca.nextdoor.com/', 'https://ca.nextdoor.com/', 'https://d19rpgkrjeba2z.cloudfront.net/b9b651cc0b575574/static/nextdoorv2/images/favicons/favicon-v2.ico']\n",
      "\n",
      "https://nextdoor.com['https://nextdoor.com/', 'https://nextdoor.com/', 'https://nextdoor.nl/', 'https://nextdoor.co.uk/', 'https://nextdoor.de/', 'https://fr.nextdoor.com/', 'https://it.nextdoor.com/', 'https://es.nextdoor.com/', 'https://au.nextdoor.com/', 'https://dk.nextdoor.com/', 'https://se.nextdoor.com/', 'https://ca.nextdoor.com/', 'https://ca.nextdoor.com/', 'https://d19rpgkrjeba2z.cloudfront.net/b9b651cc0b575574/static/nextdoorv2/images/favicons/favicon-v2.ico']\n",
      "\n"
     ]
    },
    {
     "name": "stderr",
     "output_type": "stream",
     "text": [
      "/home/dan/src/para/venv/lib/python3.6/site-packages/urllib3/connectionpool.py:1004: InsecureRequestWarning: Unverified HTTPS request is being made. Adding certificate verification is strongly advised. See: https://urllib3.readthedocs.io/en/latest/advanced-usage.html#ssl-warnings\n",
      "  InsecureRequestWarning,\n",
      "/home/dan/src/para/venv/lib/python3.6/site-packages/urllib3/connectionpool.py:1004: InsecureRequestWarning: Unverified HTTPS request is being made. Adding certificate verification is strongly advised. See: https://urllib3.readthedocs.io/en/latest/advanced-usage.html#ssl-warnings\n",
      "  InsecureRequestWarning,\n",
      "/home/dan/src/para/venv/lib/python3.6/site-packages/urllib3/connectionpool.py:1004: InsecureRequestWarning: Unverified HTTPS request is being made. Adding certificate verification is strongly advised. See: https://urllib3.readthedocs.io/en/latest/advanced-usage.html#ssl-warnings\n",
      "  InsecureRequestWarning,\n",
      "/home/dan/src/para/venv/lib/python3.6/site-packages/urllib3/connectionpool.py:1004: InsecureRequestWarning: Unverified HTTPS request is being made. Adding certificate verification is strongly advised. See: https://urllib3.readthedocs.io/en/latest/advanced-usage.html#ssl-warnings\n",
      "  InsecureRequestWarning,\n",
      "/home/dan/src/para/venv/lib/python3.6/site-packages/urllib3/connectionpool.py:1004: InsecureRequestWarning: Unverified HTTPS request is being made. Adding certificate verification is strongly advised. See: https://urllib3.readthedocs.io/en/latest/advanced-usage.html#ssl-warnings\n",
      "  InsecureRequestWarning,\n",
      "/home/dan/src/para/venv/lib/python3.6/site-packages/urllib3/connectionpool.py:1004: InsecureRequestWarning: Unverified HTTPS request is being made. Adding certificate verification is strongly advised. See: https://urllib3.readthedocs.io/en/latest/advanced-usage.html#ssl-warnings\n",
      "  InsecureRequestWarning,\n"
     ]
    },
    {
     "name": "stdout",
     "output_type": "stream",
     "text": [
      "https://nextdoor.com['https://nextdoor.com/', 'https://nextdoor.com/', 'https://nextdoor.nl/', 'https://nextdoor.co.uk/', 'https://nextdoor.de/', 'https://fr.nextdoor.com/', 'https://it.nextdoor.com/', 'https://es.nextdoor.com/', 'https://au.nextdoor.com/', 'https://dk.nextdoor.com/', 'https://se.nextdoor.com/', 'https://ca.nextdoor.com/', 'https://ca.nextdoor.com/', 'https://d19rpgkrjeba2z.cloudfront.net/b9b651cc0b575574/static/nextdoorv2/images/favicons/favicon-v2.ico']\n",
      "\n",
      "https://nextdoor.com['https://nextdoor.com/', 'https://nextdoor.com/', 'https://nextdoor.nl/', 'https://nextdoor.co.uk/', 'https://nextdoor.de/', 'https://fr.nextdoor.com/', 'https://it.nextdoor.com/', 'https://es.nextdoor.com/', 'https://au.nextdoor.com/', 'https://dk.nextdoor.com/', 'https://se.nextdoor.com/', 'https://ca.nextdoor.com/', 'https://ca.nextdoor.com/', 'https://d19rpgkrjeba2z.cloudfront.net/b9b651cc0b575574/static/nextdoorv2/images/favicons/favicon-v2.ico']\n",
      "\n",
      "https://nextdoor.com['https://nextdoor.com/', 'https://nextdoor.com/', 'https://nextdoor.nl/', 'https://nextdoor.co.uk/', 'https://nextdoor.de/', 'https://fr.nextdoor.com/', 'https://it.nextdoor.com/', 'https://es.nextdoor.com/', 'https://au.nextdoor.com/', 'https://dk.nextdoor.com/', 'https://se.nextdoor.com/', 'https://ca.nextdoor.com/', 'https://ca.nextdoor.com/', 'https://d19rpgkrjeba2z.cloudfront.net/b9b651cc0b575574/static/nextdoorv2/images/favicons/favicon-v2.ico']\n",
      "\n"
     ]
    },
    {
     "name": "stderr",
     "output_type": "stream",
     "text": [
      "/home/dan/src/para/venv/lib/python3.6/site-packages/urllib3/connectionpool.py:1004: InsecureRequestWarning: Unverified HTTPS request is being made. Adding certificate verification is strongly advised. See: https://urllib3.readthedocs.io/en/latest/advanced-usage.html#ssl-warnings\n",
      "  InsecureRequestWarning,\n",
      "/home/dan/src/para/venv/lib/python3.6/site-packages/urllib3/connectionpool.py:1004: InsecureRequestWarning: Unverified HTTPS request is being made. Adding certificate verification is strongly advised. See: https://urllib3.readthedocs.io/en/latest/advanced-usage.html#ssl-warnings\n",
      "  InsecureRequestWarning,\n",
      "/home/dan/src/para/venv/lib/python3.6/site-packages/urllib3/connectionpool.py:1004: InsecureRequestWarning: Unverified HTTPS request is being made. Adding certificate verification is strongly advised. See: https://urllib3.readthedocs.io/en/latest/advanced-usage.html#ssl-warnings\n",
      "  InsecureRequestWarning,\n",
      "/home/dan/src/para/venv/lib/python3.6/site-packages/urllib3/connectionpool.py:1004: InsecureRequestWarning: Unverified HTTPS request is being made. Adding certificate verification is strongly advised. See: https://urllib3.readthedocs.io/en/latest/advanced-usage.html#ssl-warnings\n",
      "  InsecureRequestWarning,\n"
     ]
    },
    {
     "name": "stdout",
     "output_type": "stream",
     "text": [
      "https://nextdoor.com\n",
      "['https://nextdoor.com/', 'https://nextdoor.com/', 'https://nextdoor.nl/', 'https://nextdoor.co.uk/', 'https://nextdoor.de/', 'https://fr.nextdoor.com/', 'https://it.nextdoor.com/', 'https://es.nextdoor.com/', 'https://au.nextdoor.com/', 'https://dk.nextdoor.com/', 'https://se.nextdoor.com/', 'https://ca.nextdoor.com/', 'https://ca.nextdoor.com/', 'https://d19rpgkrjeba2z.cloudfront.net/b9b651cc0b575574/static/nextdoorv2/images/favicons/favicon-v2.ico']\n",
      "https://nextdoor.com['https://nextdoor.com/', 'https://nextdoor.com/', 'https://nextdoor.nl/', 'https://nextdoor.co.uk/', 'https://nextdoor.de/', 'https://fr.nextdoor.com/', 'https://it.nextdoor.com/', 'https://es.nextdoor.com/', 'https://au.nextdoor.com/', 'https://dk.nextdoor.com/', 'https://se.nextdoor.com/', 'https://ca.nextdoor.com/', 'https://ca.nextdoor.com/', 'https://d19rpgkrjeba2z.cloudfront.net/b9b651cc0b575574/static/nextdoorv2/images/favicons/favicon-v2.ico']\n",
      "https://nextdoor.com\n",
      "['https://nextdoor.com/', 'https://nextdoor.com/', 'https://nextdoor.nl/', 'https://nextdoor.co.uk/', 'https://nextdoor.de/', 'https://fr.nextdoor.com/', 'https://it.nextdoor.com/', 'https://es.nextdoor.com/', 'https://au.nextdoor.com/', 'https://dk.nextdoor.com/', 'https://se.nextdoor.com/', 'https://ca.nextdoor.com/', 'https://ca.nextdoor.com/', 'https://d19rpgkrjeba2z.cloudfront.net/b9b651cc0b575574/static/nextdoorv2/images/favicons/favicon-v2.ico']\n",
      "\n",
      "https://nextdoor.com\n",
      "['https://nextdoor.com/', 'https://nextdoor.com/', 'https://nextdoor.nl/', 'https://nextdoor.co.uk/', 'https://nextdoor.de/', 'https://fr.nextdoor.com/', 'https://it.nextdoor.com/', 'https://es.nextdoor.com/', 'https://au.nextdoor.com/', 'https://dk.nextdoor.com/', 'https://se.nextdoor.com/', 'https://ca.nextdoor.com/', 'https://ca.nextdoor.com/', 'https://d19rpgkrjeba2z.cloudfront.net/b9b651cc0b575574/static/nextdoorv2/images/favicons/favicon-v2.ico']\n",
      "https://nextdoor.com['https://nextdoor.com/', 'https://nextdoor.com/', 'https://nextdoor.nl/', 'https://nextdoor.co.uk/', 'https://nextdoor.de/', 'https://fr.nextdoor.com/', 'https://it.nextdoor.com/', 'https://es.nextdoor.com/', 'https://au.nextdoor.com/', 'https://dk.nextdoor.com/', 'https://se.nextdoor.com/', 'https://ca.nextdoor.com/', 'https://ca.nextdoor.com/', 'https://d19rpgkrjeba2z.cloudfront.net/b9b651cc0b575574/static/nextdoorv2/images/favicons/favicon-v2.ico']\n",
      "\n",
      "https://nextdoor.com['https://nextdoor.com/', 'https://nextdoor.com/', 'https://nextdoor.nl/', 'https://nextdoor.co.uk/', 'https://nextdoor.de/', 'https://fr.nextdoor.com/', 'https://it.nextdoor.com/', 'https://es.nextdoor.com/', 'https://au.nextdoor.com/', 'https://dk.nextdoor.com/', 'https://se.nextdoor.com/', 'https://ca.nextdoor.com/', 'https://ca.nextdoor.com/', 'https://d19rpgkrjeba2z.cloudfront.net/b9b651cc0b575574/static/nextdoorv2/images/favicons/favicon-v2.ico']\n",
      "\n",
      "https://nextdoor.com\n",
      "['https://nextdoor.com/', 'https://nextdoor.com/', 'https://nextdoor.nl/', 'https://nextdoor.co.uk/', 'https://nextdoor.de/', 'https://fr.nextdoor.com/', 'https://it.nextdoor.com/', 'https://es.nextdoor.com/', 'https://au.nextdoor.com/', 'https://dk.nextdoor.com/', 'https://se.nextdoor.com/', 'https://ca.nextdoor.com/', 'https://ca.nextdoor.com/', 'https://d19rpgkrjeba2z.cloudfront.net/b9b651cc0b575574/static/nextdoorv2/images/favicons/favicon-v2.ico']\n",
      "https://nextdoor.com['https://nextdoor.com/', 'https://nextdoor.com/', 'https://nextdoor.nl/', 'https://nextdoor.co.uk/', 'https://nextdoor.de/', 'https://fr.nextdoor.com/', 'https://it.nextdoor.com/', 'https://es.nextdoor.com/', 'https://au.nextdoor.com/', 'https://dk.nextdoor.com/', 'https://se.nextdoor.com/', 'https://ca.nextdoor.com/', 'https://ca.nextdoor.com/', 'https://d19rpgkrjeba2z.cloudfront.net/b9b651cc0b575574/static/nextdoorv2/images/favicons/favicon-v2.ico']\n",
      "\n",
      "https://nextdoor.com\n",
      "['https://nextdoor.com/', 'https://nextdoor.com/', 'https://nextdoor.nl/', 'https://nextdoor.co.uk/', 'https://nextdoor.de/', 'https://fr.nextdoor.com/', 'https://it.nextdoor.com/', 'https://es.nextdoor.com/', 'https://au.nextdoor.com/', 'https://dk.nextdoor.com/', 'https://se.nextdoor.com/', 'https://ca.nextdoor.com/', 'https://ca.nextdoor.com/', 'https://d19rpgkrjeba2z.cloudfront.net/b9b651cc0b575574/static/nextdoorv2/images/favicons/favicon-v2.ico']\n"
     ]
    },
    {
     "name": "stderr",
     "output_type": "stream",
     "text": [
      "/home/dan/src/para/venv/lib/python3.6/site-packages/urllib3/connectionpool.py:1004: InsecureRequestWarning: Unverified HTTPS request is being made. Adding certificate verification is strongly advised. See: https://urllib3.readthedocs.io/en/latest/advanced-usage.html#ssl-warnings\n",
      "  InsecureRequestWarning,\n",
      "/home/dan/src/para/venv/lib/python3.6/site-packages/urllib3/connectionpool.py:1004: InsecureRequestWarning: Unverified HTTPS request is being made. Adding certificate verification is strongly advised. See: https://urllib3.readthedocs.io/en/latest/advanced-usage.html#ssl-warnings\n",
      "  InsecureRequestWarning,\n",
      "/home/dan/src/para/venv/lib/python3.6/site-packages/urllib3/connectionpool.py:1004: InsecureRequestWarning: Unverified HTTPS request is being made. Adding certificate verification is strongly advised. See: https://urllib3.readthedocs.io/en/latest/advanced-usage.html#ssl-warnings\n",
      "  InsecureRequestWarning,\n",
      "/home/dan/src/para/venv/lib/python3.6/site-packages/urllib3/connectionpool.py:1004: InsecureRequestWarning: Unverified HTTPS request is being made. Adding certificate verification is strongly advised. See: https://urllib3.readthedocs.io/en/latest/advanced-usage.html#ssl-warnings\n",
      "  InsecureRequestWarning,\n",
      "/home/dan/src/para/venv/lib/python3.6/site-packages/urllib3/connectionpool.py:1004: InsecureRequestWarning: Unverified HTTPS request is being made. Adding certificate verification is strongly advised. See: https://urllib3.readthedocs.io/en/latest/advanced-usage.html#ssl-warnings\n",
      "  InsecureRequestWarning,\n"
     ]
    },
    {
     "name": "stdout",
     "output_type": "stream",
     "text": [
      "https://nextdoor.com\n",
      "['https://nextdoor.com/', 'https://nextdoor.com/', 'https://nextdoor.nl/', 'https://nextdoor.co.uk/', 'https://nextdoor.de/', 'https://fr.nextdoor.com/', 'https://it.nextdoor.com/', 'https://es.nextdoor.com/', 'https://au.nextdoor.com/', 'https://dk.nextdoor.com/', 'https://se.nextdoor.com/', 'https://ca.nextdoor.com/', 'https://ca.nextdoor.com/', 'https://d19rpgkrjeba2z.cloudfront.net/b9b651cc0b575574/static/nextdoorv2/images/favicons/favicon-v2.ico']\n",
      "https://nextdoor.com['https://nextdoor.com/', 'https://nextdoor.com/', 'https://nextdoor.nl/', 'https://nextdoor.co.uk/', 'https://nextdoor.de/', 'https://fr.nextdoor.com/', 'https://it.nextdoor.com/', 'https://es.nextdoor.com/', 'https://au.nextdoor.com/', 'https://dk.nextdoor.com/', 'https://se.nextdoor.com/', 'https://ca.nextdoor.com/', 'https://ca.nextdoor.com/', 'https://d19rpgkrjeba2z.cloudfront.net/b9b651cc0b575574/static/nextdoorv2/images/favicons/favicon-v2.ico']\n",
      "\n"
     ]
    },
    {
     "name": "stderr",
     "output_type": "stream",
     "text": [
      "/home/dan/src/para/venv/lib/python3.6/site-packages/urllib3/connectionpool.py:1004: InsecureRequestWarning: Unverified HTTPS request is being made. Adding certificate verification is strongly advised. See: https://urllib3.readthedocs.io/en/latest/advanced-usage.html#ssl-warnings\n",
      "  InsecureRequestWarning,\n",
      "/home/dan/src/para/venv/lib/python3.6/site-packages/urllib3/connectionpool.py:1004: InsecureRequestWarning: Unverified HTTPS request is being made. Adding certificate verification is strongly advised. See: https://urllib3.readthedocs.io/en/latest/advanced-usage.html#ssl-warnings\n",
      "  InsecureRequestWarning,\n",
      "/home/dan/src/para/venv/lib/python3.6/site-packages/urllib3/connectionpool.py:1004: InsecureRequestWarning: Unverified HTTPS request is being made. Adding certificate verification is strongly advised. See: https://urllib3.readthedocs.io/en/latest/advanced-usage.html#ssl-warnings\n",
      "  InsecureRequestWarning,\n"
     ]
    },
    {
     "name": "stdout",
     "output_type": "stream",
     "text": [
      "https://nextdoor.com['https://nextdoor.com/', 'https://nextdoor.com/', 'https://nextdoor.nl/', 'https://nextdoor.co.uk/', 'https://nextdoor.de/', 'https://fr.nextdoor.com/', 'https://it.nextdoor.com/', 'https://es.nextdoor.com/', 'https://au.nextdoor.com/', 'https://dk.nextdoor.com/', 'https://se.nextdoor.com/', 'https://ca.nextdoor.com/', 'https://ca.nextdoor.com/', 'https://d19rpgkrjeba2z.cloudfront.net/b9b651cc0b575574/static/nextdoorv2/images/favicons/favicon-v2.ico']\n",
      "\n",
      "https://nextdoor.com['https://nextdoor.com/', 'https://nextdoor.com/', 'https://nextdoor.nl/', 'https://nextdoor.co.uk/', 'https://nextdoor.de/', 'https://fr.nextdoor.com/', 'https://it.nextdoor.com/', 'https://es.nextdoor.com/', 'https://au.nextdoor.com/', 'https://dk.nextdoor.com/', 'https://se.nextdoor.com/', 'https://ca.nextdoor.com/', 'https://ca.nextdoor.com/', 'https://d19rpgkrjeba2z.cloudfront.net/b9b651cc0b575574/static/nextdoorv2/images/favicons/favicon-v2.ico']\n",
      "\n",
      "https://nextdoor.com\n",
      "['https://nextdoor.com/', 'https://nextdoor.com/', 'https://nextdoor.nl/', 'https://nextdoor.co.uk/', 'https://nextdoor.de/', 'https://fr.nextdoor.com/', 'https://it.nextdoor.com/', 'https://es.nextdoor.com/', 'https://au.nextdoor.com/', 'https://dk.nextdoor.com/', 'https://se.nextdoor.com/', 'https://ca.nextdoor.com/', 'https://ca.nextdoor.com/', 'https://d19rpgkrjeba2z.cloudfront.net/b9b651cc0b575574/static/nextdoorv2/images/favicons/favicon-v2.ico']\n",
      "https://nextdoor.com\n",
      "['https://nextdoor.com/', 'https://nextdoor.com/', 'https://nextdoor.nl/', 'https://nextdoor.co.uk/', 'https://nextdoor.de/', 'https://fr.nextdoor.com/', 'https://it.nextdoor.com/', 'https://es.nextdoor.com/', 'https://au.nextdoor.com/', 'https://dk.nextdoor.com/', 'https://se.nextdoor.com/', 'https://ca.nextdoor.com/', 'https://ca.nextdoor.com/', 'https://d19rpgkrjeba2z.cloudfront.net/b9b651cc0b575574/static/nextdoorv2/images/favicons/favicon-v2.ico']\n",
      "https://nextdoor.com\n"
     ]
    },
    {
     "name": "stderr",
     "output_type": "stream",
     "text": [
      "/home/dan/src/para/venv/lib/python3.6/site-packages/urllib3/connectionpool.py:1004: InsecureRequestWarning: Unverified HTTPS request is being made. Adding certificate verification is strongly advised. See: https://urllib3.readthedocs.io/en/latest/advanced-usage.html#ssl-warnings\n",
      "  InsecureRequestWarning,\n",
      "/home/dan/src/para/venv/lib/python3.6/site-packages/urllib3/connectionpool.py:1004: InsecureRequestWarning: Unverified HTTPS request is being made. Adding certificate verification is strongly advised. See: https://urllib3.readthedocs.io/en/latest/advanced-usage.html#ssl-warnings\n",
      "  InsecureRequestWarning,\n",
      "/home/dan/src/para/venv/lib/python3.6/site-packages/urllib3/connectionpool.py:1004: InsecureRequestWarning: Unverified HTTPS request is being made. Adding certificate verification is strongly advised. See: https://urllib3.readthedocs.io/en/latest/advanced-usage.html#ssl-warnings\n",
      "  InsecureRequestWarning,\n",
      "/home/dan/src/para/venv/lib/python3.6/site-packages/urllib3/connectionpool.py:1004: InsecureRequestWarning: Unverified HTTPS request is being made. Adding certificate verification is strongly advised. See: https://urllib3.readthedocs.io/en/latest/advanced-usage.html#ssl-warnings\n",
      "  InsecureRequestWarning,\n"
     ]
    },
    {
     "name": "stdout",
     "output_type": "stream",
     "text": [
      "['https://nextdoor.com/', 'https://nextdoor.com/', 'https://nextdoor.nl/', 'https://nextdoor.co.uk/', 'https://nextdoor.de/', 'https://fr.nextdoor.com/', 'https://it.nextdoor.com/', 'https://es.nextdoor.com/', 'https://au.nextdoor.com/', 'https://dk.nextdoor.com/', 'https://se.nextdoor.com/', 'https://ca.nextdoor.com/', 'https://ca.nextdoor.com/', 'https://d19rpgkrjeba2z.cloudfront.net/b9b651cc0b575574/static/nextdoorv2/images/favicons/favicon-v2.ico']\n",
      "https://nextdoor.com\n",
      "['https://nextdoor.com/', 'https://nextdoor.com/', 'https://nextdoor.nl/', 'https://nextdoor.co.uk/', 'https://nextdoor.de/', 'https://fr.nextdoor.com/', 'https://it.nextdoor.com/', 'https://es.nextdoor.com/', 'https://au.nextdoor.com/', 'https://dk.nextdoor.com/', 'https://se.nextdoor.com/', 'https://ca.nextdoor.com/', 'https://ca.nextdoor.com/', 'https://d19rpgkrjeba2z.cloudfront.net/b9b651cc0b575574/static/nextdoorv2/images/favicons/favicon-v2.ico']\n",
      "https://nextdoor.com['https://nextdoor.com/', 'https://nextdoor.com/', 'https://nextdoor.nl/', 'https://nextdoor.co.uk/', 'https://nextdoor.de/', 'https://fr.nextdoor.com/', 'https://it.nextdoor.com/', 'https://es.nextdoor.com/', 'https://au.nextdoor.com/', 'https://dk.nextdoor.com/', 'https://se.nextdoor.com/', 'https://ca.nextdoor.com/', 'https://ca.nextdoor.com/', 'https://d19rpgkrjeba2z.cloudfront.net/b9b651cc0b575574/static/nextdoorv2/images/favicons/favicon-v2.ico']\n",
      "\n",
      "https://nextdoor.com\n",
      "['https://nextdoor.com/', 'https://nextdoor.com/', 'https://nextdoor.nl/', 'https://nextdoor.co.uk/', 'https://nextdoor.de/', 'https://fr.nextdoor.com/', 'https://it.nextdoor.com/', 'https://es.nextdoor.com/', 'https://au.nextdoor.com/', 'https://dk.nextdoor.com/', 'https://se.nextdoor.com/', 'https://ca.nextdoor.com/', 'https://ca.nextdoor.com/', 'https://d19rpgkrjeba2z.cloudfront.net/b9b651cc0b575574/static/nextdoorv2/images/favicons/favicon-v2.ico']\n",
      "https://nextdoor.com['https://nextdoor.com/', 'https://nextdoor.com/', 'https://nextdoor.nl/', 'https://nextdoor.co.uk/', 'https://nextdoor.de/', 'https://fr.nextdoor.com/', 'https://it.nextdoor.com/', 'https://es.nextdoor.com/', 'https://au.nextdoor.com/', 'https://dk.nextdoor.com/', 'https://se.nextdoor.com/', 'https://ca.nextdoor.com/', 'https://ca.nextdoor.com/', 'https://d19rpgkrjeba2z.cloudfront.net/b9b651cc0b575574/static/nextdoorv2/images/favicons/favicon-v2.ico']\n",
      "\n",
      "https://nextdoor.com['https://nextdoor.com/', 'https://nextdoor.com/', 'https://nextdoor.nl/', 'https://nextdoor.co.uk/', 'https://nextdoor.de/', 'https://fr.nextdoor.com/', 'https://it.nextdoor.com/', 'https://es.nextdoor.com/', 'https://au.nextdoor.com/', 'https://dk.nextdoor.com/', 'https://se.nextdoor.com/', 'https://ca.nextdoor.com/', 'https://ca.nextdoor.com/', 'https://d19rpgkrjeba2z.cloudfront.net/b9b651cc0b575574/static/nextdoorv2/images/favicons/favicon-v2.ico']\n",
      "\n",
      "https://nextdoor.com['https://nextdoor.com/', 'https://nextdoor.com/', 'https://nextdoor.nl/', 'https://nextdoor.co.uk/', 'https://nextdoor.de/', 'https://fr.nextdoor.com/', 'https://it.nextdoor.com/', 'https://es.nextdoor.com/', 'https://au.nextdoor.com/', 'https://dk.nextdoor.com/', 'https://se.nextdoor.com/', 'https://ca.nextdoor.com/', 'https://ca.nextdoor.com/', 'https://d19rpgkrjeba2z.cloudfront.net/b9b651cc0b575574/static/nextdoorv2/images/favicons/favicon-v2.ico']\n",
      "\n"
     ]
    },
    {
     "name": "stderr",
     "output_type": "stream",
     "text": [
      "/home/dan/src/para/venv/lib/python3.6/site-packages/urllib3/connectionpool.py:1004: InsecureRequestWarning: Unverified HTTPS request is being made. Adding certificate verification is strongly advised. See: https://urllib3.readthedocs.io/en/latest/advanced-usage.html#ssl-warnings\n",
      "  InsecureRequestWarning,\n",
      "/home/dan/src/para/venv/lib/python3.6/site-packages/urllib3/connectionpool.py:1004: InsecureRequestWarning: Unverified HTTPS request is being made. Adding certificate verification is strongly advised. See: https://urllib3.readthedocs.io/en/latest/advanced-usage.html#ssl-warnings\n",
      "  InsecureRequestWarning,\n",
      "/home/dan/src/para/venv/lib/python3.6/site-packages/urllib3/connectionpool.py:1004: InsecureRequestWarning: Unverified HTTPS request is being made. Adding certificate verification is strongly advised. See: https://urllib3.readthedocs.io/en/latest/advanced-usage.html#ssl-warnings\n",
      "  InsecureRequestWarning,\n",
      "/home/dan/src/para/venv/lib/python3.6/site-packages/urllib3/connectionpool.py:1004: InsecureRequestWarning: Unverified HTTPS request is being made. Adding certificate verification is strongly advised. See: https://urllib3.readthedocs.io/en/latest/advanced-usage.html#ssl-warnings\n",
      "  InsecureRequestWarning,\n",
      "/home/dan/src/para/venv/lib/python3.6/site-packages/urllib3/connectionpool.py:1004: InsecureRequestWarning: Unverified HTTPS request is being made. Adding certificate verification is strongly advised. See: https://urllib3.readthedocs.io/en/latest/advanced-usage.html#ssl-warnings\n",
      "  InsecureRequestWarning,\n",
      "/home/dan/src/para/venv/lib/python3.6/site-packages/urllib3/connectionpool.py:1004: InsecureRequestWarning: Unverified HTTPS request is being made. Adding certificate verification is strongly advised. See: https://urllib3.readthedocs.io/en/latest/advanced-usage.html#ssl-warnings\n",
      "  InsecureRequestWarning,\n",
      "/home/dan/src/para/venv/lib/python3.6/site-packages/urllib3/connectionpool.py:1004: InsecureRequestWarning: Unverified HTTPS request is being made. Adding certificate verification is strongly advised. See: https://urllib3.readthedocs.io/en/latest/advanced-usage.html#ssl-warnings\n",
      "  InsecureRequestWarning,\n",
      "/home/dan/src/para/venv/lib/python3.6/site-packages/urllib3/connectionpool.py:1004: InsecureRequestWarning: Unverified HTTPS request is being made. Adding certificate verification is strongly advised. See: https://urllib3.readthedocs.io/en/latest/advanced-usage.html#ssl-warnings\n",
      "  InsecureRequestWarning,\n",
      "/home/dan/src/para/venv/lib/python3.6/site-packages/urllib3/connectionpool.py:1004: InsecureRequestWarning: Unverified HTTPS request is being made. Adding certificate verification is strongly advised. See: https://urllib3.readthedocs.io/en/latest/advanced-usage.html#ssl-warnings\n",
      "  InsecureRequestWarning,\n",
      "/home/dan/src/para/venv/lib/python3.6/site-packages/urllib3/connectionpool.py:1004: InsecureRequestWarning: Unverified HTTPS request is being made. Adding certificate verification is strongly advised. See: https://urllib3.readthedocs.io/en/latest/advanced-usage.html#ssl-warnings\n",
      "  InsecureRequestWarning,\n"
     ]
    },
    {
     "name": "stdout",
     "output_type": "stream",
     "text": [
      "https://nextdoor.com['https://nextdoor.com/', 'https://nextdoor.com/', 'https://nextdoor.nl/', 'https://nextdoor.co.uk/', 'https://nextdoor.de/', 'https://fr.nextdoor.com/', 'https://it.nextdoor.com/', 'https://es.nextdoor.com/', 'https://au.nextdoor.com/', 'https://dk.nextdoor.com/', 'https://se.nextdoor.com/', 'https://ca.nextdoor.com/', 'https://ca.nextdoor.com/', 'https://d19rpgkrjeba2z.cloudfront.net/b9b651cc0b575574/static/nextdoorv2/images/favicons/favicon-v2.ico']\n",
      "\n",
      "https://nextdoor.com\n",
      "['https://nextdoor.com/', 'https://nextdoor.com/', 'https://nextdoor.nl/', 'https://nextdoor.co.uk/', 'https://nextdoor.de/', 'https://fr.nextdoor.com/', 'https://it.nextdoor.com/', 'https://es.nextdoor.com/', 'https://au.nextdoor.com/', 'https://dk.nextdoor.com/', 'https://se.nextdoor.com/', 'https://ca.nextdoor.com/', 'https://ca.nextdoor.com/', 'https://d19rpgkrjeba2z.cloudfront.net/b9b651cc0b575574/static/nextdoorv2/images/favicons/favicon-v2.ico']\n",
      "https://nextdoor.com['https://nextdoor.com/', 'https://nextdoor.com/', 'https://nextdoor.nl/', 'https://nextdoor.co.uk/', 'https://nextdoor.de/', 'https://fr.nextdoor.com/', 'https://it.nextdoor.com/', 'https://es.nextdoor.com/', 'https://au.nextdoor.com/', 'https://dk.nextdoor.com/', 'https://se.nextdoor.com/', 'https://ca.nextdoor.com/', 'https://ca.nextdoor.com/', 'https://d19rpgkrjeba2z.cloudfront.net/b9b651cc0b575574/static/nextdoorv2/images/favicons/favicon-v2.ico']\n",
      "\n",
      "https://nextdoor.com['https://nextdoor.com/', 'https://nextdoor.com/', 'https://nextdoor.nl/', 'https://nextdoor.co.uk/', 'https://nextdoor.de/', 'https://fr.nextdoor.com/', 'https://it.nextdoor.com/', 'https://es.nextdoor.com/', 'https://au.nextdoor.com/', 'https://dk.nextdoor.com/', 'https://se.nextdoor.com/', 'https://ca.nextdoor.com/', 'https://ca.nextdoor.com/', 'https://d19rpgkrjeba2z.cloudfront.net/b9b651cc0b575574/static/nextdoorv2/images/favicons/favicon-v2.ico']\n",
      "\n",
      "['https://nextdoor.com/', 'https://nextdoor.com/', 'https://nextdoor.nl/', 'https://nextdoor.co.uk/', 'https://nextdoor.de/', 'https://fr.nextdoor.com/', 'https://it.nextdoor.com/', 'https://es.nextdoor.com/', 'https://au.nextdoor.com/', 'https://dk.nextdoor.com/', 'https://se.nextdoor.com/', 'https://ca.nextdoor.com/', 'https://ca.nextdoor.com/', 'https://d19rpgkrjeba2z.cloudfront.net/b9b651cc0b575574/static/nextdoorv2/images/favicons/favicon-v2.ico']\n",
      "['https://nextdoor.com/', 'https://nextdoor.com/', 'https://nextdoor.nl/', 'https://nextdoor.co.uk/', 'https://nextdoor.de/', 'https://fr.nextdoor.com/', 'https://it.nextdoor.com/', 'https://es.nextdoor.com/', 'https://au.nextdoor.com/', 'https://dk.nextdoor.com/', 'https://se.nextdoor.com/', 'https://ca.nextdoor.com/', 'https://ca.nextdoor.com/', 'https://d19rpgkrjeba2z.cloudfront.net/b9b651cc0b575574/static/nextdoorv2/images/favicons/favicon-v2.ico']\n",
      "['https://nextdoor.com/', 'https://nextdoor.com/', 'https://nextdoor.nl/', 'https://nextdoor.co.uk/', 'https://nextdoor.de/', 'https://fr.nextdoor.com/', 'https://it.nextdoor.com/', 'https://es.nextdoor.com/', 'https://au.nextdoor.com/', 'https://dk.nextdoor.com/', 'https://se.nextdoor.com/', 'https://ca.nextdoor.com/', 'https://ca.nextdoor.com/', 'https://d19rpgkrjeba2z.cloudfront.net/b9b651cc0b575574/static/nextdoorv2/images/favicons/favicon-v2.ico']\n",
      "['https://nextdoor.com/', 'https://nextdoor.com/', 'https://nextdoor.nl/', 'https://nextdoor.co.uk/', 'https://nextdoor.de/', 'https://fr.nextdoor.com/', 'https://it.nextdoor.com/', 'https://es.nextdoor.com/', 'https://au.nextdoor.com/', 'https://dk.nextdoor.com/', 'https://se.nextdoor.com/', 'https://ca.nextdoor.com/', 'https://ca.nextdoor.com/', 'https://d19rpgkrjeba2z.cloudfront.net/b9b651cc0b575574/static/nextdoorv2/images/favicons/favicon-v2.ico']\n"
     ]
    },
    {
     "name": "stderr",
     "output_type": "stream",
     "text": [
      "/home/dan/src/para/venv/lib/python3.6/site-packages/urllib3/connectionpool.py:1004: InsecureRequestWarning: Unverified HTTPS request is being made. Adding certificate verification is strongly advised. See: https://urllib3.readthedocs.io/en/latest/advanced-usage.html#ssl-warnings\n",
      "  InsecureRequestWarning,\n",
      "/home/dan/src/para/venv/lib/python3.6/site-packages/urllib3/connectionpool.py:1004: InsecureRequestWarning: Unverified HTTPS request is being made. Adding certificate verification is strongly advised. See: https://urllib3.readthedocs.io/en/latest/advanced-usage.html#ssl-warnings\n",
      "  InsecureRequestWarning,\n",
      "/home/dan/src/para/venv/lib/python3.6/site-packages/urllib3/connectionpool.py:1004: InsecureRequestWarning: Unverified HTTPS request is being made. Adding certificate verification is strongly advised. See: https://urllib3.readthedocs.io/en/latest/advanced-usage.html#ssl-warnings\n",
      "  InsecureRequestWarning,\n",
      "/home/dan/src/para/venv/lib/python3.6/site-packages/urllib3/connectionpool.py:1004: InsecureRequestWarning: Unverified HTTPS request is being made. Adding certificate verification is strongly advised. See: https://urllib3.readthedocs.io/en/latest/advanced-usage.html#ssl-warnings\n",
      "  InsecureRequestWarning,\n",
      "/home/dan/src/para/venv/lib/python3.6/site-packages/urllib3/connectionpool.py:1004: InsecureRequestWarning: Unverified HTTPS request is being made. Adding certificate verification is strongly advised. See: https://urllib3.readthedocs.io/en/latest/advanced-usage.html#ssl-warnings\n",
      "  InsecureRequestWarning,\n"
     ]
    },
    {
     "name": "stdout",
     "output_type": "stream",
     "text": [
      "['https://nextdoor.com/', 'https://nextdoor.com/', 'https://nextdoor.nl/', 'https://nextdoor.co.uk/', 'https://nextdoor.de/', 'https://fr.nextdoor.com/', 'https://it.nextdoor.com/', 'https://es.nextdoor.com/', 'https://au.nextdoor.com/', 'https://dk.nextdoor.com/', 'https://se.nextdoor.com/', 'https://ca.nextdoor.com/', 'https://ca.nextdoor.com/', 'https://d19rpgkrjeba2z.cloudfront.net/b9b651cc0b575574/static/nextdoorv2/images/favicons/favicon-v2.ico']\n",
      "['https://nextdoor.com/', 'https://nextdoor.com/', 'https://nextdoor.nl/', 'https://nextdoor.co.uk/', 'https://nextdoor.de/', 'https://fr.nextdoor.com/', 'https://it.nextdoor.com/', 'https://es.nextdoor.com/', 'https://au.nextdoor.com/', 'https://dk.nextdoor.com/', 'https://se.nextdoor.com/', 'https://ca.nextdoor.com/', 'https://ca.nextdoor.com/', 'https://d19rpgkrjeba2z.cloudfront.net/b9b651cc0b575574/static/nextdoorv2/images/favicons/favicon-v2.ico']\n",
      "['https://nextdoor.com/', 'https://nextdoor.com/', 'https://nextdoor.nl/', 'https://nextdoor.co.uk/', 'https://nextdoor.de/', 'https://fr.nextdoor.com/', 'https://it.nextdoor.com/', 'https://es.nextdoor.com/', 'https://au.nextdoor.com/', 'https://dk.nextdoor.com/', 'https://se.nextdoor.com/', 'https://ca.nextdoor.com/', 'https://ca.nextdoor.com/', 'https://d19rpgkrjeba2z.cloudfront.net/b9b651cc0b575574/static/nextdoorv2/images/favicons/favicon-v2.ico']\n",
      "['https://nextdoor.com/', 'https://nextdoor.com/', 'https://nextdoor.nl/', 'https://nextdoor.co.uk/', 'https://nextdoor.de/', 'https://fr.nextdoor.com/', 'https://it.nextdoor.com/', 'https://es.nextdoor.com/', 'https://au.nextdoor.com/', 'https://dk.nextdoor.com/', 'https://se.nextdoor.com/', 'https://ca.nextdoor.com/', 'https://ca.nextdoor.com/', 'https://d19rpgkrjeba2z.cloudfront.net/b9b651cc0b575574/static/nextdoorv2/images/favicons/favicon-v2.ico']\n"
     ]
    },
    {
     "name": "stderr",
     "output_type": "stream",
     "text": [
      "/home/dan/src/para/venv/lib/python3.6/site-packages/urllib3/connectionpool.py:1004: InsecureRequestWarning: Unverified HTTPS request is being made. Adding certificate verification is strongly advised. See: https://urllib3.readthedocs.io/en/latest/advanced-usage.html#ssl-warnings\n",
      "  InsecureRequestWarning,\n",
      "/home/dan/src/para/venv/lib/python3.6/site-packages/urllib3/connectionpool.py:1004: InsecureRequestWarning: Unverified HTTPS request is being made. Adding certificate verification is strongly advised. See: https://urllib3.readthedocs.io/en/latest/advanced-usage.html#ssl-warnings\n",
      "  InsecureRequestWarning,\n",
      "/home/dan/src/para/venv/lib/python3.6/site-packages/urllib3/connectionpool.py:1004: InsecureRequestWarning: Unverified HTTPS request is being made. Adding certificate verification is strongly advised. See: https://urllib3.readthedocs.io/en/latest/advanced-usage.html#ssl-warnings\n",
      "  InsecureRequestWarning,\n"
     ]
    },
    {
     "name": "stdout",
     "output_type": "stream",
     "text": [
      "['https://nextdoor.com/', 'https://nextdoor.com/', 'https://nextdoor.nl/', 'https://nextdoor.co.uk/', 'https://nextdoor.de/', 'https://fr.nextdoor.com/', 'https://it.nextdoor.com/', 'https://es.nextdoor.com/', 'https://au.nextdoor.com/', 'https://dk.nextdoor.com/', 'https://se.nextdoor.com/', 'https://ca.nextdoor.com/', 'https://ca.nextdoor.com/', 'https://d19rpgkrjeba2z.cloudfront.net/b9b651cc0b575574/static/nextdoorv2/images/favicons/favicon-v2.ico']\n",
      "['https://nextdoor.com/', 'https://nextdoor.com/', 'https://nextdoor.nl/', 'https://nextdoor.co.uk/', 'https://nextdoor.de/', 'https://fr.nextdoor.com/', 'https://it.nextdoor.com/', 'https://es.nextdoor.com/', 'https://au.nextdoor.com/', 'https://dk.nextdoor.com/', 'https://se.nextdoor.com/', 'https://ca.nextdoor.com/', 'https://ca.nextdoor.com/', 'https://d19rpgkrjeba2z.cloudfront.net/b9b651cc0b575574/static/nextdoorv2/images/favicons/favicon-v2.ico']\n"
     ]
    },
    {
     "name": "stderr",
     "output_type": "stream",
     "text": [
      "/home/dan/src/para/venv/lib/python3.6/site-packages/urllib3/connectionpool.py:1004: InsecureRequestWarning: Unverified HTTPS request is being made. Adding certificate verification is strongly advised. See: https://urllib3.readthedocs.io/en/latest/advanced-usage.html#ssl-warnings\n",
      "  InsecureRequestWarning,\n",
      "/home/dan/src/para/venv/lib/python3.6/site-packages/urllib3/connectionpool.py:1004: InsecureRequestWarning: Unverified HTTPS request is being made. Adding certificate verification is strongly advised. See: https://urllib3.readthedocs.io/en/latest/advanced-usage.html#ssl-warnings\n",
      "  InsecureRequestWarning,\n",
      "/home/dan/src/para/venv/lib/python3.6/site-packages/urllib3/connectionpool.py:1004: InsecureRequestWarning: Unverified HTTPS request is being made. Adding certificate verification is strongly advised. See: https://urllib3.readthedocs.io/en/latest/advanced-usage.html#ssl-warnings\n",
      "  InsecureRequestWarning,\n"
     ]
    },
    {
     "name": "stdout",
     "output_type": "stream",
     "text": [
      "['https://nextdoor.com/', 'https://nextdoor.com/', 'https://nextdoor.nl/', 'https://nextdoor.co.uk/', 'https://nextdoor.de/', 'https://fr.nextdoor.com/', 'https://it.nextdoor.com/', 'https://es.nextdoor.com/', 'https://au.nextdoor.com/', 'https://dk.nextdoor.com/', 'https://se.nextdoor.com/', 'https://ca.nextdoor.com/', 'https://ca.nextdoor.com/', 'https://d19rpgkrjeba2z.cloudfront.net/b9b651cc0b575574/static/nextdoorv2/images/favicons/favicon-v2.ico']\n",
      "['https://nextdoor.com/', 'https://nextdoor.com/', 'https://nextdoor.nl/', 'https://nextdoor.co.uk/', 'https://nextdoor.de/', 'https://fr.nextdoor.com/', 'https://it.nextdoor.com/', 'https://es.nextdoor.com/', 'https://au.nextdoor.com/', 'https://dk.nextdoor.com/', 'https://se.nextdoor.com/', 'https://ca.nextdoor.com/', 'https://ca.nextdoor.com/', 'https://d19rpgkrjeba2z.cloudfront.net/b9b651cc0b575574/static/nextdoorv2/images/favicons/favicon-v2.ico']\n",
      "['https://nextdoor.com/', 'https://nextdoor.com/', 'https://nextdoor.nl/', 'https://nextdoor.co.uk/', 'https://nextdoor.de/', 'https://fr.nextdoor.com/', 'https://it.nextdoor.com/', 'https://es.nextdoor.com/', 'https://au.nextdoor.com/', 'https://dk.nextdoor.com/', 'https://se.nextdoor.com/', 'https://ca.nextdoor.com/', 'https://ca.nextdoor.com/', 'https://d19rpgkrjeba2z.cloudfront.net/b9b651cc0b575574/static/nextdoorv2/images/favicons/favicon-v2.ico']\n",
      "['https://nextdoor.com/', 'https://nextdoor.com/', 'https://nextdoor.nl/', 'https://nextdoor.co.uk/', 'https://nextdoor.de/', 'https://fr.nextdoor.com/', 'https://it.nextdoor.com/', 'https://es.nextdoor.com/', 'https://au.nextdoor.com/', 'https://dk.nextdoor.com/', 'https://se.nextdoor.com/', 'https://ca.nextdoor.com/', 'https://ca.nextdoor.com/', 'https://d19rpgkrjeba2z.cloudfront.net/b9b651cc0b575574/static/nextdoorv2/images/favicons/favicon-v2.ico']\n"
     ]
    },
    {
     "name": "stderr",
     "output_type": "stream",
     "text": [
      "/home/dan/src/para/venv/lib/python3.6/site-packages/urllib3/connectionpool.py:1004: InsecureRequestWarning: Unverified HTTPS request is being made. Adding certificate verification is strongly advised. See: https://urllib3.readthedocs.io/en/latest/advanced-usage.html#ssl-warnings\n",
      "  InsecureRequestWarning,\n",
      "/home/dan/src/para/venv/lib/python3.6/site-packages/urllib3/connectionpool.py:1004: InsecureRequestWarning: Unverified HTTPS request is being made. Adding certificate verification is strongly advised. See: https://urllib3.readthedocs.io/en/latest/advanced-usage.html#ssl-warnings\n",
      "  InsecureRequestWarning,\n",
      "/home/dan/src/para/venv/lib/python3.6/site-packages/urllib3/connectionpool.py:1004: InsecureRequestWarning: Unverified HTTPS request is being made. Adding certificate verification is strongly advised. See: https://urllib3.readthedocs.io/en/latest/advanced-usage.html#ssl-warnings\n",
      "  InsecureRequestWarning,\n"
     ]
    },
    {
     "name": "stdout",
     "output_type": "stream",
     "text": [
      "['https://nextdoor.com/', 'https://nextdoor.com/', 'https://nextdoor.nl/', 'https://nextdoor.co.uk/', 'https://nextdoor.de/', 'https://fr.nextdoor.com/', 'https://it.nextdoor.com/', 'https://es.nextdoor.com/', 'https://au.nextdoor.com/', 'https://dk.nextdoor.com/', 'https://se.nextdoor.com/', 'https://ca.nextdoor.com/', 'https://ca.nextdoor.com/', 'https://d19rpgkrjeba2z.cloudfront.net/b9b651cc0b575574/static/nextdoorv2/images/favicons/favicon-v2.ico']\n",
      "['https://nextdoor.com/', 'https://nextdoor.com/', 'https://nextdoor.nl/', 'https://nextdoor.co.uk/', 'https://nextdoor.de/', 'https://fr.nextdoor.com/', 'https://it.nextdoor.com/', 'https://es.nextdoor.com/', 'https://au.nextdoor.com/', 'https://dk.nextdoor.com/', 'https://se.nextdoor.com/', 'https://ca.nextdoor.com/', 'https://ca.nextdoor.com/', 'https://d19rpgkrjeba2z.cloudfront.net/b9b651cc0b575574/static/nextdoorv2/images/favicons/favicon-v2.ico']\n",
      "['https://nextdoor.com/', 'https://nextdoor.com/', 'https://nextdoor.nl/', 'https://nextdoor.co.uk/', 'https://nextdoor.de/', 'https://fr.nextdoor.com/', 'https://it.nextdoor.com/', 'https://es.nextdoor.com/', 'https://au.nextdoor.com/', 'https://dk.nextdoor.com/', 'https://se.nextdoor.com/', 'https://ca.nextdoor.com/', 'https://ca.nextdoor.com/', 'https://d19rpgkrjeba2z.cloudfront.net/b9b651cc0b575574/static/nextdoorv2/images/favicons/favicon-v2.ico']\n",
      "['https://nextdoor.com/', 'https://nextdoor.com/', 'https://nextdoor.nl/', 'https://nextdoor.co.uk/', 'https://nextdoor.de/', 'https://fr.nextdoor.com/', 'https://it.nextdoor.com/', 'https://es.nextdoor.com/', 'https://au.nextdoor.com/', 'https://dk.nextdoor.com/', 'https://se.nextdoor.com/', 'https://ca.nextdoor.com/', 'https://ca.nextdoor.com/', 'https://d19rpgkrjeba2z.cloudfront.net/b9b651cc0b575574/static/nextdoorv2/images/favicons/favicon-v2.ico']\n"
     ]
    },
    {
     "name": "stderr",
     "output_type": "stream",
     "text": [
      "/home/dan/src/para/venv/lib/python3.6/site-packages/urllib3/connectionpool.py:1004: InsecureRequestWarning: Unverified HTTPS request is being made. Adding certificate verification is strongly advised. See: https://urllib3.readthedocs.io/en/latest/advanced-usage.html#ssl-warnings\n",
      "  InsecureRequestWarning,\n"
     ]
    },
    {
     "name": "stdout",
     "output_type": "stream",
     "text": [
      "['https://nextdoor.com/', 'https://nextdoor.com/', 'https://nextdoor.nl/', 'https://nextdoor.co.uk/', 'https://nextdoor.de/', 'https://fr.nextdoor.com/', 'https://it.nextdoor.com/', 'https://es.nextdoor.com/', 'https://au.nextdoor.com/', 'https://dk.nextdoor.com/', 'https://se.nextdoor.com/', 'https://ca.nextdoor.com/', 'https://ca.nextdoor.com/', 'https://d19rpgkrjeba2z.cloudfront.net/b9b651cc0b575574/static/nextdoorv2/images/favicons/favicon-v2.ico']\n",
      "['https://nextdoor.com/', 'https://nextdoor.com/', 'https://nextdoor.nl/', 'https://nextdoor.co.uk/', 'https://nextdoor.de/', 'https://fr.nextdoor.com/', 'https://it.nextdoor.com/', 'https://es.nextdoor.com/', 'https://au.nextdoor.com/', 'https://dk.nextdoor.com/', 'https://se.nextdoor.com/', 'https://ca.nextdoor.com/', 'https://ca.nextdoor.com/', 'https://d19rpgkrjeba2z.cloudfront.net/b9b651cc0b575574/static/nextdoorv2/images/favicons/favicon-v2.ico']\n",
      "['https://nextdoor.com/', 'https://nextdoor.com/', 'https://nextdoor.nl/', 'https://nextdoor.co.uk/', 'https://nextdoor.de/', 'https://fr.nextdoor.com/', 'https://it.nextdoor.com/', 'https://es.nextdoor.com/', 'https://au.nextdoor.com/', 'https://dk.nextdoor.com/', 'https://se.nextdoor.com/', 'https://ca.nextdoor.com/', 'https://ca.nextdoor.com/', 'https://d19rpgkrjeba2z.cloudfront.net/b9b651cc0b575574/static/nextdoorv2/images/favicons/favicon-v2.ico']\n",
      "['https://nextdoor.com/', 'https://nextdoor.com/', 'https://nextdoor.nl/', 'https://nextdoor.co.uk/', 'https://nextdoor.de/', 'https://fr.nextdoor.com/', 'https://it.nextdoor.com/', 'https://es.nextdoor.com/', 'https://au.nextdoor.com/', 'https://dk.nextdoor.com/', 'https://se.nextdoor.com/', 'https://ca.nextdoor.com/', 'https://ca.nextdoor.com/', 'https://d19rpgkrjeba2z.cloudfront.net/b9b651cc0b575574/static/nextdoorv2/images/favicons/favicon-v2.ico']\n",
      "['https://nextdoor.com/', 'https://nextdoor.com/', 'https://nextdoor.nl/', 'https://nextdoor.co.uk/', 'https://nextdoor.de/', 'https://fr.nextdoor.com/', 'https://it.nextdoor.com/', 'https://es.nextdoor.com/', 'https://au.nextdoor.com/', 'https://dk.nextdoor.com/', 'https://se.nextdoor.com/', 'https://ca.nextdoor.com/', 'https://ca.nextdoor.com/', 'https://d19rpgkrjeba2z.cloudfront.net/b9b651cc0b575574/static/nextdoorv2/images/favicons/favicon-v2.ico']\n",
      "['https://nextdoor.com/', 'https://nextdoor.com/', 'https://nextdoor.nl/', 'https://nextdoor.co.uk/', 'https://nextdoor.de/', 'https://fr.nextdoor.com/', 'https://it.nextdoor.com/', 'https://es.nextdoor.com/', 'https://au.nextdoor.com/', 'https://dk.nextdoor.com/', 'https://se.nextdoor.com/', 'https://ca.nextdoor.com/', 'https://ca.nextdoor.com/', 'https://d19rpgkrjeba2z.cloudfront.net/b9b651cc0b575574/static/nextdoorv2/images/favicons/favicon-v2.ico']\n",
      "['https://nextdoor.com/', 'https://nextdoor.com/', 'https://nextdoor.nl/', 'https://nextdoor.co.uk/', 'https://nextdoor.de/', 'https://fr.nextdoor.com/', 'https://it.nextdoor.com/', 'https://es.nextdoor.com/', 'https://au.nextdoor.com/', 'https://dk.nextdoor.com/', 'https://se.nextdoor.com/', 'https://ca.nextdoor.com/', 'https://ca.nextdoor.com/', 'https://d19rpgkrjeba2z.cloudfront.net/b9b651cc0b575574/static/nextdoorv2/images/favicons/favicon-v2.ico']\n"
     ]
    }
   ],
   "source": [
    "para.by_thread(handle, ['https://google.com'], 5)"
   ]
  },
  {
   "cell_type": "code",
   "execution_count": null,
   "metadata": {},
   "outputs": [],
   "source": []
  }
 ],
 "metadata": {
  "kernelspec": {
   "display_name": "Python 3",
   "language": "python",
   "name": "python3"
  },
  "language_info": {
   "codemirror_mode": {
    "name": "ipython",
    "version": 3
   },
   "file_extension": ".py",
   "mimetype": "text/x-python",
   "name": "python",
   "nbconvert_exporter": "python",
   "pygments_lexer": "ipython3",
   "version": "3.6.8"
  }
 },
 "nbformat": 4,
 "nbformat_minor": 4
}
