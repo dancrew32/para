{
 "cells": [
  {
   "cell_type": "code",
   "execution_count": 3,
   "metadata": {},
   "outputs": [],
   "source": [
    "import requests\n",
    "import para"
   ]
  },
  {
   "cell_type": "code",
   "execution_count": 4,
   "metadata": {},
   "outputs": [],
   "source": [
    "def handler(url):\n",
    "    import re\n",
    "    data = requests.get(url).content.decode('utf-8')\n",
    "    return re.findall(r'<title>(.*?)</title>', data)\n",
    "\n",
    "def callback(titles):\n",
    "    print(titles)"
   ]
  },
  {
   "cell_type": "code",
   "execution_count": 6,
   "metadata": {},
   "outputs": [
    {
     "name": "stdout",
     "output_type": "stream",
     "text": [
      "['Dan Masquelier - Software Engineer']\n",
      "['Hacker News']\n",
      "['reddit: the front page of the internet', 'Hot', 'Hot', 'Reddit Premium']\n",
      "['Electronics, Cars, Fashion, Collectibles, Coupons and More | eBay']\n",
      "['Dan Masquelier - Software Engineer']\n",
      "['reddit: the front page of the internet', 'Hot', 'Hot', 'Reddit Premium']\n",
      "['Hacker News']\n",
      "['Electronics, Cars, Fashion, Collectibles, Coupons and More | eBay']\n"
     ]
    }
   ],
   "source": [
    "urls = ('http://danmasq.com', 'http://www.ebay.com', 'http://news.ycombinator.com', 'http://reddit.com')\n",
    "para.by_thread(handler, urls, callback, 5)\n",
    "para.by_process(handler, urls, callback, 5)"
   ]
  },
  {
   "cell_type": "code",
   "execution_count": null,
   "metadata": {},
   "outputs": [],
   "source": []
  },
  {
   "cell_type": "code",
   "execution_count": null,
   "metadata": {},
   "outputs": [],
   "source": []
  }
 ],
 "metadata": {
  "kernelspec": {
   "display_name": "Python 3",
   "language": "python",
   "name": "python3"
  },
  "language_info": {
   "codemirror_mode": {
    "name": "ipython",
    "version": 3
   },
   "file_extension": ".py",
   "mimetype": "text/x-python",
   "name": "python",
   "nbconvert_exporter": "python",
   "pygments_lexer": "ipython3",
   "version": "3.6.8"
  }
 },
 "nbformat": 4,
 "nbformat_minor": 4
}
