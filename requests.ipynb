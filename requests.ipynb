{
 "cells": [
  {
   "cell_type": "code",
   "execution_count": 30,
   "metadata": {},
   "outputs": [],
   "source": [
    "import requests\n",
    "import para"
   ]
  },
  {
   "cell_type": "code",
   "execution_count": 20,
   "metadata": {},
   "outputs": [],
   "source": [
    "def handler(url):\n",
    "    import re\n",
    "    data = requests.get(url).content.decode('utf-8')\n",
    "    return re.findall(r'<title>(.*?)</title>', data)"
   ]
  },
  {
   "cell_type": "code",
   "execution_count": 33,
   "metadata": {},
   "outputs": [
    {
     "name": "stdout",
     "output_type": "stream",
     "text": [
      "['Dan Masquelier - Software Engineer']\n",
      "['Hacker News']\n",
      "['reddit: the front page of the internet', 'Hot', 'Hot', 'Reddit Premium']\n",
      "['Nextdoor']\n"
     ]
    }
   ],
   "source": [
    "urls = ('http://danmasq.com', 'http://www.nextdoor.com', 'http://news.ycombinator.com', 'http://reddit.com')\n",
    "para.by_thread(handler, urls, 5)\n",
    "para.by_thread(handler, urls, 5)\n",
    "para.by_thread(handler, urls, 5)\n",
    "para.by_thread(handler, urls, 5)\n",
    "para.by_thread(handler, urls, 5)"
   ]
  }
 ],
 "metadata": {
  "kernelspec": {
   "display_name": "Python 3",
   "language": "python",
   "name": "python3"
  },
  "language_info": {
   "codemirror_mode": {
    "name": "ipython",
    "version": 3
   },
   "file_extension": ".py",
   "mimetype": "text/x-python",
   "name": "python",
   "nbconvert_exporter": "python",
   "pygments_lexer": "ipython3",
   "version": "3.6.8"
  }
 },
 "nbformat": 4,
 "nbformat_minor": 4
}
